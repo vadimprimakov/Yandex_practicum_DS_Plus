{
 "cells": [
  {
   "cell_type": "markdown",
   "id": "c81daeeb",
   "metadata": {
    "deletable": false,
    "id": "c81daeeb"
   },
   "source": [
    "# Исследование надежности заемщиков\n"
   ]
  },
  {
   "cell_type": "markdown",
   "id": "744d7639",
   "metadata": {
    "deletable": false,
    "id": "744d7639"
   },
   "source": [
    "## Откройте таблицу и изучите общую информацию о данных"
   ]
  },
  {
   "cell_type": "markdown",
   "id": "e7a14c31",
   "metadata": {
    "deletable": false,
    "id": "e7a14c31"
   },
   "source": [
    "**Задание 1. Импортируйте библиотеку pandas. Считайте данные из csv-файла в датафрейм и сохраните в переменную `data`. Путь к файлу:**\n",
    "\n",
    "`/datasets/data.csv`"
   ]
  },
  {
   "cell_type": "code",
   "execution_count": 1,
   "id": "7bcf75c9",
   "metadata": {
    "deletable": false,
    "id": "7bcf75c9"
   },
   "outputs": [],
   "source": [
    "import pandas as pd\n",
    "\n",
    "try:\n",
    "    data = pd.read_csv('/datasets/data.csv')\n",
    "except:\n",
    "    data = pd.read_csv('/Users/vadimprimakov/Documents/Yandex_practicum/CSV/03_credit_users.csv')"
   ]
  },
  {
   "cell_type": "markdown",
   "id": "b8038fe3",
   "metadata": {
    "deletable": false,
    "id": "b8038fe3"
   },
   "source": [
    "**Задание 2. Выведите первые 20 строчек датафрейма `data` на экран.**"
   ]
  },
  {
   "cell_type": "code",
   "execution_count": 2,
   "id": "2a7cab99",
   "metadata": {
    "deletable": false,
    "id": "2a7cab99",
    "outputId": "1a8f3ef2-d323-4ec2-ddf7-89670b5944c4"
   },
   "outputs": [
    {
     "data": {
      "text/html": [
       "<div>\n",
       "<style scoped>\n",
       "    .dataframe tbody tr th:only-of-type {\n",
       "        vertical-align: middle;\n",
       "    }\n",
       "\n",
       "    .dataframe tbody tr th {\n",
       "        vertical-align: top;\n",
       "    }\n",
       "\n",
       "    .dataframe thead th {\n",
       "        text-align: right;\n",
       "    }\n",
       "</style>\n",
       "<table border=\"1\" class=\"dataframe\">\n",
       "  <thead>\n",
       "    <tr style=\"text-align: right;\">\n",
       "      <th></th>\n",
       "      <th>children</th>\n",
       "      <th>days_employed</th>\n",
       "      <th>dob_years</th>\n",
       "      <th>education</th>\n",
       "      <th>education_id</th>\n",
       "      <th>family_status</th>\n",
       "      <th>family_status_id</th>\n",
       "      <th>gender</th>\n",
       "      <th>income_type</th>\n",
       "      <th>debt</th>\n",
       "      <th>total_income</th>\n",
       "      <th>purpose</th>\n",
       "    </tr>\n",
       "  </thead>\n",
       "  <tbody>\n",
       "    <tr>\n",
       "      <th>0</th>\n",
       "      <td>1</td>\n",
       "      <td>-8437.673028</td>\n",
       "      <td>42</td>\n",
       "      <td>высшее</td>\n",
       "      <td>0</td>\n",
       "      <td>женат / замужем</td>\n",
       "      <td>0</td>\n",
       "      <td>F</td>\n",
       "      <td>сотрудник</td>\n",
       "      <td>0</td>\n",
       "      <td>253875.639453</td>\n",
       "      <td>покупка жилья</td>\n",
       "    </tr>\n",
       "    <tr>\n",
       "      <th>1</th>\n",
       "      <td>1</td>\n",
       "      <td>-4024.803754</td>\n",
       "      <td>36</td>\n",
       "      <td>среднее</td>\n",
       "      <td>1</td>\n",
       "      <td>женат / замужем</td>\n",
       "      <td>0</td>\n",
       "      <td>F</td>\n",
       "      <td>сотрудник</td>\n",
       "      <td>0</td>\n",
       "      <td>112080.014102</td>\n",
       "      <td>приобретение автомобиля</td>\n",
       "    </tr>\n",
       "    <tr>\n",
       "      <th>2</th>\n",
       "      <td>0</td>\n",
       "      <td>-5623.422610</td>\n",
       "      <td>33</td>\n",
       "      <td>Среднее</td>\n",
       "      <td>1</td>\n",
       "      <td>женат / замужем</td>\n",
       "      <td>0</td>\n",
       "      <td>M</td>\n",
       "      <td>сотрудник</td>\n",
       "      <td>0</td>\n",
       "      <td>145885.952297</td>\n",
       "      <td>покупка жилья</td>\n",
       "    </tr>\n",
       "    <tr>\n",
       "      <th>3</th>\n",
       "      <td>3</td>\n",
       "      <td>-4124.747207</td>\n",
       "      <td>32</td>\n",
       "      <td>среднее</td>\n",
       "      <td>1</td>\n",
       "      <td>женат / замужем</td>\n",
       "      <td>0</td>\n",
       "      <td>M</td>\n",
       "      <td>сотрудник</td>\n",
       "      <td>0</td>\n",
       "      <td>267628.550329</td>\n",
       "      <td>дополнительное образование</td>\n",
       "    </tr>\n",
       "    <tr>\n",
       "      <th>4</th>\n",
       "      <td>0</td>\n",
       "      <td>340266.072047</td>\n",
       "      <td>53</td>\n",
       "      <td>среднее</td>\n",
       "      <td>1</td>\n",
       "      <td>гражданский брак</td>\n",
       "      <td>1</td>\n",
       "      <td>F</td>\n",
       "      <td>пенсионер</td>\n",
       "      <td>0</td>\n",
       "      <td>158616.077870</td>\n",
       "      <td>сыграть свадьбу</td>\n",
       "    </tr>\n",
       "    <tr>\n",
       "      <th>5</th>\n",
       "      <td>0</td>\n",
       "      <td>-926.185831</td>\n",
       "      <td>27</td>\n",
       "      <td>высшее</td>\n",
       "      <td>0</td>\n",
       "      <td>гражданский брак</td>\n",
       "      <td>1</td>\n",
       "      <td>M</td>\n",
       "      <td>компаньон</td>\n",
       "      <td>0</td>\n",
       "      <td>255763.565419</td>\n",
       "      <td>покупка жилья</td>\n",
       "    </tr>\n",
       "    <tr>\n",
       "      <th>6</th>\n",
       "      <td>0</td>\n",
       "      <td>-2879.202052</td>\n",
       "      <td>43</td>\n",
       "      <td>высшее</td>\n",
       "      <td>0</td>\n",
       "      <td>женат / замужем</td>\n",
       "      <td>0</td>\n",
       "      <td>F</td>\n",
       "      <td>компаньон</td>\n",
       "      <td>0</td>\n",
       "      <td>240525.971920</td>\n",
       "      <td>операции с жильем</td>\n",
       "    </tr>\n",
       "    <tr>\n",
       "      <th>7</th>\n",
       "      <td>0</td>\n",
       "      <td>-152.779569</td>\n",
       "      <td>50</td>\n",
       "      <td>СРЕДНЕЕ</td>\n",
       "      <td>1</td>\n",
       "      <td>женат / замужем</td>\n",
       "      <td>0</td>\n",
       "      <td>M</td>\n",
       "      <td>сотрудник</td>\n",
       "      <td>0</td>\n",
       "      <td>135823.934197</td>\n",
       "      <td>образование</td>\n",
       "    </tr>\n",
       "    <tr>\n",
       "      <th>8</th>\n",
       "      <td>2</td>\n",
       "      <td>-6929.865299</td>\n",
       "      <td>35</td>\n",
       "      <td>ВЫСШЕЕ</td>\n",
       "      <td>0</td>\n",
       "      <td>гражданский брак</td>\n",
       "      <td>1</td>\n",
       "      <td>F</td>\n",
       "      <td>сотрудник</td>\n",
       "      <td>0</td>\n",
       "      <td>95856.832424</td>\n",
       "      <td>на проведение свадьбы</td>\n",
       "    </tr>\n",
       "    <tr>\n",
       "      <th>9</th>\n",
       "      <td>0</td>\n",
       "      <td>-2188.756445</td>\n",
       "      <td>41</td>\n",
       "      <td>среднее</td>\n",
       "      <td>1</td>\n",
       "      <td>женат / замужем</td>\n",
       "      <td>0</td>\n",
       "      <td>M</td>\n",
       "      <td>сотрудник</td>\n",
       "      <td>0</td>\n",
       "      <td>144425.938277</td>\n",
       "      <td>покупка жилья для семьи</td>\n",
       "    </tr>\n",
       "    <tr>\n",
       "      <th>10</th>\n",
       "      <td>2</td>\n",
       "      <td>-4171.483647</td>\n",
       "      <td>36</td>\n",
       "      <td>высшее</td>\n",
       "      <td>0</td>\n",
       "      <td>женат / замужем</td>\n",
       "      <td>0</td>\n",
       "      <td>M</td>\n",
       "      <td>компаньон</td>\n",
       "      <td>0</td>\n",
       "      <td>113943.491460</td>\n",
       "      <td>покупка недвижимости</td>\n",
       "    </tr>\n",
       "    <tr>\n",
       "      <th>11</th>\n",
       "      <td>0</td>\n",
       "      <td>-792.701887</td>\n",
       "      <td>40</td>\n",
       "      <td>среднее</td>\n",
       "      <td>1</td>\n",
       "      <td>женат / замужем</td>\n",
       "      <td>0</td>\n",
       "      <td>F</td>\n",
       "      <td>сотрудник</td>\n",
       "      <td>0</td>\n",
       "      <td>77069.234271</td>\n",
       "      <td>покупка коммерческой недвижимости</td>\n",
       "    </tr>\n",
       "    <tr>\n",
       "      <th>12</th>\n",
       "      <td>0</td>\n",
       "      <td>NaN</td>\n",
       "      <td>65</td>\n",
       "      <td>среднее</td>\n",
       "      <td>1</td>\n",
       "      <td>гражданский брак</td>\n",
       "      <td>1</td>\n",
       "      <td>M</td>\n",
       "      <td>пенсионер</td>\n",
       "      <td>0</td>\n",
       "      <td>NaN</td>\n",
       "      <td>сыграть свадьбу</td>\n",
       "    </tr>\n",
       "    <tr>\n",
       "      <th>13</th>\n",
       "      <td>0</td>\n",
       "      <td>-1846.641941</td>\n",
       "      <td>54</td>\n",
       "      <td>неоконченное высшее</td>\n",
       "      <td>2</td>\n",
       "      <td>женат / замужем</td>\n",
       "      <td>0</td>\n",
       "      <td>F</td>\n",
       "      <td>сотрудник</td>\n",
       "      <td>0</td>\n",
       "      <td>130458.228857</td>\n",
       "      <td>приобретение автомобиля</td>\n",
       "    </tr>\n",
       "    <tr>\n",
       "      <th>14</th>\n",
       "      <td>0</td>\n",
       "      <td>-1844.956182</td>\n",
       "      <td>56</td>\n",
       "      <td>высшее</td>\n",
       "      <td>0</td>\n",
       "      <td>гражданский брак</td>\n",
       "      <td>1</td>\n",
       "      <td>F</td>\n",
       "      <td>компаньон</td>\n",
       "      <td>1</td>\n",
       "      <td>165127.911772</td>\n",
       "      <td>покупка жилой недвижимости</td>\n",
       "    </tr>\n",
       "    <tr>\n",
       "      <th>15</th>\n",
       "      <td>1</td>\n",
       "      <td>-972.364419</td>\n",
       "      <td>26</td>\n",
       "      <td>среднее</td>\n",
       "      <td>1</td>\n",
       "      <td>женат / замужем</td>\n",
       "      <td>0</td>\n",
       "      <td>F</td>\n",
       "      <td>сотрудник</td>\n",
       "      <td>0</td>\n",
       "      <td>116820.904450</td>\n",
       "      <td>строительство собственной недвижимости</td>\n",
       "    </tr>\n",
       "    <tr>\n",
       "      <th>16</th>\n",
       "      <td>0</td>\n",
       "      <td>-1719.934226</td>\n",
       "      <td>35</td>\n",
       "      <td>среднее</td>\n",
       "      <td>1</td>\n",
       "      <td>женат / замужем</td>\n",
       "      <td>0</td>\n",
       "      <td>F</td>\n",
       "      <td>сотрудник</td>\n",
       "      <td>0</td>\n",
       "      <td>289202.704229</td>\n",
       "      <td>недвижимость</td>\n",
       "    </tr>\n",
       "    <tr>\n",
       "      <th>17</th>\n",
       "      <td>0</td>\n",
       "      <td>-2369.999720</td>\n",
       "      <td>33</td>\n",
       "      <td>высшее</td>\n",
       "      <td>0</td>\n",
       "      <td>гражданский брак</td>\n",
       "      <td>1</td>\n",
       "      <td>M</td>\n",
       "      <td>сотрудник</td>\n",
       "      <td>0</td>\n",
       "      <td>90410.586745</td>\n",
       "      <td>строительство недвижимости</td>\n",
       "    </tr>\n",
       "    <tr>\n",
       "      <th>18</th>\n",
       "      <td>0</td>\n",
       "      <td>400281.136913</td>\n",
       "      <td>53</td>\n",
       "      <td>среднее</td>\n",
       "      <td>1</td>\n",
       "      <td>вдовец / вдова</td>\n",
       "      <td>2</td>\n",
       "      <td>F</td>\n",
       "      <td>пенсионер</td>\n",
       "      <td>0</td>\n",
       "      <td>56823.777243</td>\n",
       "      <td>на покупку подержанного автомобиля</td>\n",
       "    </tr>\n",
       "    <tr>\n",
       "      <th>19</th>\n",
       "      <td>0</td>\n",
       "      <td>-10038.818549</td>\n",
       "      <td>48</td>\n",
       "      <td>СРЕДНЕЕ</td>\n",
       "      <td>1</td>\n",
       "      <td>в разводе</td>\n",
       "      <td>3</td>\n",
       "      <td>F</td>\n",
       "      <td>сотрудник</td>\n",
       "      <td>0</td>\n",
       "      <td>242831.107982</td>\n",
       "      <td>на покупку своего автомобиля</td>\n",
       "    </tr>\n",
       "  </tbody>\n",
       "</table>\n",
       "</div>"
      ],
      "text/plain": [
       "    children  days_employed  dob_years            education  education_id  \\\n",
       "0          1   -8437.673028         42               высшее             0   \n",
       "1          1   -4024.803754         36              среднее             1   \n",
       "2          0   -5623.422610         33              Среднее             1   \n",
       "3          3   -4124.747207         32              среднее             1   \n",
       "4          0  340266.072047         53              среднее             1   \n",
       "5          0    -926.185831         27               высшее             0   \n",
       "6          0   -2879.202052         43               высшее             0   \n",
       "7          0    -152.779569         50              СРЕДНЕЕ             1   \n",
       "8          2   -6929.865299         35               ВЫСШЕЕ             0   \n",
       "9          0   -2188.756445         41              среднее             1   \n",
       "10         2   -4171.483647         36               высшее             0   \n",
       "11         0    -792.701887         40              среднее             1   \n",
       "12         0            NaN         65              среднее             1   \n",
       "13         0   -1846.641941         54  неоконченное высшее             2   \n",
       "14         0   -1844.956182         56               высшее             0   \n",
       "15         1    -972.364419         26              среднее             1   \n",
       "16         0   -1719.934226         35              среднее             1   \n",
       "17         0   -2369.999720         33               высшее             0   \n",
       "18         0  400281.136913         53              среднее             1   \n",
       "19         0  -10038.818549         48              СРЕДНЕЕ             1   \n",
       "\n",
       "       family_status  family_status_id gender income_type  debt  \\\n",
       "0    женат / замужем                 0      F   сотрудник     0   \n",
       "1    женат / замужем                 0      F   сотрудник     0   \n",
       "2    женат / замужем                 0      M   сотрудник     0   \n",
       "3    женат / замужем                 0      M   сотрудник     0   \n",
       "4   гражданский брак                 1      F   пенсионер     0   \n",
       "5   гражданский брак                 1      M   компаньон     0   \n",
       "6    женат / замужем                 0      F   компаньон     0   \n",
       "7    женат / замужем                 0      M   сотрудник     0   \n",
       "8   гражданский брак                 1      F   сотрудник     0   \n",
       "9    женат / замужем                 0      M   сотрудник     0   \n",
       "10   женат / замужем                 0      M   компаньон     0   \n",
       "11   женат / замужем                 0      F   сотрудник     0   \n",
       "12  гражданский брак                 1      M   пенсионер     0   \n",
       "13   женат / замужем                 0      F   сотрудник     0   \n",
       "14  гражданский брак                 1      F   компаньон     1   \n",
       "15   женат / замужем                 0      F   сотрудник     0   \n",
       "16   женат / замужем                 0      F   сотрудник     0   \n",
       "17  гражданский брак                 1      M   сотрудник     0   \n",
       "18    вдовец / вдова                 2      F   пенсионер     0   \n",
       "19         в разводе                 3      F   сотрудник     0   \n",
       "\n",
       "     total_income                                 purpose  \n",
       "0   253875.639453                           покупка жилья  \n",
       "1   112080.014102                 приобретение автомобиля  \n",
       "2   145885.952297                           покупка жилья  \n",
       "3   267628.550329              дополнительное образование  \n",
       "4   158616.077870                         сыграть свадьбу  \n",
       "5   255763.565419                           покупка жилья  \n",
       "6   240525.971920                       операции с жильем  \n",
       "7   135823.934197                             образование  \n",
       "8    95856.832424                   на проведение свадьбы  \n",
       "9   144425.938277                 покупка жилья для семьи  \n",
       "10  113943.491460                    покупка недвижимости  \n",
       "11   77069.234271       покупка коммерческой недвижимости  \n",
       "12            NaN                         сыграть свадьбу  \n",
       "13  130458.228857                 приобретение автомобиля  \n",
       "14  165127.911772              покупка жилой недвижимости  \n",
       "15  116820.904450  строительство собственной недвижимости  \n",
       "16  289202.704229                            недвижимость  \n",
       "17   90410.586745              строительство недвижимости  \n",
       "18   56823.777243      на покупку подержанного автомобиля  \n",
       "19  242831.107982            на покупку своего автомобиля  "
      ]
     },
     "execution_count": 2,
     "metadata": {},
     "output_type": "execute_result"
    }
   ],
   "source": [
    "data.head(20)\n"
   ]
  },
  {
   "cell_type": "markdown",
   "id": "1c12e233",
   "metadata": {
    "deletable": false,
    "id": "1c12e233"
   },
   "source": [
    "**Задание 3. Выведите основную информацию о датафрейме с помощью метода `info()`.**"
   ]
  },
  {
   "cell_type": "code",
   "execution_count": 4,
   "id": "2b757bca",
   "metadata": {
    "deletable": false,
    "id": "2b757bca",
    "outputId": "15376089-8dad-46c9-b520-c05248d43158"
   },
   "outputs": [
    {
     "name": "stdout",
     "output_type": "stream",
     "text": [
      "<class 'pandas.core.frame.DataFrame'>\n",
      "RangeIndex: 21525 entries, 0 to 21524\n",
      "Data columns (total 12 columns):\n",
      " #   Column            Non-Null Count  Dtype  \n",
      "---  ------            --------------  -----  \n",
      " 0   children          21525 non-null  int64  \n",
      " 1   days_employed     19351 non-null  float64\n",
      " 2   dob_years         21525 non-null  int64  \n",
      " 3   education         21525 non-null  object \n",
      " 4   education_id      21525 non-null  int64  \n",
      " 5   family_status     21525 non-null  object \n",
      " 6   family_status_id  21525 non-null  int64  \n",
      " 7   gender            21525 non-null  object \n",
      " 8   income_type       21525 non-null  object \n",
      " 9   debt              21525 non-null  int64  \n",
      " 10  total_income      19351 non-null  float64\n",
      " 11  purpose           21525 non-null  object \n",
      "dtypes: float64(2), int64(5), object(5)\n",
      "memory usage: 2.0+ MB\n"
     ]
    }
   ],
   "source": [
    "data.info()"
   ]
  },
  {
   "cell_type": "markdown",
   "id": "333ec665",
   "metadata": {
    "deletable": false,
    "id": "333ec665"
   },
   "source": [
    "## Предобработка данных"
   ]
  },
  {
   "cell_type": "markdown",
   "id": "02d92d53",
   "metadata": {
    "deletable": false,
    "id": "02d92d53"
   },
   "source": [
    "### Удаление пропусков"
   ]
  },
  {
   "cell_type": "markdown",
   "id": "cd84967c",
   "metadata": {
    "deletable": false,
    "id": "cd84967c"
   },
   "source": [
    "**Задание 4. Выведите количество пропущенных значений для каждого столбца. Используйте комбинацию двух методов.**"
   ]
  },
  {
   "cell_type": "code",
   "execution_count": 5,
   "id": "7f9b2309",
   "metadata": {
    "deletable": false,
    "id": "7f9b2309",
    "outputId": "81f4d817-781c-465c-ed15-91ce4446810d"
   },
   "outputs": [
    {
     "data": {
      "text/plain": [
       "children               0\n",
       "days_employed       2174\n",
       "dob_years              0\n",
       "education              0\n",
       "education_id           0\n",
       "family_status          0\n",
       "family_status_id       0\n",
       "gender                 0\n",
       "income_type            0\n",
       "debt                   0\n",
       "total_income        2174\n",
       "purpose                0\n",
       "dtype: int64"
      ]
     },
     "execution_count": 5,
     "metadata": {},
     "output_type": "execute_result"
    }
   ],
   "source": [
    "data.isna().sum()"
   ]
  },
  {
   "cell_type": "markdown",
   "id": "db86e27b",
   "metadata": {
    "deletable": false,
    "id": "db86e27b"
   },
   "source": [
    "**Задание 5. В двух столбцах есть пропущенные значения. Один из них — `days_employed`. Пропуски в этом столбце вы обработаете на следующем этапе. Другой столбец с пропущенными значениями — `total_income` — хранит данные о доходах. На сумму дохода сильнее всего влияет тип занятости, поэтому заполнить пропуски в этом столбце нужно медианным значением по каждому типу из столбца `income_type`. Например, у человека с типом занятости `сотрудник` пропуск в столбце `total_income` должен быть заполнен медианным доходом среди всех записей с тем же типом.**"
   ]
  },
  {
   "cell_type": "code",
   "execution_count": 6,
   "id": "42006a93",
   "metadata": {
    "deletable": false,
    "id": "42006a93"
   },
   "outputs": [],
   "source": [
    "for t in data['income_type'].unique():\n",
    "    data.loc[(data['income_type'] == t) & (data['total_income'].isna()), 'total_income'] = \\\n",
    "    data.loc[(data['income_type'] == t), 'total_income'].median()"
   ]
  },
  {
   "cell_type": "markdown",
   "id": "89da5ece",
   "metadata": {
    "deletable": false,
    "id": "89da5ece"
   },
   "source": [
    "### Обработка аномальных значений"
   ]
  },
  {
   "cell_type": "markdown",
   "id": "57964554",
   "metadata": {
    "deletable": false,
    "id": "57964554"
   },
   "source": [
    "**Задание 6. В данных могут встречаться артефакты (аномалии) — значения, которые не отражают действительность и появились по какой-то ошибке. таким артефактом будет отрицательное количество дней трудового стажа в столбце `days_employed`. Для реальных данных это нормально. Обработайте значения в этом столбце: замените все отрицательные значения положительными с помощью метода `abs()`.**"
   ]
  },
  {
   "cell_type": "code",
   "execution_count": 7,
   "id": "f6f055bf",
   "metadata": {
    "deletable": false,
    "id": "f6f055bf"
   },
   "outputs": [],
   "source": [
    "data['days_employed'] = data['days_employed'].abs()"
   ]
  },
  {
   "cell_type": "markdown",
   "id": "6107dd2f",
   "metadata": {
    "deletable": false,
    "id": "6107dd2f"
   },
   "source": [
    "**Задание 7. Для каждого типа занятости выведите медианное значение трудового стажа `days_employed` в днях.**"
   ]
  },
  {
   "cell_type": "code",
   "execution_count": 8,
   "id": "85a5faf6",
   "metadata": {
    "deletable": false,
    "id": "85a5faf6",
    "outputId": "801ef80e-522b-4668-f34e-565af7432bcf"
   },
   "outputs": [
    {
     "data": {
      "text/plain": [
       "income_type\n",
       "безработный        366413.652744\n",
       "в декрете            3296.759962\n",
       "госслужащий          2689.368353\n",
       "компаньон            1547.382223\n",
       "пенсионер          365213.306266\n",
       "предприниматель       520.848083\n",
       "сотрудник            1574.202821\n",
       "студент               578.751554\n",
       "Name: days_employed, dtype: float64"
      ]
     },
     "execution_count": 8,
     "metadata": {},
     "output_type": "execute_result"
    }
   ],
   "source": [
    "data.groupby('income_type')['days_employed'].agg('median')"
   ]
  },
  {
   "cell_type": "markdown",
   "id": "38d1a030",
   "metadata": {
    "deletable": false,
    "id": "38d1a030"
   },
   "source": [
    "У двух типов (безработные и пенсионеры) получатся аномально большие значения. Исправить такие значения сложно, поэтому оставьте их как есть. Тем более этот столбец не понадобится вам для исследования."
   ]
  },
  {
   "cell_type": "markdown",
   "id": "d8a9f147",
   "metadata": {
    "deletable": false,
    "id": "d8a9f147"
   },
   "source": [
    "**Задание 8. Выведите перечень уникальных значений столбца `children`.**"
   ]
  },
  {
   "cell_type": "code",
   "execution_count": 9,
   "id": "ef5056eb",
   "metadata": {
    "deletable": false,
    "id": "ef5056eb",
    "outputId": "6975b15c-7f95-4697-d16d-a0c79b657b03"
   },
   "outputs": [
    {
     "data": {
      "text/plain": [
       "array([ 1,  0,  3,  2, -1,  4, 20,  5])"
      ]
     },
     "execution_count": 9,
     "metadata": {},
     "output_type": "execute_result"
    }
   ],
   "source": [
    "data['children'].unique()"
   ]
  },
  {
   "cell_type": "markdown",
   "id": "40b9ebf2",
   "metadata": {
    "deletable": false,
    "id": "40b9ebf2"
   },
   "source": [
    "**Задание 9. В столбце `children` есть два аномальных значения. Удалите строки, в которых встречаются такие аномальные значения из датафрейма `data`.**"
   ]
  },
  {
   "cell_type": "code",
   "execution_count": 10,
   "id": "3ff9801d",
   "metadata": {
    "deletable": false,
    "id": "3ff9801d"
   },
   "outputs": [],
   "source": [
    "data = data[(data['children'] != -1) & (data['children'] != 20)]"
   ]
  },
  {
   "cell_type": "markdown",
   "id": "bbc4d0ce",
   "metadata": {
    "deletable": false,
    "id": "bbc4d0ce"
   },
   "source": [
    "**Задание 10. Ещё раз выведите перечень уникальных значений столбца `children`, чтобы убедиться, что артефакты удалены.**"
   ]
  },
  {
   "cell_type": "code",
   "execution_count": 11,
   "id": "ad4fa8b7",
   "metadata": {
    "deletable": false,
    "id": "ad4fa8b7",
    "outputId": "b2097101-d49d-44d9-901b-32a65c9463d1"
   },
   "outputs": [
    {
     "data": {
      "text/plain": [
       "array([1, 0, 3, 2, 4, 5])"
      ]
     },
     "execution_count": 11,
     "metadata": {},
     "output_type": "execute_result"
    }
   ],
   "source": [
    "data['children'].unique()"
   ]
  },
  {
   "cell_type": "markdown",
   "id": "75440b63",
   "metadata": {
    "deletable": false,
    "id": "75440b63"
   },
   "source": [
    "### Удаление пропусков (продолжение)"
   ]
  },
  {
   "cell_type": "markdown",
   "id": "f4ea573f",
   "metadata": {
    "deletable": false,
    "id": "f4ea573f"
   },
   "source": [
    "**Задание 11. Заполните пропуски в столбце `days_employed` медианными значениями по каждого типа занятости `income_type`.**"
   ]
  },
  {
   "cell_type": "code",
   "execution_count": 12,
   "id": "af6b1a7e",
   "metadata": {
    "deletable": false,
    "id": "af6b1a7e"
   },
   "outputs": [],
   "source": [
    "for t in data['income_type'].unique():\n",
    "    data.loc[(data['income_type'] == t) & (data['days_employed'].isna()), 'days_employed'] = \\\n",
    "    data.loc[(data['income_type'] == t), 'days_employed'].median()"
   ]
  },
  {
   "cell_type": "markdown",
   "id": "2753f40d",
   "metadata": {
    "deletable": false,
    "id": "2753f40d"
   },
   "source": [
    "**Задание 12. Убедитесь, что все пропуски заполнены. Проверьте себя и ещё раз выведите количество пропущенных значений для каждого столбца с помощью двух методов.**"
   ]
  },
  {
   "cell_type": "code",
   "execution_count": 13,
   "id": "55f78bc2",
   "metadata": {
    "deletable": false,
    "id": "55f78bc2",
    "outputId": "8da1e4e1-358e-4e87-98c9-f261bce0a7b2"
   },
   "outputs": [
    {
     "data": {
      "text/plain": [
       "children            0\n",
       "days_employed       0\n",
       "dob_years           0\n",
       "education           0\n",
       "education_id        0\n",
       "family_status       0\n",
       "family_status_id    0\n",
       "gender              0\n",
       "income_type         0\n",
       "debt                0\n",
       "total_income        0\n",
       "purpose             0\n",
       "dtype: int64"
      ]
     },
     "execution_count": 13,
     "metadata": {},
     "output_type": "execute_result"
    }
   ],
   "source": [
    "data.isna().sum()"
   ]
  },
  {
   "cell_type": "markdown",
   "id": "ddc81e43",
   "metadata": {
    "deletable": false,
    "id": "ddc81e43"
   },
   "source": [
    "### Изменение типов данных"
   ]
  },
  {
   "cell_type": "markdown",
   "id": "42d19d24",
   "metadata": {
    "deletable": false,
    "id": "42d19d24"
   },
   "source": [
    "**Задание 13. Замените вещественный тип данных в столбце `total_income` на целочисленный с помощью метода `astype()`.**"
   ]
  },
  {
   "cell_type": "code",
   "execution_count": 14,
   "id": "920b65ad",
   "metadata": {
    "deletable": false,
    "id": "920b65ad"
   },
   "outputs": [],
   "source": [
    "data['total_income'] = data['total_income'].astype(int)"
   ]
  },
  {
   "cell_type": "markdown",
   "id": "80c420ba",
   "metadata": {
    "deletable": false,
    "id": "80c420ba"
   },
   "source": [
    "### Обработка дубликатов"
   ]
  },
  {
   "cell_type": "markdown",
   "id": "dc587695",
   "metadata": {
    "deletable": false,
    "id": "dc587695"
   },
   "source": [
    "**Задание 14. Выведите на экран количество строк-дубликатов в данных. Если такие строки присутствуют, удалите их.**"
   ]
  },
  {
   "cell_type": "code",
   "execution_count": 15,
   "id": "3ee445e4",
   "metadata": {
    "deletable": false,
    "id": "3ee445e4",
    "outputId": "9684deba-1934-42d1-99e1-cda61740f822"
   },
   "outputs": [
    {
     "data": {
      "text/plain": [
       "54"
      ]
     },
     "execution_count": 15,
     "metadata": {},
     "output_type": "execute_result"
    }
   ],
   "source": [
    "data.duplicated().sum()"
   ]
  },
  {
   "cell_type": "code",
   "execution_count": 16,
   "id": "8575fe05",
   "metadata": {
    "deletable": false,
    "id": "8575fe05"
   },
   "outputs": [],
   "source": [
    "data = data.drop_duplicates()"
   ]
  },
  {
   "cell_type": "markdown",
   "id": "9771a76c",
   "metadata": {
    "deletable": false,
    "id": "9771a76c"
   },
   "source": [
    "**Задание 15. Обработайте неявные дубликаты в столбце `education`. В этом столбце есть одни и те же значения, но записанные по-разному: с использованием заглавных и строчных букв. Приведите их к нижнему регистру. Проверьте остальные столбцы.**"
   ]
  },
  {
   "cell_type": "code",
   "execution_count": 17,
   "id": "a9f8e2bf",
   "metadata": {
    "deletable": false,
    "id": "a9f8e2bf"
   },
   "outputs": [],
   "source": [
    "data['education'] = data['education'].str.lower()"
   ]
  },
  {
   "cell_type": "markdown",
   "id": "9904cf55",
   "metadata": {
    "deletable": false,
    "id": "9904cf55"
   },
   "source": [
    "### Категоризация данных"
   ]
  },
  {
   "cell_type": "markdown",
   "id": "72fcc8a2",
   "metadata": {
    "deletable": false,
    "id": "72fcc8a2"
   },
   "source": [
    "**Задание 16. На основании диапазонов, указанных ниже, создайте в датафрейме `data` столбец `total_income_category` с категориями:**\n",
    "\n",
    "- 0–30000 — `'E'`;\n",
    "- 30001–50000 — `'D'`;\n",
    "- 50001–200000 — `'C'`;\n",
    "- 200001–1000000 — `'B'`;\n",
    "- 1000001 и выше — `'A'`.\n",
    "\n",
    "\n",
    "**Например, кредитополучателю с доходом 25000 нужно назначить категорию `'E'`, а клиенту, получающему 235000, — `'B'`. Используйте собственную функцию с именем `categorize_income()` и метод `apply()`.**"
   ]
  },
  {
   "cell_type": "code",
   "execution_count": 18,
   "id": "e1771346",
   "metadata": {
    "deletable": false,
    "id": "e1771346"
   },
   "outputs": [],
   "source": [
    "def categorize_income(income):\n",
    "    try:\n",
    "        if 0 <= income <= 30000:\n",
    "            return 'E'\n",
    "        elif 30001 <= income <= 50000:\n",
    "            return 'D'\n",
    "        elif 50001 <= income <= 200000:\n",
    "            return 'C'\n",
    "        elif 200001 <= income <= 1000000:\n",
    "            return 'B'\n",
    "        elif income >= 1000001:\n",
    "            return 'A'\n",
    "    except:\n",
    "        pass"
   ]
  },
  {
   "cell_type": "code",
   "execution_count": 19,
   "id": "d5f3586d",
   "metadata": {
    "deletable": false,
    "id": "d5f3586d"
   },
   "outputs": [],
   "source": [
    "data['total_income_category'] = data['total_income'].apply(categorize_income)"
   ]
  },
  {
   "cell_type": "markdown",
   "id": "dde49b5c",
   "metadata": {
    "deletable": false,
    "id": "dde49b5c"
   },
   "source": [
    "**Задание 17. Выведите на экран перечень уникальных целей взятия кредита из столбца `purpose`.**"
   ]
  },
  {
   "cell_type": "code",
   "execution_count": 20,
   "id": "f67ce9b3",
   "metadata": {
    "deletable": false,
    "id": "f67ce9b3",
    "outputId": "673c12d9-7d7e-4ae0-9812-c622c89dd244"
   },
   "outputs": [
    {
     "data": {
      "text/plain": [
       "array(['покупка жилья', 'приобретение автомобиля',\n",
       "       'дополнительное образование', 'сыграть свадьбу',\n",
       "       'операции с жильем', 'образование', 'на проведение свадьбы',\n",
       "       'покупка жилья для семьи', 'покупка недвижимости',\n",
       "       'покупка коммерческой недвижимости', 'покупка жилой недвижимости',\n",
       "       'строительство собственной недвижимости', 'недвижимость',\n",
       "       'строительство недвижимости', 'на покупку подержанного автомобиля',\n",
       "       'на покупку своего автомобиля',\n",
       "       'операции с коммерческой недвижимостью',\n",
       "       'строительство жилой недвижимости', 'жилье',\n",
       "       'операции со своей недвижимостью', 'автомобили',\n",
       "       'заняться образованием', 'сделка с подержанным автомобилем',\n",
       "       'получение образования', 'автомобиль', 'свадьба',\n",
       "       'получение дополнительного образования', 'покупка своего жилья',\n",
       "       'операции с недвижимостью', 'получение высшего образования',\n",
       "       'свой автомобиль', 'сделка с автомобилем',\n",
       "       'профильное образование', 'высшее образование',\n",
       "       'покупка жилья для сдачи', 'на покупку автомобиля', 'ремонт жилью',\n",
       "       'заняться высшим образованием'], dtype=object)"
      ]
     },
     "execution_count": 20,
     "metadata": {},
     "output_type": "execute_result"
    }
   ],
   "source": [
    "data['purpose'].unique()"
   ]
  },
  {
   "cell_type": "markdown",
   "id": "85d0aef0",
   "metadata": {
    "deletable": false,
    "id": "85d0aef0"
   },
   "source": [
    "**Задание 18. Создайте функцию, которая на основании данных из столбца `purpose` сформирует новый столбец `purpose_category`, в который войдут следующие категории:**\n",
    "\n",
    "- `'операции с автомобилем'`,\n",
    "- `'операции с недвижимостью'`,\n",
    "- `'проведение свадьбы'`,\n",
    "- `'получение образования'`.\n",
    "\n",
    "**Например, если в столбце `purpose` находится подстрока `'на покупку автомобиля'`, то в столбце `purpose_category` должна появиться строка `'операции с автомобилем'`.**\n",
    "\n",
    "**Используйте собственную функцию с именем `categorize_purpose()` и метод `apply()`. Изучите данные в столбце `purpose` и определите, какие подстроки помогут вам правильно определить категорию.**"
   ]
  },
  {
   "cell_type": "code",
   "execution_count": 21,
   "id": "e149fab4",
   "metadata": {
    "deletable": false,
    "id": "e149fab4"
   },
   "outputs": [],
   "source": [
    "def categorize_purpose(row):\n",
    "    try:\n",
    "        if 'автом' in row:\n",
    "            return 'операции с автомобилем'\n",
    "        elif 'жил' in row or 'недвиж' in row:\n",
    "            return 'операции с недвижимостью'\n",
    "        elif 'свад' in row:\n",
    "            return 'проведение свадьбы'\n",
    "        elif 'образов' in row:\n",
    "            return 'получение образования'\n",
    "    except:\n",
    "        return 'нет категории'"
   ]
  },
  {
   "cell_type": "code",
   "execution_count": 22,
   "id": "bf36e69b",
   "metadata": {
    "deletable": false,
    "id": "bf36e69b"
   },
   "outputs": [],
   "source": [
    "data['purpose_category'] = data['purpose'].apply(categorize_purpose)"
   ]
  },
  {
   "cell_type": "markdown",
   "id": "09b242bf",
   "metadata": {
    "deletable": false,
    "editable": false,
    "id": "09b242bf"
   },
   "source": [
    "## Исследуйте данные и ответьте на вопросы"
   ]
  },
  {
   "cell_type": "markdown",
   "id": "c5d66278",
   "metadata": {
    "deletable": false,
    "editable": false,
    "id": "c5d66278"
   },
   "source": [
    "**Задание 19. Есть ли зависимость между количеством детей и возвратом кредита в срок?**"
   ]
  },
  {
   "cell_type": "markdown",
   "id": "ba72fc84",
   "metadata": {
    "id": "2cacfc4a"
   },
   "source": [
    "<div class=\"alert alert-info\">\n",
    "<h2> Описание выполнения задания</h2>\n",
    "    \n",
    "Составим функцию analyze_column, которая будет выполнять следующие дествия: <br>\n",
    "Составить новую таблицу column_debt_relation. Для этого сгруппируем данные по 'column' а колонку 'debt'  \n",
    "выберем как показатель для сравнения.   \n",
    "Посчитаем и добавим в таблицу количество записей всего для группы из столбца column, — методом count()\n",
    "(см. overall_debt)<br> \n",
    "Посчитаем количество просроченной задолженности, которые есть у заемщиков по показателям из столбца column, — методом sum(). <br> \n",
    "(см. overdue_debt)\n",
    "<br> \n",
    "Посчитаем количество возвращенных займов (см. returned_debt)  \n",
    "Определим отношение количества просрочек к общему числу в каждой группе и выразим данное значение в процентах для лучшего понимания. <br> \n",
    "overdue_rate, % - процент невозвращенных долгов  \n",
    "return_rate, % - процент вовзращенных долгов   \n",
    "Отсортируем полученные данные по убыванию возвращенных долгов и покажем результат пользователю\n",
    "<br> \n",
    "</div>\n",
    "\n",
    "\n",
    "\n",
    "\n",
    "<font color='blue'> \n",
    "</font>       "
   ]
  },
  {
   "cell_type": "code",
   "execution_count": 23,
   "id": "2cacfc4a",
   "metadata": {
    "id": "2cacfc4a"
   },
   "outputs": [
    {
     "data": {
      "text/html": [
       "<div>\n",
       "<style scoped>\n",
       "    .dataframe tbody tr th:only-of-type {\n",
       "        vertical-align: middle;\n",
       "    }\n",
       "\n",
       "    .dataframe tbody tr th {\n",
       "        vertical-align: top;\n",
       "    }\n",
       "\n",
       "    .dataframe thead th {\n",
       "        text-align: right;\n",
       "    }\n",
       "</style>\n",
       "<table border=\"1\" class=\"dataframe\">\n",
       "  <thead>\n",
       "    <tr style=\"text-align: right;\">\n",
       "      <th></th>\n",
       "      <th>overall_debt</th>\n",
       "      <th>overdue_debt</th>\n",
       "      <th>returned_debt</th>\n",
       "      <th>overdue_rate, %</th>\n",
       "      <th>return_rate, %</th>\n",
       "    </tr>\n",
       "    <tr>\n",
       "      <th>children</th>\n",
       "      <th></th>\n",
       "      <th></th>\n",
       "      <th></th>\n",
       "      <th></th>\n",
       "      <th></th>\n",
       "    </tr>\n",
       "  </thead>\n",
       "  <tbody>\n",
       "    <tr>\n",
       "      <th>5</th>\n",
       "      <td>9</td>\n",
       "      <td>0</td>\n",
       "      <td>9</td>\n",
       "      <td>0.000000</td>\n",
       "      <td>100.000000</td>\n",
       "    </tr>\n",
       "    <tr>\n",
       "      <th>0</th>\n",
       "      <td>14107</td>\n",
       "      <td>1063</td>\n",
       "      <td>13044</td>\n",
       "      <td>7.535266</td>\n",
       "      <td>92.464734</td>\n",
       "    </tr>\n",
       "    <tr>\n",
       "      <th>3</th>\n",
       "      <td>330</td>\n",
       "      <td>27</td>\n",
       "      <td>303</td>\n",
       "      <td>8.181818</td>\n",
       "      <td>91.818182</td>\n",
       "    </tr>\n",
       "    <tr>\n",
       "      <th>1</th>\n",
       "      <td>4809</td>\n",
       "      <td>444</td>\n",
       "      <td>4365</td>\n",
       "      <td>9.232689</td>\n",
       "      <td>90.767311</td>\n",
       "    </tr>\n",
       "    <tr>\n",
       "      <th>2</th>\n",
       "      <td>2052</td>\n",
       "      <td>194</td>\n",
       "      <td>1858</td>\n",
       "      <td>9.454191</td>\n",
       "      <td>90.545809</td>\n",
       "    </tr>\n",
       "    <tr>\n",
       "      <th>4</th>\n",
       "      <td>41</td>\n",
       "      <td>4</td>\n",
       "      <td>37</td>\n",
       "      <td>9.756098</td>\n",
       "      <td>90.243902</td>\n",
       "    </tr>\n",
       "  </tbody>\n",
       "</table>\n",
       "</div>"
      ],
      "text/plain": [
       "          overall_debt  overdue_debt  returned_debt  overdue_rate, %  \\\n",
       "children                                                               \n",
       "5                    9             0              9         0.000000   \n",
       "0                14107          1063          13044         7.535266   \n",
       "3                  330            27            303         8.181818   \n",
       "1                 4809           444           4365         9.232689   \n",
       "2                 2052           194           1858         9.454191   \n",
       "4                   41             4             37         9.756098   \n",
       "\n",
       "          return_rate, %  \n",
       "children                  \n",
       "5             100.000000  \n",
       "0              92.464734  \n",
       "3              91.818182  \n",
       "1              90.767311  \n",
       "2              90.545809  \n",
       "4              90.243902  "
      ]
     },
     "metadata": {},
     "output_type": "display_data"
    }
   ],
   "source": [
    "\n",
    "def analyze_column(column):\n",
    "    column_debt_relation = pd.DataFrame()\n",
    "    column_debt_relation['overall_debt'] = data.groupby(column)['debt'].count()\n",
    "    column_debt_relation['overdue_debt'] = data.groupby(column)['debt'].sum()\n",
    "    column_debt_relation['returned_debt'] = column_debt_relation['overall_debt'] - column_debt_relation['overdue_debt']\n",
    "    column_debt_relation['overdue_rate, %'] = column_debt_relation['overdue_debt'] / column_debt_relation['overall_debt'] * 100\n",
    "    column_debt_relation['return_rate, %'] = 100 - (column_debt_relation['overdue_debt'] / column_debt_relation['overall_debt'] * 100)\n",
    "    display(column_debt_relation.sort_values('return_rate, %', ascending = False))\n",
    "\n",
    "analyze_column('children')    \n"
   ]
  },
  {
   "cell_type": "markdown",
   "id": "3a6b99ec",
   "metadata": {
    "deletable": false,
    "id": "3a6b99ec"
   },
   "source": [
    "**Вывод:** \n",
    "Процент просроченной задолженности ниже у бездетных семей. Можно отметить , что с увеличением количества детей процент невозвращенных долгов растет, однако, есть некоторые расхождения. Например, многодетные семьи (5 детей) получили результат 0 (невыплат нет), это может быть связано с тем, что количество таких семей невелико, и данная выборка не показательна. Также получилось, что семьи с тремя детьми выплачивают долги лучше, чем семьи с одним ребенком. Возможно, это можно объяснить неопытностью семей с одним ребенком в распределении финансов при появлении нового члена семьи. Стоит отметить, что показатели возврата долгов у семей с двумя и четырьмя детьми практически идентичны.\n",
    "В среднем появляние каждого следующего ребенка увеличивает возможность просрочки платежа по кредитам."
   ]
  },
  {
   "cell_type": "code",
   "execution_count": 24,
   "id": "c6c8ef17",
   "metadata": {},
   "outputs": [
    {
     "data": {
      "text/html": [
       "<div>\n",
       "<style scoped>\n",
       "    .dataframe tbody tr th:only-of-type {\n",
       "        vertical-align: middle;\n",
       "    }\n",
       "\n",
       "    .dataframe tbody tr th {\n",
       "        vertical-align: top;\n",
       "    }\n",
       "\n",
       "    .dataframe thead th {\n",
       "        text-align: right;\n",
       "    }\n",
       "</style>\n",
       "<table border=\"1\" class=\"dataframe\">\n",
       "  <thead>\n",
       "    <tr style=\"text-align: right;\">\n",
       "      <th></th>\n",
       "      <th>count</th>\n",
       "      <th>sum</th>\n",
       "      <th>mean</th>\n",
       "    </tr>\n",
       "    <tr>\n",
       "      <th>children</th>\n",
       "      <th></th>\n",
       "      <th></th>\n",
       "      <th></th>\n",
       "    </tr>\n",
       "  </thead>\n",
       "  <tbody>\n",
       "    <tr>\n",
       "      <th>0</th>\n",
       "      <td>14107</td>\n",
       "      <td>1063</td>\n",
       "      <td>0.075353</td>\n",
       "    </tr>\n",
       "    <tr>\n",
       "      <th>1</th>\n",
       "      <td>4809</td>\n",
       "      <td>444</td>\n",
       "      <td>0.092327</td>\n",
       "    </tr>\n",
       "    <tr>\n",
       "      <th>2</th>\n",
       "      <td>2052</td>\n",
       "      <td>194</td>\n",
       "      <td>0.094542</td>\n",
       "    </tr>\n",
       "    <tr>\n",
       "      <th>3</th>\n",
       "      <td>330</td>\n",
       "      <td>27</td>\n",
       "      <td>0.081818</td>\n",
       "    </tr>\n",
       "    <tr>\n",
       "      <th>4</th>\n",
       "      <td>41</td>\n",
       "      <td>4</td>\n",
       "      <td>0.097561</td>\n",
       "    </tr>\n",
       "    <tr>\n",
       "      <th>5</th>\n",
       "      <td>9</td>\n",
       "      <td>0</td>\n",
       "      <td>0.000000</td>\n",
       "    </tr>\n",
       "  </tbody>\n",
       "</table>\n",
       "</div>"
      ],
      "text/plain": [
       "          count   sum      mean\n",
       "children                       \n",
       "0         14107  1063  0.075353\n",
       "1          4809   444  0.092327\n",
       "2          2052   194  0.094542\n",
       "3           330    27  0.081818\n",
       "4            41     4  0.097561\n",
       "5             9     0  0.000000"
      ]
     },
     "execution_count": 24,
     "metadata": {},
     "output_type": "execute_result"
    }
   ],
   "source": [
    "data.groupby('children')['debt'].agg(['count','sum','mean'])"
   ]
  },
  {
   "cell_type": "code",
   "execution_count": 25,
   "id": "064cfd5a",
   "metadata": {},
   "outputs": [
    {
     "data": {
      "text/html": [
       "<div>\n",
       "<style scoped>\n",
       "    .dataframe tbody tr th:only-of-type {\n",
       "        vertical-align: middle;\n",
       "    }\n",
       "\n",
       "    .dataframe tbody tr th {\n",
       "        vertical-align: top;\n",
       "    }\n",
       "\n",
       "    .dataframe thead th {\n",
       "        text-align: right;\n",
       "    }\n",
       "</style>\n",
       "<table border=\"1\" class=\"dataframe\">\n",
       "  <thead>\n",
       "    <tr style=\"text-align: right;\">\n",
       "      <th></th>\n",
       "      <th>count</th>\n",
       "      <th>sum</th>\n",
       "      <th>my_mean</th>\n",
       "    </tr>\n",
       "    <tr>\n",
       "      <th>children</th>\n",
       "      <th></th>\n",
       "      <th></th>\n",
       "      <th></th>\n",
       "    </tr>\n",
       "  </thead>\n",
       "  <tbody>\n",
       "    <tr>\n",
       "      <th>0</th>\n",
       "      <td>14107</td>\n",
       "      <td>1063</td>\n",
       "      <td>7.535266</td>\n",
       "    </tr>\n",
       "    <tr>\n",
       "      <th>1</th>\n",
       "      <td>4809</td>\n",
       "      <td>444</td>\n",
       "      <td>9.232689</td>\n",
       "    </tr>\n",
       "    <tr>\n",
       "      <th>2</th>\n",
       "      <td>2052</td>\n",
       "      <td>194</td>\n",
       "      <td>9.454191</td>\n",
       "    </tr>\n",
       "    <tr>\n",
       "      <th>3</th>\n",
       "      <td>330</td>\n",
       "      <td>27</td>\n",
       "      <td>8.181818</td>\n",
       "    </tr>\n",
       "    <tr>\n",
       "      <th>4</th>\n",
       "      <td>41</td>\n",
       "      <td>4</td>\n",
       "      <td>9.756098</td>\n",
       "    </tr>\n",
       "    <tr>\n",
       "      <th>5</th>\n",
       "      <td>9</td>\n",
       "      <td>0</td>\n",
       "      <td>0.000000</td>\n",
       "    </tr>\n",
       "  </tbody>\n",
       "</table>\n",
       "</div>"
      ],
      "text/plain": [
       "          count   sum   my_mean\n",
       "children                       \n",
       "0         14107  1063  7.535266\n",
       "1          4809   444  9.232689\n",
       "2          2052   194  9.454191\n",
       "3           330    27  8.181818\n",
       "4            41     4  9.756098\n",
       "5             9     0  0.000000"
      ]
     },
     "execution_count": 25,
     "metadata": {},
     "output_type": "execute_result"
    }
   ],
   "source": [
    "def my_mean(x): return x.mean()*100\n",
    "\n",
    "data.groupby('children')['debt'].agg(['count', 'sum', my_mean])"
   ]
  },
  {
   "cell_type": "code",
   "execution_count": 26,
   "id": "2b8b6bd8",
   "metadata": {},
   "outputs": [
    {
     "data": {
      "text/html": [
       "<div>\n",
       "<style scoped>\n",
       "    .dataframe tbody tr th:only-of-type {\n",
       "        vertical-align: middle;\n",
       "    }\n",
       "\n",
       "    .dataframe tbody tr th {\n",
       "        vertical-align: top;\n",
       "    }\n",
       "\n",
       "    .dataframe thead th {\n",
       "        text-align: right;\n",
       "    }\n",
       "</style>\n",
       "<table border=\"1\" class=\"dataframe\">\n",
       "  <thead>\n",
       "    <tr style=\"text-align: right;\">\n",
       "      <th></th>\n",
       "      <th>count</th>\n",
       "      <th>sum</th>\n",
       "      <th>my_mean</th>\n",
       "    </tr>\n",
       "    <tr>\n",
       "      <th>children</th>\n",
       "      <th></th>\n",
       "      <th></th>\n",
       "      <th></th>\n",
       "    </tr>\n",
       "  </thead>\n",
       "  <tbody>\n",
       "    <tr>\n",
       "      <th>0</th>\n",
       "      <td>14107</td>\n",
       "      <td>1063</td>\n",
       "      <td>7.54%</td>\n",
       "    </tr>\n",
       "    <tr>\n",
       "      <th>1</th>\n",
       "      <td>4809</td>\n",
       "      <td>444</td>\n",
       "      <td>9.23%</td>\n",
       "    </tr>\n",
       "    <tr>\n",
       "      <th>2</th>\n",
       "      <td>2052</td>\n",
       "      <td>194</td>\n",
       "      <td>9.45%</td>\n",
       "    </tr>\n",
       "    <tr>\n",
       "      <th>3</th>\n",
       "      <td>330</td>\n",
       "      <td>27</td>\n",
       "      <td>8.18%</td>\n",
       "    </tr>\n",
       "    <tr>\n",
       "      <th>4</th>\n",
       "      <td>41</td>\n",
       "      <td>4</td>\n",
       "      <td>9.76%</td>\n",
       "    </tr>\n",
       "    <tr>\n",
       "      <th>5</th>\n",
       "      <td>9</td>\n",
       "      <td>0</td>\n",
       "      <td>0.00%</td>\n",
       "    </tr>\n",
       "  </tbody>\n",
       "</table>\n",
       "</div>"
      ],
      "text/plain": [
       "          count   sum my_mean\n",
       "children                     \n",
       "0         14107  1063  7.54% \n",
       "1          4809   444  9.23% \n",
       "2          2052   194  9.45% \n",
       "3           330    27  8.18% \n",
       "4            41     4  9.76% \n",
       "5             9     0  0.00% "
      ]
     },
     "execution_count": 26,
     "metadata": {},
     "output_type": "execute_result"
    }
   ],
   "source": [
    "def my_mean(x): return '{:.2%} '.format(x.mean())\n",
    "\n",
    "data.groupby('children')['debt'].agg(['count', 'sum', my_mean])"
   ]
  },
  {
   "cell_type": "markdown",
   "id": "97be82ca",
   "metadata": {
    "deletable": false,
    "editable": false,
    "id": "97be82ca"
   },
   "source": [
    "**Задание 20. Есть ли зависимость между семейным положением и возвратом кредита в срок?**"
   ]
  },
  {
   "cell_type": "markdown",
   "id": "4aa5749a",
   "metadata": {
    "id": "2cacfc4a"
   },
   "source": [
    "<div class=\"alert alert-info\">\n",
    "<h2> Описание выполнения задания</h2>\n",
    "    \n",
    "Составим новую таблицу family_status_debt_relation<br>\n",
    "Для этого сгруппируем данные по 'family_status' а колонку 'debt' выберем как показатель для сравнения, но в этот раз<br>\n",
    "используем для составления таблицы метод pivot_table().<br>\n",
    "Первым столбцом вновь созданной family_status_debt_relation станет таблица table_count с показателем всех имеющихся долгов, рассчитаным методом count().<br>\n",
    "Для того, чтобы не было расхождений с уже созданной функцией analyze_column, переименуем столбец 'debt' в <br>'overall_debt'\n",
    "Второй столбец overdue_debt - принимает значения рассчитаные в table_sum, и выражает количество просроченной <br>задолженности, которые есть у заемщиков c разным семейным статусом, — методом sum().<br>\n",
    "Посчитаем количество возвращенных займов (см. returned_debt)<br>\n",
    "overdue_rate, % - процент невозвращенных долгов<br>\n",
    "return_rate, % - процент вовзращенных долгов<br>\n",
    "Отсортируем полученные данные по убыванию возвращенных долгов и покажем результат пользователю\n",
    "<br> \n",
    "</div>\n",
    "\n",
    "\n",
    "\n",
    "\n",
    "<font color='blue'> \n",
    "</font>       "
   ]
  },
  {
   "cell_type": "code",
   "execution_count": 23,
   "id": "dc3f7ee8",
   "metadata": {
    "id": "dc3f7ee8"
   },
   "outputs": [
    {
     "data": {
      "text/html": [
       "<div>\n",
       "<style scoped>\n",
       "    .dataframe tbody tr th:only-of-type {\n",
       "        vertical-align: middle;\n",
       "    }\n",
       "\n",
       "    .dataframe tbody tr th {\n",
       "        vertical-align: top;\n",
       "    }\n",
       "\n",
       "    .dataframe thead th {\n",
       "        text-align: right;\n",
       "    }\n",
       "</style>\n",
       "<table border=\"1\" class=\"dataframe\">\n",
       "  <thead>\n",
       "    <tr style=\"text-align: right;\">\n",
       "      <th></th>\n",
       "      <th>overall_debt</th>\n",
       "      <th>overdue_debt</th>\n",
       "      <th>returned_debt</th>\n",
       "      <th>overdue_rate, %</th>\n",
       "      <th>return_rate, %</th>\n",
       "    </tr>\n",
       "    <tr>\n",
       "      <th>family_status</th>\n",
       "      <th></th>\n",
       "      <th></th>\n",
       "      <th></th>\n",
       "      <th></th>\n",
       "      <th></th>\n",
       "    </tr>\n",
       "  </thead>\n",
       "  <tbody>\n",
       "    <tr>\n",
       "      <th>вдовец / вдова</th>\n",
       "      <td>951</td>\n",
       "      <td>63</td>\n",
       "      <td>888</td>\n",
       "      <td>6.624606</td>\n",
       "      <td>93.375394</td>\n",
       "    </tr>\n",
       "    <tr>\n",
       "      <th>в разводе</th>\n",
       "      <td>1189</td>\n",
       "      <td>84</td>\n",
       "      <td>1105</td>\n",
       "      <td>7.064760</td>\n",
       "      <td>92.935240</td>\n",
       "    </tr>\n",
       "    <tr>\n",
       "      <th>женат / замужем</th>\n",
       "      <td>12266</td>\n",
       "      <td>927</td>\n",
       "      <td>11339</td>\n",
       "      <td>7.557476</td>\n",
       "      <td>92.442524</td>\n",
       "    </tr>\n",
       "    <tr>\n",
       "      <th>гражданский брак</th>\n",
       "      <td>4146</td>\n",
       "      <td>385</td>\n",
       "      <td>3761</td>\n",
       "      <td>9.286059</td>\n",
       "      <td>90.713941</td>\n",
       "    </tr>\n",
       "    <tr>\n",
       "      <th>Не женат / не замужем</th>\n",
       "      <td>2796</td>\n",
       "      <td>273</td>\n",
       "      <td>2523</td>\n",
       "      <td>9.763948</td>\n",
       "      <td>90.236052</td>\n",
       "    </tr>\n",
       "  </tbody>\n",
       "</table>\n",
       "</div>"
      ],
      "text/plain": [
       "                       overall_debt  overdue_debt  returned_debt  \\\n",
       "family_status                                                      \n",
       "вдовец / вдова                  951            63            888   \n",
       "в разводе                      1189            84           1105   \n",
       "женат / замужем               12266           927          11339   \n",
       "гражданский брак               4146           385           3761   \n",
       "Не женат / не замужем          2796           273           2523   \n",
       "\n",
       "                       overdue_rate, %  return_rate, %  \n",
       "family_status                                           \n",
       "вдовец / вдова                6.624606       93.375394  \n",
       "в разводе                     7.064760       92.935240  \n",
       "женат / замужем               7.557476       92.442524  \n",
       "гражданский брак              9.286059       90.713941  \n",
       "Не женат / не замужем         9.763948       90.236052  "
      ]
     },
     "metadata": {},
     "output_type": "display_data"
    }
   ],
   "source": [
    "table_count = pd.pivot_table(data, index='family_status', values='debt', aggfunc='count')\n",
    "table_count = table_count.rename(columns={'debt': 'overall_debt'}) \n",
    "table_sum = pd.pivot_table(data, index='family_status', values='debt', aggfunc='sum')\n",
    "\n",
    "family_status_debt_relation = table_count\n",
    "family_status_debt_relation['overdue_debt'] = table_sum['debt']\n",
    "family_status_debt_relation['returned_debt'] = family_status_debt_relation['overall_debt'] - family_status_debt_relation['overdue_debt']\n",
    "family_status_debt_relation['overdue_rate, %'] = 100 - family_status_debt_relation['returned_debt'] / family_status_debt_relation['overall_debt'] * 100\n",
    "family_status_debt_relation['return_rate, %'] = family_status_debt_relation['returned_debt'] / family_status_debt_relation['overall_debt'] * 100\n",
    "\n",
    "display(family_status_debt_relation.sort_values('return_rate, %', ascending = False))\n"
   ]
  },
  {
   "cell_type": "markdown",
   "id": "7b536d21",
   "metadata": {
    "deletable": false,
    "id": "1cef7837"
   },
   "source": [
    "**Вывод:** \n",
    "Процент возвращенных долгов для людей, которые еще не вступали в брак или не зарегистрировали его официально ниже, чем у женатых/замужных, стоит также отметить, что вторые чаще остальных берут кредит и чаще остальных допускают просрочки. Количество одиноких заемщиков, которые остались одни после развода или овдовев приблизительно равно количеству одиноких заемщиков, еще не вступавших в брак, однако процент возврата среди вторых гораздо хуже первых, возможно, это связано с тем, что оставшись одинокими (получив наследство или имущество при разделе), заемщики стараются закрыть образовавшуюся задолженность, потому что дальше рассчитывать можно будет только на себя. Для проверки данной гипотезы необходимо узнать данные в течение какого срока происходит полное закрытие долга.\n",
    "Лучшие показатели по возврату долгов показали вдовцы, худшие показатели у одиноких заемщиков не вступавших в брак. Прослеживается зависимость, из которой следует, что заемщики побывавшие в браке охотнее выплачивают долги, и реже допускают просрочки."
   ]
  },
  {
   "cell_type": "markdown",
   "id": "1e8b2fca",
   "metadata": {
    "deletable": false,
    "editable": false,
    "id": "1e8b2fca"
   },
   "source": [
    "**Задание 21. Есть ли зависимость между уровнем дохода и возвратом кредита в срок?**"
   ]
  },
  {
   "cell_type": "markdown",
   "id": "f34734d0",
   "metadata": {
    "id": "2cacfc4a"
   },
   "source": [
    "<div class=\"alert alert-info\">\n",
    "<h2> Описание выполнения задания</h2>\n",
    "    \n",
    "В задании 21 будем использовать функцию analyze_column<br>\n",
    "В качестве аргумента будет использован столбец total_income_category, который мы получили в задании 16<br>\n",
    "Описание работы функции представлено в задании 19\n",
    "<br> \n",
    "</div>\n",
    "\n",
    "\n",
    "\n",
    "\n",
    "<font color='blue'> \n",
    "</font>       "
   ]
  },
  {
   "cell_type": "code",
   "execution_count": 24,
   "id": "cd7e3720",
   "metadata": {
    "id": "cd7e3720"
   },
   "outputs": [
    {
     "data": {
      "text/html": [
       "<div>\n",
       "<style scoped>\n",
       "    .dataframe tbody tr th:only-of-type {\n",
       "        vertical-align: middle;\n",
       "    }\n",
       "\n",
       "    .dataframe tbody tr th {\n",
       "        vertical-align: top;\n",
       "    }\n",
       "\n",
       "    .dataframe thead th {\n",
       "        text-align: right;\n",
       "    }\n",
       "</style>\n",
       "<table border=\"1\" class=\"dataframe\">\n",
       "  <thead>\n",
       "    <tr style=\"text-align: right;\">\n",
       "      <th></th>\n",
       "      <th>overall_debt</th>\n",
       "      <th>overdue_debt</th>\n",
       "      <th>returned_debt</th>\n",
       "      <th>overdue_rate, %</th>\n",
       "      <th>return_rate, %</th>\n",
       "    </tr>\n",
       "    <tr>\n",
       "      <th>total_income_category</th>\n",
       "      <th></th>\n",
       "      <th></th>\n",
       "      <th></th>\n",
       "      <th></th>\n",
       "      <th></th>\n",
       "    </tr>\n",
       "  </thead>\n",
       "  <tbody>\n",
       "    <tr>\n",
       "      <th>D</th>\n",
       "      <td>349</td>\n",
       "      <td>21</td>\n",
       "      <td>328</td>\n",
       "      <td>6.017192</td>\n",
       "      <td>93.982808</td>\n",
       "    </tr>\n",
       "    <tr>\n",
       "      <th>B</th>\n",
       "      <td>5014</td>\n",
       "      <td>354</td>\n",
       "      <td>4660</td>\n",
       "      <td>7.060231</td>\n",
       "      <td>92.939769</td>\n",
       "    </tr>\n",
       "    <tr>\n",
       "      <th>A</th>\n",
       "      <td>25</td>\n",
       "      <td>2</td>\n",
       "      <td>23</td>\n",
       "      <td>8.000000</td>\n",
       "      <td>92.000000</td>\n",
       "    </tr>\n",
       "    <tr>\n",
       "      <th>C</th>\n",
       "      <td>15938</td>\n",
       "      <td>1353</td>\n",
       "      <td>14585</td>\n",
       "      <td>8.489145</td>\n",
       "      <td>91.510855</td>\n",
       "    </tr>\n",
       "    <tr>\n",
       "      <th>E</th>\n",
       "      <td>22</td>\n",
       "      <td>2</td>\n",
       "      <td>20</td>\n",
       "      <td>9.090909</td>\n",
       "      <td>90.909091</td>\n",
       "    </tr>\n",
       "  </tbody>\n",
       "</table>\n",
       "</div>"
      ],
      "text/plain": [
       "                       overall_debt  overdue_debt  returned_debt  \\\n",
       "total_income_category                                              \n",
       "D                               349            21            328   \n",
       "B                              5014           354           4660   \n",
       "A                                25             2             23   \n",
       "C                             15938          1353          14585   \n",
       "E                                22             2             20   \n",
       "\n",
       "                       overdue_rate, %  return_rate, %  \n",
       "total_income_category                                   \n",
       "D                             6.017192       93.982808  \n",
       "B                             7.060231       92.939769  \n",
       "A                             8.000000       92.000000  \n",
       "C                             8.489145       91.510855  \n",
       "E                             9.090909       90.909091  "
      ]
     },
     "metadata": {},
     "output_type": "display_data"
    }
   ],
   "source": [
    "analyze_column('total_income_category') "
   ]
  },
  {
   "cell_type": "markdown",
   "id": "e8593def",
   "metadata": {
    "deletable": false,
    "id": "e8593def"
   },
   "source": [
    "**Вывод:** \n",
    "Глядя на данные, полученные по результатам исследования, можно сделать вывод, что наибольшую долю заемщиков составляет группа людей, которая получает от 50 тысяч до 1 миллиона рублей, что не удивительно, и соотвествует средним значениям. Заемщики из группы, которая получает от 50 до 200 т.р, допустили наибольшее количество просрочек, однако процент возврата в этой группе не самый плохой, хуже всех в процентном соотношении показали себя представители из группы с доходом менее 30 т.р. Несмотря на крайне высокий доход, заемщики из группы А не занимают первую строчку по возвращенным долгам, что может свидетельствовать о высоких рисках, которые они принимают на себя. Наилучшие показатели показывают представители группы заемщиков, с доходами от 30 до 50 т.р., что может свидетельствовать о более рациональном подходе в обращении с заемными средствами. Однако, говорить о существовании зависимости между уровнем дохода и возвратом кредита в срок не приходиться, так как положительной корреляции не было выявлено."
   ]
  },
  {
   "cell_type": "markdown",
   "id": "99ecbd1f",
   "metadata": {
    "deletable": false,
    "editable": false,
    "id": "99ecbd1f"
   },
   "source": [
    "**Задание 22. Как разные цели кредита влияют на его возврат в срок?**"
   ]
  },
  {
   "cell_type": "markdown",
   "id": "0d8c14da",
   "metadata": {
    "id": "2cacfc4a"
   },
   "source": [
    "<div class=\"alert alert-info\">\n",
    "<h2> Описание выполнения задания</h2>\n",
    "    \n",
    "В задании 22 будем использовать функцию analyze_column<br> \n",
    "В качестве аргумента будет использован столбец purpose_category, который мы получили в задании 18<br> \n",
    "Описание работы функции представлено в задании 19\n",
    "<br> \n",
    "</div>\n",
    "\n",
    "\n",
    "\n",
    "\n",
    "<font color='blue'> \n",
    "</font>       "
   ]
  },
  {
   "cell_type": "code",
   "execution_count": 25,
   "id": "2b687290",
   "metadata": {
    "id": "2b687290"
   },
   "outputs": [
    {
     "data": {
      "text/html": [
       "<div>\n",
       "<style scoped>\n",
       "    .dataframe tbody tr th:only-of-type {\n",
       "        vertical-align: middle;\n",
       "    }\n",
       "\n",
       "    .dataframe tbody tr th {\n",
       "        vertical-align: top;\n",
       "    }\n",
       "\n",
       "    .dataframe thead th {\n",
       "        text-align: right;\n",
       "    }\n",
       "</style>\n",
       "<table border=\"1\" class=\"dataframe\">\n",
       "  <thead>\n",
       "    <tr style=\"text-align: right;\">\n",
       "      <th></th>\n",
       "      <th>overall_debt</th>\n",
       "      <th>overdue_debt</th>\n",
       "      <th>returned_debt</th>\n",
       "      <th>overdue_rate, %</th>\n",
       "      <th>return_rate, %</th>\n",
       "    </tr>\n",
       "    <tr>\n",
       "      <th>purpose_category</th>\n",
       "      <th></th>\n",
       "      <th></th>\n",
       "      <th></th>\n",
       "      <th></th>\n",
       "      <th></th>\n",
       "    </tr>\n",
       "  </thead>\n",
       "  <tbody>\n",
       "    <tr>\n",
       "      <th>операции с недвижимостью</th>\n",
       "      <td>10754</td>\n",
       "      <td>780</td>\n",
       "      <td>9974</td>\n",
       "      <td>7.253115</td>\n",
       "      <td>92.746885</td>\n",
       "    </tr>\n",
       "    <tr>\n",
       "      <th>проведение свадьбы</th>\n",
       "      <td>2324</td>\n",
       "      <td>183</td>\n",
       "      <td>2141</td>\n",
       "      <td>7.874355</td>\n",
       "      <td>92.125645</td>\n",
       "    </tr>\n",
       "    <tr>\n",
       "      <th>получение образования</th>\n",
       "      <td>3989</td>\n",
       "      <td>369</td>\n",
       "      <td>3620</td>\n",
       "      <td>9.250439</td>\n",
       "      <td>90.749561</td>\n",
       "    </tr>\n",
       "    <tr>\n",
       "      <th>операции с автомобилем</th>\n",
       "      <td>4281</td>\n",
       "      <td>400</td>\n",
       "      <td>3881</td>\n",
       "      <td>9.343611</td>\n",
       "      <td>90.656389</td>\n",
       "    </tr>\n",
       "  </tbody>\n",
       "</table>\n",
       "</div>"
      ],
      "text/plain": [
       "                          overall_debt  overdue_debt  returned_debt  \\\n",
       "purpose_category                                                      \n",
       "операции с недвижимостью         10754           780           9974   \n",
       "проведение свадьбы                2324           183           2141   \n",
       "получение образования             3989           369           3620   \n",
       "операции с автомобилем            4281           400           3881   \n",
       "\n",
       "                          overdue_rate, %  return_rate, %  \n",
       "purpose_category                                           \n",
       "операции с недвижимостью         7.253115       92.746885  \n",
       "проведение свадьбы               7.874355       92.125645  \n",
       "получение образования            9.250439       90.749561  \n",
       "операции с автомобилем           9.343611       90.656389  "
      ]
     },
     "metadata": {},
     "output_type": "display_data"
    }
   ],
   "source": [
    "analyze_column('purpose_category')"
   ]
  },
  {
   "cell_type": "markdown",
   "id": "b4bb2ce6",
   "metadata": {
    "deletable": false,
    "id": "b4bb2ce6"
   },
   "source": [
    "**Вывод:** \n",
    "В ходе исследования было выявлено, что чаще всего заемщики обращаются к заемным средствам по вопросам недвижимости, реже за проведением свадьбы. Однако, процент возвращенных долгов в данных категориях практически одинаковый. Просрочки платежей данные заемщики допускают реже. Получение образования наряду с операциями с автомобилем рискуют чаще быть неоплаченными, в количественном выражении, также как и в процентном соотшении их показатели идентичны. Выделить наиболее/наименее рискованную цель кредита, влияющую на его возврат не представляется возможным."
   ]
  },
  {
   "cell_type": "markdown",
   "id": "09c3ac4c",
   "metadata": {
    "deletable": false,
    "editable": false,
    "id": "09c3ac4c"
   },
   "source": [
    "**Задание 23. Приведите возможные причины появления пропусков в исходных данных.**"
   ]
  },
  {
   "cell_type": "markdown",
   "id": "9da2ceda",
   "metadata": {
    "deletable": false,
    "id": "9da2ceda"
   },
   "source": [
    "*Ответ:* \n",
    "При обработке результатов data.isna().sum() мы получили, что многие значения отсутствуют в столбцах days_employed и total_income, пропуск в days_employed можно объяснить, что такие специфические данные просто не были правильно обработаны или не получены вовсе, а именно заемщик не предоставил данные трудовой книжки, либо заемщик не знает даты начала трудоустройства, либо заемщитк продоставил данные, но исполнитель, который заполнял данные не перевел данные в дни, либо автоматический перевод в дни не сработал.\n",
    "Данные в графе total_income могли быть просто не указаны заемщиком возможно с целью сокрытия своего реального дохода, который по его мнению будет не достаточен для получения займа, либо исполнитель заполняющий анкеты умышленно или неумышленно пропустил данный пункт. "
   ]
  },
  {
   "cell_type": "markdown",
   "id": "7b0487d6",
   "metadata": {
    "deletable": false,
    "editable": false,
    "id": "7b0487d6"
   },
   "source": [
    "**Задание 24. Объясните, почему заполнить пропуски медианным значением — лучшее решение для количественных переменных.**"
   ]
  },
  {
   "cell_type": "markdown",
   "id": "7ecf2b8e",
   "metadata": {
    "deletable": false,
    "id": "7ecf2b8e"
   },
   "source": [
    "*Ответ:* \n",
    "При заполнении пропусков для количественных переменных можно использовать медианное значение, для того избежать сильных перекосов в итоговых результатах. Если нужно посчитать стаж, возраст, зарплату, считайте лучше медиану, либо исключать сильные выбросы из расчета, откровенно большие или малые значения."
   ]
  },
  {
   "cell_type": "markdown",
   "id": "6db5255a",
   "metadata": {
    "deletable": false,
    "editable": false,
    "id": "6db5255a"
   },
   "source": [
    "## Общий вывод."
   ]
  },
  {
   "attachments": {},
   "cell_type": "markdown",
   "id": "ff85b5b4",
   "metadata": {},
   "source": [
    "Было проведено исследование надежности заемщика на основании статистики о платёжеспособности клиентов, предоставленных банком.\n",
    "\n",
    "Предподготовка данных\n",
    "\n",
    "В рамках подготовки данных было выявлено, что два столбца 'общий трудовой стаж в днях' и 'ежемесячный доход' несут в себе пропущенные значения. В рамках предобработки данных было проведено удаление пропусков. Для столбца 'ежемесячный доход' путем подставления медианного значения по каждому типу из столбца 'тип занятости' для недопущения аномальных значений.\n",
    "Для столбца 'общий трудовой стаж в днях' аналогично была произведена замена пустых значений на медианные, в одним допущением - предварительно используемые данные были приведены к положительным числам, так как отрицательного трудового стажа быть не может.\n",
    "Также из имеющихся данных были исключены строки, в которых встречаются аномальные значения по количеству детей (-1 и 20). Удалены неявные дубликаты в столбце образование и таблица дополнена сведениями по категориям дохода и цели займа.\n",
    "    \n",
    "Результаты исследования\n",
    "\n",
    "Для построении модели кредитного скоринга — которая оценивает способность потенциального заёмщика вернуть кредит банку рекомендуем добавить в модель следующие индивидуальные характеристики заемщшиков: количество детей, семейное положение, цель кредита. По данным исследования было выявлено, что существует зависимости между показателями в этих категориях и возвратом кредита в срок. Существовании зависимости между уровнем дохода и возвратом кредита в срок не было выявлено, однако, по косвенным показателям данной категории, можно оценить благонадежность заемщика. Но данный параметр требует дополнительного изучения.  "
   ]
  }
 ],
 "metadata": {
  "ExecuteTimeLog": [
   {
    "duration": 43,
    "start_time": "2022-07-29T05:23:15.304Z"
   },
   {
    "duration": 6,
    "start_time": "2022-07-29T05:24:52.827Z"
   },
   {
    "duration": 575,
    "start_time": "2022-07-29T05:25:03.320Z"
   },
   {
    "duration": 24,
    "start_time": "2022-07-29T05:25:03.896Z"
   },
   {
    "duration": 12,
    "start_time": "2022-07-29T05:25:03.922Z"
   },
   {
    "duration": 9,
    "start_time": "2022-07-29T05:25:03.936Z"
   },
   {
    "duration": 60,
    "start_time": "2022-07-29T05:25:03.946Z"
   },
   {
    "duration": 14,
    "start_time": "2022-07-29T05:25:04.007Z"
   },
   {
    "duration": 12,
    "start_time": "2022-07-29T05:25:04.023Z"
   },
   {
    "duration": 4,
    "start_time": "2022-07-29T05:25:04.036Z"
   },
   {
    "duration": 9,
    "start_time": "2022-07-29T05:25:04.042Z"
   },
   {
    "duration": 30,
    "start_time": "2022-07-29T05:25:04.055Z"
   },
   {
    "duration": 55,
    "start_time": "2022-07-29T05:25:04.087Z"
   },
   {
    "duration": 8,
    "start_time": "2022-07-29T05:25:04.144Z"
   },
   {
    "duration": 54,
    "start_time": "2022-07-29T05:25:04.154Z"
   },
   {
    "duration": 18,
    "start_time": "2022-07-29T05:25:04.209Z"
   },
   {
    "duration": 15,
    "start_time": "2022-07-29T05:25:04.228Z"
   },
   {
    "duration": 12,
    "start_time": "2022-07-29T05:25:04.244Z"
   },
   {
    "duration": 46,
    "start_time": "2022-07-29T05:25:04.260Z"
   },
   {
    "duration": 12,
    "start_time": "2022-07-29T05:25:04.308Z"
   },
   {
    "duration": 11,
    "start_time": "2022-07-29T05:25:04.322Z"
   },
   {
    "duration": 3,
    "start_time": "2022-07-29T05:25:04.335Z"
   },
   {
    "duration": 9,
    "start_time": "2022-07-29T05:25:04.340Z"
   },
   {
    "duration": 71,
    "start_time": "2022-07-29T05:25:04.350Z"
   },
   {
    "duration": 2,
    "start_time": "2022-07-29T05:25:04.423Z"
   },
   {
    "duration": 6,
    "start_time": "2022-07-29T05:25:04.426Z"
   },
   {
    "duration": 11,
    "start_time": "2022-07-29T05:25:04.433Z"
   },
   {
    "duration": 15,
    "start_time": "2022-07-29T05:25:20.402Z"
   },
   {
    "duration": 28,
    "start_time": "2022-07-29T05:25:29.800Z"
   },
   {
    "duration": 25,
    "start_time": "2022-07-29T05:27:34.328Z"
   },
   {
    "duration": 24,
    "start_time": "2022-07-29T05:28:54.173Z"
   },
   {
    "duration": 24,
    "start_time": "2022-07-29T05:30:03.415Z"
   },
   {
    "duration": 32,
    "start_time": "2022-07-29T05:30:16.265Z"
   },
   {
    "duration": 23,
    "start_time": "2022-07-29T05:30:29.997Z"
   },
   {
    "duration": 18,
    "start_time": "2022-07-29T05:30:38.293Z"
   },
   {
    "duration": 526,
    "start_time": "2022-07-29T05:30:53.041Z"
   },
   {
    "duration": 34,
    "start_time": "2022-07-29T05:30:53.570Z"
   },
   {
    "duration": 13,
    "start_time": "2022-07-29T05:30:53.606Z"
   },
   {
    "duration": 12,
    "start_time": "2022-07-29T05:30:53.622Z"
   },
   {
    "duration": 67,
    "start_time": "2022-07-29T05:30:53.636Z"
   },
   {
    "duration": 4,
    "start_time": "2022-07-29T05:30:53.705Z"
   },
   {
    "duration": 13,
    "start_time": "2022-07-29T05:30:53.711Z"
   },
   {
    "duration": 7,
    "start_time": "2022-07-29T05:30:53.726Z"
   },
   {
    "duration": 10,
    "start_time": "2022-07-29T05:30:53.734Z"
   },
   {
    "duration": 10,
    "start_time": "2022-07-29T05:30:53.746Z"
   },
   {
    "duration": 77,
    "start_time": "2022-07-29T05:30:53.760Z"
   },
   {
    "duration": 11,
    "start_time": "2022-07-29T05:30:53.838Z"
   },
   {
    "duration": 20,
    "start_time": "2022-07-29T05:30:53.850Z"
   },
   {
    "duration": 50,
    "start_time": "2022-07-29T05:30:53.871Z"
   },
   {
    "duration": 16,
    "start_time": "2022-07-29T05:30:53.923Z"
   },
   {
    "duration": 16,
    "start_time": "2022-07-29T05:30:53.941Z"
   },
   {
    "duration": 38,
    "start_time": "2022-07-29T05:30:53.960Z"
   },
   {
    "duration": 11,
    "start_time": "2022-07-29T05:30:54.000Z"
   },
   {
    "duration": 6,
    "start_time": "2022-07-29T05:30:54.012Z"
   },
   {
    "duration": 3,
    "start_time": "2022-07-29T05:30:54.020Z"
   },
   {
    "duration": 10,
    "start_time": "2022-07-29T05:30:54.025Z"
   },
   {
    "duration": 23,
    "start_time": "2022-07-29T05:30:54.036Z"
   },
   {
    "duration": 39,
    "start_time": "2022-07-29T05:30:54.060Z"
   },
   {
    "duration": 9,
    "start_time": "2022-07-29T05:30:54.101Z"
   },
   {
    "duration": 5,
    "start_time": "2022-07-29T05:30:54.112Z"
   },
   {
    "duration": 21,
    "start_time": "2022-07-29T05:35:10.199Z"
   },
   {
    "duration": 517,
    "start_time": "2022-07-29T05:35:22.841Z"
   },
   {
    "duration": 31,
    "start_time": "2022-07-29T05:35:23.363Z"
   },
   {
    "duration": 27,
    "start_time": "2022-07-29T05:35:23.395Z"
   },
   {
    "duration": 11,
    "start_time": "2022-07-29T05:35:23.424Z"
   },
   {
    "duration": 58,
    "start_time": "2022-07-29T05:35:23.437Z"
   },
   {
    "duration": 5,
    "start_time": "2022-07-29T05:35:23.498Z"
   },
   {
    "duration": 13,
    "start_time": "2022-07-29T05:35:23.504Z"
   },
   {
    "duration": 9,
    "start_time": "2022-07-29T05:35:23.519Z"
   },
   {
    "duration": 7,
    "start_time": "2022-07-29T05:35:23.530Z"
   },
   {
    "duration": 20,
    "start_time": "2022-07-29T05:35:23.541Z"
   },
   {
    "duration": 78,
    "start_time": "2022-07-29T05:35:23.564Z"
   },
   {
    "duration": 16,
    "start_time": "2022-07-29T05:35:23.644Z"
   },
   {
    "duration": 28,
    "start_time": "2022-07-29T05:35:23.663Z"
   },
   {
    "duration": 32,
    "start_time": "2022-07-29T05:35:23.693Z"
   },
   {
    "duration": 18,
    "start_time": "2022-07-29T05:35:23.727Z"
   },
   {
    "duration": 15,
    "start_time": "2022-07-29T05:35:23.746Z"
   },
   {
    "duration": 39,
    "start_time": "2022-07-29T05:35:23.762Z"
   },
   {
    "duration": 11,
    "start_time": "2022-07-29T05:35:23.803Z"
   },
   {
    "duration": 7,
    "start_time": "2022-07-29T05:35:23.816Z"
   },
   {
    "duration": 4,
    "start_time": "2022-07-29T05:35:23.824Z"
   },
   {
    "duration": 13,
    "start_time": "2022-07-29T05:35:23.829Z"
   },
   {
    "duration": 27,
    "start_time": "2022-07-29T05:35:23.844Z"
   },
   {
    "duration": 28,
    "start_time": "2022-07-29T05:35:23.872Z"
   },
   {
    "duration": 5,
    "start_time": "2022-07-29T05:35:23.902Z"
   },
   {
    "duration": 8,
    "start_time": "2022-07-29T05:35:23.908Z"
   },
   {
    "duration": 22,
    "start_time": "2022-07-29T05:35:26.928Z"
   },
   {
    "duration": 22,
    "start_time": "2022-07-29T05:35:48.706Z"
   },
   {
    "duration": 501,
    "start_time": "2022-07-29T05:35:58.594Z"
   },
   {
    "duration": 30,
    "start_time": "2022-07-29T05:35:59.098Z"
   },
   {
    "duration": 26,
    "start_time": "2022-07-29T05:35:59.130Z"
   },
   {
    "duration": 14,
    "start_time": "2022-07-29T05:35:59.160Z"
   },
   {
    "duration": 55,
    "start_time": "2022-07-29T05:35:59.183Z"
   },
   {
    "duration": 3,
    "start_time": "2022-07-29T05:35:59.239Z"
   },
   {
    "duration": 19,
    "start_time": "2022-07-29T05:35:59.244Z"
   },
   {
    "duration": 36,
    "start_time": "2022-07-29T05:35:59.265Z"
   },
   {
    "duration": 9,
    "start_time": "2022-07-29T05:35:59.303Z"
   },
   {
    "duration": 4,
    "start_time": "2022-07-29T05:35:59.316Z"
   },
   {
    "duration": 31,
    "start_time": "2022-07-29T05:35:59.321Z"
   },
   {
    "duration": 11,
    "start_time": "2022-07-29T05:35:59.354Z"
   },
   {
    "duration": 36,
    "start_time": "2022-07-29T05:35:59.367Z"
   },
   {
    "duration": 23,
    "start_time": "2022-07-29T05:35:59.405Z"
   },
   {
    "duration": 21,
    "start_time": "2022-07-29T05:35:59.430Z"
   },
   {
    "duration": 17,
    "start_time": "2022-07-29T05:35:59.458Z"
   },
   {
    "duration": 26,
    "start_time": "2022-07-29T05:35:59.477Z"
   },
   {
    "duration": 18,
    "start_time": "2022-07-29T05:35:59.505Z"
   },
   {
    "duration": 6,
    "start_time": "2022-07-29T05:35:59.525Z"
   },
   {
    "duration": 9,
    "start_time": "2022-07-29T05:35:59.533Z"
   },
   {
    "duration": 16,
    "start_time": "2022-07-29T05:35:59.543Z"
   },
   {
    "duration": 33,
    "start_time": "2022-07-29T05:35:59.569Z"
   },
   {
    "duration": 6,
    "start_time": "2022-07-29T05:35:59.604Z"
   },
   {
    "duration": 7,
    "start_time": "2022-07-29T05:35:59.612Z"
   },
   {
    "duration": 5,
    "start_time": "2022-07-29T05:35:59.621Z"
   },
   {
    "duration": 22,
    "start_time": "2022-07-29T05:36:03.386Z"
   },
   {
    "duration": 21,
    "start_time": "2022-07-29T05:37:03.889Z"
   },
   {
    "duration": 101,
    "start_time": "2022-07-29T05:37:52.894Z"
   },
   {
    "duration": 34,
    "start_time": "2022-07-29T05:38:09.774Z"
   },
   {
    "duration": 27,
    "start_time": "2022-07-29T05:38:51.380Z"
   },
   {
    "duration": 34,
    "start_time": "2022-07-29T05:43:44.293Z"
   },
   {
    "duration": 1495,
    "start_time": "2022-07-29T05:51:12.631Z"
   },
   {
    "duration": 704,
    "start_time": "2022-07-29T05:52:11.379Z"
   },
   {
    "duration": 33,
    "start_time": "2022-07-29T05:52:35.414Z"
   },
   {
    "duration": 85,
    "start_time": "2022-07-29T05:57:38.173Z"
   },
   {
    "duration": 13,
    "start_time": "2022-07-29T05:57:45.383Z"
   },
   {
    "duration": 1483,
    "start_time": "2022-07-29T06:08:59.247Z"
   },
   {
    "duration": 457,
    "start_time": "2022-07-29T06:09:37.830Z"
   },
   {
    "duration": 22,
    "start_time": "2022-07-29T06:09:38.289Z"
   },
   {
    "duration": 14,
    "start_time": "2022-07-29T06:09:38.313Z"
   },
   {
    "duration": 29,
    "start_time": "2022-07-29T06:09:38.329Z"
   },
   {
    "duration": 42,
    "start_time": "2022-07-29T06:09:38.362Z"
   },
   {
    "duration": 3,
    "start_time": "2022-07-29T06:09:38.406Z"
   },
   {
    "duration": 13,
    "start_time": "2022-07-29T06:09:38.410Z"
   },
   {
    "duration": 4,
    "start_time": "2022-07-29T06:09:38.425Z"
   },
   {
    "duration": 22,
    "start_time": "2022-07-29T06:09:38.430Z"
   },
   {
    "duration": 6,
    "start_time": "2022-07-29T06:09:38.455Z"
   },
   {
    "duration": 47,
    "start_time": "2022-07-29T06:09:38.462Z"
   },
   {
    "duration": 9,
    "start_time": "2022-07-29T06:09:38.511Z"
   },
   {
    "duration": 4,
    "start_time": "2022-07-29T06:09:38.522Z"
   },
   {
    "duration": 32,
    "start_time": "2022-07-29T06:09:38.527Z"
   },
   {
    "duration": 23,
    "start_time": "2022-07-29T06:09:38.560Z"
   },
   {
    "duration": 21,
    "start_time": "2022-07-29T06:09:38.585Z"
   },
   {
    "duration": 9,
    "start_time": "2022-07-29T06:09:38.608Z"
   },
   {
    "duration": 31,
    "start_time": "2022-07-29T06:09:38.619Z"
   },
   {
    "duration": 44,
    "start_time": "2022-07-29T06:09:38.652Z"
   },
   {
    "duration": 15,
    "start_time": "2022-07-29T06:09:38.698Z"
   },
   {
    "duration": 13,
    "start_time": "2022-07-29T06:09:38.715Z"
   },
   {
    "duration": 88,
    "start_time": "2022-07-29T06:09:38.730Z"
   },
   {
    "duration": 0,
    "start_time": "2022-07-29T06:09:38.820Z"
   },
   {
    "duration": 0,
    "start_time": "2022-07-29T06:09:38.822Z"
   },
   {
    "duration": 0,
    "start_time": "2022-07-29T06:09:38.823Z"
   },
   {
    "duration": 13,
    "start_time": "2022-07-29T06:10:01.609Z"
   },
   {
    "duration": 24,
    "start_time": "2022-07-29T06:10:49.283Z"
   },
   {
    "duration": 13,
    "start_time": "2022-07-29T06:19:20.136Z"
   },
   {
    "duration": 20,
    "start_time": "2022-07-29T06:20:28.968Z"
   },
   {
    "duration": 15,
    "start_time": "2022-07-29T06:20:44.085Z"
   },
   {
    "duration": 133,
    "start_time": "2022-07-29T06:22:10.014Z"
   },
   {
    "duration": 105,
    "start_time": "2022-07-29T06:23:23.879Z"
   },
   {
    "duration": 12,
    "start_time": "2022-07-29T06:26:59.912Z"
   },
   {
    "duration": 12,
    "start_time": "2022-07-29T06:27:27.420Z"
   },
   {
    "duration": 463,
    "start_time": "2022-07-29T06:28:27.829Z"
   },
   {
    "duration": 21,
    "start_time": "2022-07-29T06:28:28.294Z"
   },
   {
    "duration": 14,
    "start_time": "2022-07-29T06:28:28.317Z"
   },
   {
    "duration": 26,
    "start_time": "2022-07-29T06:28:28.333Z"
   },
   {
    "duration": 38,
    "start_time": "2022-07-29T06:28:28.360Z"
   },
   {
    "duration": 3,
    "start_time": "2022-07-29T06:28:28.400Z"
   },
   {
    "duration": 13,
    "start_time": "2022-07-29T06:28:28.405Z"
   },
   {
    "duration": 4,
    "start_time": "2022-07-29T06:28:28.420Z"
   },
   {
    "duration": 9,
    "start_time": "2022-07-29T06:28:28.425Z"
   },
   {
    "duration": 24,
    "start_time": "2022-07-29T06:28:28.436Z"
   },
   {
    "duration": 32,
    "start_time": "2022-07-29T06:28:28.462Z"
   },
   {
    "duration": 7,
    "start_time": "2022-07-29T06:28:28.496Z"
   },
   {
    "duration": 4,
    "start_time": "2022-07-29T06:28:28.505Z"
   },
   {
    "duration": 18,
    "start_time": "2022-07-29T06:28:28.510Z"
   },
   {
    "duration": 36,
    "start_time": "2022-07-29T06:28:28.529Z"
   },
   {
    "duration": 21,
    "start_time": "2022-07-29T06:28:28.568Z"
   },
   {
    "duration": 3,
    "start_time": "2022-07-29T06:28:28.590Z"
   },
   {
    "duration": 11,
    "start_time": "2022-07-29T06:28:28.595Z"
   },
   {
    "duration": 6,
    "start_time": "2022-07-29T06:28:28.608Z"
   },
   {
    "duration": 3,
    "start_time": "2022-07-29T06:28:28.621Z"
   },
   {
    "duration": 10,
    "start_time": "2022-07-29T06:28:28.626Z"
   },
   {
    "duration": 32,
    "start_time": "2022-07-29T06:28:28.637Z"
   },
   {
    "duration": 7,
    "start_time": "2022-07-29T06:28:28.672Z"
   },
   {
    "duration": 2,
    "start_time": "2022-07-29T06:28:28.681Z"
   },
   {
    "duration": 5,
    "start_time": "2022-07-29T06:28:28.684Z"
   },
   {
    "duration": 14,
    "start_time": "2022-07-29T06:28:47.770Z"
   },
   {
    "duration": 15,
    "start_time": "2022-07-29T06:29:02.578Z"
   },
   {
    "duration": 14,
    "start_time": "2022-07-29T06:29:31.425Z"
   },
   {
    "duration": 12,
    "start_time": "2022-07-29T06:29:39.776Z"
   },
   {
    "duration": 14,
    "start_time": "2022-07-29T06:30:03.129Z"
   },
   {
    "duration": 474,
    "start_time": "2022-07-29T06:30:10.022Z"
   },
   {
    "duration": 20,
    "start_time": "2022-07-29T06:30:10.498Z"
   },
   {
    "duration": 15,
    "start_time": "2022-07-29T06:30:10.519Z"
   },
   {
    "duration": 24,
    "start_time": "2022-07-29T06:30:10.536Z"
   },
   {
    "duration": 31,
    "start_time": "2022-07-29T06:30:10.562Z"
   },
   {
    "duration": 3,
    "start_time": "2022-07-29T06:30:10.595Z"
   },
   {
    "duration": 16,
    "start_time": "2022-07-29T06:30:10.599Z"
   },
   {
    "duration": 6,
    "start_time": "2022-07-29T06:30:10.616Z"
   },
   {
    "duration": 10,
    "start_time": "2022-07-29T06:30:10.623Z"
   },
   {
    "duration": 5,
    "start_time": "2022-07-29T06:30:10.652Z"
   },
   {
    "duration": 38,
    "start_time": "2022-07-29T06:30:10.659Z"
   },
   {
    "duration": 9,
    "start_time": "2022-07-29T06:30:10.698Z"
   },
   {
    "duration": 5,
    "start_time": "2022-07-29T06:30:10.709Z"
   },
   {
    "duration": 18,
    "start_time": "2022-07-29T06:30:10.715Z"
   },
   {
    "duration": 33,
    "start_time": "2022-07-29T06:30:10.734Z"
   },
   {
    "duration": 10,
    "start_time": "2022-07-29T06:30:10.769Z"
   },
   {
    "duration": 5,
    "start_time": "2022-07-29T06:30:10.781Z"
   },
   {
    "duration": 12,
    "start_time": "2022-07-29T06:30:10.787Z"
   },
   {
    "duration": 5,
    "start_time": "2022-07-29T06:30:10.801Z"
   },
   {
    "duration": 3,
    "start_time": "2022-07-29T06:30:10.807Z"
   },
   {
    "duration": 10,
    "start_time": "2022-07-29T06:30:10.811Z"
   },
   {
    "duration": 40,
    "start_time": "2022-07-29T06:30:10.823Z"
   },
   {
    "duration": 2,
    "start_time": "2022-07-29T06:30:10.864Z"
   },
   {
    "duration": 5,
    "start_time": "2022-07-29T06:30:10.868Z"
   },
   {
    "duration": 5,
    "start_time": "2022-07-29T06:30:10.874Z"
   },
   {
    "duration": 15,
    "start_time": "2022-07-29T06:30:26.431Z"
   },
   {
    "duration": 13,
    "start_time": "2022-07-29T06:30:40.573Z"
   },
   {
    "duration": 12,
    "start_time": "2022-07-29T06:30:44.136Z"
   },
   {
    "duration": 13,
    "start_time": "2022-07-29T06:31:02.400Z"
   },
   {
    "duration": 13,
    "start_time": "2022-07-29T06:31:22.102Z"
   },
   {
    "duration": 14,
    "start_time": "2022-07-29T06:31:35.620Z"
   },
   {
    "duration": 13,
    "start_time": "2022-07-29T06:34:08.401Z"
   },
   {
    "duration": 14,
    "start_time": "2022-07-29T06:48:44.488Z"
   },
   {
    "duration": 463,
    "start_time": "2022-07-29T07:19:17.443Z"
   },
   {
    "duration": 20,
    "start_time": "2022-07-29T07:19:17.908Z"
   },
   {
    "duration": 13,
    "start_time": "2022-07-29T07:19:17.929Z"
   },
   {
    "duration": 10,
    "start_time": "2022-07-29T07:19:17.943Z"
   },
   {
    "duration": 41,
    "start_time": "2022-07-29T07:19:17.955Z"
   },
   {
    "duration": 3,
    "start_time": "2022-07-29T07:19:17.997Z"
   },
   {
    "duration": 9,
    "start_time": "2022-07-29T07:19:18.001Z"
   },
   {
    "duration": 4,
    "start_time": "2022-07-29T07:19:18.011Z"
   },
   {
    "duration": 10,
    "start_time": "2022-07-29T07:19:18.016Z"
   },
   {
    "duration": 8,
    "start_time": "2022-07-29T07:19:18.028Z"
   },
   {
    "duration": 43,
    "start_time": "2022-07-29T07:19:18.037Z"
   },
   {
    "duration": 8,
    "start_time": "2022-07-29T07:19:18.082Z"
   },
   {
    "duration": 5,
    "start_time": "2022-07-29T07:19:18.092Z"
   },
   {
    "duration": 17,
    "start_time": "2022-07-29T07:19:18.098Z"
   },
   {
    "duration": 15,
    "start_time": "2022-07-29T07:19:18.117Z"
   },
   {
    "duration": 15,
    "start_time": "2022-07-29T07:19:18.152Z"
   },
   {
    "duration": 9,
    "start_time": "2022-07-29T07:19:18.169Z"
   },
   {
    "duration": 10,
    "start_time": "2022-07-29T07:19:18.180Z"
   },
   {
    "duration": 5,
    "start_time": "2022-07-29T07:19:18.191Z"
   },
   {
    "duration": 3,
    "start_time": "2022-07-29T07:19:18.197Z"
   },
   {
    "duration": 9,
    "start_time": "2022-07-29T07:19:18.201Z"
   },
   {
    "duration": 14,
    "start_time": "2022-07-29T07:19:18.211Z"
   },
   {
    "duration": 33,
    "start_time": "2022-07-29T07:19:18.226Z"
   },
   {
    "duration": 14,
    "start_time": "2022-07-29T07:19:18.260Z"
   },
   {
    "duration": 5,
    "start_time": "2022-07-29T07:19:18.275Z"
   },
   {
    "duration": 11,
    "start_time": "2022-07-29T07:19:43.632Z"
   },
   {
    "duration": 68,
    "start_time": "2022-07-29T07:20:54.216Z"
   },
   {
    "duration": 20,
    "start_time": "2022-07-29T07:21:05.351Z"
   },
   {
    "duration": 19,
    "start_time": "2022-07-29T07:26:24.733Z"
   },
   {
    "duration": 21,
    "start_time": "2022-07-29T07:26:49.426Z"
   },
   {
    "duration": 31,
    "start_time": "2022-07-29T07:48:36.696Z"
   },
   {
    "duration": 32,
    "start_time": "2022-07-29T07:48:46.993Z"
   },
   {
    "duration": 80,
    "start_time": "2022-07-29T07:50:06.637Z"
   },
   {
    "duration": 22,
    "start_time": "2022-07-29T07:50:51.174Z"
   },
   {
    "duration": 240,
    "start_time": "2022-07-29T07:56:05.704Z"
   },
   {
    "duration": 91,
    "start_time": "2022-07-29T07:56:13.998Z"
   },
   {
    "duration": 32,
    "start_time": "2022-07-29T07:56:36.033Z"
   },
   {
    "duration": 73,
    "start_time": "2022-07-29T07:57:05.471Z"
   },
   {
    "duration": 20,
    "start_time": "2022-07-29T07:57:22.472Z"
   },
   {
    "duration": 28,
    "start_time": "2022-07-29T07:57:37.174Z"
   },
   {
    "duration": 24,
    "start_time": "2022-07-29T07:57:56.429Z"
   },
   {
    "duration": 28,
    "start_time": "2022-07-29T07:58:06.128Z"
   },
   {
    "duration": 24,
    "start_time": "2022-07-29T07:58:15.907Z"
   },
   {
    "duration": 23,
    "start_time": "2022-07-29T07:58:32.029Z"
   },
   {
    "duration": 30,
    "start_time": "2022-07-29T07:59:48.159Z"
   },
   {
    "duration": 25,
    "start_time": "2022-07-29T08:00:10.802Z"
   },
   {
    "duration": 24,
    "start_time": "2022-07-29T08:00:30.309Z"
   },
   {
    "duration": 24,
    "start_time": "2022-07-29T08:21:22.387Z"
   },
   {
    "duration": 20,
    "start_time": "2022-07-29T08:21:44.638Z"
   },
   {
    "duration": 12,
    "start_time": "2022-07-29T08:24:06.195Z"
   },
   {
    "duration": 17,
    "start_time": "2022-07-29T08:25:27.339Z"
   },
   {
    "duration": 16,
    "start_time": "2022-07-29T08:33:19.267Z"
   },
   {
    "duration": 17,
    "start_time": "2022-07-29T08:33:52.330Z"
   },
   {
    "duration": 21,
    "start_time": "2022-07-29T08:36:34.733Z"
   },
   {
    "duration": 18,
    "start_time": "2022-07-29T08:36:55.622Z"
   },
   {
    "duration": 20,
    "start_time": "2022-07-29T08:55:20.963Z"
   },
   {
    "duration": 27,
    "start_time": "2022-07-29T08:56:09.377Z"
   },
   {
    "duration": 23,
    "start_time": "2022-07-29T08:57:56.108Z"
   },
   {
    "duration": 28,
    "start_time": "2022-07-29T09:00:18.047Z"
   },
   {
    "duration": 23,
    "start_time": "2022-07-29T09:01:13.358Z"
   },
   {
    "duration": 22,
    "start_time": "2022-07-29T09:04:19.030Z"
   },
   {
    "duration": 16,
    "start_time": "2022-07-29T09:04:25.320Z"
   },
   {
    "duration": 21,
    "start_time": "2022-07-29T09:05:23.820Z"
   },
   {
    "duration": 454,
    "start_time": "2022-07-29T09:30:57.640Z"
   },
   {
    "duration": 19,
    "start_time": "2022-07-29T09:30:58.096Z"
   },
   {
    "duration": 12,
    "start_time": "2022-07-29T09:30:58.117Z"
   },
   {
    "duration": 23,
    "start_time": "2022-07-29T09:30:58.131Z"
   },
   {
    "duration": 29,
    "start_time": "2022-07-29T09:30:58.155Z"
   },
   {
    "duration": 3,
    "start_time": "2022-07-29T09:30:58.185Z"
   },
   {
    "duration": 9,
    "start_time": "2022-07-29T09:30:58.190Z"
   },
   {
    "duration": 3,
    "start_time": "2022-07-29T09:30:58.200Z"
   },
   {
    "duration": 6,
    "start_time": "2022-07-29T09:30:58.205Z"
   },
   {
    "duration": 5,
    "start_time": "2022-07-29T09:30:58.213Z"
   },
   {
    "duration": 56,
    "start_time": "2022-07-29T09:30:58.219Z"
   },
   {
    "duration": 8,
    "start_time": "2022-07-29T09:30:58.277Z"
   },
   {
    "duration": 3,
    "start_time": "2022-07-29T09:30:58.287Z"
   },
   {
    "duration": 19,
    "start_time": "2022-07-29T09:30:58.292Z"
   },
   {
    "duration": 40,
    "start_time": "2022-07-29T09:30:58.312Z"
   },
   {
    "duration": 10,
    "start_time": "2022-07-29T09:30:58.353Z"
   },
   {
    "duration": 6,
    "start_time": "2022-07-29T09:30:58.364Z"
   },
   {
    "duration": 10,
    "start_time": "2022-07-29T09:30:58.371Z"
   },
   {
    "duration": 7,
    "start_time": "2022-07-29T09:30:58.382Z"
   },
   {
    "duration": 3,
    "start_time": "2022-07-29T09:30:58.390Z"
   },
   {
    "duration": 13,
    "start_time": "2022-07-29T09:30:58.394Z"
   },
   {
    "duration": 1244,
    "start_time": "2022-07-29T09:30:58.408Z"
   },
   {
    "duration": 0,
    "start_time": "2022-07-29T09:30:59.653Z"
   },
   {
    "duration": 0,
    "start_time": "2022-07-29T09:30:59.655Z"
   },
   {
    "duration": 0,
    "start_time": "2022-07-29T09:30:59.656Z"
   },
   {
    "duration": 19,
    "start_time": "2022-07-29T09:31:36.571Z"
   },
   {
    "duration": 22,
    "start_time": "2022-07-29T09:36:11.304Z"
   },
   {
    "duration": 28,
    "start_time": "2022-07-29T09:36:23.071Z"
   },
   {
    "duration": 26,
    "start_time": "2022-07-29T09:37:11.689Z"
   },
   {
    "duration": 39,
    "start_time": "2022-07-29T09:37:51.220Z"
   },
   {
    "duration": 34,
    "start_time": "2022-07-29T09:38:44.026Z"
   },
   {
    "duration": 30,
    "start_time": "2022-07-29T09:39:29.708Z"
   },
   {
    "duration": 43,
    "start_time": "2022-07-29T09:40:30.818Z"
   },
   {
    "duration": 46,
    "start_time": "2022-07-29T09:40:37.100Z"
   },
   {
    "duration": 79,
    "start_time": "2022-07-29T09:44:40.720Z"
   },
   {
    "duration": 16,
    "start_time": "2022-07-29T09:46:23.506Z"
   },
   {
    "duration": 18,
    "start_time": "2022-07-29T09:50:32.971Z"
   },
   {
    "duration": 1212,
    "start_time": "2022-07-29T09:54:49.195Z"
   },
   {
    "duration": 18,
    "start_time": "2022-07-29T09:55:30.936Z"
   },
   {
    "duration": 16,
    "start_time": "2022-07-29T09:58:21.708Z"
   },
   {
    "duration": 21,
    "start_time": "2022-07-29T10:04:29.507Z"
   },
   {
    "duration": 18,
    "start_time": "2022-07-29T10:04:34.474Z"
   },
   {
    "duration": 18,
    "start_time": "2022-07-29T10:09:10.737Z"
   },
   {
    "duration": 19,
    "start_time": "2022-07-29T10:09:41.663Z"
   },
   {
    "duration": 43,
    "start_time": "2022-07-29T10:09:56.910Z"
   },
   {
    "duration": 11,
    "start_time": "2022-07-29T10:10:30.274Z"
   },
   {
    "duration": 30,
    "start_time": "2022-07-29T10:10:35.094Z"
   },
   {
    "duration": 1369,
    "start_time": "2022-07-29T10:11:34.033Z"
   },
   {
    "duration": 32,
    "start_time": "2022-07-29T10:12:34.989Z"
   },
   {
    "duration": 43,
    "start_time": "2022-07-29T10:12:50.344Z"
   },
   {
    "duration": 30,
    "start_time": "2022-07-29T10:12:59.840Z"
   },
   {
    "duration": 30,
    "start_time": "2022-07-29T10:17:02.694Z"
   },
   {
    "duration": 25,
    "start_time": "2022-07-29T10:20:09.193Z"
   },
   {
    "duration": 10,
    "start_time": "2022-07-29T10:20:34.201Z"
   },
   {
    "duration": 71,
    "start_time": "2022-07-29T10:20:55.755Z"
   },
   {
    "duration": 8,
    "start_time": "2022-07-29T10:20:58.393Z"
   },
   {
    "duration": 500,
    "start_time": "2022-07-29T10:22:04.123Z"
   },
   {
    "duration": 27,
    "start_time": "2022-07-29T10:22:04.625Z"
   },
   {
    "duration": 16,
    "start_time": "2022-07-29T10:22:04.654Z"
   },
   {
    "duration": 9,
    "start_time": "2022-07-29T10:22:04.672Z"
   },
   {
    "duration": 36,
    "start_time": "2022-07-29T10:22:04.683Z"
   },
   {
    "duration": 4,
    "start_time": "2022-07-29T10:22:04.720Z"
   },
   {
    "duration": 35,
    "start_time": "2022-07-29T10:22:04.726Z"
   },
   {
    "duration": 6,
    "start_time": "2022-07-29T10:22:04.763Z"
   },
   {
    "duration": 13,
    "start_time": "2022-07-29T10:22:04.772Z"
   },
   {
    "duration": 4,
    "start_time": "2022-07-29T10:22:04.789Z"
   },
   {
    "duration": 59,
    "start_time": "2022-07-29T10:22:04.795Z"
   },
   {
    "duration": 9,
    "start_time": "2022-07-29T10:22:04.856Z"
   },
   {
    "duration": 4,
    "start_time": "2022-07-29T10:22:04.866Z"
   },
   {
    "duration": 19,
    "start_time": "2022-07-29T10:22:04.872Z"
   },
   {
    "duration": 17,
    "start_time": "2022-07-29T10:22:04.893Z"
   },
   {
    "duration": 40,
    "start_time": "2022-07-29T10:22:04.911Z"
   },
   {
    "duration": 4,
    "start_time": "2022-07-29T10:22:04.953Z"
   },
   {
    "duration": 14,
    "start_time": "2022-07-29T10:22:04.958Z"
   },
   {
    "duration": 6,
    "start_time": "2022-07-29T10:22:04.974Z"
   },
   {
    "duration": 4,
    "start_time": "2022-07-29T10:22:04.982Z"
   },
   {
    "duration": 11,
    "start_time": "2022-07-29T10:22:04.987Z"
   },
   {
    "duration": 19,
    "start_time": "2022-07-29T10:22:04.999Z"
   },
   {
    "duration": 59,
    "start_time": "2022-07-29T10:22:05.020Z"
   },
   {
    "duration": 20,
    "start_time": "2022-07-29T10:22:05.080Z"
   },
   {
    "duration": 20,
    "start_time": "2022-07-29T10:22:05.101Z"
   },
   {
    "duration": 395,
    "start_time": "2022-07-29T12:01:15.606Z"
   },
   {
    "duration": 28,
    "start_time": "2022-07-29T12:01:16.003Z"
   },
   {
    "duration": 44,
    "start_time": "2022-07-29T12:01:16.033Z"
   },
   {
    "duration": 11,
    "start_time": "2022-07-29T12:01:16.080Z"
   },
   {
    "duration": 42,
    "start_time": "2022-07-29T12:01:16.093Z"
   },
   {
    "duration": 4,
    "start_time": "2022-07-29T12:01:16.137Z"
   },
   {
    "duration": 8,
    "start_time": "2022-07-29T12:01:16.153Z"
   },
   {
    "duration": 10,
    "start_time": "2022-07-29T12:01:16.162Z"
   },
   {
    "duration": 12,
    "start_time": "2022-07-29T12:01:16.174Z"
   },
   {
    "duration": 5,
    "start_time": "2022-07-29T12:01:16.189Z"
   },
   {
    "duration": 40,
    "start_time": "2022-07-29T12:01:16.195Z"
   },
   {
    "duration": 22,
    "start_time": "2022-07-29T12:01:16.237Z"
   },
   {
    "duration": 4,
    "start_time": "2022-07-29T12:01:16.260Z"
   },
   {
    "duration": 17,
    "start_time": "2022-07-29T12:01:16.265Z"
   },
   {
    "duration": 14,
    "start_time": "2022-07-29T12:01:16.283Z"
   },
   {
    "duration": 9,
    "start_time": "2022-07-29T12:01:16.299Z"
   },
   {
    "duration": 5,
    "start_time": "2022-07-29T12:01:16.309Z"
   },
   {
    "duration": 41,
    "start_time": "2022-07-29T12:01:16.315Z"
   },
   {
    "duration": 6,
    "start_time": "2022-07-29T12:01:16.357Z"
   },
   {
    "duration": 3,
    "start_time": "2022-07-29T12:01:16.364Z"
   },
   {
    "duration": 9,
    "start_time": "2022-07-29T12:01:16.368Z"
   },
   {
    "duration": 16,
    "start_time": "2022-07-29T12:01:16.378Z"
   },
   {
    "duration": 26,
    "start_time": "2022-07-29T12:01:16.395Z"
   },
   {
    "duration": 37,
    "start_time": "2022-07-29T12:01:16.422Z"
   },
   {
    "duration": 19,
    "start_time": "2022-07-29T12:01:16.460Z"
   },
   {
    "duration": 54,
    "start_time": "2022-07-29T14:12:37.729Z"
   },
   {
    "duration": 718,
    "start_time": "2022-07-29T14:12:42.391Z"
   },
   {
    "duration": 26,
    "start_time": "2022-07-29T14:12:43.111Z"
   },
   {
    "duration": 21,
    "start_time": "2022-07-29T14:12:43.138Z"
   },
   {
    "duration": 13,
    "start_time": "2022-07-29T14:12:43.161Z"
   },
   {
    "duration": 66,
    "start_time": "2022-07-29T14:12:43.178Z"
   },
   {
    "duration": 4,
    "start_time": "2022-07-29T14:12:43.246Z"
   },
   {
    "duration": 15,
    "start_time": "2022-07-29T14:12:43.252Z"
   },
   {
    "duration": 6,
    "start_time": "2022-07-29T14:12:43.268Z"
   },
   {
    "duration": 9,
    "start_time": "2022-07-29T14:12:43.298Z"
   },
   {
    "duration": 5,
    "start_time": "2022-07-29T14:12:43.308Z"
   },
   {
    "duration": 36,
    "start_time": "2022-07-29T14:12:43.314Z"
   },
   {
    "duration": 9,
    "start_time": "2022-07-29T14:12:43.352Z"
   },
   {
    "duration": 39,
    "start_time": "2022-07-29T14:12:43.363Z"
   },
   {
    "duration": 20,
    "start_time": "2022-07-29T14:12:43.405Z"
   },
   {
    "duration": 18,
    "start_time": "2022-07-29T14:12:43.427Z"
   },
   {
    "duration": 12,
    "start_time": "2022-07-29T14:12:43.447Z"
   },
   {
    "duration": 12,
    "start_time": "2022-07-29T14:12:43.461Z"
   },
   {
    "duration": 37,
    "start_time": "2022-07-29T14:12:43.475Z"
   },
   {
    "duration": 19,
    "start_time": "2022-07-29T14:12:43.514Z"
   },
   {
    "duration": 7,
    "start_time": "2022-07-29T14:12:43.536Z"
   },
   {
    "duration": 28,
    "start_time": "2022-07-29T14:12:43.545Z"
   },
   {
    "duration": 31,
    "start_time": "2022-07-29T14:12:43.575Z"
   },
   {
    "duration": 13,
    "start_time": "2022-07-29T14:12:43.608Z"
   },
   {
    "duration": 13,
    "start_time": "2022-07-29T14:12:46.147Z"
   },
   {
    "duration": 12,
    "start_time": "2022-07-29T14:12:50.479Z"
   },
   {
    "duration": 84,
    "start_time": "2022-07-29T16:25:39.107Z"
   }
  ],
  "celltoolbar": "Edit Metadata",
  "colab": {
   "name": "dpp_template_part2.ipynb",
   "provenance": []
  },
  "kernelspec": {
   "display_name": "Python 3",
   "language": "python",
   "name": "python3"
  },
  "language_info": {
   "codemirror_mode": {
    "name": "ipython",
    "version": 3
   },
   "file_extension": ".py",
   "mimetype": "text/x-python",
   "name": "python",
   "nbconvert_exporter": "python",
   "pygments_lexer": "ipython3",
   "version": "3.9.1"
  },
  "toc": {
   "base_numbering": 1,
   "nav_menu": {},
   "number_sections": true,
   "sideBar": true,
   "skip_h1_title": true,
   "title_cell": "Table of Contents",
   "title_sidebar": "Contents",
   "toc_cell": false,
   "toc_position": {},
   "toc_section_display": true,
   "toc_window_display": true
  },
  "vscode": {
   "interpreter": {
    "hash": "aee8b7b246df8f9039afb4144a1f6fd8d2ca17a180786b69acc140d282b71a49"
   }
  }
 },
 "nbformat": 4,
 "nbformat_minor": 5
}
