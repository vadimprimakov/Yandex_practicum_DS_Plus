{
 "cells": [
  {
   "cell_type": "markdown",
   "metadata": {},
   "source": [
    "# Рекомендация тарифов"
   ]
  },
  {
   "cell_type": "markdown",
   "metadata": {},
   "source": [
    "В вашем распоряжении данные о поведении клиентов, которые уже перешли на эти тарифы (из проекта курса «Статистический анализ данных»). Нужно построить модель для задачи классификации, которая выберет подходящий тариф. Предобработка данных не понадобится — вы её уже сделали.\n",
    "\n",
    "Постройте модель с максимально большим значением *accuracy*. Чтобы сдать проект успешно, нужно довести долю правильных ответов по крайней мере до 0.75. Проверьте *accuracy* на тестовой выборке самостоятельно.\n",
    "\n",
    "Оператор мобильной связи «Мегалайн» выяснил: многие клиенты пользуются архивными тарифами. Они хотят построить систему, способную проанализировать поведение клиентов и предложить пользователям новый тариф: «Смарт» или «Ультра»."
   ]
  },
  {
   "cell_type": "markdown",
   "metadata": {},
   "source": [
    "**Описание данных**\n",
    "\n",
    "Каждый объект в наборе данных — это информация о поведении одного пользователя за месяц. \n",
    "\n",
    "Известно:\n",
    "\n",
    "- сalls — количество звонков,\n",
    "- minutes — суммарная длительность звонков в минутах,\n",
    "- messages — количество sms-сообщений,\n",
    "- mb_used — израсходованный интернет-трафик в Мб,\n",
    "- is_ultra — каким тарифом пользовался в течение месяца («Ультра» — 1, «Смарт» — 0)."
   ]
  },
  {
   "cell_type": "markdown",
   "metadata": {},
   "source": [
    "## Откройте и изучите файл"
   ]
  },
  {
   "cell_type": "code",
   "execution_count": 1,
   "metadata": {},
   "outputs": [],
   "source": [
    "#блок загрузки библиотек\n",
    "\n",
    "import pandas as pd\n",
    "import matplotlib.pyplot as plt\n",
    "import numpy as np\n",
    "pd.options.display.float_format = '{:.2f}'.format\n",
    "from joblib import dump\n",
    "from joblib import load\n",
    "from sklearn.tree import DecisionTreeClassifier\n",
    "from sklearn.tree import DecisionTreeRegressor\n",
    "from sklearn.ensemble import RandomForestClassifier\n",
    "from sklearn.ensemble import RandomForestRegressor\n",
    "from sklearn.linear_model import LogisticRegression\n",
    "from sklearn.linear_model import LinearRegression\n",
    "from sklearn.model_selection import train_test_split\n",
    "from sklearn.metrics import accuracy_score\n",
    "from sklearn.metrics import mean_squared_error\n",
    "from sklearn.dummy import DummyClassifier   "
   ]
  },
  {
   "cell_type": "code",
   "execution_count": 2,
   "metadata": {
    "scrolled": true
   },
   "outputs": [
    {
     "data": {
      "text/html": [
       "<div>\n",
       "<style scoped>\n",
       "    .dataframe tbody tr th:only-of-type {\n",
       "        vertical-align: middle;\n",
       "    }\n",
       "\n",
       "    .dataframe tbody tr th {\n",
       "        vertical-align: top;\n",
       "    }\n",
       "\n",
       "    .dataframe thead th {\n",
       "        text-align: right;\n",
       "    }\n",
       "</style>\n",
       "<table border=\"1\" class=\"dataframe\">\n",
       "  <thead>\n",
       "    <tr style=\"text-align: right;\">\n",
       "      <th></th>\n",
       "      <th>calls</th>\n",
       "      <th>minutes</th>\n",
       "      <th>messages</th>\n",
       "      <th>mb_used</th>\n",
       "      <th>is_ultra</th>\n",
       "    </tr>\n",
       "  </thead>\n",
       "  <tbody>\n",
       "    <tr>\n",
       "      <th>0</th>\n",
       "      <td>40.00</td>\n",
       "      <td>311.90</td>\n",
       "      <td>83.00</td>\n",
       "      <td>19915.42</td>\n",
       "      <td>0</td>\n",
       "    </tr>\n",
       "    <tr>\n",
       "      <th>1</th>\n",
       "      <td>85.00</td>\n",
       "      <td>516.75</td>\n",
       "      <td>56.00</td>\n",
       "      <td>22696.96</td>\n",
       "      <td>0</td>\n",
       "    </tr>\n",
       "    <tr>\n",
       "      <th>2</th>\n",
       "      <td>77.00</td>\n",
       "      <td>467.66</td>\n",
       "      <td>86.00</td>\n",
       "      <td>21060.45</td>\n",
       "      <td>0</td>\n",
       "    </tr>\n",
       "    <tr>\n",
       "      <th>3</th>\n",
       "      <td>106.00</td>\n",
       "      <td>745.53</td>\n",
       "      <td>81.00</td>\n",
       "      <td>8437.39</td>\n",
       "      <td>1</td>\n",
       "    </tr>\n",
       "    <tr>\n",
       "      <th>4</th>\n",
       "      <td>66.00</td>\n",
       "      <td>418.74</td>\n",
       "      <td>1.00</td>\n",
       "      <td>14502.75</td>\n",
       "      <td>0</td>\n",
       "    </tr>\n",
       "  </tbody>\n",
       "</table>\n",
       "</div>"
      ],
      "text/plain": [
       "   calls  minutes  messages  mb_used  is_ultra\n",
       "0  40.00   311.90     83.00 19915.42         0\n",
       "1  85.00   516.75     56.00 22696.96         0\n",
       "2  77.00   467.66     86.00 21060.45         0\n",
       "3 106.00   745.53     81.00  8437.39         1\n",
       "4  66.00   418.74      1.00 14502.75         0"
      ]
     },
     "metadata": {},
     "output_type": "display_data"
    }
   ],
   "source": [
    "# код загрузки датасета\n",
    "\n",
    "try:\n",
    "    tariffs = pd.read_csv('/datasets/users_behavior.csv')\n",
    "except:\n",
    "    tariffs = pd.read_csv('/Users/vadimprimakov/Documents/Yandex_practicum/CSV/06_users_behavior.csv')\n",
    "    \n",
    "display(tariffs.head())     "
   ]
  },
  {
   "cell_type": "markdown",
   "metadata": {
    "scrolled": true
   },
   "source": [
    "**Изучим общую информацию по предоставленным данным, выявим, что относится к fearures, а что к target**\n",
    "\n",
    "Предобработка данных по заданию не требуется, но на данный момент изменим тип данных у столбцов \n",
    "calls и messages на целочисленный "
   ]
  },
  {
   "cell_type": "code",
   "execution_count": 3,
   "metadata": {},
   "outputs": [
    {
     "data": {
      "text/plain": [
       "(3214, 5)"
      ]
     },
     "execution_count": 3,
     "metadata": {},
     "output_type": "execute_result"
    }
   ],
   "source": [
    "tariffs.shape "
   ]
  },
  {
   "cell_type": "code",
   "execution_count": 4,
   "metadata": {
    "scrolled": true
   },
   "outputs": [
    {
     "name": "stdout",
     "output_type": "stream",
     "text": [
      "<class 'pandas.core.frame.DataFrame'>\n",
      "RangeIndex: 3214 entries, 0 to 3213\n",
      "Data columns (total 5 columns):\n",
      " #   Column    Non-Null Count  Dtype  \n",
      "---  ------    --------------  -----  \n",
      " 0   calls     3214 non-null   float64\n",
      " 1   minutes   3214 non-null   float64\n",
      " 2   messages  3214 non-null   float64\n",
      " 3   mb_used   3214 non-null   float64\n",
      " 4   is_ultra  3214 non-null   int64  \n",
      "dtypes: float64(4), int64(1)\n",
      "memory usage: 125.7 KB\n"
     ]
    }
   ],
   "source": [
    "tariffs.info() "
   ]
  },
  {
   "cell_type": "code",
   "execution_count": 5,
   "metadata": {
    "scrolled": true
   },
   "outputs": [
    {
     "data": {
      "text/html": [
       "<div>\n",
       "<style scoped>\n",
       "    .dataframe tbody tr th:only-of-type {\n",
       "        vertical-align: middle;\n",
       "    }\n",
       "\n",
       "    .dataframe tbody tr th {\n",
       "        vertical-align: top;\n",
       "    }\n",
       "\n",
       "    .dataframe thead th {\n",
       "        text-align: right;\n",
       "    }\n",
       "</style>\n",
       "<table border=\"1\" class=\"dataframe\">\n",
       "  <thead>\n",
       "    <tr style=\"text-align: right;\">\n",
       "      <th></th>\n",
       "      <th>calls</th>\n",
       "      <th>minutes</th>\n",
       "      <th>messages</th>\n",
       "      <th>mb_used</th>\n",
       "      <th>is_ultra</th>\n",
       "    </tr>\n",
       "  </thead>\n",
       "  <tbody>\n",
       "    <tr>\n",
       "      <th>count</th>\n",
       "      <td>3214.00</td>\n",
       "      <td>3214.00</td>\n",
       "      <td>3214.00</td>\n",
       "      <td>3214.00</td>\n",
       "      <td>3214.00</td>\n",
       "    </tr>\n",
       "    <tr>\n",
       "      <th>mean</th>\n",
       "      <td>63.04</td>\n",
       "      <td>438.21</td>\n",
       "      <td>38.28</td>\n",
       "      <td>17207.67</td>\n",
       "      <td>0.31</td>\n",
       "    </tr>\n",
       "    <tr>\n",
       "      <th>std</th>\n",
       "      <td>33.24</td>\n",
       "      <td>234.57</td>\n",
       "      <td>36.15</td>\n",
       "      <td>7570.97</td>\n",
       "      <td>0.46</td>\n",
       "    </tr>\n",
       "    <tr>\n",
       "      <th>min</th>\n",
       "      <td>0.00</td>\n",
       "      <td>0.00</td>\n",
       "      <td>0.00</td>\n",
       "      <td>0.00</td>\n",
       "      <td>0.00</td>\n",
       "    </tr>\n",
       "    <tr>\n",
       "      <th>25%</th>\n",
       "      <td>40.00</td>\n",
       "      <td>274.58</td>\n",
       "      <td>9.00</td>\n",
       "      <td>12491.90</td>\n",
       "      <td>0.00</td>\n",
       "    </tr>\n",
       "    <tr>\n",
       "      <th>50%</th>\n",
       "      <td>62.00</td>\n",
       "      <td>430.60</td>\n",
       "      <td>30.00</td>\n",
       "      <td>16943.24</td>\n",
       "      <td>0.00</td>\n",
       "    </tr>\n",
       "    <tr>\n",
       "      <th>75%</th>\n",
       "      <td>82.00</td>\n",
       "      <td>571.93</td>\n",
       "      <td>57.00</td>\n",
       "      <td>21424.70</td>\n",
       "      <td>1.00</td>\n",
       "    </tr>\n",
       "    <tr>\n",
       "      <th>max</th>\n",
       "      <td>244.00</td>\n",
       "      <td>1632.06</td>\n",
       "      <td>224.00</td>\n",
       "      <td>49745.73</td>\n",
       "      <td>1.00</td>\n",
       "    </tr>\n",
       "  </tbody>\n",
       "</table>\n",
       "</div>"
      ],
      "text/plain": [
       "        calls  minutes  messages  mb_used  is_ultra\n",
       "count 3214.00  3214.00   3214.00  3214.00   3214.00\n",
       "mean    63.04   438.21     38.28 17207.67      0.31\n",
       "std     33.24   234.57     36.15  7570.97      0.46\n",
       "min      0.00     0.00      0.00     0.00      0.00\n",
       "25%     40.00   274.58      9.00 12491.90      0.00\n",
       "50%     62.00   430.60     30.00 16943.24      0.00\n",
       "75%     82.00   571.93     57.00 21424.70      1.00\n",
       "max    244.00  1632.06    224.00 49745.73      1.00"
      ]
     },
     "metadata": {},
     "output_type": "display_data"
    }
   ],
   "source": [
    "display(tariffs.describe())"
   ]
  },
  {
   "cell_type": "code",
   "execution_count": 6,
   "metadata": {
    "scrolled": true
   },
   "outputs": [],
   "source": [
    "tariffs['calls'] = tariffs['calls'].astype('int')\n",
    "tariffs['messages'] = tariffs['messages'].astype('int')"
   ]
  },
  {
   "cell_type": "markdown",
   "metadata": {
    "scrolled": true
   },
   "source": [
    "**Корреляционный анализ факторов**"
   ]
  },
  {
   "cell_type": "code",
   "execution_count": 7,
   "metadata": {
    "scrolled": true
   },
   "outputs": [
    {
     "data": {
      "image/png": "[encoded data removed]",
      "text/plain": [
       "<Figure size 648x648 with 25 Axes>"
      ]
     },
     "metadata": {
      "needs_background": "light"
     },
     "output_type": "display_data"
    }
   ],
   "source": [
    "pd.plotting.scatter_matrix(tariffs, figsize=(9, 9)) \n",
    "plt.show()"
   ]
  },
  {
   "cell_type": "code",
   "execution_count": 8,
   "metadata": {
    "scrolled": false
   },
   "outputs": [
    {
     "data": {
      "image/png": "[encoded data removed]",
      "text/plain": [
       "<Figure size 432x288 with 1 Axes>"
      ]
     },
     "metadata": {
      "needs_background": "light"
     },
     "output_type": "display_data"
    }
   ],
   "source": [
    "tariffs.plot(x='calls', y='minutes', kind='scatter', grid=True) \n",
    "plt.text(100, 100, 'коэффициент корреляции: ' + str(round(tariffs['calls'].corr(tariffs['minutes']), 2)))\n",
    "plt.title(\"Корреляция между числом и продолжительностью звонков\")\n",
    "plt.ylabel(\"Продолжительность звонков\")\n",
    "plt.xlabel(\"Количество звонков\")\n",
    "plt.show()"
   ]
  },
  {
   "cell_type": "markdown",
   "metadata": {
    "scrolled": true
   },
   "source": [
    "Между количеством звонков и продолжительностью существует практически полная положительная связь. Один из признаков можно убрать."
   ]
  },
  {
   "cell_type": "code",
   "execution_count": 9,
   "metadata": {
    "scrolled": false
   },
   "outputs": [],
   "source": [
    "tariffs.drop(['calls'], axis='columns', inplace=True)"
   ]
  },
  {
   "cell_type": "markdown",
   "metadata": {
    "scrolled": true
   },
   "source": [
    "**Вывод**"
   ]
  },
  {
   "cell_type": "markdown",
   "metadata": {
    "scrolled": true
   },
   "source": [
    "В приведенных данных была произведена замена типа данных по признаками Calls и Messages. В данных есть мультиколлинеарность в признаках calls и minutes. Поэтому после проверки было принято решение избавиться от лишнего признака calls."
   ]
  },
  {
   "cell_type": "markdown",
   "metadata": {},
   "source": [
    "## Разбейте данные на выборки"
   ]
  },
  {
   "cell_type": "markdown",
   "metadata": {
    "scrolled": true
   },
   "source": [
    "**Разделение исходных данных на выборки**\n",
    "\n",
    "Данные разобьем на три части: обучающую, валидационную и тестовую. Исходные данные разбивают в соотношении 3:1:1"
   ]
  },
  {
   "cell_type": "code",
   "execution_count": 10,
   "metadata": {},
   "outputs": [],
   "source": [
    "features = tariffs.drop(['is_ultra'], axis=1)\n",
    "target = tariffs['is_ultra']"
   ]
  },
  {
   "cell_type": "code",
   "execution_count": 11,
   "metadata": {},
   "outputs": [],
   "source": [
    "features_train, features_test, target_train, target_test = train_test_split(features, \n",
    "                                                                            target, \n",
    "                                                                            test_size=0.4, \n",
    "                                                                            random_state=12345\n",
    "                                                                           ) "
   ]
  },
  {
   "cell_type": "markdown",
   "metadata": {
    "scrolled": true
   },
   "source": [
    "**Размер обучающей выборки**"
   ]
  },
  {
   "cell_type": "code",
   "execution_count": 12,
   "metadata": {
    "scrolled": true
   },
   "outputs": [
    {
     "name": "stdout",
     "output_type": "stream",
     "text": [
      "(1928, 3)\n",
      "(1928,)\n"
     ]
    }
   ],
   "source": [
    "print(features_train.shape)\n",
    "print(target_train.shape)"
   ]
  },
  {
   "cell_type": "code",
   "execution_count": 13,
   "metadata": {},
   "outputs": [],
   "source": [
    "features_valid, features_test, target_valid, target_test = train_test_split(features_test, \n",
    "                                                                            target_test, \n",
    "                                                                            test_size=0.5, \n",
    "                                                                            random_state=12345\n",
    "                                                                           ) "
   ]
  },
  {
   "cell_type": "markdown",
   "metadata": {
    "scrolled": true
   },
   "source": [
    "**Размер валидационной выборки**"
   ]
  },
  {
   "cell_type": "code",
   "execution_count": 14,
   "metadata": {
    "scrolled": false
   },
   "outputs": [
    {
     "name": "stdout",
     "output_type": "stream",
     "text": [
      "(643, 3)\n",
      "(643,)\n"
     ]
    }
   ],
   "source": [
    "print(features_valid.shape)\n",
    "print(target_valid.shape)"
   ]
  },
  {
   "cell_type": "markdown",
   "metadata": {
    "scrolled": true
   },
   "source": [
    "**Размер тестовой выборки**"
   ]
  },
  {
   "cell_type": "code",
   "execution_count": 15,
   "metadata": {
    "scrolled": false
   },
   "outputs": [
    {
     "name": "stdout",
     "output_type": "stream",
     "text": [
      "(643, 3)\n",
      "(643,)\n"
     ]
    }
   ],
   "source": [
    "print(features_test.shape)\n",
    "print(target_test.shape)"
   ]
  },
  {
   "cell_type": "markdown",
   "metadata": {},
   "source": [
    "## Исследуйте модели"
   ]
  },
  {
   "cell_type": "markdown",
   "metadata": {
    "scrolled": true
   },
   "source": [
    "**Decision Tree Classifier**"
   ]
  },
  {
   "cell_type": "code",
   "execution_count": 16,
   "metadata": {},
   "outputs": [
    {
     "name": "stdout",
     "output_type": "stream",
     "text": [
      "depth: 1  accuracy: 0.7542768273716952\n",
      "depth: 2  accuracy: 0.7822706065318819\n",
      "depth: 3  accuracy: 0.7853810264385692\n",
      "depth: 4  accuracy: 0.7884914463452566\n",
      "depth: 5  accuracy: 0.7884914463452566\n",
      "depth: 6  accuracy: 0.7744945567651633\n",
      "depth: 7  accuracy: 0.7713841368584758\n",
      "depth: 8  accuracy: 0.7744945567651633\n",
      "depth: 9  accuracy: 0.7791601866251944\n",
      "depth: 10  accuracy: 0.7698289269051322\n"
     ]
    }
   ],
   "source": [
    "best_model_dtc = None\n",
    "best_depth_dtc = 0\n",
    "best_result_dtc = 0\n",
    "for depth in range(1, 11):\n",
    "    model_dtc = DecisionTreeClassifier(random_state=12345, max_depth = depth).fit(features_train, target_train)\n",
    "    predictions_valid_dtc = model_dtc.predict(features_valid)\n",
    "    result_dtc = accuracy_score(predictions_valid_dtc, target_valid)\n",
    "    print('depth:', depth, ' accuracy:', result_dtc) \n",
    "    if best_result_dtc < result_dtc:\n",
    "        best_model_dtc = model_dtc\n",
    "        best_depth_dtc = depth\n",
    "        best_result_dtc = result_dtc     "
   ]
  },
  {
   "cell_type": "code",
   "execution_count": 17,
   "metadata": {
    "scrolled": true
   },
   "outputs": [
    {
     "name": "stdout",
     "output_type": "stream",
     "text": [
      "Лучший показатель accuracy: 0.7885\n",
      "Лучшая грубина дерева = 4\n"
     ]
    }
   ],
   "source": [
    "print('Лучший показатель accuracy:','{:.4f}'.format(best_result_dtc))\n",
    "print('Лучшая грубина дерева =', best_depth_dtc)    "
   ]
  },
  {
   "cell_type": "markdown",
   "metadata": {
    "scrolled": true
   },
   "source": [
    "**Вывод**"
   ]
  },
  {
   "cell_type": "markdown",
   "metadata": {
    "scrolled": true
   },
   "source": [
    "Точность лучшей модели из десяти равно 0.7885, с гиперпараметром - глубина дерева равным 4."
   ]
  },
  {
   "cell_type": "markdown",
   "metadata": {
    "scrolled": true
   },
   "source": [
    "**Random Forest Classifier**"
   ]
  },
  {
   "cell_type": "code",
   "execution_count": 18,
   "metadata": {},
   "outputs": [],
   "source": [
    "best_model_rfc = None\n",
    "best_est_rfc = 0\n",
    "best_depth_rfc = 0\n",
    "best_result_rfc = 0\n",
    "for est in range(2, 15, 3):\n",
    "    for depth in range(5, 15):\n",
    "        model_rfc = RandomForestClassifier(random_state=12345, n_estimators=est, max_depth=depth).fit(features_train, target_train)\n",
    "        predictions_valid_rfc = model_rfc.predict(features_valid)\n",
    "        result_rfc = accuracy_score(predictions_valid_rfc, target_valid)\n",
    "        if best_result_rfc < result_rfc:\n",
    "            best_model_rfc = model_rfc\n",
    "            best_est_rfc = est\n",
    "            best_depth_rfc = depth\n",
    "            best_result_rfc = result_rfc            "
   ]
  },
  {
   "cell_type": "code",
   "execution_count": 19,
   "metadata": {
    "scrolled": true
   },
   "outputs": [
    {
     "name": "stdout",
     "output_type": "stream",
     "text": [
      "Лучший показатель accuracy: 0.7963\n",
      "Лучшая грубина дерева = 7\n",
      "Лучшее количество оценщиков = 14\n"
     ]
    }
   ],
   "source": [
    "print('Лучший показатель accuracy:','{:.4f}'.format(best_result_rfc))\n",
    "print('Лучшая грубина дерева =', best_depth_rfc) \n",
    "print('Лучшее количество оценщиков =', best_est_rfc)    "
   ]
  },
  {
   "cell_type": "markdown",
   "metadata": {
    "scrolled": true
   },
   "source": [
    "**Вывод**"
   ]
  },
  {
   "cell_type": "markdown",
   "metadata": {
    "scrolled": true
   },
   "source": [
    "Точность лучшей модели из десяти равно 0.7963, с гиперпараметром - глубина дерева равным 7 и количество оценщиков равным 14."
   ]
  },
  {
   "cell_type": "markdown",
   "metadata": {
    "scrolled": true
   },
   "source": [
    "**Logistic Regression**"
   ]
  },
  {
   "cell_type": "code",
   "execution_count": 20,
   "metadata": {
    "scrolled": true
   },
   "outputs": [],
   "source": [
    "model_lr = LogisticRegression(random_state=12345).fit(features_train, target_train)\n",
    "predictions_valid_lr = model_lr.predict(features_valid)\n",
    "accuracy_lr = accuracy_score(predictions_valid_lr, target_valid)   "
   ]
  },
  {
   "cell_type": "code",
   "execution_count": 21,
   "metadata": {
    "scrolled": false
   },
   "outputs": [
    {
     "name": "stdout",
     "output_type": "stream",
     "text": [
      "Лучший показатель accuracy: 0.7076\n"
     ]
    }
   ],
   "source": [
    "print('Лучший показатель accuracy:','{:.4f}'.format(accuracy_lr))"
   ]
  },
  {
   "cell_type": "markdown",
   "metadata": {
    "scrolled": true
   },
   "source": [
    "**Вывод**"
   ]
  },
  {
   "cell_type": "markdown",
   "metadata": {
    "scrolled": true
   },
   "source": [
    "Точность модели Логистической регресии равна 0.7076. \n",
    "\n",
    "Точность наилучшей модели на валидационной выборке ожидаемо показал случайный лес, с показателем - 0.7963"
   ]
  },
  {
   "cell_type": "markdown",
   "metadata": {},
   "source": [
    "## Проверьте модель на тестовой выборке"
   ]
  },
  {
   "cell_type": "markdown",
   "metadata": {
    "scrolled": true
   },
   "source": [
    "Наиболее эффективной моделью стал - RandomForestClassifier, поэтому проверим ее на тестовой выборке"
   ]
  },
  {
   "cell_type": "code",
   "execution_count": 22,
   "metadata": {},
   "outputs": [],
   "source": [
    "model_rfc = RandomForestClassifier(random_state=12345, n_estimators = 14, max_depth = 7).fit(features_train, target_train)\n",
    "predictions_test_rfc = model_rfc.predict(features_test)\n",
    "result_test_rfc = accuracy_score(predictions_test_rfc, target_test)"
   ]
  },
  {
   "cell_type": "code",
   "execution_count": 23,
   "metadata": {},
   "outputs": [
    {
     "name": "stdout",
     "output_type": "stream",
     "text": [
      "Точность RandomForestClassifier: 0.8040\n"
     ]
    }
   ],
   "source": [
    "print('Точность RandomForestClassifier:','{:.4f}'.format(result_test_rfc))"
   ]
  },
  {
   "cell_type": "markdown",
   "metadata": {},
   "source": [
    "## (бонус) Проверьте модели на адекватность"
   ]
  },
  {
   "cell_type": "markdown",
   "metadata": {
    "scrolled": true
   },
   "source": [
    "Простейшая модель, которая всегда предсказывает наиболее часто встречающийся класс"
   ]
  },
  {
   "cell_type": "code",
   "execution_count": 24,
   "metadata": {
    "scrolled": true
   },
   "outputs": [
    {
     "name": "stdout",
     "output_type": "stream",
     "text": [
      "Точность простейшей модели: 0.7061\n"
     ]
    }
   ],
   "source": [
    "model_dc = DummyClassifier(strategy='most_frequent', random_state=12345)\n",
    "model_dc.fit(features_train, target_train)\n",
    "result_dc = model_dc.score(features_valid, target_valid)\n",
    "print('Точность простейшей модели:','{:.4f}'.format(result_dc))"
   ]
  },
  {
   "cell_type": "markdown",
   "metadata": {
    "scrolled": true
   },
   "source": [
    "Простейшая модель ошибается в чуть менее чем 30% случаев, выбранная в чуть менее 20%.\n",
    "Выбранная модель лучше, чем простейшая модель. Проверка на адекватность пройдена.\n",
    "Одной из целей проекта для успешного прохождения было - довести долю правильных ответов по крайней мере до 0.75. В нашем случае мы получили 0.8040, что говорит нам о достижении поставленной задачи "
   ]
  }
 ],
 "metadata": {
  "ExecuteTimeLog": [
   {
    "duration": 60,
    "start_time": "2022-10-21T10:55:26.806Z"
   },
   {
    "duration": 1417,
    "start_time": "2022-10-21T11:04:41.349Z"
   },
   {
    "duration": 326,
    "start_time": "2022-10-21T11:04:43.324Z"
   },
   {
    "duration": 4,
    "start_time": "2022-10-21T11:07:08.025Z"
   },
   {
    "duration": 12,
    "start_time": "2022-10-21T11:07:23.127Z"
   },
   {
    "duration": 4,
    "start_time": "2022-10-21T11:07:53.723Z"
   },
   {
    "duration": 12,
    "start_time": "2022-10-21T11:07:54.546Z"
   },
   {
    "duration": 13,
    "start_time": "2022-10-21T11:10:23.305Z"
   },
   {
    "duration": 30,
    "start_time": "2022-10-21T11:10:39.643Z"
   },
   {
    "duration": 80,
    "start_time": "2022-10-21T11:12:46.338Z"
   },
   {
    "duration": 9,
    "start_time": "2022-10-21T11:13:01.078Z"
   },
   {
    "duration": 12,
    "start_time": "2022-10-21T11:13:36.122Z"
   },
   {
    "duration": 15,
    "start_time": "2022-10-21T11:14:03.090Z"
   },
   {
    "duration": 1670,
    "start_time": "2022-10-21T11:14:09.263Z"
   },
   {
    "duration": 34,
    "start_time": "2022-10-21T11:14:10.936Z"
   },
   {
    "duration": 5,
    "start_time": "2022-10-21T11:14:10.973Z"
   },
   {
    "duration": 23,
    "start_time": "2022-10-21T11:14:10.981Z"
   },
   {
    "duration": 56,
    "start_time": "2022-10-21T11:14:11.006Z"
   },
   {
    "duration": 139,
    "start_time": "2022-10-21T11:14:11.064Z"
   },
   {
    "duration": 45,
    "start_time": "2022-10-21T11:14:38.289Z"
   },
   {
    "duration": 50,
    "start_time": "2022-10-21T11:14:50.510Z"
   },
   {
    "duration": 11,
    "start_time": "2022-10-21T11:14:57.563Z"
   },
   {
    "duration": 5,
    "start_time": "2022-10-21T11:16:16.584Z"
   },
   {
    "duration": 14,
    "start_time": "2022-10-21T11:16:28.813Z"
   },
   {
    "duration": 5,
    "start_time": "2022-10-21T11:17:30.826Z"
   },
   {
    "duration": 4,
    "start_time": "2022-10-21T11:18:53.145Z"
   },
   {
    "duration": 6,
    "start_time": "2022-10-21T11:20:43.473Z"
   },
   {
    "duration": 8,
    "start_time": "2022-10-21T11:23:13.406Z"
   },
   {
    "duration": 5,
    "start_time": "2022-10-21T11:23:22.908Z"
   },
   {
    "duration": 11,
    "start_time": "2022-10-21T11:25:39.377Z"
   },
   {
    "duration": 6,
    "start_time": "2022-10-21T11:25:45.682Z"
   },
   {
    "duration": 3,
    "start_time": "2022-10-21T11:25:47.268Z"
   },
   {
    "duration": 3,
    "start_time": "2022-10-21T11:26:50.228Z"
   },
   {
    "duration": 11,
    "start_time": "2022-10-21T11:56:32.033Z"
   },
   {
    "duration": 11,
    "start_time": "2022-10-21T11:56:43.376Z"
   },
   {
    "duration": 16,
    "start_time": "2022-10-21T11:57:09.374Z"
   },
   {
    "duration": 1483,
    "start_time": "2022-10-21T11:57:24.728Z"
   },
   {
    "duration": 31,
    "start_time": "2022-10-21T11:57:26.213Z"
   },
   {
    "duration": 8,
    "start_time": "2022-10-21T11:57:26.246Z"
   },
   {
    "duration": 23,
    "start_time": "2022-10-21T11:57:26.256Z"
   },
   {
    "duration": 35,
    "start_time": "2022-10-21T11:57:26.282Z"
   },
   {
    "duration": 5,
    "start_time": "2022-10-21T11:57:26.319Z"
   },
   {
    "duration": 15,
    "start_time": "2022-10-21T11:57:26.326Z"
   },
   {
    "duration": 25,
    "start_time": "2022-10-21T11:57:26.344Z"
   },
   {
    "duration": 22,
    "start_time": "2022-10-21T11:57:26.372Z"
   },
   {
    "duration": 16,
    "start_time": "2022-10-21T11:57:26.396Z"
   },
   {
    "duration": 33,
    "start_time": "2022-10-21T11:57:26.414Z"
   },
   {
    "duration": 13,
    "start_time": "2022-10-21T11:57:26.449Z"
   },
   {
    "duration": 126,
    "start_time": "2022-10-21T11:57:26.464Z"
   },
   {
    "duration": 0,
    "start_time": "2022-10-21T11:57:26.592Z"
   },
   {
    "duration": 21,
    "start_time": "2022-10-21T11:58:40.099Z"
   },
   {
    "duration": 12,
    "start_time": "2022-10-21T11:59:35.929Z"
   },
   {
    "duration": 73,
    "start_time": "2022-10-21T11:59:51.160Z"
   },
   {
    "duration": 4,
    "start_time": "2022-10-21T12:00:04.624Z"
   },
   {
    "duration": 4,
    "start_time": "2022-10-21T12:08:10.515Z"
   },
   {
    "duration": 4,
    "start_time": "2022-10-21T12:08:17.297Z"
   },
   {
    "duration": 5,
    "start_time": "2022-10-21T12:08:26.769Z"
   },
   {
    "duration": 57,
    "start_time": "2022-10-21T12:08:36.944Z"
   },
   {
    "duration": 79,
    "start_time": "2022-10-21T12:09:30.604Z"
   },
   {
    "duration": 87,
    "start_time": "2022-10-21T12:10:06.322Z"
   },
   {
    "duration": 61,
    "start_time": "2022-10-21T12:10:32.979Z"
   },
   {
    "duration": 14,
    "start_time": "2022-10-21T12:11:04.317Z"
   },
   {
    "duration": 1746,
    "start_time": "2022-10-21T12:11:19.386Z"
   },
   {
    "duration": 33,
    "start_time": "2022-10-21T12:11:21.134Z"
   },
   {
    "duration": 5,
    "start_time": "2022-10-21T12:11:21.169Z"
   },
   {
    "duration": 47,
    "start_time": "2022-10-21T12:11:21.176Z"
   },
   {
    "duration": 34,
    "start_time": "2022-10-21T12:11:21.226Z"
   },
   {
    "duration": 4,
    "start_time": "2022-10-21T12:11:21.265Z"
   },
   {
    "duration": 5,
    "start_time": "2022-10-21T12:11:21.271Z"
   },
   {
    "duration": 30,
    "start_time": "2022-10-21T12:11:21.277Z"
   },
   {
    "duration": 13,
    "start_time": "2022-10-21T12:11:21.310Z"
   },
   {
    "duration": 24,
    "start_time": "2022-10-21T12:11:21.325Z"
   },
   {
    "duration": 39,
    "start_time": "2022-10-21T12:11:21.351Z"
   },
   {
    "duration": 10,
    "start_time": "2022-10-21T12:11:21.392Z"
   },
   {
    "duration": 114,
    "start_time": "2022-10-21T12:11:21.404Z"
   },
   {
    "duration": 5,
    "start_time": "2022-10-21T12:11:21.522Z"
   },
   {
    "duration": 203,
    "start_time": "2022-10-21T12:11:21.529Z"
   },
   {
    "duration": 0,
    "start_time": "2022-10-21T12:11:21.734Z"
   },
   {
    "duration": 1778,
    "start_time": "2022-10-21T12:11:59.708Z"
   },
   {
    "duration": 42,
    "start_time": "2022-10-21T12:12:01.491Z"
   },
   {
    "duration": 86,
    "start_time": "2022-10-21T12:12:01.536Z"
   },
   {
    "duration": 105,
    "start_time": "2022-10-21T12:12:01.625Z"
   },
   {
    "duration": 111,
    "start_time": "2022-10-21T12:12:01.733Z"
   },
   {
    "duration": 86,
    "start_time": "2022-10-21T12:12:01.847Z"
   },
   {
    "duration": 110,
    "start_time": "2022-10-21T12:12:01.936Z"
   },
   {
    "duration": 160,
    "start_time": "2022-10-21T12:12:02.049Z"
   },
   {
    "duration": 71,
    "start_time": "2022-10-21T12:12:02.212Z"
   },
   {
    "duration": 51,
    "start_time": "2022-10-21T12:12:02.286Z"
   },
   {
    "duration": 61,
    "start_time": "2022-10-21T12:12:02.339Z"
   },
   {
    "duration": 104,
    "start_time": "2022-10-21T12:12:02.402Z"
   },
   {
    "duration": 132,
    "start_time": "2022-10-21T12:12:02.508Z"
   },
   {
    "duration": 4,
    "start_time": "2022-10-21T12:12:02.643Z"
   },
   {
    "duration": 2360,
    "start_time": "2022-10-21T12:12:02.649Z"
   },
   {
    "duration": 6,
    "start_time": "2022-10-21T12:12:05.011Z"
   },
   {
    "duration": 6,
    "start_time": "2022-10-21T12:14:00.473Z"
   },
   {
    "duration": 1569,
    "start_time": "2022-10-21T12:19:03.245Z"
   },
   {
    "duration": 28,
    "start_time": "2022-10-21T12:19:04.817Z"
   },
   {
    "duration": 4,
    "start_time": "2022-10-21T12:19:04.847Z"
   },
   {
    "duration": 29,
    "start_time": "2022-10-21T12:19:04.861Z"
   },
   {
    "duration": 27,
    "start_time": "2022-10-21T12:19:04.892Z"
   },
   {
    "duration": 6,
    "start_time": "2022-10-21T12:19:04.920Z"
   },
   {
    "duration": 15,
    "start_time": "2022-10-21T12:19:04.928Z"
   },
   {
    "duration": 9,
    "start_time": "2022-10-21T12:19:04.946Z"
   },
   {
    "duration": 24,
    "start_time": "2022-10-21T12:19:04.958Z"
   },
   {
    "duration": 7,
    "start_time": "2022-10-21T12:19:04.985Z"
   },
   {
    "duration": 7,
    "start_time": "2022-10-21T12:19:04.993Z"
   },
   {
    "duration": 7,
    "start_time": "2022-10-21T12:19:05.001Z"
   },
   {
    "duration": 82,
    "start_time": "2022-10-21T12:19:05.010Z"
   },
   {
    "duration": 5,
    "start_time": "2022-10-21T12:19:05.094Z"
   },
   {
    "duration": 1914,
    "start_time": "2022-10-21T12:19:05.100Z"
   },
   {
    "duration": 4,
    "start_time": "2022-10-21T12:19:07.017Z"
   },
   {
    "duration": 54,
    "start_time": "2022-10-21T12:19:07.023Z"
   },
   {
    "duration": 5,
    "start_time": "2022-10-21T12:19:35.070Z"
   },
   {
    "duration": 42,
    "start_time": "2022-10-21T12:19:37.647Z"
   },
   {
    "duration": 1659,
    "start_time": "2022-10-21T12:40:00.636Z"
   },
   {
    "duration": 32,
    "start_time": "2022-10-21T12:40:02.298Z"
   },
   {
    "duration": 11,
    "start_time": "2022-10-21T12:40:02.332Z"
   },
   {
    "duration": 54,
    "start_time": "2022-10-21T12:40:02.346Z"
   },
   {
    "duration": 43,
    "start_time": "2022-10-21T12:40:02.403Z"
   },
   {
    "duration": 17,
    "start_time": "2022-10-21T12:40:02.448Z"
   },
   {
    "duration": 45,
    "start_time": "2022-10-21T12:40:02.472Z"
   },
   {
    "duration": 27,
    "start_time": "2022-10-21T12:40:02.520Z"
   },
   {
    "duration": 39,
    "start_time": "2022-10-21T12:40:02.549Z"
   },
   {
    "duration": 28,
    "start_time": "2022-10-21T12:40:02.592Z"
   },
   {
    "duration": 69,
    "start_time": "2022-10-21T12:40:02.622Z"
   },
   {
    "duration": 111,
    "start_time": "2022-10-21T12:40:02.693Z"
   },
   {
    "duration": 114,
    "start_time": "2022-10-21T12:40:02.806Z"
   },
   {
    "duration": 4,
    "start_time": "2022-10-21T12:40:02.922Z"
   },
   {
    "duration": 2025,
    "start_time": "2022-10-21T12:40:02.928Z"
   },
   {
    "duration": 10,
    "start_time": "2022-10-21T12:40:04.957Z"
   },
   {
    "duration": 47,
    "start_time": "2022-10-21T12:40:04.969Z"
   },
   {
    "duration": 6,
    "start_time": "2022-10-21T12:40:05.018Z"
   },
   {
    "duration": 219,
    "start_time": "2022-10-21T12:40:05.026Z"
   },
   {
    "duration": 42,
    "start_time": "2022-10-21T12:41:42.277Z"
   },
   {
    "duration": 55,
    "start_time": "2022-10-21T12:41:50.475Z"
   },
   {
    "duration": 35,
    "start_time": "2022-10-21T12:42:47.189Z"
   },
   {
    "duration": 6,
    "start_time": "2022-10-21T12:43:01.772Z"
   },
   {
    "duration": 21,
    "start_time": "2022-10-21T12:48:22.749Z"
   },
   {
    "duration": 5,
    "start_time": "2022-10-21T12:48:41.410Z"
   },
   {
    "duration": 81,
    "start_time": "2022-10-21T12:49:52.018Z"
   },
   {
    "duration": 4,
    "start_time": "2022-10-21T12:49:53.380Z"
   },
   {
    "duration": 3,
    "start_time": "2022-10-21T12:49:58.929Z"
   },
   {
    "duration": 5,
    "start_time": "2022-10-21T12:50:01.978Z"
   },
   {
    "duration": 89,
    "start_time": "2022-10-21T12:50:29.747Z"
   },
   {
    "duration": 83,
    "start_time": "2022-10-21T12:50:59.094Z"
   },
   {
    "duration": 1957,
    "start_time": "2022-10-21T12:52:57.643Z"
   },
   {
    "duration": 2120,
    "start_time": "2022-10-21T12:53:11.070Z"
   },
   {
    "duration": 2050,
    "start_time": "2022-10-21T12:53:39.019Z"
   },
   {
    "duration": 2200,
    "start_time": "2022-10-21T12:54:16.474Z"
   },
   {
    "duration": 2034,
    "start_time": "2022-10-21T12:54:33.908Z"
   },
   {
    "duration": 1870,
    "start_time": "2022-10-21T12:55:11.978Z"
   },
   {
    "duration": 7,
    "start_time": "2022-10-21T12:55:13.850Z"
   },
   {
    "duration": 5,
    "start_time": "2022-10-21T12:57:10.258Z"
   },
   {
    "duration": 4,
    "start_time": "2022-10-21T12:57:52.825Z"
   },
   {
    "duration": 25,
    "start_time": "2022-10-21T12:57:57.592Z"
   },
   {
    "duration": 5,
    "start_time": "2022-10-21T12:57:58.387Z"
   },
   {
    "duration": 61,
    "start_time": "2022-10-21T12:58:44.402Z"
   },
   {
    "duration": 60,
    "start_time": "2022-10-21T12:58:56.138Z"
   },
   {
    "duration": 3,
    "start_time": "2022-10-21T12:59:25.108Z"
   },
   {
    "duration": 5,
    "start_time": "2022-10-21T13:00:13.467Z"
   },
   {
    "duration": 5,
    "start_time": "2022-10-21T13:00:22.988Z"
   },
   {
    "duration": 4,
    "start_time": "2022-10-21T13:00:51.341Z"
   },
   {
    "duration": 5,
    "start_time": "2022-10-21T13:01:09.735Z"
   },
   {
    "duration": 7,
    "start_time": "2022-10-21T13:01:29.568Z"
   },
   {
    "duration": 11,
    "start_time": "2022-10-21T13:02:39.079Z"
   },
   {
    "duration": 7,
    "start_time": "2022-10-21T13:03:00.949Z"
   },
   {
    "duration": 6,
    "start_time": "2022-10-21T13:03:06.373Z"
   },
   {
    "duration": 7,
    "start_time": "2022-10-21T13:09:46.827Z"
   },
   {
    "duration": 8,
    "start_time": "2022-10-21T13:10:16.237Z"
   },
   {
    "duration": 7,
    "start_time": "2022-10-21T13:11:17.350Z"
   },
   {
    "duration": 1431,
    "start_time": "2022-10-21T13:13:16.769Z"
   },
   {
    "duration": 28,
    "start_time": "2022-10-21T13:13:18.202Z"
   },
   {
    "duration": 5,
    "start_time": "2022-10-21T13:13:18.232Z"
   },
   {
    "duration": 23,
    "start_time": "2022-10-21T13:13:18.239Z"
   },
   {
    "duration": 59,
    "start_time": "2022-10-21T13:13:18.264Z"
   },
   {
    "duration": 5,
    "start_time": "2022-10-21T13:13:18.325Z"
   },
   {
    "duration": 24,
    "start_time": "2022-10-21T13:13:18.332Z"
   },
   {
    "duration": 14,
    "start_time": "2022-10-21T13:13:18.358Z"
   },
   {
    "duration": 5,
    "start_time": "2022-10-21T13:13:18.374Z"
   },
   {
    "duration": 7,
    "start_time": "2022-10-21T13:13:18.382Z"
   },
   {
    "duration": 10,
    "start_time": "2022-10-21T13:13:18.390Z"
   },
   {
    "duration": 8,
    "start_time": "2022-10-21T13:13:18.402Z"
   },
   {
    "duration": 98,
    "start_time": "2022-10-21T13:13:18.412Z"
   },
   {
    "duration": 4,
    "start_time": "2022-10-21T13:13:18.513Z"
   },
   {
    "duration": 1959,
    "start_time": "2022-10-21T13:13:18.519Z"
   },
   {
    "duration": 5,
    "start_time": "2022-10-21T13:13:20.480Z"
   },
   {
    "duration": 79,
    "start_time": "2022-10-21T13:13:20.487Z"
   },
   {
    "duration": 5,
    "start_time": "2022-10-21T13:13:20.568Z"
   },
   {
    "duration": 61,
    "start_time": "2022-10-21T13:13:20.575Z"
   },
   {
    "duration": 5,
    "start_time": "2022-10-21T13:13:20.638Z"
   },
   {
    "duration": 36,
    "start_time": "2022-10-21T13:13:20.645Z"
   },
   {
    "duration": 1457,
    "start_time": "2022-10-21T13:13:36.615Z"
   },
   {
    "duration": 35,
    "start_time": "2022-10-21T13:13:38.074Z"
   },
   {
    "duration": 5,
    "start_time": "2022-10-21T13:13:38.111Z"
   },
   {
    "duration": 15,
    "start_time": "2022-10-21T13:13:38.118Z"
   },
   {
    "duration": 50,
    "start_time": "2022-10-21T13:13:38.135Z"
   },
   {
    "duration": 6,
    "start_time": "2022-10-21T13:13:38.188Z"
   },
   {
    "duration": 11,
    "start_time": "2022-10-21T13:13:38.196Z"
   },
   {
    "duration": 11,
    "start_time": "2022-10-21T13:13:38.209Z"
   },
   {
    "duration": 27,
    "start_time": "2022-10-21T13:13:38.222Z"
   },
   {
    "duration": 46,
    "start_time": "2022-10-21T13:13:38.253Z"
   },
   {
    "duration": 14,
    "start_time": "2022-10-21T13:13:38.301Z"
   },
   {
    "duration": 9,
    "start_time": "2022-10-21T13:13:38.317Z"
   },
   {
    "duration": 130,
    "start_time": "2022-10-21T13:13:38.327Z"
   },
   {
    "duration": 4,
    "start_time": "2022-10-21T13:13:38.459Z"
   },
   {
    "duration": 1920,
    "start_time": "2022-10-21T13:13:38.465Z"
   },
   {
    "duration": 5,
    "start_time": "2022-10-21T13:13:40.387Z"
   },
   {
    "duration": 36,
    "start_time": "2022-10-21T13:13:40.394Z"
   },
   {
    "duration": 5,
    "start_time": "2022-10-21T13:13:40.431Z"
   },
   {
    "duration": 61,
    "start_time": "2022-10-21T13:13:40.438Z"
   },
   {
    "duration": 4,
    "start_time": "2022-10-21T13:13:40.502Z"
   },
   {
    "duration": 22,
    "start_time": "2022-10-21T13:13:40.508Z"
   },
   {
    "duration": 1189,
    "start_time": "2022-10-21T13:48:54.802Z"
   },
   {
    "duration": 38,
    "start_time": "2022-10-21T13:48:55.994Z"
   },
   {
    "duration": 5,
    "start_time": "2022-10-21T13:48:56.033Z"
   },
   {
    "duration": 11,
    "start_time": "2022-10-21T13:48:56.040Z"
   },
   {
    "duration": 21,
    "start_time": "2022-10-21T13:48:56.053Z"
   },
   {
    "duration": 5,
    "start_time": "2022-10-21T13:48:56.076Z"
   },
   {
    "duration": 4,
    "start_time": "2022-10-21T13:48:56.091Z"
   },
   {
    "duration": 7,
    "start_time": "2022-10-21T13:48:56.097Z"
   },
   {
    "duration": 5,
    "start_time": "2022-10-21T13:48:56.105Z"
   },
   {
    "duration": 5,
    "start_time": "2022-10-21T13:48:56.112Z"
   },
   {
    "duration": 4,
    "start_time": "2022-10-21T13:48:56.118Z"
   },
   {
    "duration": 4,
    "start_time": "2022-10-21T13:48:56.124Z"
   },
   {
    "duration": 113,
    "start_time": "2022-10-21T13:48:56.129Z"
   },
   {
    "duration": 3,
    "start_time": "2022-10-21T13:48:56.244Z"
   },
   {
    "duration": 1748,
    "start_time": "2022-10-21T13:48:56.249Z"
   },
   {
    "duration": 3,
    "start_time": "2022-10-21T13:48:57.999Z"
   },
   {
    "duration": 19,
    "start_time": "2022-10-21T13:48:58.004Z"
   },
   {
    "duration": 3,
    "start_time": "2022-10-21T13:48:58.025Z"
   },
   {
    "duration": 34,
    "start_time": "2022-10-21T13:48:58.029Z"
   },
   {
    "duration": 3,
    "start_time": "2022-10-21T13:48:58.064Z"
   },
   {
    "duration": 5,
    "start_time": "2022-10-21T13:48:58.091Z"
   },
   {
    "duration": 45,
    "start_time": "2022-10-22T06:46:42.401Z"
   },
   {
    "duration": 1465,
    "start_time": "2022-10-22T06:46:52.348Z"
   },
   {
    "duration": 136,
    "start_time": "2022-10-22T06:46:53.815Z"
   },
   {
    "duration": 3,
    "start_time": "2022-10-22T06:46:53.953Z"
   },
   {
    "duration": 11,
    "start_time": "2022-10-22T06:46:53.958Z"
   },
   {
    "duration": 19,
    "start_time": "2022-10-22T06:46:53.971Z"
   },
   {
    "duration": 4,
    "start_time": "2022-10-22T06:46:53.992Z"
   },
   {
    "duration": 5,
    "start_time": "2022-10-22T06:46:53.997Z"
   },
   {
    "duration": 5,
    "start_time": "2022-10-22T06:46:54.003Z"
   },
   {
    "duration": 15,
    "start_time": "2022-10-22T06:46:54.009Z"
   },
   {
    "duration": 4,
    "start_time": "2022-10-22T06:46:54.026Z"
   },
   {
    "duration": 4,
    "start_time": "2022-10-22T06:46:54.031Z"
   },
   {
    "duration": 5,
    "start_time": "2022-10-22T06:46:54.036Z"
   },
   {
    "duration": 91,
    "start_time": "2022-10-22T06:46:54.042Z"
   },
   {
    "duration": 3,
    "start_time": "2022-10-22T06:46:54.134Z"
   },
   {
    "duration": 1316,
    "start_time": "2022-10-22T06:46:54.139Z"
   },
   {
    "duration": 4,
    "start_time": "2022-10-22T06:46:55.456Z"
   },
   {
    "duration": 23,
    "start_time": "2022-10-22T06:46:55.462Z"
   },
   {
    "duration": 3,
    "start_time": "2022-10-22T06:46:55.487Z"
   },
   {
    "duration": 47,
    "start_time": "2022-10-22T06:46:55.491Z"
   },
   {
    "duration": 4,
    "start_time": "2022-10-22T06:46:55.539Z"
   },
   {
    "duration": 17,
    "start_time": "2022-10-22T06:46:55.545Z"
   },
   {
    "duration": 1319,
    "start_time": "2022-10-22T06:47:17.272Z"
   },
   {
    "duration": 4,
    "start_time": "2022-10-22T06:47:18.593Z"
   },
   {
    "duration": 100,
    "start_time": "2022-10-22T07:07:44.733Z"
   },
   {
    "duration": 12,
    "start_time": "2022-10-22T07:07:55.547Z"
   },
   {
    "duration": 10,
    "start_time": "2022-10-22T07:08:02.748Z"
   },
   {
    "duration": 1641,
    "start_time": "2022-10-22T07:08:21.547Z"
   },
   {
    "duration": 144,
    "start_time": "2022-10-22T07:10:03.709Z"
   },
   {
    "duration": 154,
    "start_time": "2022-10-22T07:10:15.170Z"
   },
   {
    "duration": 148,
    "start_time": "2022-10-22T07:10:22.896Z"
   },
   {
    "duration": 152,
    "start_time": "2022-10-22T07:10:58.017Z"
   },
   {
    "duration": 5,
    "start_time": "2022-10-22T07:12:57.801Z"
   },
   {
    "duration": 1332,
    "start_time": "2022-10-22T07:13:07.563Z"
   },
   {
    "duration": 38,
    "start_time": "2022-10-22T07:13:08.897Z"
   },
   {
    "duration": 4,
    "start_time": "2022-10-22T07:13:08.936Z"
   },
   {
    "duration": 10,
    "start_time": "2022-10-22T07:13:08.943Z"
   },
   {
    "duration": 19,
    "start_time": "2022-10-22T07:13:08.955Z"
   },
   {
    "duration": 4,
    "start_time": "2022-10-22T07:13:08.975Z"
   },
   {
    "duration": 1366,
    "start_time": "2022-10-22T07:13:08.981Z"
   },
   {
    "duration": 152,
    "start_time": "2022-10-22T07:13:10.349Z"
   },
   {
    "duration": 4,
    "start_time": "2022-10-22T07:13:10.502Z"
   },
   {
    "duration": 5,
    "start_time": "2022-10-22T07:13:10.508Z"
   },
   {
    "duration": 4,
    "start_time": "2022-10-22T07:13:10.523Z"
   },
   {
    "duration": 4,
    "start_time": "2022-10-22T07:13:10.529Z"
   },
   {
    "duration": 5,
    "start_time": "2022-10-22T07:13:10.535Z"
   },
   {
    "duration": 7,
    "start_time": "2022-10-22T07:13:10.541Z"
   },
   {
    "duration": 4,
    "start_time": "2022-10-22T07:13:10.549Z"
   },
   {
    "duration": 91,
    "start_time": "2022-10-22T07:13:10.554Z"
   },
   {
    "duration": 4,
    "start_time": "2022-10-22T07:13:10.646Z"
   },
   {
    "duration": 1086,
    "start_time": "2022-10-22T07:13:10.651Z"
   },
   {
    "duration": 4,
    "start_time": "2022-10-22T07:13:11.738Z"
   },
   {
    "duration": 31,
    "start_time": "2022-10-22T07:13:11.744Z"
   },
   {
    "duration": 13,
    "start_time": "2022-10-22T07:13:11.776Z"
   },
   {
    "duration": 58,
    "start_time": "2022-10-22T07:13:11.791Z"
   },
   {
    "duration": 11,
    "start_time": "2022-10-22T07:13:11.852Z"
   },
   {
    "duration": 27,
    "start_time": "2022-10-22T07:13:11.865Z"
   },
   {
    "duration": 1448,
    "start_time": "2022-10-22T07:13:58.148Z"
   },
   {
    "duration": 41,
    "start_time": "2022-10-22T07:13:59.598Z"
   },
   {
    "duration": 4,
    "start_time": "2022-10-22T07:13:59.641Z"
   },
   {
    "duration": 12,
    "start_time": "2022-10-22T07:13:59.648Z"
   },
   {
    "duration": 28,
    "start_time": "2022-10-22T07:13:59.663Z"
   },
   {
    "duration": 34,
    "start_time": "2022-10-22T07:13:59.692Z"
   },
   {
    "duration": 1467,
    "start_time": "2022-10-22T07:13:59.728Z"
   },
   {
    "duration": 166,
    "start_time": "2022-10-22T07:14:01.197Z"
   },
   {
    "duration": 5,
    "start_time": "2022-10-22T07:14:01.364Z"
   },
   {
    "duration": 10,
    "start_time": "2022-10-22T07:14:01.371Z"
   },
   {
    "duration": 13,
    "start_time": "2022-10-22T07:14:01.382Z"
   },
   {
    "duration": 16,
    "start_time": "2022-10-22T07:14:01.396Z"
   },
   {
    "duration": 25,
    "start_time": "2022-10-22T07:14:01.414Z"
   },
   {
    "duration": 14,
    "start_time": "2022-10-22T07:14:01.441Z"
   },
   {
    "duration": 8,
    "start_time": "2022-10-22T07:14:01.456Z"
   },
   {
    "duration": 87,
    "start_time": "2022-10-22T07:14:01.465Z"
   },
   {
    "duration": 3,
    "start_time": "2022-10-22T07:14:01.554Z"
   },
   {
    "duration": 1169,
    "start_time": "2022-10-22T07:14:01.559Z"
   },
   {
    "duration": 4,
    "start_time": "2022-10-22T07:14:02.730Z"
   },
   {
    "duration": 36,
    "start_time": "2022-10-22T07:14:02.736Z"
   },
   {
    "duration": 33,
    "start_time": "2022-10-22T07:14:02.773Z"
   },
   {
    "duration": 36,
    "start_time": "2022-10-22T07:14:02.808Z"
   },
   {
    "duration": 18,
    "start_time": "2022-10-22T07:14:02.845Z"
   },
   {
    "duration": 27,
    "start_time": "2022-10-22T07:14:02.864Z"
   },
   {
    "duration": 52,
    "start_time": "2022-10-22T07:17:33.466Z"
   },
   {
    "duration": 4,
    "start_time": "2022-10-22T07:17:34.594Z"
   },
   {
    "duration": 1396,
    "start_time": "2022-10-22T07:21:07.729Z"
   },
   {
    "duration": 38,
    "start_time": "2022-10-22T07:21:09.127Z"
   },
   {
    "duration": 4,
    "start_time": "2022-10-22T07:21:09.167Z"
   },
   {
    "duration": 12,
    "start_time": "2022-10-22T07:21:09.173Z"
   },
   {
    "duration": 20,
    "start_time": "2022-10-22T07:21:09.186Z"
   },
   {
    "duration": 4,
    "start_time": "2022-10-22T07:21:09.207Z"
   },
   {
    "duration": 1375,
    "start_time": "2022-10-22T07:21:09.212Z"
   },
   {
    "duration": 160,
    "start_time": "2022-10-22T07:21:10.590Z"
   },
   {
    "duration": 4,
    "start_time": "2022-10-22T07:21:10.751Z"
   },
   {
    "duration": 12,
    "start_time": "2022-10-22T07:21:10.758Z"
   },
   {
    "duration": 21,
    "start_time": "2022-10-22T07:21:10.771Z"
   },
   {
    "duration": 11,
    "start_time": "2022-10-22T07:21:10.794Z"
   },
   {
    "duration": 23,
    "start_time": "2022-10-22T07:21:10.807Z"
   },
   {
    "duration": 16,
    "start_time": "2022-10-22T07:21:10.831Z"
   },
   {
    "duration": 13,
    "start_time": "2022-10-22T07:21:10.848Z"
   },
   {
    "duration": 79,
    "start_time": "2022-10-22T07:21:10.863Z"
   },
   {
    "duration": 3,
    "start_time": "2022-10-22T07:21:10.944Z"
   },
   {
    "duration": 1237,
    "start_time": "2022-10-22T07:21:10.948Z"
   },
   {
    "duration": 4,
    "start_time": "2022-10-22T07:21:12.187Z"
   },
   {
    "duration": 25,
    "start_time": "2022-10-22T07:21:12.193Z"
   },
   {
    "duration": 30,
    "start_time": "2022-10-22T07:21:12.223Z"
   },
   {
    "duration": 59,
    "start_time": "2022-10-22T07:21:12.255Z"
   },
   {
    "duration": 4,
    "start_time": "2022-10-22T07:21:12.316Z"
   },
   {
    "duration": 31,
    "start_time": "2022-10-22T07:21:12.321Z"
   },
   {
    "duration": 2876,
    "start_time": "2022-10-22T22:13:01.211Z"
   },
   {
    "duration": 143,
    "start_time": "2022-10-22T22:13:04.089Z"
   },
   {
    "duration": 4,
    "start_time": "2022-10-22T22:13:04.234Z"
   },
   {
    "duration": 29,
    "start_time": "2022-10-22T22:13:04.241Z"
   },
   {
    "duration": 22,
    "start_time": "2022-10-22T22:13:04.272Z"
   },
   {
    "duration": 5,
    "start_time": "2022-10-22T22:13:04.295Z"
   },
   {
    "duration": 1373,
    "start_time": "2022-10-22T22:13:04.302Z"
   },
   {
    "duration": 182,
    "start_time": "2022-10-22T22:13:05.677Z"
   },
   {
    "duration": 6,
    "start_time": "2022-10-22T22:13:05.861Z"
   },
   {
    "duration": 5,
    "start_time": "2022-10-22T22:13:05.869Z"
   },
   {
    "duration": 11,
    "start_time": "2022-10-22T22:13:05.875Z"
   },
   {
    "duration": 4,
    "start_time": "2022-10-22T22:13:05.890Z"
   },
   {
    "duration": 5,
    "start_time": "2022-10-22T22:13:05.900Z"
   },
   {
    "duration": 5,
    "start_time": "2022-10-22T22:13:05.907Z"
   },
   {
    "duration": 6,
    "start_time": "2022-10-22T22:13:05.914Z"
   },
   {
    "duration": 78,
    "start_time": "2022-10-22T22:13:05.921Z"
   },
   {
    "duration": 4,
    "start_time": "2022-10-22T22:13:06.001Z"
   },
   {
    "duration": 1122,
    "start_time": "2022-10-22T22:13:06.007Z"
   },
   {
    "duration": 3,
    "start_time": "2022-10-22T22:13:07.131Z"
   },
   {
    "duration": 21,
    "start_time": "2022-10-22T22:13:07.136Z"
   },
   {
    "duration": 3,
    "start_time": "2022-10-22T22:13:07.159Z"
   },
   {
    "duration": 45,
    "start_time": "2022-10-22T22:13:07.164Z"
   },
   {
    "duration": 3,
    "start_time": "2022-10-22T22:13:07.211Z"
   },
   {
    "duration": 8,
    "start_time": "2022-10-22T22:13:07.216Z"
   }
  ],
  "kernelspec": {
   "display_name": "Python 3 (ipykernel)",
   "language": "python",
   "name": "python3"
  },
  "language_info": {
   "codemirror_mode": {
    "name": "ipython",
    "version": 3
   },
   "file_extension": ".py",
   "mimetype": "text/x-python",
   "name": "python",
   "nbconvert_exporter": "python",
   "pygments_lexer": "ipython3",
   "version": "3.9.5"
  },
  "toc": {
   "base_numbering": 1,
   "nav_menu": {},
   "number_sections": true,
   "sideBar": true,
   "skip_h1_title": true,
   "title_cell": "Table of Contents",
   "title_sidebar": "Contents",
   "toc_cell": false,
   "toc_position": {},
   "toc_section_display": true,
   "toc_window_display": true
  }
 },
 "nbformat": 4,
 "nbformat_minor": 2
}
