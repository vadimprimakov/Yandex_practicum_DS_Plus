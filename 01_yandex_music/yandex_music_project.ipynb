{
 "cells": [
  {
   "cell_type": "markdown",
   "metadata": {
    "deletable": false,
    "editable": false,
    "id": "E0vqbgi9ay0H"
   },
   "source": [
    "# Яндекс Музыка"
   ]
  },
  {
   "cell_type": "markdown",
   "metadata": {
    "deletable": false,
    "editable": false,
    "id": "VUC88oWjTJw2"
   },
   "source": [
    "Сравнение Москвы и Петербурга окружено мифами. Например:\n",
    " * Москва — мегаполис, подчинённый жёсткому ритму рабочей недели;\n",
    " * Петербург — культурная столица, со своими вкусами.\n",
    "\n",
    "На данных Яндекс Музыки вы сравните поведение пользователей двух столиц.\n",
    "\n",
    "**Цель исследования** — проверьте три гипотезы:\n",
    "1. Активность пользователей зависит от дня недели. Причём в Москве и Петербурге это проявляется по-разному.\n",
    "2. В понедельник утром в Москве преобладают одни жанры, а в Петербурге — другие. Так же и вечером пятницы преобладают разные жанры — в зависимости от города. \n",
    "3. Москва и Петербург предпочитают разные жанры музыки. В Москве чаще слушают поп-музыку, в Петербурге — русский рэп.\n",
    "\n",
    "**Ход исследования**\n",
    "\n",
    "Данные о поведении пользователей вы получите из файла `yandex_music_project.csv`. О качестве данных ничего не известно. Поэтому перед проверкой гипотез понадобится обзор данных. \n",
    "\n",
    "Вы проверите данные на ошибки и оцените их влияние на исследование. Затем, на этапе предобработки вы поищете возможность исправить самые критичные ошибки данных.\n",
    " \n",
    "Таким образом, исследование пройдёт в три этапа:\n",
    " 1. Обзор данных.\n",
    " 2. Предобработка данных.\n",
    " 3. Проверка гипотез.\n",
    "\n"
   ]
  },
  {
   "cell_type": "markdown",
   "metadata": {
    "deletable": false,
    "editable": false,
    "id": "Ml1hmfXC_Zcs"
   },
   "source": [
    "## Обзор данных\n",
    "\n",
    "Составьте первое представление о данных Яндекс Музыки.\n",
    "\n",
    "\n"
   ]
  },
  {
   "cell_type": "markdown",
   "metadata": {
    "deletable": false,
    "editable": false,
    "id": "57eAOGIz_Zcs",
    "tags": [
     "start_task"
    ]
   },
   "source": [
    "**Задание 1**\n",
    "\n",
    "Основной инструмент аналитика — `pandas`. Импортируйте эту библиотеку."
   ]
  },
  {
   "cell_type": "code",
   "execution_count": 1,
   "metadata": {
    "deletable": false,
    "id": "AXN7PHPN_Zcs"
   },
   "outputs": [],
   "source": [
    "import pandas as pd # импорт библиотеки pandas"
   ]
  },
  {
   "cell_type": "markdown",
   "metadata": {
    "deletable": false,
    "editable": false,
    "id": "SG23P8tt_Zcs",
    "tags": [
     "start_task"
    ]
   },
   "source": [
    "**Задание 2**\n",
    "\n",
    "Прочитайте файл `yandex_music_project.csv` из папки `/datasets` и сохраните его в переменной `df`:"
   ]
  },
  {
   "cell_type": "code",
   "execution_count": 2,
   "metadata": {
    "deletable": false,
    "id": "fFVu7vqh_Zct"
   },
   "outputs": [],
   "source": [
    "try:\n",
    "    df = pd.read_csv('/datasets/yandex_music_project.csv')\n",
    "except:\n",
    "    df = pd.read_csv('/Users/vadimprimakov/Documents/Yandex_practicum/CSV/01_yandex_music_data.csv')    \n",
    "# чтение файла с данными и сохранение в df"
   ]
  },
  {
   "cell_type": "markdown",
   "metadata": {
    "deletable": false,
    "editable": false,
    "id": "rDoOMd3uTqnZ",
    "tags": [
     "start_task"
    ]
   },
   "source": [
    "**Задание 3**\n",
    "\n",
    "\n",
    "Выведите на экран первые десять строк таблицы:"
   ]
  },
  {
   "cell_type": "code",
   "execution_count": 3,
   "metadata": {
    "deletable": false,
    "id": "oWTVX3gW_Zct"
   },
   "outputs": [
    {
     "data": {
      "text/html": [
       "<div>\n",
       "<style scoped>\n",
       "    .dataframe tbody tr th:only-of-type {\n",
       "        vertical-align: middle;\n",
       "    }\n",
       "\n",
       "    .dataframe tbody tr th {\n",
       "        vertical-align: top;\n",
       "    }\n",
       "\n",
       "    .dataframe thead th {\n",
       "        text-align: right;\n",
       "    }\n",
       "</style>\n",
       "<table border=\"1\" class=\"dataframe\">\n",
       "  <thead>\n",
       "    <tr style=\"text-align: right;\">\n",
       "      <th></th>\n",
       "      <th>userID</th>\n",
       "      <th>Track</th>\n",
       "      <th>artist</th>\n",
       "      <th>genre</th>\n",
       "      <th>City</th>\n",
       "      <th>time</th>\n",
       "      <th>Day</th>\n",
       "    </tr>\n",
       "  </thead>\n",
       "  <tbody>\n",
       "    <tr>\n",
       "      <th>0</th>\n",
       "      <td>FFB692EC</td>\n",
       "      <td>Kamigata To Boots</td>\n",
       "      <td>The Mass Missile</td>\n",
       "      <td>rock</td>\n",
       "      <td>Saint-Petersburg</td>\n",
       "      <td>20:28:33</td>\n",
       "      <td>Wednesday</td>\n",
       "    </tr>\n",
       "    <tr>\n",
       "      <th>1</th>\n",
       "      <td>55204538</td>\n",
       "      <td>Delayed Because of Accident</td>\n",
       "      <td>Andreas Rönnberg</td>\n",
       "      <td>rock</td>\n",
       "      <td>Moscow</td>\n",
       "      <td>14:07:09</td>\n",
       "      <td>Friday</td>\n",
       "    </tr>\n",
       "    <tr>\n",
       "      <th>2</th>\n",
       "      <td>20EC38</td>\n",
       "      <td>Funiculì funiculà</td>\n",
       "      <td>Mario Lanza</td>\n",
       "      <td>pop</td>\n",
       "      <td>Saint-Petersburg</td>\n",
       "      <td>20:58:07</td>\n",
       "      <td>Wednesday</td>\n",
       "    </tr>\n",
       "    <tr>\n",
       "      <th>3</th>\n",
       "      <td>A3DD03C9</td>\n",
       "      <td>Dragons in the Sunset</td>\n",
       "      <td>Fire + Ice</td>\n",
       "      <td>folk</td>\n",
       "      <td>Saint-Petersburg</td>\n",
       "      <td>08:37:09</td>\n",
       "      <td>Monday</td>\n",
       "    </tr>\n",
       "    <tr>\n",
       "      <th>4</th>\n",
       "      <td>E2DC1FAE</td>\n",
       "      <td>Soul People</td>\n",
       "      <td>Space Echo</td>\n",
       "      <td>dance</td>\n",
       "      <td>Moscow</td>\n",
       "      <td>08:34:34</td>\n",
       "      <td>Monday</td>\n",
       "    </tr>\n",
       "    <tr>\n",
       "      <th>5</th>\n",
       "      <td>842029A1</td>\n",
       "      <td>Преданная</td>\n",
       "      <td>IMPERVTOR</td>\n",
       "      <td>rusrap</td>\n",
       "      <td>Saint-Petersburg</td>\n",
       "      <td>13:09:41</td>\n",
       "      <td>Friday</td>\n",
       "    </tr>\n",
       "    <tr>\n",
       "      <th>6</th>\n",
       "      <td>4CB90AA5</td>\n",
       "      <td>True</td>\n",
       "      <td>Roman Messer</td>\n",
       "      <td>dance</td>\n",
       "      <td>Moscow</td>\n",
       "      <td>13:00:07</td>\n",
       "      <td>Wednesday</td>\n",
       "    </tr>\n",
       "    <tr>\n",
       "      <th>7</th>\n",
       "      <td>F03E1C1F</td>\n",
       "      <td>Feeling This Way</td>\n",
       "      <td>Polina Griffith</td>\n",
       "      <td>dance</td>\n",
       "      <td>Moscow</td>\n",
       "      <td>20:47:49</td>\n",
       "      <td>Wednesday</td>\n",
       "    </tr>\n",
       "    <tr>\n",
       "      <th>8</th>\n",
       "      <td>8FA1D3BE</td>\n",
       "      <td>И вновь продолжается бой</td>\n",
       "      <td>NaN</td>\n",
       "      <td>ruspop</td>\n",
       "      <td>Moscow</td>\n",
       "      <td>09:17:40</td>\n",
       "      <td>Friday</td>\n",
       "    </tr>\n",
       "    <tr>\n",
       "      <th>9</th>\n",
       "      <td>E772D5C0</td>\n",
       "      <td>Pessimist</td>\n",
       "      <td>NaN</td>\n",
       "      <td>dance</td>\n",
       "      <td>Saint-Petersburg</td>\n",
       "      <td>21:20:49</td>\n",
       "      <td>Wednesday</td>\n",
       "    </tr>\n",
       "  </tbody>\n",
       "</table>\n",
       "</div>"
      ],
      "text/plain": [
       "     userID                        Track            artist   genre  \\\n",
       "0  FFB692EC            Kamigata To Boots  The Mass Missile    rock   \n",
       "1  55204538  Delayed Because of Accident  Andreas Rönnberg    rock   \n",
       "2    20EC38            Funiculì funiculà       Mario Lanza     pop   \n",
       "3  A3DD03C9        Dragons in the Sunset        Fire + Ice    folk   \n",
       "4  E2DC1FAE                  Soul People        Space Echo   dance   \n",
       "5  842029A1                    Преданная         IMPERVTOR  rusrap   \n",
       "6  4CB90AA5                         True      Roman Messer   dance   \n",
       "7  F03E1C1F             Feeling This Way   Polina Griffith   dance   \n",
       "8  8FA1D3BE     И вновь продолжается бой               NaN  ruspop   \n",
       "9  E772D5C0                    Pessimist               NaN   dance   \n",
       "\n",
       "             City        time        Day  \n",
       "0  Saint-Petersburg  20:28:33  Wednesday  \n",
       "1            Moscow  14:07:09     Friday  \n",
       "2  Saint-Petersburg  20:58:07  Wednesday  \n",
       "3  Saint-Petersburg  08:37:09     Monday  \n",
       "4            Moscow  08:34:34     Monday  \n",
       "5  Saint-Petersburg  13:09:41     Friday  \n",
       "6            Moscow  13:00:07  Wednesday  \n",
       "7            Moscow  20:47:49  Wednesday  \n",
       "8            Moscow  09:17:40     Friday  \n",
       "9  Saint-Petersburg  21:20:49  Wednesday  "
      ]
     },
     "execution_count": 3,
     "metadata": {},
     "output_type": "execute_result"
    }
   ],
   "source": [
    "df.head(10) # получение первых 10 строк таблицы df"
   ]
  },
  {
   "cell_type": "markdown",
   "metadata": {
    "deletable": false,
    "editable": false,
    "id": "EO73Kwic_Zct",
    "tags": [
     "start_task"
    ]
   },
   "source": [
    "**Задание 4**\n",
    "\n",
    "\n",
    "Одной командой получить общую информацию о таблице c помощью метода `info()`:"
   ]
  },
  {
   "cell_type": "code",
   "execution_count": 4,
   "metadata": {
    "deletable": false,
    "id": "DSf2kIb-_Zct"
   },
   "outputs": [
    {
     "name": "stdout",
     "output_type": "stream",
     "text": [
      "<class 'pandas.core.frame.DataFrame'>\n",
      "RangeIndex: 65079 entries, 0 to 65078\n",
      "Data columns (total 7 columns):\n",
      " #   Column    Non-Null Count  Dtype \n",
      "---  ------    --------------  ----- \n",
      " 0     userID  65079 non-null  object\n",
      " 1   Track     63848 non-null  object\n",
      " 2   artist    57876 non-null  object\n",
      " 3   genre     63881 non-null  object\n",
      " 4     City    65079 non-null  object\n",
      " 5   time      65079 non-null  object\n",
      " 6   Day       65079 non-null  object\n",
      "dtypes: object(7)\n",
      "memory usage: 3.5+ MB\n"
     ]
    }
   ],
   "source": [
    "df.info() # получение общей информации о данных в таблице df"
   ]
  },
  {
   "cell_type": "markdown",
   "metadata": {
    "deletable": false,
    "editable": false,
    "id": "TaQ2Iwbr_Zct"
   },
   "source": [
    "Итак, в таблице семь столбцов. Тип данных во всех столбцах — `object`.\n",
    "\n",
    "Согласно документации к данным:\n",
    "* `userID` — идентификатор пользователя;\n",
    "* `Track` — название трека;  \n",
    "* `artist` — имя исполнителя;\n",
    "* `genre` — название жанра;\n",
    "* `City` — город пользователя;\n",
    "* `time` — время начала прослушивания;\n",
    "* `Day` — день недели.\n",
    "\n",
    "Количество значений в столбцах различается. Значит, в данных есть пропущенные значения."
   ]
  },
  {
   "cell_type": "markdown",
   "metadata": {
    "deletable": false,
    "editable": false,
    "id": "rAfziTBDmf2h",
    "tags": [
     "start_task"
    ]
   },
   "source": [
    "**Задание 5**\n",
    "\n",
    "**Вопрос со свободной формой ответа**\n",
    "\n",
    "В названиях колонок видны нарушения стиля:\n",
    "* Строчные буквы сочетаются с прописными.\n",
    "* Встречаются пробелы.\n",
    "\n",
    "Какое третье нарушение?"
   ]
  },
  {
   "cell_type": "code",
   "execution_count": 5,
   "metadata": {
    "id": "jD8EXEIvmf2h"
   },
   "outputs": [],
   "source": [
    "# Не используется \"змеиный_регистр\" "
   ]
  },
  {
   "cell_type": "markdown",
   "metadata": {
    "deletable": false,
    "editable": false,
    "id": "MCB6-dXG_Zct"
   },
   "source": [
    "**Выводы**\n",
    "\n",
    "В каждой строке таблицы — данные о прослушанном треке. Часть колонок описывает саму композицию: название, исполнителя и жанр. Остальные данные рассказывают о пользователе: из какого он города, когда он слушал музыку. \n",
    "\n",
    "Предварительно можно утверждать, что данных достаточно для проверки гипотез. Но встречаются пропуски в данных, а в названиях колонок — расхождения с хорошим стилем.\n",
    "\n",
    "Чтобы двигаться дальше, нужно устранить проблемы в данных."
   ]
  },
  {
   "cell_type": "markdown",
   "metadata": {
    "deletable": false,
    "editable": false,
    "id": "SjYF6Ub9_Zct"
   },
   "source": [
    "## Предобработка данных\n",
    "Исправьте стиль в заголовках столбцов, исключите пропуски. Затем проверьте данные на дубликаты."
   ]
  },
  {
   "cell_type": "markdown",
   "metadata": {
    "deletable": false,
    "editable": false,
    "id": "dIaKXr29_Zct",
    "tags": [
     "start_task"
    ]
   },
   "source": [
    "### Стиль заголовков\n",
    "\n",
    "**Задание 6**\n",
    "\n",
    "Выведите на экран названия столбцов:"
   ]
  },
  {
   "cell_type": "code",
   "execution_count": 6,
   "metadata": {
    "deletable": false,
    "id": "oKOTdF_Q_Zct"
   },
   "outputs": [
    {
     "data": {
      "text/plain": [
       "Index(['  userID', 'Track', 'artist', 'genre', '  City  ', 'time', 'Day'], dtype='object')"
      ]
     },
     "execution_count": 6,
     "metadata": {},
     "output_type": "execute_result"
    }
   ],
   "source": [
    "df.columns # перечень названий столбцов таблицы df"
   ]
  },
  {
   "cell_type": "markdown",
   "metadata": {
    "deletable": false,
    "editable": false,
    "id": "zj5534cv_Zct",
    "tags": [
     "start_task"
    ]
   },
   "source": [
    "**Задание 7**\n",
    "\n",
    "\n",
    "Приведите названия в соответствие с хорошим стилем:\n",
    "* несколько слов в названии запишите в «змеином_регистре»,\n",
    "* все символы сделайте строчными,\n",
    "* устраните пробелы.\n",
    "\n",
    "Для этого переименуйте колонки так:\n",
    "* `'  userID'` → `'user_id'`;\n",
    "* `'Track'` → `'track'`;\n",
    "* `'  City  '` → `'city'`;\n",
    "* `'Day'` → `'day'`."
   ]
  },
  {
   "cell_type": "code",
   "execution_count": 7,
   "metadata": {
    "deletable": false,
    "id": "ISlFqs5y_Zct"
   },
   "outputs": [],
   "source": [
    "df = df.rename(columns = {'  userID' : 'user_id', \n",
    "                          'Track' : 'track',\n",
    "                          '  City  ' : 'city',\n",
    "                          'Day' : 'day'})# переименование столбцов"
   ]
  },
  {
   "cell_type": "markdown",
   "metadata": {
    "deletable": false,
    "editable": false,
    "id": "1dqbh00J_Zct",
    "tags": [
     "start_task"
    ]
   },
   "source": [
    "**Задание 8**\n",
    "\n",
    "\n",
    "Проверьте результат. Для этого ещё раз выведите на экран названия столбцов:"
   ]
  },
  {
   "cell_type": "code",
   "execution_count": 8,
   "metadata": {
    "deletable": false,
    "id": "d4NOAmTW_Zct"
   },
   "outputs": [
    {
     "data": {
      "text/plain": [
       "Index(['user_id', 'track', 'artist', 'genre', 'city', 'time', 'day'], dtype='object')"
      ]
     },
     "execution_count": 8,
     "metadata": {},
     "output_type": "execute_result"
    }
   ],
   "source": [
    "df.columns # проверка результатов - перечень названий столбцов"
   ]
  },
  {
   "cell_type": "markdown",
   "metadata": {
    "deletable": false,
    "editable": false,
    "id": "5ISfbcfY_Zct",
    "tags": [
     "start_task"
    ]
   },
   "source": [
    "### Пропуски значений\n",
    "\n",
    "**Задание 9**\n",
    "\n",
    "Сначала посчитайте, сколько в таблице пропущенных значений. Для этого достаточно двух методов `pandas`:"
   ]
  },
  {
   "cell_type": "code",
   "execution_count": 9,
   "metadata": {
    "deletable": false,
    "id": "RskX29qr_Zct"
   },
   "outputs": [
    {
     "data": {
      "text/plain": [
       "user_id       0\n",
       "track      1231\n",
       "artist     7203\n",
       "genre      1198\n",
       "city          0\n",
       "time          0\n",
       "day           0\n",
       "dtype: int64"
      ]
     },
     "execution_count": 9,
     "metadata": {},
     "output_type": "execute_result"
    }
   ],
   "source": [
    "df.isna().sum() # подсчёт пропусков"
   ]
  },
  {
   "cell_type": "markdown",
   "metadata": {
    "deletable": false,
    "editable": false,
    "id": "qubhgnlO_Zct"
   },
   "source": [
    "Не все пропущенные значения влияют на исследование. Так в `track` и `artist` пропуски не важны для вашей работы. Достаточно заменить их явными обозначениями.\n",
    "\n",
    "Но пропуски в `genre` могут помешать сравнению музыкальных вкусов в Москве и Санкт-Петербурге. На практике было бы правильно установить причину пропусков и восстановить данные. Такой возможности нет в учебном проекте. Придётся:\n",
    "* заполнить и эти пропуски явными обозначениями;\n",
    "* оценить, насколько они повредят расчётам. "
   ]
  },
  {
   "cell_type": "markdown",
   "metadata": {
    "deletable": false,
    "editable": false,
    "id": "fSv2laPA_Zct",
    "tags": [
     "start_task"
    ]
   },
   "source": [
    "**Задание 10**\n",
    "\n",
    "Замените пропущенные значения в столбцах `track`, `artist` и `genre` на строку `'unknown'`. Для этого создайте список `columns_to_replace`, переберите его элементы циклом `for` и для каждого столбца выполните замену пропущенных значений:"
   ]
  },
  {
   "cell_type": "code",
   "execution_count": 10,
   "metadata": {
    "deletable": false,
    "id": "KplB5qWs_Zct"
   },
   "outputs": [],
   "source": [
    "columns_to_replace = ['track', 'artist', 'genre']\n",
    "for item in columns_to_replace:\n",
    "    df[item] = df[item].fillna('unknown')# перебор названий столбцов в цикле и замена пропущенных значений на 'unknown'"
   ]
  },
  {
   "cell_type": "markdown",
   "metadata": {
    "deletable": false,
    "editable": false,
    "id": "Ilsm-MZo_Zct",
    "tags": [
     "start_task"
    ]
   },
   "source": [
    "**Задание 11**\n",
    "\n",
    "Убедитесь, что в таблице не осталось пропусков. Для этого ещё раз посчитайте пропущенные значения."
   ]
  },
  {
   "cell_type": "code",
   "execution_count": 11,
   "metadata": {
    "deletable": false,
    "id": "Tq4nYRX4_Zct"
   },
   "outputs": [
    {
     "data": {
      "text/plain": [
       "user_id    0\n",
       "track      0\n",
       "artist     0\n",
       "genre      0\n",
       "city       0\n",
       "time       0\n",
       "day        0\n",
       "dtype: int64"
      ]
     },
     "execution_count": 11,
     "metadata": {},
     "output_type": "execute_result"
    }
   ],
   "source": [
    "df.isna().sum() # подсчёт пропусков"
   ]
  },
  {
   "cell_type": "markdown",
   "metadata": {
    "deletable": false,
    "editable": false,
    "id": "BWKRtBJ3_Zct",
    "tags": [
     "start_task"
    ]
   },
   "source": [
    "### Дубликаты\n",
    "\n",
    "**Задание 12**\n",
    "\n",
    "Посчитайте явные дубликаты в таблице одной командой:"
   ]
  },
  {
   "cell_type": "code",
   "execution_count": 12,
   "metadata": {
    "deletable": false,
    "id": "36eES_S0_Zct"
   },
   "outputs": [
    {
     "data": {
      "text/plain": [
       "3826"
      ]
     },
     "execution_count": 12,
     "metadata": {},
     "output_type": "execute_result"
    }
   ],
   "source": [
    "df.duplicated().sum() # подсчёт явных дубликатов"
   ]
  },
  {
   "cell_type": "markdown",
   "metadata": {
    "deletable": false,
    "editable": false,
    "id": "Ot25h6XR_Zct",
    "tags": [
     "start_task"
    ]
   },
   "source": [
    "**Задание 13**\n",
    "\n",
    "Вызовите специальный метод `pandas`, чтобы удалить явные дубликаты:"
   ]
  },
  {
   "cell_type": "code",
   "execution_count": 13,
   "metadata": {
    "deletable": false,
    "id": "exFHq6tt_Zct",
    "scrolled": true
   },
   "outputs": [],
   "source": [
    "df = df.drop_duplicates().reset_index(drop=True) # удаление явных дубликатов"
   ]
  },
  {
   "cell_type": "markdown",
   "metadata": {
    "deletable": false,
    "editable": false,
    "id": "Im2YwBEG_Zct",
    "tags": [
     "start_task"
    ]
   },
   "source": [
    "**Задание 14**\n",
    "\n",
    "Ещё раз посчитайте явные дубликаты в таблице — убедитесь, что полностью от них избавились:"
   ]
  },
  {
   "cell_type": "code",
   "execution_count": 14,
   "metadata": {
    "deletable": false,
    "id": "-8PuNWQ0_Zct"
   },
   "outputs": [
    {
     "data": {
      "text/plain": [
       "0"
      ]
     },
     "execution_count": 14,
     "metadata": {},
     "output_type": "execute_result"
    }
   ],
   "source": [
    "df.duplicated().sum() # проверка на отсутствие дубликатов"
   ]
  },
  {
   "cell_type": "markdown",
   "metadata": {
    "deletable": false,
    "editable": false,
    "id": "QlFBsxAr_Zct"
   },
   "source": [
    "Теперь избавьтесь от неявных дубликатов в колонке `genre`. Например, название одного и того же жанра может быть записано немного по-разному. Такие ошибки тоже повлияют на результат исследования."
   ]
  },
  {
   "cell_type": "markdown",
   "metadata": {
    "deletable": false,
    "editable": false,
    "id": "eSjWwsOh_Zct",
    "tags": [
     "start_task"
    ]
   },
   "source": [
    "**Задание 15**\n",
    "\n",
    "Выведите на экран список уникальных названий жанров, отсортированный в алфавитном порядке. Для этого:\n",
    "1. извлеките нужный столбец датафрейма; \n",
    "2. примените к нему метод сортировки;\n",
    "3. для отсортированного столбца вызовите метод, который вернёт уникальные значения из столбца."
   ]
  },
  {
   "cell_type": "code",
   "execution_count": 15,
   "metadata": {
    "deletable": false,
    "id": "JIUcqzZN_Zct"
   },
   "outputs": [
    {
     "data": {
      "text/plain": [
       "array(['acid', 'acoustic', 'action', 'adult', 'africa', 'afrikaans',\n",
       "       'alternative', 'alternativepunk', 'ambient', 'americana',\n",
       "       'animated', 'anime', 'arabesk', 'arabic', 'arena',\n",
       "       'argentinetango', 'art', 'audiobook', 'author', 'avantgarde',\n",
       "       'axé', 'baile', 'balkan', 'beats', 'bigroom', 'black', 'bluegrass',\n",
       "       'blues', 'bollywood', 'bossa', 'brazilian', 'breakbeat', 'breaks',\n",
       "       'broadway', 'cantautori', 'cantopop', 'canzone', 'caribbean',\n",
       "       'caucasian', 'celtic', 'chamber', 'chanson', 'children', 'chill',\n",
       "       'chinese', 'choral', 'christian', 'christmas', 'classical',\n",
       "       'classicmetal', 'club', 'colombian', 'comedy', 'conjazz',\n",
       "       'contemporary', 'country', 'cuban', 'dance', 'dancehall',\n",
       "       'dancepop', 'dark', 'death', 'deep', 'deutschrock', 'deutschspr',\n",
       "       'dirty', 'disco', 'dnb', 'documentary', 'downbeat', 'downtempo',\n",
       "       'drum', 'dub', 'dubstep', 'eastern', 'easy', 'electronic',\n",
       "       'electropop', 'emo', 'entehno', 'epicmetal', 'estrada', 'ethnic',\n",
       "       'eurofolk', 'european', 'experimental', 'extrememetal', 'fado',\n",
       "       'fairytail', 'film', 'fitness', 'flamenco', 'folk', 'folklore',\n",
       "       'folkmetal', 'folkrock', 'folktronica', 'forró', 'frankreich',\n",
       "       'französisch', 'french', 'funk', 'future', 'gangsta', 'garage',\n",
       "       'german', 'ghazal', 'gitarre', 'glitch', 'gospel', 'gothic',\n",
       "       'grime', 'grunge', 'gypsy', 'handsup', \"hard'n'heavy\", 'hardcore',\n",
       "       'hardstyle', 'hardtechno', 'hip', 'hip-hop', 'hiphop',\n",
       "       'historisch', 'holiday', 'hop', 'horror', 'house', 'hymn', 'idm',\n",
       "       'independent', 'indian', 'indie', 'indipop', 'industrial',\n",
       "       'inspirational', 'instrumental', 'international', 'irish', 'jam',\n",
       "       'japanese', 'jazz', 'jewish', 'jpop', 'jungle', 'k-pop',\n",
       "       'karadeniz', 'karaoke', 'kayokyoku', 'korean', 'laiko', 'latin',\n",
       "       'latino', 'leftfield', 'local', 'lounge', 'loungeelectronic',\n",
       "       'lovers', 'malaysian', 'mandopop', 'marschmusik', 'meditative',\n",
       "       'mediterranean', 'melodic', 'metal', 'metalcore', 'mexican',\n",
       "       'middle', 'minimal', 'miscellaneous', 'modern', 'mood', 'mpb',\n",
       "       'muslim', 'native', 'neoklassik', 'neue', 'new', 'newage',\n",
       "       'newwave', 'nu', 'nujazz', 'numetal', 'oceania', 'old', 'opera',\n",
       "       'orchestral', 'other', 'piano', 'podcasts', 'pop', 'popdance',\n",
       "       'popelectronic', 'popeurodance', 'poprussian', 'post',\n",
       "       'posthardcore', 'postrock', 'power', 'progmetal', 'progressive',\n",
       "       'psychedelic', 'punjabi', 'punk', 'quebecois', 'ragga', 'ram',\n",
       "       'rancheras', 'rap', 'rave', 'reggae', 'reggaeton', 'regional',\n",
       "       'relax', 'religious', 'retro', 'rhythm', 'rnb', 'rnr', 'rock',\n",
       "       'rockabilly', 'rockalternative', 'rockindie', 'rockother',\n",
       "       'romance', 'roots', 'ruspop', 'rusrap', 'rusrock', 'russian',\n",
       "       'salsa', 'samba', 'scenic', 'schlager', 'self', 'sertanejo',\n",
       "       'shanson', 'shoegazing', 'showtunes', 'singer', 'ska', 'skarock',\n",
       "       'slow', 'smooth', 'soft', 'soul', 'soulful', 'sound', 'soundtrack',\n",
       "       'southern', 'specialty', 'speech', 'spiritual', 'sport',\n",
       "       'stonerrock', 'surf', 'swing', 'synthpop', 'synthrock',\n",
       "       'sängerportrait', 'tango', 'tanzorchester', 'taraftar', 'tatar',\n",
       "       'tech', 'techno', 'teen', 'thrash', 'top', 'traditional',\n",
       "       'tradjazz', 'trance', 'tribal', 'trip', 'triphop', 'tropical',\n",
       "       'türk', 'türkçe', 'ukrrock', 'unknown', 'urban', 'uzbek',\n",
       "       'variété', 'vi', 'videogame', 'vocal', 'western', 'world',\n",
       "       'worldbeat', 'ïîï', 'электроника'], dtype=object)"
      ]
     },
     "execution_count": 15,
     "metadata": {},
     "output_type": "execute_result"
    }
   ],
   "source": [
    "genre_unique = df['genre']\n",
    "genre_unique = genre_unique.sort_values()\n",
    "genre_unique.unique()\n",
    "#display(df['genre'].unique()) # Просмотр уникальных названий жанров"
   ]
  },
  {
   "cell_type": "markdown",
   "metadata": {
    "deletable": false,
    "editable": false,
    "id": "qej-Qmuo_Zct",
    "tags": [
     "start_task"
    ]
   },
   "source": [
    "**Задание 16**\n",
    "\n",
    "Просмотрите список и найдите неявные дубликаты названия `hiphop`. Это могут быть названия с ошибками или альтернативные названия того же жанра.\n",
    "\n",
    "Вы увидите следующие неявные дубликаты:\n",
    "* *hip*,\n",
    "* *hop*,\n",
    "* *hip-hop*.\n",
    "\n",
    "Чтобы очистить от них таблицу используйте метод `replace()` с двумя аргументами: списком строк-дубликатов (включащий *hip*, *hop* и *hip-hop*) и строкой с правильным значением. Вам нужно исправить колонку `genre` в таблице `df`: заменить каждое значение из списка дубликатов на верное. Вместо `hip`, `hop` и `hip-hop` в таблице должно быть значение `hiphop`:"
   ]
  },
  {
   "cell_type": "code",
   "execution_count": 16,
   "metadata": {
    "deletable": false,
    "id": "ErNDkmns_Zct"
   },
   "outputs": [],
   "source": [
    "duplicates = ['hip', 'hop', 'hip-hop'] \n",
    "name = 'hiphop'\n",
    "df['genre'] = df['genre'].replace(duplicates, name) # Устранение неявных дубликатов"
   ]
  },
  {
   "cell_type": "markdown",
   "metadata": {
    "deletable": false,
    "editable": false,
    "id": "zQKF16_RG15m",
    "tags": [
     "start_task"
    ]
   },
   "source": [
    "**Задание 17**\n",
    "\n",
    "Проверьте, что заменили неправильные названия:\n",
    "\n",
    "*   hip,\n",
    "*   hop,\n",
    "*   hip-hop.\n",
    "\n",
    "Выведите отсортированный список уникальных значений столбца `genre`:"
   ]
  },
  {
   "cell_type": "code",
   "execution_count": 17,
   "metadata": {
    "deletable": false,
    "id": "wvixALnFG15m"
   },
   "outputs": [
    {
     "data": {
      "text/plain": [
       "array(['acid', 'acoustic', 'action', 'adult', 'africa', 'afrikaans',\n",
       "       'alternative', 'alternativepunk', 'ambient', 'americana',\n",
       "       'animated', 'anime', 'arabesk', 'arabic', 'arena',\n",
       "       'argentinetango', 'art', 'audiobook', 'author', 'avantgarde',\n",
       "       'axé', 'baile', 'balkan', 'beats', 'bigroom', 'black', 'bluegrass',\n",
       "       'blues', 'bollywood', 'bossa', 'brazilian', 'breakbeat', 'breaks',\n",
       "       'broadway', 'cantautori', 'cantopop', 'canzone', 'caribbean',\n",
       "       'caucasian', 'celtic', 'chamber', 'chanson', 'children', 'chill',\n",
       "       'chinese', 'choral', 'christian', 'christmas', 'classical',\n",
       "       'classicmetal', 'club', 'colombian', 'comedy', 'conjazz',\n",
       "       'contemporary', 'country', 'cuban', 'dance', 'dancehall',\n",
       "       'dancepop', 'dark', 'death', 'deep', 'deutschrock', 'deutschspr',\n",
       "       'dirty', 'disco', 'dnb', 'documentary', 'downbeat', 'downtempo',\n",
       "       'drum', 'dub', 'dubstep', 'eastern', 'easy', 'electronic',\n",
       "       'electropop', 'emo', 'entehno', 'epicmetal', 'estrada', 'ethnic',\n",
       "       'eurofolk', 'european', 'experimental', 'extrememetal', 'fado',\n",
       "       'fairytail', 'film', 'fitness', 'flamenco', 'folk', 'folklore',\n",
       "       'folkmetal', 'folkrock', 'folktronica', 'forró', 'frankreich',\n",
       "       'französisch', 'french', 'funk', 'future', 'gangsta', 'garage',\n",
       "       'german', 'ghazal', 'gitarre', 'glitch', 'gospel', 'gothic',\n",
       "       'grime', 'grunge', 'gypsy', 'handsup', \"hard'n'heavy\", 'hardcore',\n",
       "       'hardstyle', 'hardtechno', 'hiphop', 'historisch', 'holiday',\n",
       "       'horror', 'house', 'hymn', 'idm', 'independent', 'indian', 'indie',\n",
       "       'indipop', 'industrial', 'inspirational', 'instrumental',\n",
       "       'international', 'irish', 'jam', 'japanese', 'jazz', 'jewish',\n",
       "       'jpop', 'jungle', 'k-pop', 'karadeniz', 'karaoke', 'kayokyoku',\n",
       "       'korean', 'laiko', 'latin', 'latino', 'leftfield', 'local',\n",
       "       'lounge', 'loungeelectronic', 'lovers', 'malaysian', 'mandopop',\n",
       "       'marschmusik', 'meditative', 'mediterranean', 'melodic', 'metal',\n",
       "       'metalcore', 'mexican', 'middle', 'minimal', 'miscellaneous',\n",
       "       'modern', 'mood', 'mpb', 'muslim', 'native', 'neoklassik', 'neue',\n",
       "       'new', 'newage', 'newwave', 'nu', 'nujazz', 'numetal', 'oceania',\n",
       "       'old', 'opera', 'orchestral', 'other', 'piano', 'podcasts', 'pop',\n",
       "       'popdance', 'popelectronic', 'popeurodance', 'poprussian', 'post',\n",
       "       'posthardcore', 'postrock', 'power', 'progmetal', 'progressive',\n",
       "       'psychedelic', 'punjabi', 'punk', 'quebecois', 'ragga', 'ram',\n",
       "       'rancheras', 'rap', 'rave', 'reggae', 'reggaeton', 'regional',\n",
       "       'relax', 'religious', 'retro', 'rhythm', 'rnb', 'rnr', 'rock',\n",
       "       'rockabilly', 'rockalternative', 'rockindie', 'rockother',\n",
       "       'romance', 'roots', 'ruspop', 'rusrap', 'rusrock', 'russian',\n",
       "       'salsa', 'samba', 'scenic', 'schlager', 'self', 'sertanejo',\n",
       "       'shanson', 'shoegazing', 'showtunes', 'singer', 'ska', 'skarock',\n",
       "       'slow', 'smooth', 'soft', 'soul', 'soulful', 'sound', 'soundtrack',\n",
       "       'southern', 'specialty', 'speech', 'spiritual', 'sport',\n",
       "       'stonerrock', 'surf', 'swing', 'synthpop', 'synthrock',\n",
       "       'sängerportrait', 'tango', 'tanzorchester', 'taraftar', 'tatar',\n",
       "       'tech', 'techno', 'teen', 'thrash', 'top', 'traditional',\n",
       "       'tradjazz', 'trance', 'tribal', 'trip', 'triphop', 'tropical',\n",
       "       'türk', 'türkçe', 'ukrrock', 'unknown', 'urban', 'uzbek',\n",
       "       'variété', 'vi', 'videogame', 'vocal', 'western', 'world',\n",
       "       'worldbeat', 'ïîï', 'электроника'], dtype=object)"
      ]
     },
     "execution_count": 17,
     "metadata": {},
     "output_type": "execute_result"
    }
   ],
   "source": [
    "genre_unique = df['genre']\n",
    "genre_unique = genre_unique.sort_values()\n",
    "genre_unique.unique()# Проверка на неявные дубликаты"
   ]
  },
  {
   "cell_type": "markdown",
   "metadata": {
    "deletable": false,
    "editable": false,
    "id": "jz6a9-7HQUDd"
   },
   "source": [
    "**Выводы**\n",
    "\n",
    "Предобработка обнаружила три проблемы в данных:\n",
    "\n",
    "- нарушения в стиле заголовков,\n",
    "- пропущенные значения,\n",
    "- дубликаты — явные и неявные.\n",
    "\n",
    "Вы исправили заголовки, чтобы упростить работу с таблицей. Без дубликатов исследование станет более точным.\n",
    "\n",
    "Пропущенные значения вы заменили на `'unknown'`. Ещё предстоит увидеть, не повредят ли исследованию пропуски в колонке `genre`.\n",
    "\n",
    "Теперь можно перейти к проверке гипотез. "
   ]
  },
  {
   "cell_type": "markdown",
   "metadata": {
    "deletable": false,
    "editable": false,
    "id": "WttZHXH0SqKk"
   },
   "source": [
    "## Проверка гипотез"
   ]
  },
  {
   "cell_type": "markdown",
   "metadata": {
    "deletable": false,
    "editable": false,
    "id": "Im936VVi_Zcu"
   },
   "source": [
    "### Сравнение поведения пользователей двух столиц"
   ]
  },
  {
   "cell_type": "markdown",
   "metadata": {
    "deletable": false,
    "editable": false,
    "id": "nwt_MuaL_Zcu"
   },
   "source": [
    "Первая гипотеза утверждает, что пользователи по-разному слушают музыку в Москве и Санкт-Петербурге. Проверьте это предположение по данным о трёх днях недели — понедельнике, среде и пятнице. Для этого:\n",
    "\n",
    "* Разделите пользователей Москвы и Санкт-Петербурга.\n",
    "* Сравните, сколько треков послушала каждая группа пользователей в понедельник, среду и пятницу.\n"
   ]
  },
  {
   "cell_type": "markdown",
   "metadata": {
    "deletable": false,
    "editable": false,
    "id": "8Dw_YMmT_Zcu",
    "tags": [
     "start_task"
    ]
   },
   "source": [
    "**Задание 18**\n",
    "\n",
    "Для тренировки сначала выполните каждый из расчётов по отдельности. \n",
    "\n",
    "Оцените активность пользователей в каждом городе. Сгруппируйте данные по городу и посчитайте прослушивания в каждой группе.\n",
    "\n"
   ]
  },
  {
   "cell_type": "code",
   "execution_count": 18,
   "metadata": {
    "deletable": false,
    "id": "0_Qs96oh_Zcu"
   },
   "outputs": [
    {
     "name": "stdout",
     "output_type": "stream",
     "text": [
      "city\n",
      "Moscow              42741\n",
      "Saint-Petersburg    18512\n",
      "Name: time, dtype: int64\n"
     ]
    }
   ],
   "source": [
    "df_grouped = df.groupby('city')['time'].count()\n",
    "print(df_grouped) # Подсчёт прослушиваний в каждом городе"
   ]
  },
  {
   "cell_type": "markdown",
   "metadata": {
    "deletable": false,
    "editable": false,
    "id": "dzli3w8o_Zcu",
    "tags": [
     "start_task"
    ]
   },
   "source": [
    "В Москве прослушиваний больше, чем в Петербурге. Из этого не следует, что московские пользователи чаще слушают музыку. Просто самих пользователей в Москве больше.\n",
    "\n",
    "**Задание 19**\n",
    "\n",
    "Теперь сгруппируйте данные по дню недели и посчитайте прослушивания в понедельник, среду и пятницу. Учтите, что в данных есть информация о прослушиваниях только за эти дни.\n"
   ]
  },
  {
   "cell_type": "code",
   "execution_count": 19,
   "metadata": {
    "deletable": false,
    "id": "uZMKjiJz_Zcu"
   },
   "outputs": [
    {
     "name": "stdout",
     "output_type": "stream",
     "text": [
      "day\n",
      "Friday       21840\n",
      "Monday       21354\n",
      "Wednesday    18059\n",
      "Name: time, dtype: int64\n"
     ]
    }
   ],
   "source": [
    "df_grouped_day = df.groupby('day')['time'].count()\n",
    "print(df_grouped_day) # Подсчёт прослушиваний в каждый из трёх дней"
   ]
  },
  {
   "cell_type": "markdown",
   "metadata": {
    "deletable": false,
    "editable": false,
    "id": "cC2tNrlL_Zcu"
   },
   "source": [
    "В среднем пользователи из двух городов менее активны по средам. Но картина может измениться, если рассмотреть каждый город в отдельности."
   ]
  },
  {
   "cell_type": "markdown",
   "metadata": {
    "deletable": false,
    "editable": false,
    "id": "POzs8bGa_Zcu",
    "tags": [
     "start_task"
    ]
   },
   "source": [
    "**Задание 20**\n",
    "\n",
    "\n",
    "Вы видели, как работает группировка по городу и по дням недели. Теперь напишите функцию, которая объединит два эти расчёта.\n",
    "\n",
    "Создайте функцию `number_tracks()`, которая посчитает прослушивания для заданного дня и города. Ей понадобятся два параметра:\n",
    "* день недели,\n",
    "* название города.\n",
    "\n",
    "В функции сохраните в переменную строки исходной таблицы, у которых значение:\n",
    "  * в колонке `day` равно параметру `day`,\n",
    "  * в колонке `city` равно параметру `city`.\n",
    "\n",
    "Для этого примените последовательную фильтрацию с логической индексацией (или сложные логические выражения в одну строку, если вы уже знакомы с ними).\n",
    "\n",
    "Затем посчитайте значения в столбце `user_id` получившейся таблицы. Результат сохраните в новую переменную. Верните эту переменную из функции."
   ]
  },
  {
   "attachments": {},
   "cell_type": "markdown",
   "metadata": {},
   "source": [
    "Объявляется функция с двумя параметрами: day, city. В переменной track_list сохраняются те строки таблицы df, для которых значение в столбце 'day' равно параметру day и одновременно значение в столбце 'city' равно параметру city (используйте последовательную фильтрацию с помощью логической индексации или сложные логические выражения в одну строку, если вы уже знакомы с ними). <br />\n",
    "\n",
    "    track_list_count = track_list['user_id'].count()\n",
    "    В переменной track_list_count сохраняется число значений столбца 'user_id', рассчитанное методом count() для таблицы track_list.\n",
    "    return track_list_count - Функция возвращает число - значение track_list_count.\n",
    "\n",
    "Функция для подсчёта прослушиваний для конкретного города и дня. С помощью последовательной фильтрации с логической индексацией она \n",
    "сначала получит из исходной таблицы строки с нужным днём, затем из результата отфильтрует строки с нужным городом, методом count() посчитает количество значений в колонке user_id. Это количество функция вернёт в качестве результата"
   ]
  },
  {
   "cell_type": "code",
   "execution_count": 20,
   "metadata": {
    "deletable": false,
    "id": "Nz3GdQB1_Zcu"
   },
   "outputs": [],
   "source": [
    "def number_tracks(day, city): # <создание функции number_tracks()>\n",
    "    track_list=df[(df['day']==day)]\n",
    "    track_list=track_list[track_list['city']==city]\n",
    "\n",
    "\n"
   ]
  },
  {
   "cell_type": "markdown",
   "metadata": {
    "deletable": false,
    "editable": false,
    "id": "ytf7xFrFJQ2r",
    "tags": [
     "start_task"
    ]
   },
   "source": [
    "**Задание 21**\n",
    "\n",
    "Вызовите `number_tracks()` шесть раз, меняя значение параметров — так, чтобы получить данные для каждого города в каждый из трёх дней."
   ]
  },
  {
   "cell_type": "code",
   "execution_count": 21,
   "metadata": {
    "deletable": false,
    "id": "rJcRATNQ_Zcu"
   },
   "outputs": [
    {
     "data": {
      "text/plain": [
       "15740"
      ]
     },
     "execution_count": 21,
     "metadata": {},
     "output_type": "execute_result"
    }
   ],
   "source": [
    "number_tracks('Monday', 'Moscow') # количество прослушиваний в Москве по понедельникам"
   ]
  },
  {
   "cell_type": "code",
   "execution_count": 22,
   "metadata": {
    "deletable": false,
    "id": "hq_ncZ5T_Zcu"
   },
   "outputs": [
    {
     "data": {
      "text/plain": [
       "5614"
      ]
     },
     "execution_count": 22,
     "metadata": {},
     "output_type": "execute_result"
    }
   ],
   "source": [
    "number_tracks('Monday', 'Saint-Petersburg') # количество прослушиваний в Санкт-Петербурге по понедельникам"
   ]
  },
  {
   "cell_type": "code",
   "execution_count": 23,
   "metadata": {
    "deletable": false,
    "id": "_NTy2VPU_Zcu"
   },
   "outputs": [
    {
     "data": {
      "text/plain": [
       "11056"
      ]
     },
     "execution_count": 23,
     "metadata": {},
     "output_type": "execute_result"
    }
   ],
   "source": [
    "number_tracks('Wednesday', 'Moscow') # количество прослушиваний в Москве по средам"
   ]
  },
  {
   "cell_type": "code",
   "execution_count": 24,
   "metadata": {
    "deletable": false,
    "id": "j2y3TAwo_Zcu"
   },
   "outputs": [
    {
     "data": {
      "text/plain": [
       "7003"
      ]
     },
     "execution_count": 24,
     "metadata": {},
     "output_type": "execute_result"
    }
   ],
   "source": [
    "number_tracks('Wednesday', 'Saint-Petersburg') # количество прослушиваний в Санкт-Петербурге по средам"
   ]
  },
  {
   "cell_type": "code",
   "execution_count": 25,
   "metadata": {
    "deletable": false,
    "id": "vYDw5u_K_Zcu"
   },
   "outputs": [
    {
     "data": {
      "text/plain": [
       "15945"
      ]
     },
     "execution_count": 25,
     "metadata": {},
     "output_type": "execute_result"
    }
   ],
   "source": [
    "number_tracks('Friday', 'Moscow') # количество прослушиваний в Москве по пятницам"
   ]
  },
  {
   "cell_type": "code",
   "execution_count": 26,
   "metadata": {
    "deletable": false,
    "id": "8_yzFtW3_Zcu"
   },
   "outputs": [
    {
     "data": {
      "text/plain": [
       "5895"
      ]
     },
     "execution_count": 26,
     "metadata": {},
     "output_type": "execute_result"
    }
   ],
   "source": [
    "number_tracks('Friday', 'Saint-Petersburg') # количество прослушиваний в Санкт-Петербурге по пятницам"
   ]
  },
  {
   "cell_type": "markdown",
   "metadata": {
    "deletable": false,
    "editable": false,
    "id": "7QXffbO-_Zcu",
    "tags": [
     "start_task"
    ]
   },
   "source": [
    "**Задание 22**\n",
    "\n",
    "Создайте c помощью конструктора `pd.DataFrame` таблицу, где\n",
    "* названия колонок — `['city', 'monday', 'wednesday', 'friday']`;\n",
    "* данные — результаты, которые вы получили с помощью `number_tracks`."
   ]
  },
  {
   "cell_type": "code",
   "execution_count": 27,
   "metadata": {
    "deletable": false,
    "id": "APAcLpOr_Zcu"
   },
   "outputs": [
    {
     "data": {
      "text/html": [
       "<div>\n",
       "<style scoped>\n",
       "    .dataframe tbody tr th:only-of-type {\n",
       "        vertical-align: middle;\n",
       "    }\n",
       "\n",
       "    .dataframe tbody tr th {\n",
       "        vertical-align: top;\n",
       "    }\n",
       "\n",
       "    .dataframe thead th {\n",
       "        text-align: right;\n",
       "    }\n",
       "</style>\n",
       "<table border=\"1\" class=\"dataframe\">\n",
       "  <thead>\n",
       "    <tr style=\"text-align: right;\">\n",
       "      <th></th>\n",
       "      <th>city</th>\n",
       "      <th>monday</th>\n",
       "      <th>wednesday</th>\n",
       "      <th>friday</th>\n",
       "    </tr>\n",
       "  </thead>\n",
       "  <tbody>\n",
       "    <tr>\n",
       "      <th>0</th>\n",
       "      <td>Moscow</td>\n",
       "      <td>15740</td>\n",
       "      <td>11056</td>\n",
       "      <td>15945</td>\n",
       "    </tr>\n",
       "    <tr>\n",
       "      <th>1</th>\n",
       "      <td>Saint-Petersburg</td>\n",
       "      <td>5614</td>\n",
       "      <td>7003</td>\n",
       "      <td>5895</td>\n",
       "    </tr>\n",
       "  </tbody>\n",
       "</table>\n",
       "</div>"
      ],
      "text/plain": [
       "               city  monday  wednesday  friday\n",
       "0            Moscow   15740      11056   15945\n",
       "1  Saint-Petersburg    5614       7003    5895"
      ]
     },
     "execution_count": 27,
     "metadata": {},
     "output_type": "execute_result"
    }
   ],
   "source": [
    "data = [['Moscow', 15740, 11056, 15945],\n",
    "       ['Saint-Petersburg', 5614, 7003, 5895]]\n",
    "columns = ['city','monday','wednesday','friday']\n",
    "info = pd.DataFrame(data = data, columns = columns)\n",
    "info"
   ]
  },
  {
   "cell_type": "markdown",
   "metadata": {
    "deletable": false,
    "editable": false,
    "id": "-EgPIHYu_Zcu"
   },
   "source": [
    "**Выводы**\n",
    "\n",
    "Данные показывают разницу поведения пользователей:\n",
    "\n",
    "- В Москве пик прослушиваний приходится на понедельник и пятницу, а в среду заметен спад.\n",
    "- В Петербурге, наоборот, больше слушают музыку по средам. Активность в понедельник и пятницу здесь почти в равной мере уступает среде.\n",
    "\n",
    "Значит, данные говорят в пользу первой гипотезы."
   ]
  },
  {
   "cell_type": "markdown",
   "metadata": {
    "deletable": false,
    "editable": false,
    "id": "atZAxtq4_Zcu"
   },
   "source": [
    "### Музыка в начале и в конце недели"
   ]
  },
  {
   "cell_type": "markdown",
   "metadata": {
    "deletable": false,
    "editable": false,
    "id": "eXrQqXFH_Zcu"
   },
   "source": [
    "Согласно второй гипотезе, утром в понедельник в Москве преобладают одни жанры, а в Петербурге — другие. Так же и вечером пятницы преобладают разные жанры — в зависимости от города."
   ]
  },
  {
   "cell_type": "markdown",
   "metadata": {
    "deletable": false,
    "editable": false,
    "id": "S8UcW6Hw_Zcu",
    "tags": [
     "start_task"
    ]
   },
   "source": [
    "**Задание 23**\n",
    "\n",
    "Сохраните таблицы с данными в две переменные:\n",
    "* по Москве — в `moscow_general`;\n",
    "* по Санкт-Петербургу — в `spb_general`."
   ]
  },
  {
   "cell_type": "code",
   "execution_count": 28,
   "metadata": {
    "deletable": false,
    "id": "qeaFfM_P_Zcu"
   },
   "outputs": [],
   "source": [
    "moscow_general = df[df['city'] == 'Moscow'] # получение таблицы moscow_general из тех строк таблицы df, \n",
    "# для которых значение в столбце 'city' равно 'Moscow'\n"
   ]
  },
  {
   "cell_type": "code",
   "execution_count": 29,
   "metadata": {
    "deletable": false,
    "id": "ORaVRKto_Zcu"
   },
   "outputs": [],
   "source": [
    "spb_general = df[df['city'] == 'Saint-Petersburg'] # получение таблицы spb_general из тех строк таблицы df,\n",
    "# для которых значение в столбце 'city' равно 'Saint-Petersburg'\n"
   ]
  },
  {
   "cell_type": "markdown",
   "metadata": {
    "deletable": false,
    "id": "MEJV-CX2_Zcu",
    "tags": [
     "start_task"
    ]
   },
   "source": [
    "**Задание 24**\n",
    "\n",
    "Создайте функцию `genre_weekday()` с четырьмя параметрами:\n",
    "* таблица (датафрейм) с данными,\n",
    "* день недели,\n",
    "* начальная временная метка в формате 'hh:mm', \n",
    "* последняя временная метка в формате 'hh:mm'.\n",
    "\n",
    "Функция должна вернуть информацию о топ-10 жанров тех треков, которые прослушивали в указанный день, в промежутке между двумя отметками времени."
   ]
  },
  {
   "attachments": {},
   "cell_type": "markdown",
   "metadata": {},
   "source": [
    "Объявление функции genre_weekday() с параметрами table, day, time1, time2,\n",
    "которая возвращает информацию о самых популярных жанрах в указанный день в\n",
    "заданное время:\n",
    "1) в переменную genre_df сохраняются те строки переданного датафрейма table, для\n",
    "которых одновременно:\n",
    "- значение в столбце day равно значению аргумента day\n",
    "- значение в столбце time больше значения аргумента time1\n",
    "- значение в столбце time меньше значения аргумента time2\n",
    "Используйте последовательную фильтрацию с помощью логической индексации. <br />\n",
    "\n",
    "2) сгруппировать датафрейм genre_df по столбцу genre, взять один из его\n",
    "столбцов и посчитать методом count() количество записей для каждого из\n",
    "присутствующих жанров, получившийся Series записать в переменную\n",
    "genre_df_count<br />\n",
    "3) отсортировать genre_df_count по убыванию встречаемости и сохранить\n",
    "в переменную genre_df_sorted<br />\n",
    "4) вернуть Series из 10 первых значений genre_df_sorted, это будут топ-10\n",
    "популярных жанров (в указанный день, в заданное время)<br />"
   ]
  },
  {
   "cell_type": "code",
   "execution_count": 30,
   "metadata": {
    "deletable": false,
    "id": "laJT9BYl_Zcu"
   },
   "outputs": [],
   "source": [
    "\n",
    "\n",
    "def genre_weekday(df, day, time1, time2):\n",
    "    # последовательная фильтрация\n",
    "    # оставляем в genre_df только те строки df, у которых день равен day\n",
    "    genre_df = df[(df['day']==day)]# ваш код здесь\n",
    "    # оставляем в genre_df только те строки genre_df, у которых время меньше time2\n",
    "    genre_df = genre_df[(genre_df['time'] < time2)]# ваш код здесь\n",
    "    # оставляем в genre_df только те строки genre_df, у которых время больше time1\n",
    "    genre_df = genre_df[(genre_df['time'] > time1)]# ваш код здесь\n",
    "    # сгруппируем отфильтрованный датафрейм по столбцу с названиями жанров, возьмём столбец genre и посчитаем кол-во строк для каждого жанра методом count()\n",
    "    genre_df_grouped = genre_df.groupby('genre')['genre'].count() # ваш код здесь\n",
    "    # отсортируем результат по убыванию (чтобы в начале Series оказались самые популярные жанры)\n",
    "    genre_df_sorted = genre_df_grouped.sort_values(ascending=False)# ваш код здесь\n",
    "    # вернём Series с 10 самыми популярными жанрами в указанный отрезок времени заданного дня\n",
    "    return genre_df_sorted[:10]"
   ]
  },
  {
   "cell_type": "markdown",
   "metadata": {
    "deletable": false,
    "editable": false,
    "id": "la2s2_PF_Zcu",
    "tags": [
     "start_task"
    ]
   },
   "source": [
    "**Задание 25**\n",
    "\n",
    "\n",
    "Cравните результаты функции `genre_weekday()` для Москвы и Санкт-Петербурга в понедельник утром (с 7:00 до 11:00) и в пятницу вечером (с 17:00 до 23:00):"
   ]
  },
  {
   "cell_type": "code",
   "execution_count": 31,
   "metadata": {
    "deletable": false,
    "id": "yz7itPUQ_Zcu"
   },
   "outputs": [
    {
     "data": {
      "text/plain": [
       "genre\n",
       "pop            781\n",
       "dance          549\n",
       "electronic     480\n",
       "rock           474\n",
       "hiphop         286\n",
       "ruspop         186\n",
       "world          181\n",
       "rusrap         175\n",
       "alternative    164\n",
       "unknown        161\n",
       "Name: genre, dtype: int64"
      ]
     },
     "execution_count": 31,
     "metadata": {},
     "output_type": "execute_result"
    }
   ],
   "source": [
    "genre_weekday(moscow_general, 'Monday', '07:00', '11:00') # вызов функции для утра понедельника в Москве (вместо df — таблица moscow_general)\n",
    "# объекты, хранящие время, являются строками и сравниваются как строки\n",
    "# пример вызова: genre_weekday(moscow_general, 'Monday', '07:00', '11:00')"
   ]
  },
  {
   "cell_type": "code",
   "execution_count": 32,
   "metadata": {
    "deletable": false,
    "id": "kwUcHPdy_Zcu"
   },
   "outputs": [
    {
     "data": {
      "text/plain": [
       "genre\n",
       "pop            218\n",
       "dance          182\n",
       "rock           162\n",
       "electronic     147\n",
       "hiphop          80\n",
       "ruspop          64\n",
       "alternative     58\n",
       "rusrap          55\n",
       "jazz            44\n",
       "classical       40\n",
       "Name: genre, dtype: int64"
      ]
     },
     "execution_count": 32,
     "metadata": {},
     "output_type": "execute_result"
    }
   ],
   "source": [
    "genre_weekday(spb_general, 'Monday', '07:00', '11:00') # вызов функции для утра понедельника в Петербурге (вместо df — таблица spb_general)"
   ]
  },
  {
   "cell_type": "code",
   "execution_count": 33,
   "metadata": {
    "deletable": false,
    "id": "EzXVRE1o_Zcu"
   },
   "outputs": [
    {
     "data": {
      "text/plain": [
       "genre\n",
       "pop            713\n",
       "rock           517\n",
       "dance          495\n",
       "electronic     482\n",
       "hiphop         273\n",
       "world          208\n",
       "ruspop         170\n",
       "alternative    163\n",
       "classical      163\n",
       "rusrap         142\n",
       "Name: genre, dtype: int64"
      ]
     },
     "execution_count": 33,
     "metadata": {},
     "output_type": "execute_result"
    }
   ],
   "source": [
    "genre_weekday(moscow_general, 'Friday', '17:00', '23:00') # вызов функции для вечера пятницы в Москве"
   ]
  },
  {
   "cell_type": "code",
   "execution_count": 34,
   "metadata": {
    "deletable": false,
    "id": "JZaEKu5v_Zcu"
   },
   "outputs": [
    {
     "data": {
      "text/plain": [
       "genre\n",
       "pop            256\n",
       "electronic     216\n",
       "rock           216\n",
       "dance          210\n",
       "hiphop          97\n",
       "alternative     63\n",
       "jazz            61\n",
       "classical       60\n",
       "rusrap          59\n",
       "world           54\n",
       "Name: genre, dtype: int64"
      ]
     },
     "execution_count": 34,
     "metadata": {},
     "output_type": "execute_result"
    }
   ],
   "source": [
    "genre_weekday(spb_general, 'Friday', '17:00', '23:00') # вызов функции для вечера пятницы в Петербурге"
   ]
  },
  {
   "cell_type": "markdown",
   "metadata": {
    "deletable": false,
    "editable": false,
    "id": "wrCe4MNX_Zcu"
   },
   "source": [
    "**Выводы**\n",
    "\n",
    "Если сравнить топ-10 жанров в понедельник утром, можно сделать такие выводы:\n",
    "\n",
    "1. В Москве и Петербурге слушают похожую музыку. Единственное отличие — в московский рейтинг вошёл жанр “world”, а в петербургский — джаз и классика.\n",
    "\n",
    "2. В Москве пропущенных значений оказалось так много, что значение `'unknown'` заняло десятое место среди самых популярных жанров. Значит, пропущенные значения занимают существенную долю в данных и угрожают достоверности исследования.\n",
    "\n",
    "Вечер пятницы не меняет эту картину. Некоторые жанры поднимаются немного выше, другие спускаются, но в целом топ-10 остаётся тем же самым.\n",
    "\n",
    "Таким образом, вторая гипотеза подтвердилась лишь частично:\n",
    "* Пользователи слушают похожую музыку в начале недели и в конце.\n",
    "* Разница между Москвой и Петербургом не слишком выражена. В Москве чаще слушают русскую популярную музыку, в Петербурге — джаз.\n",
    "\n",
    "Однако пропуски в данных ставят под сомнение этот результат. В Москве их так много, что рейтинг топ-10 мог бы выглядеть иначе, если бы не утерянные  данные о жанрах."
   ]
  },
  {
   "cell_type": "markdown",
   "metadata": {
    "deletable": false,
    "editable": false,
    "id": "JolODAqr_Zcu"
   },
   "source": [
    "### Жанровые предпочтения в Москве и Петербурге\n",
    "\n",
    "Гипотеза: Петербург — столица рэпа, музыку этого жанра там слушают чаще, чем в Москве.  А Москва — город контрастов, в котором, тем не менее, преобладает поп-музыка."
   ]
  },
  {
   "cell_type": "markdown",
   "metadata": {
    "deletable": false,
    "editable": false,
    "id": "DlegSvaT_Zcu",
    "tags": [
     "start_task"
    ]
   },
   "source": [
    "**Задание 26**\n",
    "\n",
    "Сгруппируйте таблицу `moscow_general` по жанру и посчитайте прослушивания треков каждого жанра методом `count()`. Затем отсортируйте результат в порядке убывания и сохраните его в таблице `moscow_genres`."
   ]
  },
  {
   "cell_type": "code",
   "execution_count": 35,
   "metadata": {
    "deletable": false,
    "id": "r19lIPke_Zcu"
   },
   "outputs": [],
   "source": [
    "moscow_genres = moscow_general.groupby('genre')['genre'].count().sort_values(ascending=False) \n",
    "# одной строкой: группировка таблицы moscow_general по столбцу 'genre', \n",
    "# подсчёт числа значений 'genre' в этой группировке методом count(), \n",
    "# сортировка получившегося Series в порядке убывания и сохранение в moscow_genres"
   ]
  },
  {
   "cell_type": "markdown",
   "metadata": {
    "deletable": false,
    "editable": false,
    "id": "6kMuomxTiIr8",
    "tags": [
     "start_task"
    ]
   },
   "source": [
    "**Задание 27**\n",
    "\n",
    "Выведите на экран первые десять строк `moscow_genres`:"
   ]
  },
  {
   "cell_type": "code",
   "execution_count": 36,
   "metadata": {
    "deletable": false,
    "id": "WhCSooF8_Zcv"
   },
   "outputs": [
    {
     "data": {
      "text/plain": [
       "genre\n",
       "pop            5892\n",
       "dance          4435\n",
       "rock           3965\n",
       "electronic     3786\n",
       "hiphop         2096\n",
       "classical      1616\n",
       "world          1432\n",
       "alternative    1379\n",
       "ruspop         1372\n",
       "rusrap         1161\n",
       "Name: genre, dtype: int64"
      ]
     },
     "execution_count": 36,
     "metadata": {},
     "output_type": "execute_result"
    }
   ],
   "source": [
    "moscow_genres.head(10) \n",
    "# просмотр первых 10 строк moscow_genres"
   ]
  },
  {
   "cell_type": "markdown",
   "metadata": {
    "deletable": false,
    "editable": false,
    "id": "cnPG2vnN_Zcv",
    "tags": [
     "start_task"
    ]
   },
   "source": [
    "**Задание 28**\n",
    "\n",
    "\n",
    "Теперь повторите то же и для Петербурга.\n",
    "\n",
    "Сгруппируйте таблицу `spb_general` по жанру. Посчитайте прослушивания треков каждого жанра. Результат отсортируйте в порядке убывания и сохраните в таблице `spb_genres`:\n"
   ]
  },
  {
   "cell_type": "code",
   "execution_count": 37,
   "metadata": {
    "deletable": false,
    "id": "gluLIpE7_Zcv"
   },
   "outputs": [],
   "source": [
    "spb_genres = spb_general.groupby('genre')['genre'].count().sort_values(ascending=False)\n",
    "# одной строкой: группировка таблицы spb_general по столбцу 'genre', \n",
    "# подсчёт числа значений 'genre' в этой группировке методом count(), \n",
    "# сортировка получившегося Series в порядке убывания и сохранение в spb_genres"
   ]
  },
  {
   "cell_type": "markdown",
   "metadata": {
    "deletable": false,
    "editable": false,
    "id": "5Doha_ODgyQ8",
    "tags": [
     "start_task"
    ]
   },
   "source": [
    "**Задание 29**\n",
    "\n",
    "Выведите на экран первые десять строк `spb_genres`:"
   ]
  },
  {
   "cell_type": "code",
   "execution_count": 38,
   "metadata": {
    "deletable": false,
    "id": "uaGJHjVU_Zcv"
   },
   "outputs": [
    {
     "data": {
      "text/plain": [
       "genre\n",
       "pop            2431\n",
       "dance          1932\n",
       "rock           1879\n",
       "electronic     1736\n",
       "hiphop          960\n",
       "alternative     649\n",
       "classical       646\n",
       "rusrap          564\n",
       "ruspop          538\n",
       "world           515\n",
       "Name: genre, dtype: int64"
      ]
     },
     "execution_count": 38,
     "metadata": {},
     "output_type": "execute_result"
    }
   ],
   "source": [
    "spb_genres.head(10)\n",
    "# просмотр первых 10 строк spb_genres"
   ]
  },
  {
   "cell_type": "markdown",
   "metadata": {
    "deletable": false,
    "editable": false,
    "id": "RY51YJYu_Zcv"
   },
   "source": [
    "**Выводы**"
   ]
  },
  {
   "cell_type": "markdown",
   "metadata": {
    "deletable": false,
    "editable": false,
    "id": "nVhnJEm__Zcv"
   },
   "source": [
    "Гипотеза частично подтвердилась:\n",
    "* Поп-музыка — самый популярный жанр в Москве, как и предполагала гипотеза. Более того, в топ-10 жанров встречается близкий жанр — русская популярная музыка.\n",
    "* Вопреки ожиданиям, рэп одинаково популярен в Москве и Петербурге. \n"
   ]
  },
  {
   "cell_type": "markdown",
   "metadata": {
    "deletable": false,
    "editable": false,
    "id": "ykKQ0N65_Zcv"
   },
   "source": [
    "## Итоги исследования"
   ]
  },
  {
   "cell_type": "markdown",
   "metadata": {
    "deletable": false,
    "editable": false,
    "id": "tjUwbHb3_Zcv"
   },
   "source": [
    "Вы проверили три гипотезы и установили:\n",
    "\n",
    "1. День недели по-разному влияет на активность пользователей в Москве и Петербурге. \n",
    "\n",
    "Первая гипотеза полностью подтвердилась.\n",
    "\n",
    "2. Музыкальные предпочтения не сильно меняются в течение недели — будь то Москва или Петербург. Небольшие различия заметны в начале недели, по понедельникам:\n",
    "* в Москве слушают музыку жанра “world”,\n",
    "* в Петербурге — джаз и классику.\n",
    "\n",
    "Таким образом, вторая гипотеза подтвердилась лишь отчасти. Этот результат мог оказаться иным, если бы не пропуски в данных.\n",
    "\n",
    "3. Во вкусах пользователей Москвы и Петербурга больше общего чем различий. Вопреки ожиданиям, предпочтения жанров в Петербурге напоминают московские.\n",
    "\n",
    "Третья гипотеза не подтвердилась. Если различия в предпочтениях и существуют, на основной массе пользователей они незаметны.\n",
    "\n",
    "**На практике исследования содержат проверки статистических гипотез.**\n",
    "Из данных одного сервиса не всегда можно сделать вывод о всех жителях города.\n",
    "Проверки статистических гипотез покажут, насколько они достоверны, исходя из имеющихся данных. \n",
    "С методами проверок гипотез вы ещё познакомитесь в следующих темах."
   ]
  }
 ],
 "metadata": {
  "ExecuteTimeLog": [
   {
    "duration": 45,
    "start_time": "2022-07-08T12:03:40.914Z"
   },
   {
    "duration": 7,
    "start_time": "2022-07-08T12:03:50.311Z"
   },
   {
    "duration": 45,
    "start_time": "2022-07-08T12:04:13.563Z"
   },
   {
    "duration": 47,
    "start_time": "2022-07-08T12:04:25.706Z"
   },
   {
    "duration": 369,
    "start_time": "2022-07-08T12:04:53.941Z"
   },
   {
    "duration": 198,
    "start_time": "2022-07-08T12:04:54.312Z"
   },
   {
    "duration": 17,
    "start_time": "2022-07-08T12:04:54.512Z"
   },
   {
    "duration": 28,
    "start_time": "2022-07-08T12:04:54.532Z"
   },
   {
    "duration": 26,
    "start_time": "2022-07-08T12:04:54.564Z"
   },
   {
    "duration": 16,
    "start_time": "2022-07-08T12:04:54.592Z"
   },
   {
    "duration": 5,
    "start_time": "2022-07-08T12:04:54.610Z"
   },
   {
    "duration": 7,
    "start_time": "2022-07-08T12:04:54.617Z"
   },
   {
    "duration": 6,
    "start_time": "2022-07-08T12:04:54.626Z"
   },
   {
    "duration": 16,
    "start_time": "2022-07-08T12:04:54.635Z"
   },
   {
    "duration": 6,
    "start_time": "2022-07-08T12:04:54.652Z"
   },
   {
    "duration": 6,
    "start_time": "2022-07-08T12:04:54.659Z"
   },
   {
    "duration": 7,
    "start_time": "2022-07-08T12:04:54.666Z"
   },
   {
    "duration": 9,
    "start_time": "2022-07-08T12:04:54.675Z"
   },
   {
    "duration": 13,
    "start_time": "2022-07-08T12:04:54.686Z"
   },
   {
    "duration": 12,
    "start_time": "2022-07-08T12:04:54.700Z"
   },
   {
    "duration": 7,
    "start_time": "2022-07-08T12:04:54.714Z"
   },
   {
    "duration": 15,
    "start_time": "2022-07-08T12:04:54.722Z"
   },
   {
    "duration": 9,
    "start_time": "2022-07-08T12:04:54.738Z"
   },
   {
    "duration": 7,
    "start_time": "2022-07-08T12:04:54.749Z"
   },
   {
    "duration": 8,
    "start_time": "2022-07-08T12:04:54.758Z"
   },
   {
    "duration": 7,
    "start_time": "2022-07-08T12:04:54.767Z"
   },
   {
    "duration": 9,
    "start_time": "2022-07-08T12:04:54.776Z"
   },
   {
    "duration": 6,
    "start_time": "2022-07-08T12:04:54.787Z"
   },
   {
    "duration": 20,
    "start_time": "2022-07-08T12:04:54.794Z"
   },
   {
    "duration": 10,
    "start_time": "2022-07-08T12:04:54.816Z"
   },
   {
    "duration": 20,
    "start_time": "2022-07-08T12:04:54.828Z"
   },
   {
    "duration": 16,
    "start_time": "2022-07-08T12:04:54.852Z"
   },
   {
    "duration": 28,
    "start_time": "2022-07-08T12:04:54.869Z"
   },
   {
    "duration": 70,
    "start_time": "2022-07-08T12:04:54.900Z"
   },
   {
    "duration": 0,
    "start_time": "2022-07-08T12:04:54.972Z"
   },
   {
    "duration": 0,
    "start_time": "2022-07-08T12:04:54.973Z"
   },
   {
    "duration": 0,
    "start_time": "2022-07-08T12:04:54.974Z"
   },
   {
    "duration": 0,
    "start_time": "2022-07-08T12:04:54.975Z"
   },
   {
    "duration": 0,
    "start_time": "2022-07-08T12:04:54.976Z"
   },
   {
    "duration": 0,
    "start_time": "2022-07-08T12:04:54.977Z"
   },
   {
    "duration": 0,
    "start_time": "2022-07-08T12:04:54.978Z"
   },
   {
    "duration": 0,
    "start_time": "2022-07-08T12:04:54.979Z"
   },
   {
    "duration": 392,
    "start_time": "2022-07-08T12:18:59.516Z"
   },
   {
    "duration": 159,
    "start_time": "2022-07-08T12:18:59.910Z"
   },
   {
    "duration": 17,
    "start_time": "2022-07-08T12:19:00.071Z"
   },
   {
    "duration": 37,
    "start_time": "2022-07-08T12:19:00.089Z"
   },
   {
    "duration": 12,
    "start_time": "2022-07-08T12:19:00.128Z"
   },
   {
    "duration": 6,
    "start_time": "2022-07-08T12:19:00.142Z"
   },
   {
    "duration": 9,
    "start_time": "2022-07-08T12:19:00.149Z"
   },
   {
    "duration": 9,
    "start_time": "2022-07-08T12:19:00.159Z"
   },
   {
    "duration": 16,
    "start_time": "2022-07-08T12:19:00.169Z"
   },
   {
    "duration": 9,
    "start_time": "2022-07-08T12:19:00.187Z"
   },
   {
    "duration": 8,
    "start_time": "2022-07-08T12:19:00.197Z"
   },
   {
    "duration": 7,
    "start_time": "2022-07-08T12:19:00.207Z"
   },
   {
    "duration": 6,
    "start_time": "2022-07-08T12:19:00.216Z"
   },
   {
    "duration": 12,
    "start_time": "2022-07-08T12:19:00.225Z"
   },
   {
    "duration": 7,
    "start_time": "2022-07-08T12:19:00.238Z"
   },
   {
    "duration": 11,
    "start_time": "2022-07-08T12:19:00.246Z"
   },
   {
    "duration": 22,
    "start_time": "2022-07-08T12:19:00.258Z"
   },
   {
    "duration": 14,
    "start_time": "2022-07-08T12:19:00.282Z"
   },
   {
    "duration": 17,
    "start_time": "2022-07-08T12:19:00.297Z"
   },
   {
    "duration": 16,
    "start_time": "2022-07-08T12:19:00.315Z"
   },
   {
    "duration": 10,
    "start_time": "2022-07-08T12:19:00.332Z"
   },
   {
    "duration": 10,
    "start_time": "2022-07-08T12:19:00.344Z"
   },
   {
    "duration": 31,
    "start_time": "2022-07-08T12:19:00.356Z"
   },
   {
    "duration": 26,
    "start_time": "2022-07-08T12:19:00.389Z"
   },
   {
    "duration": 14,
    "start_time": "2022-07-08T12:19:00.417Z"
   },
   {
    "duration": 11,
    "start_time": "2022-07-08T12:19:00.433Z"
   },
   {
    "duration": 20,
    "start_time": "2022-07-08T12:19:00.446Z"
   },
   {
    "duration": 14,
    "start_time": "2022-07-08T12:19:00.468Z"
   },
   {
    "duration": 54,
    "start_time": "2022-07-08T12:19:00.483Z"
   },
   {
    "duration": 0,
    "start_time": "2022-07-08T12:19:00.538Z"
   },
   {
    "duration": 0,
    "start_time": "2022-07-08T12:19:00.540Z"
   },
   {
    "duration": 0,
    "start_time": "2022-07-08T12:19:00.541Z"
   },
   {
    "duration": 0,
    "start_time": "2022-07-08T12:19:00.542Z"
   },
   {
    "duration": 0,
    "start_time": "2022-07-08T12:19:00.543Z"
   },
   {
    "duration": 0,
    "start_time": "2022-07-08T12:19:00.544Z"
   },
   {
    "duration": 0,
    "start_time": "2022-07-08T12:19:00.545Z"
   },
   {
    "duration": 0,
    "start_time": "2022-07-08T12:19:00.546Z"
   },
   {
    "duration": 418,
    "start_time": "2022-07-08T12:22:48.199Z"
   },
   {
    "duration": 166,
    "start_time": "2022-07-08T12:22:48.618Z"
   },
   {
    "duration": 18,
    "start_time": "2022-07-08T12:22:48.786Z"
   },
   {
    "duration": 28,
    "start_time": "2022-07-08T12:22:48.806Z"
   },
   {
    "duration": 2,
    "start_time": "2022-07-08T12:22:48.836Z"
   },
   {
    "duration": 7,
    "start_time": "2022-07-08T12:22:48.840Z"
   },
   {
    "duration": 13,
    "start_time": "2022-07-08T12:22:48.849Z"
   },
   {
    "duration": 13,
    "start_time": "2022-07-08T12:22:48.863Z"
   },
   {
    "duration": 5,
    "start_time": "2022-07-08T12:22:48.877Z"
   },
   {
    "duration": 2,
    "start_time": "2022-07-08T12:22:48.902Z"
   },
   {
    "duration": 8,
    "start_time": "2022-07-08T12:22:48.906Z"
   },
   {
    "duration": 5,
    "start_time": "2022-07-08T12:22:48.915Z"
   },
   {
    "duration": 7,
    "start_time": "2022-07-08T12:22:48.922Z"
   },
   {
    "duration": 8,
    "start_time": "2022-07-08T12:22:48.930Z"
   },
   {
    "duration": 5,
    "start_time": "2022-07-08T12:22:48.940Z"
   },
   {
    "duration": 6,
    "start_time": "2022-07-08T12:22:48.947Z"
   },
   {
    "duration": 15,
    "start_time": "2022-07-08T12:22:48.954Z"
   },
   {
    "duration": 10,
    "start_time": "2022-07-08T12:22:48.971Z"
   },
   {
    "duration": 13,
    "start_time": "2022-07-08T12:22:48.983Z"
   },
   {
    "duration": 9,
    "start_time": "2022-07-08T12:22:48.997Z"
   },
   {
    "duration": 13,
    "start_time": "2022-07-08T12:22:49.007Z"
   },
   {
    "duration": 5,
    "start_time": "2022-07-08T12:22:49.021Z"
   },
   {
    "duration": 6,
    "start_time": "2022-07-08T12:22:49.028Z"
   },
   {
    "duration": 9,
    "start_time": "2022-07-08T12:22:49.035Z"
   },
   {
    "duration": 12,
    "start_time": "2022-07-08T12:22:49.046Z"
   },
   {
    "duration": 10,
    "start_time": "2022-07-08T12:22:49.060Z"
   },
   {
    "duration": 10,
    "start_time": "2022-07-08T12:22:49.072Z"
   },
   {
    "duration": 8,
    "start_time": "2022-07-08T12:22:49.085Z"
   },
   {
    "duration": 15,
    "start_time": "2022-07-08T12:22:49.094Z"
   },
   {
    "duration": 51,
    "start_time": "2022-07-08T12:22:49.111Z"
   },
   {
    "duration": 0,
    "start_time": "2022-07-08T12:22:49.164Z"
   },
   {
    "duration": 0,
    "start_time": "2022-07-08T12:22:49.165Z"
   },
   {
    "duration": 0,
    "start_time": "2022-07-08T12:22:49.166Z"
   },
   {
    "duration": 0,
    "start_time": "2022-07-08T12:22:49.167Z"
   },
   {
    "duration": 0,
    "start_time": "2022-07-08T12:22:49.168Z"
   },
   {
    "duration": 0,
    "start_time": "2022-07-08T12:22:49.169Z"
   },
   {
    "duration": 0,
    "start_time": "2022-07-08T12:22:49.170Z"
   },
   {
    "duration": 0,
    "start_time": "2022-07-08T12:22:49.171Z"
   },
   {
    "duration": 424,
    "start_time": "2022-07-08T12:29:13.102Z"
   },
   {
    "duration": 151,
    "start_time": "2022-07-08T12:29:13.528Z"
   },
   {
    "duration": 17,
    "start_time": "2022-07-08T12:29:13.681Z"
   },
   {
    "duration": 28,
    "start_time": "2022-07-08T12:29:13.701Z"
   },
   {
    "duration": 2,
    "start_time": "2022-07-08T12:29:13.731Z"
   },
   {
    "duration": 9,
    "start_time": "2022-07-08T12:29:13.735Z"
   },
   {
    "duration": 13,
    "start_time": "2022-07-08T12:29:13.746Z"
   },
   {
    "duration": 13,
    "start_time": "2022-07-08T12:29:13.760Z"
   },
   {
    "duration": 46,
    "start_time": "2022-07-08T12:29:13.775Z"
   },
   {
    "duration": 3,
    "start_time": "2022-07-08T12:29:13.824Z"
   },
   {
    "duration": 7,
    "start_time": "2022-07-08T12:29:13.829Z"
   },
   {
    "duration": 19,
    "start_time": "2022-07-08T12:29:13.838Z"
   },
   {
    "duration": 6,
    "start_time": "2022-07-08T12:29:13.859Z"
   },
   {
    "duration": 6,
    "start_time": "2022-07-08T12:29:13.867Z"
   },
   {
    "duration": 10,
    "start_time": "2022-07-08T12:29:13.875Z"
   },
   {
    "duration": 8,
    "start_time": "2022-07-08T12:29:13.886Z"
   },
   {
    "duration": 6,
    "start_time": "2022-07-08T12:29:13.896Z"
   },
   {
    "duration": 7,
    "start_time": "2022-07-08T12:29:13.903Z"
   },
   {
    "duration": 6,
    "start_time": "2022-07-08T12:29:13.913Z"
   },
   {
    "duration": 14,
    "start_time": "2022-07-08T12:29:13.922Z"
   },
   {
    "duration": 9,
    "start_time": "2022-07-08T12:29:13.938Z"
   },
   {
    "duration": 10,
    "start_time": "2022-07-08T12:29:13.949Z"
   },
   {
    "duration": 7,
    "start_time": "2022-07-08T12:29:13.961Z"
   },
   {
    "duration": 19,
    "start_time": "2022-07-08T12:29:13.970Z"
   },
   {
    "duration": 17,
    "start_time": "2022-07-08T12:29:13.991Z"
   },
   {
    "duration": 5,
    "start_time": "2022-07-08T12:29:14.010Z"
   },
   {
    "duration": 9,
    "start_time": "2022-07-08T12:29:14.017Z"
   },
   {
    "duration": 5,
    "start_time": "2022-07-08T12:29:14.029Z"
   },
   {
    "duration": 4,
    "start_time": "2022-07-08T12:29:14.036Z"
   },
   {
    "duration": 49,
    "start_time": "2022-07-08T12:29:14.042Z"
   },
   {
    "duration": 0,
    "start_time": "2022-07-08T12:29:14.092Z"
   },
   {
    "duration": 0,
    "start_time": "2022-07-08T12:29:14.093Z"
   },
   {
    "duration": 0,
    "start_time": "2022-07-08T12:29:14.095Z"
   },
   {
    "duration": 0,
    "start_time": "2022-07-08T12:29:14.096Z"
   },
   {
    "duration": 0,
    "start_time": "2022-07-08T12:29:14.097Z"
   },
   {
    "duration": 0,
    "start_time": "2022-07-08T12:29:14.098Z"
   },
   {
    "duration": 0,
    "start_time": "2022-07-08T12:29:14.099Z"
   },
   {
    "duration": 0,
    "start_time": "2022-07-08T12:29:14.100Z"
   },
   {
    "duration": 20,
    "start_time": "2022-07-08T12:38:06.341Z"
   },
   {
    "duration": 22,
    "start_time": "2022-07-08T12:38:09.069Z"
   },
   {
    "duration": 19,
    "start_time": "2022-07-08T12:38:11.577Z"
   },
   {
    "duration": 406,
    "start_time": "2022-07-08T12:38:29.580Z"
   },
   {
    "duration": 161,
    "start_time": "2022-07-08T12:38:29.987Z"
   },
   {
    "duration": 19,
    "start_time": "2022-07-08T12:38:30.149Z"
   },
   {
    "duration": 38,
    "start_time": "2022-07-08T12:38:30.170Z"
   },
   {
    "duration": 3,
    "start_time": "2022-07-08T12:38:30.215Z"
   },
   {
    "duration": 20,
    "start_time": "2022-07-08T12:38:30.220Z"
   },
   {
    "duration": 19,
    "start_time": "2022-07-08T12:38:30.242Z"
   },
   {
    "duration": 30,
    "start_time": "2022-07-08T12:38:30.263Z"
   },
   {
    "duration": 92,
    "start_time": "2022-07-08T12:38:30.295Z"
   },
   {
    "duration": 30,
    "start_time": "2022-07-08T12:38:30.391Z"
   },
   {
    "duration": 9,
    "start_time": "2022-07-08T12:38:30.423Z"
   },
   {
    "duration": 22,
    "start_time": "2022-07-08T12:38:30.434Z"
   },
   {
    "duration": 15,
    "start_time": "2022-07-08T12:38:30.458Z"
   },
   {
    "duration": 21,
    "start_time": "2022-07-08T12:38:30.475Z"
   },
   {
    "duration": 28,
    "start_time": "2022-07-08T12:38:30.498Z"
   },
   {
    "duration": 18,
    "start_time": "2022-07-08T12:38:30.528Z"
   },
   {
    "duration": 16,
    "start_time": "2022-07-08T12:38:30.548Z"
   },
   {
    "duration": 12,
    "start_time": "2022-07-08T12:38:30.566Z"
   },
   {
    "duration": 37,
    "start_time": "2022-07-08T12:38:30.580Z"
   },
   {
    "duration": 24,
    "start_time": "2022-07-08T12:38:30.619Z"
   },
   {
    "duration": 47,
    "start_time": "2022-07-08T12:38:30.645Z"
   },
   {
    "duration": 82,
    "start_time": "2022-07-08T12:38:30.694Z"
   },
   {
    "duration": 16,
    "start_time": "2022-07-08T12:38:30.778Z"
   },
   {
    "duration": 51,
    "start_time": "2022-07-08T12:38:30.795Z"
   },
   {
    "duration": 38,
    "start_time": "2022-07-08T12:38:30.848Z"
   },
   {
    "duration": 36,
    "start_time": "2022-07-08T12:38:30.888Z"
   },
   {
    "duration": 27,
    "start_time": "2022-07-08T12:38:30.925Z"
   },
   {
    "duration": 18,
    "start_time": "2022-07-08T12:38:30.955Z"
   },
   {
    "duration": 35,
    "start_time": "2022-07-08T12:38:30.975Z"
   },
   {
    "duration": 66,
    "start_time": "2022-07-08T12:38:31.012Z"
   },
   {
    "duration": 0,
    "start_time": "2022-07-08T12:38:31.080Z"
   },
   {
    "duration": 0,
    "start_time": "2022-07-08T12:38:31.082Z"
   },
   {
    "duration": 0,
    "start_time": "2022-07-08T12:38:31.083Z"
   },
   {
    "duration": 0,
    "start_time": "2022-07-08T12:38:31.085Z"
   },
   {
    "duration": 0,
    "start_time": "2022-07-08T12:38:31.086Z"
   },
   {
    "duration": 0,
    "start_time": "2022-07-08T12:38:31.088Z"
   },
   {
    "duration": 0,
    "start_time": "2022-07-08T12:38:31.090Z"
   },
   {
    "duration": 0,
    "start_time": "2022-07-08T12:38:31.091Z"
   },
   {
    "duration": 23,
    "start_time": "2022-07-08T12:39:24.715Z"
   },
   {
    "duration": 71,
    "start_time": "2022-07-08T12:41:00.185Z"
   },
   {
    "duration": 74,
    "start_time": "2022-07-08T12:42:21.422Z"
   },
   {
    "duration": 79,
    "start_time": "2022-07-08T12:42:57.546Z"
   },
   {
    "duration": 408,
    "start_time": "2022-07-08T12:44:38.963Z"
   },
   {
    "duration": 167,
    "start_time": "2022-07-08T12:44:39.374Z"
   },
   {
    "duration": 17,
    "start_time": "2022-07-08T12:44:39.542Z"
   },
   {
    "duration": 28,
    "start_time": "2022-07-08T12:44:39.560Z"
   },
   {
    "duration": 8,
    "start_time": "2022-07-08T12:44:39.601Z"
   },
   {
    "duration": 13,
    "start_time": "2022-07-08T12:44:39.614Z"
   },
   {
    "duration": 14,
    "start_time": "2022-07-08T12:44:39.628Z"
   },
   {
    "duration": 12,
    "start_time": "2022-07-08T12:44:39.644Z"
   },
   {
    "duration": 28,
    "start_time": "2022-07-08T12:44:39.658Z"
   },
   {
    "duration": 22,
    "start_time": "2022-07-08T12:44:39.688Z"
   },
   {
    "duration": 30,
    "start_time": "2022-07-08T12:44:39.711Z"
   },
   {
    "duration": 69,
    "start_time": "2022-07-08T12:44:39.743Z"
   },
   {
    "duration": 74,
    "start_time": "2022-07-08T12:44:39.814Z"
   },
   {
    "duration": 67,
    "start_time": "2022-07-08T12:44:39.902Z"
   },
   {
    "duration": 3,
    "start_time": "2022-07-08T12:44:39.971Z"
   },
   {
    "duration": 12,
    "start_time": "2022-07-08T12:44:39.975Z"
   },
   {
    "duration": 7,
    "start_time": "2022-07-08T12:44:39.988Z"
   },
   {
    "duration": 15,
    "start_time": "2022-07-08T12:44:40.003Z"
   },
   {
    "duration": 26,
    "start_time": "2022-07-08T12:44:40.020Z"
   },
   {
    "duration": 10,
    "start_time": "2022-07-08T12:44:40.048Z"
   },
   {
    "duration": 7,
    "start_time": "2022-07-08T12:44:40.060Z"
   },
   {
    "duration": 5,
    "start_time": "2022-07-08T12:44:40.069Z"
   },
   {
    "duration": 6,
    "start_time": "2022-07-08T12:44:40.076Z"
   },
   {
    "duration": 42,
    "start_time": "2022-07-08T12:44:40.084Z"
   },
   {
    "duration": 6,
    "start_time": "2022-07-08T12:44:40.128Z"
   },
   {
    "duration": 11,
    "start_time": "2022-07-08T12:44:40.136Z"
   },
   {
    "duration": 8,
    "start_time": "2022-07-08T12:44:40.149Z"
   },
   {
    "duration": 6,
    "start_time": "2022-07-08T12:44:40.159Z"
   },
   {
    "duration": 7,
    "start_time": "2022-07-08T12:44:40.167Z"
   },
   {
    "duration": 59,
    "start_time": "2022-07-08T12:44:40.176Z"
   },
   {
    "duration": 0,
    "start_time": "2022-07-08T12:44:40.237Z"
   },
   {
    "duration": 0,
    "start_time": "2022-07-08T12:44:40.238Z"
   },
   {
    "duration": 0,
    "start_time": "2022-07-08T12:44:40.240Z"
   },
   {
    "duration": 0,
    "start_time": "2022-07-08T12:44:40.241Z"
   },
   {
    "duration": 0,
    "start_time": "2022-07-08T12:44:40.243Z"
   },
   {
    "duration": 0,
    "start_time": "2022-07-08T12:44:40.245Z"
   },
   {
    "duration": 0,
    "start_time": "2022-07-08T12:44:40.246Z"
   },
   {
    "duration": 0,
    "start_time": "2022-07-08T12:44:40.246Z"
   },
   {
    "duration": 87,
    "start_time": "2022-07-08T12:45:46.761Z"
   },
   {
    "duration": 68,
    "start_time": "2022-07-08T12:46:12.349Z"
   },
   {
    "duration": 66,
    "start_time": "2022-07-08T12:46:14.197Z"
   },
   {
    "duration": 75,
    "start_time": "2022-07-08T12:46:31.952Z"
   },
   {
    "duration": 84,
    "start_time": "2022-07-08T12:47:10.643Z"
   },
   {
    "duration": 430,
    "start_time": "2022-07-08T12:47:31.784Z"
   },
   {
    "duration": 155,
    "start_time": "2022-07-08T12:47:32.215Z"
   },
   {
    "duration": 17,
    "start_time": "2022-07-08T12:47:32.372Z"
   },
   {
    "duration": 51,
    "start_time": "2022-07-08T12:47:32.391Z"
   },
   {
    "duration": 8,
    "start_time": "2022-07-08T12:47:32.444Z"
   },
   {
    "duration": 28,
    "start_time": "2022-07-08T12:47:32.453Z"
   },
   {
    "duration": 20,
    "start_time": "2022-07-08T12:47:32.482Z"
   },
   {
    "duration": 15,
    "start_time": "2022-07-08T12:47:32.503Z"
   },
   {
    "duration": 28,
    "start_time": "2022-07-08T12:47:32.520Z"
   },
   {
    "duration": 21,
    "start_time": "2022-07-08T12:47:32.550Z"
   },
   {
    "duration": 37,
    "start_time": "2022-07-08T12:47:32.573Z"
   },
   {
    "duration": 79,
    "start_time": "2022-07-08T12:47:32.612Z"
   },
   {
    "duration": 93,
    "start_time": "2022-07-08T12:47:32.693Z"
   },
   {
    "duration": 65,
    "start_time": "2022-07-08T12:47:32.788Z"
   },
   {
    "duration": 3,
    "start_time": "2022-07-08T12:47:32.854Z"
   },
   {
    "duration": 14,
    "start_time": "2022-07-08T12:47:32.858Z"
   },
   {
    "duration": 9,
    "start_time": "2022-07-08T12:47:32.874Z"
   },
   {
    "duration": 14,
    "start_time": "2022-07-08T12:47:32.884Z"
   },
   {
    "duration": 27,
    "start_time": "2022-07-08T12:47:32.899Z"
   },
   {
    "duration": 30,
    "start_time": "2022-07-08T12:47:32.928Z"
   },
   {
    "duration": 22,
    "start_time": "2022-07-08T12:47:32.960Z"
   },
   {
    "duration": 11,
    "start_time": "2022-07-08T12:47:32.983Z"
   },
   {
    "duration": 14,
    "start_time": "2022-07-08T12:47:32.995Z"
   },
   {
    "duration": 22,
    "start_time": "2022-07-08T12:47:33.011Z"
   },
   {
    "duration": 26,
    "start_time": "2022-07-08T12:47:33.035Z"
   },
   {
    "duration": 13,
    "start_time": "2022-07-08T12:47:33.062Z"
   },
   {
    "duration": 20,
    "start_time": "2022-07-08T12:47:33.077Z"
   },
   {
    "duration": 15,
    "start_time": "2022-07-08T12:47:33.101Z"
   },
   {
    "duration": 21,
    "start_time": "2022-07-08T12:47:33.118Z"
   },
   {
    "duration": 50,
    "start_time": "2022-07-08T12:47:33.141Z"
   },
   {
    "duration": 0,
    "start_time": "2022-07-08T12:47:33.193Z"
   },
   {
    "duration": 0,
    "start_time": "2022-07-08T12:47:33.195Z"
   },
   {
    "duration": 0,
    "start_time": "2022-07-08T12:47:33.196Z"
   },
   {
    "duration": 0,
    "start_time": "2022-07-08T12:47:33.198Z"
   },
   {
    "duration": 0,
    "start_time": "2022-07-08T12:47:33.199Z"
   },
   {
    "duration": 0,
    "start_time": "2022-07-08T12:47:33.200Z"
   },
   {
    "duration": 0,
    "start_time": "2022-07-08T12:47:33.202Z"
   },
   {
    "duration": 0,
    "start_time": "2022-07-08T12:47:33.204Z"
   },
   {
    "duration": 59,
    "start_time": "2022-07-08T12:48:14.805Z"
   },
   {
    "duration": 60,
    "start_time": "2022-07-08T12:50:16.842Z"
   },
   {
    "duration": 70,
    "start_time": "2022-07-08T12:50:19.258Z"
   },
   {
    "duration": 72,
    "start_time": "2022-07-08T12:50:21.718Z"
   },
   {
    "duration": 411,
    "start_time": "2022-07-08T12:50:34.580Z"
   },
   {
    "duration": 153,
    "start_time": "2022-07-08T12:50:34.992Z"
   },
   {
    "duration": 19,
    "start_time": "2022-07-08T12:50:35.147Z"
   },
   {
    "duration": 49,
    "start_time": "2022-07-08T12:50:35.169Z"
   },
   {
    "duration": 3,
    "start_time": "2022-07-08T12:50:35.220Z"
   },
   {
    "duration": 39,
    "start_time": "2022-07-08T12:50:35.225Z"
   },
   {
    "duration": 25,
    "start_time": "2022-07-08T12:50:35.266Z"
   },
   {
    "duration": 19,
    "start_time": "2022-07-08T12:50:35.293Z"
   },
   {
    "duration": 49,
    "start_time": "2022-07-08T12:50:35.314Z"
   },
   {
    "duration": 28,
    "start_time": "2022-07-08T12:50:35.366Z"
   },
   {
    "duration": 25,
    "start_time": "2022-07-08T12:50:35.396Z"
   },
   {
    "duration": 96,
    "start_time": "2022-07-08T12:50:35.422Z"
   },
   {
    "duration": 83,
    "start_time": "2022-07-08T12:50:35.519Z"
   },
   {
    "duration": 58,
    "start_time": "2022-07-08T12:50:35.604Z"
   },
   {
    "duration": 2,
    "start_time": "2022-07-08T12:50:35.663Z"
   },
   {
    "duration": 10,
    "start_time": "2022-07-08T12:50:35.667Z"
   },
   {
    "duration": 5,
    "start_time": "2022-07-08T12:50:35.679Z"
   },
   {
    "duration": 19,
    "start_time": "2022-07-08T12:50:35.685Z"
   },
   {
    "duration": 28,
    "start_time": "2022-07-08T12:50:35.705Z"
   },
   {
    "duration": 26,
    "start_time": "2022-07-08T12:50:35.735Z"
   },
   {
    "duration": 15,
    "start_time": "2022-07-08T12:50:35.763Z"
   },
   {
    "duration": 59,
    "start_time": "2022-07-08T12:50:35.780Z"
   },
   {
    "duration": 25,
    "start_time": "2022-07-08T12:50:35.841Z"
   },
   {
    "duration": 24,
    "start_time": "2022-07-08T12:50:35.867Z"
   },
   {
    "duration": 9,
    "start_time": "2022-07-08T12:50:35.893Z"
   },
   {
    "duration": 11,
    "start_time": "2022-07-08T12:50:35.904Z"
   },
   {
    "duration": 6,
    "start_time": "2022-07-08T12:50:35.918Z"
   },
   {
    "duration": 9,
    "start_time": "2022-07-08T12:50:35.928Z"
   },
   {
    "duration": 7,
    "start_time": "2022-07-08T12:50:35.938Z"
   },
   {
    "duration": 53,
    "start_time": "2022-07-08T12:50:35.947Z"
   },
   {
    "duration": 0,
    "start_time": "2022-07-08T12:50:36.002Z"
   },
   {
    "duration": 0,
    "start_time": "2022-07-08T12:50:36.004Z"
   },
   {
    "duration": 0,
    "start_time": "2022-07-08T12:50:36.005Z"
   },
   {
    "duration": 0,
    "start_time": "2022-07-08T12:50:36.006Z"
   },
   {
    "duration": 0,
    "start_time": "2022-07-08T12:50:36.007Z"
   },
   {
    "duration": 0,
    "start_time": "2022-07-08T12:50:36.009Z"
   },
   {
    "duration": 0,
    "start_time": "2022-07-08T12:50:36.010Z"
   },
   {
    "duration": 0,
    "start_time": "2022-07-08T12:50:36.011Z"
   },
   {
    "duration": 105,
    "start_time": "2022-07-08T12:57:19.154Z"
   },
   {
    "duration": 9,
    "start_time": "2022-07-08T13:01:57.547Z"
   },
   {
    "duration": 8,
    "start_time": "2022-07-08T13:02:08.810Z"
   },
   {
    "duration": 7,
    "start_time": "2022-07-08T13:02:17.454Z"
   },
   {
    "duration": 49,
    "start_time": "2022-07-08T13:03:46.863Z"
   },
   {
    "duration": 13,
    "start_time": "2022-07-08T13:05:23.171Z"
   },
   {
    "duration": 4,
    "start_time": "2022-07-08T13:05:40.455Z"
   },
   {
    "duration": 4,
    "start_time": "2022-07-08T13:10:10.278Z"
   },
   {
    "duration": 11,
    "start_time": "2022-07-08T13:16:32.566Z"
   },
   {
    "duration": 8,
    "start_time": "2022-07-08T13:16:43.263Z"
   },
   {
    "duration": 10,
    "start_time": "2022-07-08T13:17:31.345Z"
   },
   {
    "duration": 56,
    "start_time": "2022-07-08T13:18:19.620Z"
   },
   {
    "duration": 52,
    "start_time": "2022-07-08T13:18:32.357Z"
   },
   {
    "duration": 51,
    "start_time": "2022-07-08T13:19:01.986Z"
   },
   {
    "duration": 44,
    "start_time": "2022-07-08T13:19:17.192Z"
   },
   {
    "duration": 9,
    "start_time": "2022-07-08T13:21:14.490Z"
   },
   {
    "duration": 28,
    "start_time": "2022-07-08T13:22:05.960Z"
   },
   {
    "duration": 29,
    "start_time": "2022-07-08T13:22:43.824Z"
   },
   {
    "duration": 29,
    "start_time": "2022-07-08T13:26:03.361Z"
   },
   {
    "duration": 10,
    "start_time": "2022-07-08T13:32:36.356Z"
   },
   {
    "duration": 9,
    "start_time": "2022-07-08T13:32:38.397Z"
   },
   {
    "duration": 12,
    "start_time": "2022-07-08T13:38:35.639Z"
   },
   {
    "duration": 30,
    "start_time": "2022-07-08T13:39:27.930Z"
   },
   {
    "duration": 12,
    "start_time": "2022-07-08T13:45:31.152Z"
   },
   {
    "duration": 13,
    "start_time": "2022-07-08T13:45:58.442Z"
   },
   {
    "duration": 11,
    "start_time": "2022-07-08T13:49:05.648Z"
   },
   {
    "duration": 15,
    "start_time": "2022-07-08T13:57:54.753Z"
   },
   {
    "duration": 5,
    "start_time": "2022-07-08T13:58:14.702Z"
   },
   {
    "duration": 32,
    "start_time": "2022-07-08T13:58:19.250Z"
   },
   {
    "duration": 20,
    "start_time": "2022-07-08T13:58:30.771Z"
   },
   {
    "duration": 54,
    "start_time": "2022-07-08T13:59:31.551Z"
   },
   {
    "duration": 27,
    "start_time": "2022-07-08T14:00:33.593Z"
   },
   {
    "duration": 69,
    "start_time": "2022-07-08T14:01:41.298Z"
   },
   {
    "duration": 23,
    "start_time": "2022-07-08T14:02:36.427Z"
   },
   {
    "duration": 20,
    "start_time": "2022-07-08T14:02:56.251Z"
   },
   {
    "duration": 16,
    "start_time": "2022-07-08T14:03:11.156Z"
   },
   {
    "duration": 17,
    "start_time": "2022-07-08T14:03:26.047Z"
   },
   {
    "duration": 16,
    "start_time": "2022-07-08T14:03:38.065Z"
   },
   {
    "duration": 20,
    "start_time": "2022-07-08T14:03:49.723Z"
   },
   {
    "duration": 17,
    "start_time": "2022-07-08T14:03:58.553Z"
   },
   {
    "duration": 10,
    "start_time": "2022-07-08T14:04:31.123Z"
   },
   {
    "duration": 28,
    "start_time": "2022-07-08T14:06:53.957Z"
   },
   {
    "duration": 15,
    "start_time": "2022-07-08T14:06:55.873Z"
   },
   {
    "duration": 15,
    "start_time": "2022-07-08T14:06:57.837Z"
   },
   {
    "duration": 15,
    "start_time": "2022-07-08T14:06:59.921Z"
   },
   {
    "duration": 22,
    "start_time": "2022-07-08T14:07:01.467Z"
   },
   {
    "duration": 16,
    "start_time": "2022-07-08T14:07:03.448Z"
   },
   {
    "duration": 13,
    "start_time": "2022-07-08T14:09:47.518Z"
   },
   {
    "duration": 10,
    "start_time": "2022-07-08T14:09:48.993Z"
   },
   {
    "duration": 381,
    "start_time": "2022-07-08T14:26:47.150Z"
   },
   {
    "duration": 163,
    "start_time": "2022-07-08T14:26:47.533Z"
   },
   {
    "duration": 20,
    "start_time": "2022-07-08T14:26:47.697Z"
   },
   {
    "duration": 43,
    "start_time": "2022-07-08T14:26:47.720Z"
   },
   {
    "duration": 3,
    "start_time": "2022-07-08T14:26:47.766Z"
   },
   {
    "duration": 32,
    "start_time": "2022-07-08T14:26:47.770Z"
   },
   {
    "duration": 13,
    "start_time": "2022-07-08T14:26:47.804Z"
   },
   {
    "duration": 10,
    "start_time": "2022-07-08T14:26:47.819Z"
   },
   {
    "duration": 44,
    "start_time": "2022-07-08T14:26:47.831Z"
   },
   {
    "duration": 43,
    "start_time": "2022-07-08T14:26:47.878Z"
   },
   {
    "duration": 26,
    "start_time": "2022-07-08T14:26:47.923Z"
   },
   {
    "duration": 89,
    "start_time": "2022-07-08T14:26:47.950Z"
   },
   {
    "duration": 104,
    "start_time": "2022-07-08T14:26:48.041Z"
   },
   {
    "duration": 86,
    "start_time": "2022-07-08T14:26:48.147Z"
   },
   {
    "duration": 42,
    "start_time": "2022-07-08T14:26:48.235Z"
   },
   {
    "duration": 26,
    "start_time": "2022-07-08T14:26:48.279Z"
   },
   {
    "duration": 43,
    "start_time": "2022-07-08T14:26:48.307Z"
   },
   {
    "duration": 13,
    "start_time": "2022-07-08T14:26:48.353Z"
   },
   {
    "duration": 38,
    "start_time": "2022-07-08T14:26:48.368Z"
   },
   {
    "duration": 5,
    "start_time": "2022-07-08T14:26:48.409Z"
   },
   {
    "duration": 41,
    "start_time": "2022-07-08T14:26:48.416Z"
   },
   {
    "duration": 19,
    "start_time": "2022-07-08T14:26:48.458Z"
   },
   {
    "duration": 30,
    "start_time": "2022-07-08T14:26:48.479Z"
   },
   {
    "duration": 17,
    "start_time": "2022-07-08T14:26:48.511Z"
   },
   {
    "duration": 19,
    "start_time": "2022-07-08T14:26:48.530Z"
   },
   {
    "duration": 23,
    "start_time": "2022-07-08T14:26:48.551Z"
   },
   {
    "duration": 11,
    "start_time": "2022-07-08T14:26:48.600Z"
   },
   {
    "duration": 14,
    "start_time": "2022-07-08T14:26:48.614Z"
   },
   {
    "duration": 11,
    "start_time": "2022-07-08T14:26:48.630Z"
   },
   {
    "duration": 7,
    "start_time": "2022-07-08T14:26:48.643Z"
   },
   {
    "duration": 26,
    "start_time": "2022-07-08T14:26:48.652Z"
   },
   {
    "duration": 14,
    "start_time": "2022-07-08T14:26:48.701Z"
   },
   {
    "duration": 27,
    "start_time": "2022-07-08T14:26:48.716Z"
   },
   {
    "duration": 16,
    "start_time": "2022-07-08T14:26:48.745Z"
   },
   {
    "duration": 19,
    "start_time": "2022-07-08T14:26:48.763Z"
   },
   {
    "duration": 13,
    "start_time": "2022-07-08T14:26:48.784Z"
   },
   {
    "duration": 9,
    "start_time": "2022-07-08T14:26:48.801Z"
   },
   {
    "duration": 7,
    "start_time": "2022-07-08T14:26:48.812Z"
   },
   {
    "duration": 9,
    "start_time": "2022-07-08T14:30:38.565Z"
   },
   {
    "duration": 5,
    "start_time": "2022-07-08T14:31:20.105Z"
   },
   {
    "duration": 63,
    "start_time": "2022-07-08T14:32:34.202Z"
   },
   {
    "duration": 436,
    "start_time": "2022-07-08T14:32:55.785Z"
   },
   {
    "duration": 161,
    "start_time": "2022-07-08T14:32:56.223Z"
   },
   {
    "duration": 24,
    "start_time": "2022-07-08T14:32:56.385Z"
   },
   {
    "duration": 28,
    "start_time": "2022-07-08T14:32:56.411Z"
   },
   {
    "duration": 6,
    "start_time": "2022-07-08T14:32:56.441Z"
   },
   {
    "duration": 10,
    "start_time": "2022-07-08T14:32:56.449Z"
   },
   {
    "duration": 20,
    "start_time": "2022-07-08T14:32:56.461Z"
   },
   {
    "duration": 19,
    "start_time": "2022-07-08T14:32:56.483Z"
   },
   {
    "duration": 43,
    "start_time": "2022-07-08T14:32:56.504Z"
   },
   {
    "duration": 26,
    "start_time": "2022-07-08T14:32:56.551Z"
   },
   {
    "duration": 52,
    "start_time": "2022-07-08T14:32:56.579Z"
   },
   {
    "duration": 75,
    "start_time": "2022-07-08T14:32:56.633Z"
   },
   {
    "duration": 79,
    "start_time": "2022-07-08T14:32:56.710Z"
   },
   {
    "duration": 61,
    "start_time": "2022-07-08T14:32:56.801Z"
   },
   {
    "duration": 49,
    "start_time": "2022-07-08T14:32:56.863Z"
   },
   {
    "duration": 10,
    "start_time": "2022-07-08T14:32:56.914Z"
   },
   {
    "duration": 58,
    "start_time": "2022-07-08T14:32:56.926Z"
   },
   {
    "duration": 20,
    "start_time": "2022-07-08T14:32:56.986Z"
   },
   {
    "duration": 18,
    "start_time": "2022-07-08T14:32:57.007Z"
   },
   {
    "duration": 13,
    "start_time": "2022-07-08T14:32:57.027Z"
   },
   {
    "duration": 24,
    "start_time": "2022-07-08T14:32:57.042Z"
   },
   {
    "duration": 19,
    "start_time": "2022-07-08T14:32:57.068Z"
   },
   {
    "duration": 19,
    "start_time": "2022-07-08T14:32:57.100Z"
   },
   {
    "duration": 20,
    "start_time": "2022-07-08T14:32:57.120Z"
   },
   {
    "duration": 16,
    "start_time": "2022-07-08T14:32:57.142Z"
   },
   {
    "duration": 14,
    "start_time": "2022-07-08T14:32:57.160Z"
   },
   {
    "duration": 33,
    "start_time": "2022-07-08T14:32:57.175Z"
   },
   {
    "duration": 22,
    "start_time": "2022-07-08T14:32:57.211Z"
   },
   {
    "duration": 13,
    "start_time": "2022-07-08T14:32:57.235Z"
   },
   {
    "duration": 6,
    "start_time": "2022-07-08T14:32:57.250Z"
   },
   {
    "duration": 24,
    "start_time": "2022-07-08T14:32:57.258Z"
   },
   {
    "duration": 24,
    "start_time": "2022-07-08T14:32:57.284Z"
   },
   {
    "duration": 19,
    "start_time": "2022-07-08T14:32:57.310Z"
   },
   {
    "duration": 12,
    "start_time": "2022-07-08T14:32:57.330Z"
   },
   {
    "duration": 10,
    "start_time": "2022-07-08T14:32:57.344Z"
   },
   {
    "duration": 6,
    "start_time": "2022-07-08T14:32:57.356Z"
   },
   {
    "duration": 10,
    "start_time": "2022-07-08T14:32:57.364Z"
   },
   {
    "duration": 30,
    "start_time": "2022-07-08T14:32:57.376Z"
   },
   {
    "duration": 59,
    "start_time": "2022-07-11T09:37:30.240Z"
   },
   {
    "duration": 6,
    "start_time": "2022-07-11T09:38:00.713Z"
   },
   {
    "duration": 14,
    "start_time": "2022-07-11T09:38:17.893Z"
   },
   {
    "duration": 6,
    "start_time": "2022-07-11T09:38:29.051Z"
   },
   {
    "duration": 16,
    "start_time": "2022-07-11T09:39:20.288Z"
   },
   {
    "duration": 1357,
    "start_time": "2022-07-11T09:56:11.982Z"
   },
   {
    "duration": 813,
    "start_time": "2022-07-11T09:56:19.566Z"
   },
   {
    "duration": 796,
    "start_time": "2022-07-11T09:56:45.597Z"
   },
   {
    "duration": 952,
    "start_time": "2022-07-11T09:56:49.454Z"
   },
   {
    "duration": 796,
    "start_time": "2022-07-11T09:56:53.724Z"
   },
   {
    "duration": 210,
    "start_time": "2022-07-11T10:12:37.420Z"
   },
   {
    "duration": 201,
    "start_time": "2022-07-11T10:13:36.857Z"
   }
  ],
  "colab": {
   "collapsed_sections": [
    "E0vqbgi9ay0H",
    "VUC88oWjTJw2"
   ],
   "name": "automatization_template_upd4.ipynb",
   "provenance": []
  },
  "kernelspec": {
   "display_name": "Python 3",
   "language": "python",
   "name": "python3"
  },
  "language_info": {
   "codemirror_mode": {
    "name": "ipython",
    "version": 3
   },
   "file_extension": ".py",
   "mimetype": "text/x-python",
   "name": "python",
   "nbconvert_exporter": "python",
   "pygments_lexer": "ipython3",
   "version": "3.9.1"
  },
  "toc": {
   "base_numbering": 1,
   "nav_menu": {
    "height": "215px",
    "width": "403px"
   },
   "number_sections": true,
   "sideBar": true,
   "skip_h1_title": true,
   "title_cell": "Table of Contents",
   "title_sidebar": "Contents",
   "toc_cell": false,
   "toc_position": {
    "height": "calc(100% - 180px)",
    "left": "10px",
    "top": "150px",
    "width": "285.825px"
   },
   "toc_section_display": true,
   "toc_window_display": false
  },
  "vscode": {
   "interpreter": {
    "hash": "aee8b7b246df8f9039afb4144a1f6fd8d2ca17a180786b69acc140d282b71a49"
   }
  }
 },
 "nbformat": 4,
 "nbformat_minor": 1
}
