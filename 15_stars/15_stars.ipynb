{
 "cells": [
  {
   "attachments": {},
   "cell_type": "markdown",
   "id": "corresponding-armstrong",
   "metadata": {
    "ExecuteTime": {
     "end_time": "2022-05-05T04:58:05.692448Z",
     "start_time": "2022-05-05T04:58:05.688565Z"
    }
   },
   "source": [
    "# Прогнозирование температуры звезды"
   ]
  },
  {
   "attachments": {},
   "cell_type": "markdown",
   "id": "cf7dd5e0",
   "metadata": {
    "ExecuteTime": {
     "end_time": "2022-05-05T04:58:05.692448Z",
     "start_time": "2022-05-05T04:58:05.688565Z"
    }
   },
   "source": [
    "Вам пришла задача от обсерватории «Небо на ладони»: придумать, как с помощью нейросети определять температуру на поверхности обнаруженных звёзд. \n",
    "\n",
    "Обычно для расчёта температуры учёные пользуются следующими методами:\n",
    "- Закон смещения Вина.\n",
    "- Закон Стефана-Больцмана.\n",
    "- Спектральный анализ.\n",
    "\n",
    "Каждый из них имеет плюсы и минусы. Обсерватория хочет внедрить технологии машинного обучения для предсказания температуры звёзд, надеясь, что этот метод будет наиболее точным и удобным.\n",
    "В базе обсерватории есть характеристики уже изученных 240 звёзд.\n",
    "\n",
    "Характеристики\n",
    "- Относительная светимость L/Lo — светимость звезды относительно Солнца.\n",
    "- Относительный радиус R/Ro — радиус звезды относительно радиуса Солнца.\n",
    "- Абсолютная звёздная величина Mv — физическая величина, характеризующая блеск звезды.\n",
    "- Звёздный цвет (white, red, blue, yellow, yellow-orange и др.) — цвет звезды, который определяют на основе спектрального анализа.\n",
    "- Тип звезды - \n",
    "    * Коричневый карлик - 0\n",
    "    * Красный карлик - 1\n",
    "    * Белый карлик - 2\n",
    "    * Звёзды главной последовательности - 3\n",
    "    * Сверхгигант\t- 4\n",
    "    * Гипергигант\t- 5.\n",
    "- Абсолютная температура T(K) — температура на поверхности звезды в Кельвинах.\n",
    "\n",
    "В этом самостоятельном проекте вам необходимо разработать нейронную сеть, которая поможет предсказывать абсолютную температуру на поверхности звезды."
   ]
  },
  {
   "attachments": {},
   "cell_type": "markdown",
   "id": "e7fb9918",
   "metadata": {
    "ExecuteTime": {
     "end_time": "2022-05-05T04:58:05.692448Z",
     "start_time": "2022-05-05T04:58:05.688565Z"
    }
   },
   "source": [
    "Справочная информация:\n",
    "Светимость Солнца (англ. Average Luminosity of Sun)\n",
    "$$\n",
    "L_0 = 3.828 * 10^ {26} Вт\n",
    "$$\n",
    "Радиус Солнца (англ. Average Radius of Sun)\n",
    "$$\n",
    "R_0 = 6.9551 * 10^8 м\n",
    "$$"
   ]
  },
  {
   "attachments": {},
   "cell_type": "markdown",
   "id": "814ddcd9",
   "metadata": {
    "ExecuteTime": {
     "end_time": "2022-05-05T04:58:05.692448Z",
     "start_time": "2022-05-05T04:58:05.688565Z"
    }
   },
   "source": [
    "**Алгоритм решения задачи**\n",
    "\n",
    "Шаг 1. Загрузка исходных данных из файла\n",
    "\n",
    "Шаг 2. Исследовательский анализ\n",
    "Проведите исследовательский анализ:\n",
    "- количественных данных,\n",
    "- категориальных данных.\n",
    "\n",
    "Обязательно используйте графический анализ и сделайте вывод.\n",
    "\n",
    "Шаг 3. Подготовка данных к построению модели\n",
    "1. По результату исследовательского анализа внесите корректировки, если они нужны. Сделайте вывод.\n",
    "2. Если необходимо, категоризируйте исходные данные.\n",
    "3. Подготовьте обучающую и тестовую выборки.\n",
    "4. Проведите масштабирование количественных данных.\n",
    "\n",
    "Шаг 4. Построение простой модели нейронной сети — baseline\n",
    "1. Создайте класс для задания архитектуры нейронной сети.\n",
    "2. Самостоятельно выберите количество скрытых слоёв, количество нейронов на них, функции активации на скрытых и выходном слоях. Попробуйте и сравните несколько подобных комбинаций.\n",
    "3. Проведите обучение нейронной сети:\n",
    "    - Создайте функцию для обучения нейронной сети.\n",
    "    - Проведите обучение модели.\n",
    "    - Постройте график «Факт — Прогноз», где по горизонтальной оси будут отложены условные номера звёзд, а по вертикальной — температура в Кельвинах.\n",
    "4. Сделайте вывод.\n",
    "\n",
    "Шаг 5. Улучшение сети\n",
    "- Создайте решение с перебором параметров нейросети. Список параметров для перебора должен включать как минимум «dropout» и «размер батча». Архитектуру нейронной сети: количество слоёв, нейронов, вид функции активации — оставьте как в Baseline, чтобы сравнить результат.\n",
    "- Проведите обучение нейронной сети. Выведите метрику RMSE и график «Факт — прогноз». Метрика RMSE не должна превышать 4500.\n",
    "- Сделайте вывод. Желательно оформить его в виде таблицы или графика.\n",
    "\n",
    "Шаг 6. Выводы по проекту\n",
    "- Кратко опишите результаты каждого типа модели.\n",
    "- Напишите выводы сравнения двух моделей."
   ]
  },
  {
   "attachments": {},
   "cell_type": "markdown",
   "id": "dca97e58",
   "metadata": {
    "ExecuteTime": {
     "end_time": "2022-05-05T04:58:05.692448Z",
     "start_time": "2022-05-05T04:58:05.688565Z"
    }
   },
   "source": [
    "## Загрузка данных"
   ]
  },
  {
   "attachments": {},
   "cell_type": "markdown",
   "id": "6e5832b4",
   "metadata": {
    "ExecuteTime": {
     "end_time": "2022-05-05T04:58:05.692448Z",
     "start_time": "2022-05-05T04:58:05.688565Z"
    }
   },
   "source": [
    "### Загрузка библиотек"
   ]
  },
  {
   "cell_type": "code",
   "execution_count": 1,
   "id": "spectacular-folder",
   "metadata": {},
   "outputs": [
    {
     "name": "stdout",
     "output_type": "stream",
     "text": [
      "Requirement already satisfied: phik in /opt/conda/lib/python3.9/site-packages (0.12.3)\n",
      "Requirement already satisfied: pandas>=0.25.1 in /opt/conda/lib/python3.9/site-packages (from phik) (1.2.4)\n",
      "Requirement already satisfied: numpy>=1.18.0 in /opt/conda/lib/python3.9/site-packages (from phik) (1.21.1)\n",
      "Requirement already satisfied: matplotlib>=2.2.3 in /opt/conda/lib/python3.9/site-packages (from phik) (3.3.4)\n",
      "Requirement already satisfied: joblib>=0.14.1 in /opt/conda/lib/python3.9/site-packages (from phik) (1.1.0)\n",
      "Requirement already satisfied: scipy>=1.5.2 in /opt/conda/lib/python3.9/site-packages (from phik) (1.9.1)\n",
      "Requirement already satisfied: pillow>=6.2.0 in /opt/conda/lib/python3.9/site-packages (from matplotlib>=2.2.3->phik) (8.4.0)\n",
      "Requirement already satisfied: pyparsing!=2.0.4,!=2.1.2,!=2.1.6,>=2.0.3 in /opt/conda/lib/python3.9/site-packages (from matplotlib>=2.2.3->phik) (2.4.7)\n",
      "Requirement already satisfied: python-dateutil>=2.1 in /opt/conda/lib/python3.9/site-packages (from matplotlib>=2.2.3->phik) (2.8.1)\n",
      "Requirement already satisfied: kiwisolver>=1.0.1 in /opt/conda/lib/python3.9/site-packages (from matplotlib>=2.2.3->phik) (1.4.4)\n",
      "Requirement already satisfied: cycler>=0.10 in /opt/conda/lib/python3.9/site-packages (from matplotlib>=2.2.3->phik) (0.11.0)\n",
      "Requirement already satisfied: pytz>=2017.3 in /opt/conda/lib/python3.9/site-packages (from pandas>=0.25.1->phik) (2021.1)\n",
      "Requirement already satisfied: six>=1.5 in /opt/conda/lib/python3.9/site-packages (from python-dateutil>=2.1->matplotlib>=2.2.3->phik) (1.16.0)\n"
     ]
    }
   ],
   "source": [
    "!pip install phik"
   ]
  },
  {
   "cell_type": "code",
   "execution_count": 2,
   "id": "379f7431",
   "metadata": {},
   "outputs": [],
   "source": [
    "import warnings\n",
    "\n",
    "#!pip install pyparsing\n",
    "import pandas as pd\n",
    "import numpy as np\n",
    "import seaborn as sns\n",
    "import matplotlib.pyplot as plt\n",
    "from math import ceil\n",
    "\n",
    "# !pip install phik\n",
    "import phik\n",
    "from phik.report import plot_correlation_matrix\n",
    "from phik import report\n",
    "\n",
    "import torch\n",
    "import torch.nn as nn\n",
    "from torch.utils.data import Dataset, DataLoader\n",
    "\n",
    "import sklearn\n",
    "from sklearn.model_selection import train_test_split\n",
    "from sklearn.preprocessing import StandardScaler, OneHotEncoder, LabelBinarizer\n",
    "from sklearn.compose import make_column_transformer, make_column_selector\n",
    "from sklearn.metrics import mean_squared_error\n",
    "from sklearn.compose import ColumnTransformer\n",
    "\n",
    "RANDOM_STATE=1"
   ]
  },
  {
   "attachments": {},
   "cell_type": "markdown",
   "id": "409ee2d3",
   "metadata": {
    "ExecuteTime": {
     "end_time": "2022-05-05T04:58:05.692448Z",
     "start_time": "2022-05-05T04:58:05.688565Z"
    }
   },
   "source": [
    "### Загрузка данных"
   ]
  },
  {
   "cell_type": "code",
   "execution_count": 3,
   "id": "6ccecb08",
   "metadata": {},
   "outputs": [
    {
     "data": {
      "text/html": [
       "<div>\n",
       "<style scoped>\n",
       "    .dataframe tbody tr th:only-of-type {\n",
       "        vertical-align: middle;\n",
       "    }\n",
       "\n",
       "    .dataframe tbody tr th {\n",
       "        vertical-align: top;\n",
       "    }\n",
       "\n",
       "    .dataframe thead th {\n",
       "        text-align: right;\n",
       "    }\n",
       "</style>\n",
       "<table border=\"1\" class=\"dataframe\">\n",
       "  <thead>\n",
       "    <tr style=\"text-align: right;\">\n",
       "      <th></th>\n",
       "      <th>Temperature (K)</th>\n",
       "      <th>Luminosity(L/Lo)</th>\n",
       "      <th>Radius(R/Ro)</th>\n",
       "      <th>Absolute magnitude(Mv)</th>\n",
       "      <th>Star type</th>\n",
       "      <th>Star color</th>\n",
       "    </tr>\n",
       "  </thead>\n",
       "  <tbody>\n",
       "    <tr>\n",
       "      <th>0</th>\n",
       "      <td>3068</td>\n",
       "      <td>0.002400</td>\n",
       "      <td>0.1700</td>\n",
       "      <td>16.12</td>\n",
       "      <td>0</td>\n",
       "      <td>Red</td>\n",
       "    </tr>\n",
       "    <tr>\n",
       "      <th>1</th>\n",
       "      <td>3042</td>\n",
       "      <td>0.000500</td>\n",
       "      <td>0.1542</td>\n",
       "      <td>16.60</td>\n",
       "      <td>0</td>\n",
       "      <td>Red</td>\n",
       "    </tr>\n",
       "    <tr>\n",
       "      <th>2</th>\n",
       "      <td>2600</td>\n",
       "      <td>0.000300</td>\n",
       "      <td>0.1020</td>\n",
       "      <td>18.70</td>\n",
       "      <td>0</td>\n",
       "      <td>Red</td>\n",
       "    </tr>\n",
       "    <tr>\n",
       "      <th>3</th>\n",
       "      <td>2800</td>\n",
       "      <td>0.000200</td>\n",
       "      <td>0.1600</td>\n",
       "      <td>16.65</td>\n",
       "      <td>0</td>\n",
       "      <td>Red</td>\n",
       "    </tr>\n",
       "    <tr>\n",
       "      <th>4</th>\n",
       "      <td>1939</td>\n",
       "      <td>0.000138</td>\n",
       "      <td>0.1030</td>\n",
       "      <td>20.06</td>\n",
       "      <td>0</td>\n",
       "      <td>Red</td>\n",
       "    </tr>\n",
       "  </tbody>\n",
       "</table>\n",
       "</div>"
      ],
      "text/plain": [
       "   Temperature (K)  Luminosity(L/Lo)  Radius(R/Ro)  Absolute magnitude(Mv)  \\\n",
       "0             3068          0.002400        0.1700                   16.12   \n",
       "1             3042          0.000500        0.1542                   16.60   \n",
       "2             2600          0.000300        0.1020                   18.70   \n",
       "3             2800          0.000200        0.1600                   16.65   \n",
       "4             1939          0.000138        0.1030                   20.06   \n",
       "\n",
       "   Star type Star color  \n",
       "0          0        Red  \n",
       "1          0        Red  \n",
       "2          0        Red  \n",
       "3          0        Red  \n",
       "4          0        Red  "
      ]
     },
     "metadata": {},
     "output_type": "display_data"
    }
   ],
   "source": [
    "try:\n",
    "    df = pd.read_csv('/datasets/6_class.csv', index_col=0)\n",
    "except:\n",
    "    df = pd.read_csv('/Users/vadimprimakov/Documents/Yandex_practicum/CSV/15_stars.csv')\n",
    "    \n",
    "display(df.head()) "
   ]
  },
  {
   "cell_type": "code",
   "execution_count": 4,
   "id": "2a199ec4",
   "metadata": {},
   "outputs": [
    {
     "name": "stdout",
     "output_type": "stream",
     "text": [
      "<class 'pandas.core.frame.DataFrame'>\n",
      "Int64Index: 240 entries, 0 to 239\n",
      "Data columns (total 6 columns):\n",
      " #   Column                  Non-Null Count  Dtype  \n",
      "---  ------                  --------------  -----  \n",
      " 0   Temperature (K)         240 non-null    int64  \n",
      " 1   Luminosity(L/Lo)        240 non-null    float64\n",
      " 2   Radius(R/Ro)            240 non-null    float64\n",
      " 3   Absolute magnitude(Mv)  240 non-null    float64\n",
      " 4   Star type               240 non-null    int64  \n",
      " 5   Star color              240 non-null    object \n",
      "dtypes: float64(3), int64(2), object(1)\n",
      "memory usage: 13.1+ KB\n"
     ]
    }
   ],
   "source": [
    "df.info()"
   ]
  },
  {
   "cell_type": "code",
   "execution_count": 5,
   "id": "b45104a5",
   "metadata": {},
   "outputs": [
    {
     "data": {
      "text/html": [
       "<div>\n",
       "<style scoped>\n",
       "    .dataframe tbody tr th:only-of-type {\n",
       "        vertical-align: middle;\n",
       "    }\n",
       "\n",
       "    .dataframe tbody tr th {\n",
       "        vertical-align: top;\n",
       "    }\n",
       "\n",
       "    .dataframe thead th {\n",
       "        text-align: right;\n",
       "    }\n",
       "</style>\n",
       "<table border=\"1\" class=\"dataframe\">\n",
       "  <thead>\n",
       "    <tr style=\"text-align: right;\">\n",
       "      <th></th>\n",
       "      <th>count</th>\n",
       "      <th>mean</th>\n",
       "      <th>std</th>\n",
       "      <th>min</th>\n",
       "      <th>25%</th>\n",
       "      <th>50%</th>\n",
       "      <th>75%</th>\n",
       "      <th>max</th>\n",
       "    </tr>\n",
       "  </thead>\n",
       "  <tbody>\n",
       "    <tr>\n",
       "      <th>Temperature (K)</th>\n",
       "      <td>240.0</td>\n",
       "      <td>10497.462500</td>\n",
       "      <td>9552.425037</td>\n",
       "      <td>1939.00000</td>\n",
       "      <td>3344.250000</td>\n",
       "      <td>5776.0000</td>\n",
       "      <td>15055.5000</td>\n",
       "      <td>40000.00</td>\n",
       "    </tr>\n",
       "    <tr>\n",
       "      <th>Luminosity(L/Lo)</th>\n",
       "      <td>240.0</td>\n",
       "      <td>107188.361635</td>\n",
       "      <td>179432.244940</td>\n",
       "      <td>0.00008</td>\n",
       "      <td>0.000865</td>\n",
       "      <td>0.0705</td>\n",
       "      <td>198050.0000</td>\n",
       "      <td>849420.00</td>\n",
       "    </tr>\n",
       "    <tr>\n",
       "      <th>Radius(R/Ro)</th>\n",
       "      <td>240.0</td>\n",
       "      <td>237.157781</td>\n",
       "      <td>517.155763</td>\n",
       "      <td>0.00840</td>\n",
       "      <td>0.102750</td>\n",
       "      <td>0.7625</td>\n",
       "      <td>42.7500</td>\n",
       "      <td>1948.50</td>\n",
       "    </tr>\n",
       "    <tr>\n",
       "      <th>Absolute magnitude(Mv)</th>\n",
       "      <td>240.0</td>\n",
       "      <td>4.382396</td>\n",
       "      <td>10.532512</td>\n",
       "      <td>-11.92000</td>\n",
       "      <td>-6.232500</td>\n",
       "      <td>8.3130</td>\n",
       "      <td>13.6975</td>\n",
       "      <td>20.06</td>\n",
       "    </tr>\n",
       "    <tr>\n",
       "      <th>Star type</th>\n",
       "      <td>240.0</td>\n",
       "      <td>2.500000</td>\n",
       "      <td>1.711394</td>\n",
       "      <td>0.00000</td>\n",
       "      <td>1.000000</td>\n",
       "      <td>2.5000</td>\n",
       "      <td>4.0000</td>\n",
       "      <td>5.00</td>\n",
       "    </tr>\n",
       "  </tbody>\n",
       "</table>\n",
       "</div>"
      ],
      "text/plain": [
       "                        count           mean            std         min  \\\n",
       "Temperature (K)         240.0   10497.462500    9552.425037  1939.00000   \n",
       "Luminosity(L/Lo)        240.0  107188.361635  179432.244940     0.00008   \n",
       "Radius(R/Ro)            240.0     237.157781     517.155763     0.00840   \n",
       "Absolute magnitude(Mv)  240.0       4.382396      10.532512   -11.92000   \n",
       "Star type               240.0       2.500000       1.711394     0.00000   \n",
       "\n",
       "                                25%        50%          75%        max  \n",
       "Temperature (K)         3344.250000  5776.0000   15055.5000   40000.00  \n",
       "Luminosity(L/Lo)           0.000865     0.0705  198050.0000  849420.00  \n",
       "Radius(R/Ro)               0.102750     0.7625      42.7500    1948.50  \n",
       "Absolute magnitude(Mv)    -6.232500     8.3130      13.6975      20.06  \n",
       "Star type                  1.000000     2.5000       4.0000       5.00  "
      ]
     },
     "metadata": {},
     "output_type": "display_data"
    }
   ],
   "source": [
    "display(df.describe().transpose())"
   ]
  },
  {
   "cell_type": "code",
   "execution_count": 6,
   "id": "f8d34edf",
   "metadata": {},
   "outputs": [
    {
     "data": {
      "text/plain": [
       "Index(['Temperature (K)', 'Luminosity(L/Lo)', 'Radius(R/Ro)',\n",
       "       'Absolute magnitude(Mv)', 'Star type', 'Star color'],\n",
       "      dtype='object')"
      ]
     },
     "execution_count": 6,
     "metadata": {},
     "output_type": "execute_result"
    }
   ],
   "source": [
    "df.columns"
   ]
  },
  {
   "cell_type": "code",
   "execution_count": 7,
   "id": "1c11a02d",
   "metadata": {},
   "outputs": [],
   "source": [
    "num_cols = ['Luminosity(L/Lo)','Radius(R/Ro)','Absolute magnitude(Mv)'] #числовые признаки\n",
    "cat_cols = ['Star type', 'Star color'] #категориальные признаки\n",
    "target = ['Temperature (K)'] #целевой признак"
   ]
  },
  {
   "attachments": {},
   "cell_type": "markdown",
   "id": "583f29fa",
   "metadata": {
    "ExecuteTime": {
     "end_time": "2022-05-05T04:58:05.692448Z",
     "start_time": "2022-05-05T04:58:05.688565Z"
    }
   },
   "source": [
    "**Вывод** \n",
    "\n",
    "Данные получены и загружены.<br />\n",
    "Temperature (K) - температура на поверхности звезды находится в пределах от 2000 градусов (красные звёзды) до 40000 градусов (голубые звезды)<br />\n",
    "Luminosity(L/Lo) - относительная светимость относительно Солнца достигает 179432 при среднем значении 107188.<br />\n",
    "Также в данных характеристиках очень большой разброс значений<br />\n",
    "Стоит проверить значения Star Color на уникальность, использовав графический анализ рассмотреть и другие признаки.<br />"
   ]
  },
  {
   "attachments": {},
   "cell_type": "markdown",
   "id": "simple-subdivision",
   "metadata": {},
   "source": [
    "## Предобработка и анализ данных"
   ]
  },
  {
   "attachments": {},
   "cell_type": "markdown",
   "id": "2f697d4a",
   "metadata": {
    "ExecuteTime": {
     "end_time": "2022-05-05T04:58:05.692448Z",
     "start_time": "2022-05-05T04:58:05.688565Z"
    }
   },
   "source": [
    "### Распределение значений количественных признаков"
   ]
  },
  {
   "cell_type": "code",
   "execution_count": 8,
   "id": "flush-dream",
   "metadata": {},
   "outputs": [
    {
     "data": {
      "image/png": "[encoded data removed]",
      "text/plain": [
       "<Figure size 576x360 with 1 Axes>"
      ]
     },
     "metadata": {
      "needs_background": "light"
     },
     "output_type": "display_data"
    }
   ],
   "source": [
    "df['Temperature (K)'].hist(bins=100,ec='black', figsize=(8,5))\n",
    "plt.title('График распределения температуры на поверхности звезды')\n",
    "plt.xlabel('Относительная светимость')\n",
    "plt.ylabel('Количество')\n",
    "plt.show()"
   ]
  },
  {
   "cell_type": "code",
   "execution_count": 9,
   "id": "0c8d727f",
   "metadata": {},
   "outputs": [
    {
     "data": {
      "image/png": "[encoded data removed]",
      "text/plain": [
       "<Figure size 576x360 with 1 Axes>"
      ]
     },
     "metadata": {
      "needs_background": "light"
     },
     "output_type": "display_data"
    }
   ],
   "source": [
    "df['Luminosity(L/Lo)'].hist(bins=100,ec='black', figsize=(8,5))\n",
    "plt.title('График распределения светимости звезд относительно Солнца')\n",
    "plt.xlabel('Температура,Кельвины')\n",
    "plt.ylabel('Количество')\n",
    "plt.show()"
   ]
  },
  {
   "cell_type": "code",
   "execution_count": 10,
   "id": "dc92fcb1",
   "metadata": {},
   "outputs": [
    {
     "data": {
      "image/png": "[encoded data removed]",
      "text/plain": [
       "<Figure size 576x360 with 1 Axes>"
      ]
     },
     "metadata": {
      "needs_background": "light"
     },
     "output_type": "display_data"
    }
   ],
   "source": [
    "df['Radius(R/Ro)'].hist(bins=100,ec='black', figsize=(8,5))\n",
    "plt.title('График распределения радиуса звезд относительно радиуса Солнца')\n",
    "plt.xlabel('Относительный радиус')\n",
    "plt.ylabel('Количество')\n",
    "plt.show()"
   ]
  },
  {
   "cell_type": "code",
   "execution_count": 11,
   "id": "147372b2",
   "metadata": {},
   "outputs": [
    {
     "data": {
      "image/png": "[encoded data removed]",
      "text/plain": [
       "<Figure size 576x360 with 1 Axes>"
      ]
     },
     "metadata": {
      "needs_background": "light"
     },
     "output_type": "display_data"
    }
   ],
   "source": [
    "df['Absolute magnitude(Mv)'].hist(bins=100,ec='black', figsize=(8,5))\n",
    "plt.title('График распределения абсолютной звёздной величины - Блеск')\n",
    "plt.xlabel('Блеск звезд')\n",
    "plt.ylabel('Количество')\n",
    "plt.show()"
   ]
  },
  {
   "attachments": {},
   "cell_type": "markdown",
   "id": "6783e380",
   "metadata": {
    "ExecuteTime": {
     "end_time": "2022-05-05T04:58:05.692448Z",
     "start_time": "2022-05-05T04:58:05.688565Z"
    }
   },
   "source": [
    "На первый взгляд, кажется, что никаких аномалий на графиках нет. В данных преобладают звезды с относительно низкими показателями температуры на поверхности, низкой светимостью относительно Солнца и малого радиуса относительно радиуса Солнца. Стоит проверить данные на пропуски и уникальность. <br />"
   ]
  },
  {
   "cell_type": "code",
   "execution_count": 12,
   "id": "7eee26fa",
   "metadata": {},
   "outputs": [
    {
     "data": {
      "text/html": [
       "<div>\n",
       "<style scoped>\n",
       "    .dataframe tbody tr th:only-of-type {\n",
       "        vertical-align: middle;\n",
       "    }\n",
       "\n",
       "    .dataframe tbody tr th {\n",
       "        vertical-align: top;\n",
       "    }\n",
       "\n",
       "    .dataframe thead th {\n",
       "        text-align: right;\n",
       "    }\n",
       "</style>\n",
       "<table border=\"1\" class=\"dataframe\">\n",
       "  <thead>\n",
       "    <tr style=\"text-align: right;\">\n",
       "      <th></th>\n",
       "      <th>0</th>\n",
       "    </tr>\n",
       "  </thead>\n",
       "  <tbody>\n",
       "    <tr>\n",
       "      <th>Temperature (K)</th>\n",
       "      <td>0</td>\n",
       "    </tr>\n",
       "    <tr>\n",
       "      <th>Luminosity(L/Lo)</th>\n",
       "      <td>0</td>\n",
       "    </tr>\n",
       "    <tr>\n",
       "      <th>Radius(R/Ro)</th>\n",
       "      <td>0</td>\n",
       "    </tr>\n",
       "    <tr>\n",
       "      <th>Absolute magnitude(Mv)</th>\n",
       "      <td>0</td>\n",
       "    </tr>\n",
       "    <tr>\n",
       "      <th>Star type</th>\n",
       "      <td>0</td>\n",
       "    </tr>\n",
       "    <tr>\n",
       "      <th>Star color</th>\n",
       "      <td>0</td>\n",
       "    </tr>\n",
       "  </tbody>\n",
       "</table>\n",
       "</div>"
      ],
      "text/plain": [
       "                        0\n",
       "Temperature (K)         0\n",
       "Luminosity(L/Lo)        0\n",
       "Radius(R/Ro)            0\n",
       "Absolute magnitude(Mv)  0\n",
       "Star type               0\n",
       "Star color              0"
      ]
     },
     "execution_count": 12,
     "metadata": {},
     "output_type": "execute_result"
    }
   ],
   "source": [
    "df.isna().sum().to_frame()"
   ]
  },
  {
   "cell_type": "code",
   "execution_count": 13,
   "id": "09322f18",
   "metadata": {},
   "outputs": [
    {
     "data": {
      "text/plain": [
       "0"
      ]
     },
     "execution_count": 13,
     "metadata": {},
     "output_type": "execute_result"
    }
   ],
   "source": [
    "df.duplicated().sum()"
   ]
  },
  {
   "attachments": {},
   "cell_type": "markdown",
   "id": "2510ce82",
   "metadata": {
    "ExecuteTime": {
     "end_time": "2022-05-05T04:58:05.692448Z",
     "start_time": "2022-05-05T04:58:05.688565Z"
    }
   },
   "source": [
    "Пропуски и дубликаты в данных отсутствуют. <br />"
   ]
  },
  {
   "attachments": {},
   "cell_type": "markdown",
   "id": "328da1c2",
   "metadata": {
    "ExecuteTime": {
     "end_time": "2022-05-05T04:58:05.692448Z",
     "start_time": "2022-05-05T04:58:05.688565Z"
    }
   },
   "source": [
    "### Проверка значений категориальных признаков"
   ]
  },
  {
   "cell_type": "code",
   "execution_count": 14,
   "id": "231cb87b",
   "metadata": {
    "scrolled": true
   },
   "outputs": [
    {
     "data": {
      "text/plain": [
       "array([0, 1, 2, 3, 4, 5])"
      ]
     },
     "execution_count": 14,
     "metadata": {},
     "output_type": "execute_result"
    }
   ],
   "source": [
    "df['Star type'].unique()"
   ]
  },
  {
   "cell_type": "code",
   "execution_count": 15,
   "id": "cf7c9627",
   "metadata": {
    "scrolled": true
   },
   "outputs": [
    {
     "data": {
      "image/png": "[encoded data removed]",
      "text/plain": [
       "<Figure size 432x288 with 1 Axes>"
      ]
     },
     "metadata": {
      "needs_background": "light"
     },
     "output_type": "display_data"
    }
   ],
   "source": [
    "df['Star type'].value_counts().plot(\n",
    "    kind='bar', title='Количество звезд по типу', grid=True,\n",
    "    xlabel='Тип звезды', ylabel='Количество звезд', rot=0\n",
    ");"
   ]
  },
  {
   "attachments": {},
   "cell_type": "markdown",
   "id": "92498909",
   "metadata": {
    "ExecuteTime": {
     "end_time": "2022-05-05T04:58:05.692448Z",
     "start_time": "2022-05-05T04:58:05.688565Z"
    }
   },
   "source": [
    "Типы звезд хорошо представлены. <br />"
   ]
  },
  {
   "cell_type": "code",
   "execution_count": 16,
   "id": "edc60e9d",
   "metadata": {
    "scrolled": false
   },
   "outputs": [
    {
     "data": {
      "text/plain": [
       "array(['Red', 'Blue White', 'White', 'Yellowish White', 'Blue white',\n",
       "       'Pale yellow orange', 'Blue', 'Blue-white', 'Whitish',\n",
       "       'yellow-white', 'Orange', 'White-Yellow', 'white', 'Blue ',\n",
       "       'yellowish', 'Yellowish', 'Orange-Red', 'Blue white ',\n",
       "       'Blue-White'], dtype=object)"
      ]
     },
     "execution_count": 16,
     "metadata": {},
     "output_type": "execute_result"
    }
   ],
   "source": [
    "df['Star color'].unique() "
   ]
  },
  {
   "cell_type": "code",
   "execution_count": 17,
   "id": "e0c3f3a1",
   "metadata": {
    "scrolled": true
   },
   "outputs": [
    {
     "data": {
      "text/plain": [
       "Red                   112\n",
       "Blue                   55\n",
       "Blue-white             26\n",
       "Blue White             10\n",
       "yellow-white            8\n",
       "White                   7\n",
       "white                   3\n",
       "Blue white              3\n",
       "Yellowish White         3\n",
       "Orange                  2\n",
       "yellowish               2\n",
       "Whitish                 2\n",
       "Blue-White              1\n",
       "Yellowish               1\n",
       "Orange-Red              1\n",
       "White-Yellow            1\n",
       "Blue                    1\n",
       "Blue white              1\n",
       "Pale yellow orange      1\n",
       "Name: Star color, dtype: int64"
      ]
     },
     "execution_count": 17,
     "metadata": {},
     "output_type": "execute_result"
    }
   ],
   "source": [
    "df['Star color'].value_counts()"
   ]
  },
  {
   "attachments": {},
   "cell_type": "markdown",
   "id": "fcdd3ba8",
   "metadata": {
    "ExecuteTime": {
     "end_time": "2022-05-05T04:58:05.692448Z",
     "start_time": "2022-05-05T04:58:05.688565Z"
    }
   },
   "source": [
    "Цвет звезды, который определяют на основе спектрального анализа состоит из большого количества опечаток, необходимо скорректировать их. <br />"
   ]
  },
  {
   "cell_type": "code",
   "execution_count": 18,
   "id": "a788a68e",
   "metadata": {
    "scrolled": true
   },
   "outputs": [],
   "source": [
    "df['Star color'] = df['Star color'].replace({'Blue White': 'Blue-white', 'Blue white':'Blue-white',\n",
    "                                             'Blue white ':'Blue-white','Blue-White':'Blue-white',\n",
    "                                             'Blue ':'Blue', 'white':'White', 'yellowish':'Yellow-white',\n",
    "                                             'yellow-white':'Yellow-white','White-Yellow':'Yellow-white',\n",
    "                                             'Yellowish White':'Yellow-white','Pale yellow orange':'Pale-yellow-orange',\n",
    "                                             'Whitish':'White', 'Orange-Red':'Orange',\n",
    "                                             'Pale yellow orange':'Orange', 'Yellowish':'Yellow-white'})\n",
    "df['Star color'] = df['Star color'].str.lower()\n",
    "df['Star color'] = df['Star color'].str.strip(to_strip = None)"
   ]
  },
  {
   "cell_type": "code",
   "execution_count": 19,
   "id": "8acbd933",
   "metadata": {
    "scrolled": true
   },
   "outputs": [
    {
     "data": {
      "text/plain": [
       "red             112\n",
       "blue             56\n",
       "blue-white       41\n",
       "yellow-white     15\n",
       "white            12\n",
       "orange            4\n",
       "Name: Star color, dtype: int64"
      ]
     },
     "execution_count": 19,
     "metadata": {},
     "output_type": "execute_result"
    }
   ],
   "source": [
    "df['Star color'].value_counts()"
   ]
  },
  {
   "cell_type": "code",
   "execution_count": 20,
   "id": "ef986f03",
   "metadata": {
    "scrolled": false
   },
   "outputs": [
    {
     "data": {
      "image/png": "[encoded data removed]",
      "text/plain": [
       "<Figure size 1008x432 with 1 Axes>"
      ]
     },
     "metadata": {
      "needs_background": "light"
     },
     "output_type": "display_data"
    }
   ],
   "source": [
    "df['Star color'].value_counts().plot(\n",
    "    kind='bar', title='Количество звезд по типу', grid=True,\n",
    "    xlabel='Тип звезды', ylabel='Количество звезд', rot=0, figsize=(14, 6)\n",
    ");"
   ]
  },
  {
   "attachments": {},
   "cell_type": "markdown",
   "id": "a360da93",
   "metadata": {
    "ExecuteTime": {
     "end_time": "2022-05-05T04:58:05.692448Z",
     "start_time": "2022-05-05T04:58:05.688565Z"
    }
   },
   "source": [
    "Цвет звезд представлен несбалансировано, в данных преобладают красные, голубые и бело-голубые звезды, скрытые дубликаты исправлены. <br />"
   ]
  },
  {
   "cell_type": "code",
   "execution_count": 21,
   "id": "45db37d8",
   "metadata": {
    "scrolled": false
   },
   "outputs": [
    {
     "data": {
      "image/png": "[encoded data removed]",
      "text/plain": [
       "<Figure size 773.625x720 with 20 Axes>"
      ]
     },
     "metadata": {
      "needs_background": "light"
     },
     "output_type": "display_data"
    }
   ],
   "source": [
    "sns.pairplot(df, hue='Star type');"
   ]
  },
  {
   "attachments": {},
   "cell_type": "markdown",
   "id": "9c98b4a1",
   "metadata": {
    "ExecuteTime": {
     "end_time": "2022-05-05T04:58:05.692448Z",
     "start_time": "2022-05-05T04:58:05.688565Z"
    }
   },
   "source": [
    "С увеличением температуры начинает уменьшаться абсолютная звёздная величина<br />\n",
    "При помощи радиуса можно выделить тип звезды<br />\n",
    "Хорошо выделяются кластеры типа звезды в зависимости абсолютной звёздой величины <br />"
   ]
  },
  {
   "attachments": {},
   "cell_type": "markdown",
   "id": "337bead7",
   "metadata": {
    "ExecuteTime": {
     "end_time": "2022-05-05T04:58:05.692448Z",
     "start_time": "2022-05-05T04:58:05.688565Z"
    }
   },
   "source": [
    "Исследуем корреляцию признаков. <br />"
   ]
  },
  {
   "cell_type": "code",
   "execution_count": 22,
   "id": "8f569cb8",
   "metadata": {
    "scrolled": false
   },
   "outputs": [
    {
     "name": "stdout",
     "output_type": "stream",
     "text": [
      "interval columns not set, guessing: ['Temperature (K)', 'Luminosity(L/Lo)', 'Radius(R/Ro)', 'Absolute magnitude(Mv)', 'Star type']\n"
     ]
    },
    {
     "data": {
      "image/png": "[encoded data removed]",
      "text/plain": [
       "<Figure size 720x576 with 2 Axes>"
      ]
     },
     "metadata": {
      "needs_background": "light"
     },
     "output_type": "display_data"
    }
   ],
   "source": [
    "phik_overview = df.phik_matrix()\n",
    "phik_overview.round(2)\n",
    "\n",
    "plot_correlation_matrix(phik_overview.values, \n",
    "                        x_labels=phik_overview.columns, \n",
    "                        y_labels=phik_overview.index, \n",
    "                        vmin=0, vmax=1, color_map=\"Blues\", \n",
    "                        title=r\"Корреляция $\\phi_K$\", \n",
    "                        fontsize_factor=1.5, \n",
    "                        figsize=(10, 8))\n",
    "plt.tight_layout()\n",
    "plt.show()"
   ]
  },
  {
   "attachments": {},
   "cell_type": "markdown",
   "id": "53229377",
   "metadata": {
    "ExecuteTime": {
     "end_time": "2022-05-05T04:58:05.692448Z",
     "start_time": "2022-05-05T04:58:05.688565Z"
    }
   },
   "source": [
    "Исследуем статистическую значимость признаков. <br />"
   ]
  },
  {
   "cell_type": "code",
   "execution_count": 23,
   "id": "4c3dc70f",
   "metadata": {
    "scrolled": false
   },
   "outputs": [
    {
     "data": {
      "image/png": "[encoded data removed]",
      "text/plain": [
       "<Figure size 720x504 with 2 Axes>"
      ]
     },
     "metadata": {
      "needs_background": "light"
     },
     "output_type": "display_data"
    }
   ],
   "source": [
    "significance_overview = df.significance_matrix(interval_cols=['Temperature (K)', 'Luminosity(L/Lo)', 'Radius(R/Ro)', 'Absolute magnitude(Mv)', 'Star type'])\n",
    "plot_correlation_matrix(significance_overview.fillna(0).values, \n",
    "                        x_labels=significance_overview.columns, \n",
    "                        y_labels=significance_overview.index, \n",
    "                        vmin=-5, vmax=5, title=\"Статистическая значимость признаков\", \n",
    "                        usetex=False, fontsize_factor=1.5, figsize=(10, 7), color_map=\"Blues\")\n",
    "plt.tight_layout()"
   ]
  },
  {
   "attachments": {},
   "cell_type": "markdown",
   "id": "f8930e7b",
   "metadata": {
    "ExecuteTime": {
     "end_time": "2022-05-05T04:58:05.692448Z",
     "start_time": "2022-05-05T04:58:05.688565Z"
    }
   },
   "source": [
    "Исследуем корреляцию по целевому признаку. <br />"
   ]
  },
  {
   "cell_type": "code",
   "execution_count": 24,
   "id": "ada8ce85",
   "metadata": {
    "scrolled": false
   },
   "outputs": [
    {
     "data": {
      "image/png": "[encoded data removed]",
      "text/plain": [
       "<Figure size 288x504 with 2 Axes>"
      ]
     },
     "metadata": {
      "needs_background": "light"
     },
     "output_type": "display_data"
    }
   ],
   "source": [
    "plt.figure(figsize=(4, 7))\n",
    "sns.heatmap(phik_overview.sort_values(by = 'Temperature (K)', ascending=False)[['Temperature (K)']], cmap='Blues', annot=True, annot_kws={'size':16}, fmt='.2g')\n",
    "plt.title('Корреляция по целевому признаку', fontsize=20)\n",
    "plt.show()"
   ]
  },
  {
   "attachments": {},
   "cell_type": "markdown",
   "id": "51743c89",
   "metadata": {
    "ExecuteTime": {
     "end_time": "2022-05-05T04:58:05.692448Z",
     "start_time": "2022-05-05T04:58:05.688565Z"
    }
   },
   "source": [
    "Среди признаков замечена мультикорреляция между столбцом Star type и Absolute magnitude(Mv) равная 92%, но удаление одного из данных признаков не представляется возможным, так как они имеют большую статистическую значимость равную 21,63. <br />\n",
    "\n",
    "Рассмотрим взаимосвязи температуры звезд с признаками:\n",
    "- Star color - 74% корреляция. Одним из важнейших показателей температуры звезды является его цвет, скорее всего это вызвано приломлением светового луча, который доходит до нашей планеты.\n",
    "- 'Absolute magnitude(Mv)' - 71% корреляция. Это физическая величина, характеризующая блеск астрономического объекта для наблюдателя, находящегося на некотором стандартном расстоянии от объекта. Использование абсолютной звёздной величины позволяет сравнивать действительную, а не наблюдаемую светимость объектов. Поэтому она очень схожа с понятием относительная светимость.\n",
    "- Star type - 60% корреляция с таргетом. Всё просто у нас есть пять основных типов звёзд и по ним возможно понять их температуру, с точки зрения статистики и наблюдений.\n",
    "- 'Luminosity(L/Lo)' - 56% корреляция. В любой статье можно наткнуться на слова о том, что главным фактором температуры звезды является его цвет, но фактически светимость звезды относительно Солнца позволяет нам понять насколько звезда теплая, хоть и не явно. \n",
    "- 'Radius(R/Ro)' - самая маленькая корреляция, равная всего 24%. Возможно это связано с природой, а точнее с плотностью и массой звёзд, ведь не важно какой объект будет по размерам, важнее из чего он состоит и каким цветом будет светить. <br />"
   ]
  },
  {
   "attachments": {},
   "cell_type": "markdown",
   "id": "beaf7d10",
   "metadata": {
    "ExecuteTime": {
     "end_time": "2022-05-05T04:58:05.692448Z",
     "start_time": "2022-05-05T04:58:05.688565Z"
    }
   },
   "source": [
    "### Нормализация входных данных"
   ]
  },
  {
   "attachments": {},
   "cell_type": "markdown",
   "id": "33045b9f",
   "metadata": {
    "ExecuteTime": {
     "end_time": "2022-05-05T04:58:05.692448Z",
     "start_time": "2022-05-05T04:58:05.688565Z"
    }
   },
   "source": [
    "Обработка категориальных данных с помощью OneHotEncoder и масштабирование числовых признаков.<br />"
   ]
  },
  {
   "cell_type": "code",
   "execution_count": 25,
   "id": "1fb2c3a3",
   "metadata": {
    "scrolled": true
   },
   "outputs": [
    {
     "name": "stdout",
     "output_type": "stream",
     "text": [
      "В тренировочной выборке, размеры матрицы признаков  = (192, 5), целевого признака = (192,)\n",
      "В тестовой выборке, размеры матрицы признаков  = (48, 5), целевого признака = (48,)\n"
     ]
    }
   ],
   "source": [
    "X_train, X_test, y_train, y_test = train_test_split(df.drop('Temperature (K)', axis = 1),\n",
    "                                                    df['Temperature (K)'],\n",
    "                                                    test_size=0.2,\n",
    "                                                    shuffle=True,\n",
    "                                                    random_state=RANDOM_STATE)\n",
    "for x,y,z in zip((y_train, y_test),(X_train, X_test), ('тренировочной', 'тестовой')):\n",
    "    print(f'В {z} выборке, размеры матрицы признаков  = {y.shape}, целевого признака = {x.shape}')"
   ]
  },
  {
   "cell_type": "code",
   "execution_count": 26,
   "id": "45703961",
   "metadata": {
    "scrolled": true
   },
   "outputs": [],
   "source": [
    "for i in [X_train, X_test, y_train, y_test]:\n",
    "    i.reset_index(drop=True, inplace=True)"
   ]
  },
  {
   "cell_type": "code",
   "execution_count": 27,
   "id": "db5ac493",
   "metadata": {
    "scrolled": true
   },
   "outputs": [],
   "source": [
    "col_transformer = ColumnTransformer(\n",
    "                        transformers=[\n",
    "                            ('scaler', StandardScaler(), num_cols),\n",
    "                            ('ohe', OneHotEncoder(sparse=False), cat_cols)],\n",
    "                                remainder=\"passthrough\"\n",
    "                                  )\n",
    "\n",
    "X_train = col_transformer.fit_transform(X_train)\n",
    "X_test = col_transformer.transform(X_test)"
   ]
  },
  {
   "cell_type": "code",
   "execution_count": 28,
   "id": "778563b3",
   "metadata": {
    "scrolled": false
   },
   "outputs": [
    {
     "data": {
      "text/plain": [
       "array([[-0.58783477, -0.44386275,  1.08158695, ...,  1.        ,\n",
       "         0.        ,  0.        ],\n",
       "       [ 0.77876966,  1.96081307, -1.19553388, ...,  1.        ,\n",
       "         0.        ,  0.        ],\n",
       "       [-0.58783474, -0.44349897,  0.68515359, ...,  1.        ,\n",
       "         0.        ,  0.        ],\n",
       "       ...,\n",
       "       [-0.58783478, -0.4441865 ,  0.84922768, ...,  0.        ,\n",
       "         0.        ,  0.        ],\n",
       "       [ 1.54651666,  2.29630317, -1.38900854, ...,  0.        ,\n",
       "         0.        ,  0.        ],\n",
       "       [-0.5878271 , -0.44222572, -0.16935948, ...,  0.        ,\n",
       "         0.        ,  1.        ]])"
      ]
     },
     "execution_count": 28,
     "metadata": {},
     "output_type": "execute_result"
    }
   ],
   "source": [
    "X_train"
   ]
  },
  {
   "attachments": {},
   "cell_type": "markdown",
   "id": "funded-electric",
   "metadata": {},
   "source": [
    "## Построение базовой нейронной сети"
   ]
  },
  {
   "attachments": {},
   "cell_type": "markdown",
   "id": "ef93119b",
   "metadata": {
    "ExecuteTime": {
     "end_time": "2022-05-05T04:58:05.692448Z",
     "start_time": "2022-05-05T04:58:05.688565Z"
    }
   },
   "source": [
    "В начале переведём наши данные к тензорам <br />"
   ]
  },
  {
   "cell_type": "code",
   "execution_count": 29,
   "id": "forced-concentrate",
   "metadata": {},
   "outputs": [],
   "source": [
    "X_train = torch.FloatTensor(np.array(X_train))\n",
    "X_test = torch.FloatTensor(np.array(X_test))\n",
    "y_train = torch.FloatTensor(np.array(y_train))\n",
    "y_test = torch.FloatTensor(np.array(y_test))"
   ]
  },
  {
   "cell_type": "code",
   "execution_count": 30,
   "id": "1af4a932",
   "metadata": {},
   "outputs": [],
   "source": [
    "class Net(nn.Module):\n",
    "    def __init__(self, n_in_neurons, n_hidden_neurons_1, n_hidden_neurons_2, n_out_neurons):\n",
    "            super(Net, self).__init__()\n",
    "            \n",
    "            self.fc1 = nn.Linear(n_in_neurons, n_hidden_neurons_1)\n",
    "            self.act1 = nn.ReLU()\n",
    "            self.fc2 = nn.Linear(n_hidden_neurons_1, n_hidden_neurons_2)\n",
    "            self.act2 = nn.ReLU()\n",
    "            self.fc3 = nn.Linear(n_hidden_neurons_2, n_out_neurons)\n",
    "\n",
    "            \n",
    "    def forward(self, x):\n",
    "        x = self.fc1(x)\n",
    "        x = self.act1(x)\n",
    "        x = self.fc2(x)\n",
    "        x = self.act2(x)\n",
    "        x = self.fc3(x)\n",
    "\n",
    "        return x"
   ]
  },
  {
   "attachments": {},
   "cell_type": "markdown",
   "id": "10ef62a7",
   "metadata": {
    "ExecuteTime": {
     "end_time": "2022-05-05T04:58:05.692448Z",
     "start_time": "2022-05-05T04:58:05.688565Z"
    }
   },
   "source": [
    "Настраиваем количество нейронов на слоях сети <br />"
   ]
  },
  {
   "cell_type": "code",
   "execution_count": 31,
   "id": "a9daf74d",
   "metadata": {},
   "outputs": [],
   "source": [
    "n_in_neurons = X_train.shape[1]\n",
    "n_hidden_neurons_1 = 12\n",
    "n_hidden_neurons_2 = 8\n",
    "n_out_neurons = 1"
   ]
  },
  {
   "cell_type": "code",
   "execution_count": 32,
   "id": "ecfb6f68",
   "metadata": {},
   "outputs": [],
   "source": [
    "net = Net(n_in_neurons, n_hidden_neurons_1, n_hidden_neurons_2, n_out_neurons)\n",
    "optimizer = torch.optim.Adam(net.parameters(), lr=1e-3)\n",
    "loss = nn.MSELoss()"
   ]
  },
  {
   "cell_type": "code",
   "execution_count": 33,
   "id": "3f097fc0",
   "metadata": {},
   "outputs": [],
   "source": [
    "dataset_train = torch.utils.data.TensorDataset(X_train, y_train)\n",
    "dataset_test = torch.utils.data.TensorDataset(X_test, y_test)\n",
    "\n",
    "train_dataloader = DataLoader(dataset_train, batch_size=40, shuffle=True,\n",
    "                              num_workers=0)\n",
    "test_dataloader = DataLoader(dataset_test, batch_size=40, num_workers=0)    "
   ]
  },
  {
   "cell_type": "code",
   "execution_count": 34,
   "id": "8a432d9b",
   "metadata": {},
   "outputs": [],
   "source": [
    "class CustomEarlyStopping():\n",
    "    \"\"\"\n",
    "    Ранняя остановка, чтобы остановить тренировку, когда потеря не улучшается после определенной эпохи.\n",
    "    \"\"\"\n",
    "    def __init__(self, patience=5, min_delta=0):\n",
    "        \"\"\"\n",
    "        :param patience: сколько эпох ждать, прежде чем остановиться, когда потеря не улучшается\n",
    "        :param min_delta: минимальная разница между loss/метриками, если улучшений нет, то остановим обучение\n",
    "        \"\"\"\n",
    "        self.patience = patience\n",
    "        self.min_delta = min_delta\n",
    "        self.counter = 0\n",
    "        self.best_loss = None\n",
    "        self.early_stop = False\n",
    "\n",
    "    def __call__(self, val_loss):\n",
    "        if self.best_loss == None:\n",
    "            self.best_loss = val_loss\n",
    "        elif self.best_loss - val_loss > self.min_delta:\n",
    "            self.best_loss = val_loss\n",
    "            # reset counter if validation loss improves\n",
    "            self.counter = 0\n",
    "        elif self.best_loss - val_loss < self.min_delta:\n",
    "            self.counter += 1\n",
    "            print(f\"INFO: Early stopping counter {self.counter} of {self.patience}\")\n",
    "            if self.counter >= self.patience:\n",
    "                print('INFO: Early stopping')\n",
    "                self.early_stop = True"
   ]
  },
  {
   "cell_type": "code",
   "execution_count": 35,
   "id": "6d1b721c",
   "metadata": {},
   "outputs": [],
   "source": [
    "# Обучим нейросеть\n",
    "def run_net(net, num_epochs, freq, patience, min_delta):\n",
    "    early_stopping = CustomEarlyStopping(patience=patience, min_delta=min_delta)\n",
    "    num_epochs = num_epochs\n",
    "    for epoch in range(num_epochs):\n",
    "        net.train()\n",
    "        for batch in train_dataloader:\n",
    "            data_train, temperature_train = batch \n",
    "            optimizer.zero_grad()\n",
    "\n",
    "            preds = net.forward(data_train).flatten()\n",
    "    \n",
    "            loss_value = torch.sqrt(loss(preds, temperature_train))\n",
    "            loss_value.backward()\n",
    "            optimizer.step()\n",
    "    \n",
    "        if epoch % freq == 0:\n",
    "            predicted_temp = [] \n",
    "            with torch.no_grad():\n",
    "                net.eval()\n",
    "                for batch in test_dataloader:\n",
    "                    data_test, temperature_test = batch\n",
    "\n",
    "                    test_preds = net.forward(data_test).flatten()\n",
    "                    predicted_temp.append(test_preds)\n",
    "                    RMSE_loss = torch.sqrt(loss(test_preds, temperature_test))\n",
    "\n",
    "            predicted_temp = torch.cat(predicted_temp).detach().numpy()\n",
    "            RMSE = mean_squared_error(y_test, predicted_temp, squared=False)\n",
    "            early_stopping(RMSE)\n",
    "            if early_stopping.counter == 0:\n",
    "                best_rmse = RMSE\n",
    "                best_predicted_temp = predicted_temp\n",
    "            print(f\"epoch:{epoch}, RMSE test: {RMSE}\")\n",
    "\n",
    "            if early_stopping.early_stop:\n",
    "                print('Early Stoppning!!!')\n",
    "                print(f'Best RMSE test {best_rmse}')\n",
    "                break \n",
    "    return predicted_temp, y_test, best_rmse"
   ]
  },
  {
   "cell_type": "code",
   "execution_count": 36,
   "id": "1f661c2f",
   "metadata": {},
   "outputs": [
    {
     "name": "stdout",
     "output_type": "stream",
     "text": [
      "epoch:0, RMSE test: 15201.16796875\n",
      "epoch:200, RMSE test: 14809.771484375\n",
      "epoch:400, RMSE test: 12706.12890625\n",
      "epoch:600, RMSE test: 9701.404296875\n",
      "epoch:800, RMSE test: 8112.24560546875\n",
      "epoch:1000, RMSE test: 7665.84619140625\n",
      "epoch:1200, RMSE test: 7332.9189453125\n",
      "epoch:1400, RMSE test: 6971.1796875\n",
      "epoch:1600, RMSE test: 6622.49267578125\n",
      "epoch:1800, RMSE test: 6303.2548828125\n",
      "epoch:2000, RMSE test: 6027.80224609375\n"
     ]
    }
   ],
   "source": [
    "predicted_temp, y_test, best_rmse = run_net(net, 2001, 200, 5, 20)"
   ]
  },
  {
   "attachments": {},
   "cell_type": "markdown",
   "id": "15deb47b",
   "metadata": {
    "ExecuteTime": {
     "end_time": "2022-05-05T04:58:05.692448Z",
     "start_time": "2022-05-05T04:58:05.688565Z"
    }
   },
   "source": [
    "Лучшая метрика получилась с оптимизацией методом адаптивной оценки моментов Adaptive Moment Estimation с шагом сходимости в 0.001 и до начала переобучения составила 6027. <br />"
   ]
  },
  {
   "attachments": {},
   "cell_type": "markdown",
   "id": "2680df03",
   "metadata": {
    "ExecuteTime": {
     "end_time": "2022-05-05T04:58:05.692448Z",
     "start_time": "2022-05-05T04:58:05.688565Z"
    }
   },
   "source": [
    "Диагностируется переобучение, присутсвует ситуация при которой у модели высокая обобщающая способность на тренировочных данных, но она снижается на тестовых.<br />\n",
    "Согласно критериям заказчика, метрика RMSE не должна превышать 4500, требуется улучшение сети. Для этого попробуем использовать методы Batch Normalization и Dropout, а также подберем оптимальное количество эпох обучения. <br />\n",
    "Попробуем визуализировать результаты, построив график «Факт — Прогноз», где по горизонтальной оси будут отложены условные номера звёзд, а по вертикальной — температура в Кельвинах.<br />"
   ]
  },
  {
   "cell_type": "code",
   "execution_count": 37,
   "id": "1532f759",
   "metadata": {
    "scrolled": false
   },
   "outputs": [],
   "source": [
    "def vizualization(test_preds, y_test, width = 1.0):\n",
    "    '''Визуализирует предсказания нейронной сети на тестовой выборке'''\n",
    "    y1 = torch.FloatTensor(test_preds)\n",
    "    y1 = y1.detach().numpy().reshape([-1])\n",
    "    y2 = y_test.detach().numpy().reshape([-1])\n",
    "    x = np.arange(len(y1))\n",
    "    fig,ax = plt.subplots(figsize=[20,10])\n",
    "    plt.bar(x, y1, width, color='lightgreen', label = 'Факт')\n",
    "    plt.bar(x, y2, width=0.5, color='moccasin', label = 'Прогноз')\n",
    "    ax.set_title('Факт-Прогноз')\n",
    "    ax.set_xticks(x)\n",
    "    ax.set_xlabel('Номер звезды в таблице данных')\n",
    "    ax.set_ylabel('Температура звезды')\n",
    "    fig.set_figwidth(17)\n",
    "    fig.set_figheight(10)\n",
    "    ax.legend();"
   ]
  },
  {
   "cell_type": "code",
   "execution_count": 38,
   "id": "3c5d2ba4",
   "metadata": {
    "scrolled": false
   },
   "outputs": [
    {
     "data": {
      "image/png": "[encoded data removed]",
      "text/plain": [
       "<Figure size 1224x720 with 1 Axes>"
      ]
     },
     "metadata": {
      "needs_background": "light"
     },
     "output_type": "display_data"
    }
   ],
   "source": [
    "vizualization(predicted_temp, y_test)"
   ]
  },
  {
   "attachments": {},
   "cell_type": "markdown",
   "id": "623fcf26",
   "metadata": {
    "ExecuteTime": {
     "end_time": "2022-05-05T04:58:05.692448Z",
     "start_time": "2022-05-05T04:58:05.688565Z"
    }
   },
   "source": [
    "**Вывод**\n",
    "\n",
    "Нейронная сеть очень хорошо предсказывает температуру звёзд у которых температура до 5000 градусов. Но есть и критические расхождения, например, звезды 4, 10, 15, 23, 24, 25, 36.<br />"
   ]
  },
  {
   "attachments": {},
   "cell_type": "markdown",
   "id": "growing-supply",
   "metadata": {},
   "source": [
    "## Улучшение нейронной сети"
   ]
  },
  {
   "attachments": {},
   "cell_type": "markdown",
   "id": "5235d100",
   "metadata": {
    "ExecuteTime": {
     "end_time": "2022-05-05T04:58:05.692448Z",
     "start_time": "2022-05-05T04:58:05.688565Z"
    }
   },
   "source": [
    "Для улучшения нейронной сети попробуем методы Batch Normalization и Dropout, а также подберем оптимальное количество эпох обучения, а также определим лучший оптимизатор и проверим, позволят ли данные методы улучшить нашу нейронную сеть. <br />"
   ]
  },
  {
   "cell_type": "code",
   "execution_count": 39,
   "id": "f356c821",
   "metadata": {
    "scrolled": false
   },
   "outputs": [],
   "source": [
    "n_in_neurons = X_train.shape[1]\n",
    "n_hidden_neurons_1 = 12\n",
    "n_hidden_neurons_2 = 8\n",
    "n_out_neurons = 1\n",
    "\n",
    "net = Net(n_in_neurons, n_hidden_neurons_1, n_hidden_neurons_2, n_out_neurons)\n",
    "optimizer1 = torch.optim.Adam(net.parameters(), lr=1e-3)\n",
    "optimizer2 = torch.optim.NAdam(net.parameters(), lr=1e-2)\n",
    "optimizer3 = torch.optim.Adamax(net.parameters(), lr=1e-2)\n",
    "optimizer4 = torch.optim.Adamax(net.parameters(), lr=1e-3)\n",
    "optimizer5 = torch.optim.Adam(net.parameters(), lr=1e-2)\n",
    "\n",
    "optimizers = [optimizer1, optimizer2, optimizer3, optimizer4, optimizer5]"
   ]
  },
  {
   "cell_type": "code",
   "execution_count": 40,
   "id": "f75291cc",
   "metadata": {
    "scrolled": false
   },
   "outputs": [
    {
     "name": "stdout",
     "output_type": "stream",
     "text": [
      "Adam (\n",
      "Parameter Group 0\n",
      "    amsgrad: False\n",
      "    betas: (0.9, 0.999)\n",
      "    eps: 1e-08\n",
      "    lr: 0.001\n",
      "    weight_decay: 0\n",
      ")\n",
      "\n",
      "epoch:0, RMSE test: 15201.0712890625\n",
      "epoch:200, RMSE test: 13962.841796875\n",
      "epoch:400, RMSE test: 9332.689453125\n",
      "epoch:600, RMSE test: 7768.0087890625\n",
      "epoch:800, RMSE test: 7240.87109375\n",
      "epoch:1000, RMSE test: 6708.9736328125\n",
      "epoch:1200, RMSE test: 6248.30322265625\n",
      "epoch:1400, RMSE test: 5882.13427734375\n",
      "epoch:1600, RMSE test: 5629.31787109375\n",
      "epoch:1800, RMSE test: 5473.41357421875\n",
      "epoch:2000, RMSE test: 5381.6142578125\n",
      "epoch:2200, RMSE test: 5322.58056640625\n",
      "epoch:2400, RMSE test: 5269.8916015625\n",
      "INFO: Early stopping counter 1 of 3\n",
      "epoch:2600, RMSE test: 5220.68017578125\n",
      "epoch:2800, RMSE test: 5175.26416015625\n",
      "INFO: Early stopping counter 1 of 3\n",
      "epoch:3000, RMSE test: 5132.68310546875\n",
      "epoch:3200, RMSE test: 5093.39599609375\n",
      "INFO: Early stopping counter 1 of 3\n",
      "epoch:3400, RMSE test: 5064.53955078125\n",
      "epoch:3600, RMSE test: 5033.95068359375\n",
      "INFO: Early stopping counter 1 of 3\n",
      "epoch:3800, RMSE test: 5011.18115234375\n",
      "INFO: Early stopping counter 2 of 3\n",
      "epoch:4000, RMSE test: 4984.6435546875\n",
      "epoch:4200, RMSE test: 4962.26513671875\n",
      "INFO: Early stopping counter 1 of 3\n",
      "epoch:4400, RMSE test: 4938.25537109375\n",
      "INFO: Early stopping counter 2 of 3\n",
      "epoch:4600, RMSE test: 4923.404296875\n",
      "epoch:4800, RMSE test: 4899.24072265625\n",
      "INFO: Early stopping counter 1 of 3\n",
      "epoch:5000, RMSE test: 4882.89990234375\n",
      "INFO: Early stopping counter 2 of 3\n",
      "epoch:5200, RMSE test: 4870.90283203125\n",
      "INFO: Early stopping counter 3 of 3\n",
      "INFO: Early stopping\n",
      "epoch:5400, RMSE test: 4852.20751953125\n",
      "Early Stoppning!!!\n",
      "Best RMSE test 4899.24072265625\n",
      "NAdam (\n",
      "Parameter Group 0\n",
      "    betas: (0.9, 0.999)\n",
      "    eps: 1e-08\n",
      "    lr: 0.01\n",
      "    momentum_decay: 0.004\n",
      "    weight_decay: 0\n",
      ")\n",
      "\n",
      "epoch:0, RMSE test: 4856.40478515625\n",
      "epoch:200, RMSE test: 4739.6962890625\n",
      "INFO: Early stopping counter 1 of 3\n",
      "epoch:400, RMSE test: 4698.77294921875\n",
      "epoch:600, RMSE test: 4639.58837890625\n",
      "INFO: Early stopping counter 1 of 3\n",
      "epoch:800, RMSE test: 4642.25\n",
      "epoch:1000, RMSE test: 4504.4140625\n",
      "epoch:1200, RMSE test: 4297.740234375\n",
      "epoch:1400, RMSE test: 4179.42724609375\n",
      "INFO: Early stopping counter 1 of 3\n",
      "epoch:1600, RMSE test: 4191.630859375\n",
      "INFO: Early stopping counter 2 of 3\n",
      "epoch:1800, RMSE test: 4149.28125\n",
      "INFO: Early stopping counter 3 of 3\n",
      "INFO: Early stopping\n",
      "epoch:2000, RMSE test: 4227.80126953125\n",
      "Early Stoppning!!!\n",
      "Best RMSE test 4179.42724609375\n",
      "Adamax (\n",
      "Parameter Group 0\n",
      "    betas: (0.9, 0.999)\n",
      "    eps: 1e-08\n",
      "    lr: 0.01\n",
      "    weight_decay: 0\n",
      ")\n",
      "\n",
      "epoch:0, RMSE test: 4291.16552734375\n",
      "epoch:200, RMSE test: 4224.15283203125\n",
      "INFO: Early stopping counter 1 of 3\n",
      "epoch:400, RMSE test: 4199.419921875\n",
      "INFO: Early stopping counter 2 of 3\n",
      "epoch:600, RMSE test: 4186.56787109375\n",
      "INFO: Early stopping counter 3 of 3\n",
      "INFO: Early stopping\n",
      "epoch:800, RMSE test: 4269.46044921875\n",
      "Early Stoppning!!!\n",
      "Best RMSE test 4224.15283203125\n",
      "Adamax (\n",
      "Parameter Group 0\n",
      "    betas: (0.9, 0.999)\n",
      "    eps: 1e-08\n",
      "    lr: 0.001\n",
      "    weight_decay: 0\n",
      ")\n",
      "\n",
      "epoch:0, RMSE test: 4268.2314453125\n",
      "INFO: Early stopping counter 1 of 3\n",
      "epoch:200, RMSE test: 4234.537109375\n",
      "INFO: Early stopping counter 2 of 3\n",
      "epoch:400, RMSE test: 4233.83251953125\n",
      "INFO: Early stopping counter 3 of 3\n",
      "INFO: Early stopping\n",
      "epoch:600, RMSE test: 4230.9609375\n",
      "Early Stoppning!!!\n",
      "Best RMSE test 4268.2314453125\n",
      "Adam (\n",
      "Parameter Group 0\n",
      "    amsgrad: False\n",
      "    betas: (0.9, 0.999)\n",
      "    eps: 1e-08\n",
      "    lr: 0.01\n",
      "    weight_decay: 0\n",
      ")\n",
      "\n",
      "epoch:0, RMSE test: 4276.26416015625\n",
      "epoch:200, RMSE test: 4206.46240234375\n",
      "INFO: Early stopping counter 1 of 3\n",
      "epoch:400, RMSE test: 4255.96240234375\n",
      "INFO: Early stopping counter 2 of 3\n",
      "epoch:600, RMSE test: 4264.32177734375\n",
      "INFO: Early stopping counter 3 of 3\n",
      "INFO: Early stopping\n",
      "epoch:800, RMSE test: 4294.3779296875\n",
      "Early Stoppning!!!\n",
      "Best RMSE test 4206.46240234375\n"
     ]
    }
   ],
   "source": [
    "rmse_optimizers = []\n",
    "for optimizer in optimizers:\n",
    "    print(optimizer)\n",
    "    print()\n",
    "    predicted_temp, y_test, best_rmse = run_net(net, 100001, 200, 3, 50)\n",
    "    rmse_optimizers.append(round(best_rmse, 2))"
   ]
  },
  {
   "cell_type": "code",
   "execution_count": 41,
   "id": "c7323e8b",
   "metadata": {
    "scrolled": true
   },
   "outputs": [
    {
     "data": {
      "text/html": [
       "<div>\n",
       "<style scoped>\n",
       "    .dataframe tbody tr th:only-of-type {\n",
       "        vertical-align: middle;\n",
       "    }\n",
       "\n",
       "    .dataframe tbody tr th {\n",
       "        vertical-align: top;\n",
       "    }\n",
       "\n",
       "    .dataframe thead th {\n",
       "        text-align: right;\n",
       "    }\n",
       "</style>\n",
       "<table border=\"1\" class=\"dataframe\">\n",
       "  <thead>\n",
       "    <tr style=\"text-align: right;\">\n",
       "      <th></th>\n",
       "      <th>RMSE</th>\n",
       "    </tr>\n",
       "  </thead>\n",
       "  <tbody>\n",
       "    <tr>\n",
       "      <th>NAdam, lr: 0.01</th>\n",
       "      <td>4179.430176</td>\n",
       "    </tr>\n",
       "    <tr>\n",
       "      <th>Adam, lr: 0.01</th>\n",
       "      <td>4206.459961</td>\n",
       "    </tr>\n",
       "    <tr>\n",
       "      <th>Adamax, lr: 0.01</th>\n",
       "      <td>4224.149902</td>\n",
       "    </tr>\n",
       "    <tr>\n",
       "      <th>Adamax, lr: 0.001</th>\n",
       "      <td>4268.229980</td>\n",
       "    </tr>\n",
       "    <tr>\n",
       "      <th>Adam, lr: 0.001</th>\n",
       "      <td>4899.240234</td>\n",
       "    </tr>\n",
       "  </tbody>\n",
       "</table>\n",
       "</div>"
      ],
      "text/plain": [
       "                          RMSE\n",
       "NAdam, lr: 0.01    4179.430176\n",
       "Adam, lr: 0.01     4206.459961\n",
       "Adamax, lr: 0.01   4224.149902\n",
       "Adamax, lr: 0.001  4268.229980\n",
       "Adam, lr: 0.001    4899.240234"
      ]
     },
     "metadata": {},
     "output_type": "display_data"
    }
   ],
   "source": [
    "optimizers_rmse = pd.DataFrame(data = rmse_optimizers, index = ['Adam, lr: 0.001',\n",
    "                                                                'NAdam, lr: 0.01',\n",
    "                                                                'Adamax, lr: 0.01',\n",
    "                                                                'Adamax, lr: 0.001',\n",
    "                                                                'Adam, lr: 0.01'], columns = ['RMSE'])\n",
    "display(optimizers_rmse.sort_values(by='RMSE'))"
   ]
  },
  {
   "attachments": {},
   "cell_type": "markdown",
   "id": "f9fb1ec1",
   "metadata": {
    "ExecuteTime": {
     "end_time": "2022-05-05T04:58:05.692448Z",
     "start_time": "2022-05-05T04:58:05.688565Z"
    }
   },
   "source": [
    "Попробуем метод Dropout на разных слоях, проверим, позволит ли это улучшить нашу нейронную сеть. <br />"
   ]
  },
  {
   "cell_type": "code",
   "execution_count": 42,
   "id": "3654bdb5",
   "metadata": {
    "scrolled": true
   },
   "outputs": [
    {
     "data": {
      "text/html": [
       "<div>\n",
       "<style scoped>\n",
       "    .dataframe tbody tr th:only-of-type {\n",
       "        vertical-align: middle;\n",
       "    }\n",
       "\n",
       "    .dataframe tbody tr th {\n",
       "        vertical-align: top;\n",
       "    }\n",
       "\n",
       "    .dataframe thead th {\n",
       "        text-align: right;\n",
       "    }\n",
       "</style>\n",
       "<table border=\"1\" class=\"dataframe\">\n",
       "  <thead>\n",
       "    <tr style=\"text-align: right;\">\n",
       "      <th></th>\n",
       "      <th>RMSE</th>\n",
       "    </tr>\n",
       "  </thead>\n",
       "  <tbody>\n",
       "    <tr>\n",
       "      <th>Dropout, dp1: 0.5</th>\n",
       "      <td>3923</td>\n",
       "    </tr>\n",
       "    <tr>\n",
       "      <th>Dropout, dp1: 0.5, dp2: 0.1</th>\n",
       "      <td>3943</td>\n",
       "    </tr>\n",
       "    <tr>\n",
       "      <th>Dropout, dp1: 0.5, dp2: 0.2</th>\n",
       "      <td>3996</td>\n",
       "    </tr>\n",
       "    <tr>\n",
       "      <th>Dropout, dp1: 0.2</th>\n",
       "      <td>4007</td>\n",
       "    </tr>\n",
       "    <tr>\n",
       "      <th>Dropout, dp1: 0.5, dp2: 0.3</th>\n",
       "      <td>4010</td>\n",
       "    </tr>\n",
       "    <tr>\n",
       "      <th>Dropout, dp1: 0.1</th>\n",
       "      <td>4035</td>\n",
       "    </tr>\n",
       "    <tr>\n",
       "      <th>Dropout, dp1: 0.5, dp2: 0.4</th>\n",
       "      <td>4197</td>\n",
       "    </tr>\n",
       "    <tr>\n",
       "      <th>Dropout, dp1: 0.7</th>\n",
       "      <td>4205</td>\n",
       "    </tr>\n",
       "  </tbody>\n",
       "</table>\n",
       "</div>"
      ],
      "text/plain": [
       "                             RMSE\n",
       "Dropout, dp1: 0.5            3923\n",
       "Dropout, dp1: 0.5, dp2: 0.1  3943\n",
       "Dropout, dp1: 0.5, dp2: 0.2  3996\n",
       "Dropout, dp1: 0.2            4007\n",
       "Dropout, dp1: 0.5, dp2: 0.3  4010\n",
       "Dropout, dp1: 0.1            4035\n",
       "Dropout, dp1: 0.5, dp2: 0.4  4197\n",
       "Dropout, dp1: 0.7            4205"
      ]
     },
     "metadata": {},
     "output_type": "display_data"
    }
   ],
   "source": [
    "rmse_dropouts = [4205, 3923, 4007, 4035, 4197, 4010, 3996, 3943]\n",
    "dropouts_rmse = pd.DataFrame(data = rmse_dropouts, index = ['Dropout, dp1: 0.7',\n",
    "                                                                'Dropout, dp1: 0.5',\n",
    "                                                                'Dropout, dp1: 0.2',\n",
    "                                                                'Dropout, dp1: 0.1',\n",
    "                                                                'Dropout, dp1: 0.5, dp2: 0.4',\n",
    "                                                                'Dropout, dp1: 0.5, dp2: 0.3',\n",
    "                                                                'Dropout, dp1: 0.5, dp2: 0.2',\n",
    "                                                                'Dropout, dp1: 0.5, dp2: 0.1',\n",
    "                                                               ], columns = ['RMSE'])\n",
    "display(dropouts_rmse.sort_values(by='RMSE'))"
   ]
  },
  {
   "attachments": {},
   "cell_type": "markdown",
   "id": "9bfd13b4",
   "metadata": {
    "ExecuteTime": {
     "end_time": "2022-05-05T04:58:05.692448Z",
     "start_time": "2022-05-05T04:58:05.688565Z"
    }
   },
   "source": [
    "Лучший результат по скорости и метрике получилось достичь используя метод Dropout после первого слоя со значением 0.5. <br />"
   ]
  },
  {
   "cell_type": "code",
   "execution_count": 43,
   "id": "acceptable-forwarding",
   "metadata": {},
   "outputs": [],
   "source": [
    "# Добавим регуляризацию на лучшем оптимизаторе NAdam, lr: 0.01 и метод Dropout после первого скрытого слоя (0.5)\n",
    "\n",
    "class Net(nn.Module):\n",
    "    def __init__(self, n_in_neurons, n_hidden_neurons_1, n_hidden_neurons_2, n_out_neurons):\n",
    "            super(Net, self).__init__()\n",
    "            \n",
    "            self.fc1 = nn.Linear(n_in_neurons, n_hidden_neurons_1)\n",
    "            self.bn1 = nn.BatchNorm1d(n_hidden_neurons_1)\n",
    "            self.act1 = nn.ReLU()\n",
    "            self.dp1 = nn.Dropout(p=0.5)\n",
    "            self.fc2 = nn.Linear(n_hidden_neurons_1, n_hidden_neurons_2)\n",
    "            self.bn2 = nn.BatchNorm1d(n_hidden_neurons_2)\n",
    "            self.act2 = nn.ReLU()\n",
    "            #self.dp2 = nn.Dropout(p=0.1)\n",
    "            self.fc3 = nn.Linear(n_hidden_neurons_2, n_out_neurons)\n",
    "            \n",
    "    def forward(self, x):\n",
    "        x = self.fc1(x)\n",
    "        x = self.bn1(x)\n",
    "        x = self.act1(x)\n",
    "        x = self.dp1(x)\n",
    "        x = self.fc2(x)\n",
    "        x = self.bn2(x)\n",
    "        x = self.act2(x)\n",
    "        #x = self.dp2(x)\n",
    "        x = self.fc3(x)\n",
    "        \n",
    "        return x"
   ]
  },
  {
   "cell_type": "code",
   "execution_count": 44,
   "id": "db157fd0",
   "metadata": {},
   "outputs": [],
   "source": [
    "n_in_neurons = X_train.shape[1]\n",
    "n_hidden_neurons_1 = 12\n",
    "n_hidden_neurons_2 = 8\n",
    "n_out_neurons = 1\n",
    "\n",
    "net = Net(n_in_neurons, n_hidden_neurons_1, n_hidden_neurons_2, n_out_neurons)\n",
    "optimizer = torch.optim.NAdam(net.parameters(), lr=1e-2)\n",
    "loss = nn.MSELoss()"
   ]
  },
  {
   "cell_type": "code",
   "execution_count": 45,
   "id": "f412f18c",
   "metadata": {},
   "outputs": [],
   "source": [
    "dataset_train = torch.utils.data.TensorDataset(X_train, y_train)\n",
    "dataset_test = torch.utils.data.TensorDataset(X_test, y_test)\n",
    "\n",
    "train_dataloader = DataLoader(dataset_train, batch_size=40, shuffle=True,\n",
    "                              num_workers=0)\n",
    "test_dataloader = DataLoader(dataset_test, batch_size=40, num_workers=0) "
   ]
  },
  {
   "cell_type": "code",
   "execution_count": 46,
   "id": "6323e58b",
   "metadata": {},
   "outputs": [
    {
     "name": "stdout",
     "output_type": "stream",
     "text": [
      "epoch:0, RMSE test: 15201.138671875\n",
      "epoch:50, RMSE test: 14990.1572265625\n",
      "epoch:100, RMSE test: 14280.18359375\n",
      "epoch:150, RMSE test: 13136.2724609375\n",
      "epoch:200, RMSE test: 12008.4033203125\n",
      "epoch:250, RMSE test: 10235.1953125\n",
      "epoch:300, RMSE test: 8810.669921875\n",
      "epoch:350, RMSE test: 6449.06201171875\n",
      "epoch:400, RMSE test: 5688.8603515625\n",
      "epoch:450, RMSE test: 4728.11083984375\n",
      "epoch:500, RMSE test: 4112.5517578125\n",
      "epoch:550, RMSE test: 4089.970703125\n",
      "INFO: Early stopping counter 1 of 10\n",
      "epoch:600, RMSE test: 4102.51611328125\n",
      "INFO: Early stopping counter 2 of 10\n",
      "epoch:650, RMSE test: 4129.17724609375\n",
      "epoch:700, RMSE test: 4011.020751953125\n",
      "INFO: Early stopping counter 1 of 10\n",
      "epoch:750, RMSE test: 4013.358642578125\n",
      "INFO: Early stopping counter 2 of 10\n",
      "epoch:800, RMSE test: 4148.98486328125\n",
      "INFO: Early stopping counter 3 of 10\n",
      "epoch:850, RMSE test: 4112.775390625\n",
      "INFO: Early stopping counter 4 of 10\n",
      "epoch:900, RMSE test: 4231.57763671875\n",
      "INFO: Early stopping counter 5 of 10\n",
      "epoch:950, RMSE test: 4209.23681640625\n",
      "INFO: Early stopping counter 6 of 10\n",
      "epoch:1000, RMSE test: 4338.40478515625\n",
      "INFO: Early stopping counter 7 of 10\n",
      "epoch:1050, RMSE test: 4278.02294921875\n",
      "INFO: Early stopping counter 8 of 10\n",
      "epoch:1100, RMSE test: 4217.90966796875\n",
      "INFO: Early stopping counter 9 of 10\n",
      "epoch:1150, RMSE test: 4367.244140625\n",
      "INFO: Early stopping counter 10 of 10\n",
      "INFO: Early stopping\n",
      "epoch:1200, RMSE test: 4486.6533203125\n",
      "Early Stoppning!!!\n",
      "Best RMSE test 4011.020751953125\n"
     ]
    }
   ],
   "source": [
    "# Обучим нейросеть\n",
    "early_stopping = CustomEarlyStopping(patience=10, min_delta=20)\n",
    "\n",
    "num_epochs = 2001\n",
    "val_loss = []\n",
    "train_loss = []\n",
    "\n",
    "for epoch in range(num_epochs):\n",
    "    net.train()\n",
    "    train_loss_batches = []\n",
    "    for batch in train_dataloader:\n",
    "        data_train, temperature_train = batch \n",
    "        optimizer.zero_grad()\n",
    "\n",
    "        preds = net.forward(data_train).flatten()\n",
    "\n",
    "        loss_value = torch.sqrt(loss(preds, temperature_train))\n",
    "        \n",
    "        loss_value.backward()\n",
    "        optimizer.step()\n",
    "        \n",
    "        loss_value = loss_value.detach().numpy().reshape([-1])\n",
    "        train_loss_batches.append(loss_value)\n",
    "    \n",
    "        \n",
    "    if epoch % 50 == 0:\n",
    "        predicted_temp = [] \n",
    "        with torch.no_grad():\n",
    "            net.eval()\n",
    "            for batch in test_dataloader:\n",
    "                data_test, temperature_test = batch\n",
    "\n",
    "                test_preds = net.forward(data_test).flatten()\n",
    "                predicted_temp.append(test_preds)\n",
    "                RMSE_loss = torch.sqrt(loss(test_preds, temperature_test))\n",
    "\n",
    "        predicted_temp = torch.cat(predicted_temp).detach().numpy()\n",
    "        RMSE = mean_squared_error(y_test, predicted_temp, squared=False)\n",
    "        \n",
    "        \n",
    "        early_stopping(RMSE)\n",
    "        if early_stopping.counter == 0:\n",
    "            best_rmse = RMSE\n",
    "            best_predicted_temp = predicted_temp\n",
    "            val_loss.append(best_rmse)\n",
    "            train_loss.append(np.mean(train_loss_batches))\n",
    "        print(f\"epoch:{epoch}, RMSE test: {RMSE}\")\n",
    "        \n",
    "        \n",
    "        if early_stopping.early_stop:\n",
    "            print('Early Stoppning!!!')\n",
    "            print(f'Best RMSE test {best_rmse}')\n",
    "            break "
   ]
  },
  {
   "cell_type": "code",
   "execution_count": 47,
   "id": "48e51eba",
   "metadata": {},
   "outputs": [
    {
     "data": {
      "image/png": "[encoded data removed]",
      "text/plain": [
       "<Figure size 720x504 with 1 Axes>"
      ]
     },
     "metadata": {
      "needs_background": "light"
     },
     "output_type": "display_data"
    }
   ],
   "source": [
    "x = np.arange(len(val_loss))\n",
    "\n",
    "fig, ax = plt.subplots()\n",
    "fig.set_figwidth(10)\n",
    "fig.set_figheight(7)\n",
    "ax.set_xticks(x)\n",
    "val = ax.plot(x, val_loss, label = 'Тестовая')\n",
    "train = ax.plot(x, train_loss, label = 'Обучающая')\n",
    "ax.legend()\n",
    "ax.set_title('Потери нейросети', fontsize=20)\n",
    "ax.set_xlabel('Эпохи (600)')\n",
    "ax.set_ylabel('Потери')\n",
    "plt.show()"
   ]
  },
  {
   "cell_type": "code",
   "execution_count": 48,
   "id": "1f5ef7d5",
   "metadata": {
    "scrolled": false
   },
   "outputs": [
    {
     "data": {
      "image/png": "[encoded data removed]",
      "text/plain": [
       "<Figure size 1224x720 with 1 Axes>"
      ]
     },
     "metadata": {
      "needs_background": "light"
     },
     "output_type": "display_data"
    }
   ],
   "source": [
    "vizualization(predicted_temp, y_test)"
   ]
  },
  {
   "attachments": {},
   "cell_type": "markdown",
   "id": "9b45ca88",
   "metadata": {
    "ExecuteTime": {
     "end_time": "2022-05-05T04:58:05.692448Z",
     "start_time": "2022-05-05T04:58:05.688565Z"
    }
   },
   "source": [
    "После проведенного перебора оптимизаторов - выявлено, что с данной задачей лучше всего справляется Adamax, lr: 0.01, не учитывая скорости алгоритмов, только по конечной RMSE. <br />\n",
    "\n",
    "На лучшем оптимитизаторе проведено конечное улучшение модели: добавили dropout равный 50% и регуляризацию весов BatchNorm1d на первый скрытый слой. На второй скрытый слой регуляризацию весов BatchNorm1d. Время обучения увеличилось, однако это способстовало улучшению метрики. <br />\n",
    "\n",
    "Конечная метрика RMSE составила около 4000. Если посмотреть на график потерь нашей последней нейросети, то можно увидеть, что модель обучилась качественно, без недо- и переобучений, благодаря ранней остановке. График факт-прогноз похож на график базовой модели, однако можем увидеть, что начал предсказывать лучше до 15000 и свыше 30000 градусов по Кельвину, но стал хуже справляться со звездами до 5000 градусов. <br />"
   ]
  },
  {
   "attachments": {},
   "cell_type": "markdown",
   "id": "accurate-infrastructure",
   "metadata": {},
   "source": [
    "## Выводы"
   ]
  },
  {
   "attachments": {},
   "cell_type": "markdown",
   "id": "ced0d7d7",
   "metadata": {
    "ExecuteTime": {
     "end_time": "2022-05-05T04:58:05.692448Z",
     "start_time": "2022-05-05T04:58:05.688565Z"
    }
   },
   "source": [
    "В ходе исследования была построеная базовая модель Нейронной сети для предсказания абсолютной температуры на поверхности звезды.\n",
    "\n",
    "Базовая модель была построена с параметрами:\n",
    "\n",
    "- n_in_neurons = 15\n",
    "- n_hidden_neurons_1 = 12\n",
    "- n_hidden_neurons_2 = 8\n",
    "- n_out_neurons = 1\n",
    "- optimizer = torch.optim.Adam(net.parameters(), lr=1e-3)\n",
    "- loss = nn.MSELoss()\n",
    "- batch_size = 40\n",
    "- num_epochs < 2000\n",
    "- выходная функция после первого и второго скрытого слоя - ReLU\n",
    "\n",
    "Данная модель оказалась недостаточно эффективна и легко переобучалась. Метрика RMSE получилась > 5 тыс, что нас не удовлетворяло, так ка согласно критериям заказчика, метрика RMSE не должна превышать 4500, потребовалось улучшение сети.\n",
    "\n",
    "Улучшенная модель\n",
    "\n",
    "Для улучшения нейронной сети попробовали методы Batch Normalization и Dropout, а также подбор оптимального количества эпох обучения, а также определили лучший оптимизатор\n",
    "- n_in_neurons = 15\n",
    "- n_hidden_neurons_1 = 12\n",
    "- n_hidden_neurons_2 = 8\n",
    "- n_out_neurons = 1\n",
    "- optimizer = torch.optim.NAdam(net.parameters(), lr=1e-2)\n",
    "- loss = nn.MSELoss()\n",
    "- batch_size = 40\n",
    "- num_epochs < 2000\n",
    "- bn1 = nn.BatchNorm1d(n_hidden_neurons_1)\n",
    "- dp1 = nn.Dropout(p=0.5)\n",
    "- bn2 = nn.BatchNorm1d(n_hidden_neurons_2)\n",
    "- выходная функция после первого и второго скрытого слоя - ReLU\n",
    "\n",
    "Данную модель можно считать эффективной. Метрика RMSE получилась близка к 4000.\n",
    "\n",
    "Сравнивая два графика, можно явно увидеть как плохо обучалась базовая модель (как много делала ошибок) и насколько лучше стала предсказывать после улучшения. <br />"
   ]
  }
 ],
 "metadata": {
  "ExecuteTimeLog": [
   {
    "duration": 5812,
    "start_time": "2023-06-03T18:17:59.828Z"
   },
   {
    "duration": 3573,
    "start_time": "2023-06-03T18:18:58.275Z"
   },
   {
    "duration": 83978,
    "start_time": "2023-06-03T18:19:55.932Z"
   },
   {
    "duration": 1918,
    "start_time": "2023-06-03T18:22:29.432Z"
   },
   {
    "duration": 127,
    "start_time": "2023-06-03T18:26:20.943Z"
   },
   {
    "duration": 12,
    "start_time": "2023-06-03T18:29:06.456Z"
   },
   {
    "duration": 7,
    "start_time": "2023-06-03T18:29:29.441Z"
   },
   {
    "duration": 21,
    "start_time": "2023-06-03T18:30:50.390Z"
   },
   {
    "duration": 3692,
    "start_time": "2023-06-03T18:33:11.062Z"
   },
   {
    "duration": 160,
    "start_time": "2023-06-03T18:36:40.647Z"
   },
   {
    "duration": 2905,
    "start_time": "2023-06-03T18:36:52.423Z"
   },
   {
    "duration": 318,
    "start_time": "2023-06-03T18:37:37.723Z"
   },
   {
    "duration": 98,
    "start_time": "2023-06-03T18:37:55.140Z"
   },
   {
    "duration": 110,
    "start_time": "2023-06-03T18:38:14.745Z"
   },
   {
    "duration": 28,
    "start_time": "2023-06-03T18:38:29.812Z"
   },
   {
    "duration": 49,
    "start_time": "2023-06-03T18:38:40.098Z"
   },
   {
    "duration": 34,
    "start_time": "2023-06-03T18:38:53.244Z"
   },
   {
    "duration": 31,
    "start_time": "2023-06-03T18:39:02.239Z"
   },
   {
    "duration": 45,
    "start_time": "2023-06-03T18:39:11.191Z"
   },
   {
    "duration": 200,
    "start_time": "2023-06-03T18:40:12.799Z"
   },
   {
    "duration": 59,
    "start_time": "2023-06-03T18:45:24.156Z"
   },
   {
    "duration": 17,
    "start_time": "2023-06-03T18:46:56.026Z"
   },
   {
    "duration": 23,
    "start_time": "2023-06-03T18:47:47.027Z"
   },
   {
    "duration": 12,
    "start_time": "2023-06-03T18:48:34.283Z"
   },
   {
    "duration": 10,
    "start_time": "2023-06-03T18:51:03.299Z"
   },
   {
    "duration": 510,
    "start_time": "2023-06-03T19:11:23.956Z"
   },
   {
    "duration": 397,
    "start_time": "2023-06-03T19:12:07.651Z"
   },
   {
    "duration": 378,
    "start_time": "2023-06-03T19:12:58.586Z"
   },
   {
    "duration": 598,
    "start_time": "2023-06-03T19:13:24.308Z"
   },
   {
    "duration": 296,
    "start_time": "2023-06-03T19:15:39.992Z"
   },
   {
    "duration": 390,
    "start_time": "2023-06-03T19:17:07.113Z"
   },
   {
    "duration": 421,
    "start_time": "2023-06-03T19:18:44.751Z"
   },
   {
    "duration": 9,
    "start_time": "2023-06-03T19:22:59.500Z"
   },
   {
    "duration": 14,
    "start_time": "2023-06-03T19:23:24.719Z"
   },
   {
    "duration": 7,
    "start_time": "2023-06-03T19:23:44.165Z"
   },
   {
    "duration": 6,
    "start_time": "2023-06-03T19:26:04.846Z"
   },
   {
    "duration": 176,
    "start_time": "2023-06-03T19:28:26.447Z"
   },
   {
    "duration": 182,
    "start_time": "2023-06-03T19:29:18.615Z"
   },
   {
    "duration": 5,
    "start_time": "2023-06-03T19:30:44.226Z"
   },
   {
    "duration": 6,
    "start_time": "2023-06-03T19:30:59.164Z"
   },
   {
    "duration": 13,
    "start_time": "2023-06-03T19:33:21.910Z"
   },
   {
    "duration": 7,
    "start_time": "2023-06-03T19:33:35.201Z"
   },
   {
    "duration": 206,
    "start_time": "2023-06-03T19:35:01.123Z"
   },
   {
    "duration": 437,
    "start_time": "2023-06-03T19:36:31.002Z"
   },
   {
    "duration": 204,
    "start_time": "2023-06-03T19:38:09.356Z"
   },
   {
    "duration": 249,
    "start_time": "2023-06-03T19:38:15.766Z"
   },
   {
    "duration": 202,
    "start_time": "2023-06-03T19:42:22.934Z"
   },
   {
    "duration": 210,
    "start_time": "2023-06-03T19:42:32.816Z"
   },
   {
    "duration": 259,
    "start_time": "2023-06-03T19:43:00.327Z"
   },
   {
    "duration": 203,
    "start_time": "2023-06-03T19:43:07.796Z"
   },
   {
    "duration": 236,
    "start_time": "2023-06-03T19:43:15.760Z"
   },
   {
    "duration": 5757,
    "start_time": "2023-06-03T19:46:04.582Z"
   },
   {
    "duration": 8,
    "start_time": "2023-06-03T20:34:43.301Z"
   },
   {
    "duration": 2315,
    "start_time": "2023-06-03T20:35:10.706Z"
   },
   {
    "duration": 35,
    "start_time": "2023-06-03T20:35:13.024Z"
   },
   {
    "duration": 13,
    "start_time": "2023-06-03T20:35:13.061Z"
   },
   {
    "duration": 42,
    "start_time": "2023-06-03T20:35:13.077Z"
   },
   {
    "duration": 11,
    "start_time": "2023-06-03T20:35:13.121Z"
   },
   {
    "duration": 6,
    "start_time": "2023-06-03T20:35:13.136Z"
   },
   {
    "duration": 360,
    "start_time": "2023-06-03T20:35:13.144Z"
   },
   {
    "duration": 296,
    "start_time": "2023-06-03T20:35:13.506Z"
   },
   {
    "duration": 360,
    "start_time": "2023-06-03T20:35:13.807Z"
   },
   {
    "duration": 356,
    "start_time": "2023-06-03T20:35:14.171Z"
   },
   {
    "duration": 8,
    "start_time": "2023-06-03T20:35:14.531Z"
   },
   {
    "duration": 10,
    "start_time": "2023-06-03T20:35:14.541Z"
   },
   {
    "duration": 4,
    "start_time": "2023-06-03T20:35:14.553Z"
   },
   {
    "duration": 170,
    "start_time": "2023-06-03T20:35:14.560Z"
   },
   {
    "duration": 4,
    "start_time": "2023-06-03T20:35:14.732Z"
   },
   {
    "duration": 6,
    "start_time": "2023-06-03T20:35:14.739Z"
   },
   {
    "duration": 6,
    "start_time": "2023-06-03T20:35:14.747Z"
   },
   {
    "duration": 10,
    "start_time": "2023-06-03T20:35:14.779Z"
   },
   {
    "duration": 313,
    "start_time": "2023-06-03T20:35:14.796Z"
   },
   {
    "duration": 4653,
    "start_time": "2023-06-03T20:35:15.110Z"
   },
   {
    "duration": 5,
    "start_time": "2023-06-03T20:35:19.765Z"
   },
   {
    "duration": 176,
    "start_time": "2023-06-03T20:36:07.993Z"
   },
   {
    "duration": 12,
    "start_time": "2023-06-03T20:36:15.113Z"
   },
   {
    "duration": 10,
    "start_time": "2023-06-03T20:36:19.904Z"
   },
   {
    "duration": 8,
    "start_time": "2023-06-03T20:37:08.305Z"
   },
   {
    "duration": 4,
    "start_time": "2023-06-03T20:37:32.947Z"
   },
   {
    "duration": 21,
    "start_time": "2023-06-03T20:39:46.918Z"
   },
   {
    "duration": 25,
    "start_time": "2023-06-03T20:40:36.216Z"
   },
   {
    "duration": 27,
    "start_time": "2023-06-03T20:41:37.906Z"
   },
   {
    "duration": 45,
    "start_time": "2023-06-03T20:42:15.767Z"
   },
   {
    "duration": 11,
    "start_time": "2023-06-03T20:43:46.259Z"
   },
   {
    "duration": 7,
    "start_time": "2023-06-03T20:44:43.546Z"
   },
   {
    "duration": 7,
    "start_time": "2023-06-03T20:45:19.732Z"
   },
   {
    "duration": 12,
    "start_time": "2023-06-03T20:45:34.148Z"
   },
   {
    "duration": 2555,
    "start_time": "2023-06-03T20:45:46.199Z"
   },
   {
    "duration": 81,
    "start_time": "2023-06-03T20:45:48.756Z"
   },
   {
    "duration": 12,
    "start_time": "2023-06-03T20:45:48.840Z"
   },
   {
    "duration": 33,
    "start_time": "2023-06-03T20:45:48.854Z"
   },
   {
    "duration": 5,
    "start_time": "2023-06-03T20:45:48.890Z"
   },
   {
    "duration": 3,
    "start_time": "2023-06-03T20:45:48.897Z"
   },
   {
    "duration": 387,
    "start_time": "2023-06-03T20:45:48.902Z"
   },
   {
    "duration": 344,
    "start_time": "2023-06-03T20:45:49.299Z"
   },
   {
    "duration": 405,
    "start_time": "2023-06-03T20:45:49.650Z"
   },
   {
    "duration": 372,
    "start_time": "2023-06-03T20:45:50.058Z"
   },
   {
    "duration": 9,
    "start_time": "2023-06-03T20:45:50.432Z"
   },
   {
    "duration": 26,
    "start_time": "2023-06-03T20:45:50.444Z"
   },
   {
    "duration": 63,
    "start_time": "2023-06-03T20:45:50.472Z"
   },
   {
    "duration": 190,
    "start_time": "2023-06-03T20:45:50.538Z"
   },
   {
    "duration": 8,
    "start_time": "2023-06-03T20:45:50.732Z"
   },
   {
    "duration": 11,
    "start_time": "2023-06-03T20:45:50.743Z"
   },
   {
    "duration": 6,
    "start_time": "2023-06-03T20:45:50.756Z"
   },
   {
    "duration": 27,
    "start_time": "2023-06-03T20:45:50.764Z"
   },
   {
    "duration": 341,
    "start_time": "2023-06-03T20:45:50.793Z"
   },
   {
    "duration": 5470,
    "start_time": "2023-06-03T20:45:51.135Z"
   },
   {
    "duration": 11,
    "start_time": "2023-06-03T20:45:56.611Z"
   },
   {
    "duration": 15,
    "start_time": "2023-06-03T20:45:56.630Z"
   },
   {
    "duration": 4,
    "start_time": "2023-06-03T20:45:56.647Z"
   },
   {
    "duration": 4,
    "start_time": "2023-06-03T20:45:56.652Z"
   },
   {
    "duration": 15,
    "start_time": "2023-06-03T20:45:56.657Z"
   },
   {
    "duration": 18,
    "start_time": "2023-06-03T20:45:56.674Z"
   },
   {
    "duration": 13,
    "start_time": "2023-06-03T20:45:56.694Z"
   },
   {
    "duration": 40,
    "start_time": "2023-06-03T20:45:56.711Z"
   },
   {
    "duration": 13,
    "start_time": "2023-06-03T20:45:56.753Z"
   },
   {
    "duration": 4,
    "start_time": "2023-06-03T20:45:56.768Z"
   },
   {
    "duration": 23,
    "start_time": "2023-06-03T20:45:56.773Z"
   },
   {
    "duration": 10,
    "start_time": "2023-06-03T20:51:47.342Z"
   },
   {
    "duration": 163,
    "start_time": "2023-06-03T20:52:09.242Z"
   },
   {
    "duration": 13,
    "start_time": "2023-06-03T20:52:47.043Z"
   },
   {
    "duration": 2495,
    "start_time": "2023-06-03T20:52:58.218Z"
   },
   {
    "duration": 81,
    "start_time": "2023-06-03T20:53:00.724Z"
   },
   {
    "duration": 45,
    "start_time": "2023-06-03T20:53:00.812Z"
   },
   {
    "duration": 97,
    "start_time": "2023-06-03T20:53:00.863Z"
   },
   {
    "duration": 54,
    "start_time": "2023-06-03T20:53:00.963Z"
   },
   {
    "duration": 38,
    "start_time": "2023-06-03T20:53:01.019Z"
   },
   {
    "duration": 419,
    "start_time": "2023-06-03T20:53:01.062Z"
   },
   {
    "duration": 326,
    "start_time": "2023-06-03T20:53:01.483Z"
   },
   {
    "duration": 357,
    "start_time": "2023-06-03T20:53:01.811Z"
   },
   {
    "duration": 396,
    "start_time": "2023-06-03T20:53:02.182Z"
   },
   {
    "duration": 8,
    "start_time": "2023-06-03T20:53:02.580Z"
   },
   {
    "duration": 32,
    "start_time": "2023-06-03T20:53:02.591Z"
   },
   {
    "duration": 9,
    "start_time": "2023-06-03T20:53:02.625Z"
   },
   {
    "duration": 166,
    "start_time": "2023-06-03T20:53:02.637Z"
   },
   {
    "duration": 9,
    "start_time": "2023-06-03T20:53:02.809Z"
   },
   {
    "duration": 10,
    "start_time": "2023-06-03T20:53:02.826Z"
   },
   {
    "duration": 6,
    "start_time": "2023-06-03T20:53:02.841Z"
   },
   {
    "duration": 15,
    "start_time": "2023-06-03T20:53:02.852Z"
   },
   {
    "duration": 350,
    "start_time": "2023-06-03T20:53:02.869Z"
   },
   {
    "duration": 5018,
    "start_time": "2023-06-03T20:53:03.221Z"
   },
   {
    "duration": 9,
    "start_time": "2023-06-03T20:53:08.241Z"
   },
   {
    "duration": 7,
    "start_time": "2023-06-03T20:53:08.252Z"
   },
   {
    "duration": 5,
    "start_time": "2023-06-03T20:53:08.261Z"
   },
   {
    "duration": 15,
    "start_time": "2023-06-03T20:53:08.268Z"
   },
   {
    "duration": 40,
    "start_time": "2023-06-03T20:53:08.285Z"
   },
   {
    "duration": 22,
    "start_time": "2023-06-03T20:53:08.327Z"
   },
   {
    "duration": 16,
    "start_time": "2023-06-03T20:53:08.351Z"
   },
   {
    "duration": 25,
    "start_time": "2023-06-03T20:53:08.369Z"
   },
   {
    "duration": 24,
    "start_time": "2023-06-03T20:53:08.412Z"
   },
   {
    "duration": 8,
    "start_time": "2023-06-03T20:53:08.442Z"
   },
   {
    "duration": 3,
    "start_time": "2023-06-03T20:53:08.452Z"
   },
   {
    "duration": 5,
    "start_time": "2023-06-03T20:53:08.457Z"
   },
   {
    "duration": 26,
    "start_time": "2023-06-03T20:53:08.464Z"
   },
   {
    "duration": 32,
    "start_time": "2023-06-03T20:53:08.492Z"
   },
   {
    "duration": 218,
    "start_time": "2023-06-03T20:53:08.525Z"
   },
   {
    "duration": 8,
    "start_time": "2023-06-03T20:55:06.952Z"
   },
   {
    "duration": 28,
    "start_time": "2023-06-03T20:55:09.642Z"
   },
   {
    "duration": 3,
    "start_time": "2023-06-03T20:55:39.210Z"
   },
   {
    "duration": 4,
    "start_time": "2023-06-03T20:55:39.870Z"
   },
   {
    "duration": 4,
    "start_time": "2023-06-03T20:55:41.066Z"
   },
   {
    "duration": 19,
    "start_time": "2023-06-03T20:55:42.808Z"
   },
   {
    "duration": 124257,
    "start_time": "2023-06-03T20:55:45.757Z"
   },
   {
    "duration": 6,
    "start_time": "2023-06-03T21:03:08.647Z"
   },
   {
    "duration": 8765,
    "start_time": "2023-06-03T21:03:55.667Z"
   },
   {
    "duration": 20,
    "start_time": "2023-06-03T21:04:20.896Z"
   },
   {
    "duration": 4,
    "start_time": "2023-06-03T21:14:26.965Z"
   },
   {
    "duration": 30,
    "start_time": "2023-06-03T21:16:04.164Z"
   },
   {
    "duration": 12,
    "start_time": "2023-06-03T21:16:43.102Z"
   },
   {
    "duration": 14,
    "start_time": "2023-06-03T21:16:50.553Z"
   },
   {
    "duration": 41,
    "start_time": "2023-06-03T21:17:27.949Z"
   },
   {
    "duration": 11,
    "start_time": "2023-06-03T21:21:56.557Z"
   },
   {
    "duration": 78,
    "start_time": "2023-06-03T21:22:22.654Z"
   },
   {
    "duration": 326983,
    "start_time": "2023-06-03T21:23:18.114Z"
   },
   {
    "duration": 17253,
    "start_time": "2023-06-03T21:28:45.100Z"
   },
   {
    "duration": 27,
    "start_time": "2023-06-03T21:29:16.498Z"
   },
   {
    "duration": 1092,
    "start_time": "2023-06-03T21:29:30.743Z"
   },
   {
    "duration": 6,
    "start_time": "2023-06-03T21:34:35.978Z"
   },
   {
    "duration": 14,
    "start_time": "2023-06-03T21:34:41.283Z"
   },
   {
    "duration": 694,
    "start_time": "2023-06-03T21:34:46.291Z"
   },
   {
    "duration": 21,
    "start_time": "2023-06-03T21:35:31.196Z"
   },
   {
    "duration": 269,
    "start_time": "2023-06-03T21:35:31.867Z"
   },
   {
    "duration": 14,
    "start_time": "2023-06-03T21:35:45.445Z"
   },
   {
    "duration": 349,
    "start_time": "2023-06-03T21:35:46.196Z"
   },
   {
    "duration": 7,
    "start_time": "2023-06-03T21:38:36.632Z"
   },
   {
    "duration": 21,
    "start_time": "2023-06-03T21:38:45.814Z"
   },
   {
    "duration": 382,
    "start_time": "2023-06-03T21:38:45.839Z"
   },
   {
    "duration": 18,
    "start_time": "2023-06-03T21:40:27.171Z"
   },
   {
    "duration": 335,
    "start_time": "2023-06-03T21:40:27.743Z"
   },
   {
    "duration": 23,
    "start_time": "2023-06-03T21:41:12.934Z"
   },
   {
    "duration": 1299,
    "start_time": "2023-06-03T21:41:13.838Z"
   },
   {
    "duration": 17,
    "start_time": "2023-06-03T21:43:44.233Z"
   },
   {
    "duration": 927,
    "start_time": "2023-06-03T21:43:44.916Z"
   },
   {
    "duration": 19,
    "start_time": "2023-06-03T21:46:36.310Z"
   },
   {
    "duration": 1011,
    "start_time": "2023-06-03T21:46:37.131Z"
   },
   {
    "duration": 8,
    "start_time": "2023-06-03T21:47:40.873Z"
   },
   {
    "duration": 994,
    "start_time": "2023-06-03T21:47:41.459Z"
   },
   {
    "duration": 14,
    "start_time": "2023-06-03T21:48:04.103Z"
   },
   {
    "duration": 1075,
    "start_time": "2023-06-03T21:48:08.270Z"
   },
   {
    "duration": 15,
    "start_time": "2023-06-03T21:48:54.194Z"
   },
   {
    "duration": 1092,
    "start_time": "2023-06-03T21:48:54.745Z"
   },
   {
    "duration": 11,
    "start_time": "2023-06-03T21:49:20.310Z"
   },
   {
    "duration": 1322,
    "start_time": "2023-06-03T21:49:21.019Z"
   },
   {
    "duration": 17,
    "start_time": "2023-06-03T21:49:33.956Z"
   },
   {
    "duration": 946,
    "start_time": "2023-06-03T21:49:34.599Z"
   },
   {
    "duration": 20,
    "start_time": "2023-06-03T21:49:54.149Z"
   },
   {
    "duration": 1234,
    "start_time": "2023-06-03T21:49:54.773Z"
   },
   {
    "duration": 15,
    "start_time": "2023-06-03T21:50:03.350Z"
   },
   {
    "duration": 1131,
    "start_time": "2023-06-03T21:50:03.902Z"
   },
   {
    "duration": 18,
    "start_time": "2023-06-03T21:50:52.366Z"
   },
   {
    "duration": 1078,
    "start_time": "2023-06-03T21:50:52.950Z"
   },
   {
    "duration": 12,
    "start_time": "2023-06-03T21:51:27.911Z"
   },
   {
    "duration": 1361,
    "start_time": "2023-06-03T21:51:28.497Z"
   },
   {
    "duration": 23,
    "start_time": "2023-06-03T22:01:04.042Z"
   },
   {
    "duration": 88,
    "start_time": "2023-06-03T22:01:04.815Z"
   },
   {
    "duration": 93573,
    "start_time": "2023-06-03T22:01:05.756Z"
   },
   {
    "duration": 7993,
    "start_time": "2023-06-03T22:02:55.851Z"
   },
   {
    "duration": 124,
    "start_time": "2023-06-03T22:03:03.846Z"
   },
   {
    "duration": 33,
    "start_time": "2023-06-03T22:03:03.980Z"
   },
   {
    "duration": 54,
    "start_time": "2023-06-03T22:03:04.015Z"
   },
   {
    "duration": 14,
    "start_time": "2023-06-03T22:03:04.074Z"
   },
   {
    "duration": 9,
    "start_time": "2023-06-03T22:03:04.095Z"
   },
   {
    "duration": 564,
    "start_time": "2023-06-03T22:03:04.105Z"
   },
   {
    "duration": 408,
    "start_time": "2023-06-03T22:03:04.675Z"
   },
   {
    "duration": 609,
    "start_time": "2023-06-03T22:03:05.089Z"
   },
   {
    "duration": 402,
    "start_time": "2023-06-03T22:03:05.703Z"
   },
   {
    "duration": 18,
    "start_time": "2023-06-03T22:03:06.111Z"
   },
   {
    "duration": 15,
    "start_time": "2023-06-03T22:03:06.135Z"
   },
   {
    "duration": 11,
    "start_time": "2023-06-03T22:03:06.155Z"
   },
   {
    "duration": 205,
    "start_time": "2023-06-03T22:03:06.173Z"
   },
   {
    "duration": 16,
    "start_time": "2023-06-03T22:03:06.384Z"
   },
   {
    "duration": 24,
    "start_time": "2023-06-03T22:03:06.406Z"
   },
   {
    "duration": 17,
    "start_time": "2023-06-03T22:03:06.436Z"
   },
   {
    "duration": 16,
    "start_time": "2023-06-03T22:03:06.463Z"
   },
   {
    "duration": 337,
    "start_time": "2023-06-03T22:03:06.485Z"
   },
   {
    "duration": 6441,
    "start_time": "2023-06-03T22:03:06.830Z"
   },
   {
    "duration": 43,
    "start_time": "2023-06-03T22:03:13.279Z"
   },
   {
    "duration": 26,
    "start_time": "2023-06-03T22:03:13.332Z"
   },
   {
    "duration": 5,
    "start_time": "2023-06-03T22:03:13.368Z"
   },
   {
    "duration": 12,
    "start_time": "2023-06-03T22:03:13.389Z"
   },
   {
    "duration": 49,
    "start_time": "2023-06-03T22:03:13.403Z"
   },
   {
    "duration": 46,
    "start_time": "2023-06-03T22:03:13.453Z"
   },
   {
    "duration": 30,
    "start_time": "2023-06-03T22:03:13.514Z"
   },
   {
    "duration": 17,
    "start_time": "2023-06-03T22:03:13.547Z"
   },
   {
    "duration": 33,
    "start_time": "2023-06-03T22:03:13.566Z"
   },
   {
    "duration": 26,
    "start_time": "2023-06-03T22:03:13.604Z"
   },
   {
    "duration": 30,
    "start_time": "2023-06-03T22:03:13.635Z"
   },
   {
    "duration": 17,
    "start_time": "2023-06-03T22:03:13.671Z"
   },
   {
    "duration": 16,
    "start_time": "2023-06-03T22:03:13.701Z"
   },
   {
    "duration": 37,
    "start_time": "2023-06-03T22:03:13.724Z"
   },
   {
    "duration": 167663,
    "start_time": "2023-06-03T22:03:13.769Z"
   },
   {
    "duration": 8,
    "start_time": "2023-06-03T22:06:01.437Z"
   },
   {
    "duration": 11752,
    "start_time": "2023-06-03T22:06:01.451Z"
   },
   {
    "duration": 13,
    "start_time": "2023-06-03T22:06:13.205Z"
   },
   {
    "duration": 14,
    "start_time": "2023-06-03T22:06:13.224Z"
   },
   {
    "duration": 969,
    "start_time": "2023-06-03T22:06:13.253Z"
   },
   {
    "duration": 18,
    "start_time": "2023-06-03T22:06:14.232Z"
   },
   {
    "duration": 8,
    "start_time": "2023-06-03T22:06:14.258Z"
   },
   {
    "duration": 371231,
    "start_time": "2023-06-03T22:06:14.273Z"
   },
   {
    "duration": 13,
    "start_time": "2023-06-03T22:12:29.742Z"
   },
   {
    "duration": 129980,
    "start_time": "2023-06-03T22:12:31.761Z"
   },
   {
    "duration": 18,
    "start_time": "2023-06-03T22:14:45.848Z"
   },
   {
    "duration": 19,
    "start_time": "2023-06-03T22:14:47.856Z"
   },
   {
    "duration": 18,
    "start_time": "2023-06-03T22:15:07.794Z"
   },
   {
    "duration": 11,
    "start_time": "2023-06-03T22:15:08.534Z"
   },
   {
    "duration": 198326,
    "start_time": "2023-06-03T22:15:10.430Z"
   },
   {
    "duration": 3360,
    "start_time": "2023-06-03T22:18:38.809Z"
   },
   {
    "duration": 67,
    "start_time": "2023-06-03T22:18:42.171Z"
   },
   {
    "duration": 10,
    "start_time": "2023-06-03T22:18:42.242Z"
   },
   {
    "duration": 33,
    "start_time": "2023-06-03T22:18:42.254Z"
   },
   {
    "duration": 17,
    "start_time": "2023-06-03T22:18:42.300Z"
   },
   {
    "duration": 12,
    "start_time": "2023-06-03T22:18:42.318Z"
   },
   {
    "duration": 329,
    "start_time": "2023-06-03T22:18:42.333Z"
   },
   {
    "duration": 441,
    "start_time": "2023-06-03T22:18:42.663Z"
   },
   {
    "duration": 314,
    "start_time": "2023-06-03T22:18:43.105Z"
   },
   {
    "duration": 292,
    "start_time": "2023-06-03T22:18:43.425Z"
   },
   {
    "duration": 8,
    "start_time": "2023-06-03T22:18:43.718Z"
   },
   {
    "duration": 7,
    "start_time": "2023-06-03T22:18:43.728Z"
   },
   {
    "duration": 5,
    "start_time": "2023-06-03T22:18:43.736Z"
   },
   {
    "duration": 182,
    "start_time": "2023-06-03T22:18:43.746Z"
   },
   {
    "duration": 12,
    "start_time": "2023-06-03T22:18:43.936Z"
   },
   {
    "duration": 9,
    "start_time": "2023-06-03T22:18:43.950Z"
   },
   {
    "duration": 7,
    "start_time": "2023-06-03T22:18:43.961Z"
   },
   {
    "duration": 24,
    "start_time": "2023-06-03T22:18:43.969Z"
   },
   {
    "duration": 222,
    "start_time": "2023-06-03T22:18:43.994Z"
   },
   {
    "duration": 5216,
    "start_time": "2023-06-03T22:18:44.217Z"
   },
   {
    "duration": 5,
    "start_time": "2023-06-03T22:18:49.435Z"
   },
   {
    "duration": 5,
    "start_time": "2023-06-03T22:18:49.442Z"
   },
   {
    "duration": 4,
    "start_time": "2023-06-03T22:18:49.449Z"
   },
   {
    "duration": 5,
    "start_time": "2023-06-03T22:18:49.455Z"
   },
   {
    "duration": 11,
    "start_time": "2023-06-03T22:18:49.461Z"
   },
   {
    "duration": 29,
    "start_time": "2023-06-03T22:18:49.473Z"
   },
   {
    "duration": 23,
    "start_time": "2023-06-03T22:18:49.512Z"
   },
   {
    "duration": 12,
    "start_time": "2023-06-03T22:18:49.542Z"
   },
   {
    "duration": 12,
    "start_time": "2023-06-03T22:18:49.556Z"
   },
   {
    "duration": 4,
    "start_time": "2023-06-03T22:18:49.570Z"
   },
   {
    "duration": 9,
    "start_time": "2023-06-03T22:18:49.581Z"
   },
   {
    "duration": 22,
    "start_time": "2023-06-03T22:18:49.598Z"
   },
   {
    "duration": 8,
    "start_time": "2023-06-03T22:18:49.621Z"
   },
   {
    "duration": 24,
    "start_time": "2023-06-03T22:18:49.630Z"
   },
   {
    "duration": 141681,
    "start_time": "2023-06-03T22:18:49.656Z"
   },
   {
    "duration": 8,
    "start_time": "2023-06-03T22:21:11.338Z"
   },
   {
    "duration": 9812,
    "start_time": "2023-06-03T22:21:11.350Z"
   },
   {
    "duration": 4,
    "start_time": "2023-06-03T22:21:21.163Z"
   },
   {
    "duration": 30,
    "start_time": "2023-06-03T22:21:21.175Z"
   },
   {
    "duration": 736,
    "start_time": "2023-06-03T22:21:21.207Z"
   },
   {
    "duration": 5,
    "start_time": "2023-06-03T22:21:21.946Z"
   },
   {
    "duration": 10,
    "start_time": "2023-06-03T22:21:21.953Z"
   },
   {
    "duration": 41406,
    "start_time": "2023-06-03T22:21:21.964Z"
   },
   {
    "duration": 10,
    "start_time": "2023-06-03T22:22:29.891Z"
   },
   {
    "duration": 14,
    "start_time": "2023-06-03T22:22:30.703Z"
   },
   {
    "duration": 17990,
    "start_time": "2023-06-03T22:22:31.452Z"
   },
   {
    "duration": 4,
    "start_time": "2023-06-03T22:22:58.450Z"
   },
   {
    "duration": 10,
    "start_time": "2023-06-03T22:22:59.218Z"
   },
   {
    "duration": 27868,
    "start_time": "2023-06-03T22:22:59.995Z"
   },
   {
    "duration": 5,
    "start_time": "2023-06-03T22:23:39.239Z"
   },
   {
    "duration": 11,
    "start_time": "2023-06-03T22:23:39.896Z"
   },
   {
    "duration": 114911,
    "start_time": "2023-06-03T22:23:40.538Z"
   },
   {
    "duration": 14,
    "start_time": "2023-06-03T22:26:29.634Z"
   },
   {
    "duration": 82262,
    "start_time": "2023-06-03T22:26:36.472Z"
   },
   {
    "duration": 17,
    "start_time": "2023-06-03T22:28:11.670Z"
   },
   {
    "duration": 20136,
    "start_time": "2023-06-03T22:28:12.714Z"
   },
   {
    "duration": 9,
    "start_time": "2023-06-03T22:28:39.836Z"
   },
   {
    "duration": 10550,
    "start_time": "2023-06-03T22:28:40.800Z"
   },
   {
    "duration": 3573,
    "start_time": "2023-06-03T22:28:58.532Z"
   },
   {
    "duration": 51,
    "start_time": "2023-06-03T22:29:02.108Z"
   },
   {
    "duration": 12,
    "start_time": "2023-06-03T22:29:02.160Z"
   },
   {
    "duration": 74,
    "start_time": "2023-06-03T22:29:02.174Z"
   },
   {
    "duration": 17,
    "start_time": "2023-06-03T22:29:02.250Z"
   },
   {
    "duration": 25,
    "start_time": "2023-06-03T22:29:02.269Z"
   },
   {
    "duration": 418,
    "start_time": "2023-06-03T22:29:02.296Z"
   },
   {
    "duration": 465,
    "start_time": "2023-06-03T22:29:02.716Z"
   },
   {
    "duration": 358,
    "start_time": "2023-06-03T22:29:03.183Z"
   },
   {
    "duration": 345,
    "start_time": "2023-06-03T22:29:03.544Z"
   },
   {
    "duration": 13,
    "start_time": "2023-06-03T22:29:03.893Z"
   },
   {
    "duration": 16,
    "start_time": "2023-06-03T22:29:03.911Z"
   },
   {
    "duration": 10,
    "start_time": "2023-06-03T22:29:03.935Z"
   },
   {
    "duration": 200,
    "start_time": "2023-06-03T22:29:03.947Z"
   },
   {
    "duration": 5,
    "start_time": "2023-06-03T22:29:04.149Z"
   },
   {
    "duration": 14,
    "start_time": "2023-06-03T22:29:04.156Z"
   },
   {
    "duration": 46,
    "start_time": "2023-06-03T22:29:04.172Z"
   },
   {
    "duration": 12,
    "start_time": "2023-06-03T22:29:04.228Z"
   },
   {
    "duration": 244,
    "start_time": "2023-06-03T22:29:04.245Z"
   },
   {
    "duration": 4947,
    "start_time": "2023-06-03T22:29:04.491Z"
   },
   {
    "duration": 6,
    "start_time": "2023-06-03T22:29:09.440Z"
   },
   {
    "duration": 24,
    "start_time": "2023-06-03T22:29:09.448Z"
   },
   {
    "duration": 48,
    "start_time": "2023-06-03T22:29:09.473Z"
   },
   {
    "duration": 12,
    "start_time": "2023-06-03T22:29:09.530Z"
   },
   {
    "duration": 27,
    "start_time": "2023-06-03T22:29:09.543Z"
   },
   {
    "duration": 43,
    "start_time": "2023-06-03T22:29:09.571Z"
   },
   {
    "duration": 34,
    "start_time": "2023-06-03T22:29:09.618Z"
   },
   {
    "duration": 12,
    "start_time": "2023-06-03T22:29:09.656Z"
   },
   {
    "duration": 43,
    "start_time": "2023-06-03T22:29:09.669Z"
   },
   {
    "duration": 33,
    "start_time": "2023-06-03T22:29:09.714Z"
   },
   {
    "duration": 18,
    "start_time": "2023-06-03T22:29:09.748Z"
   },
   {
    "duration": 25,
    "start_time": "2023-06-03T22:29:09.768Z"
   },
   {
    "duration": 20,
    "start_time": "2023-06-03T22:29:09.807Z"
   },
   {
    "duration": 12,
    "start_time": "2023-06-03T22:29:09.832Z"
   },
   {
    "duration": 145980,
    "start_time": "2023-06-03T22:29:09.845Z"
   },
   {
    "duration": 7,
    "start_time": "2023-06-03T22:31:35.830Z"
   },
   {
    "duration": 10133,
    "start_time": "2023-06-03T22:31:35.840Z"
   },
   {
    "duration": 10,
    "start_time": "2023-06-03T22:31:45.977Z"
   },
   {
    "duration": 13,
    "start_time": "2023-06-03T22:31:45.993Z"
   },
   {
    "duration": 703,
    "start_time": "2023-06-03T22:31:46.010Z"
   },
   {
    "duration": 6,
    "start_time": "2023-06-03T22:31:46.715Z"
   },
   {
    "duration": 6,
    "start_time": "2023-06-03T22:31:46.722Z"
   },
   {
    "duration": 23543,
    "start_time": "2023-06-03T22:31:46.730Z"
   },
   {
    "duration": 6,
    "start_time": "2023-06-03T22:32:20.251Z"
   },
   {
    "duration": 25,
    "start_time": "2023-06-03T22:32:20.908Z"
   },
   {
    "duration": 403924,
    "start_time": "2023-06-03T22:32:21.526Z"
   },
   {
    "duration": 3288,
    "start_time": "2023-06-03T22:39:16.605Z"
   },
   {
    "duration": 52,
    "start_time": "2023-06-03T22:39:19.895Z"
   },
   {
    "duration": 11,
    "start_time": "2023-06-03T22:39:19.949Z"
   },
   {
    "duration": 29,
    "start_time": "2023-06-03T22:39:19.962Z"
   },
   {
    "duration": 7,
    "start_time": "2023-06-03T22:39:19.997Z"
   },
   {
    "duration": 18,
    "start_time": "2023-06-03T22:39:20.014Z"
   },
   {
    "duration": 336,
    "start_time": "2023-06-03T22:39:20.033Z"
   },
   {
    "duration": 315,
    "start_time": "2023-06-03T22:39:20.370Z"
   },
   {
    "duration": 460,
    "start_time": "2023-06-03T22:39:20.686Z"
   },
   {
    "duration": 296,
    "start_time": "2023-06-03T22:39:21.147Z"
   },
   {
    "duration": 7,
    "start_time": "2023-06-03T22:39:21.444Z"
   },
   {
    "duration": 7,
    "start_time": "2023-06-03T22:39:21.453Z"
   },
   {
    "duration": 21,
    "start_time": "2023-06-03T22:39:21.461Z"
   },
   {
    "duration": 177,
    "start_time": "2023-06-03T22:39:21.486Z"
   },
   {
    "duration": 4,
    "start_time": "2023-06-03T22:39:21.665Z"
   },
   {
    "duration": 16,
    "start_time": "2023-06-03T22:39:21.677Z"
   },
   {
    "duration": 12,
    "start_time": "2023-06-03T22:39:21.694Z"
   },
   {
    "duration": 23,
    "start_time": "2023-06-03T22:39:21.708Z"
   },
   {
    "duration": 209,
    "start_time": "2023-06-03T22:39:21.734Z"
   },
   {
    "duration": 5100,
    "start_time": "2023-06-03T22:39:21.945Z"
   },
   {
    "duration": 5,
    "start_time": "2023-06-03T22:39:27.047Z"
   },
   {
    "duration": 9,
    "start_time": "2023-06-03T22:39:27.054Z"
   },
   {
    "duration": 5,
    "start_time": "2023-06-03T22:39:27.065Z"
   },
   {
    "duration": 8,
    "start_time": "2023-06-03T22:39:27.071Z"
   },
   {
    "duration": 22,
    "start_time": "2023-06-03T22:39:27.081Z"
   },
   {
    "duration": 36,
    "start_time": "2023-06-03T22:39:27.105Z"
   },
   {
    "duration": 16,
    "start_time": "2023-06-03T22:39:27.145Z"
   },
   {
    "duration": 18,
    "start_time": "2023-06-03T22:39:27.163Z"
   },
   {
    "duration": 25,
    "start_time": "2023-06-03T22:39:27.183Z"
   },
   {
    "duration": 6,
    "start_time": "2023-06-03T22:39:27.210Z"
   },
   {
    "duration": 16,
    "start_time": "2023-06-03T22:39:27.218Z"
   },
   {
    "duration": 14,
    "start_time": "2023-06-03T22:39:27.237Z"
   },
   {
    "duration": 18,
    "start_time": "2023-06-03T22:39:27.252Z"
   },
   {
    "duration": 28,
    "start_time": "2023-06-03T22:39:27.272Z"
   },
   {
    "duration": 147897,
    "start_time": "2023-06-03T22:39:27.302Z"
   },
   {
    "duration": 9,
    "start_time": "2023-06-03T22:41:55.212Z"
   },
   {
    "duration": 9941,
    "start_time": "2023-06-03T22:41:55.223Z"
   },
   {
    "duration": 4,
    "start_time": "2023-06-03T22:42:05.166Z"
   },
   {
    "duration": 17,
    "start_time": "2023-06-03T22:42:05.180Z"
   },
   {
    "duration": 673,
    "start_time": "2023-06-03T22:42:05.209Z"
   },
   {
    "duration": 7,
    "start_time": "2023-06-03T22:42:05.887Z"
   },
   {
    "duration": 17,
    "start_time": "2023-06-03T22:42:05.896Z"
   },
   {
    "duration": 154952,
    "start_time": "2023-06-03T22:42:05.915Z"
   },
   {
    "duration": 3,
    "start_time": "2023-06-03T22:54:40.276Z"
   },
   {
    "duration": 7,
    "start_time": "2023-06-03T22:54:41.706Z"
   },
   {
    "duration": 9,
    "start_time": "2023-06-03T22:54:42.502Z"
   },
   {
    "duration": 12,
    "start_time": "2023-06-03T22:54:45.226Z"
   },
   {
    "duration": 49844,
    "start_time": "2023-06-03T22:54:45.510Z"
   },
   {
    "duration": 12,
    "start_time": "2023-06-03T22:56:07.205Z"
   },
   {
    "duration": 10,
    "start_time": "2023-06-03T22:56:07.914Z"
   },
   {
    "duration": 10,
    "start_time": "2023-06-03T22:56:08.716Z"
   },
   {
    "duration": 8,
    "start_time": "2023-06-03T22:56:09.652Z"
   },
   {
    "duration": 146591,
    "start_time": "2023-06-03T22:56:10.425Z"
   },
   {
    "duration": 4,
    "start_time": "2023-06-03T22:59:11.542Z"
   },
   {
    "duration": 5,
    "start_time": "2023-06-03T22:59:12.229Z"
   },
   {
    "duration": 9,
    "start_time": "2023-06-03T22:59:12.927Z"
   },
   {
    "duration": 143135,
    "start_time": "2023-06-03T22:59:13.650Z"
   },
   {
    "duration": 6,
    "start_time": "2023-06-03T23:01:49.021Z"
   },
   {
    "duration": 9840,
    "start_time": "2023-06-03T23:01:49.875Z"
   },
   {
    "duration": 5,
    "start_time": "2023-06-03T23:01:59.724Z"
   },
   {
    "duration": 5,
    "start_time": "2023-06-03T23:02:03.857Z"
   },
   {
    "duration": 670,
    "start_time": "2023-06-03T23:02:04.762Z"
   },
   {
    "duration": 7,
    "start_time": "2023-06-03T23:03:48.202Z"
   },
   {
    "duration": 5,
    "start_time": "2023-06-03T23:06:18.047Z"
   },
   {
    "duration": 8,
    "start_time": "2023-06-03T23:06:30.287Z"
   },
   {
    "duration": 154275,
    "start_time": "2023-06-03T23:06:34.271Z"
   },
   {
    "duration": 150585,
    "start_time": "2023-06-03T23:13:52.656Z"
   },
   {
    "duration": 158206,
    "start_time": "2023-06-03T23:16:56.114Z"
   },
   {
    "duration": 6,
    "start_time": "2023-06-03T23:20:00.333Z"
   },
   {
    "duration": 5,
    "start_time": "2023-06-03T23:20:01.041Z"
   },
   {
    "duration": 3025,
    "start_time": "2023-06-03T23:38:23.690Z"
   },
   {
    "duration": 35,
    "start_time": "2023-06-03T23:38:26.717Z"
   },
   {
    "duration": 10,
    "start_time": "2023-06-03T23:38:26.753Z"
   },
   {
    "duration": 22,
    "start_time": "2023-06-03T23:38:26.765Z"
   },
   {
    "duration": 9,
    "start_time": "2023-06-03T23:38:26.789Z"
   },
   {
    "duration": 9,
    "start_time": "2023-06-03T23:38:26.803Z"
   },
   {
    "duration": 288,
    "start_time": "2023-06-03T23:38:26.817Z"
   },
   {
    "duration": 394,
    "start_time": "2023-06-03T23:38:27.114Z"
   },
   {
    "duration": 329,
    "start_time": "2023-06-03T23:38:27.510Z"
   },
   {
    "duration": 289,
    "start_time": "2023-06-03T23:38:27.841Z"
   },
   {
    "duration": 8,
    "start_time": "2023-06-03T23:38:28.131Z"
   },
   {
    "duration": 13,
    "start_time": "2023-06-03T23:38:28.140Z"
   },
   {
    "duration": 11,
    "start_time": "2023-06-03T23:38:28.154Z"
   },
   {
    "duration": 156,
    "start_time": "2023-06-03T23:38:28.167Z"
   },
   {
    "duration": 5,
    "start_time": "2023-06-03T23:38:28.325Z"
   },
   {
    "duration": 8,
    "start_time": "2023-06-03T23:38:28.331Z"
   },
   {
    "duration": 7,
    "start_time": "2023-06-03T23:38:28.340Z"
   },
   {
    "duration": 48,
    "start_time": "2023-06-03T23:38:28.348Z"
   },
   {
    "duration": 168,
    "start_time": "2023-06-03T23:38:28.402Z"
   },
   {
    "duration": 4398,
    "start_time": "2023-06-03T23:38:28.572Z"
   },
   {
    "duration": 6,
    "start_time": "2023-06-03T23:38:32.972Z"
   },
   {
    "duration": 5,
    "start_time": "2023-06-03T23:38:32.980Z"
   },
   {
    "duration": 4,
    "start_time": "2023-06-03T23:38:32.988Z"
   },
   {
    "duration": 3,
    "start_time": "2023-06-03T23:38:32.994Z"
   },
   {
    "duration": 19,
    "start_time": "2023-06-03T23:38:33.001Z"
   },
   {
    "duration": 10,
    "start_time": "2023-06-03T23:38:33.022Z"
   },
   {
    "duration": 13,
    "start_time": "2023-06-03T23:38:33.033Z"
   },
   {
    "duration": 37,
    "start_time": "2023-06-03T23:38:33.049Z"
   },
   {
    "duration": 21,
    "start_time": "2023-06-03T23:38:33.090Z"
   },
   {
    "duration": 5,
    "start_time": "2023-06-03T23:38:33.112Z"
   },
   {
    "duration": 6,
    "start_time": "2023-06-03T23:38:33.119Z"
   },
   {
    "duration": 5,
    "start_time": "2023-06-03T23:38:33.126Z"
   },
   {
    "duration": 9,
    "start_time": "2023-06-03T23:38:33.133Z"
   },
   {
    "duration": 198,
    "start_time": "2023-06-03T23:38:33.144Z"
   },
   {
    "duration": 0,
    "start_time": "2023-06-03T23:38:33.344Z"
   },
   {
    "duration": 0,
    "start_time": "2023-06-03T23:38:33.345Z"
   },
   {
    "duration": 0,
    "start_time": "2023-06-03T23:38:33.346Z"
   },
   {
    "duration": 0,
    "start_time": "2023-06-03T23:38:33.347Z"
   },
   {
    "duration": 0,
    "start_time": "2023-06-03T23:38:33.348Z"
   },
   {
    "duration": 0,
    "start_time": "2023-06-03T23:38:33.349Z"
   },
   {
    "duration": 0,
    "start_time": "2023-06-03T23:38:33.350Z"
   },
   {
    "duration": 0,
    "start_time": "2023-06-03T23:38:33.351Z"
   },
   {
    "duration": 0,
    "start_time": "2023-06-03T23:38:33.353Z"
   },
   {
    "duration": 0,
    "start_time": "2023-06-03T23:38:33.353Z"
   },
   {
    "duration": 0,
    "start_time": "2023-06-03T23:38:33.354Z"
   },
   {
    "duration": 0,
    "start_time": "2023-06-03T23:38:33.355Z"
   },
   {
    "duration": 0,
    "start_time": "2023-06-03T23:38:33.356Z"
   },
   {
    "duration": 12,
    "start_time": "2023-06-03T23:39:15.815Z"
   },
   {
    "duration": 3100,
    "start_time": "2023-06-03T23:39:23.001Z"
   },
   {
    "duration": 40,
    "start_time": "2023-06-03T23:39:26.103Z"
   },
   {
    "duration": 11,
    "start_time": "2023-06-03T23:39:26.144Z"
   },
   {
    "duration": 30,
    "start_time": "2023-06-03T23:39:26.156Z"
   },
   {
    "duration": 8,
    "start_time": "2023-06-03T23:39:26.192Z"
   },
   {
    "duration": 5,
    "start_time": "2023-06-03T23:39:26.202Z"
   },
   {
    "duration": 309,
    "start_time": "2023-06-03T23:39:26.215Z"
   },
   {
    "duration": 258,
    "start_time": "2023-06-03T23:39:26.526Z"
   },
   {
    "duration": 398,
    "start_time": "2023-06-03T23:39:26.786Z"
   },
   {
    "duration": 279,
    "start_time": "2023-06-03T23:39:27.193Z"
   },
   {
    "duration": 9,
    "start_time": "2023-06-03T23:39:27.475Z"
   },
   {
    "duration": 19,
    "start_time": "2023-06-03T23:39:27.485Z"
   },
   {
    "duration": 13,
    "start_time": "2023-06-03T23:39:27.506Z"
   },
   {
    "duration": 143,
    "start_time": "2023-06-03T23:39:27.523Z"
   },
   {
    "duration": 20,
    "start_time": "2023-06-03T23:39:27.668Z"
   },
   {
    "duration": 10,
    "start_time": "2023-06-03T23:39:27.695Z"
   },
   {
    "duration": 7,
    "start_time": "2023-06-03T23:39:27.707Z"
   },
   {
    "duration": 11,
    "start_time": "2023-06-03T23:39:27.717Z"
   },
   {
    "duration": 191,
    "start_time": "2023-06-03T23:39:27.730Z"
   },
   {
    "duration": 4544,
    "start_time": "2023-06-03T23:39:27.923Z"
   },
   {
    "duration": 5,
    "start_time": "2023-06-03T23:39:32.468Z"
   },
   {
    "duration": 18,
    "start_time": "2023-06-03T23:39:32.474Z"
   },
   {
    "duration": 4,
    "start_time": "2023-06-03T23:39:32.494Z"
   },
   {
    "duration": 3,
    "start_time": "2023-06-03T23:39:32.500Z"
   },
   {
    "duration": 11,
    "start_time": "2023-06-03T23:39:32.514Z"
   },
   {
    "duration": 11,
    "start_time": "2023-06-03T23:39:32.526Z"
   },
   {
    "duration": 11,
    "start_time": "2023-06-03T23:39:32.538Z"
   },
   {
    "duration": 10,
    "start_time": "2023-06-03T23:39:32.551Z"
   },
   {
    "duration": 28,
    "start_time": "2023-06-03T23:39:32.563Z"
   },
   {
    "duration": 12,
    "start_time": "2023-06-03T23:39:32.601Z"
   },
   {
    "duration": 3,
    "start_time": "2023-06-03T23:39:32.616Z"
   },
   {
    "duration": 4,
    "start_time": "2023-06-03T23:39:32.621Z"
   },
   {
    "duration": 4,
    "start_time": "2023-06-03T23:39:32.627Z"
   },
   {
    "duration": 3,
    "start_time": "2023-06-03T23:39:32.633Z"
   },
   {
    "duration": 218,
    "start_time": "2023-06-03T23:39:32.637Z"
   },
   {
    "duration": 0,
    "start_time": "2023-06-03T23:39:32.857Z"
   },
   {
    "duration": 0,
    "start_time": "2023-06-03T23:39:32.858Z"
   },
   {
    "duration": 0,
    "start_time": "2023-06-03T23:39:32.860Z"
   },
   {
    "duration": 0,
    "start_time": "2023-06-03T23:39:32.860Z"
   },
   {
    "duration": 0,
    "start_time": "2023-06-03T23:39:32.862Z"
   },
   {
    "duration": 0,
    "start_time": "2023-06-03T23:39:32.884Z"
   },
   {
    "duration": 0,
    "start_time": "2023-06-03T23:39:32.885Z"
   },
   {
    "duration": 0,
    "start_time": "2023-06-03T23:39:32.886Z"
   },
   {
    "duration": 0,
    "start_time": "2023-06-03T23:39:32.887Z"
   },
   {
    "duration": 0,
    "start_time": "2023-06-03T23:39:32.887Z"
   },
   {
    "duration": 0,
    "start_time": "2023-06-03T23:39:32.888Z"
   },
   {
    "duration": 0,
    "start_time": "2023-06-03T23:39:32.891Z"
   },
   {
    "duration": 6,
    "start_time": "2023-06-03T23:40:11.716Z"
   },
   {
    "duration": 19735,
    "start_time": "2023-06-03T23:40:37.756Z"
   },
   {
    "duration": 4,
    "start_time": "2023-06-03T23:41:31.180Z"
   },
   {
    "duration": 5,
    "start_time": "2023-06-03T23:41:31.749Z"
   },
   {
    "duration": 4,
    "start_time": "2023-06-03T23:41:32.246Z"
   },
   {
    "duration": 3,
    "start_time": "2023-06-03T23:41:32.757Z"
   },
   {
    "duration": 5,
    "start_time": "2023-06-03T23:41:33.354Z"
   },
   {
    "duration": 23366,
    "start_time": "2023-06-03T23:41:34.331Z"
   },
   {
    "duration": 5,
    "start_time": "2023-06-03T23:43:34.434Z"
   },
   {
    "duration": 2436,
    "start_time": "2023-06-03T23:43:35.042Z"
   },
   {
    "duration": 3,
    "start_time": "2023-06-03T23:46:05.530Z"
   },
   {
    "duration": 4,
    "start_time": "2023-06-03T23:46:06.409Z"
   },
   {
    "duration": 5,
    "start_time": "2023-06-03T23:46:20.602Z"
   },
   {
    "duration": 4,
    "start_time": "2023-06-03T23:46:23.620Z"
   },
   {
    "duration": 4,
    "start_time": "2023-06-03T23:46:50.535Z"
   },
   {
    "duration": 49515,
    "start_time": "2023-06-03T23:46:51.510Z"
   },
   {
    "duration": 137,
    "start_time": "2023-06-03T23:49:01.683Z"
   },
   {
    "duration": 907,
    "start_time": "2023-06-03T23:49:18.906Z"
   },
   {
    "duration": 893,
    "start_time": "2023-06-03T23:49:42.006Z"
   },
   {
    "duration": 99703,
    "start_time": "2023-06-03T23:50:01.111Z"
   },
   {
    "duration": 21,
    "start_time": "2023-06-03T23:54:37.567Z"
   },
   {
    "duration": 3048,
    "start_time": "2023-06-03T23:55:56.959Z"
   },
   {
    "duration": 38,
    "start_time": "2023-06-03T23:56:00.011Z"
   },
   {
    "duration": 19,
    "start_time": "2023-06-03T23:56:00.052Z"
   },
   {
    "duration": 54,
    "start_time": "2023-06-03T23:56:00.073Z"
   },
   {
    "duration": 6,
    "start_time": "2023-06-03T23:56:00.128Z"
   },
   {
    "duration": 25,
    "start_time": "2023-06-03T23:56:00.135Z"
   },
   {
    "duration": 342,
    "start_time": "2023-06-03T23:56:00.161Z"
   },
   {
    "duration": 434,
    "start_time": "2023-06-03T23:56:00.505Z"
   },
   {
    "duration": 307,
    "start_time": "2023-06-03T23:56:00.941Z"
   },
   {
    "duration": 281,
    "start_time": "2023-06-03T23:56:01.252Z"
   },
   {
    "duration": 7,
    "start_time": "2023-06-03T23:56:01.535Z"
   },
   {
    "duration": 13,
    "start_time": "2023-06-03T23:56:01.544Z"
   },
   {
    "duration": 30,
    "start_time": "2023-06-03T23:56:01.559Z"
   },
   {
    "duration": 149,
    "start_time": "2023-06-03T23:56:01.590Z"
   },
   {
    "duration": 4,
    "start_time": "2023-06-03T23:56:01.741Z"
   },
   {
    "duration": 14,
    "start_time": "2023-06-03T23:56:01.746Z"
   },
   {
    "duration": 26,
    "start_time": "2023-06-03T23:56:01.762Z"
   },
   {
    "duration": 11,
    "start_time": "2023-06-03T23:56:01.794Z"
   },
   {
    "duration": 181,
    "start_time": "2023-06-03T23:56:01.808Z"
   },
   {
    "duration": 4456,
    "start_time": "2023-06-03T23:56:01.991Z"
   },
   {
    "duration": 5,
    "start_time": "2023-06-03T23:56:06.448Z"
   },
   {
    "duration": 6,
    "start_time": "2023-06-03T23:56:06.454Z"
   },
   {
    "duration": 5,
    "start_time": "2023-06-03T23:56:06.462Z"
   },
   {
    "duration": 10,
    "start_time": "2023-06-03T23:56:06.468Z"
   },
   {
    "duration": 15,
    "start_time": "2023-06-03T23:56:06.481Z"
   },
   {
    "duration": 14,
    "start_time": "2023-06-03T23:56:06.498Z"
   },
   {
    "duration": 14,
    "start_time": "2023-06-03T23:56:06.514Z"
   },
   {
    "duration": 9,
    "start_time": "2023-06-03T23:56:06.531Z"
   },
   {
    "duration": 12,
    "start_time": "2023-06-03T23:56:06.541Z"
   },
   {
    "duration": 25,
    "start_time": "2023-06-03T23:56:06.554Z"
   },
   {
    "duration": 4,
    "start_time": "2023-06-03T23:56:06.580Z"
   },
   {
    "duration": 5,
    "start_time": "2023-06-03T23:56:06.586Z"
   },
   {
    "duration": 3,
    "start_time": "2023-06-03T23:56:06.593Z"
   },
   {
    "duration": 14,
    "start_time": "2023-06-03T23:56:06.599Z"
   },
   {
    "duration": 5,
    "start_time": "2023-06-03T23:56:06.615Z"
   },
   {
    "duration": 55195,
    "start_time": "2023-06-03T23:56:06.621Z"
   },
   {
    "duration": 206,
    "start_time": "2023-06-03T23:57:01.818Z"
   },
   {
    "duration": 0,
    "start_time": "2023-06-03T23:57:02.026Z"
   },
   {
    "duration": 0,
    "start_time": "2023-06-03T23:57:02.027Z"
   },
   {
    "duration": 0,
    "start_time": "2023-06-03T23:57:02.028Z"
   },
   {
    "duration": 0,
    "start_time": "2023-06-03T23:57:02.029Z"
   },
   {
    "duration": 0,
    "start_time": "2023-06-03T23:57:02.030Z"
   },
   {
    "duration": 0,
    "start_time": "2023-06-03T23:57:02.031Z"
   },
   {
    "duration": 0,
    "start_time": "2023-06-03T23:57:02.032Z"
   },
   {
    "duration": 0,
    "start_time": "2023-06-03T23:57:02.033Z"
   },
   {
    "duration": 0,
    "start_time": "2023-06-03T23:57:02.034Z"
   },
   {
    "duration": 0,
    "start_time": "2023-06-03T23:57:02.035Z"
   },
   {
    "duration": 0,
    "start_time": "2023-06-03T23:57:02.036Z"
   },
   {
    "duration": 0,
    "start_time": "2023-06-03T23:57:02.037Z"
   },
   {
    "duration": 0,
    "start_time": "2023-06-03T23:57:02.039Z"
   },
   {
    "duration": 0,
    "start_time": "2023-06-03T23:57:02.040Z"
   },
   {
    "duration": 6,
    "start_time": "2023-06-03T23:58:35.147Z"
   },
   {
    "duration": 62521,
    "start_time": "2023-06-03T23:58:37.008Z"
   },
   {
    "duration": 5,
    "start_time": "2023-06-04T00:01:41.431Z"
   },
   {
    "duration": 9,
    "start_time": "2023-06-04T00:01:44.088Z"
   },
   {
    "duration": 10,
    "start_time": "2023-06-04T00:02:11.983Z"
   },
   {
    "duration": 5,
    "start_time": "2023-06-04T00:02:43.232Z"
   },
   {
    "duration": 6,
    "start_time": "2023-06-04T00:02:45.183Z"
   },
   {
    "duration": 5,
    "start_time": "2023-06-04T00:02:45.192Z"
   },
   {
    "duration": 161759,
    "start_time": "2023-06-04T00:02:45.644Z"
   },
   {
    "duration": 11,
    "start_time": "2023-06-04T00:08:24.733Z"
   },
   {
    "duration": 2839,
    "start_time": "2023-06-04T00:11:29.507Z"
   },
   {
    "duration": 36,
    "start_time": "2023-06-04T00:11:32.348Z"
   },
   {
    "duration": 15,
    "start_time": "2023-06-04T00:11:32.385Z"
   },
   {
    "duration": 26,
    "start_time": "2023-06-04T00:11:32.401Z"
   },
   {
    "duration": 3,
    "start_time": "2023-06-04T00:11:32.429Z"
   },
   {
    "duration": 5,
    "start_time": "2023-06-04T00:11:32.433Z"
   },
   {
    "duration": 294,
    "start_time": "2023-06-04T00:11:32.440Z"
   },
   {
    "duration": 259,
    "start_time": "2023-06-04T00:11:32.736Z"
   },
   {
    "duration": 392,
    "start_time": "2023-06-04T00:11:32.997Z"
   },
   {
    "duration": 237,
    "start_time": "2023-06-04T00:11:33.391Z"
   },
   {
    "duration": 7,
    "start_time": "2023-06-04T00:11:33.630Z"
   },
   {
    "duration": 13,
    "start_time": "2023-06-04T00:11:33.638Z"
   },
   {
    "duration": 6,
    "start_time": "2023-06-04T00:11:33.653Z"
   },
   {
    "duration": 148,
    "start_time": "2023-06-04T00:11:33.660Z"
   },
   {
    "duration": 4,
    "start_time": "2023-06-04T00:11:33.810Z"
   },
   {
    "duration": 11,
    "start_time": "2023-06-04T00:11:33.815Z"
   },
   {
    "duration": 12,
    "start_time": "2023-06-04T00:11:33.828Z"
   },
   {
    "duration": 15,
    "start_time": "2023-06-04T00:11:33.841Z"
   },
   {
    "duration": 181,
    "start_time": "2023-06-04T00:11:33.857Z"
   },
   {
    "duration": 4387,
    "start_time": "2023-06-04T00:11:34.040Z"
   },
   {
    "duration": 5,
    "start_time": "2023-06-04T00:11:38.428Z"
   },
   {
    "duration": 16,
    "start_time": "2023-06-04T00:11:38.435Z"
   },
   {
    "duration": 14,
    "start_time": "2023-06-04T00:11:38.453Z"
   },
   {
    "duration": 21,
    "start_time": "2023-06-04T00:11:38.469Z"
   },
   {
    "duration": 25,
    "start_time": "2023-06-04T00:11:38.494Z"
   },
   {
    "duration": 3,
    "start_time": "2023-06-04T00:11:38.521Z"
   },
   {
    "duration": 18,
    "start_time": "2023-06-04T00:11:38.526Z"
   },
   {
    "duration": 190,
    "start_time": "2023-06-04T00:11:38.549Z"
   },
   {
    "duration": 0,
    "start_time": "2023-06-04T00:11:38.741Z"
   },
   {
    "duration": 0,
    "start_time": "2023-06-04T00:11:38.742Z"
   },
   {
    "duration": 0,
    "start_time": "2023-06-04T00:11:38.743Z"
   },
   {
    "duration": 0,
    "start_time": "2023-06-04T00:11:38.745Z"
   },
   {
    "duration": 0,
    "start_time": "2023-06-04T00:11:38.746Z"
   },
   {
    "duration": 0,
    "start_time": "2023-06-04T00:11:38.747Z"
   },
   {
    "duration": 0,
    "start_time": "2023-06-04T00:11:38.749Z"
   },
   {
    "duration": 0,
    "start_time": "2023-06-04T00:11:38.750Z"
   },
   {
    "duration": 0,
    "start_time": "2023-06-04T00:11:38.752Z"
   },
   {
    "duration": 0,
    "start_time": "2023-06-04T00:11:38.753Z"
   },
   {
    "duration": 0,
    "start_time": "2023-06-04T00:11:38.780Z"
   },
   {
    "duration": 0,
    "start_time": "2023-06-04T00:11:38.780Z"
   },
   {
    "duration": 0,
    "start_time": "2023-06-04T00:11:38.781Z"
   },
   {
    "duration": 0,
    "start_time": "2023-06-04T00:11:38.782Z"
   },
   {
    "duration": 0,
    "start_time": "2023-06-04T00:11:38.785Z"
   },
   {
    "duration": 0,
    "start_time": "2023-06-04T00:11:38.786Z"
   },
   {
    "duration": 0,
    "start_time": "2023-06-04T00:11:38.789Z"
   },
   {
    "duration": 0,
    "start_time": "2023-06-04T00:11:38.790Z"
   },
   {
    "duration": 0,
    "start_time": "2023-06-04T00:11:38.791Z"
   },
   {
    "duration": 0,
    "start_time": "2023-06-04T00:11:38.791Z"
   },
   {
    "duration": 0,
    "start_time": "2023-06-04T00:11:38.792Z"
   },
   {
    "duration": 0,
    "start_time": "2023-06-04T00:11:38.796Z"
   },
   {
    "duration": 0,
    "start_time": "2023-06-04T00:11:38.797Z"
   },
   {
    "duration": 0,
    "start_time": "2023-06-04T00:11:38.798Z"
   },
   {
    "duration": 0,
    "start_time": "2023-06-04T00:11:38.799Z"
   },
   {
    "duration": 0,
    "start_time": "2023-06-04T00:11:38.800Z"
   },
   {
    "duration": 0,
    "start_time": "2023-06-04T00:11:38.801Z"
   },
   {
    "duration": 0,
    "start_time": "2023-06-04T00:11:38.802Z"
   },
   {
    "duration": 6,
    "start_time": "2023-06-04T00:12:21.504Z"
   },
   {
    "duration": 11,
    "start_time": "2023-06-04T00:12:36.555Z"
   },
   {
    "duration": 14,
    "start_time": "2023-06-04T00:13:04.368Z"
   },
   {
    "duration": 4,
    "start_time": "2023-06-04T00:13:24.097Z"
   },
   {
    "duration": 3,
    "start_time": "2023-06-04T00:13:27.036Z"
   },
   {
    "duration": 5,
    "start_time": "2023-06-04T00:13:28.687Z"
   },
   {
    "duration": 4,
    "start_time": "2023-06-04T00:13:30.169Z"
   },
   {
    "duration": 3,
    "start_time": "2023-06-04T00:13:31.237Z"
   },
   {
    "duration": 5,
    "start_time": "2023-06-04T00:13:32.148Z"
   },
   {
    "duration": 14460,
    "start_time": "2023-06-04T00:13:32.943Z"
   },
   {
    "duration": 6,
    "start_time": "2023-06-04T00:13:47.405Z"
   },
   {
    "duration": 43636,
    "start_time": "2023-06-04T00:13:47.412Z"
   },
   {
    "duration": 6,
    "start_time": "2023-06-04T00:14:45.205Z"
   },
   {
    "duration": 5,
    "start_time": "2023-06-04T00:14:46.344Z"
   },
   {
    "duration": 4,
    "start_time": "2023-06-04T00:14:48.019Z"
   },
   {
    "duration": 107239,
    "start_time": "2023-06-04T00:14:48.754Z"
   },
   {
    "duration": 4,
    "start_time": "2023-06-04T00:19:04.454Z"
   },
   {
    "duration": 2,
    "start_time": "2023-06-04T00:19:05.429Z"
   },
   {
    "duration": 6,
    "start_time": "2023-06-04T00:19:06.017Z"
   },
   {
    "duration": 5,
    "start_time": "2023-06-04T00:19:06.689Z"
   },
   {
    "duration": 6,
    "start_time": "2023-06-04T00:19:07.674Z"
   },
   {
    "duration": 5,
    "start_time": "2023-06-04T00:19:08.323Z"
   },
   {
    "duration": 111029,
    "start_time": "2023-06-04T00:19:09.164Z"
   },
   {
    "duration": 4,
    "start_time": "2023-06-04T00:21:11.353Z"
   },
   {
    "duration": 3,
    "start_time": "2023-06-04T00:21:12.387Z"
   },
   {
    "duration": 4,
    "start_time": "2023-06-04T00:21:13.840Z"
   },
   {
    "duration": 4,
    "start_time": "2023-06-04T00:21:14.760Z"
   },
   {
    "duration": 4,
    "start_time": "2023-06-04T00:21:15.592Z"
   },
   {
    "duration": 9,
    "start_time": "2023-06-04T00:21:16.680Z"
   },
   {
    "duration": 129404,
    "start_time": "2023-06-04T00:21:19.552Z"
   },
   {
    "duration": 4,
    "start_time": "2023-06-04T00:23:46.597Z"
   },
   {
    "duration": 4,
    "start_time": "2023-06-04T00:23:48.199Z"
   },
   {
    "duration": 4,
    "start_time": "2023-06-04T00:23:51.901Z"
   },
   {
    "duration": 5,
    "start_time": "2023-06-04T00:23:52.419Z"
   },
   {
    "duration": 5,
    "start_time": "2023-06-04T00:23:53.408Z"
   },
   {
    "duration": 4,
    "start_time": "2023-06-04T00:23:54.037Z"
   },
   {
    "duration": 5,
    "start_time": "2023-06-04T00:23:54.818Z"
   },
   {
    "duration": 64311,
    "start_time": "2023-06-04T00:23:56.131Z"
   },
   {
    "duration": 4,
    "start_time": "2023-06-04T00:27:43.021Z"
   },
   {
    "duration": 5,
    "start_time": "2023-06-04T00:28:19.528Z"
   },
   {
    "duration": 5,
    "start_time": "2023-06-04T00:28:20.058Z"
   },
   {
    "duration": 3,
    "start_time": "2023-06-04T00:28:20.993Z"
   },
   {
    "duration": 508682,
    "start_time": "2023-06-04T00:28:21.921Z"
   },
   {
    "duration": 2097,
    "start_time": "2023-06-04T12:39:51.976Z"
   },
   {
    "duration": 3074,
    "start_time": "2023-06-04T12:40:14.618Z"
   },
   {
    "duration": 33,
    "start_time": "2023-06-04T12:40:21.933Z"
   },
   {
    "duration": 78,
    "start_time": "2023-06-04T12:40:51.372Z"
   },
   {
    "duration": 11,
    "start_time": "2023-06-04T12:40:56.188Z"
   },
   {
    "duration": 21,
    "start_time": "2023-06-04T12:41:28.620Z"
   },
   {
    "duration": 3,
    "start_time": "2023-06-04T12:41:35.881Z"
   },
   {
    "duration": 3,
    "start_time": "2023-06-04T12:41:39.215Z"
   },
   {
    "duration": 297,
    "start_time": "2023-06-04T12:43:27.547Z"
   },
   {
    "duration": 250,
    "start_time": "2023-06-04T12:43:28.693Z"
   },
   {
    "duration": 261,
    "start_time": "2023-06-04T12:43:29.581Z"
   },
   {
    "duration": 263,
    "start_time": "2023-06-04T12:43:30.529Z"
   },
   {
    "duration": 8,
    "start_time": "2023-06-04T12:43:32.339Z"
   },
   {
    "duration": 6,
    "start_time": "2023-06-04T12:43:33.006Z"
   },
   {
    "duration": 5,
    "start_time": "2023-06-04T12:43:36.885Z"
   },
   {
    "duration": 213,
    "start_time": "2023-06-04T12:43:37.530Z"
   },
   {
    "duration": 5,
    "start_time": "2023-06-04T12:43:41.972Z"
   },
   {
    "duration": 8,
    "start_time": "2023-06-04T12:43:43.091Z"
   },
   {
    "duration": 5,
    "start_time": "2023-06-04T12:44:21.466Z"
   },
   {
    "duration": 6,
    "start_time": "2023-06-04T12:44:23.497Z"
   },
   {
    "duration": 14,
    "start_time": "2023-06-04T12:44:55.717Z"
   },
   {
    "duration": 3,
    "start_time": "2023-06-04T12:45:33.032Z"
   },
   {
    "duration": 4,
    "start_time": "2023-06-04T12:45:35.290Z"
   },
   {
    "duration": 148,
    "start_time": "2023-06-04T12:46:17.371Z"
   },
   {
    "duration": 216,
    "start_time": "2023-06-04T12:46:24.547Z"
   },
   {
    "duration": 4307,
    "start_time": "2023-06-04T12:46:41.890Z"
   },
   {
    "duration": 855,
    "start_time": "2023-06-04T12:47:18.699Z"
   },
   {
    "duration": 11,
    "start_time": "2023-06-04T12:49:00.106Z"
   },
   {
    "duration": 9742,
    "start_time": "2023-06-04T12:49:06.009Z"
   },
   {
    "duration": 288,
    "start_time": "2023-06-04T12:50:46.572Z"
   },
   {
    "duration": 8,
    "start_time": "2023-06-04T12:58:01.780Z"
   },
   {
    "duration": 11,
    "start_time": "2023-06-04T12:59:18.130Z"
   },
   {
    "duration": 23,
    "start_time": "2023-06-04T12:59:26.257Z"
   },
   {
    "duration": 2699,
    "start_time": "2023-06-04T13:00:29.562Z"
   },
   {
    "duration": 1810,
    "start_time": "2023-06-04T13:00:32.264Z"
   },
   {
    "duration": 34,
    "start_time": "2023-06-04T13:00:34.075Z"
   },
   {
    "duration": 13,
    "start_time": "2023-06-04T13:00:34.110Z"
   },
   {
    "duration": 29,
    "start_time": "2023-06-04T13:00:34.124Z"
   },
   {
    "duration": 4,
    "start_time": "2023-06-04T13:00:34.154Z"
   },
   {
    "duration": 7,
    "start_time": "2023-06-04T13:00:34.160Z"
   },
   {
    "duration": 259,
    "start_time": "2023-06-04T13:00:34.168Z"
   },
   {
    "duration": 254,
    "start_time": "2023-06-04T13:00:34.430Z"
   },
   {
    "duration": 284,
    "start_time": "2023-06-04T13:00:34.686Z"
   },
   {
    "duration": 254,
    "start_time": "2023-06-04T13:00:34.972Z"
   },
   {
    "duration": 8,
    "start_time": "2023-06-04T13:00:35.227Z"
   },
   {
    "duration": 11,
    "start_time": "2023-06-04T13:00:35.236Z"
   },
   {
    "duration": 16,
    "start_time": "2023-06-04T13:00:35.250Z"
   },
   {
    "duration": 232,
    "start_time": "2023-06-04T13:00:35.268Z"
   },
   {
    "duration": 5,
    "start_time": "2023-06-04T13:00:35.502Z"
   },
   {
    "duration": 21,
    "start_time": "2023-06-04T13:00:35.509Z"
   },
   {
    "duration": 52,
    "start_time": "2023-06-04T13:00:35.532Z"
   },
   {
    "duration": 10,
    "start_time": "2023-06-04T13:00:35.586Z"
   },
   {
    "duration": 180,
    "start_time": "2023-06-04T13:00:35.598Z"
   },
   {
    "duration": 3748,
    "start_time": "2023-06-04T13:00:35.781Z"
   },
   {
    "duration": 971,
    "start_time": "2023-06-04T13:00:39.531Z"
   },
   {
    "duration": 10055,
    "start_time": "2023-06-04T13:00:40.504Z"
   },
   {
    "duration": 326,
    "start_time": "2023-06-04T13:00:50.561Z"
   },
   {
    "duration": 8,
    "start_time": "2023-06-04T13:00:50.889Z"
   },
   {
    "duration": 75,
    "start_time": "2023-06-04T13:00:50.899Z"
   },
   {
    "duration": 199,
    "start_time": "2023-06-04T13:00:50.976Z"
   },
   {
    "duration": 0,
    "start_time": "2023-06-04T13:00:51.178Z"
   },
   {
    "duration": 0,
    "start_time": "2023-06-04T13:00:51.179Z"
   },
   {
    "duration": 0,
    "start_time": "2023-06-04T13:00:51.180Z"
   },
   {
    "duration": 0,
    "start_time": "2023-06-04T13:00:51.181Z"
   },
   {
    "duration": 0,
    "start_time": "2023-06-04T13:00:51.182Z"
   },
   {
    "duration": 0,
    "start_time": "2023-06-04T13:00:51.184Z"
   },
   {
    "duration": 0,
    "start_time": "2023-06-04T13:00:51.185Z"
   },
   {
    "duration": 0,
    "start_time": "2023-06-04T13:00:51.186Z"
   },
   {
    "duration": 0,
    "start_time": "2023-06-04T13:00:51.187Z"
   },
   {
    "duration": 0,
    "start_time": "2023-06-04T13:00:51.188Z"
   },
   {
    "duration": 0,
    "start_time": "2023-06-04T13:00:51.189Z"
   },
   {
    "duration": 0,
    "start_time": "2023-06-04T13:00:51.190Z"
   },
   {
    "duration": 0,
    "start_time": "2023-06-04T13:00:51.191Z"
   },
   {
    "duration": 0,
    "start_time": "2023-06-04T13:00:51.192Z"
   },
   {
    "duration": 0,
    "start_time": "2023-06-04T13:00:51.194Z"
   },
   {
    "duration": 0,
    "start_time": "2023-06-04T13:00:51.195Z"
   },
   {
    "duration": 0,
    "start_time": "2023-06-04T13:00:51.225Z"
   },
   {
    "duration": 0,
    "start_time": "2023-06-04T13:00:51.226Z"
   },
   {
    "duration": 0,
    "start_time": "2023-06-04T13:00:51.227Z"
   },
   {
    "duration": 0,
    "start_time": "2023-06-04T13:00:51.228Z"
   },
   {
    "duration": 0,
    "start_time": "2023-06-04T13:00:51.230Z"
   },
   {
    "duration": 0,
    "start_time": "2023-06-04T13:00:51.231Z"
   },
   {
    "duration": 0,
    "start_time": "2023-06-04T13:00:51.232Z"
   },
   {
    "duration": 0,
    "start_time": "2023-06-04T13:00:51.233Z"
   },
   {
    "duration": 0,
    "start_time": "2023-06-04T13:00:51.234Z"
   },
   {
    "duration": 0,
    "start_time": "2023-06-04T13:00:51.235Z"
   },
   {
    "duration": 0,
    "start_time": "2023-06-04T13:00:51.236Z"
   },
   {
    "duration": 0,
    "start_time": "2023-06-04T13:00:51.237Z"
   },
   {
    "duration": 0,
    "start_time": "2023-06-04T13:00:51.238Z"
   },
   {
    "duration": 0,
    "start_time": "2023-06-04T13:00:51.239Z"
   },
   {
    "duration": 0,
    "start_time": "2023-06-04T13:00:51.240Z"
   },
   {
    "duration": 1,
    "start_time": "2023-06-04T13:00:51.241Z"
   },
   {
    "duration": 0,
    "start_time": "2023-06-04T13:00:51.243Z"
   },
   {
    "duration": 12,
    "start_time": "2023-06-04T13:03:36.877Z"
   },
   {
    "duration": 4,
    "start_time": "2023-06-04T13:03:56.233Z"
   },
   {
    "duration": 6,
    "start_time": "2023-06-04T13:04:36.385Z"
   },
   {
    "duration": 2,
    "start_time": "2023-06-04T13:04:54.321Z"
   },
   {
    "duration": 5,
    "start_time": "2023-06-04T13:05:12.057Z"
   },
   {
    "duration": 5,
    "start_time": "2023-06-04T13:05:26.625Z"
   },
   {
    "duration": 7,
    "start_time": "2023-06-04T13:05:40.921Z"
   },
   {
    "duration": 36024,
    "start_time": "2023-06-04T13:05:58.638Z"
   },
   {
    "duration": 4,
    "start_time": "2023-06-04T13:10:24.340Z"
   },
   {
    "duration": 19,
    "start_time": "2023-06-04T13:10:47.217Z"
   },
   {
    "duration": 4,
    "start_time": "2023-06-04T13:11:16.433Z"
   },
   {
    "duration": 22128,
    "start_time": "2023-06-04T13:11:17.037Z"
   },
   {
    "duration": 6,
    "start_time": "2023-06-04T13:12:14.517Z"
   },
   {
    "duration": 22955,
    "start_time": "2023-06-04T13:12:15.225Z"
   },
   {
    "duration": 6,
    "start_time": "2023-06-04T13:12:45.433Z"
   },
   {
    "duration": 7,
    "start_time": "2023-06-04T13:14:13.425Z"
   },
   {
    "duration": 662,
    "start_time": "2023-06-04T13:14:14.843Z"
   },
   {
    "duration": 5,
    "start_time": "2023-06-04T13:15:18.422Z"
   },
   {
    "duration": 699,
    "start_time": "2023-06-04T13:15:32.433Z"
   },
   {
    "duration": 5,
    "start_time": "2023-06-04T13:18:09.169Z"
   },
   {
    "duration": 68850,
    "start_time": "2023-06-04T13:18:23.038Z"
   },
   {
    "duration": 8,
    "start_time": "2023-06-04T13:19:31.890Z"
   },
   {
    "duration": 5,
    "start_time": "2023-06-04T13:20:29.246Z"
   },
   {
    "duration": 7,
    "start_time": "2023-06-04T13:20:55.669Z"
   },
   {
    "duration": 4,
    "start_time": "2023-06-04T13:21:09.225Z"
   },
   {
    "duration": 62130,
    "start_time": "2023-06-04T13:21:24.807Z"
   },
   {
    "duration": 139,
    "start_time": "2023-06-04T13:22:55.632Z"
   },
   {
    "duration": 379,
    "start_time": "2023-06-04T13:23:05.660Z"
   },
   {
    "duration": 6,
    "start_time": "2023-06-04T13:25:04.831Z"
   },
   {
    "duration": 492,
    "start_time": "2023-06-04T13:25:37.470Z"
   },
   {
    "duration": 522,
    "start_time": "2023-06-04T13:26:14.864Z"
   },
   {
    "duration": 2407,
    "start_time": "2023-06-04T13:27:21.899Z"
   },
   {
    "duration": 1933,
    "start_time": "2023-06-04T13:27:24.309Z"
   },
   {
    "duration": 34,
    "start_time": "2023-06-04T13:27:26.244Z"
   },
   {
    "duration": 12,
    "start_time": "2023-06-04T13:27:26.280Z"
   },
   {
    "duration": 33,
    "start_time": "2023-06-04T13:27:26.293Z"
   },
   {
    "duration": 20,
    "start_time": "2023-06-04T13:27:26.328Z"
   },
   {
    "duration": 37,
    "start_time": "2023-06-04T13:27:26.349Z"
   },
   {
    "duration": 264,
    "start_time": "2023-06-04T13:27:26.387Z"
   },
   {
    "duration": 241,
    "start_time": "2023-06-04T13:27:26.652Z"
   },
   {
    "duration": 250,
    "start_time": "2023-06-04T13:27:26.896Z"
   },
   {
    "duration": 261,
    "start_time": "2023-06-04T13:27:27.148Z"
   },
   {
    "duration": 14,
    "start_time": "2023-06-04T13:27:27.411Z"
   },
   {
    "duration": 11,
    "start_time": "2023-06-04T13:27:27.427Z"
   },
   {
    "duration": 7,
    "start_time": "2023-06-04T13:27:27.440Z"
   },
   {
    "duration": 234,
    "start_time": "2023-06-04T13:27:27.448Z"
   },
   {
    "duration": 4,
    "start_time": "2023-06-04T13:27:27.683Z"
   },
   {
    "duration": 14,
    "start_time": "2023-06-04T13:27:27.689Z"
   },
   {
    "duration": 9,
    "start_time": "2023-06-04T13:27:27.705Z"
   },
   {
    "duration": 15,
    "start_time": "2023-06-04T13:27:27.724Z"
   },
   {
    "duration": 168,
    "start_time": "2023-06-04T13:27:27.740Z"
   },
   {
    "duration": 3677,
    "start_time": "2023-06-04T13:27:27.909Z"
   },
   {
    "duration": 860,
    "start_time": "2023-06-04T13:27:31.588Z"
   },
   {
    "duration": 9169,
    "start_time": "2023-06-04T13:27:32.450Z"
   },
   {
    "duration": 300,
    "start_time": "2023-06-04T13:27:41.624Z"
   },
   {
    "duration": 6,
    "start_time": "2023-06-04T13:27:41.926Z"
   },
   {
    "duration": 49,
    "start_time": "2023-06-04T13:27:41.933Z"
   },
   {
    "duration": 43,
    "start_time": "2023-06-04T13:27:41.984Z"
   },
   {
    "duration": 25,
    "start_time": "2023-06-04T13:27:42.030Z"
   },
   {
    "duration": 44,
    "start_time": "2023-06-04T13:27:42.057Z"
   },
   {
    "duration": 21,
    "start_time": "2023-06-04T13:27:42.102Z"
   },
   {
    "duration": 17,
    "start_time": "2023-06-04T13:27:42.125Z"
   },
   {
    "duration": 10,
    "start_time": "2023-06-04T13:27:42.144Z"
   },
   {
    "duration": 34794,
    "start_time": "2023-06-04T13:27:42.156Z"
   },
   {
    "duration": 5,
    "start_time": "2023-06-04T13:28:16.952Z"
   },
   {
    "duration": 20722,
    "start_time": "2023-06-04T13:28:16.958Z"
   },
   {
    "duration": 5,
    "start_time": "2023-06-04T13:28:37.682Z"
   },
   {
    "duration": 21,
    "start_time": "2023-06-04T13:28:37.689Z"
   },
   {
    "duration": 538,
    "start_time": "2023-06-04T13:28:37.712Z"
   },
   {
    "duration": 5,
    "start_time": "2023-06-04T13:28:38.252Z"
   },
   {
    "duration": 63891,
    "start_time": "2023-06-04T13:28:38.258Z"
   },
   {
    "duration": 9,
    "start_time": "2023-06-04T13:29:42.150Z"
   },
   {
    "duration": 32,
    "start_time": "2023-06-04T13:29:42.160Z"
   },
   {
    "duration": 26,
    "start_time": "2023-06-04T13:29:42.193Z"
   },
   {
    "duration": 25,
    "start_time": "2023-06-04T13:29:42.221Z"
   },
   {
    "duration": 63178,
    "start_time": "2023-06-04T13:29:42.248Z"
   },
   {
    "duration": 178,
    "start_time": "2023-06-04T13:30:45.428Z"
   },
   {
    "duration": 771,
    "start_time": "2023-06-04T13:30:45.609Z"
   },
   {
    "duration": 154,
    "start_time": "2023-06-04T13:33:22.171Z"
   },
   {
    "duration": 175,
    "start_time": "2023-06-04T13:33:36.013Z"
   },
   {
    "duration": 7,
    "start_time": "2023-06-04T13:34:26.359Z"
   },
   {
    "duration": 5,
    "start_time": "2023-06-04T13:34:26.993Z"
   },
   {
    "duration": 6,
    "start_time": "2023-06-04T13:34:27.603Z"
   },
   {
    "duration": 44653,
    "start_time": "2023-06-04T13:34:28.340Z"
   },
   {
    "duration": 3,
    "start_time": "2023-06-04T13:35:46.373Z"
   },
   {
    "duration": 4,
    "start_time": "2023-06-04T13:35:46.886Z"
   },
   {
    "duration": 4,
    "start_time": "2023-06-04T13:35:47.476Z"
   },
   {
    "duration": 5,
    "start_time": "2023-06-04T13:35:48.768Z"
   },
   {
    "duration": 69908,
    "start_time": "2023-06-04T13:35:51.042Z"
   },
   {
    "duration": 4,
    "start_time": "2023-06-04T13:37:17.271Z"
   },
   {
    "duration": 4,
    "start_time": "2023-06-04T13:37:17.915Z"
   },
   {
    "duration": 4,
    "start_time": "2023-06-04T13:37:18.481Z"
   },
   {
    "duration": 5,
    "start_time": "2023-06-04T13:37:19.000Z"
   },
   {
    "duration": 183108,
    "start_time": "2023-06-04T13:37:19.524Z"
   },
   {
    "duration": 3,
    "start_time": "2023-06-04T13:40:42.878Z"
   },
   {
    "duration": 4,
    "start_time": "2023-06-04T13:40:43.358Z"
   },
   {
    "duration": 3,
    "start_time": "2023-06-04T13:40:43.824Z"
   },
   {
    "duration": 5,
    "start_time": "2023-06-04T13:40:44.321Z"
   },
   {
    "duration": 435486,
    "start_time": "2023-06-04T13:40:45.070Z"
   },
   {
    "duration": 3,
    "start_time": "2023-06-04T13:48:20.155Z"
   },
   {
    "duration": 4,
    "start_time": "2023-06-04T13:48:20.619Z"
   },
   {
    "duration": 3,
    "start_time": "2023-06-04T13:48:21.011Z"
   },
   {
    "duration": 4,
    "start_time": "2023-06-04T13:48:21.668Z"
   },
   {
    "duration": 122132,
    "start_time": "2023-06-04T13:48:22.394Z"
   },
   {
    "duration": 3,
    "start_time": "2023-06-04T13:50:36.546Z"
   },
   {
    "duration": 4,
    "start_time": "2023-06-04T13:50:37.095Z"
   },
   {
    "duration": 4,
    "start_time": "2023-06-04T13:50:37.824Z"
   },
   {
    "duration": 5,
    "start_time": "2023-06-04T13:50:38.388Z"
   },
   {
    "duration": 10551,
    "start_time": "2023-06-04T13:50:39.292Z"
   },
   {
    "duration": 3,
    "start_time": "2023-06-04T13:50:55.317Z"
   },
   {
    "duration": 5,
    "start_time": "2023-06-04T13:50:55.773Z"
   },
   {
    "duration": 4,
    "start_time": "2023-06-04T13:50:56.206Z"
   },
   {
    "duration": 7,
    "start_time": "2023-06-04T13:50:56.741Z"
   },
   {
    "duration": 110716,
    "start_time": "2023-06-04T13:50:57.329Z"
   },
   {
    "duration": 2179,
    "start_time": "2023-06-04T13:53:15.498Z"
   },
   {
    "duration": 1911,
    "start_time": "2023-06-04T13:53:17.679Z"
   },
   {
    "duration": 34,
    "start_time": "2023-06-04T13:53:19.591Z"
   },
   {
    "duration": 14,
    "start_time": "2023-06-04T13:53:19.627Z"
   },
   {
    "duration": 42,
    "start_time": "2023-06-04T13:53:19.643Z"
   },
   {
    "duration": 4,
    "start_time": "2023-06-04T13:53:19.687Z"
   },
   {
    "duration": 8,
    "start_time": "2023-06-04T13:53:19.692Z"
   },
   {
    "duration": 273,
    "start_time": "2023-06-04T13:53:19.702Z"
   },
   {
    "duration": 267,
    "start_time": "2023-06-04T13:53:19.977Z"
   },
   {
    "duration": 261,
    "start_time": "2023-06-04T13:53:20.246Z"
   },
   {
    "duration": 281,
    "start_time": "2023-06-04T13:53:20.509Z"
   },
   {
    "duration": 8,
    "start_time": "2023-06-04T13:53:20.791Z"
   },
   {
    "duration": 12,
    "start_time": "2023-06-04T13:53:20.801Z"
   },
   {
    "duration": 11,
    "start_time": "2023-06-04T13:53:20.815Z"
   },
   {
    "duration": 273,
    "start_time": "2023-06-04T13:53:20.828Z"
   },
   {
    "duration": 6,
    "start_time": "2023-06-04T13:53:21.103Z"
   },
   {
    "duration": 24,
    "start_time": "2023-06-04T13:53:21.124Z"
   },
   {
    "duration": 9,
    "start_time": "2023-06-04T13:53:21.149Z"
   },
   {
    "duration": 36,
    "start_time": "2023-06-04T13:53:21.159Z"
   },
   {
    "duration": 195,
    "start_time": "2023-06-04T13:53:21.196Z"
   },
   {
    "duration": 4409,
    "start_time": "2023-06-04T13:53:21.393Z"
   },
   {
    "duration": 946,
    "start_time": "2023-06-04T13:53:25.803Z"
   },
   {
    "duration": 9561,
    "start_time": "2023-06-04T13:53:26.751Z"
   },
   {
    "duration": 299,
    "start_time": "2023-06-04T13:53:36.313Z"
   },
   {
    "duration": 14,
    "start_time": "2023-06-04T13:53:36.614Z"
   },
   {
    "duration": 37,
    "start_time": "2023-06-04T13:53:36.631Z"
   },
   {
    "duration": 23,
    "start_time": "2023-06-04T13:53:36.669Z"
   },
   {
    "duration": 8,
    "start_time": "2023-06-04T13:53:36.695Z"
   },
   {
    "duration": 7,
    "start_time": "2023-06-04T13:53:36.704Z"
   },
   {
    "duration": 7,
    "start_time": "2023-06-04T13:53:36.712Z"
   },
   {
    "duration": 16,
    "start_time": "2023-06-04T13:53:36.721Z"
   },
   {
    "duration": 9,
    "start_time": "2023-06-04T13:53:36.740Z"
   },
   {
    "duration": 37108,
    "start_time": "2023-06-04T13:53:36.750Z"
   },
   {
    "duration": 4,
    "start_time": "2023-06-04T13:54:13.860Z"
   },
   {
    "duration": 20869,
    "start_time": "2023-06-04T13:54:13.866Z"
   },
   {
    "duration": 5,
    "start_time": "2023-06-04T13:54:34.737Z"
   },
   {
    "duration": 22,
    "start_time": "2023-06-04T13:54:34.744Z"
   },
   {
    "duration": 623,
    "start_time": "2023-06-04T13:54:34.769Z"
   },
   {
    "duration": 5,
    "start_time": "2023-06-04T13:54:35.393Z"
   },
   {
    "duration": 11096,
    "start_time": "2023-06-04T13:54:35.399Z"
   },
   {
    "duration": 0,
    "start_time": "2023-06-04T13:54:46.497Z"
   },
   {
    "duration": 0,
    "start_time": "2023-06-04T13:54:46.499Z"
   },
   {
    "duration": 1,
    "start_time": "2023-06-04T13:54:46.499Z"
   },
   {
    "duration": 0,
    "start_time": "2023-06-04T13:54:46.501Z"
   },
   {
    "duration": 0,
    "start_time": "2023-06-04T13:54:46.502Z"
   },
   {
    "duration": 0,
    "start_time": "2023-06-04T13:54:46.503Z"
   },
   {
    "duration": 0,
    "start_time": "2023-06-04T13:54:46.504Z"
   },
   {
    "duration": 0,
    "start_time": "2023-06-04T13:54:46.506Z"
   },
   {
    "duration": 3,
    "start_time": "2023-06-04T13:55:02.293Z"
   },
   {
    "duration": 5,
    "start_time": "2023-06-04T13:55:04.413Z"
   },
   {
    "duration": 3,
    "start_time": "2023-06-04T13:55:05.044Z"
   },
   {
    "duration": 5,
    "start_time": "2023-06-04T13:55:05.837Z"
   },
   {
    "duration": 45495,
    "start_time": "2023-06-04T13:55:07.504Z"
   },
   {
    "duration": 3,
    "start_time": "2023-06-04T13:56:10.006Z"
   },
   {
    "duration": 5,
    "start_time": "2023-06-04T13:56:10.450Z"
   },
   {
    "duration": 4,
    "start_time": "2023-06-04T13:56:10.905Z"
   },
   {
    "duration": 5,
    "start_time": "2023-06-04T13:56:11.366Z"
   },
   {
    "duration": 39947,
    "start_time": "2023-06-04T13:56:12.415Z"
   },
   {
    "duration": 8,
    "start_time": "2023-06-04T13:57:57.386Z"
   },
   {
    "duration": 2029,
    "start_time": "2023-06-04T13:58:17.334Z"
   },
   {
    "duration": 1741,
    "start_time": "2023-06-04T13:58:19.365Z"
   },
   {
    "duration": 35,
    "start_time": "2023-06-04T13:58:21.107Z"
   },
   {
    "duration": 10,
    "start_time": "2023-06-04T13:58:21.144Z"
   },
   {
    "duration": 30,
    "start_time": "2023-06-04T13:58:21.156Z"
   },
   {
    "duration": 22,
    "start_time": "2023-06-04T13:58:21.188Z"
   },
   {
    "duration": 12,
    "start_time": "2023-06-04T13:58:21.212Z"
   },
   {
    "duration": 270,
    "start_time": "2023-06-04T13:58:21.226Z"
   },
   {
    "duration": 229,
    "start_time": "2023-06-04T13:58:21.498Z"
   },
   {
    "duration": 240,
    "start_time": "2023-06-04T13:58:21.730Z"
   },
   {
    "duration": 229,
    "start_time": "2023-06-04T13:58:21.972Z"
   },
   {
    "duration": 7,
    "start_time": "2023-06-04T13:58:22.203Z"
   },
   {
    "duration": 16,
    "start_time": "2023-06-04T13:58:22.212Z"
   },
   {
    "duration": 9,
    "start_time": "2023-06-04T13:58:22.229Z"
   },
   {
    "duration": 230,
    "start_time": "2023-06-04T13:58:22.240Z"
   },
   {
    "duration": 4,
    "start_time": "2023-06-04T13:58:22.472Z"
   },
   {
    "duration": 16,
    "start_time": "2023-06-04T13:58:22.479Z"
   },
   {
    "duration": 14,
    "start_time": "2023-06-04T13:58:22.497Z"
   },
   {
    "duration": 19,
    "start_time": "2023-06-04T13:58:22.513Z"
   },
   {
    "duration": 198,
    "start_time": "2023-06-04T13:58:22.534Z"
   },
   {
    "duration": 3831,
    "start_time": "2023-06-04T13:58:22.734Z"
   },
   {
    "duration": 841,
    "start_time": "2023-06-04T13:58:26.567Z"
   },
   {
    "duration": 8808,
    "start_time": "2023-06-04T13:58:27.409Z"
   },
   {
    "duration": 294,
    "start_time": "2023-06-04T13:58:36.218Z"
   },
   {
    "duration": 14,
    "start_time": "2023-06-04T13:58:36.513Z"
   },
   {
    "duration": 36,
    "start_time": "2023-06-04T13:58:36.529Z"
   },
   {
    "duration": 3,
    "start_time": "2023-06-04T13:58:36.567Z"
   },
   {
    "duration": 4,
    "start_time": "2023-06-04T13:58:36.574Z"
   },
   {
    "duration": 8,
    "start_time": "2023-06-04T13:58:36.579Z"
   },
   {
    "duration": 7,
    "start_time": "2023-06-04T13:58:36.589Z"
   },
   {
    "duration": 8,
    "start_time": "2023-06-04T13:58:36.597Z"
   },
   {
    "duration": 6,
    "start_time": "2023-06-04T13:58:36.606Z"
   },
   {
    "duration": 42290,
    "start_time": "2023-06-04T13:58:36.624Z"
   },
   {
    "duration": 9,
    "start_time": "2023-06-04T13:59:18.916Z"
   },
   {
    "duration": 21069,
    "start_time": "2023-06-04T13:59:18.926Z"
   },
   {
    "duration": 4,
    "start_time": "2023-06-04T13:59:39.997Z"
   },
   {
    "duration": 24,
    "start_time": "2023-06-04T13:59:40.003Z"
   },
   {
    "duration": 200,
    "start_time": "2023-06-04T13:59:40.029Z"
   },
   {
    "duration": 5,
    "start_time": "2023-06-04T13:59:40.231Z"
   },
   {
    "duration": 2339,
    "start_time": "2023-06-04T14:00:28.800Z"
   },
   {
    "duration": 1968,
    "start_time": "2023-06-04T14:00:31.143Z"
   },
   {
    "duration": 34,
    "start_time": "2023-06-04T14:00:33.113Z"
   },
   {
    "duration": 13,
    "start_time": "2023-06-04T14:00:33.149Z"
   },
   {
    "duration": 54,
    "start_time": "2023-06-04T14:00:33.164Z"
   },
   {
    "duration": 31,
    "start_time": "2023-06-04T14:00:33.220Z"
   },
   {
    "duration": 18,
    "start_time": "2023-06-04T14:00:33.254Z"
   },
   {
    "duration": 325,
    "start_time": "2023-06-04T14:00:33.274Z"
   },
   {
    "duration": 234,
    "start_time": "2023-06-04T14:00:33.600Z"
   },
   {
    "duration": 244,
    "start_time": "2023-06-04T14:00:33.837Z"
   },
   {
    "duration": 284,
    "start_time": "2023-06-04T14:00:34.083Z"
   },
   {
    "duration": 8,
    "start_time": "2023-06-04T14:00:34.368Z"
   },
   {
    "duration": 48,
    "start_time": "2023-06-04T14:00:34.377Z"
   },
   {
    "duration": 35,
    "start_time": "2023-06-04T14:00:34.426Z"
   },
   {
    "duration": 272,
    "start_time": "2023-06-04T14:00:34.463Z"
   },
   {
    "duration": 4,
    "start_time": "2023-06-04T14:00:34.736Z"
   },
   {
    "duration": 44,
    "start_time": "2023-06-04T14:00:34.742Z"
   },
   {
    "duration": 58,
    "start_time": "2023-06-04T14:00:34.787Z"
   },
   {
    "duration": 52,
    "start_time": "2023-06-04T14:00:34.848Z"
   },
   {
    "duration": 224,
    "start_time": "2023-06-04T14:00:34.902Z"
   },
   {
    "duration": 3725,
    "start_time": "2023-06-04T14:00:35.128Z"
   },
   {
    "duration": 889,
    "start_time": "2023-06-04T14:00:38.855Z"
   },
   {
    "duration": 9293,
    "start_time": "2023-06-04T14:00:39.746Z"
   },
   {
    "duration": 326,
    "start_time": "2023-06-04T14:00:49.041Z"
   },
   {
    "duration": 8,
    "start_time": "2023-06-04T14:00:49.369Z"
   },
   {
    "duration": 28,
    "start_time": "2023-06-04T14:00:49.380Z"
   },
   {
    "duration": 16,
    "start_time": "2023-06-04T14:00:49.410Z"
   },
   {
    "duration": 5,
    "start_time": "2023-06-04T14:00:49.429Z"
   },
   {
    "duration": 11,
    "start_time": "2023-06-04T14:00:49.435Z"
   },
   {
    "duration": 9,
    "start_time": "2023-06-04T14:00:49.447Z"
   },
   {
    "duration": 7,
    "start_time": "2023-06-04T14:00:49.457Z"
   },
   {
    "duration": 8,
    "start_time": "2023-06-04T14:00:49.465Z"
   },
   {
    "duration": 14900,
    "start_time": "2023-06-04T14:00:49.475Z"
   },
   {
    "duration": 5,
    "start_time": "2023-06-04T14:01:04.377Z"
   },
   {
    "duration": 22573,
    "start_time": "2023-06-04T14:01:04.383Z"
   },
   {
    "duration": 4,
    "start_time": "2023-06-04T14:01:26.958Z"
   },
   {
    "duration": 6,
    "start_time": "2023-06-04T14:01:26.963Z"
   },
   {
    "duration": 594,
    "start_time": "2023-06-04T14:01:26.970Z"
   },
   {
    "duration": 7,
    "start_time": "2023-06-04T14:01:27.566Z"
   },
   {
    "duration": 4391,
    "start_time": "2023-06-04T14:01:27.575Z"
   },
   {
    "duration": 0,
    "start_time": "2023-06-04T14:01:31.968Z"
   },
   {
    "duration": 0,
    "start_time": "2023-06-04T14:01:31.969Z"
   },
   {
    "duration": 0,
    "start_time": "2023-06-04T14:01:31.970Z"
   },
   {
    "duration": 0,
    "start_time": "2023-06-04T14:01:31.971Z"
   },
   {
    "duration": 0,
    "start_time": "2023-06-04T14:01:31.972Z"
   },
   {
    "duration": 0,
    "start_time": "2023-06-04T14:01:31.973Z"
   },
   {
    "duration": 0,
    "start_time": "2023-06-04T14:01:31.974Z"
   },
   {
    "duration": 3,
    "start_time": "2023-06-04T14:02:00.486Z"
   },
   {
    "duration": 4,
    "start_time": "2023-06-04T14:02:01.254Z"
   },
   {
    "duration": 4,
    "start_time": "2023-06-04T14:02:01.795Z"
   },
   {
    "duration": 5,
    "start_time": "2023-06-04T14:02:02.395Z"
   },
   {
    "duration": 17820,
    "start_time": "2023-06-04T14:02:03.062Z"
   },
   {
    "duration": 3,
    "start_time": "2023-06-04T14:03:22.089Z"
   },
   {
    "duration": 4,
    "start_time": "2023-06-04T14:03:22.598Z"
   },
   {
    "duration": 3,
    "start_time": "2023-06-04T14:03:23.638Z"
   },
   {
    "duration": 5,
    "start_time": "2023-06-04T14:03:23.775Z"
   },
   {
    "duration": 47018,
    "start_time": "2023-06-04T14:03:24.898Z"
   },
   {
    "duration": 3,
    "start_time": "2023-06-04T14:04:41.177Z"
   },
   {
    "duration": 5,
    "start_time": "2023-06-04T14:04:41.641Z"
   },
   {
    "duration": 5,
    "start_time": "2023-06-04T14:04:42.127Z"
   },
   {
    "duration": 7,
    "start_time": "2023-06-04T14:04:42.685Z"
   },
   {
    "duration": 34245,
    "start_time": "2023-06-04T14:04:43.233Z"
   },
   {
    "duration": 3,
    "start_time": "2023-06-04T14:07:24.977Z"
   },
   {
    "duration": 5,
    "start_time": "2023-06-04T14:07:25.477Z"
   },
   {
    "duration": 4,
    "start_time": "2023-06-04T14:07:25.995Z"
   },
   {
    "duration": 4,
    "start_time": "2023-06-04T14:07:26.645Z"
   },
   {
    "duration": 26473,
    "start_time": "2023-06-04T14:07:27.395Z"
   },
   {
    "duration": 5,
    "start_time": "2023-06-04T14:17:53.324Z"
   },
   {
    "duration": 2,
    "start_time": "2023-06-04T14:17:54.712Z"
   },
   {
    "duration": 5,
    "start_time": "2023-06-04T14:17:55.400Z"
   },
   {
    "duration": 4,
    "start_time": "2023-06-04T14:17:55.909Z"
   },
   {
    "duration": 5,
    "start_time": "2023-06-04T14:17:56.583Z"
   },
   {
    "duration": 17,
    "start_time": "2023-06-04T14:17:57.249Z"
   },
   {
    "duration": 5,
    "start_time": "2023-06-04T14:18:10.329Z"
   },
   {
    "duration": 3,
    "start_time": "2023-06-04T14:18:11.216Z"
   },
   {
    "duration": 4,
    "start_time": "2023-06-04T14:18:11.639Z"
   },
   {
    "duration": 5,
    "start_time": "2023-06-04T14:18:12.079Z"
   },
   {
    "duration": 5,
    "start_time": "2023-06-04T14:18:12.693Z"
   },
   {
    "duration": 5056,
    "start_time": "2023-06-04T14:18:13.991Z"
   },
   {
    "duration": 32642,
    "start_time": "2023-06-04T14:18:31.187Z"
   },
   {
    "duration": 5,
    "start_time": "2023-06-04T14:19:23.736Z"
   },
   {
    "duration": 3,
    "start_time": "2023-06-04T14:19:24.870Z"
   },
   {
    "duration": 4,
    "start_time": "2023-06-04T14:19:25.366Z"
   },
   {
    "duration": 4,
    "start_time": "2023-06-04T14:19:26.033Z"
   },
   {
    "duration": 5,
    "start_time": "2023-06-04T14:19:26.711Z"
   },
   {
    "duration": 42952,
    "start_time": "2023-06-04T14:19:27.417Z"
   },
   {
    "duration": 4,
    "start_time": "2023-06-04T14:21:00.302Z"
   },
   {
    "duration": 26022,
    "start_time": "2023-06-04T14:21:03.102Z"
   },
   {
    "duration": 4,
    "start_time": "2023-06-04T14:21:29.126Z"
   },
   {
    "duration": 5,
    "start_time": "2023-06-04T14:21:46.899Z"
   },
   {
    "duration": 690,
    "start_time": "2023-06-04T14:21:47.934Z"
   },
   {
    "duration": 5,
    "start_time": "2023-06-04T14:22:22.120Z"
   },
   {
    "duration": 52352,
    "start_time": "2023-06-04T14:22:25.879Z"
   },
   {
    "duration": 8,
    "start_time": "2023-06-04T14:23:18.233Z"
   },
   {
    "duration": 5,
    "start_time": "2023-06-04T14:23:54.534Z"
   },
   {
    "duration": 5,
    "start_time": "2023-06-04T14:23:55.337Z"
   },
   {
    "duration": 3,
    "start_time": "2023-06-04T14:23:56.844Z"
   },
   {
    "duration": 282029,
    "start_time": "2023-06-04T14:23:58.897Z"
   },
   {
    "duration": 6,
    "start_time": "2023-06-04T14:29:12.665Z"
   },
   {
    "duration": 6,
    "start_time": "2023-06-04T14:29:13.270Z"
   },
   {
    "duration": 4,
    "start_time": "2023-06-04T14:29:13.896Z"
   },
   {
    "duration": 258789,
    "start_time": "2023-06-04T14:29:14.636Z"
   },
   {
    "duration": 5,
    "start_time": "2023-06-04T14:34:10.866Z"
   },
   {
    "duration": 4,
    "start_time": "2023-06-04T14:34:12.034Z"
   },
   {
    "duration": 5,
    "start_time": "2023-06-04T14:34:12.631Z"
   },
   {
    "duration": 5,
    "start_time": "2023-06-04T14:34:13.219Z"
   },
   {
    "duration": 6,
    "start_time": "2023-06-04T14:34:13.945Z"
   },
   {
    "duration": 17839,
    "start_time": "2023-06-04T14:34:14.734Z"
   },
   {
    "duration": 4,
    "start_time": "2023-06-04T14:35:04.130Z"
   },
   {
    "duration": 6,
    "start_time": "2023-06-04T14:35:05.362Z"
   },
   {
    "duration": 23,
    "start_time": "2023-06-04T14:35:05.894Z"
   },
   {
    "duration": 4,
    "start_time": "2023-06-04T14:35:06.429Z"
   },
   {
    "duration": 7,
    "start_time": "2023-06-04T14:35:31.538Z"
   },
   {
    "duration": 3,
    "start_time": "2023-06-04T14:35:32.625Z"
   },
   {
    "duration": 5,
    "start_time": "2023-06-04T14:35:33.160Z"
   },
   {
    "duration": 3,
    "start_time": "2023-06-04T14:35:35.645Z"
   },
   {
    "duration": 5,
    "start_time": "2023-06-04T14:35:36.266Z"
   },
   {
    "duration": 5769,
    "start_time": "2023-06-04T14:35:37.998Z"
   },
   {
    "duration": 4,
    "start_time": "2023-06-04T14:35:58.051Z"
   },
   {
    "duration": 5,
    "start_time": "2023-06-04T14:35:58.936Z"
   },
   {
    "duration": 5,
    "start_time": "2023-06-04T14:35:59.470Z"
   },
   {
    "duration": 4,
    "start_time": "2023-06-04T14:36:00.073Z"
   },
   {
    "duration": 5,
    "start_time": "2023-06-04T14:36:00.734Z"
   },
   {
    "duration": 40380,
    "start_time": "2023-06-04T14:36:01.741Z"
   },
   {
    "duration": 3,
    "start_time": "2023-06-04T14:37:12.448Z"
   },
   {
    "duration": 4,
    "start_time": "2023-06-04T14:37:12.954Z"
   },
   {
    "duration": 5,
    "start_time": "2023-06-04T14:37:13.330Z"
   },
   {
    "duration": 5,
    "start_time": "2023-06-04T14:37:13.732Z"
   },
   {
    "duration": 46329,
    "start_time": "2023-06-04T14:37:14.311Z"
   },
   {
    "duration": 4,
    "start_time": "2023-06-04T14:38:09.439Z"
   },
   {
    "duration": 8,
    "start_time": "2023-06-04T14:38:09.959Z"
   },
   {
    "duration": 3,
    "start_time": "2023-06-04T14:38:10.420Z"
   },
   {
    "duration": 6,
    "start_time": "2023-06-04T14:38:10.881Z"
   },
   {
    "duration": 35986,
    "start_time": "2023-06-04T14:38:11.472Z"
   },
   {
    "duration": 7,
    "start_time": "2023-06-04T14:39:24.989Z"
   },
   {
    "duration": 22382,
    "start_time": "2023-06-04T14:39:26.110Z"
   },
   {
    "duration": 6,
    "start_time": "2023-06-04T14:39:51.014Z"
   },
   {
    "duration": 4,
    "start_time": "2023-06-04T14:39:56.998Z"
   },
   {
    "duration": 584,
    "start_time": "2023-06-04T14:39:57.877Z"
   },
   {
    "duration": 7,
    "start_time": "2023-06-04T14:40:18.022Z"
   },
   {
    "duration": 2342,
    "start_time": "2023-06-04T14:40:20.983Z"
   },
   {
    "duration": 5,
    "start_time": "2023-06-04T14:40:33.858Z"
   },
   {
    "duration": 5,
    "start_time": "2023-06-04T14:40:34.679Z"
   },
   {
    "duration": 4,
    "start_time": "2023-06-04T14:40:36.891Z"
   },
   {
    "duration": 349808,
    "start_time": "2023-06-04T14:40:38.234Z"
   },
   {
    "duration": 5,
    "start_time": "2023-06-04T14:46:54.347Z"
   },
   {
    "duration": 6,
    "start_time": "2023-06-04T14:46:56.501Z"
   },
   {
    "duration": 3,
    "start_time": "2023-06-04T14:46:57.126Z"
   },
   {
    "duration": 268914,
    "start_time": "2023-06-04T14:46:57.825Z"
   },
   {
    "duration": 4,
    "start_time": "2023-06-04T14:52:09.995Z"
   },
   {
    "duration": 3,
    "start_time": "2023-06-04T14:52:11.392Z"
   },
   {
    "duration": 4,
    "start_time": "2023-06-04T14:52:11.913Z"
   },
   {
    "duration": 4,
    "start_time": "2023-06-04T14:52:12.448Z"
   },
   {
    "duration": 5,
    "start_time": "2023-06-04T14:52:13.042Z"
   },
   {
    "duration": 33079,
    "start_time": "2023-06-04T14:52:13.850Z"
   },
   {
    "duration": 5,
    "start_time": "2023-06-04T14:53:31.144Z"
   },
   {
    "duration": 5,
    "start_time": "2023-06-04T14:53:33.154Z"
   },
   {
    "duration": 5,
    "start_time": "2023-06-04T14:53:33.705Z"
   },
   {
    "duration": 330759,
    "start_time": "2023-06-04T14:53:34.368Z"
   },
   {
    "duration": 7,
    "start_time": "2023-06-04T14:59:42.946Z"
   },
   {
    "duration": 4,
    "start_time": "2023-06-04T14:59:53.504Z"
   },
   {
    "duration": 131314,
    "start_time": "2023-06-04T14:59:54.424Z"
   },
   {
    "duration": 7,
    "start_time": "2023-06-04T15:02:50.366Z"
   },
   {
    "duration": 5,
    "start_time": "2023-06-04T15:02:51.127Z"
   },
   {
    "duration": 4,
    "start_time": "2023-06-04T15:02:52.600Z"
   },
   {
    "duration": 60607,
    "start_time": "2023-06-04T15:02:53.334Z"
   },
   {
    "duration": 70125,
    "start_time": "2023-06-04T15:04:04.716Z"
   },
   {
    "duration": 6,
    "start_time": "2023-06-04T15:06:08.813Z"
   },
   {
    "duration": 4,
    "start_time": "2023-06-04T15:06:09.866Z"
   },
   {
    "duration": 5,
    "start_time": "2023-06-04T15:06:10.439Z"
   },
   {
    "duration": 122168,
    "start_time": "2023-06-04T15:06:11.173Z"
   },
   {
    "duration": 6,
    "start_time": "2023-06-04T15:09:22.439Z"
   },
   {
    "duration": 4,
    "start_time": "2023-06-04T15:09:24.401Z"
   },
   {
    "duration": 4,
    "start_time": "2023-06-04T15:09:25.225Z"
   },
   {
    "duration": 72466,
    "start_time": "2023-06-04T15:09:25.869Z"
   },
   {
    "duration": 5,
    "start_time": "2023-06-04T15:11:35.206Z"
   },
   {
    "duration": 4,
    "start_time": "2023-06-04T15:11:35.760Z"
   },
   {
    "duration": 3,
    "start_time": "2023-06-04T15:11:36.323Z"
   },
   {
    "duration": 84729,
    "start_time": "2023-06-04T15:11:36.917Z"
   },
   {
    "duration": 21271,
    "start_time": "2023-06-04T15:13:24.069Z"
   },
   {
    "duration": 5,
    "start_time": "2023-06-04T15:13:59.742Z"
   },
   {
    "duration": 6,
    "start_time": "2023-06-04T15:14:03.099Z"
   },
   {
    "duration": 4,
    "start_time": "2023-06-04T15:14:03.685Z"
   },
   {
    "duration": 56283,
    "start_time": "2023-06-04T15:14:04.457Z"
   },
   {
    "duration": 4,
    "start_time": "2023-06-04T15:15:13.917Z"
   },
   {
    "duration": 4,
    "start_time": "2023-06-04T15:15:14.468Z"
   },
   {
    "duration": 154390,
    "start_time": "2023-06-04T15:15:15.141Z"
   },
   {
    "duration": 5,
    "start_time": "2023-06-04T15:19:23.792Z"
   },
   {
    "duration": 6,
    "start_time": "2023-06-04T15:19:25.066Z"
   },
   {
    "duration": 3,
    "start_time": "2023-06-04T15:19:27.305Z"
   },
   {
    "duration": 24791,
    "start_time": "2023-06-04T15:19:28.148Z"
   },
   {
    "duration": 11756,
    "start_time": "2023-06-04T15:19:58.878Z"
   },
   {
    "duration": 1973,
    "start_time": "2023-06-04T15:27:45.033Z"
   },
   {
    "duration": 1773,
    "start_time": "2023-06-04T15:27:47.008Z"
   },
   {
    "duration": 2,
    "start_time": "2023-06-04T15:27:48.783Z"
   },
   {
    "duration": 40,
    "start_time": "2023-06-04T15:27:48.787Z"
   },
   {
    "duration": 10,
    "start_time": "2023-06-04T15:27:48.829Z"
   },
   {
    "duration": 21,
    "start_time": "2023-06-04T15:27:48.840Z"
   },
   {
    "duration": 3,
    "start_time": "2023-06-04T15:27:48.863Z"
   },
   {
    "duration": 4,
    "start_time": "2023-06-04T15:27:48.868Z"
   },
   {
    "duration": 263,
    "start_time": "2023-06-04T15:27:48.874Z"
   },
   {
    "duration": 250,
    "start_time": "2023-06-04T15:27:49.139Z"
   },
   {
    "duration": 278,
    "start_time": "2023-06-04T15:27:49.391Z"
   },
   {
    "duration": 225,
    "start_time": "2023-06-04T15:27:49.671Z"
   },
   {
    "duration": 7,
    "start_time": "2023-06-04T15:27:49.897Z"
   },
   {
    "duration": 20,
    "start_time": "2023-06-04T15:27:49.907Z"
   },
   {
    "duration": 5,
    "start_time": "2023-06-04T15:27:49.928Z"
   },
   {
    "duration": 130,
    "start_time": "2023-06-04T15:27:49.935Z"
   },
   {
    "duration": 5,
    "start_time": "2023-06-04T15:27:50.067Z"
   },
   {
    "duration": 21,
    "start_time": "2023-06-04T15:27:50.073Z"
   },
   {
    "duration": 12,
    "start_time": "2023-06-04T15:27:50.095Z"
   },
   {
    "duration": 52,
    "start_time": "2023-06-04T15:27:50.108Z"
   },
   {
    "duration": 167,
    "start_time": "2023-06-04T15:27:50.161Z"
   },
   {
    "duration": 3951,
    "start_time": "2023-06-04T15:27:50.330Z"
   },
   {
    "duration": 974,
    "start_time": "2023-06-04T15:27:54.283Z"
   },
   {
    "duration": 8597,
    "start_time": "2023-06-04T15:27:55.258Z"
   },
   {
    "duration": 277,
    "start_time": "2023-06-04T15:28:03.856Z"
   },
   {
    "duration": 6,
    "start_time": "2023-06-04T15:28:04.135Z"
   },
   {
    "duration": 23,
    "start_time": "2023-06-04T15:28:04.143Z"
   },
   {
    "duration": 4,
    "start_time": "2023-06-04T15:28:04.167Z"
   },
   {
    "duration": 5,
    "start_time": "2023-06-04T15:28:04.173Z"
   },
   {
    "duration": 7,
    "start_time": "2023-06-04T15:28:04.179Z"
   },
   {
    "duration": 6,
    "start_time": "2023-06-04T15:28:04.187Z"
   },
   {
    "duration": 10,
    "start_time": "2023-06-04T15:28:04.194Z"
   },
   {
    "duration": 21,
    "start_time": "2023-06-04T15:28:04.206Z"
   },
   {
    "duration": 77905,
    "start_time": "2023-06-04T15:28:04.228Z"
   },
   {
    "duration": 4,
    "start_time": "2023-06-04T15:29:22.135Z"
   },
   {
    "duration": 19051,
    "start_time": "2023-06-04T15:29:22.141Z"
   },
   {
    "duration": 4,
    "start_time": "2023-06-04T15:29:41.194Z"
   },
   {
    "duration": 35,
    "start_time": "2023-06-04T15:29:41.200Z"
   },
   {
    "duration": 626,
    "start_time": "2023-06-04T15:29:41.237Z"
   },
   {
    "duration": 6,
    "start_time": "2023-06-04T15:29:41.865Z"
   },
   {
    "duration": 61577,
    "start_time": "2023-06-04T15:29:41.876Z"
   },
   {
    "duration": 9,
    "start_time": "2023-06-04T15:30:43.454Z"
   },
   {
    "duration": 12,
    "start_time": "2023-06-04T15:30:43.465Z"
   },
   {
    "duration": 13,
    "start_time": "2023-06-04T15:30:43.478Z"
   },
   {
    "duration": 7,
    "start_time": "2023-06-04T15:30:43.492Z"
   },
   {
    "duration": 68768,
    "start_time": "2023-06-04T15:30:43.500Z"
   },
   {
    "duration": 0,
    "start_time": "2023-06-04T15:31:52.270Z"
   },
   {
    "duration": 0,
    "start_time": "2023-06-04T15:31:52.271Z"
   },
   {
    "duration": 0,
    "start_time": "2023-06-04T15:31:52.272Z"
   },
   {
    "duration": 0,
    "start_time": "2023-06-04T15:31:52.273Z"
   },
   {
    "duration": 6,
    "start_time": "2023-06-04T15:32:01.570Z"
   },
   {
    "duration": 640,
    "start_time": "2023-06-04T15:32:02.322Z"
   },
   {
    "duration": 19795,
    "start_time": "2023-06-04T15:33:27.043Z"
   },
   {
    "duration": 2128,
    "start_time": "2023-06-04T15:33:51.125Z"
   },
   {
    "duration": 1851,
    "start_time": "2023-06-04T15:33:53.256Z"
   },
   {
    "duration": 2,
    "start_time": "2023-06-04T15:33:55.109Z"
   },
   {
    "duration": 45,
    "start_time": "2023-06-04T15:33:55.113Z"
   },
   {
    "duration": 10,
    "start_time": "2023-06-04T15:33:55.160Z"
   },
   {
    "duration": 24,
    "start_time": "2023-06-04T15:33:55.172Z"
   },
   {
    "duration": 4,
    "start_time": "2023-06-04T15:33:55.197Z"
   },
   {
    "duration": 5,
    "start_time": "2023-06-04T15:33:55.202Z"
   },
   {
    "duration": 257,
    "start_time": "2023-06-04T15:33:55.209Z"
   },
   {
    "duration": 227,
    "start_time": "2023-06-04T15:33:55.468Z"
   },
   {
    "duration": 234,
    "start_time": "2023-06-04T15:33:55.696Z"
   },
   {
    "duration": 239,
    "start_time": "2023-06-04T15:33:55.933Z"
   },
   {
    "duration": 7,
    "start_time": "2023-06-04T15:33:56.174Z"
   },
   {
    "duration": 16,
    "start_time": "2023-06-04T15:33:56.182Z"
   },
   {
    "duration": 30,
    "start_time": "2023-06-04T15:33:56.200Z"
   },
   {
    "duration": 126,
    "start_time": "2023-06-04T15:33:56.231Z"
   },
   {
    "duration": 4,
    "start_time": "2023-06-04T15:33:56.358Z"
   },
   {
    "duration": 16,
    "start_time": "2023-06-04T15:33:56.364Z"
   },
   {
    "duration": 13,
    "start_time": "2023-06-04T15:33:56.381Z"
   },
   {
    "duration": 14,
    "start_time": "2023-06-04T15:33:56.396Z"
   },
   {
    "duration": 180,
    "start_time": "2023-06-04T15:33:56.411Z"
   },
   {
    "duration": 3576,
    "start_time": "2023-06-04T15:33:56.593Z"
   },
   {
    "duration": 934,
    "start_time": "2023-06-04T15:34:00.171Z"
   },
   {
    "duration": 8908,
    "start_time": "2023-06-04T15:34:01.107Z"
   },
   {
    "duration": 348,
    "start_time": "2023-06-04T15:34:10.017Z"
   },
   {
    "duration": 8,
    "start_time": "2023-06-04T15:34:10.367Z"
   },
   {
    "duration": 46,
    "start_time": "2023-06-04T15:34:10.376Z"
   },
   {
    "duration": 10,
    "start_time": "2023-06-04T15:34:10.426Z"
   },
   {
    "duration": 5,
    "start_time": "2023-06-04T15:34:10.438Z"
   },
   {
    "duration": 24,
    "start_time": "2023-06-04T15:34:10.445Z"
   },
   {
    "duration": 12,
    "start_time": "2023-06-04T15:34:10.471Z"
   },
   {
    "duration": 28,
    "start_time": "2023-06-04T15:34:10.485Z"
   },
   {
    "duration": 22,
    "start_time": "2023-06-04T15:34:10.514Z"
   },
   {
    "duration": 10163,
    "start_time": "2023-06-04T15:34:10.537Z"
   },
   {
    "duration": 5,
    "start_time": "2023-06-04T15:34:20.701Z"
   },
   {
    "duration": 666,
    "start_time": "2023-06-04T15:34:20.708Z"
   },
   {
    "duration": 6,
    "start_time": "2023-06-04T15:34:21.375Z"
   },
   {
    "duration": 7988,
    "start_time": "2023-06-04T15:34:21.382Z"
   },
   {
    "duration": 0,
    "start_time": "2023-06-04T15:34:29.372Z"
   },
   {
    "duration": 0,
    "start_time": "2023-06-04T15:34:29.373Z"
   },
   {
    "duration": 0,
    "start_time": "2023-06-04T15:34:29.375Z"
   },
   {
    "duration": 0,
    "start_time": "2023-06-04T15:34:29.376Z"
   },
   {
    "duration": 0,
    "start_time": "2023-06-04T15:34:29.377Z"
   },
   {
    "duration": 1,
    "start_time": "2023-06-04T15:34:29.378Z"
   },
   {
    "duration": 0,
    "start_time": "2023-06-04T15:34:29.380Z"
   },
   {
    "duration": 56366,
    "start_time": "2023-06-04T15:34:37.895Z"
   },
   {
    "duration": 9220,
    "start_time": "2023-06-04T15:35:52.258Z"
   },
   {
    "duration": 11,
    "start_time": "2023-06-04T15:36:05.398Z"
   },
   {
    "duration": 5,
    "start_time": "2023-06-04T15:36:17.255Z"
   },
   {
    "duration": 5,
    "start_time": "2023-06-04T15:36:32.664Z"
   },
   {
    "duration": 4,
    "start_time": "2023-06-04T15:36:33.748Z"
   },
   {
    "duration": 49164,
    "start_time": "2023-06-04T15:36:44.267Z"
   },
   {
    "duration": 203,
    "start_time": "2023-06-04T15:37:41.905Z"
   },
   {
    "duration": 549,
    "start_time": "2023-06-04T15:37:45.921Z"
   },
   {
    "duration": 1792,
    "start_time": "2023-06-04T15:40:13.471Z"
   },
   {
    "duration": 45,
    "start_time": "2023-06-04T15:40:15.265Z"
   },
   {
    "duration": 11,
    "start_time": "2023-06-04T15:40:15.311Z"
   },
   {
    "duration": 25,
    "start_time": "2023-06-04T15:40:15.325Z"
   },
   {
    "duration": 5,
    "start_time": "2023-06-04T15:40:15.352Z"
   },
   {
    "duration": 5,
    "start_time": "2023-06-04T15:40:15.358Z"
   },
   {
    "duration": 273,
    "start_time": "2023-06-04T15:40:15.364Z"
   },
   {
    "duration": 245,
    "start_time": "2023-06-04T15:40:15.639Z"
   },
   {
    "duration": 258,
    "start_time": "2023-06-04T15:40:15.885Z"
   },
   {
    "duration": 232,
    "start_time": "2023-06-04T15:40:16.145Z"
   },
   {
    "duration": 8,
    "start_time": "2023-06-04T15:40:16.378Z"
   },
   {
    "duration": 9,
    "start_time": "2023-06-04T15:40:16.387Z"
   },
   {
    "duration": 6,
    "start_time": "2023-06-04T15:40:16.397Z"
   },
   {
    "duration": 133,
    "start_time": "2023-06-04T15:40:16.404Z"
   },
   {
    "duration": 4,
    "start_time": "2023-06-04T15:40:16.539Z"
   },
   {
    "duration": 9,
    "start_time": "2023-06-04T15:40:16.544Z"
   },
   {
    "duration": 6,
    "start_time": "2023-06-04T15:40:16.555Z"
   },
   {
    "duration": 7,
    "start_time": "2023-06-04T15:40:16.563Z"
   },
   {
    "duration": 196,
    "start_time": "2023-06-04T15:40:16.571Z"
   },
   {
    "duration": 3727,
    "start_time": "2023-06-04T15:40:16.769Z"
   },
   {
    "duration": 942,
    "start_time": "2023-06-04T15:40:20.498Z"
   },
   {
    "duration": 8638,
    "start_time": "2023-06-04T15:40:21.442Z"
   },
   {
    "duration": 329,
    "start_time": "2023-06-04T15:40:30.082Z"
   },
   {
    "duration": 15,
    "start_time": "2023-06-04T15:40:30.412Z"
   },
   {
    "duration": 96,
    "start_time": "2023-06-04T15:40:30.429Z"
   },
   {
    "duration": 38,
    "start_time": "2023-06-04T15:40:30.527Z"
   },
   {
    "duration": 25,
    "start_time": "2023-06-04T15:40:30.566Z"
   },
   {
    "duration": 31,
    "start_time": "2023-06-04T15:40:30.594Z"
   },
   {
    "duration": 34,
    "start_time": "2023-06-04T15:40:30.627Z"
   },
   {
    "duration": 29,
    "start_time": "2023-06-04T15:40:30.663Z"
   },
   {
    "duration": 26,
    "start_time": "2023-06-04T15:40:30.694Z"
   },
   {
    "duration": 10753,
    "start_time": "2023-06-04T15:40:30.722Z"
   },
   {
    "duration": 6,
    "start_time": "2023-06-04T15:40:41.476Z"
   },
   {
    "duration": 640,
    "start_time": "2023-06-04T15:40:41.484Z"
   },
   {
    "duration": 7,
    "start_time": "2023-06-04T15:40:42.126Z"
   },
   {
    "duration": 27491,
    "start_time": "2023-06-04T15:40:42.134Z"
   },
   {
    "duration": 151,
    "start_time": "2023-06-04T15:41:09.627Z"
   },
   {
    "duration": 0,
    "start_time": "2023-06-04T15:41:09.780Z"
   },
   {
    "duration": 0,
    "start_time": "2023-06-04T15:41:09.782Z"
   },
   {
    "duration": 0,
    "start_time": "2023-06-04T15:41:09.783Z"
   },
   {
    "duration": 0,
    "start_time": "2023-06-04T15:41:09.785Z"
   },
   {
    "duration": 0,
    "start_time": "2023-06-04T15:41:09.786Z"
   },
   {
    "duration": 0,
    "start_time": "2023-06-04T15:41:09.787Z"
   },
   {
    "duration": 16,
    "start_time": "2023-06-04T15:42:26.457Z"
   },
   {
    "duration": 7808,
    "start_time": "2023-06-04T15:44:36.464Z"
   },
   {
    "duration": 8,
    "start_time": "2023-06-04T15:44:49.165Z"
   },
   {
    "duration": 6,
    "start_time": "2023-06-04T15:45:07.350Z"
   },
   {
    "duration": 7,
    "start_time": "2023-06-04T15:45:09.972Z"
   },
   {
    "duration": 4,
    "start_time": "2023-06-04T15:45:30.293Z"
   },
   {
    "duration": 4,
    "start_time": "2023-06-04T15:45:30.980Z"
   },
   {
    "duration": 39897,
    "start_time": "2023-06-04T15:45:31.947Z"
   },
   {
    "duration": 172,
    "start_time": "2023-06-04T15:46:22.206Z"
   },
   {
    "duration": 615,
    "start_time": "2023-06-04T15:46:22.765Z"
   },
   {
    "duration": 1844,
    "start_time": "2023-06-04T15:46:31.208Z"
   },
   {
    "duration": 45,
    "start_time": "2023-06-04T15:46:33.054Z"
   },
   {
    "duration": 16,
    "start_time": "2023-06-04T15:46:33.101Z"
   },
   {
    "duration": 46,
    "start_time": "2023-06-04T15:46:33.119Z"
   },
   {
    "duration": 3,
    "start_time": "2023-06-04T15:46:33.166Z"
   },
   {
    "duration": 112,
    "start_time": "2023-06-04T15:46:33.171Z"
   },
   {
    "duration": 352,
    "start_time": "2023-06-04T15:46:33.285Z"
   },
   {
    "duration": 274,
    "start_time": "2023-06-04T15:46:33.639Z"
   },
   {
    "duration": 295,
    "start_time": "2023-06-04T15:46:33.915Z"
   },
   {
    "duration": 315,
    "start_time": "2023-06-04T15:46:34.213Z"
   },
   {
    "duration": 11,
    "start_time": "2023-06-04T15:46:34.530Z"
   },
   {
    "duration": 59,
    "start_time": "2023-06-04T15:46:34.542Z"
   },
   {
    "duration": 33,
    "start_time": "2023-06-04T15:46:34.602Z"
   },
   {
    "duration": 209,
    "start_time": "2023-06-04T15:46:34.636Z"
   },
   {
    "duration": 7,
    "start_time": "2023-06-04T15:46:34.848Z"
   },
   {
    "duration": 40,
    "start_time": "2023-06-04T15:46:34.856Z"
   },
   {
    "duration": 32,
    "start_time": "2023-06-04T15:46:34.898Z"
   },
   {
    "duration": 46,
    "start_time": "2023-06-04T15:46:34.933Z"
   },
   {
    "duration": 211,
    "start_time": "2023-06-04T15:46:34.981Z"
   },
   {
    "duration": 3892,
    "start_time": "2023-06-04T15:46:35.193Z"
   },
   {
    "duration": 999,
    "start_time": "2023-06-04T15:46:39.088Z"
   },
   {
    "duration": 9567,
    "start_time": "2023-06-04T15:46:40.089Z"
   },
   {
    "duration": 290,
    "start_time": "2023-06-04T15:46:49.657Z"
   },
   {
    "duration": 7,
    "start_time": "2023-06-04T15:46:49.949Z"
   },
   {
    "duration": 30,
    "start_time": "2023-06-04T15:46:49.957Z"
   },
   {
    "duration": 3,
    "start_time": "2023-06-04T15:46:49.989Z"
   },
   {
    "duration": 5,
    "start_time": "2023-06-04T15:46:49.993Z"
   },
   {
    "duration": 4,
    "start_time": "2023-06-04T15:46:50.001Z"
   },
   {
    "duration": 8,
    "start_time": "2023-06-04T15:46:50.006Z"
   },
   {
    "duration": 9,
    "start_time": "2023-06-04T15:46:50.015Z"
   },
   {
    "duration": 6,
    "start_time": "2023-06-04T15:46:50.026Z"
   },
   {
    "duration": 11248,
    "start_time": "2023-06-04T15:46:50.034Z"
   },
   {
    "duration": 9,
    "start_time": "2023-06-04T15:47:01.284Z"
   },
   {
    "duration": 738,
    "start_time": "2023-06-04T15:47:01.295Z"
   },
   {
    "duration": 7,
    "start_time": "2023-06-04T15:47:02.034Z"
   },
   {
    "duration": 25748,
    "start_time": "2023-06-04T15:47:02.042Z"
   },
   {
    "duration": 155,
    "start_time": "2023-06-04T15:47:27.791Z"
   },
   {
    "duration": 0,
    "start_time": "2023-06-04T15:47:27.948Z"
   },
   {
    "duration": 0,
    "start_time": "2023-06-04T15:47:27.949Z"
   },
   {
    "duration": 0,
    "start_time": "2023-06-04T15:47:27.951Z"
   },
   {
    "duration": 0,
    "start_time": "2023-06-04T15:47:27.952Z"
   },
   {
    "duration": 0,
    "start_time": "2023-06-04T15:47:27.953Z"
   },
   {
    "duration": 0,
    "start_time": "2023-06-04T15:47:27.955Z"
   },
   {
    "duration": 9117,
    "start_time": "2023-06-04T15:47:49.635Z"
   },
   {
    "duration": 9,
    "start_time": "2023-06-04T15:48:02.143Z"
   },
   {
    "duration": 1946,
    "start_time": "2023-06-04T15:48:24.011Z"
   },
   {
    "duration": 37,
    "start_time": "2023-06-04T15:48:25.959Z"
   },
   {
    "duration": 11,
    "start_time": "2023-06-04T15:48:25.998Z"
   },
   {
    "duration": 25,
    "start_time": "2023-06-04T15:48:26.011Z"
   },
   {
    "duration": 4,
    "start_time": "2023-06-04T15:48:26.037Z"
   },
   {
    "duration": 14,
    "start_time": "2023-06-04T15:48:26.042Z"
   },
   {
    "duration": 283,
    "start_time": "2023-06-04T15:48:26.058Z"
   },
   {
    "duration": 271,
    "start_time": "2023-06-04T15:48:26.343Z"
   },
   {
    "duration": 288,
    "start_time": "2023-06-04T15:48:26.616Z"
   },
   {
    "duration": 248,
    "start_time": "2023-06-04T15:48:26.907Z"
   },
   {
    "duration": 8,
    "start_time": "2023-06-04T15:48:27.157Z"
   },
   {
    "duration": 9,
    "start_time": "2023-06-04T15:48:27.166Z"
   },
   {
    "duration": 9,
    "start_time": "2023-06-04T15:48:27.176Z"
   },
   {
    "duration": 174,
    "start_time": "2023-06-04T15:48:27.187Z"
   },
   {
    "duration": 4,
    "start_time": "2023-06-04T15:48:27.362Z"
   },
   {
    "duration": 8,
    "start_time": "2023-06-04T15:48:27.368Z"
   },
   {
    "duration": 8,
    "start_time": "2023-06-04T15:48:27.377Z"
   },
   {
    "duration": 11,
    "start_time": "2023-06-04T15:48:27.386Z"
   },
   {
    "duration": 213,
    "start_time": "2023-06-04T15:48:27.399Z"
   },
   {
    "duration": 4041,
    "start_time": "2023-06-04T15:48:27.613Z"
   },
   {
    "duration": 1010,
    "start_time": "2023-06-04T15:48:31.656Z"
   },
   {
    "duration": 9418,
    "start_time": "2023-06-04T15:48:32.668Z"
   },
   {
    "duration": 339,
    "start_time": "2023-06-04T15:48:42.087Z"
   },
   {
    "duration": 8,
    "start_time": "2023-06-04T15:48:42.427Z"
   },
   {
    "duration": 32,
    "start_time": "2023-06-04T15:48:42.436Z"
   },
   {
    "duration": 22,
    "start_time": "2023-06-04T15:48:42.470Z"
   },
   {
    "duration": 25,
    "start_time": "2023-06-04T15:48:42.494Z"
   },
   {
    "duration": 21,
    "start_time": "2023-06-04T15:48:42.523Z"
   },
   {
    "duration": 24,
    "start_time": "2023-06-04T15:48:42.545Z"
   },
   {
    "duration": 29,
    "start_time": "2023-06-04T15:48:42.570Z"
   },
   {
    "duration": 25,
    "start_time": "2023-06-04T15:48:42.600Z"
   },
   {
    "duration": 10689,
    "start_time": "2023-06-04T15:48:42.626Z"
   },
   {
    "duration": 9,
    "start_time": "2023-06-04T15:48:53.317Z"
   },
   {
    "duration": 585,
    "start_time": "2023-06-04T15:48:53.328Z"
   },
   {
    "duration": 4,
    "start_time": "2023-06-04T15:48:53.915Z"
   },
   {
    "duration": 38713,
    "start_time": "2023-06-04T15:48:53.925Z"
   },
   {
    "duration": 144,
    "start_time": "2023-06-04T15:49:32.640Z"
   },
   {
    "duration": 0,
    "start_time": "2023-06-04T15:49:32.786Z"
   },
   {
    "duration": 1,
    "start_time": "2023-06-04T15:49:32.787Z"
   },
   {
    "duration": 0,
    "start_time": "2023-06-04T15:49:32.789Z"
   },
   {
    "duration": 0,
    "start_time": "2023-06-04T15:49:32.791Z"
   },
   {
    "duration": 0,
    "start_time": "2023-06-04T15:49:32.792Z"
   },
   {
    "duration": 0,
    "start_time": "2023-06-04T15:49:32.793Z"
   },
   {
    "duration": 16,
    "start_time": "2023-06-04T15:49:45.691Z"
   },
   {
    "duration": 30782,
    "start_time": "2023-06-04T15:49:51.985Z"
   },
   {
    "duration": 11,
    "start_time": "2023-06-04T15:50:32.970Z"
   },
   {
    "duration": 54283,
    "start_time": "2023-06-04T15:51:35.965Z"
   },
   {
    "duration": 12,
    "start_time": "2023-06-04T15:52:44.838Z"
   },
   {
    "duration": 1747,
    "start_time": "2023-06-04T15:53:32.169Z"
   },
   {
    "duration": 35,
    "start_time": "2023-06-04T15:53:33.918Z"
   },
   {
    "duration": 11,
    "start_time": "2023-06-04T15:53:33.954Z"
   },
   {
    "duration": 24,
    "start_time": "2023-06-04T15:53:33.966Z"
   },
   {
    "duration": 3,
    "start_time": "2023-06-04T15:53:33.992Z"
   },
   {
    "duration": 11,
    "start_time": "2023-06-04T15:53:33.996Z"
   },
   {
    "duration": 257,
    "start_time": "2023-06-04T15:53:34.009Z"
   },
   {
    "duration": 220,
    "start_time": "2023-06-04T15:53:34.267Z"
   },
   {
    "duration": 245,
    "start_time": "2023-06-04T15:53:34.489Z"
   },
   {
    "duration": 298,
    "start_time": "2023-06-04T15:53:34.737Z"
   },
   {
    "duration": 7,
    "start_time": "2023-06-04T15:53:35.037Z"
   },
   {
    "duration": 20,
    "start_time": "2023-06-04T15:53:35.046Z"
   },
   {
    "duration": 13,
    "start_time": "2023-06-04T15:53:35.067Z"
   },
   {
    "duration": 145,
    "start_time": "2023-06-04T15:53:35.081Z"
   },
   {
    "duration": 4,
    "start_time": "2023-06-04T15:53:35.227Z"
   },
   {
    "duration": 24,
    "start_time": "2023-06-04T15:53:35.233Z"
   },
   {
    "duration": 9,
    "start_time": "2023-06-04T15:53:35.258Z"
   },
   {
    "duration": 11,
    "start_time": "2023-06-04T15:53:35.269Z"
   },
   {
    "duration": 171,
    "start_time": "2023-06-04T15:53:35.282Z"
   },
   {
    "duration": 3651,
    "start_time": "2023-06-04T15:53:35.454Z"
   },
   {
    "duration": 912,
    "start_time": "2023-06-04T15:53:39.107Z"
   },
   {
    "duration": 9224,
    "start_time": "2023-06-04T15:53:40.024Z"
   },
   {
    "duration": 279,
    "start_time": "2023-06-04T15:53:49.249Z"
   },
   {
    "duration": 6,
    "start_time": "2023-06-04T15:53:49.530Z"
   },
   {
    "duration": 26,
    "start_time": "2023-06-04T15:53:49.537Z"
   },
   {
    "duration": 13,
    "start_time": "2023-06-04T15:53:49.564Z"
   },
   {
    "duration": 10,
    "start_time": "2023-06-04T15:53:49.578Z"
   },
   {
    "duration": 8,
    "start_time": "2023-06-04T15:53:49.590Z"
   },
   {
    "duration": 19,
    "start_time": "2023-06-04T15:53:49.600Z"
   },
   {
    "duration": 9,
    "start_time": "2023-06-04T15:53:49.620Z"
   },
   {
    "duration": 19,
    "start_time": "2023-06-04T15:53:49.631Z"
   },
   {
    "duration": 9968,
    "start_time": "2023-06-04T15:53:49.652Z"
   },
   {
    "duration": 5,
    "start_time": "2023-06-04T15:53:59.624Z"
   },
   {
    "duration": 549,
    "start_time": "2023-06-04T15:53:59.631Z"
   },
   {
    "duration": 5,
    "start_time": "2023-06-04T15:54:00.181Z"
   },
   {
    "duration": 51551,
    "start_time": "2023-06-04T15:54:00.187Z"
   },
   {
    "duration": 135,
    "start_time": "2023-06-04T15:54:51.740Z"
   },
   {
    "duration": 0,
    "start_time": "2023-06-04T15:54:51.876Z"
   },
   {
    "duration": 0,
    "start_time": "2023-06-04T15:54:51.878Z"
   },
   {
    "duration": 0,
    "start_time": "2023-06-04T15:54:51.879Z"
   },
   {
    "duration": 0,
    "start_time": "2023-06-04T15:54:51.880Z"
   },
   {
    "duration": 0,
    "start_time": "2023-06-04T15:54:51.881Z"
   },
   {
    "duration": 0,
    "start_time": "2023-06-04T15:54:51.882Z"
   },
   {
    "duration": 1766,
    "start_time": "2023-06-04T15:55:24.816Z"
   },
   {
    "duration": 35,
    "start_time": "2023-06-04T15:55:26.584Z"
   },
   {
    "duration": 10,
    "start_time": "2023-06-04T15:55:26.621Z"
   },
   {
    "duration": 50,
    "start_time": "2023-06-04T15:55:26.633Z"
   },
   {
    "duration": 4,
    "start_time": "2023-06-04T15:55:26.684Z"
   },
   {
    "duration": 8,
    "start_time": "2023-06-04T15:55:26.690Z"
   },
   {
    "duration": 260,
    "start_time": "2023-06-04T15:55:26.699Z"
   },
   {
    "duration": 229,
    "start_time": "2023-06-04T15:55:26.961Z"
   },
   {
    "duration": 255,
    "start_time": "2023-06-04T15:55:27.191Z"
   },
   {
    "duration": 239,
    "start_time": "2023-06-04T15:55:27.448Z"
   },
   {
    "duration": 7,
    "start_time": "2023-06-04T15:55:27.689Z"
   },
   {
    "duration": 48,
    "start_time": "2023-06-04T15:55:27.697Z"
   },
   {
    "duration": 93,
    "start_time": "2023-06-04T15:55:27.746Z"
   },
   {
    "duration": 139,
    "start_time": "2023-06-04T15:55:27.841Z"
   },
   {
    "duration": 4,
    "start_time": "2023-06-04T15:55:27.982Z"
   },
   {
    "duration": 20,
    "start_time": "2023-06-04T15:55:27.987Z"
   },
   {
    "duration": 29,
    "start_time": "2023-06-04T15:55:28.009Z"
   },
   {
    "duration": 10,
    "start_time": "2023-06-04T15:55:28.040Z"
   },
   {
    "duration": 175,
    "start_time": "2023-06-04T15:55:28.052Z"
   },
   {
    "duration": 3836,
    "start_time": "2023-06-04T15:55:28.229Z"
   },
   {
    "duration": 919,
    "start_time": "2023-06-04T15:55:32.067Z"
   },
   {
    "duration": 9521,
    "start_time": "2023-06-04T15:55:32.988Z"
   },
   {
    "duration": 327,
    "start_time": "2023-06-04T15:55:42.511Z"
   },
   {
    "duration": 8,
    "start_time": "2023-06-04T15:55:42.839Z"
   },
   {
    "duration": 26,
    "start_time": "2023-06-04T15:55:42.848Z"
   },
   {
    "duration": 3,
    "start_time": "2023-06-04T15:55:42.876Z"
   },
   {
    "duration": 10,
    "start_time": "2023-06-04T15:55:42.881Z"
   },
   {
    "duration": 5,
    "start_time": "2023-06-04T15:55:42.894Z"
   },
   {
    "duration": 24,
    "start_time": "2023-06-04T15:55:42.901Z"
   },
   {
    "duration": 5,
    "start_time": "2023-06-04T15:55:42.926Z"
   },
   {
    "duration": 10,
    "start_time": "2023-06-04T15:55:42.933Z"
   },
   {
    "duration": 10751,
    "start_time": "2023-06-04T15:55:42.945Z"
   },
   {
    "duration": 5,
    "start_time": "2023-06-04T15:55:53.698Z"
   },
   {
    "duration": 571,
    "start_time": "2023-06-04T15:55:53.705Z"
   },
   {
    "duration": 7,
    "start_time": "2023-06-04T15:55:54.278Z"
   },
   {
    "duration": 37114,
    "start_time": "2023-06-04T15:55:54.286Z"
   },
   {
    "duration": 148,
    "start_time": "2023-06-04T15:56:31.401Z"
   },
   {
    "duration": 0,
    "start_time": "2023-06-04T15:56:31.550Z"
   },
   {
    "duration": 0,
    "start_time": "2023-06-04T15:56:31.552Z"
   },
   {
    "duration": 0,
    "start_time": "2023-06-04T15:56:31.553Z"
   },
   {
    "duration": 0,
    "start_time": "2023-06-04T15:56:31.554Z"
   },
   {
    "duration": 0,
    "start_time": "2023-06-04T15:56:31.556Z"
   },
   {
    "duration": 0,
    "start_time": "2023-06-04T15:56:31.557Z"
   },
   {
    "duration": 1996,
    "start_time": "2023-06-04T15:56:59.603Z"
   },
   {
    "duration": 40,
    "start_time": "2023-06-04T15:57:01.601Z"
   },
   {
    "duration": 56,
    "start_time": "2023-06-04T15:57:01.643Z"
   },
   {
    "duration": 91,
    "start_time": "2023-06-04T15:57:01.701Z"
   },
   {
    "duration": 34,
    "start_time": "2023-06-04T15:57:01.794Z"
   },
   {
    "duration": 45,
    "start_time": "2023-06-04T15:57:01.829Z"
   },
   {
    "duration": 334,
    "start_time": "2023-06-04T15:57:01.876Z"
   },
   {
    "duration": 254,
    "start_time": "2023-06-04T15:57:02.212Z"
   },
   {
    "duration": 276,
    "start_time": "2023-06-04T15:57:02.469Z"
   },
   {
    "duration": 257,
    "start_time": "2023-06-04T15:57:02.750Z"
   },
   {
    "duration": 7,
    "start_time": "2023-06-04T15:57:03.009Z"
   },
   {
    "duration": 10,
    "start_time": "2023-06-04T15:57:03.025Z"
   },
   {
    "duration": 32,
    "start_time": "2023-06-04T15:57:03.038Z"
   },
   {
    "duration": 166,
    "start_time": "2023-06-04T15:57:03.073Z"
   },
   {
    "duration": 5,
    "start_time": "2023-06-04T15:57:03.241Z"
   },
   {
    "duration": 33,
    "start_time": "2023-06-04T15:57:03.248Z"
   },
   {
    "duration": 43,
    "start_time": "2023-06-04T15:57:03.283Z"
   },
   {
    "duration": 15,
    "start_time": "2023-06-04T15:57:03.328Z"
   },
   {
    "duration": 233,
    "start_time": "2023-06-04T15:57:03.345Z"
   },
   {
    "duration": 4037,
    "start_time": "2023-06-04T15:57:03.580Z"
   },
   {
    "duration": 930,
    "start_time": "2023-06-04T15:57:07.619Z"
   },
   {
    "duration": 8881,
    "start_time": "2023-06-04T15:57:08.551Z"
   },
   {
    "duration": 304,
    "start_time": "2023-06-04T15:57:17.434Z"
   },
   {
    "duration": 6,
    "start_time": "2023-06-04T15:57:17.740Z"
   },
   {
    "duration": 31,
    "start_time": "2023-06-04T15:57:17.748Z"
   },
   {
    "duration": 32,
    "start_time": "2023-06-04T15:57:17.781Z"
   },
   {
    "duration": 6,
    "start_time": "2023-06-04T15:57:17.815Z"
   },
   {
    "duration": 18,
    "start_time": "2023-06-04T15:57:17.822Z"
   },
   {
    "duration": 14,
    "start_time": "2023-06-04T15:57:17.842Z"
   },
   {
    "duration": 6,
    "start_time": "2023-06-04T15:57:17.858Z"
   },
   {
    "duration": 17,
    "start_time": "2023-06-04T15:57:17.865Z"
   },
   {
    "duration": 10075,
    "start_time": "2023-06-04T15:57:17.884Z"
   },
   {
    "duration": 5,
    "start_time": "2023-06-04T15:57:27.961Z"
   },
   {
    "duration": 563,
    "start_time": "2023-06-04T15:57:27.967Z"
   },
   {
    "duration": 5,
    "start_time": "2023-06-04T15:57:28.532Z"
   },
   {
    "duration": 43157,
    "start_time": "2023-06-04T15:57:28.538Z"
   },
   {
    "duration": 8,
    "start_time": "2023-06-04T15:58:11.697Z"
   },
   {
    "duration": 18,
    "start_time": "2023-06-04T15:58:11.706Z"
   },
   {
    "duration": 6,
    "start_time": "2023-06-04T15:58:11.726Z"
   },
   {
    "duration": 7,
    "start_time": "2023-06-04T15:58:11.734Z"
   },
   {
    "duration": 38090,
    "start_time": "2023-06-04T15:58:11.745Z"
   },
   {
    "duration": 206,
    "start_time": "2023-06-04T15:58:49.837Z"
   },
   {
    "duration": 573,
    "start_time": "2023-06-04T15:58:50.044Z"
   },
   {
    "duration": 5,
    "start_time": "2023-06-04T16:03:49.168Z"
   },
   {
    "duration": 4,
    "start_time": "2023-06-04T16:03:49.657Z"
   },
   {
    "duration": 44324,
    "start_time": "2023-06-04T16:03:50.102Z"
   },
   {
    "duration": 5,
    "start_time": "2023-06-04T16:04:51.746Z"
   },
   {
    "duration": 2,
    "start_time": "2023-06-04T16:12:49.664Z"
   },
   {
    "duration": 3,
    "start_time": "2023-06-04T16:13:07.810Z"
   },
   {
    "duration": 1817,
    "start_time": "2023-06-04T16:21:09.647Z"
   },
   {
    "duration": 37,
    "start_time": "2023-06-04T16:21:11.466Z"
   },
   {
    "duration": 11,
    "start_time": "2023-06-04T16:21:11.505Z"
   },
   {
    "duration": 30,
    "start_time": "2023-06-04T16:21:11.518Z"
   },
   {
    "duration": 4,
    "start_time": "2023-06-04T16:21:11.549Z"
   },
   {
    "duration": 14,
    "start_time": "2023-06-04T16:21:11.554Z"
   },
   {
    "duration": 307,
    "start_time": "2023-06-04T16:21:11.569Z"
   },
   {
    "duration": 251,
    "start_time": "2023-06-04T16:21:11.877Z"
   },
   {
    "duration": 296,
    "start_time": "2023-06-04T16:21:12.130Z"
   },
   {
    "duration": 256,
    "start_time": "2023-06-04T16:21:12.430Z"
   },
   {
    "duration": 8,
    "start_time": "2023-06-04T16:21:12.688Z"
   },
   {
    "duration": 9,
    "start_time": "2023-06-04T16:21:12.697Z"
   },
   {
    "duration": 17,
    "start_time": "2023-06-04T16:21:12.708Z"
   },
   {
    "duration": 146,
    "start_time": "2023-06-04T16:21:12.727Z"
   },
   {
    "duration": 4,
    "start_time": "2023-06-04T16:21:12.875Z"
   },
   {
    "duration": 8,
    "start_time": "2023-06-04T16:21:12.880Z"
   },
   {
    "duration": 9,
    "start_time": "2023-06-04T16:21:12.889Z"
   },
   {
    "duration": 23,
    "start_time": "2023-06-04T16:21:12.899Z"
   },
   {
    "duration": 185,
    "start_time": "2023-06-04T16:21:12.925Z"
   },
   {
    "duration": 3806,
    "start_time": "2023-06-04T16:21:13.111Z"
   },
   {
    "duration": 853,
    "start_time": "2023-06-04T16:21:16.919Z"
   },
   {
    "duration": 8676,
    "start_time": "2023-06-04T16:21:17.774Z"
   },
   {
    "duration": 281,
    "start_time": "2023-06-04T16:21:26.452Z"
   },
   {
    "duration": 7,
    "start_time": "2023-06-04T16:21:26.734Z"
   },
   {
    "duration": 27,
    "start_time": "2023-06-04T16:21:26.742Z"
   },
   {
    "duration": 13,
    "start_time": "2023-06-04T16:21:26.770Z"
   },
   {
    "duration": 7,
    "start_time": "2023-06-04T16:21:26.784Z"
   },
   {
    "duration": 20,
    "start_time": "2023-06-04T16:21:26.794Z"
   },
   {
    "duration": 11,
    "start_time": "2023-06-04T16:21:26.815Z"
   },
   {
    "duration": 25,
    "start_time": "2023-06-04T16:21:26.827Z"
   },
   {
    "duration": 16,
    "start_time": "2023-06-04T16:21:26.854Z"
   },
   {
    "duration": 9784,
    "start_time": "2023-06-04T16:21:26.872Z"
   },
   {
    "duration": 6,
    "start_time": "2023-06-04T16:21:36.658Z"
   },
   {
    "duration": 546,
    "start_time": "2023-06-04T16:21:36.665Z"
   },
   {
    "duration": 10,
    "start_time": "2023-06-04T16:21:37.214Z"
   },
   {
    "duration": 47171,
    "start_time": "2023-06-04T16:21:37.226Z"
   },
   {
    "duration": 8,
    "start_time": "2023-06-04T16:22:24.398Z"
   },
   {
    "duration": 26,
    "start_time": "2023-06-04T16:22:24.408Z"
   },
   {
    "duration": 48,
    "start_time": "2023-06-04T16:22:24.435Z"
   },
   {
    "duration": 24,
    "start_time": "2023-06-04T16:22:24.485Z"
   },
   {
    "duration": 64928,
    "start_time": "2023-06-04T16:22:24.510Z"
   },
   {
    "duration": 245,
    "start_time": "2023-06-04T16:23:29.439Z"
   },
   {
    "duration": 644,
    "start_time": "2023-06-04T16:23:29.685Z"
   },
   {
    "duration": 1833,
    "start_time": "2023-06-05T10:04:58.695Z"
   },
   {
    "duration": 0,
    "start_time": "2023-06-05T10:05:00.532Z"
   },
   {
    "duration": 0,
    "start_time": "2023-06-05T10:05:00.533Z"
   },
   {
    "duration": 0,
    "start_time": "2023-06-05T10:05:00.535Z"
   },
   {
    "duration": 0,
    "start_time": "2023-06-05T10:05:00.537Z"
   },
   {
    "duration": 0,
    "start_time": "2023-06-05T10:05:00.538Z"
   },
   {
    "duration": 0,
    "start_time": "2023-06-05T10:05:00.540Z"
   },
   {
    "duration": 0,
    "start_time": "2023-06-05T10:05:00.541Z"
   },
   {
    "duration": 0,
    "start_time": "2023-06-05T10:05:00.543Z"
   },
   {
    "duration": 0,
    "start_time": "2023-06-05T10:05:00.543Z"
   },
   {
    "duration": 0,
    "start_time": "2023-06-05T10:05:00.544Z"
   },
   {
    "duration": 0,
    "start_time": "2023-06-05T10:05:00.545Z"
   },
   {
    "duration": 0,
    "start_time": "2023-06-05T10:05:00.585Z"
   },
   {
    "duration": 0,
    "start_time": "2023-06-05T10:05:00.586Z"
   },
   {
    "duration": 0,
    "start_time": "2023-06-05T10:05:00.588Z"
   },
   {
    "duration": 0,
    "start_time": "2023-06-05T10:05:00.589Z"
   },
   {
    "duration": 0,
    "start_time": "2023-06-05T10:05:00.591Z"
   },
   {
    "duration": 0,
    "start_time": "2023-06-05T10:05:00.593Z"
   },
   {
    "duration": 0,
    "start_time": "2023-06-05T10:05:00.594Z"
   },
   {
    "duration": 0,
    "start_time": "2023-06-05T10:05:00.595Z"
   },
   {
    "duration": 0,
    "start_time": "2023-06-05T10:05:00.596Z"
   },
   {
    "duration": 0,
    "start_time": "2023-06-05T10:05:00.598Z"
   },
   {
    "duration": 0,
    "start_time": "2023-06-05T10:05:00.599Z"
   },
   {
    "duration": 0,
    "start_time": "2023-06-05T10:05:00.601Z"
   },
   {
    "duration": 0,
    "start_time": "2023-06-05T10:05:00.602Z"
   },
   {
    "duration": 0,
    "start_time": "2023-06-05T10:05:00.604Z"
   },
   {
    "duration": 0,
    "start_time": "2023-06-05T10:05:00.605Z"
   },
   {
    "duration": 0,
    "start_time": "2023-06-05T10:05:00.607Z"
   },
   {
    "duration": 0,
    "start_time": "2023-06-05T10:05:00.608Z"
   },
   {
    "duration": 0,
    "start_time": "2023-06-05T10:05:00.610Z"
   },
   {
    "duration": 0,
    "start_time": "2023-06-05T10:05:00.611Z"
   },
   {
    "duration": 0,
    "start_time": "2023-06-05T10:05:00.612Z"
   },
   {
    "duration": 0,
    "start_time": "2023-06-05T10:05:00.614Z"
   },
   {
    "duration": 0,
    "start_time": "2023-06-05T10:05:00.616Z"
   },
   {
    "duration": 0,
    "start_time": "2023-06-05T10:05:00.617Z"
   },
   {
    "duration": 0,
    "start_time": "2023-06-05T10:05:00.618Z"
   },
   {
    "duration": 0,
    "start_time": "2023-06-05T10:05:00.620Z"
   },
   {
    "duration": 0,
    "start_time": "2023-06-05T10:05:00.685Z"
   },
   {
    "duration": 0,
    "start_time": "2023-06-05T10:05:00.687Z"
   },
   {
    "duration": 0,
    "start_time": "2023-06-05T10:05:00.688Z"
   },
   {
    "duration": 0,
    "start_time": "2023-06-05T10:05:00.690Z"
   },
   {
    "duration": 0,
    "start_time": "2023-06-05T10:05:00.692Z"
   },
   {
    "duration": 0,
    "start_time": "2023-06-05T10:05:00.694Z"
   },
   {
    "duration": 3825,
    "start_time": "2023-06-05T10:07:10.159Z"
   },
   {
    "duration": 2463,
    "start_time": "2023-06-05T10:07:18.859Z"
   },
   {
    "duration": 92,
    "start_time": "2023-06-05T10:07:30.199Z"
   },
   {
    "duration": 12,
    "start_time": "2023-06-05T10:07:30.293Z"
   },
   {
    "duration": 117,
    "start_time": "2023-06-05T10:07:30.307Z"
   },
   {
    "duration": 63,
    "start_time": "2023-06-05T10:07:30.426Z"
   },
   {
    "duration": 65,
    "start_time": "2023-06-05T10:07:30.491Z"
   },
   {
    "duration": 297,
    "start_time": "2023-06-05T10:07:30.558Z"
   },
   {
    "duration": 238,
    "start_time": "2023-06-05T10:07:30.856Z"
   },
   {
    "duration": 261,
    "start_time": "2023-06-05T10:07:31.096Z"
   },
   {
    "duration": 281,
    "start_time": "2023-06-05T10:07:31.359Z"
   },
   {
    "duration": 9,
    "start_time": "2023-06-05T10:07:31.642Z"
   },
   {
    "duration": 98,
    "start_time": "2023-06-05T10:07:31.653Z"
   },
   {
    "duration": 34,
    "start_time": "2023-06-05T10:07:31.753Z"
   },
   {
    "duration": 170,
    "start_time": "2023-06-05T10:07:31.789Z"
   },
   {
    "duration": 4,
    "start_time": "2023-06-05T10:07:31.961Z"
   },
   {
    "duration": 38,
    "start_time": "2023-06-05T10:07:31.967Z"
   },
   {
    "duration": 38,
    "start_time": "2023-06-05T10:07:32.007Z"
   },
   {
    "duration": 46,
    "start_time": "2023-06-05T10:07:32.048Z"
   },
   {
    "duration": 209,
    "start_time": "2023-06-05T10:07:32.096Z"
   },
   {
    "duration": 3757,
    "start_time": "2023-06-05T10:07:32.307Z"
   },
   {
    "duration": 964,
    "start_time": "2023-06-05T10:07:36.066Z"
   },
   {
    "duration": 7534,
    "start_time": "2023-06-05T10:07:37.032Z"
   },
   {
    "duration": 317,
    "start_time": "2023-06-05T10:07:44.568Z"
   },
   {
    "duration": 11,
    "start_time": "2023-06-05T10:07:44.887Z"
   },
   {
    "duration": 28,
    "start_time": "2023-06-05T10:07:44.901Z"
   },
   {
    "duration": 5,
    "start_time": "2023-06-05T10:07:44.931Z"
   },
   {
    "duration": 17,
    "start_time": "2023-06-05T10:07:44.938Z"
   },
   {
    "duration": 15,
    "start_time": "2023-06-05T10:07:44.957Z"
   },
   {
    "duration": 17,
    "start_time": "2023-06-05T10:07:44.976Z"
   },
   {
    "duration": 65,
    "start_time": "2023-06-05T10:07:44.995Z"
   },
   {
    "duration": 41,
    "start_time": "2023-06-05T10:07:45.061Z"
   },
   {
    "duration": 8887,
    "start_time": "2023-06-05T10:07:45.103Z"
   },
   {
    "duration": 6,
    "start_time": "2023-06-05T10:07:53.992Z"
   },
   {
    "duration": 613,
    "start_time": "2023-06-05T10:07:54.000Z"
   },
   {
    "duration": 6,
    "start_time": "2023-06-05T10:07:54.614Z"
   },
   {
    "duration": 35930,
    "start_time": "2023-06-05T10:07:54.622Z"
   },
   {
    "duration": 8,
    "start_time": "2023-06-05T10:08:30.554Z"
   },
   {
    "duration": 74,
    "start_time": "2023-06-05T10:08:30.564Z"
   },
   {
    "duration": 67,
    "start_time": "2023-06-05T10:08:30.640Z"
   },
   {
    "duration": 69,
    "start_time": "2023-06-05T10:08:30.708Z"
   },
   {
    "duration": 55307,
    "start_time": "2023-06-05T10:08:30.778Z"
   },
   {
    "duration": 307,
    "start_time": "2023-06-05T10:09:26.088Z"
   },
   {
    "duration": 609,
    "start_time": "2023-06-05T10:09:26.398Z"
   },
   {
    "duration": 1663,
    "start_time": "2023-06-05T12:05:41.807Z"
   },
   {
    "duration": 3164,
    "start_time": "2023-06-05T12:06:17.672Z"
   },
   {
    "duration": 7351,
    "start_time": "2023-06-05T12:06:24.490Z"
   },
   {
    "duration": 83,
    "start_time": "2023-06-05T12:06:36.035Z"
   },
   {
    "duration": 12,
    "start_time": "2023-06-05T12:06:38.264Z"
   },
   {
    "duration": 26,
    "start_time": "2023-06-05T12:06:39.263Z"
   },
   {
    "duration": 4,
    "start_time": "2023-06-05T12:06:41.932Z"
   },
   {
    "duration": 3,
    "start_time": "2023-06-05T12:06:42.764Z"
   },
   {
    "duration": 299,
    "start_time": "2023-06-05T12:06:46.421Z"
   },
   {
    "duration": 270,
    "start_time": "2023-06-05T12:06:47.048Z"
   },
   {
    "duration": 277,
    "start_time": "2023-06-05T12:06:47.965Z"
   },
   {
    "duration": 250,
    "start_time": "2023-06-05T12:06:48.593Z"
   },
   {
    "duration": 7,
    "start_time": "2023-06-05T12:06:51.123Z"
   },
   {
    "duration": 6,
    "start_time": "2023-06-05T12:06:51.742Z"
   },
   {
    "duration": 5,
    "start_time": "2023-06-05T12:06:55.012Z"
   },
   {
    "duration": 143,
    "start_time": "2023-06-05T12:06:55.506Z"
   },
   {
    "duration": 5,
    "start_time": "2023-06-05T12:07:00.602Z"
   },
   {
    "duration": 5,
    "start_time": "2023-06-05T12:07:02.829Z"
   },
   {
    "duration": 7,
    "start_time": "2023-06-05T12:07:04.714Z"
   },
   {
    "duration": 5,
    "start_time": "2023-06-05T12:07:06.988Z"
   },
   {
    "duration": 7,
    "start_time": "2023-06-05T12:13:11.597Z"
   },
   {
    "duration": 8,
    "start_time": "2023-06-05T12:13:12.431Z"
   },
   {
    "duration": 7,
    "start_time": "2023-06-05T12:14:25.002Z"
   },
   {
    "duration": 5,
    "start_time": "2023-06-05T12:14:25.613Z"
   },
   {
    "duration": 2499,
    "start_time": "2023-06-05T12:15:26.173Z"
   },
   {
    "duration": 2169,
    "start_time": "2023-06-05T12:15:28.675Z"
   },
   {
    "duration": 40,
    "start_time": "2023-06-05T12:15:30.846Z"
   },
   {
    "duration": 13,
    "start_time": "2023-06-05T12:15:30.889Z"
   },
   {
    "duration": 43,
    "start_time": "2023-06-05T12:15:30.904Z"
   },
   {
    "duration": 28,
    "start_time": "2023-06-05T12:15:30.949Z"
   },
   {
    "duration": 32,
    "start_time": "2023-06-05T12:15:30.979Z"
   },
   {
    "duration": 345,
    "start_time": "2023-06-05T12:15:31.013Z"
   },
   {
    "duration": 286,
    "start_time": "2023-06-05T12:15:31.360Z"
   },
   {
    "duration": 324,
    "start_time": "2023-06-05T12:15:31.650Z"
   },
   {
    "duration": 279,
    "start_time": "2023-06-05T12:15:31.976Z"
   },
   {
    "duration": 7,
    "start_time": "2023-06-05T12:15:32.257Z"
   },
   {
    "duration": 35,
    "start_time": "2023-06-05T12:15:32.266Z"
   },
   {
    "duration": 24,
    "start_time": "2023-06-05T12:15:32.303Z"
   },
   {
    "duration": 176,
    "start_time": "2023-06-05T12:15:32.330Z"
   },
   {
    "duration": 6,
    "start_time": "2023-06-05T12:15:32.508Z"
   },
   {
    "duration": 25,
    "start_time": "2023-06-05T12:15:32.516Z"
   },
   {
    "duration": 29,
    "start_time": "2023-06-05T12:15:32.543Z"
   },
   {
    "duration": 29,
    "start_time": "2023-06-05T12:15:32.574Z"
   },
   {
    "duration": 201,
    "start_time": "2023-06-05T12:15:32.605Z"
   },
   {
    "duration": 4240,
    "start_time": "2023-06-05T12:15:32.808Z"
   },
   {
    "duration": 975,
    "start_time": "2023-06-05T12:15:37.049Z"
   },
   {
    "duration": 10084,
    "start_time": "2023-06-05T12:15:38.025Z"
   },
   {
    "duration": 348,
    "start_time": "2023-06-05T12:15:48.110Z"
   },
   {
    "duration": 7,
    "start_time": "2023-06-05T12:15:48.461Z"
   },
   {
    "duration": 20,
    "start_time": "2023-06-05T12:15:48.470Z"
   },
   {
    "duration": 68,
    "start_time": "2023-06-05T12:15:48.492Z"
   },
   {
    "duration": 6,
    "start_time": "2023-06-05T12:15:48.563Z"
   },
   {
    "duration": 6,
    "start_time": "2023-06-05T12:15:48.570Z"
   },
   {
    "duration": 43,
    "start_time": "2023-06-05T12:15:48.577Z"
   },
   {
    "duration": 3,
    "start_time": "2023-06-05T12:15:48.622Z"
   },
   {
    "duration": 10,
    "start_time": "2023-06-05T12:15:48.627Z"
   },
   {
    "duration": 11325,
    "start_time": "2023-06-05T12:15:48.638Z"
   },
   {
    "duration": 5,
    "start_time": "2023-06-05T12:15:59.965Z"
   },
   {
    "duration": 615,
    "start_time": "2023-06-05T12:15:59.972Z"
   },
   {
    "duration": 5,
    "start_time": "2023-06-05T12:16:00.589Z"
   },
   {
    "duration": 2281,
    "start_time": "2023-06-05T12:16:09.110Z"
   },
   {
    "duration": 1967,
    "start_time": "2023-06-05T12:16:11.393Z"
   },
   {
    "duration": 40,
    "start_time": "2023-06-05T12:16:13.362Z"
   },
   {
    "duration": 12,
    "start_time": "2023-06-05T12:16:13.410Z"
   },
   {
    "duration": 39,
    "start_time": "2023-06-05T12:16:13.423Z"
   },
   {
    "duration": 5,
    "start_time": "2023-06-05T12:16:13.464Z"
   },
   {
    "duration": 32,
    "start_time": "2023-06-05T12:16:13.471Z"
   },
   {
    "duration": 320,
    "start_time": "2023-06-05T12:16:13.504Z"
   },
   {
    "duration": 273,
    "start_time": "2023-06-05T12:16:13.826Z"
   },
   {
    "duration": 307,
    "start_time": "2023-06-05T12:16:14.103Z"
   },
   {
    "duration": 270,
    "start_time": "2023-06-05T12:16:14.412Z"
   },
   {
    "duration": 9,
    "start_time": "2023-06-05T12:16:14.684Z"
   },
   {
    "duration": 19,
    "start_time": "2023-06-05T12:16:14.695Z"
   },
   {
    "duration": 25,
    "start_time": "2023-06-05T12:16:14.715Z"
   },
   {
    "duration": 161,
    "start_time": "2023-06-05T12:16:14.742Z"
   },
   {
    "duration": 5,
    "start_time": "2023-06-05T12:16:14.904Z"
   },
   {
    "duration": 11,
    "start_time": "2023-06-05T12:16:14.910Z"
   },
   {
    "duration": 12,
    "start_time": "2023-06-05T12:16:14.923Z"
   },
   {
    "duration": 22,
    "start_time": "2023-06-05T12:16:14.937Z"
   },
   {
    "duration": 165,
    "start_time": "2023-06-05T12:16:14.960Z"
   },
   {
    "duration": 3965,
    "start_time": "2023-06-05T12:16:15.127Z"
   },
   {
    "duration": 981,
    "start_time": "2023-06-05T12:16:19.094Z"
   },
   {
    "duration": 9807,
    "start_time": "2023-06-05T12:16:20.077Z"
   },
   {
    "duration": 290,
    "start_time": "2023-06-05T12:16:29.886Z"
   },
   {
    "duration": 8,
    "start_time": "2023-06-05T12:16:30.178Z"
   },
   {
    "duration": 74,
    "start_time": "2023-06-05T12:16:30.187Z"
   },
   {
    "duration": 36,
    "start_time": "2023-06-05T12:16:30.263Z"
   },
   {
    "duration": 42,
    "start_time": "2023-06-05T12:16:30.302Z"
   },
   {
    "duration": 92,
    "start_time": "2023-06-05T12:16:30.346Z"
   },
   {
    "duration": 79,
    "start_time": "2023-06-05T12:16:30.440Z"
   },
   {
    "duration": 113,
    "start_time": "2023-06-05T12:16:30.521Z"
   },
   {
    "duration": 67,
    "start_time": "2023-06-05T12:16:30.636Z"
   },
   {
    "duration": 11582,
    "start_time": "2023-06-05T12:16:30.705Z"
   },
   {
    "duration": 6,
    "start_time": "2023-06-05T12:16:42.288Z"
   },
   {
    "duration": 765,
    "start_time": "2023-06-05T12:16:42.296Z"
   },
   {
    "duration": 7,
    "start_time": "2023-06-05T12:16:43.063Z"
   },
   {
    "duration": 2456,
    "start_time": "2023-06-05T12:17:11.601Z"
   },
   {
    "duration": 2157,
    "start_time": "2023-06-05T12:17:14.059Z"
   },
   {
    "duration": 39,
    "start_time": "2023-06-05T12:17:16.219Z"
   },
   {
    "duration": 13,
    "start_time": "2023-06-05T12:17:16.261Z"
   },
   {
    "duration": 36,
    "start_time": "2023-06-05T12:17:16.276Z"
   },
   {
    "duration": 4,
    "start_time": "2023-06-05T12:17:16.314Z"
   },
   {
    "duration": 26,
    "start_time": "2023-06-05T12:17:16.321Z"
   },
   {
    "duration": 302,
    "start_time": "2023-06-05T12:17:16.350Z"
   },
   {
    "duration": 290,
    "start_time": "2023-06-05T12:17:16.654Z"
   },
   {
    "duration": 302,
    "start_time": "2023-06-05T12:17:16.947Z"
   },
   {
    "duration": 278,
    "start_time": "2023-06-05T12:17:17.250Z"
   },
   {
    "duration": 17,
    "start_time": "2023-06-05T12:17:17.530Z"
   },
   {
    "duration": 13,
    "start_time": "2023-06-05T12:17:17.548Z"
   },
   {
    "duration": 21,
    "start_time": "2023-06-05T12:17:17.563Z"
   },
   {
    "duration": 158,
    "start_time": "2023-06-05T12:17:17.585Z"
   },
   {
    "duration": 4,
    "start_time": "2023-06-05T12:17:17.745Z"
   },
   {
    "duration": 12,
    "start_time": "2023-06-05T12:17:17.750Z"
   },
   {
    "duration": 14,
    "start_time": "2023-06-05T12:17:17.763Z"
   },
   {
    "duration": 10,
    "start_time": "2023-06-05T12:17:17.779Z"
   },
   {
    "duration": 189,
    "start_time": "2023-06-05T12:17:17.791Z"
   },
   {
    "duration": 4314,
    "start_time": "2023-06-05T12:17:17.982Z"
   },
   {
    "duration": 1180,
    "start_time": "2023-06-05T12:17:22.298Z"
   },
   {
    "duration": 10040,
    "start_time": "2023-06-05T12:17:23.480Z"
   },
   {
    "duration": 357,
    "start_time": "2023-06-05T12:17:33.521Z"
   },
   {
    "duration": 7,
    "start_time": "2023-06-05T12:17:33.880Z"
   },
   {
    "duration": 37,
    "start_time": "2023-06-05T12:17:33.889Z"
   },
   {
    "duration": 11,
    "start_time": "2023-06-05T12:17:33.927Z"
   },
   {
    "duration": 17,
    "start_time": "2023-06-05T12:17:33.941Z"
   },
   {
    "duration": 8,
    "start_time": "2023-06-05T12:17:33.960Z"
   },
   {
    "duration": 8,
    "start_time": "2023-06-05T12:17:33.970Z"
   },
   {
    "duration": 13,
    "start_time": "2023-06-05T12:17:33.980Z"
   },
   {
    "duration": 13,
    "start_time": "2023-06-05T12:17:33.995Z"
   },
   {
    "duration": 11765,
    "start_time": "2023-06-05T12:17:34.009Z"
   },
   {
    "duration": 6,
    "start_time": "2023-06-05T12:17:45.776Z"
   },
   {
    "duration": 636,
    "start_time": "2023-06-05T12:17:45.783Z"
   },
   {
    "duration": 5,
    "start_time": "2023-06-05T12:17:46.421Z"
   },
   {
    "duration": 54480,
    "start_time": "2023-06-05T12:17:46.428Z"
   },
   {
    "duration": 8,
    "start_time": "2023-06-05T12:18:40.911Z"
   },
   {
    "duration": 17,
    "start_time": "2023-06-05T12:18:40.921Z"
   },
   {
    "duration": 14,
    "start_time": "2023-06-05T12:18:40.939Z"
   },
   {
    "duration": 4,
    "start_time": "2023-06-05T12:18:40.954Z"
   },
   {
    "duration": 2337,
    "start_time": "2023-06-05T12:19:05.340Z"
   },
   {
    "duration": 1914,
    "start_time": "2023-06-05T12:19:07.679Z"
   },
   {
    "duration": 38,
    "start_time": "2023-06-05T12:19:09.595Z"
   },
   {
    "duration": 11,
    "start_time": "2023-06-05T12:19:09.636Z"
   },
   {
    "duration": 35,
    "start_time": "2023-06-05T12:19:09.649Z"
   },
   {
    "duration": 4,
    "start_time": "2023-06-05T12:19:09.686Z"
   },
   {
    "duration": 12,
    "start_time": "2023-06-05T12:19:09.692Z"
   },
   {
    "duration": 320,
    "start_time": "2023-06-05T12:19:09.705Z"
   },
   {
    "duration": 270,
    "start_time": "2023-06-05T12:19:10.027Z"
   },
   {
    "duration": 332,
    "start_time": "2023-06-05T12:19:10.301Z"
   },
   {
    "duration": 290,
    "start_time": "2023-06-05T12:19:10.635Z"
   },
   {
    "duration": 8,
    "start_time": "2023-06-05T12:19:10.927Z"
   },
   {
    "duration": 7,
    "start_time": "2023-06-05T12:19:10.946Z"
   },
   {
    "duration": 11,
    "start_time": "2023-06-05T12:19:10.954Z"
   },
   {
    "duration": 156,
    "start_time": "2023-06-05T12:19:10.967Z"
   },
   {
    "duration": 5,
    "start_time": "2023-06-05T12:19:11.124Z"
   },
   {
    "duration": 19,
    "start_time": "2023-06-05T12:19:11.131Z"
   },
   {
    "duration": 10,
    "start_time": "2023-06-05T12:19:11.152Z"
   },
   {
    "duration": 8,
    "start_time": "2023-06-05T12:19:11.164Z"
   },
   {
    "duration": 185,
    "start_time": "2023-06-05T12:19:11.174Z"
   },
   {
    "duration": 4403,
    "start_time": "2023-06-05T12:19:11.361Z"
   },
   {
    "duration": 981,
    "start_time": "2023-06-05T12:19:15.765Z"
   },
   {
    "duration": 10390,
    "start_time": "2023-06-05T12:19:16.749Z"
   },
   {
    "duration": 336,
    "start_time": "2023-06-05T12:19:27.145Z"
   },
   {
    "duration": 8,
    "start_time": "2023-06-05T12:19:27.483Z"
   },
   {
    "duration": 24,
    "start_time": "2023-06-05T12:19:27.492Z"
   },
   {
    "duration": 10,
    "start_time": "2023-06-05T12:19:27.517Z"
   },
   {
    "duration": 17,
    "start_time": "2023-06-05T12:19:27.530Z"
   },
   {
    "duration": 6,
    "start_time": "2023-06-05T12:19:27.549Z"
   },
   {
    "duration": 12,
    "start_time": "2023-06-05T12:19:27.556Z"
   },
   {
    "duration": 21,
    "start_time": "2023-06-05T12:19:27.570Z"
   },
   {
    "duration": 7,
    "start_time": "2023-06-05T12:19:27.593Z"
   },
   {
    "duration": 11281,
    "start_time": "2023-06-05T12:19:27.601Z"
   },
   {
    "duration": 6,
    "start_time": "2023-06-05T12:19:38.883Z"
   },
   {
    "duration": 651,
    "start_time": "2023-06-05T12:19:38.891Z"
   },
   {
    "duration": 5,
    "start_time": "2023-06-05T12:19:39.545Z"
   },
   {
    "duration": 2323,
    "start_time": "2023-06-05T12:20:16.895Z"
   },
   {
    "duration": 2073,
    "start_time": "2023-06-05T12:20:19.221Z"
   },
   {
    "duration": 40,
    "start_time": "2023-06-05T12:20:21.295Z"
   },
   {
    "duration": 13,
    "start_time": "2023-06-05T12:20:21.338Z"
   },
   {
    "duration": 43,
    "start_time": "2023-06-05T12:20:21.353Z"
   },
   {
    "duration": 16,
    "start_time": "2023-06-05T12:20:21.398Z"
   },
   {
    "duration": 37,
    "start_time": "2023-06-05T12:20:21.416Z"
   },
   {
    "duration": 317,
    "start_time": "2023-06-05T12:20:21.455Z"
   },
   {
    "duration": 289,
    "start_time": "2023-06-05T12:20:21.774Z"
   },
   {
    "duration": 305,
    "start_time": "2023-06-05T12:20:22.066Z"
   },
   {
    "duration": 362,
    "start_time": "2023-06-05T12:20:22.372Z"
   },
   {
    "duration": 15,
    "start_time": "2023-06-05T12:20:22.737Z"
   },
   {
    "duration": 20,
    "start_time": "2023-06-05T12:20:22.754Z"
   },
   {
    "duration": 33,
    "start_time": "2023-06-05T12:20:22.776Z"
   },
   {
    "duration": 181,
    "start_time": "2023-06-05T12:20:22.811Z"
   },
   {
    "duration": 5,
    "start_time": "2023-06-05T12:20:22.995Z"
   },
   {
    "duration": 49,
    "start_time": "2023-06-05T12:20:23.002Z"
   },
   {
    "duration": 25,
    "start_time": "2023-06-05T12:20:23.053Z"
   },
   {
    "duration": 39,
    "start_time": "2023-06-05T12:20:23.080Z"
   },
   {
    "duration": 198,
    "start_time": "2023-06-05T12:20:23.121Z"
   },
   {
    "duration": 4231,
    "start_time": "2023-06-05T12:20:23.321Z"
   },
   {
    "duration": 947,
    "start_time": "2023-06-05T12:20:27.554Z"
   },
   {
    "duration": 9905,
    "start_time": "2023-06-05T12:20:28.503Z"
   },
   {
    "duration": 348,
    "start_time": "2023-06-05T12:20:38.409Z"
   },
   {
    "duration": 7,
    "start_time": "2023-06-05T12:20:38.759Z"
   },
   {
    "duration": 31,
    "start_time": "2023-06-05T12:20:38.767Z"
   },
   {
    "duration": 39,
    "start_time": "2023-06-05T12:20:38.799Z"
   },
   {
    "duration": 5,
    "start_time": "2023-06-05T12:20:38.841Z"
   },
   {
    "duration": 10,
    "start_time": "2023-06-05T12:20:38.847Z"
   },
   {
    "duration": 7,
    "start_time": "2023-06-05T12:20:38.858Z"
   },
   {
    "duration": 19,
    "start_time": "2023-06-05T12:20:38.867Z"
   },
   {
    "duration": 12,
    "start_time": "2023-06-05T12:20:38.888Z"
   },
   {
    "duration": 11380,
    "start_time": "2023-06-05T12:20:38.902Z"
   },
   {
    "duration": 6,
    "start_time": "2023-06-05T12:20:50.284Z"
   },
   {
    "duration": 638,
    "start_time": "2023-06-05T12:20:50.292Z"
   },
   {
    "duration": 5,
    "start_time": "2023-06-05T12:20:50.932Z"
   },
   {
    "duration": 74290,
    "start_time": "2023-06-05T12:20:50.946Z"
   },
   {
    "duration": 10,
    "start_time": "2023-06-05T12:22:05.237Z"
   },
   {
    "duration": 90,
    "start_time": "2023-06-05T12:22:05.249Z"
   },
   {
    "duration": 47,
    "start_time": "2023-06-05T12:22:05.341Z"
   },
   {
    "duration": 34,
    "start_time": "2023-06-05T12:22:05.389Z"
   },
   {
    "duration": 54241,
    "start_time": "2023-06-05T12:22:05.425Z"
   },
   {
    "duration": 293,
    "start_time": "2023-06-05T12:22:59.668Z"
   },
   {
    "duration": 643,
    "start_time": "2023-06-05T12:22:59.963Z"
   },
   {
    "duration": 2306,
    "start_time": "2023-06-05T12:25:48.559Z"
   },
   {
    "duration": 2004,
    "start_time": "2023-06-05T12:25:50.868Z"
   },
   {
    "duration": 38,
    "start_time": "2023-06-05T12:25:52.874Z"
   },
   {
    "duration": 11,
    "start_time": "2023-06-05T12:25:52.914Z"
   },
   {
    "duration": 53,
    "start_time": "2023-06-05T12:25:52.927Z"
   },
   {
    "duration": 5,
    "start_time": "2023-06-05T12:25:52.982Z"
   },
   {
    "duration": 13,
    "start_time": "2023-06-05T12:25:52.988Z"
   },
   {
    "duration": 348,
    "start_time": "2023-06-05T12:25:53.003Z"
   },
   {
    "duration": 274,
    "start_time": "2023-06-05T12:25:53.353Z"
   },
   {
    "duration": 293,
    "start_time": "2023-06-05T12:25:53.631Z"
   },
   {
    "duration": 278,
    "start_time": "2023-06-05T12:25:53.925Z"
   },
   {
    "duration": 8,
    "start_time": "2023-06-05T12:25:54.204Z"
   },
   {
    "duration": 15,
    "start_time": "2023-06-05T12:25:54.214Z"
   },
   {
    "duration": 17,
    "start_time": "2023-06-05T12:25:54.230Z"
   },
   {
    "duration": 154,
    "start_time": "2023-06-05T12:25:54.248Z"
   },
   {
    "duration": 4,
    "start_time": "2023-06-05T12:25:54.404Z"
   },
   {
    "duration": 9,
    "start_time": "2023-06-05T12:25:54.410Z"
   },
   {
    "duration": 18,
    "start_time": "2023-06-05T12:25:54.421Z"
   },
   {
    "duration": 12,
    "start_time": "2023-06-05T12:25:54.446Z"
   },
   {
    "duration": 169,
    "start_time": "2023-06-05T12:25:54.460Z"
   },
   {
    "duration": 4334,
    "start_time": "2023-06-05T12:25:54.630Z"
   },
   {
    "duration": 964,
    "start_time": "2023-06-05T12:25:58.965Z"
   },
   {
    "duration": 10131,
    "start_time": "2023-06-05T12:25:59.931Z"
   },
   {
    "duration": 318,
    "start_time": "2023-06-05T12:26:10.063Z"
   },
   {
    "duration": 8,
    "start_time": "2023-06-05T12:26:10.382Z"
   },
   {
    "duration": 158,
    "start_time": "2023-06-05T12:26:10.392Z"
   },
   {
    "duration": 0,
    "start_time": "2023-06-05T12:26:10.552Z"
   },
   {
    "duration": 0,
    "start_time": "2023-06-05T12:26:10.553Z"
   },
   {
    "duration": 0,
    "start_time": "2023-06-05T12:26:10.555Z"
   },
   {
    "duration": 0,
    "start_time": "2023-06-05T12:26:10.556Z"
   },
   {
    "duration": 0,
    "start_time": "2023-06-05T12:26:10.557Z"
   },
   {
    "duration": 0,
    "start_time": "2023-06-05T12:26:10.558Z"
   },
   {
    "duration": 0,
    "start_time": "2023-06-05T12:26:10.559Z"
   },
   {
    "duration": 0,
    "start_time": "2023-06-05T12:26:10.560Z"
   },
   {
    "duration": 0,
    "start_time": "2023-06-05T12:26:10.561Z"
   },
   {
    "duration": 0,
    "start_time": "2023-06-05T12:26:10.562Z"
   },
   {
    "duration": 0,
    "start_time": "2023-06-05T12:26:10.563Z"
   },
   {
    "duration": 0,
    "start_time": "2023-06-05T12:26:10.564Z"
   },
   {
    "duration": 0,
    "start_time": "2023-06-05T12:26:10.565Z"
   },
   {
    "duration": 0,
    "start_time": "2023-06-05T12:26:10.566Z"
   },
   {
    "duration": 0,
    "start_time": "2023-06-05T12:26:10.567Z"
   },
   {
    "duration": 0,
    "start_time": "2023-06-05T12:26:10.569Z"
   },
   {
    "duration": 0,
    "start_time": "2023-06-05T12:26:10.570Z"
   },
   {
    "duration": 0,
    "start_time": "2023-06-05T12:26:10.571Z"
   },
   {
    "duration": 13,
    "start_time": "2023-06-05T12:26:45.764Z"
   },
   {
    "duration": 17,
    "start_time": "2023-06-05T12:27:00.740Z"
   },
   {
    "duration": 14,
    "start_time": "2023-06-05T12:27:15.403Z"
   },
   {
    "duration": 15,
    "start_time": "2023-06-05T12:27:35.250Z"
   },
   {
    "duration": 13,
    "start_time": "2023-06-05T12:27:48.783Z"
   },
   {
    "duration": 10,
    "start_time": "2023-06-05T12:28:16.169Z"
   },
   {
    "duration": 12,
    "start_time": "2023-06-05T12:28:37.232Z"
   },
   {
    "duration": 2287,
    "start_time": "2023-06-05T12:34:38.603Z"
   },
   {
    "duration": 2000,
    "start_time": "2023-06-05T12:34:40.893Z"
   },
   {
    "duration": 38,
    "start_time": "2023-06-05T12:34:42.895Z"
   },
   {
    "duration": 11,
    "start_time": "2023-06-05T12:34:42.935Z"
   },
   {
    "duration": 35,
    "start_time": "2023-06-05T12:34:42.948Z"
   },
   {
    "duration": 5,
    "start_time": "2023-06-05T12:34:42.985Z"
   },
   {
    "duration": 15,
    "start_time": "2023-06-05T12:34:42.992Z"
   },
   {
    "duration": 325,
    "start_time": "2023-06-05T12:34:43.008Z"
   },
   {
    "duration": 279,
    "start_time": "2023-06-05T12:34:43.335Z"
   },
   {
    "duration": 312,
    "start_time": "2023-06-05T12:34:43.618Z"
   },
   {
    "duration": 266,
    "start_time": "2023-06-05T12:34:43.932Z"
   },
   {
    "duration": 8,
    "start_time": "2023-06-05T12:34:44.200Z"
   },
   {
    "duration": 29,
    "start_time": "2023-06-05T12:34:44.210Z"
   },
   {
    "duration": 16,
    "start_time": "2023-06-05T12:34:44.241Z"
   },
   {
    "duration": 164,
    "start_time": "2023-06-05T12:34:44.259Z"
   },
   {
    "duration": 4,
    "start_time": "2023-06-05T12:34:44.424Z"
   },
   {
    "duration": 16,
    "start_time": "2023-06-05T12:34:44.430Z"
   },
   {
    "duration": 17,
    "start_time": "2023-06-05T12:34:44.447Z"
   },
   {
    "duration": 34,
    "start_time": "2023-06-05T12:34:44.465Z"
   },
   {
    "duration": 159,
    "start_time": "2023-06-05T12:34:44.501Z"
   },
   {
    "duration": 4033,
    "start_time": "2023-06-05T12:34:44.663Z"
   },
   {
    "duration": 978,
    "start_time": "2023-06-05T12:34:48.697Z"
   },
   {
    "duration": 9877,
    "start_time": "2023-06-05T12:34:49.678Z"
   },
   {
    "duration": 309,
    "start_time": "2023-06-05T12:34:59.557Z"
   },
   {
    "duration": 7,
    "start_time": "2023-06-05T12:34:59.868Z"
   },
   {
    "duration": 144,
    "start_time": "2023-06-05T12:34:59.877Z"
   },
   {
    "duration": 0,
    "start_time": "2023-06-05T12:35:00.023Z"
   },
   {
    "duration": 0,
    "start_time": "2023-06-05T12:35:00.024Z"
   },
   {
    "duration": 0,
    "start_time": "2023-06-05T12:35:00.025Z"
   },
   {
    "duration": 0,
    "start_time": "2023-06-05T12:35:00.026Z"
   },
   {
    "duration": 0,
    "start_time": "2023-06-05T12:35:00.027Z"
   },
   {
    "duration": 0,
    "start_time": "2023-06-05T12:35:00.028Z"
   },
   {
    "duration": 0,
    "start_time": "2023-06-05T12:35:00.046Z"
   },
   {
    "duration": 0,
    "start_time": "2023-06-05T12:35:00.047Z"
   },
   {
    "duration": 0,
    "start_time": "2023-06-05T12:35:00.049Z"
   },
   {
    "duration": 0,
    "start_time": "2023-06-05T12:35:00.049Z"
   },
   {
    "duration": 0,
    "start_time": "2023-06-05T12:35:00.050Z"
   },
   {
    "duration": 0,
    "start_time": "2023-06-05T12:35:00.051Z"
   },
   {
    "duration": 0,
    "start_time": "2023-06-05T12:35:00.052Z"
   },
   {
    "duration": 0,
    "start_time": "2023-06-05T12:35:00.053Z"
   },
   {
    "duration": 0,
    "start_time": "2023-06-05T12:35:00.055Z"
   },
   {
    "duration": 0,
    "start_time": "2023-06-05T12:35:00.055Z"
   },
   {
    "duration": 0,
    "start_time": "2023-06-05T12:35:00.057Z"
   },
   {
    "duration": 0,
    "start_time": "2023-06-05T12:35:00.058Z"
   },
   {
    "duration": 0,
    "start_time": "2023-06-05T12:35:00.059Z"
   },
   {
    "duration": 11,
    "start_time": "2023-06-05T12:35:36.357Z"
   },
   {
    "duration": 15,
    "start_time": "2023-06-05T12:37:23.771Z"
   },
   {
    "duration": 14,
    "start_time": "2023-06-05T12:37:44.069Z"
   },
   {
    "duration": 24,
    "start_time": "2023-06-05T12:37:46.236Z"
   },
   {
    "duration": 12,
    "start_time": "2023-06-05T12:38:48.333Z"
   },
   {
    "duration": 21,
    "start_time": "2023-06-05T12:38:50.476Z"
   },
   {
    "duration": 2285,
    "start_time": "2023-06-05T12:39:06.277Z"
   },
   {
    "duration": 1855,
    "start_time": "2023-06-05T12:39:08.564Z"
   },
   {
    "duration": 38,
    "start_time": "2023-06-05T12:39:10.421Z"
   },
   {
    "duration": 10,
    "start_time": "2023-06-05T12:39:10.461Z"
   },
   {
    "duration": 51,
    "start_time": "2023-06-05T12:39:10.474Z"
   },
   {
    "duration": 5,
    "start_time": "2023-06-05T12:39:10.527Z"
   },
   {
    "duration": 6,
    "start_time": "2023-06-05T12:39:10.534Z"
   },
   {
    "duration": 289,
    "start_time": "2023-06-05T12:39:10.541Z"
   },
   {
    "duration": 268,
    "start_time": "2023-06-05T12:39:10.832Z"
   },
   {
    "duration": 280,
    "start_time": "2023-06-05T12:39:11.102Z"
   },
   {
    "duration": 258,
    "start_time": "2023-06-05T12:39:11.383Z"
   },
   {
    "duration": 8,
    "start_time": "2023-06-05T12:39:11.642Z"
   },
   {
    "duration": 17,
    "start_time": "2023-06-05T12:39:11.651Z"
   },
   {
    "duration": 7,
    "start_time": "2023-06-05T12:39:11.671Z"
   },
   {
    "duration": 154,
    "start_time": "2023-06-05T12:39:11.679Z"
   },
   {
    "duration": 13,
    "start_time": "2023-06-05T12:39:11.834Z"
   },
   {
    "duration": 5,
    "start_time": "2023-06-05T12:39:11.849Z"
   },
   {
    "duration": 10,
    "start_time": "2023-06-05T12:39:11.856Z"
   },
   {
    "duration": 12,
    "start_time": "2023-06-05T12:39:11.867Z"
   },
   {
    "duration": 177,
    "start_time": "2023-06-05T12:39:11.881Z"
   },
   {
    "duration": 4300,
    "start_time": "2023-06-05T12:39:12.060Z"
   },
   {
    "duration": 986,
    "start_time": "2023-06-05T12:39:16.362Z"
   },
   {
    "duration": 9928,
    "start_time": "2023-06-05T12:39:17.350Z"
   },
   {
    "duration": 311,
    "start_time": "2023-06-05T12:39:27.280Z"
   },
   {
    "duration": 9,
    "start_time": "2023-06-05T12:39:27.593Z"
   },
   {
    "duration": 18,
    "start_time": "2023-06-05T12:39:27.604Z"
   },
   {
    "duration": 28,
    "start_time": "2023-06-05T12:39:27.624Z"
   },
   {
    "duration": 25,
    "start_time": "2023-06-05T12:39:27.654Z"
   },
   {
    "duration": 152,
    "start_time": "2023-06-05T12:39:27.681Z"
   },
   {
    "duration": 0,
    "start_time": "2023-06-05T12:39:27.835Z"
   },
   {
    "duration": 0,
    "start_time": "2023-06-05T12:39:27.836Z"
   },
   {
    "duration": 0,
    "start_time": "2023-06-05T12:39:27.838Z"
   },
   {
    "duration": 0,
    "start_time": "2023-06-05T12:39:27.850Z"
   },
   {
    "duration": 0,
    "start_time": "2023-06-05T12:39:27.851Z"
   },
   {
    "duration": 0,
    "start_time": "2023-06-05T12:39:27.852Z"
   },
   {
    "duration": 0,
    "start_time": "2023-06-05T12:39:27.852Z"
   },
   {
    "duration": 0,
    "start_time": "2023-06-05T12:39:27.854Z"
   },
   {
    "duration": 0,
    "start_time": "2023-06-05T12:39:27.855Z"
   },
   {
    "duration": 0,
    "start_time": "2023-06-05T12:39:27.856Z"
   },
   {
    "duration": 0,
    "start_time": "2023-06-05T12:39:27.857Z"
   },
   {
    "duration": 0,
    "start_time": "2023-06-05T12:39:27.858Z"
   },
   {
    "duration": 0,
    "start_time": "2023-06-05T12:39:27.859Z"
   },
   {
    "duration": 0,
    "start_time": "2023-06-05T12:39:27.860Z"
   },
   {
    "duration": 0,
    "start_time": "2023-06-05T12:39:27.861Z"
   },
   {
    "duration": 0,
    "start_time": "2023-06-05T12:39:27.862Z"
   },
   {
    "duration": 0,
    "start_time": "2023-06-05T12:39:27.863Z"
   },
   {
    "duration": 13,
    "start_time": "2023-06-05T12:39:47.108Z"
   },
   {
    "duration": 17,
    "start_time": "2023-06-05T12:39:51.511Z"
   },
   {
    "duration": 2241,
    "start_time": "2023-06-05T12:40:14.335Z"
   },
   {
    "duration": 1945,
    "start_time": "2023-06-05T12:40:16.578Z"
   },
   {
    "duration": 38,
    "start_time": "2023-06-05T12:40:18.525Z"
   },
   {
    "duration": 10,
    "start_time": "2023-06-05T12:40:18.565Z"
   },
   {
    "duration": 27,
    "start_time": "2023-06-05T12:40:18.577Z"
   },
   {
    "duration": 4,
    "start_time": "2023-06-05T12:40:18.605Z"
   },
   {
    "duration": 9,
    "start_time": "2023-06-05T12:40:18.610Z"
   },
   {
    "duration": 303,
    "start_time": "2023-06-05T12:40:18.620Z"
   },
   {
    "duration": 275,
    "start_time": "2023-06-05T12:40:18.925Z"
   },
   {
    "duration": 299,
    "start_time": "2023-06-05T12:40:19.204Z"
   },
   {
    "duration": 276,
    "start_time": "2023-06-05T12:40:19.505Z"
   },
   {
    "duration": 8,
    "start_time": "2023-06-05T12:40:19.783Z"
   },
   {
    "duration": 18,
    "start_time": "2023-06-05T12:40:19.793Z"
   },
   {
    "duration": 5,
    "start_time": "2023-06-05T12:40:19.813Z"
   },
   {
    "duration": 159,
    "start_time": "2023-06-05T12:40:19.820Z"
   },
   {
    "duration": 5,
    "start_time": "2023-06-05T12:40:19.981Z"
   },
   {
    "duration": 12,
    "start_time": "2023-06-05T12:40:19.988Z"
   },
   {
    "duration": 21,
    "start_time": "2023-06-05T12:40:20.002Z"
   },
   {
    "duration": 20,
    "start_time": "2023-06-05T12:40:20.025Z"
   },
   {
    "duration": 157,
    "start_time": "2023-06-05T12:40:20.047Z"
   },
   {
    "duration": 4394,
    "start_time": "2023-06-05T12:40:20.206Z"
   },
   {
    "duration": 991,
    "start_time": "2023-06-05T12:40:24.602Z"
   },
   {
    "duration": 9813,
    "start_time": "2023-06-05T12:40:25.595Z"
   },
   {
    "duration": 369,
    "start_time": "2023-06-05T12:40:35.411Z"
   },
   {
    "duration": 8,
    "start_time": "2023-06-05T12:40:35.782Z"
   },
   {
    "duration": 18,
    "start_time": "2023-06-05T12:40:35.792Z"
   },
   {
    "duration": 16,
    "start_time": "2023-06-05T12:40:35.812Z"
   },
   {
    "duration": 29,
    "start_time": "2023-06-05T12:40:35.832Z"
   },
   {
    "duration": 152,
    "start_time": "2023-06-05T12:40:35.862Z"
   },
   {
    "duration": 0,
    "start_time": "2023-06-05T12:40:36.016Z"
   },
   {
    "duration": 0,
    "start_time": "2023-06-05T12:40:36.018Z"
   },
   {
    "duration": 0,
    "start_time": "2023-06-05T12:40:36.019Z"
   },
   {
    "duration": 0,
    "start_time": "2023-06-05T12:40:36.020Z"
   },
   {
    "duration": 0,
    "start_time": "2023-06-05T12:40:36.021Z"
   },
   {
    "duration": 0,
    "start_time": "2023-06-05T12:40:36.023Z"
   },
   {
    "duration": 0,
    "start_time": "2023-06-05T12:40:36.024Z"
   },
   {
    "duration": 0,
    "start_time": "2023-06-05T12:40:36.025Z"
   },
   {
    "duration": 0,
    "start_time": "2023-06-05T12:40:36.045Z"
   },
   {
    "duration": 0,
    "start_time": "2023-06-05T12:40:36.047Z"
   },
   {
    "duration": 0,
    "start_time": "2023-06-05T12:40:36.048Z"
   },
   {
    "duration": 0,
    "start_time": "2023-06-05T12:40:36.049Z"
   },
   {
    "duration": 0,
    "start_time": "2023-06-05T12:40:36.050Z"
   },
   {
    "duration": 0,
    "start_time": "2023-06-05T12:40:36.051Z"
   },
   {
    "duration": 0,
    "start_time": "2023-06-05T12:40:36.052Z"
   },
   {
    "duration": 0,
    "start_time": "2023-06-05T12:40:36.053Z"
   },
   {
    "duration": 0,
    "start_time": "2023-06-05T12:40:36.054Z"
   },
   {
    "duration": 2268,
    "start_time": "2023-06-05T12:41:47.585Z"
   },
   {
    "duration": 1978,
    "start_time": "2023-06-05T12:41:49.856Z"
   },
   {
    "duration": 39,
    "start_time": "2023-06-05T12:41:51.835Z"
   },
   {
    "duration": 12,
    "start_time": "2023-06-05T12:41:51.876Z"
   },
   {
    "duration": 34,
    "start_time": "2023-06-05T12:41:51.890Z"
   },
   {
    "duration": 4,
    "start_time": "2023-06-05T12:41:51.926Z"
   },
   {
    "duration": 14,
    "start_time": "2023-06-05T12:41:51.932Z"
   },
   {
    "duration": 307,
    "start_time": "2023-06-05T12:41:51.948Z"
   },
   {
    "duration": 326,
    "start_time": "2023-06-05T12:41:52.257Z"
   },
   {
    "duration": 308,
    "start_time": "2023-06-05T12:41:52.587Z"
   },
   {
    "duration": 301,
    "start_time": "2023-06-05T12:41:52.897Z"
   },
   {
    "duration": 8,
    "start_time": "2023-06-05T12:41:53.200Z"
   },
   {
    "duration": 14,
    "start_time": "2023-06-05T12:41:53.209Z"
   },
   {
    "duration": 17,
    "start_time": "2023-06-05T12:41:53.225Z"
   },
   {
    "duration": 152,
    "start_time": "2023-06-05T12:41:53.245Z"
   },
   {
    "duration": 4,
    "start_time": "2023-06-05T12:41:53.399Z"
   },
   {
    "duration": 15,
    "start_time": "2023-06-05T12:41:53.405Z"
   },
   {
    "duration": 11,
    "start_time": "2023-06-05T12:41:53.421Z"
   },
   {
    "duration": 19,
    "start_time": "2023-06-05T12:41:53.434Z"
   },
   {
    "duration": 165,
    "start_time": "2023-06-05T12:41:53.454Z"
   },
   {
    "duration": 4440,
    "start_time": "2023-06-05T12:41:53.620Z"
   },
   {
    "duration": 1057,
    "start_time": "2023-06-05T12:41:58.061Z"
   },
   {
    "duration": 10009,
    "start_time": "2023-06-05T12:41:59.119Z"
   },
   {
    "duration": 332,
    "start_time": "2023-06-05T12:42:09.129Z"
   },
   {
    "duration": 8,
    "start_time": "2023-06-05T12:42:09.463Z"
   },
   {
    "duration": 18,
    "start_time": "2023-06-05T12:42:09.472Z"
   },
   {
    "duration": 20,
    "start_time": "2023-06-05T12:42:09.491Z"
   },
   {
    "duration": 20,
    "start_time": "2023-06-05T12:42:09.514Z"
   },
   {
    "duration": 135,
    "start_time": "2023-06-05T12:42:09.536Z"
   },
   {
    "duration": 0,
    "start_time": "2023-06-05T12:42:09.673Z"
   },
   {
    "duration": 0,
    "start_time": "2023-06-05T12:42:09.674Z"
   },
   {
    "duration": 0,
    "start_time": "2023-06-05T12:42:09.675Z"
   },
   {
    "duration": 0,
    "start_time": "2023-06-05T12:42:09.676Z"
   },
   {
    "duration": 0,
    "start_time": "2023-06-05T12:42:09.678Z"
   },
   {
    "duration": 0,
    "start_time": "2023-06-05T12:42:09.679Z"
   },
   {
    "duration": 0,
    "start_time": "2023-06-05T12:42:09.680Z"
   },
   {
    "duration": 0,
    "start_time": "2023-06-05T12:42:09.681Z"
   },
   {
    "duration": 0,
    "start_time": "2023-06-05T12:42:09.682Z"
   },
   {
    "duration": 0,
    "start_time": "2023-06-05T12:42:09.684Z"
   },
   {
    "duration": 0,
    "start_time": "2023-06-05T12:42:09.685Z"
   },
   {
    "duration": 0,
    "start_time": "2023-06-05T12:42:09.686Z"
   },
   {
    "duration": 0,
    "start_time": "2023-06-05T12:42:09.687Z"
   },
   {
    "duration": 0,
    "start_time": "2023-06-05T12:42:09.688Z"
   },
   {
    "duration": 0,
    "start_time": "2023-06-05T12:42:09.689Z"
   },
   {
    "duration": 0,
    "start_time": "2023-06-05T12:42:09.690Z"
   },
   {
    "duration": 0,
    "start_time": "2023-06-05T12:42:09.692Z"
   },
   {
    "duration": 2263,
    "start_time": "2023-06-05T12:43:08.539Z"
   },
   {
    "duration": 2000,
    "start_time": "2023-06-05T12:43:10.805Z"
   },
   {
    "duration": 38,
    "start_time": "2023-06-05T12:43:12.807Z"
   },
   {
    "duration": 12,
    "start_time": "2023-06-05T12:43:12.848Z"
   },
   {
    "duration": 40,
    "start_time": "2023-06-05T12:43:12.862Z"
   },
   {
    "duration": 31,
    "start_time": "2023-06-05T12:43:12.903Z"
   },
   {
    "duration": 27,
    "start_time": "2023-06-05T12:43:12.936Z"
   },
   {
    "duration": 369,
    "start_time": "2023-06-05T12:43:12.966Z"
   },
   {
    "duration": 282,
    "start_time": "2023-06-05T12:43:13.337Z"
   },
   {
    "duration": 305,
    "start_time": "2023-06-05T12:43:13.622Z"
   },
   {
    "duration": 275,
    "start_time": "2023-06-05T12:43:13.930Z"
   },
   {
    "duration": 8,
    "start_time": "2023-06-05T12:43:14.207Z"
   },
   {
    "duration": 37,
    "start_time": "2023-06-05T12:43:14.217Z"
   },
   {
    "duration": 29,
    "start_time": "2023-06-05T12:43:14.256Z"
   },
   {
    "duration": 182,
    "start_time": "2023-06-05T12:43:14.287Z"
   },
   {
    "duration": 4,
    "start_time": "2023-06-05T12:43:14.471Z"
   },
   {
    "duration": 32,
    "start_time": "2023-06-05T12:43:14.476Z"
   },
   {
    "duration": 23,
    "start_time": "2023-06-05T12:43:14.510Z"
   },
   {
    "duration": 23,
    "start_time": "2023-06-05T12:43:14.535Z"
   },
   {
    "duration": 159,
    "start_time": "2023-06-05T12:43:14.560Z"
   },
   {
    "duration": 4439,
    "start_time": "2023-06-05T12:43:14.721Z"
   },
   {
    "duration": 1029,
    "start_time": "2023-06-05T12:43:19.162Z"
   },
   {
    "duration": 9928,
    "start_time": "2023-06-05T12:43:20.193Z"
   },
   {
    "duration": 327,
    "start_time": "2023-06-05T12:43:30.123Z"
   },
   {
    "duration": 7,
    "start_time": "2023-06-05T12:43:30.452Z"
   },
   {
    "duration": 190,
    "start_time": "2023-06-05T12:43:30.461Z"
   },
   {
    "duration": 0,
    "start_time": "2023-06-05T12:43:30.653Z"
   },
   {
    "duration": 0,
    "start_time": "2023-06-05T12:43:30.655Z"
   },
   {
    "duration": 0,
    "start_time": "2023-06-05T12:43:30.656Z"
   },
   {
    "duration": 0,
    "start_time": "2023-06-05T12:43:30.657Z"
   },
   {
    "duration": 0,
    "start_time": "2023-06-05T12:43:30.658Z"
   },
   {
    "duration": 0,
    "start_time": "2023-06-05T12:43:30.659Z"
   },
   {
    "duration": 0,
    "start_time": "2023-06-05T12:43:30.660Z"
   },
   {
    "duration": 0,
    "start_time": "2023-06-05T12:43:30.661Z"
   },
   {
    "duration": 0,
    "start_time": "2023-06-05T12:43:30.662Z"
   },
   {
    "duration": 0,
    "start_time": "2023-06-05T12:43:30.664Z"
   },
   {
    "duration": 0,
    "start_time": "2023-06-05T12:43:30.664Z"
   },
   {
    "duration": 0,
    "start_time": "2023-06-05T12:43:30.666Z"
   },
   {
    "duration": 0,
    "start_time": "2023-06-05T12:43:30.667Z"
   },
   {
    "duration": 0,
    "start_time": "2023-06-05T12:43:30.668Z"
   },
   {
    "duration": 0,
    "start_time": "2023-06-05T12:43:30.669Z"
   },
   {
    "duration": 0,
    "start_time": "2023-06-05T12:43:30.670Z"
   },
   {
    "duration": 0,
    "start_time": "2023-06-05T12:43:30.671Z"
   },
   {
    "duration": 0,
    "start_time": "2023-06-05T12:43:30.672Z"
   },
   {
    "duration": 0,
    "start_time": "2023-06-05T12:43:30.673Z"
   },
   {
    "duration": 0,
    "start_time": "2023-06-05T12:43:30.674Z"
   },
   {
    "duration": 12,
    "start_time": "2023-06-05T12:49:12.153Z"
   },
   {
    "duration": 4,
    "start_time": "2023-06-05T12:50:34.030Z"
   },
   {
    "duration": 6,
    "start_time": "2023-06-05T12:51:16.438Z"
   },
   {
    "duration": 16,
    "start_time": "2023-06-05T12:51:17.324Z"
   },
   {
    "duration": 11,
    "start_time": "2023-06-05T12:51:29.579Z"
   },
   {
    "duration": 4,
    "start_time": "2023-06-05T12:52:22.057Z"
   },
   {
    "duration": 3,
    "start_time": "2023-06-05T12:52:29.601Z"
   },
   {
    "duration": 6,
    "start_time": "2023-06-05T12:54:11.820Z"
   },
   {
    "duration": 2188,
    "start_time": "2023-06-05T12:56:54.318Z"
   },
   {
    "duration": 1920,
    "start_time": "2023-06-05T12:56:56.508Z"
   },
   {
    "duration": 38,
    "start_time": "2023-06-05T12:56:58.430Z"
   },
   {
    "duration": 11,
    "start_time": "2023-06-05T12:56:58.470Z"
   },
   {
    "duration": 33,
    "start_time": "2023-06-05T12:56:58.483Z"
   },
   {
    "duration": 4,
    "start_time": "2023-06-05T12:56:58.518Z"
   },
   {
    "duration": 6,
    "start_time": "2023-06-05T12:56:58.524Z"
   },
   {
    "duration": 316,
    "start_time": "2023-06-05T12:56:58.532Z"
   },
   {
    "duration": 293,
    "start_time": "2023-06-05T12:56:58.850Z"
   },
   {
    "duration": 284,
    "start_time": "2023-06-05T12:56:59.146Z"
   },
   {
    "duration": 269,
    "start_time": "2023-06-05T12:56:59.431Z"
   },
   {
    "duration": 8,
    "start_time": "2023-06-05T12:56:59.702Z"
   },
   {
    "duration": 11,
    "start_time": "2023-06-05T12:56:59.712Z"
   },
   {
    "duration": 4,
    "start_time": "2023-06-05T12:56:59.726Z"
   },
   {
    "duration": 165,
    "start_time": "2023-06-05T12:56:59.731Z"
   },
   {
    "duration": 6,
    "start_time": "2023-06-05T12:56:59.898Z"
   },
   {
    "duration": 11,
    "start_time": "2023-06-05T12:56:59.906Z"
   },
   {
    "duration": 15,
    "start_time": "2023-06-05T12:56:59.919Z"
   },
   {
    "duration": 24,
    "start_time": "2023-06-05T12:56:59.935Z"
   },
   {
    "duration": 162,
    "start_time": "2023-06-05T12:56:59.961Z"
   },
   {
    "duration": 4279,
    "start_time": "2023-06-05T12:57:00.125Z"
   },
   {
    "duration": 984,
    "start_time": "2023-06-05T12:57:04.406Z"
   },
   {
    "duration": 9964,
    "start_time": "2023-06-05T12:57:05.392Z"
   },
   {
    "duration": 301,
    "start_time": "2023-06-05T12:57:15.358Z"
   },
   {
    "duration": 7,
    "start_time": "2023-06-05T12:57:15.661Z"
   },
   {
    "duration": 17,
    "start_time": "2023-06-05T12:57:15.670Z"
   },
   {
    "duration": 165,
    "start_time": "2023-06-05T12:57:15.689Z"
   },
   {
    "duration": 0,
    "start_time": "2023-06-05T12:57:15.855Z"
   },
   {
    "duration": 0,
    "start_time": "2023-06-05T12:57:15.857Z"
   },
   {
    "duration": 0,
    "start_time": "2023-06-05T12:57:15.858Z"
   },
   {
    "duration": 0,
    "start_time": "2023-06-05T12:57:15.859Z"
   },
   {
    "duration": 0,
    "start_time": "2023-06-05T12:57:15.860Z"
   },
   {
    "duration": 0,
    "start_time": "2023-06-05T12:57:15.861Z"
   },
   {
    "duration": 0,
    "start_time": "2023-06-05T12:57:15.862Z"
   },
   {
    "duration": 0,
    "start_time": "2023-06-05T12:57:15.863Z"
   },
   {
    "duration": 0,
    "start_time": "2023-06-05T12:57:15.865Z"
   },
   {
    "duration": 0,
    "start_time": "2023-06-05T12:57:15.866Z"
   },
   {
    "duration": 0,
    "start_time": "2023-06-05T12:57:15.867Z"
   },
   {
    "duration": 0,
    "start_time": "2023-06-05T12:57:15.868Z"
   },
   {
    "duration": 0,
    "start_time": "2023-06-05T12:57:15.869Z"
   },
   {
    "duration": 0,
    "start_time": "2023-06-05T12:57:15.870Z"
   },
   {
    "duration": 0,
    "start_time": "2023-06-05T12:57:15.871Z"
   },
   {
    "duration": 0,
    "start_time": "2023-06-05T12:57:15.872Z"
   },
   {
    "duration": 0,
    "start_time": "2023-06-05T12:57:15.873Z"
   },
   {
    "duration": 0,
    "start_time": "2023-06-05T12:57:15.873Z"
   },
   {
    "duration": 0,
    "start_time": "2023-06-05T12:57:15.875Z"
   },
   {
    "duration": 0,
    "start_time": "2023-06-05T12:57:15.876Z"
   },
   {
    "duration": 12,
    "start_time": "2023-06-05T12:57:47.963Z"
   },
   {
    "duration": 13,
    "start_time": "2023-06-05T12:57:51.029Z"
   },
   {
    "duration": 18,
    "start_time": "2023-06-05T12:57:51.718Z"
   },
   {
    "duration": 22,
    "start_time": "2023-06-05T12:57:58.361Z"
   },
   {
    "duration": 2460,
    "start_time": "2023-06-05T13:02:20.981Z"
   },
   {
    "duration": 1977,
    "start_time": "2023-06-05T13:02:23.444Z"
   },
   {
    "duration": 40,
    "start_time": "2023-06-05T13:02:25.422Z"
   },
   {
    "duration": 13,
    "start_time": "2023-06-05T13:02:25.464Z"
   },
   {
    "duration": 33,
    "start_time": "2023-06-05T13:02:25.479Z"
   },
   {
    "duration": 5,
    "start_time": "2023-06-05T13:02:25.514Z"
   },
   {
    "duration": 26,
    "start_time": "2023-06-05T13:02:25.520Z"
   },
   {
    "duration": 319,
    "start_time": "2023-06-05T13:02:25.548Z"
   },
   {
    "duration": 280,
    "start_time": "2023-06-05T13:02:25.869Z"
   },
   {
    "duration": 302,
    "start_time": "2023-06-05T13:02:26.152Z"
   },
   {
    "duration": 277,
    "start_time": "2023-06-05T13:02:26.455Z"
   },
   {
    "duration": 18,
    "start_time": "2023-06-05T13:02:26.734Z"
   },
   {
    "duration": 59,
    "start_time": "2023-06-05T13:02:26.754Z"
   },
   {
    "duration": 8,
    "start_time": "2023-06-05T13:02:26.815Z"
   },
   {
    "duration": 183,
    "start_time": "2023-06-05T13:02:26.825Z"
   },
   {
    "duration": 5,
    "start_time": "2023-06-05T13:02:27.009Z"
   },
   {
    "duration": 27,
    "start_time": "2023-06-05T13:02:27.015Z"
   },
   {
    "duration": 56,
    "start_time": "2023-06-05T13:02:27.044Z"
   },
   {
    "duration": 61,
    "start_time": "2023-06-05T13:02:27.102Z"
   },
   {
    "duration": 185,
    "start_time": "2023-06-05T13:02:27.165Z"
   },
   {
    "duration": 4306,
    "start_time": "2023-06-05T13:02:27.351Z"
   },
   {
    "duration": 1136,
    "start_time": "2023-06-05T13:02:31.659Z"
   },
   {
    "duration": 10378,
    "start_time": "2023-06-05T13:02:32.797Z"
   },
   {
    "duration": 334,
    "start_time": "2023-06-05T13:02:43.178Z"
   },
   {
    "duration": 7,
    "start_time": "2023-06-05T13:02:43.514Z"
   },
   {
    "duration": 22,
    "start_time": "2023-06-05T13:02:43.523Z"
   },
   {
    "duration": 148,
    "start_time": "2023-06-05T13:02:43.546Z"
   },
   {
    "duration": 0,
    "start_time": "2023-06-05T13:02:43.696Z"
   },
   {
    "duration": 0,
    "start_time": "2023-06-05T13:02:43.697Z"
   },
   {
    "duration": 0,
    "start_time": "2023-06-05T13:02:43.699Z"
   },
   {
    "duration": 0,
    "start_time": "2023-06-05T13:02:43.700Z"
   },
   {
    "duration": 0,
    "start_time": "2023-06-05T13:02:43.701Z"
   },
   {
    "duration": 0,
    "start_time": "2023-06-05T13:02:43.702Z"
   },
   {
    "duration": 0,
    "start_time": "2023-06-05T13:02:43.703Z"
   },
   {
    "duration": 0,
    "start_time": "2023-06-05T13:02:43.704Z"
   },
   {
    "duration": 0,
    "start_time": "2023-06-05T13:02:43.705Z"
   },
   {
    "duration": 0,
    "start_time": "2023-06-05T13:02:43.706Z"
   },
   {
    "duration": 0,
    "start_time": "2023-06-05T13:02:43.708Z"
   },
   {
    "duration": 0,
    "start_time": "2023-06-05T13:02:43.709Z"
   },
   {
    "duration": 0,
    "start_time": "2023-06-05T13:02:43.710Z"
   },
   {
    "duration": 0,
    "start_time": "2023-06-05T13:02:43.711Z"
   },
   {
    "duration": 0,
    "start_time": "2023-06-05T13:02:43.712Z"
   },
   {
    "duration": 0,
    "start_time": "2023-06-05T13:02:43.713Z"
   },
   {
    "duration": 0,
    "start_time": "2023-06-05T13:02:43.714Z"
   },
   {
    "duration": 0,
    "start_time": "2023-06-05T13:02:43.746Z"
   },
   {
    "duration": 0,
    "start_time": "2023-06-05T13:02:43.747Z"
   },
   {
    "duration": 0,
    "start_time": "2023-06-05T13:02:43.748Z"
   },
   {
    "duration": 0,
    "start_time": "2023-06-05T13:02:43.749Z"
   },
   {
    "duration": 2324,
    "start_time": "2023-06-05T13:03:45.091Z"
   },
   {
    "duration": 1922,
    "start_time": "2023-06-05T13:03:47.419Z"
   },
   {
    "duration": 39,
    "start_time": "2023-06-05T13:03:49.343Z"
   },
   {
    "duration": 12,
    "start_time": "2023-06-05T13:03:49.384Z"
   },
   {
    "duration": 44,
    "start_time": "2023-06-05T13:03:49.398Z"
   },
   {
    "duration": 7,
    "start_time": "2023-06-05T13:03:49.444Z"
   },
   {
    "duration": 13,
    "start_time": "2023-06-05T13:03:49.453Z"
   },
   {
    "duration": 314,
    "start_time": "2023-06-05T13:03:49.468Z"
   },
   {
    "duration": 290,
    "start_time": "2023-06-05T13:03:49.784Z"
   },
   {
    "duration": 320,
    "start_time": "2023-06-05T13:03:50.078Z"
   },
   {
    "duration": 286,
    "start_time": "2023-06-05T13:03:50.400Z"
   },
   {
    "duration": 10,
    "start_time": "2023-06-05T13:03:50.688Z"
   },
   {
    "duration": 13,
    "start_time": "2023-06-05T13:03:50.699Z"
   },
   {
    "duration": 7,
    "start_time": "2023-06-05T13:03:50.714Z"
   },
   {
    "duration": 168,
    "start_time": "2023-06-05T13:03:50.723Z"
   },
   {
    "duration": 4,
    "start_time": "2023-06-05T13:03:50.893Z"
   },
   {
    "duration": 178,
    "start_time": "2023-06-05T13:03:50.899Z"
   },
   {
    "duration": 23,
    "start_time": "2023-06-05T13:03:51.078Z"
   },
   {
    "duration": 21,
    "start_time": "2023-06-05T13:03:51.103Z"
   },
   {
    "duration": 194,
    "start_time": "2023-06-05T13:03:51.126Z"
   },
   {
    "duration": 4458,
    "start_time": "2023-06-05T13:03:51.322Z"
   },
   {
    "duration": 1056,
    "start_time": "2023-06-05T13:03:55.782Z"
   },
   {
    "duration": 10100,
    "start_time": "2023-06-05T13:03:56.840Z"
   },
   {
    "duration": 339,
    "start_time": "2023-06-05T13:04:06.942Z"
   },
   {
    "duration": 7,
    "start_time": "2023-06-05T13:04:07.283Z"
   },
   {
    "duration": 9,
    "start_time": "2023-06-05T13:04:07.292Z"
   },
   {
    "duration": 21,
    "start_time": "2023-06-05T13:04:07.302Z"
   },
   {
    "duration": 9,
    "start_time": "2023-06-05T13:04:07.326Z"
   },
   {
    "duration": 10,
    "start_time": "2023-06-05T13:04:07.336Z"
   },
   {
    "duration": 14,
    "start_time": "2023-06-05T13:04:07.348Z"
   },
   {
    "duration": 140,
    "start_time": "2023-06-05T13:04:07.363Z"
   },
   {
    "duration": 0,
    "start_time": "2023-06-05T13:04:07.504Z"
   },
   {
    "duration": 0,
    "start_time": "2023-06-05T13:04:07.506Z"
   },
   {
    "duration": 0,
    "start_time": "2023-06-05T13:04:07.507Z"
   },
   {
    "duration": 0,
    "start_time": "2023-06-05T13:04:07.508Z"
   },
   {
    "duration": 0,
    "start_time": "2023-06-05T13:04:07.509Z"
   },
   {
    "duration": 0,
    "start_time": "2023-06-05T13:04:07.510Z"
   },
   {
    "duration": 0,
    "start_time": "2023-06-05T13:04:07.511Z"
   },
   {
    "duration": 0,
    "start_time": "2023-06-05T13:04:07.512Z"
   },
   {
    "duration": 0,
    "start_time": "2023-06-05T13:04:07.513Z"
   },
   {
    "duration": 0,
    "start_time": "2023-06-05T13:04:07.513Z"
   },
   {
    "duration": 0,
    "start_time": "2023-06-05T13:04:07.514Z"
   },
   {
    "duration": 0,
    "start_time": "2023-06-05T13:04:07.516Z"
   },
   {
    "duration": 0,
    "start_time": "2023-06-05T13:04:07.516Z"
   },
   {
    "duration": 0,
    "start_time": "2023-06-05T13:04:07.518Z"
   },
   {
    "duration": 0,
    "start_time": "2023-06-05T13:04:07.546Z"
   },
   {
    "duration": 0,
    "start_time": "2023-06-05T13:04:07.547Z"
   },
   {
    "duration": 0,
    "start_time": "2023-06-05T13:04:07.548Z"
   },
   {
    "duration": 9,
    "start_time": "2023-06-05T13:04:21.421Z"
   },
   {
    "duration": 6,
    "start_time": "2023-06-05T13:04:59.018Z"
   },
   {
    "duration": 4,
    "start_time": "2023-06-05T13:06:40.227Z"
   },
   {
    "duration": 5,
    "start_time": "2023-06-05T13:06:43.056Z"
   },
   {
    "duration": 3,
    "start_time": "2023-06-05T13:07:44.195Z"
   },
   {
    "duration": 3,
    "start_time": "2023-06-05T13:08:32.429Z"
   },
   {
    "duration": 4,
    "start_time": "2023-06-05T13:09:52.812Z"
   },
   {
    "duration": 4,
    "start_time": "2023-06-05T13:09:54.731Z"
   },
   {
    "duration": 6,
    "start_time": "2023-06-05T13:09:56.006Z"
   },
   {
    "duration": 11532,
    "start_time": "2023-06-05T13:09:58.037Z"
   },
   {
    "duration": 6,
    "start_time": "2023-06-05T13:10:25.786Z"
   },
   {
    "duration": 645,
    "start_time": "2023-06-05T13:10:26.674Z"
   },
   {
    "duration": 6,
    "start_time": "2023-06-05T13:10:39.111Z"
   },
   {
    "duration": 53364,
    "start_time": "2023-06-05T13:10:41.310Z"
   },
   {
    "duration": 8,
    "start_time": "2023-06-05T13:11:44.485Z"
   },
   {
    "duration": 6,
    "start_time": "2023-06-05T13:11:57.244Z"
   },
   {
    "duration": 5,
    "start_time": "2023-06-05T13:11:58.577Z"
   },
   {
    "duration": 4,
    "start_time": "2023-06-05T13:12:11.325Z"
   },
   {
    "duration": 4,
    "start_time": "2023-06-05T13:12:14.437Z"
   },
   {
    "duration": 62170,
    "start_time": "2023-06-05T13:12:15.477Z"
   },
   {
    "duration": 228,
    "start_time": "2023-06-05T13:13:23.911Z"
   },
   {
    "duration": 591,
    "start_time": "2023-06-05T13:13:33.518Z"
   },
   {
    "duration": 94,
    "start_time": "2023-06-05T13:21:23.275Z"
   },
   {
    "duration": 118,
    "start_time": "2023-06-05T13:21:38.119Z"
   },
   {
    "duration": 6,
    "start_time": "2023-06-05T13:22:57.271Z"
   },
   {
    "duration": 29,
    "start_time": "2023-06-05T13:23:13.664Z"
   },
   {
    "duration": 2218,
    "start_time": "2023-06-05T13:23:46.314Z"
   },
   {
    "duration": 1939,
    "start_time": "2023-06-05T13:23:48.535Z"
   },
   {
    "duration": 39,
    "start_time": "2023-06-05T13:23:50.476Z"
   },
   {
    "duration": 10,
    "start_time": "2023-06-05T13:23:50.517Z"
   },
   {
    "duration": 29,
    "start_time": "2023-06-05T13:23:50.529Z"
   },
   {
    "duration": 5,
    "start_time": "2023-06-05T13:23:50.559Z"
   },
   {
    "duration": 12,
    "start_time": "2023-06-05T13:23:50.565Z"
   },
   {
    "duration": 316,
    "start_time": "2023-06-05T13:23:50.578Z"
   },
   {
    "duration": 298,
    "start_time": "2023-06-05T13:23:50.895Z"
   },
   {
    "duration": 301,
    "start_time": "2023-06-05T13:23:51.196Z"
   },
   {
    "duration": 282,
    "start_time": "2023-06-05T13:23:51.499Z"
   },
   {
    "duration": 8,
    "start_time": "2023-06-05T13:23:51.783Z"
   },
   {
    "duration": 14,
    "start_time": "2023-06-05T13:23:51.793Z"
   },
   {
    "duration": 5,
    "start_time": "2023-06-05T13:23:51.808Z"
   },
   {
    "duration": 177,
    "start_time": "2023-06-05T13:23:51.815Z"
   },
   {
    "duration": 6,
    "start_time": "2023-06-05T13:23:51.994Z"
   },
   {
    "duration": 16,
    "start_time": "2023-06-05T13:23:52.003Z"
   },
   {
    "duration": 17,
    "start_time": "2023-06-05T13:23:52.020Z"
   },
   {
    "duration": 22,
    "start_time": "2023-06-05T13:23:52.039Z"
   },
   {
    "duration": 170,
    "start_time": "2023-06-05T13:23:52.063Z"
   },
   {
    "duration": 4525,
    "start_time": "2023-06-05T13:23:52.235Z"
   },
   {
    "duration": 982,
    "start_time": "2023-06-05T13:23:56.762Z"
   },
   {
    "duration": 10006,
    "start_time": "2023-06-05T13:23:57.745Z"
   },
   {
    "duration": 324,
    "start_time": "2023-06-05T13:24:07.753Z"
   },
   {
    "duration": 7,
    "start_time": "2023-06-05T13:24:08.079Z"
   },
   {
    "duration": 40,
    "start_time": "2023-06-05T13:24:08.088Z"
   },
   {
    "duration": 33,
    "start_time": "2023-06-05T13:24:08.130Z"
   },
   {
    "duration": 23,
    "start_time": "2023-06-05T13:24:08.167Z"
   },
   {
    "duration": 17,
    "start_time": "2023-06-05T13:24:08.192Z"
   },
   {
    "duration": 21,
    "start_time": "2023-06-05T13:24:08.211Z"
   },
   {
    "duration": 34,
    "start_time": "2023-06-05T13:24:08.234Z"
   },
   {
    "duration": 27,
    "start_time": "2023-06-05T13:24:08.269Z"
   },
   {
    "duration": 27,
    "start_time": "2023-06-05T13:24:08.297Z"
   },
   {
    "duration": 23,
    "start_time": "2023-06-05T13:24:08.326Z"
   },
   {
    "duration": 20,
    "start_time": "2023-06-05T13:24:08.351Z"
   },
   {
    "duration": 179,
    "start_time": "2023-06-05T13:24:08.373Z"
   },
   {
    "duration": 0,
    "start_time": "2023-06-05T13:24:08.554Z"
   },
   {
    "duration": 0,
    "start_time": "2023-06-05T13:24:08.555Z"
   },
   {
    "duration": 0,
    "start_time": "2023-06-05T13:24:08.556Z"
   },
   {
    "duration": 0,
    "start_time": "2023-06-05T13:24:08.557Z"
   },
   {
    "duration": 0,
    "start_time": "2023-06-05T13:24:08.559Z"
   },
   {
    "duration": 0,
    "start_time": "2023-06-05T13:24:08.560Z"
   },
   {
    "duration": 0,
    "start_time": "2023-06-05T13:24:08.561Z"
   },
   {
    "duration": 0,
    "start_time": "2023-06-05T13:24:08.562Z"
   },
   {
    "duration": 0,
    "start_time": "2023-06-05T13:24:08.563Z"
   },
   {
    "duration": 0,
    "start_time": "2023-06-05T13:24:08.564Z"
   },
   {
    "duration": 0,
    "start_time": "2023-06-05T13:24:08.565Z"
   },
   {
    "duration": 7,
    "start_time": "2023-06-05T13:24:58.120Z"
   },
   {
    "duration": 32,
    "start_time": "2023-06-05T13:24:58.749Z"
   },
   {
    "duration": 7,
    "start_time": "2023-06-05T13:25:35.934Z"
   },
   {
    "duration": 24,
    "start_time": "2023-06-05T13:25:36.485Z"
   },
   {
    "duration": 26,
    "start_time": "2023-06-05T13:27:42.721Z"
   },
   {
    "duration": 2305,
    "start_time": "2023-06-05T13:27:49.587Z"
   },
   {
    "duration": 2031,
    "start_time": "2023-06-05T13:27:51.894Z"
   },
   {
    "duration": 40,
    "start_time": "2023-06-05T13:27:53.927Z"
   },
   {
    "duration": 12,
    "start_time": "2023-06-05T13:27:53.969Z"
   },
   {
    "duration": 33,
    "start_time": "2023-06-05T13:27:53.983Z"
   },
   {
    "duration": 4,
    "start_time": "2023-06-05T13:27:54.018Z"
   },
   {
    "duration": 13,
    "start_time": "2023-06-05T13:27:54.023Z"
   },
   {
    "duration": 319,
    "start_time": "2023-06-05T13:27:54.038Z"
   },
   {
    "duration": 268,
    "start_time": "2023-06-05T13:27:54.359Z"
   },
   {
    "duration": 283,
    "start_time": "2023-06-05T13:27:54.629Z"
   },
   {
    "duration": 267,
    "start_time": "2023-06-05T13:27:54.914Z"
   },
   {
    "duration": 7,
    "start_time": "2023-06-05T13:27:55.183Z"
   },
   {
    "duration": 11,
    "start_time": "2023-06-05T13:27:55.191Z"
   },
   {
    "duration": 9,
    "start_time": "2023-06-05T13:27:55.204Z"
   },
   {
    "duration": 155,
    "start_time": "2023-06-05T13:27:55.215Z"
   },
   {
    "duration": 5,
    "start_time": "2023-06-05T13:27:55.371Z"
   },
   {
    "duration": 35,
    "start_time": "2023-06-05T13:27:55.377Z"
   },
   {
    "duration": 74,
    "start_time": "2023-06-05T13:27:55.414Z"
   },
   {
    "duration": 12,
    "start_time": "2023-06-05T13:27:55.489Z"
   },
   {
    "duration": 154,
    "start_time": "2023-06-05T13:27:55.502Z"
   },
   {
    "duration": 4242,
    "start_time": "2023-06-05T13:27:55.658Z"
   },
   {
    "duration": 947,
    "start_time": "2023-06-05T13:27:59.901Z"
   },
   {
    "duration": 9865,
    "start_time": "2023-06-05T13:28:00.850Z"
   },
   {
    "duration": 342,
    "start_time": "2023-06-05T13:28:10.717Z"
   },
   {
    "duration": 7,
    "start_time": "2023-06-05T13:28:11.061Z"
   },
   {
    "duration": 13,
    "start_time": "2023-06-05T13:28:11.070Z"
   },
   {
    "duration": 19,
    "start_time": "2023-06-05T13:28:11.085Z"
   },
   {
    "duration": 4,
    "start_time": "2023-06-05T13:28:11.108Z"
   },
   {
    "duration": 8,
    "start_time": "2023-06-05T13:28:11.114Z"
   },
   {
    "duration": 23,
    "start_time": "2023-06-05T13:28:11.123Z"
   },
   {
    "duration": 3,
    "start_time": "2023-06-05T13:28:11.148Z"
   },
   {
    "duration": 26,
    "start_time": "2023-06-05T13:28:11.152Z"
   },
   {
    "duration": 14,
    "start_time": "2023-06-05T13:28:11.180Z"
   },
   {
    "duration": 12,
    "start_time": "2023-06-05T13:28:11.195Z"
   },
   {
    "duration": 154,
    "start_time": "2023-06-05T13:28:11.208Z"
   },
   {
    "duration": 0,
    "start_time": "2023-06-05T13:28:11.363Z"
   },
   {
    "duration": 0,
    "start_time": "2023-06-05T13:28:11.364Z"
   },
   {
    "duration": 0,
    "start_time": "2023-06-05T13:28:11.366Z"
   },
   {
    "duration": 0,
    "start_time": "2023-06-05T13:28:11.366Z"
   },
   {
    "duration": 0,
    "start_time": "2023-06-05T13:28:11.368Z"
   },
   {
    "duration": 0,
    "start_time": "2023-06-05T13:28:11.369Z"
   },
   {
    "duration": 0,
    "start_time": "2023-06-05T13:28:11.370Z"
   },
   {
    "duration": 0,
    "start_time": "2023-06-05T13:28:11.371Z"
   },
   {
    "duration": 0,
    "start_time": "2023-06-05T13:28:11.372Z"
   },
   {
    "duration": 0,
    "start_time": "2023-06-05T13:28:11.373Z"
   },
   {
    "duration": 0,
    "start_time": "2023-06-05T13:28:11.374Z"
   },
   {
    "duration": 0,
    "start_time": "2023-06-05T13:28:11.375Z"
   },
   {
    "duration": 11,
    "start_time": "2023-06-05T13:29:53.865Z"
   },
   {
    "duration": 6,
    "start_time": "2023-06-05T13:29:56.782Z"
   },
   {
    "duration": 11335,
    "start_time": "2023-06-05T13:29:58.539Z"
   },
   {
    "duration": 5,
    "start_time": "2023-06-05T13:30:23.235Z"
   },
   {
    "duration": 622,
    "start_time": "2023-06-05T13:30:25.303Z"
   },
   {
    "duration": 7,
    "start_time": "2023-06-05T13:32:15.037Z"
   },
   {
    "duration": 11470,
    "start_time": "2023-06-05T13:32:15.731Z"
   },
   {
    "duration": 5,
    "start_time": "2023-06-05T13:32:38.183Z"
   },
   {
    "duration": 661,
    "start_time": "2023-06-05T13:32:41.328Z"
   },
   {
    "duration": 7,
    "start_time": "2023-06-05T13:33:46.986Z"
   },
   {
    "duration": 11369,
    "start_time": "2023-06-05T13:33:47.594Z"
   },
   {
    "duration": 5,
    "start_time": "2023-06-05T13:34:04.285Z"
   },
   {
    "duration": 717,
    "start_time": "2023-06-05T13:34:04.912Z"
   },
   {
    "duration": 11693,
    "start_time": "2023-06-05T13:37:44.796Z"
   },
   {
    "duration": 7,
    "start_time": "2023-06-05T13:38:02.612Z"
   },
   {
    "duration": 600,
    "start_time": "2023-06-05T13:38:03.398Z"
   },
   {
    "duration": 6,
    "start_time": "2023-06-05T13:42:35.413Z"
   },
   {
    "duration": 57191,
    "start_time": "2023-06-05T13:42:36.408Z"
   },
   {
    "duration": 9,
    "start_time": "2023-06-05T13:43:38.463Z"
   },
   {
    "duration": 7,
    "start_time": "2023-06-05T13:51:52.129Z"
   },
   {
    "duration": 5752,
    "start_time": "2023-06-05T13:51:52.795Z"
   },
   {
    "duration": 5937,
    "start_time": "2023-06-05T13:52:12.347Z"
   },
   {
    "duration": 6,
    "start_time": "2023-06-05T13:52:25.482Z"
   },
   {
    "duration": 610,
    "start_time": "2023-06-05T13:52:27.381Z"
   },
   {
    "duration": 12,
    "start_time": "2023-06-05T13:53:11.454Z"
   },
   {
    "duration": 17935,
    "start_time": "2023-06-05T13:53:37.859Z"
   },
   {
    "duration": 10,
    "start_time": "2023-06-05T13:54:01.187Z"
   },
   {
    "duration": 2232,
    "start_time": "2023-06-05T13:55:58.937Z"
   },
   {
    "duration": 2052,
    "start_time": "2023-06-05T13:56:01.171Z"
   },
   {
    "duration": 38,
    "start_time": "2023-06-05T13:56:03.224Z"
   },
   {
    "duration": 11,
    "start_time": "2023-06-05T13:56:03.264Z"
   },
   {
    "duration": 64,
    "start_time": "2023-06-05T13:56:03.277Z"
   },
   {
    "duration": 14,
    "start_time": "2023-06-05T13:56:03.343Z"
   },
   {
    "duration": 28,
    "start_time": "2023-06-05T13:56:03.358Z"
   },
   {
    "duration": 291,
    "start_time": "2023-06-05T13:56:03.388Z"
   },
   {
    "duration": 258,
    "start_time": "2023-06-05T13:56:03.680Z"
   },
   {
    "duration": 275,
    "start_time": "2023-06-05T13:56:03.947Z"
   },
   {
    "duration": 258,
    "start_time": "2023-06-05T13:56:04.224Z"
   },
   {
    "duration": 8,
    "start_time": "2023-06-05T13:56:04.483Z"
   },
   {
    "duration": 36,
    "start_time": "2023-06-05T13:56:04.492Z"
   },
   {
    "duration": 41,
    "start_time": "2023-06-05T13:56:04.530Z"
   },
   {
    "duration": 163,
    "start_time": "2023-06-05T13:56:04.572Z"
   },
   {
    "duration": 4,
    "start_time": "2023-06-05T13:56:04.737Z"
   },
   {
    "duration": 44,
    "start_time": "2023-06-05T13:56:04.742Z"
   },
   {
    "duration": 22,
    "start_time": "2023-06-05T13:56:04.788Z"
   },
   {
    "duration": 41,
    "start_time": "2023-06-05T13:56:04.812Z"
   },
   {
    "duration": 182,
    "start_time": "2023-06-05T13:56:04.855Z"
   },
   {
    "duration": 4274,
    "start_time": "2023-06-05T13:56:05.046Z"
   },
   {
    "duration": 1017,
    "start_time": "2023-06-05T13:56:09.322Z"
   },
   {
    "duration": 10173,
    "start_time": "2023-06-05T13:56:10.341Z"
   },
   {
    "duration": 355,
    "start_time": "2023-06-05T13:56:20.516Z"
   },
   {
    "duration": 10,
    "start_time": "2023-06-05T13:56:20.873Z"
   },
   {
    "duration": 25,
    "start_time": "2023-06-05T13:56:20.885Z"
   },
   {
    "duration": 29,
    "start_time": "2023-06-05T13:56:20.912Z"
   },
   {
    "duration": 99,
    "start_time": "2023-06-05T13:56:20.945Z"
   },
   {
    "duration": 27,
    "start_time": "2023-06-05T13:56:21.046Z"
   },
   {
    "duration": 22,
    "start_time": "2023-06-05T13:56:21.075Z"
   },
   {
    "duration": 29,
    "start_time": "2023-06-05T13:56:21.099Z"
   },
   {
    "duration": 28,
    "start_time": "2023-06-05T13:56:21.130Z"
   },
   {
    "duration": 17,
    "start_time": "2023-06-05T13:56:21.159Z"
   },
   {
    "duration": 28,
    "start_time": "2023-06-05T13:56:21.178Z"
   },
   {
    "duration": 21,
    "start_time": "2023-06-05T13:56:21.208Z"
   },
   {
    "duration": 11408,
    "start_time": "2023-06-05T13:56:21.231Z"
   },
   {
    "duration": 0,
    "start_time": "2023-06-05T13:56:32.646Z"
   },
   {
    "duration": 0,
    "start_time": "2023-06-05T13:56:32.648Z"
   },
   {
    "duration": 0,
    "start_time": "2023-06-05T13:56:32.649Z"
   },
   {
    "duration": 0,
    "start_time": "2023-06-05T13:56:32.651Z"
   },
   {
    "duration": 0,
    "start_time": "2023-06-05T13:56:32.653Z"
   },
   {
    "duration": 0,
    "start_time": "2023-06-05T13:56:32.654Z"
   },
   {
    "duration": 0,
    "start_time": "2023-06-05T13:56:32.656Z"
   },
   {
    "duration": 0,
    "start_time": "2023-06-05T13:56:32.657Z"
   },
   {
    "duration": 0,
    "start_time": "2023-06-05T13:56:32.658Z"
   },
   {
    "duration": 0,
    "start_time": "2023-06-05T13:56:32.660Z"
   },
   {
    "duration": 0,
    "start_time": "2023-06-05T13:56:32.662Z"
   },
   {
    "duration": 11361,
    "start_time": "2023-06-05T13:56:39.403Z"
   },
   {
    "duration": 6,
    "start_time": "2023-06-05T13:57:23.784Z"
   },
   {
    "duration": 622,
    "start_time": "2023-06-05T13:57:25.220Z"
   },
   {
    "duration": 7,
    "start_time": "2023-06-05T13:57:32.717Z"
   },
   {
    "duration": 67127,
    "start_time": "2023-06-05T13:57:33.408Z"
   },
   {
    "duration": 11,
    "start_time": "2023-06-05T13:58:45.547Z"
   },
   {
    "duration": 6,
    "start_time": "2023-06-05T13:59:06.197Z"
   },
   {
    "duration": 6,
    "start_time": "2023-06-05T13:59:21.026Z"
   },
   {
    "duration": 4,
    "start_time": "2023-06-05T13:59:21.628Z"
   },
   {
    "duration": 42778,
    "start_time": "2023-06-05T13:59:24.789Z"
   },
   {
    "duration": 12,
    "start_time": "2023-06-05T14:00:15.383Z"
   },
   {
    "duration": 6,
    "start_time": "2023-06-05T14:14:27.185Z"
   },
   {
    "duration": 46452,
    "start_time": "2023-06-05T14:14:28.294Z"
   },
   {
    "duration": 5,
    "start_time": "2023-06-05T14:15:44.549Z"
   },
   {
    "duration": 566,
    "start_time": "2023-06-05T14:15:44.610Z"
   },
   {
    "duration": 128062,
    "start_time": "2023-06-05T14:16:01.185Z"
   },
   {
    "duration": 11,
    "start_time": "2023-06-05T14:18:26.767Z"
   },
   {
    "duration": 2217,
    "start_time": "2023-06-05T14:18:59.493Z"
   },
   {
    "duration": 2004,
    "start_time": "2023-06-05T14:19:01.713Z"
   },
   {
    "duration": 39,
    "start_time": "2023-06-05T14:19:03.719Z"
   },
   {
    "duration": 11,
    "start_time": "2023-06-05T14:19:03.760Z"
   },
   {
    "duration": 40,
    "start_time": "2023-06-05T14:19:03.773Z"
   },
   {
    "duration": 4,
    "start_time": "2023-06-05T14:19:03.815Z"
   },
   {
    "duration": 32,
    "start_time": "2023-06-05T14:19:03.821Z"
   },
   {
    "duration": 295,
    "start_time": "2023-06-05T14:19:03.855Z"
   },
   {
    "duration": 291,
    "start_time": "2023-06-05T14:19:04.152Z"
   },
   {
    "duration": 315,
    "start_time": "2023-06-05T14:19:04.447Z"
   },
   {
    "duration": 278,
    "start_time": "2023-06-05T14:19:04.763Z"
   },
   {
    "duration": 8,
    "start_time": "2023-06-05T14:19:05.046Z"
   },
   {
    "duration": 23,
    "start_time": "2023-06-05T14:19:05.056Z"
   },
   {
    "duration": 22,
    "start_time": "2023-06-05T14:19:05.081Z"
   },
   {
    "duration": 156,
    "start_time": "2023-06-05T14:19:05.105Z"
   },
   {
    "duration": 4,
    "start_time": "2023-06-05T14:19:05.263Z"
   },
   {
    "duration": 17,
    "start_time": "2023-06-05T14:19:05.269Z"
   },
   {
    "duration": 16,
    "start_time": "2023-06-05T14:19:05.288Z"
   },
   {
    "duration": 20,
    "start_time": "2023-06-05T14:19:05.306Z"
   },
   {
    "duration": 190,
    "start_time": "2023-06-05T14:19:05.328Z"
   },
   {
    "duration": 4384,
    "start_time": "2023-06-05T14:19:05.520Z"
   },
   {
    "duration": 1003,
    "start_time": "2023-06-05T14:19:09.906Z"
   },
   {
    "duration": 10000,
    "start_time": "2023-06-05T14:19:10.911Z"
   },
   {
    "duration": 349,
    "start_time": "2023-06-05T14:19:20.913Z"
   },
   {
    "duration": 7,
    "start_time": "2023-06-05T14:19:21.264Z"
   },
   {
    "duration": 31,
    "start_time": "2023-06-05T14:19:21.273Z"
   },
   {
    "duration": 17,
    "start_time": "2023-06-05T14:19:21.306Z"
   },
   {
    "duration": 15,
    "start_time": "2023-06-05T14:19:21.327Z"
   },
   {
    "duration": 40,
    "start_time": "2023-06-05T14:19:21.344Z"
   },
   {
    "duration": 32,
    "start_time": "2023-06-05T14:19:21.385Z"
   },
   {
    "duration": 17,
    "start_time": "2023-06-05T14:19:21.419Z"
   },
   {
    "duration": 52,
    "start_time": "2023-06-05T14:19:21.438Z"
   },
   {
    "duration": 23,
    "start_time": "2023-06-05T14:19:21.492Z"
   },
   {
    "duration": 27,
    "start_time": "2023-06-05T14:19:21.517Z"
   },
   {
    "duration": 17,
    "start_time": "2023-06-05T14:19:21.546Z"
   },
   {
    "duration": 11464,
    "start_time": "2023-06-05T14:19:21.564Z"
   },
   {
    "duration": 5,
    "start_time": "2023-06-05T14:19:33.030Z"
   },
   {
    "duration": 616,
    "start_time": "2023-06-05T14:19:33.045Z"
   },
   {
    "duration": 6,
    "start_time": "2023-06-05T14:19:33.663Z"
   },
   {
    "duration": 52078,
    "start_time": "2023-06-05T14:19:33.670Z"
   },
   {
    "duration": 8,
    "start_time": "2023-06-05T14:20:25.750Z"
   },
   {
    "duration": 11,
    "start_time": "2023-06-05T14:20:25.759Z"
   },
   {
    "duration": 8,
    "start_time": "2023-06-05T14:20:25.771Z"
   },
   {
    "duration": 7,
    "start_time": "2023-06-05T14:20:25.780Z"
   },
   {
    "duration": 44075,
    "start_time": "2023-06-05T14:20:25.789Z"
   },
   {
    "duration": 253,
    "start_time": "2023-06-05T14:21:09.866Z"
   },
   {
    "duration": 691,
    "start_time": "2023-06-05T14:21:10.121Z"
   },
   {
    "duration": 5,
    "start_time": "2023-06-05T14:35:50.390Z"
   },
   {
    "duration": 6,
    "start_time": "2023-06-05T14:35:51.293Z"
   },
   {
    "duration": 6,
    "start_time": "2023-06-05T14:35:51.941Z"
   },
   {
    "duration": 7,
    "start_time": "2023-06-05T14:35:52.542Z"
   },
   {
    "duration": 152,
    "start_time": "2023-06-05T14:35:53.354Z"
   },
   {
    "duration": 2401,
    "start_time": "2023-06-05T14:37:26.308Z"
   },
   {
    "duration": 1986,
    "start_time": "2023-06-05T14:37:28.711Z"
   },
   {
    "duration": 38,
    "start_time": "2023-06-05T14:37:30.699Z"
   },
   {
    "duration": 13,
    "start_time": "2023-06-05T14:37:30.739Z"
   },
   {
    "duration": 68,
    "start_time": "2023-06-05T14:37:30.754Z"
   },
   {
    "duration": 33,
    "start_time": "2023-06-05T14:37:30.823Z"
   },
   {
    "duration": 40,
    "start_time": "2023-06-05T14:37:30.858Z"
   },
   {
    "duration": 329,
    "start_time": "2023-06-05T14:37:30.900Z"
   },
   {
    "duration": 279,
    "start_time": "2023-06-05T14:37:31.231Z"
   },
   {
    "duration": 298,
    "start_time": "2023-06-05T14:37:31.514Z"
   },
   {
    "duration": 299,
    "start_time": "2023-06-05T14:37:31.814Z"
   },
   {
    "duration": 9,
    "start_time": "2023-06-05T14:37:32.116Z"
   },
   {
    "duration": 32,
    "start_time": "2023-06-05T14:37:32.126Z"
   },
   {
    "duration": 42,
    "start_time": "2023-06-05T14:37:32.159Z"
   },
   {
    "duration": 179,
    "start_time": "2023-06-05T14:37:32.203Z"
   },
   {
    "duration": 4,
    "start_time": "2023-06-05T14:37:32.384Z"
   },
   {
    "duration": 15,
    "start_time": "2023-06-05T14:37:32.389Z"
   },
   {
    "duration": 28,
    "start_time": "2023-06-05T14:37:32.405Z"
   },
   {
    "duration": 49,
    "start_time": "2023-06-05T14:37:32.435Z"
   },
   {
    "duration": 222,
    "start_time": "2023-06-05T14:37:32.486Z"
   },
   {
    "duration": 4269,
    "start_time": "2023-06-05T14:37:32.711Z"
   },
   {
    "duration": 1028,
    "start_time": "2023-06-05T14:37:36.982Z"
   },
   {
    "duration": 10089,
    "start_time": "2023-06-05T14:37:38.012Z"
   },
   {
    "duration": 351,
    "start_time": "2023-06-05T14:37:48.103Z"
   },
   {
    "duration": 8,
    "start_time": "2023-06-05T14:37:48.456Z"
   },
   {
    "duration": 32,
    "start_time": "2023-06-05T14:37:48.466Z"
   },
   {
    "duration": 19,
    "start_time": "2023-06-05T14:37:48.500Z"
   },
   {
    "duration": 4,
    "start_time": "2023-06-05T14:37:48.523Z"
   },
   {
    "duration": 8,
    "start_time": "2023-06-05T14:37:48.529Z"
   },
   {
    "duration": 5,
    "start_time": "2023-06-05T14:37:48.539Z"
   },
   {
    "duration": 5,
    "start_time": "2023-06-05T14:37:48.545Z"
   },
   {
    "duration": 10,
    "start_time": "2023-06-05T14:37:48.551Z"
   },
   {
    "duration": 10,
    "start_time": "2023-06-05T14:37:48.563Z"
   },
   {
    "duration": 9,
    "start_time": "2023-06-05T14:37:48.575Z"
   },
   {
    "duration": 9,
    "start_time": "2023-06-05T14:37:48.586Z"
   },
   {
    "duration": 11198,
    "start_time": "2023-06-05T14:37:48.597Z"
   },
   {
    "duration": 5,
    "start_time": "2023-06-05T14:37:59.797Z"
   },
   {
    "duration": 603,
    "start_time": "2023-06-05T14:37:59.804Z"
   },
   {
    "duration": 6,
    "start_time": "2023-06-05T14:38:00.410Z"
   },
   {
    "duration": 54617,
    "start_time": "2023-06-05T14:38:00.418Z"
   },
   {
    "duration": 15,
    "start_time": "2023-06-05T14:38:55.036Z"
   },
   {
    "duration": 21,
    "start_time": "2023-06-05T14:38:55.053Z"
   },
   {
    "duration": 21,
    "start_time": "2023-06-05T14:38:55.075Z"
   },
   {
    "duration": 10,
    "start_time": "2023-06-05T14:38:55.097Z"
   },
   {
    "duration": 12,
    "start_time": "2023-06-05T14:38:55.109Z"
   },
   {
    "duration": 153,
    "start_time": "2023-06-05T14:38:55.123Z"
   },
   {
    "duration": 0,
    "start_time": "2023-06-05T14:38:55.278Z"
   },
   {
    "duration": 0,
    "start_time": "2023-06-05T14:38:55.279Z"
   },
   {
    "duration": 0,
    "start_time": "2023-06-05T14:38:55.280Z"
   },
   {
    "duration": 0,
    "start_time": "2023-06-05T14:38:55.282Z"
   },
   {
    "duration": 0,
    "start_time": "2023-06-05T14:38:55.283Z"
   },
   {
    "duration": 18,
    "start_time": "2023-06-05T14:39:55.684Z"
   },
   {
    "duration": 6,
    "start_time": "2023-06-05T14:40:30.402Z"
   },
   {
    "duration": 5,
    "start_time": "2023-06-05T14:40:31.082Z"
   },
   {
    "duration": 7,
    "start_time": "2023-06-05T14:40:31.721Z"
   },
   {
    "duration": 7,
    "start_time": "2023-06-05T14:40:32.576Z"
   },
   {
    "duration": 9,
    "start_time": "2023-06-05T14:40:33.495Z"
   },
   {
    "duration": 5,
    "start_time": "2023-06-05T14:40:36.121Z"
   },
   {
    "duration": 19,
    "start_time": "2023-06-05T14:40:38.102Z"
   },
   {
    "duration": 11,
    "start_time": "2023-06-05T14:41:42.513Z"
   },
   {
    "duration": 5,
    "start_time": "2023-06-05T14:41:43.337Z"
   },
   {
    "duration": 24,
    "start_time": "2023-06-05T14:41:44.089Z"
   },
   {
    "duration": 13,
    "start_time": "2023-06-05T14:43:30.754Z"
   },
   {
    "duration": 17,
    "start_time": "2023-06-05T14:43:47.590Z"
   },
   {
    "duration": 5,
    "start_time": "2023-06-05T14:45:09.155Z"
   },
   {
    "duration": 6,
    "start_time": "2023-06-05T14:45:09.820Z"
   },
   {
    "duration": 4,
    "start_time": "2023-06-05T14:45:20.285Z"
   },
   {
    "duration": 13482,
    "start_time": "2023-06-05T14:46:32.475Z"
   },
   {
    "duration": 2574,
    "start_time": "2023-06-05T14:47:00.569Z"
   },
   {
    "duration": 1990,
    "start_time": "2023-06-05T14:47:03.145Z"
   },
   {
    "duration": 38,
    "start_time": "2023-06-05T14:47:05.137Z"
   },
   {
    "duration": 11,
    "start_time": "2023-06-05T14:47:05.177Z"
   },
   {
    "duration": 26,
    "start_time": "2023-06-05T14:47:05.190Z"
   },
   {
    "duration": 6,
    "start_time": "2023-06-05T14:47:05.218Z"
   },
   {
    "duration": 30,
    "start_time": "2023-06-05T14:47:05.225Z"
   },
   {
    "duration": 303,
    "start_time": "2023-06-05T14:47:05.257Z"
   },
   {
    "duration": 273,
    "start_time": "2023-06-05T14:47:05.562Z"
   },
   {
    "duration": 303,
    "start_time": "2023-06-05T14:47:05.837Z"
   },
   {
    "duration": 287,
    "start_time": "2023-06-05T14:47:06.145Z"
   },
   {
    "duration": 13,
    "start_time": "2023-06-05T14:47:06.434Z"
   },
   {
    "duration": 33,
    "start_time": "2023-06-05T14:47:06.449Z"
   },
   {
    "duration": 28,
    "start_time": "2023-06-05T14:47:06.485Z"
   },
   {
    "duration": 167,
    "start_time": "2023-06-05T14:47:06.514Z"
   },
   {
    "duration": 5,
    "start_time": "2023-06-05T14:47:06.683Z"
   },
   {
    "duration": 16,
    "start_time": "2023-06-05T14:47:06.689Z"
   },
   {
    "duration": 9,
    "start_time": "2023-06-05T14:47:06.707Z"
   },
   {
    "duration": 15,
    "start_time": "2023-06-05T14:47:06.718Z"
   },
   {
    "duration": 173,
    "start_time": "2023-06-05T14:47:06.735Z"
   },
   {
    "duration": 4266,
    "start_time": "2023-06-05T14:47:06.910Z"
   },
   {
    "duration": 989,
    "start_time": "2023-06-05T14:47:11.178Z"
   },
   {
    "duration": 10071,
    "start_time": "2023-06-05T14:47:12.169Z"
   },
   {
    "duration": 358,
    "start_time": "2023-06-05T14:47:22.242Z"
   },
   {
    "duration": 11,
    "start_time": "2023-06-05T14:47:22.602Z"
   },
   {
    "duration": 39,
    "start_time": "2023-06-05T14:47:22.615Z"
   },
   {
    "duration": 39,
    "start_time": "2023-06-05T14:47:22.657Z"
   },
   {
    "duration": 23,
    "start_time": "2023-06-05T14:47:22.698Z"
   },
   {
    "duration": 14,
    "start_time": "2023-06-05T14:47:22.723Z"
   },
   {
    "duration": 18,
    "start_time": "2023-06-05T14:47:22.739Z"
   },
   {
    "duration": 17,
    "start_time": "2023-06-05T14:47:22.759Z"
   },
   {
    "duration": 38,
    "start_time": "2023-06-05T14:47:22.778Z"
   },
   {
    "duration": 33,
    "start_time": "2023-06-05T14:47:22.818Z"
   },
   {
    "duration": 56,
    "start_time": "2023-06-05T14:47:22.853Z"
   },
   {
    "duration": 23,
    "start_time": "2023-06-05T14:47:22.911Z"
   },
   {
    "duration": 11441,
    "start_time": "2023-06-05T14:47:22.936Z"
   },
   {
    "duration": 5,
    "start_time": "2023-06-05T14:47:34.378Z"
   },
   {
    "duration": 649,
    "start_time": "2023-06-05T14:47:34.385Z"
   },
   {
    "duration": 12,
    "start_time": "2023-06-05T14:47:35.035Z"
   },
   {
    "duration": 54374,
    "start_time": "2023-06-05T14:47:35.048Z"
   },
   {
    "duration": 9,
    "start_time": "2023-06-05T14:48:29.427Z"
   },
   {
    "duration": 25,
    "start_time": "2023-06-05T14:48:29.437Z"
   },
   {
    "duration": 37,
    "start_time": "2023-06-05T14:48:29.464Z"
   },
   {
    "duration": 37,
    "start_time": "2023-06-05T14:48:29.503Z"
   },
   {
    "duration": 34,
    "start_time": "2023-06-05T14:48:29.542Z"
   },
   {
    "duration": 17777,
    "start_time": "2023-06-05T14:48:29.578Z"
   },
   {
    "duration": 17405,
    "start_time": "2023-06-05T14:48:47.357Z"
   },
   {
    "duration": 200,
    "start_time": "2023-06-05T14:49:04.764Z"
   },
   {
    "duration": 651,
    "start_time": "2023-06-05T14:49:04.966Z"
   },
   {
    "duration": 6,
    "start_time": "2023-06-05T14:49:58.507Z"
   },
   {
    "duration": 5,
    "start_time": "2023-06-05T14:50:00.374Z"
   },
   {
    "duration": 4,
    "start_time": "2023-06-05T14:50:02.872Z"
   },
   {
    "duration": 4,
    "start_time": "2023-06-05T14:50:03.687Z"
   },
   {
    "duration": 10409,
    "start_time": "2023-06-05T14:50:04.414Z"
   },
   {
    "duration": 2330,
    "start_time": "2023-06-05T14:51:02.881Z"
   },
   {
    "duration": 2042,
    "start_time": "2023-06-05T14:51:05.213Z"
   },
   {
    "duration": 39,
    "start_time": "2023-06-05T14:51:07.257Z"
   },
   {
    "duration": 12,
    "start_time": "2023-06-05T14:51:07.299Z"
   },
   {
    "duration": 44,
    "start_time": "2023-06-05T14:51:07.312Z"
   },
   {
    "duration": 4,
    "start_time": "2023-06-05T14:51:07.358Z"
   },
   {
    "duration": 20,
    "start_time": "2023-06-05T14:51:07.364Z"
   },
   {
    "duration": 316,
    "start_time": "2023-06-05T14:51:07.386Z"
   },
   {
    "duration": 288,
    "start_time": "2023-06-05T14:51:07.704Z"
   },
   {
    "duration": 293,
    "start_time": "2023-06-05T14:51:07.995Z"
   },
   {
    "duration": 274,
    "start_time": "2023-06-05T14:51:08.289Z"
   },
   {
    "duration": 8,
    "start_time": "2023-06-05T14:51:08.565Z"
   },
   {
    "duration": 12,
    "start_time": "2023-06-05T14:51:08.574Z"
   },
   {
    "duration": 10,
    "start_time": "2023-06-05T14:51:08.588Z"
   },
   {
    "duration": 165,
    "start_time": "2023-06-05T14:51:08.600Z"
   },
   {
    "duration": 4,
    "start_time": "2023-06-05T14:51:08.766Z"
   },
   {
    "duration": 12,
    "start_time": "2023-06-05T14:51:08.772Z"
   },
   {
    "duration": 11,
    "start_time": "2023-06-05T14:51:08.785Z"
   },
   {
    "duration": 9,
    "start_time": "2023-06-05T14:51:08.798Z"
   },
   {
    "duration": 189,
    "start_time": "2023-06-05T14:51:08.809Z"
   },
   {
    "duration": 4448,
    "start_time": "2023-06-05T14:51:09.000Z"
   },
   {
    "duration": 989,
    "start_time": "2023-06-05T14:51:13.450Z"
   },
   {
    "duration": 10422,
    "start_time": "2023-06-05T14:51:14.442Z"
   },
   {
    "duration": 353,
    "start_time": "2023-06-05T14:51:24.866Z"
   },
   {
    "duration": 9,
    "start_time": "2023-06-05T14:51:25.221Z"
   },
   {
    "duration": 16,
    "start_time": "2023-06-05T14:51:25.231Z"
   },
   {
    "duration": 26,
    "start_time": "2023-06-05T14:51:25.249Z"
   },
   {
    "duration": 17,
    "start_time": "2023-06-05T14:51:25.280Z"
   },
   {
    "duration": 11,
    "start_time": "2023-06-05T14:51:25.299Z"
   },
   {
    "duration": 27,
    "start_time": "2023-06-05T14:51:25.312Z"
   },
   {
    "duration": 14,
    "start_time": "2023-06-05T14:51:25.341Z"
   },
   {
    "duration": 34,
    "start_time": "2023-06-05T14:51:25.357Z"
   },
   {
    "duration": 35,
    "start_time": "2023-06-05T14:51:25.394Z"
   },
   {
    "duration": 23,
    "start_time": "2023-06-05T14:51:25.431Z"
   },
   {
    "duration": 24,
    "start_time": "2023-06-05T14:51:25.457Z"
   },
   {
    "duration": 12134,
    "start_time": "2023-06-05T14:51:25.483Z"
   },
   {
    "duration": 5,
    "start_time": "2023-06-05T14:51:37.619Z"
   },
   {
    "duration": 765,
    "start_time": "2023-06-05T14:51:37.626Z"
   },
   {
    "duration": 6,
    "start_time": "2023-06-05T14:51:38.393Z"
   },
   {
    "duration": 50023,
    "start_time": "2023-06-05T14:51:38.401Z"
   },
   {
    "duration": 8,
    "start_time": "2023-06-05T14:52:28.426Z"
   },
   {
    "duration": 57,
    "start_time": "2023-06-05T14:52:28.436Z"
   },
   {
    "duration": 20,
    "start_time": "2023-06-05T14:52:28.495Z"
   },
   {
    "duration": 39,
    "start_time": "2023-06-05T14:52:28.517Z"
   },
   {
    "duration": 30,
    "start_time": "2023-06-05T14:52:28.558Z"
   },
   {
    "duration": 22876,
    "start_time": "2023-06-05T14:52:28.590Z"
   },
   {
    "duration": 216,
    "start_time": "2023-06-05T14:52:51.468Z"
   },
   {
    "duration": 672,
    "start_time": "2023-06-05T14:52:51.687Z"
   },
   {
    "duration": 8,
    "start_time": "2023-06-05T14:55:47.254Z"
   },
   {
    "duration": 4,
    "start_time": "2023-06-05T14:55:47.760Z"
   },
   {
    "duration": 4,
    "start_time": "2023-06-05T14:55:49.102Z"
   },
   {
    "duration": 44081,
    "start_time": "2023-06-05T14:55:49.968Z"
   },
   {
    "duration": 5,
    "start_time": "2023-06-05T14:56:57.002Z"
   },
   {
    "duration": 5,
    "start_time": "2023-06-05T14:56:57.859Z"
   },
   {
    "duration": 3,
    "start_time": "2023-06-05T14:56:58.568Z"
   },
   {
    "duration": 70534,
    "start_time": "2023-06-05T14:56:59.521Z"
   },
   {
    "duration": 7,
    "start_time": "2023-06-05T14:58:21.283Z"
   },
   {
    "duration": 6,
    "start_time": "2023-06-05T14:58:21.819Z"
   },
   {
    "duration": 3,
    "start_time": "2023-06-05T14:58:22.290Z"
   },
   {
    "duration": 39729,
    "start_time": "2023-06-05T14:58:22.935Z"
   },
   {
    "duration": 7,
    "start_time": "2023-06-05T14:59:16.659Z"
   },
   {
    "duration": 5,
    "start_time": "2023-06-05T14:59:17.121Z"
   },
   {
    "duration": 4,
    "start_time": "2023-06-05T14:59:17.600Z"
   },
   {
    "duration": 39004,
    "start_time": "2023-06-05T14:59:18.147Z"
   },
   {
    "duration": 9,
    "start_time": "2023-06-05T15:01:11.079Z"
   },
   {
    "duration": 5,
    "start_time": "2023-06-05T15:01:11.700Z"
   },
   {
    "duration": 4,
    "start_time": "2023-06-05T15:01:12.243Z"
   },
   {
    "duration": 44026,
    "start_time": "2023-06-05T15:01:12.836Z"
   },
   {
    "duration": 6,
    "start_time": "2023-06-05T15:02:08.014Z"
   },
   {
    "duration": 5,
    "start_time": "2023-06-05T15:02:08.432Z"
   },
   {
    "duration": 3,
    "start_time": "2023-06-05T15:02:08.813Z"
   },
   {
    "duration": 42029,
    "start_time": "2023-06-05T15:02:09.329Z"
   },
   {
    "duration": 5,
    "start_time": "2023-06-05T15:03:28.566Z"
   },
   {
    "duration": 5,
    "start_time": "2023-06-05T15:03:29.004Z"
   },
   {
    "duration": 4,
    "start_time": "2023-06-05T15:03:29.523Z"
   },
   {
    "duration": 54038,
    "start_time": "2023-06-05T15:03:30.027Z"
   },
   {
    "duration": 7,
    "start_time": "2023-06-05T15:04:35.616Z"
   },
   {
    "duration": 5,
    "start_time": "2023-06-05T15:04:36.076Z"
   },
   {
    "duration": 4,
    "start_time": "2023-06-05T15:04:36.466Z"
   },
   {
    "duration": 51553,
    "start_time": "2023-06-05T15:04:36.895Z"
   },
   {
    "duration": 10,
    "start_time": "2023-06-05T15:08:57.872Z"
   },
   {
    "duration": 6,
    "start_time": "2023-06-05T15:13:07.942Z"
   },
   {
    "duration": 2533,
    "start_time": "2023-06-05T15:13:27.151Z"
   },
   {
    "duration": 1976,
    "start_time": "2023-06-05T15:13:29.686Z"
   },
   {
    "duration": 41,
    "start_time": "2023-06-05T15:13:31.664Z"
   },
   {
    "duration": 17,
    "start_time": "2023-06-05T15:13:31.708Z"
   },
   {
    "duration": 77,
    "start_time": "2023-06-05T15:13:31.728Z"
   },
   {
    "duration": 104,
    "start_time": "2023-06-05T15:13:31.806Z"
   },
   {
    "duration": 59,
    "start_time": "2023-06-05T15:13:31.912Z"
   },
   {
    "duration": 351,
    "start_time": "2023-06-05T15:13:31.972Z"
   },
   {
    "duration": 326,
    "start_time": "2023-06-05T15:13:32.324Z"
   },
   {
    "duration": 397,
    "start_time": "2023-06-05T15:13:32.653Z"
   },
   {
    "duration": 278,
    "start_time": "2023-06-05T15:13:33.052Z"
   },
   {
    "duration": 15,
    "start_time": "2023-06-05T15:13:33.332Z"
   },
   {
    "duration": 10,
    "start_time": "2023-06-05T15:13:33.349Z"
   },
   {
    "duration": 19,
    "start_time": "2023-06-05T15:13:33.361Z"
   },
   {
    "duration": 148,
    "start_time": "2023-06-05T15:13:33.382Z"
   },
   {
    "duration": 5,
    "start_time": "2023-06-05T15:13:33.531Z"
   },
   {
    "duration": 10,
    "start_time": "2023-06-05T15:13:33.546Z"
   },
   {
    "duration": 10,
    "start_time": "2023-06-05T15:13:33.558Z"
   },
   {
    "duration": 17,
    "start_time": "2023-06-05T15:13:33.571Z"
   },
   {
    "duration": 179,
    "start_time": "2023-06-05T15:13:33.590Z"
   },
   {
    "duration": 4433,
    "start_time": "2023-06-05T15:13:33.771Z"
   },
   {
    "duration": 1025,
    "start_time": "2023-06-05T15:13:38.206Z"
   },
   {
    "duration": 10287,
    "start_time": "2023-06-05T15:13:39.234Z"
   },
   {
    "duration": 337,
    "start_time": "2023-06-05T15:13:49.522Z"
   },
   {
    "duration": 7,
    "start_time": "2023-06-05T15:13:49.861Z"
   },
   {
    "duration": 10,
    "start_time": "2023-06-05T15:13:49.870Z"
   },
   {
    "duration": 18,
    "start_time": "2023-06-05T15:13:49.882Z"
   },
   {
    "duration": 4,
    "start_time": "2023-06-05T15:13:49.904Z"
   },
   {
    "duration": 6,
    "start_time": "2023-06-05T15:13:49.909Z"
   },
   {
    "duration": 5,
    "start_time": "2023-06-05T15:13:49.916Z"
   },
   {
    "duration": 4,
    "start_time": "2023-06-05T15:13:49.945Z"
   },
   {
    "duration": 11,
    "start_time": "2023-06-05T15:13:49.950Z"
   },
   {
    "duration": 6,
    "start_time": "2023-06-05T15:13:49.962Z"
   },
   {
    "duration": 9,
    "start_time": "2023-06-05T15:13:49.969Z"
   },
   {
    "duration": 7,
    "start_time": "2023-06-05T15:13:49.980Z"
   },
   {
    "duration": 10929,
    "start_time": "2023-06-05T15:13:49.988Z"
   },
   {
    "duration": 5,
    "start_time": "2023-06-05T15:14:00.919Z"
   },
   {
    "duration": 647,
    "start_time": "2023-06-05T15:14:00.926Z"
   },
   {
    "duration": 6,
    "start_time": "2023-06-05T15:14:01.575Z"
   },
   {
    "duration": 54032,
    "start_time": "2023-06-05T15:14:01.582Z"
   },
   {
    "duration": 8,
    "start_time": "2023-06-05T15:14:55.616Z"
   },
   {
    "duration": 21,
    "start_time": "2023-06-05T15:14:55.625Z"
   },
   {
    "duration": 6,
    "start_time": "2023-06-05T15:14:55.647Z"
   },
   {
    "duration": 16,
    "start_time": "2023-06-05T15:14:55.654Z"
   },
   {
    "duration": 6,
    "start_time": "2023-06-05T15:14:55.672Z"
   },
   {
    "duration": 45784,
    "start_time": "2023-06-05T15:14:55.679Z"
   },
   {
    "duration": 276,
    "start_time": "2023-06-05T15:15:41.465Z"
   },
   {
    "duration": 668,
    "start_time": "2023-06-05T15:15:41.743Z"
   }
  ],
  "kernelspec": {
   "display_name": "Python 3 (ipykernel)",
   "language": "python",
   "name": "python3"
  },
  "language_info": {
   "codemirror_mode": {
    "name": "ipython",
    "version": 3
   },
   "file_extension": ".py",
   "mimetype": "text/x-python",
   "name": "python",
   "nbconvert_exporter": "python",
   "pygments_lexer": "ipython3",
   "version": "3.9.5"
  },
  "toc": {
   "base_numbering": 1,
   "nav_menu": {},
   "number_sections": true,
   "sideBar": true,
   "skip_h1_title": true,
   "title_cell": "Table of Contents",
   "title_sidebar": "Contents",
   "toc_cell": false,
   "toc_position": {
    "height": "calc(100% - 180px)",
    "left": "10px",
    "top": "150px",
    "width": "419.098px"
   },
   "toc_section_display": true,
   "toc_window_display": true
  },
  "varInspector": {
   "cols": {
    "lenName": 16,
    "lenType": 16,
    "lenVar": 40
   },
   "kernels_config": {
    "python": {
     "delete_cmd_postfix": "",
     "delete_cmd_prefix": "del ",
     "library": "var_list.py",
     "varRefreshCmd": "print(var_dic_list())"
    },
    "r": {
     "delete_cmd_postfix": ") ",
     "delete_cmd_prefix": "rm(",
     "library": "var_list.r",
     "varRefreshCmd": "cat(var_dic_list()) "
    }
   },
   "types_to_exclude": [
    "module",
    "function",
    "builtin_function_or_method",
    "instance",
    "_Feature"
   ],
   "window_display": false
  }
 },
 "nbformat": 4,
 "nbformat_minor": 5
}
