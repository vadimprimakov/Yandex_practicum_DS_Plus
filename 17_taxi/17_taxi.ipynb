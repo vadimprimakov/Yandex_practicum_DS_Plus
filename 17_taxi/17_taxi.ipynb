{
 "cells": [
  {
   "cell_type": "markdown",
   "metadata": {
    "toc": true
   },
   "source": [
    "<h1>Содержание<span class=\"tocSkip\"></span></h1>\n",
    "<div class=\"toc\"><ul class=\"toc-item\"><li><span><a href=\"#Подготовка\" data-toc-modified-id=\"Подготовка-1\"><span class=\"toc-item-num\">1&nbsp;&nbsp;</span>Подготовка</a></span><ul class=\"toc-item\"><li><span><a href=\"#Загрузка-библиотек-и-датасетов\" data-toc-modified-id=\"Загрузка-библиотек-и-датасетов-1.1\"><span class=\"toc-item-num\">1.1&nbsp;&nbsp;</span>Загрузка библиотек и датасетов</a></span></li><li><span><a href=\"#Ресемплирование-и-проверка-на-монотонность\" data-toc-modified-id=\"Ресемплирование-и-проверка-на-монотонность-1.2\"><span class=\"toc-item-num\">1.2&nbsp;&nbsp;</span>Ресемплирование и проверка на монотонность</a></span></li></ul></li><li><span><a href=\"#Анализ\" data-toc-modified-id=\"Анализ-2\"><span class=\"toc-item-num\">2&nbsp;&nbsp;</span>Анализ</a></span></li><li><span><a href=\"#Обучение\" data-toc-modified-id=\"Обучение-3\"><span class=\"toc-item-num\">3&nbsp;&nbsp;</span>Обучение</a></span><ul class=\"toc-item\"><li><span><a href=\"#DecisionTreeRegressor\" data-toc-modified-id=\"DecisionTreeRegressor-3.1\"><span class=\"toc-item-num\">3.1&nbsp;&nbsp;</span>DecisionTreeRegressor</a></span></li><li><span><a href=\"#RandomForestRegressor\" data-toc-modified-id=\"RandomForestRegressor-3.2\"><span class=\"toc-item-num\">3.2&nbsp;&nbsp;</span>RandomForestRegressor</a></span></li><li><span><a href=\"#GradientBoostingRegressor\" data-toc-modified-id=\"GradientBoostingRegressor-3.3\"><span class=\"toc-item-num\">3.3&nbsp;&nbsp;</span>GradientBoostingRegressor</a></span></li><li><span><a href=\"#LightGBMRegressor\" data-toc-modified-id=\"LightGBMRegressor-3.4\"><span class=\"toc-item-num\">3.4&nbsp;&nbsp;</span>LightGBMRegressor</a></span></li><li><span><a href=\"#CatBoostRegressor\" data-toc-modified-id=\"CatBoostRegressor-3.5\"><span class=\"toc-item-num\">3.5&nbsp;&nbsp;</span>CatBoostRegressor</a></span></li></ul></li><li><span><a href=\"#Тестирование\" data-toc-modified-id=\"Тестирование-4\"><span class=\"toc-item-num\">4&nbsp;&nbsp;</span>Тестирование</a></span></li><li><span><a href=\"#Чек-лист-проверки\" data-toc-modified-id=\"Чек-лист-проверки-5\"><span class=\"toc-item-num\">5&nbsp;&nbsp;</span>Чек-лист проверки</a></span></li></ul></div>"
   ]
  },
  {
   "cell_type": "markdown",
   "metadata": {},
   "source": [
    "#  Прогнозирование заказов такси"
   ]
  },
  {
   "cell_type": "markdown",
   "metadata": {},
   "source": [
    "Компания «Чётенькое такси» собрала исторические данные о заказах такси в аэропортах. Чтобы привлекать больше водителей в период пиковой нагрузки, нужно спрогнозировать количество заказов такси на следующий час. Постройте модель для такого предсказания.\n",
    "\n",
    "Значение метрики *RMSE* на тестовой выборке должно быть не больше 48.\n",
    "\n",
    "Вам нужно:\n",
    "\n",
    "1. Загрузить данные и выполнить их ресемплирование по одному часу.\n",
    "2. Проанализировать данные.\n",
    "3. Обучить разные модели с различными гиперпараметрами. Сделать тестовую выборку размером 10% от исходных данных.\n",
    "4. Проверить данные на тестовой выборке и сделать выводы.\n",
    "\n",
    "\n",
    "Данные лежат в файле `taxi.csv`. Количество заказов находится в столбце `num_orders` (от англ. *number of orders*, «число заказов»)."
   ]
  },
  {
   "cell_type": "markdown",
   "metadata": {},
   "source": [
    "## Подготовка"
   ]
  },
  {
   "cell_type": "markdown",
   "metadata": {},
   "source": [
    "### Загрузка библиотек и датасетов"
   ]
  },
  {
   "cell_type": "code",
   "execution_count": 1,
   "metadata": {},
   "outputs": [],
   "source": [
    "import pandas as pd\n",
    "import numpy as np\n",
    "import matplotlib.pyplot as plt\n",
    "import seaborn as sns\n",
    "\n",
    "from sklearn.model_selection import train_test_split\n",
    "\n",
    "from sklearn.tree import DecisionTreeRegressor\n",
    "from sklearn.ensemble import RandomForestRegressor, GradientBoostingRegressor\n",
    "from sklearn.linear_model import LinearRegression\n",
    "from lightgbm.sklearn import LGBMRegressor\n",
    "from catboost import CatBoostRegressor\n",
    "\n",
    "from sklearn.metrics import mean_squared_error\n",
    "from statsmodels.tsa.seasonal import seasonal_decompose\n",
    "from sklearn.model_selection import GridSearchCV, cross_val_score, TimeSeriesSplit\n",
    "\n",
    "import time\n",
    "import warnings\n",
    "warnings.filterwarnings(\"ignore\")\n",
    "RANDOM_STATE = 12345"
   ]
  },
  {
   "cell_type": "code",
   "execution_count": 2,
   "metadata": {},
   "outputs": [],
   "source": [
    "try:\n",
    "    df = pd.read_csv('taxi.csv')\n",
    "except:\n",
    "    df = pd.read_csv('/datasets/taxi.csv')"
   ]
  },
  {
   "cell_type": "code",
   "execution_count": 3,
   "metadata": {
    "scrolled": true
   },
   "outputs": [
    {
     "name": "stdout",
     "output_type": "stream",
     "text": [
      "<class 'pandas.core.frame.DataFrame'>\n",
      "RangeIndex: 26496 entries, 0 to 26495\n",
      "Data columns (total 2 columns):\n",
      " #   Column      Non-Null Count  Dtype \n",
      "---  ------      --------------  ----- \n",
      " 0   datetime    26496 non-null  object\n",
      " 1   num_orders  26496 non-null  int64 \n",
      "dtypes: int64(1), object(1)\n",
      "memory usage: 414.1+ KB\n"
     ]
    },
    {
     "data": {
      "text/html": [
       "<div>\n",
       "<style scoped>\n",
       "    .dataframe tbody tr th:only-of-type {\n",
       "        vertical-align: middle;\n",
       "    }\n",
       "\n",
       "    .dataframe tbody tr th {\n",
       "        vertical-align: top;\n",
       "    }\n",
       "\n",
       "    .dataframe thead th {\n",
       "        text-align: right;\n",
       "    }\n",
       "</style>\n",
       "<table border=\"1\" class=\"dataframe\">\n",
       "  <thead>\n",
       "    <tr style=\"text-align: right;\">\n",
       "      <th></th>\n",
       "      <th>datetime</th>\n",
       "      <th>num_orders</th>\n",
       "    </tr>\n",
       "  </thead>\n",
       "  <tbody>\n",
       "    <tr>\n",
       "      <th>0</th>\n",
       "      <td>2018-03-01 00:00:00</td>\n",
       "      <td>9</td>\n",
       "    </tr>\n",
       "    <tr>\n",
       "      <th>1</th>\n",
       "      <td>2018-03-01 00:10:00</td>\n",
       "      <td>14</td>\n",
       "    </tr>\n",
       "    <tr>\n",
       "      <th>2</th>\n",
       "      <td>2018-03-01 00:20:00</td>\n",
       "      <td>28</td>\n",
       "    </tr>\n",
       "    <tr>\n",
       "      <th>3</th>\n",
       "      <td>2018-03-01 00:30:00</td>\n",
       "      <td>20</td>\n",
       "    </tr>\n",
       "    <tr>\n",
       "      <th>4</th>\n",
       "      <td>2018-03-01 00:40:00</td>\n",
       "      <td>32</td>\n",
       "    </tr>\n",
       "  </tbody>\n",
       "</table>\n",
       "</div>"
      ],
      "text/plain": [
       "              datetime  num_orders\n",
       "0  2018-03-01 00:00:00           9\n",
       "1  2018-03-01 00:10:00          14\n",
       "2  2018-03-01 00:20:00          28\n",
       "3  2018-03-01 00:30:00          20\n",
       "4  2018-03-01 00:40:00          32"
      ]
     },
     "execution_count": 3,
     "metadata": {},
     "output_type": "execute_result"
    }
   ],
   "source": [
    "df.info()\n",
    "df.head()"
   ]
  },
  {
   "cell_type": "markdown",
   "metadata": {},
   "source": [
    "### Ресемплирование и проверка на монотонность"
   ]
  },
  {
   "cell_type": "code",
   "execution_count": 4,
   "metadata": {},
   "outputs": [
    {
     "name": "stdout",
     "output_type": "stream",
     "text": [
      "<class 'pandas.core.frame.DataFrame'>\n",
      "DatetimeIndex: 4416 entries, 2018-03-01 00:00:00 to 2018-08-31 23:00:00\n",
      "Freq: H\n",
      "Data columns (total 1 columns):\n",
      " #   Column      Non-Null Count  Dtype\n",
      "---  ------      --------------  -----\n",
      " 0   num_orders  4416 non-null   int64\n",
      "dtypes: int64(1)\n",
      "memory usage: 69.0 KB\n"
     ]
    },
    {
     "data": {
      "text/html": [
       "<div>\n",
       "<style scoped>\n",
       "    .dataframe tbody tr th:only-of-type {\n",
       "        vertical-align: middle;\n",
       "    }\n",
       "\n",
       "    .dataframe tbody tr th {\n",
       "        vertical-align: top;\n",
       "    }\n",
       "\n",
       "    .dataframe thead th {\n",
       "        text-align: right;\n",
       "    }\n",
       "</style>\n",
       "<table border=\"1\" class=\"dataframe\">\n",
       "  <thead>\n",
       "    <tr style=\"text-align: right;\">\n",
       "      <th></th>\n",
       "      <th>num_orders</th>\n",
       "    </tr>\n",
       "    <tr>\n",
       "      <th>datetime</th>\n",
       "      <th></th>\n",
       "    </tr>\n",
       "  </thead>\n",
       "  <tbody>\n",
       "    <tr>\n",
       "      <th>2018-03-01 00:00:00</th>\n",
       "      <td>124</td>\n",
       "    </tr>\n",
       "    <tr>\n",
       "      <th>2018-03-01 01:00:00</th>\n",
       "      <td>85</td>\n",
       "    </tr>\n",
       "    <tr>\n",
       "      <th>2018-03-01 02:00:00</th>\n",
       "      <td>71</td>\n",
       "    </tr>\n",
       "    <tr>\n",
       "      <th>2018-03-01 03:00:00</th>\n",
       "      <td>66</td>\n",
       "    </tr>\n",
       "    <tr>\n",
       "      <th>2018-03-01 04:00:00</th>\n",
       "      <td>43</td>\n",
       "    </tr>\n",
       "  </tbody>\n",
       "</table>\n",
       "</div>"
      ],
      "text/plain": [
       "                     num_orders\n",
       "datetime                       \n",
       "2018-03-01 00:00:00         124\n",
       "2018-03-01 01:00:00          85\n",
       "2018-03-01 02:00:00          71\n",
       "2018-03-01 03:00:00          66\n",
       "2018-03-01 04:00:00          43"
      ]
     },
     "execution_count": 4,
     "metadata": {},
     "output_type": "execute_result"
    }
   ],
   "source": [
    "df = pd.read_csv('/datasets/taxi.csv',index_col=[0], parse_dates=[0])\n",
    "df.sort_index(inplace=True)\n",
    "df = df.resample('1H').sum()\n",
    "df.info()\n",
    "df.head()"
   ]
  },
  {
   "cell_type": "code",
   "execution_count": 5,
   "metadata": {},
   "outputs": [
    {
     "data": {
      "text/plain": [
       "True"
      ]
     },
     "execution_count": 5,
     "metadata": {},
     "output_type": "execute_result"
    }
   ],
   "source": [
    "#Проверка на монотонность\n",
    "df.index.is_monotonic"
   ]
  },
  {
   "cell_type": "code",
   "execution_count": 6,
   "metadata": {
    "scrolled": true
   },
   "outputs": [
    {
     "data": {
      "text/plain": [
       "num_orders    0\n",
       "dtype: int64"
      ]
     },
     "execution_count": 6,
     "metadata": {},
     "output_type": "execute_result"
    }
   ],
   "source": [
    "df.isnull().sum()"
   ]
  },
  {
   "cell_type": "markdown",
   "metadata": {},
   "source": [
    "**Вывод**\n",
    "\n",
    "- Исходные данные содержат 26496 ненулевых строк\n",
    "- Временной промежуток данных начинается с 2018-03-01 00:00:00 и заканчивается 2018-08-31 23:00:00\n",
    "- Временной интревал наблюдений составлял 10 минут до ресемплирования по одному часу (данные агрегированы с помощью суммы)\n",
    "- Пропусков в данных не обнаружено\n",
    "- Данные расположены в хронологическом порядке (монотонны)\n",
    "\n",
    "Произведена замена типа данных столбца 'datetime' c object на datetime <br/>\n",
    "Установлен индекс таблицы равным столбцу datetime"
   ]
  },
  {
   "cell_type": "markdown",
   "metadata": {},
   "source": [
    "## Анализ"
   ]
  },
  {
   "cell_type": "code",
   "execution_count": 7,
   "metadata": {
    "scrolled": false
   },
   "outputs": [],
   "source": [
    "def draw(data, col):\n",
    "    Q1 = np.quantile(data[col], 0.25, interpolation='midpoint')\n",
    "    Q3 = np.quantile(data[col], 0.75, interpolation='midpoint')\n",
    "    IQR = Q3 - Q1\n",
    "    \n",
    "    plt.figure(figsize=(15,.5))\n",
    "    sns.boxplot(data[col]).set(xlim = [Q1-3*(Q3-Q1), Q3+3*(Q3-Q1)])\n",
    "    plt.show()\n",
    "    \n",
    "    plt.figure(figsize=(15,3))\n",
    "    sns.distplot(data[col])\n",
    "    plt.show()"
   ]
  },
  {
   "cell_type": "code",
   "execution_count": 8,
   "metadata": {
    "scrolled": false
   },
   "outputs": [
    {
     "data": {
      "image/png": "[encoded data removed]",
      "text/plain": [
       "<Figure size 1080x36 with 1 Axes>"
      ]
     },
     "metadata": {
      "needs_background": "light"
     },
     "output_type": "display_data"
    },
    {
     "data": {
      "image/png": "[encoded data removed]",
      "text/plain": [
       "<Figure size 1080x216 with 1 Axes>"
      ]
     },
     "metadata": {
      "needs_background": "light"
     },
     "output_type": "display_data"
    }
   ],
   "source": [
    "draw(df, 'num_orders')"
   ]
  },
  {
   "cell_type": "code",
   "execution_count": 9,
   "metadata": {
    "scrolled": false
   },
   "outputs": [
    {
     "name": "stdout",
     "output_type": "stream",
     "text": [
      "54 107\n"
     ]
    }
   ],
   "source": [
    "# найдем значение квантилей\n",
    "q1 = int(df['num_orders'].quantile([0.25]))\n",
    "q3 = int(df['num_orders'].quantile([0.75]))\n",
    "print((q1), (q3))"
   ]
  },
  {
   "cell_type": "code",
   "execution_count": 10,
   "metadata": {
    "scrolled": false
   },
   "outputs": [
    {
     "data": {
      "text/plain": [
       "53"
      ]
     },
     "execution_count": 10,
     "metadata": {},
     "output_type": "execute_result"
    }
   ],
   "source": [
    "# найдем межквартильное расстояние\n",
    "iqr = q3 - q1\n",
    "iqr"
   ]
  },
  {
   "cell_type": "code",
   "execution_count": 11,
   "metadata": {
    "scrolled": false
   },
   "outputs": [
    {
     "data": {
      "text/plain": [
       "186.5"
      ]
     },
     "execution_count": 11,
     "metadata": {},
     "output_type": "execute_result"
    }
   ],
   "source": [
    "# Найдем правый край Усов\n",
    "q_moustache = q3 + 1.5*iqr\n",
    "q_moustache"
   ]
  },
  {
   "cell_type": "code",
   "execution_count": 12,
   "metadata": {
    "scrolled": true
   },
   "outputs": [
    {
     "data": {
      "text/html": [
       "<div>\n",
       "<style scoped>\n",
       "    .dataframe tbody tr th:only-of-type {\n",
       "        vertical-align: middle;\n",
       "    }\n",
       "\n",
       "    .dataframe tbody tr th {\n",
       "        vertical-align: top;\n",
       "    }\n",
       "\n",
       "    .dataframe thead th {\n",
       "        text-align: right;\n",
       "    }\n",
       "</style>\n",
       "<table border=\"1\" class=\"dataframe\">\n",
       "  <thead>\n",
       "    <tr style=\"text-align: right;\">\n",
       "      <th></th>\n",
       "      <th>num_orders</th>\n",
       "    </tr>\n",
       "    <tr>\n",
       "      <th>datetime</th>\n",
       "      <th></th>\n",
       "    </tr>\n",
       "  </thead>\n",
       "  <tbody>\n",
       "    <tr>\n",
       "      <th>2018-08-28 00:00:00</th>\n",
       "      <td>192</td>\n",
       "    </tr>\n",
       "    <tr>\n",
       "      <th>2018-08-28 09:00:00</th>\n",
       "      <td>195</td>\n",
       "    </tr>\n",
       "    <tr>\n",
       "      <th>2018-08-28 17:00:00</th>\n",
       "      <td>211</td>\n",
       "    </tr>\n",
       "    <tr>\n",
       "      <th>2018-08-28 21:00:00</th>\n",
       "      <td>189</td>\n",
       "    </tr>\n",
       "    <tr>\n",
       "      <th>2018-08-29 00:00:00</th>\n",
       "      <td>234</td>\n",
       "    </tr>\n",
       "    <tr>\n",
       "      <th>2018-08-29 14:00:00</th>\n",
       "      <td>196</td>\n",
       "    </tr>\n",
       "    <tr>\n",
       "      <th>2018-08-29 16:00:00</th>\n",
       "      <td>220</td>\n",
       "    </tr>\n",
       "    <tr>\n",
       "      <th>2018-08-29 20:00:00</th>\n",
       "      <td>191</td>\n",
       "    </tr>\n",
       "    <tr>\n",
       "      <th>2018-08-29 23:00:00</th>\n",
       "      <td>265</td>\n",
       "    </tr>\n",
       "    <tr>\n",
       "      <th>2018-08-30 00:00:00</th>\n",
       "      <td>216</td>\n",
       "    </tr>\n",
       "    <tr>\n",
       "      <th>2018-08-30 01:00:00</th>\n",
       "      <td>217</td>\n",
       "    </tr>\n",
       "    <tr>\n",
       "      <th>2018-08-30 02:00:00</th>\n",
       "      <td>232</td>\n",
       "    </tr>\n",
       "    <tr>\n",
       "      <th>2018-08-30 03:00:00</th>\n",
       "      <td>193</td>\n",
       "    </tr>\n",
       "    <tr>\n",
       "      <th>2018-08-30 09:00:00</th>\n",
       "      <td>226</td>\n",
       "    </tr>\n",
       "    <tr>\n",
       "      <th>2018-08-30 10:00:00</th>\n",
       "      <td>227</td>\n",
       "    </tr>\n",
       "    <tr>\n",
       "      <th>2018-08-30 16:00:00</th>\n",
       "      <td>254</td>\n",
       "    </tr>\n",
       "    <tr>\n",
       "      <th>2018-08-30 17:00:00</th>\n",
       "      <td>342</td>\n",
       "    </tr>\n",
       "    <tr>\n",
       "      <th>2018-08-30 21:00:00</th>\n",
       "      <td>198</td>\n",
       "    </tr>\n",
       "    <tr>\n",
       "      <th>2018-08-30 23:00:00</th>\n",
       "      <td>246</td>\n",
       "    </tr>\n",
       "    <tr>\n",
       "      <th>2018-08-31 00:00:00</th>\n",
       "      <td>276</td>\n",
       "    </tr>\n",
       "    <tr>\n",
       "      <th>2018-08-31 01:00:00</th>\n",
       "      <td>194</td>\n",
       "    </tr>\n",
       "    <tr>\n",
       "      <th>2018-08-31 02:00:00</th>\n",
       "      <td>230</td>\n",
       "    </tr>\n",
       "    <tr>\n",
       "      <th>2018-08-31 04:00:00</th>\n",
       "      <td>268</td>\n",
       "    </tr>\n",
       "    <tr>\n",
       "      <th>2018-08-31 09:00:00</th>\n",
       "      <td>203</td>\n",
       "    </tr>\n",
       "    <tr>\n",
       "      <th>2018-08-31 10:00:00</th>\n",
       "      <td>191</td>\n",
       "    </tr>\n",
       "    <tr>\n",
       "      <th>2018-08-31 16:00:00</th>\n",
       "      <td>197</td>\n",
       "    </tr>\n",
       "    <tr>\n",
       "      <th>2018-08-31 17:00:00</th>\n",
       "      <td>217</td>\n",
       "    </tr>\n",
       "    <tr>\n",
       "      <th>2018-08-31 18:00:00</th>\n",
       "      <td>207</td>\n",
       "    </tr>\n",
       "    <tr>\n",
       "      <th>2018-08-31 22:00:00</th>\n",
       "      <td>223</td>\n",
       "    </tr>\n",
       "    <tr>\n",
       "      <th>2018-08-31 23:00:00</th>\n",
       "      <td>205</td>\n",
       "    </tr>\n",
       "  </tbody>\n",
       "</table>\n",
       "</div>"
      ],
      "text/plain": [
       "                     num_orders\n",
       "datetime                       \n",
       "2018-08-28 00:00:00         192\n",
       "2018-08-28 09:00:00         195\n",
       "2018-08-28 17:00:00         211\n",
       "2018-08-28 21:00:00         189\n",
       "2018-08-29 00:00:00         234\n",
       "2018-08-29 14:00:00         196\n",
       "2018-08-29 16:00:00         220\n",
       "2018-08-29 20:00:00         191\n",
       "2018-08-29 23:00:00         265\n",
       "2018-08-30 00:00:00         216\n",
       "2018-08-30 01:00:00         217\n",
       "2018-08-30 02:00:00         232\n",
       "2018-08-30 03:00:00         193\n",
       "2018-08-30 09:00:00         226\n",
       "2018-08-30 10:00:00         227\n",
       "2018-08-30 16:00:00         254\n",
       "2018-08-30 17:00:00         342\n",
       "2018-08-30 21:00:00         198\n",
       "2018-08-30 23:00:00         246\n",
       "2018-08-31 00:00:00         276\n",
       "2018-08-31 01:00:00         194\n",
       "2018-08-31 02:00:00         230\n",
       "2018-08-31 04:00:00         268\n",
       "2018-08-31 09:00:00         203\n",
       "2018-08-31 10:00:00         191\n",
       "2018-08-31 16:00:00         197\n",
       "2018-08-31 17:00:00         217\n",
       "2018-08-31 18:00:00         207\n",
       "2018-08-31 22:00:00         223\n",
       "2018-08-31 23:00:00         205"
      ]
     },
     "execution_count": 12,
     "metadata": {},
     "output_type": "execute_result"
    }
   ],
   "source": [
    "# посмотрим на выбросы в датафрейме\n",
    "df[df['num_orders'] > q_moustache].tail(30)"
   ]
  },
  {
   "cell_type": "code",
   "execution_count": 13,
   "metadata": {
    "scrolled": false
   },
   "outputs": [
    {
     "data": {
      "text/html": [
       "<div>\n",
       "<style scoped>\n",
       "    .dataframe tbody tr th:only-of-type {\n",
       "        vertical-align: middle;\n",
       "    }\n",
       "\n",
       "    .dataframe tbody tr th {\n",
       "        vertical-align: top;\n",
       "    }\n",
       "\n",
       "    .dataframe thead th {\n",
       "        text-align: right;\n",
       "    }\n",
       "</style>\n",
       "<table border=\"1\" class=\"dataframe\">\n",
       "  <thead>\n",
       "    <tr style=\"text-align: right;\">\n",
       "      <th></th>\n",
       "      <th>num_orders</th>\n",
       "    </tr>\n",
       "    <tr>\n",
       "      <th>datetime</th>\n",
       "      <th></th>\n",
       "    </tr>\n",
       "  </thead>\n",
       "  <tbody>\n",
       "    <tr>\n",
       "      <th>2018-08-13 02:00:00</th>\n",
       "      <td>437</td>\n",
       "    </tr>\n",
       "    <tr>\n",
       "      <th>2018-08-20 02:00:00</th>\n",
       "      <td>462</td>\n",
       "    </tr>\n",
       "    <tr>\n",
       "      <th>2018-08-27 02:00:00</th>\n",
       "      <td>408</td>\n",
       "    </tr>\n",
       "    <tr>\n",
       "      <th>2018-08-30 17:00:00</th>\n",
       "      <td>342</td>\n",
       "    </tr>\n",
       "  </tbody>\n",
       "</table>\n",
       "</div>"
      ],
      "text/plain": [
       "                     num_orders\n",
       "datetime                       \n",
       "2018-08-13 02:00:00         437\n",
       "2018-08-20 02:00:00         462\n",
       "2018-08-27 02:00:00         408\n",
       "2018-08-30 17:00:00         342"
      ]
     },
     "execution_count": 13,
     "metadata": {},
     "output_type": "execute_result"
    }
   ],
   "source": [
    "df[df['num_orders'] > 300]"
   ]
  },
  {
   "cell_type": "markdown",
   "metadata": {},
   "source": [
    "Судя по графику, большинство этих значений вполне естественно вписываются во временной ряд. А в список выбросов они попали из-за того что находятся в конце временного ряда, у которого есть положительный тренд. Поэтому принято решение не удалять выбросы."
   ]
  },
  {
   "cell_type": "markdown",
   "metadata": {},
   "source": [
    "Разложим временной ряд на тренд и сезонную составляющие с помощью функции"
   ]
  },
  {
   "cell_type": "code",
   "execution_count": 14,
   "metadata": {
    "scrolled": true
   },
   "outputs": [
    {
     "data": {
      "image/png": "[encoded data removed]",
      "text/plain": [
       "<Figure size 576x576 with 3 Axes>"
      ]
     },
     "metadata": {
      "needs_background": "light"
     },
     "output_type": "display_data"
    }
   ],
   "source": [
    "decomposed = seasonal_decompose(df)\n",
    " \n",
    "plt.figure(figsize=(8, 8)) \n",
    "plt.subplot(311)\n",
    "decomposed.trend.plot(ax=plt.gca())\n",
    "plt.title('Тренд')\n",
    "plt.subplot(312)\n",
    "decomposed.seasonal.plot(ax=plt.gca())\n",
    "plt.title('Сезонность')\n",
    "plt.subplot(313)\n",
    "decomposed.resid.plot(ax=plt.gca())\n",
    "plt.title('Остаток')\n",
    "plt.tight_layout()"
   ]
  },
  {
   "cell_type": "code",
   "execution_count": 15,
   "metadata": {
    "scrolled": false
   },
   "outputs": [
    {
     "data": {
      "image/png": "[encoded data removed]",
      "text/plain": [
       "<Figure size 432x288 with 1 Axes>"
      ]
     },
     "metadata": {
      "needs_background": "light"
     },
     "output_type": "display_data"
    }
   ],
   "source": [
    "decomposed.seasonal['2018-07-31':'2018-08-31'].plot(ax=plt.gca())\n",
    "plt.title('Сезонность')\n",
    "plt.show()"
   ]
  },
  {
   "cell_type": "code",
   "execution_count": 16,
   "metadata": {
    "scrolled": false
   },
   "outputs": [
    {
     "data": {
      "image/png": "[encoded data removed]",
      "text/plain": [
       "<Figure size 432x288 with 1 Axes>"
      ]
     },
     "metadata": {
      "needs_background": "light"
     },
     "output_type": "display_data"
    }
   ],
   "source": [
    "decomposed.seasonal['2018-03-01':'2018-03-05'].plot(ax=plt.gca())\n",
    "plt.title('Сезонность')\n",
    "plt.show()"
   ]
  },
  {
   "cell_type": "markdown",
   "metadata": {},
   "source": [
    "Проверим, к какому типу принадлежит наш временной ряд."
   ]
  },
  {
   "cell_type": "code",
   "execution_count": 17,
   "metadata": {
    "scrolled": false
   },
   "outputs": [
    {
     "data": {
      "image/png": "[encoded data removed]",
      "text/plain": [
       "<Figure size 1440x576 with 1 Axes>"
      ]
     },
     "metadata": {
      "needs_background": "light"
     },
     "output_type": "display_data"
    }
   ],
   "source": [
    "df['mean'] = df['num_orders'].rolling(15).mean()\n",
    "df['std'] = df['num_orders'].rolling(15).std()\n",
    "df.plot(figsize=(20,8));"
   ]
  },
  {
   "cell_type": "markdown",
   "metadata": {},
   "source": [
    "Скользящее среднее отклонение со временем изменяеся не слишком сильно. При этом среднее значение - достаточно высоко поднимется в августе."
   ]
  },
  {
   "cell_type": "code",
   "execution_count": 18,
   "metadata": {
    "scrolled": false
   },
   "outputs": [],
   "source": [
    "df = df.drop(['mean','std'], axis=1)"
   ]
  },
  {
   "cell_type": "markdown",
   "metadata": {},
   "source": [
    "На данном графике заметен глобальный тренд увеличения числа заказов такси на протяжении всего изучаемого периода."
   ]
  },
  {
   "cell_type": "markdown",
   "metadata": {},
   "source": [
    "Проведем ресемплинг, сгруппируем данные по дням и найдем скользящее среднее, чтобы оценить общую динамику изменений количества заказов"
   ]
  },
  {
   "cell_type": "code",
   "execution_count": 19,
   "metadata": {
    "scrolled": false
   },
   "outputs": [],
   "source": [
    "df_new = df.copy()\n",
    "df_new = df_new.resample('1D').sum()\n",
    "df_new['rolling_mean'] = df_new['num_orders'].rolling(5).mean()\n",
    "df_new = df_new.dropna()"
   ]
  },
  {
   "cell_type": "code",
   "execution_count": 20,
   "metadata": {
    "scrolled": false
   },
   "outputs": [
    {
     "data": {
      "image/png": "[encoded data removed]",
      "text/plain": [
       "<Figure size 1296x432 with 1 Axes>"
      ]
     },
     "metadata": {
      "needs_background": "light"
     },
     "output_type": "display_data"
    }
   ],
   "source": [
    "df_new[['num_orders', 'rolling_mean']].plot(figsize=(18, 6))\n",
    "plt.show()"
   ]
  },
  {
   "cell_type": "markdown",
   "metadata": {},
   "source": [
    "График стал более читабелен и из него можно сделать вывод, что присутствует тренд на увеличение количества заказов такси от месяца к месяцу."
   ]
  },
  {
   "cell_type": "markdown",
   "metadata": {},
   "source": [
    "- Фактор месяца исходя из общего тренда играет роль, так как месяцы лета имеют тренд более высокого роста относительно весенних\n",
    "- Фактор дня играет также роль, так как имеет тенденцию также относительно месяца расти с течением времени\n",
    "- Фактор дня недели играет одну из самых важных ролей, потому что данные исходя из него сильно варьируются\n",
    "- Фактор часа играет самую важную роль, так как у нас прогнозирование на час вперед также на его фоне выделили сезонность ,где есть очень важные часы пиков и минимумов\n",
    "- Фактор lag нужен для определения интервала на котором обучается модель из целевого признака исходя из желаемого горизонта (если ресэмпл на день, а прогноз строим на неделю вперед ,то lag(7)) в нашем случае прогноз на час вперед ,то берем и lag(1)\n",
    "- Фактор rolling - это в чем-то схожий признак с lag, но как агрегирующая его функция также полезная для прогнозирования "
   ]
  },
  {
   "cell_type": "markdown",
   "metadata": {},
   "source": [
    "Исходя из графиков определеям какие календарные признаки будем закладывать в модель:\n",
    "\n",
    "- Месяц и число (по графику тренда)\n",
    "- Часы (по графику сезонности)\n",
    "- День недели (по графику остатков)\n",
    "- Мы делаем прогноз на сутки, поэтому скользящее среднее равно 24 часам\n",
    "\n",
    "Добавим также:\n",
    "\n",
    "Отстающие значения;<br/>\n",
    "Скользящее среднее;"
   ]
  },
  {
   "cell_type": "code",
   "execution_count": 21,
   "metadata": {
    "scrolled": true
   },
   "outputs": [],
   "source": [
    "def make_features(data, max_lag, rolling_mean_size):\n",
    "    data_new = data.copy()\n",
    "    data_new['month'] = data_new.index.month\n",
    "    data_new['day'] = data_new.index.day\n",
    "    data_new['hour'] = data_new.index.hour\n",
    "    data_new['dayofweek'] = data_new.index.dayofweek\n",
    "    \n",
    "\n",
    "    for lag in range(1, max_lag + 1):\n",
    "        data_new['lag_{}'.format(lag)] = data_new['num_orders'].shift(lag)\n",
    "\n",
    "    data_new['rolling_mean'] = data_new['num_orders'].shift().rolling(rolling_mean_size).mean()\n",
    "    \n",
    "    train, test = train_test_split(data_new, shuffle=False, test_size=0.1)\n",
    "    train = train.dropna()\n",
    "    \n",
    "    features_train = train.drop('num_orders',axis=1)\n",
    "    features_test = test.drop('num_orders',axis=1)\n",
    "    target_train = train['num_orders']\n",
    "    target_test = test['num_orders']\n",
    "\n",
    "    model = LinearRegression()\n",
    "    rsme = -cross_val_score(model, features_train, target_train, scoring='neg_root_mean_squared_error', cv=TimeSeriesSplit(n_splits=5)).mean()\n",
    "    print(f'RSME = {rsme.round(2)} при lag = {max_lag}')\n",
    "    return data_new"
   ]
  },
  {
   "cell_type": "code",
   "execution_count": 22,
   "metadata": {
    "scrolled": true
   },
   "outputs": [
    {
     "name": "stdout",
     "output_type": "stream",
     "text": [
      "RSME = 31.54 при lag = 1\n"
     ]
    },
    {
     "data": {
      "text/html": [
       "<div>\n",
       "<style scoped>\n",
       "    .dataframe tbody tr th:only-of-type {\n",
       "        vertical-align: middle;\n",
       "    }\n",
       "\n",
       "    .dataframe tbody tr th {\n",
       "        vertical-align: top;\n",
       "    }\n",
       "\n",
       "    .dataframe thead th {\n",
       "        text-align: right;\n",
       "    }\n",
       "</style>\n",
       "<table border=\"1\" class=\"dataframe\">\n",
       "  <thead>\n",
       "    <tr style=\"text-align: right;\">\n",
       "      <th></th>\n",
       "      <th>num_orders</th>\n",
       "      <th>month</th>\n",
       "      <th>day</th>\n",
       "      <th>hour</th>\n",
       "      <th>dayofweek</th>\n",
       "      <th>lag_1</th>\n",
       "      <th>rolling_mean</th>\n",
       "    </tr>\n",
       "    <tr>\n",
       "      <th>datetime</th>\n",
       "      <th></th>\n",
       "      <th></th>\n",
       "      <th></th>\n",
       "      <th></th>\n",
       "      <th></th>\n",
       "      <th></th>\n",
       "      <th></th>\n",
       "    </tr>\n",
       "  </thead>\n",
       "  <tbody>\n",
       "    <tr>\n",
       "      <th>2018-03-01 00:00:00</th>\n",
       "      <td>124</td>\n",
       "      <td>3</td>\n",
       "      <td>1</td>\n",
       "      <td>0</td>\n",
       "      <td>3</td>\n",
       "      <td>NaN</td>\n",
       "      <td>NaN</td>\n",
       "    </tr>\n",
       "    <tr>\n",
       "      <th>2018-03-01 01:00:00</th>\n",
       "      <td>85</td>\n",
       "      <td>3</td>\n",
       "      <td>1</td>\n",
       "      <td>1</td>\n",
       "      <td>3</td>\n",
       "      <td>124.0</td>\n",
       "      <td>NaN</td>\n",
       "    </tr>\n",
       "    <tr>\n",
       "      <th>2018-03-01 02:00:00</th>\n",
       "      <td>71</td>\n",
       "      <td>3</td>\n",
       "      <td>1</td>\n",
       "      <td>2</td>\n",
       "      <td>3</td>\n",
       "      <td>85.0</td>\n",
       "      <td>NaN</td>\n",
       "    </tr>\n",
       "    <tr>\n",
       "      <th>2018-03-01 03:00:00</th>\n",
       "      <td>66</td>\n",
       "      <td>3</td>\n",
       "      <td>1</td>\n",
       "      <td>3</td>\n",
       "      <td>3</td>\n",
       "      <td>71.0</td>\n",
       "      <td>NaN</td>\n",
       "    </tr>\n",
       "    <tr>\n",
       "      <th>2018-03-01 04:00:00</th>\n",
       "      <td>43</td>\n",
       "      <td>3</td>\n",
       "      <td>1</td>\n",
       "      <td>4</td>\n",
       "      <td>3</td>\n",
       "      <td>66.0</td>\n",
       "      <td>NaN</td>\n",
       "    </tr>\n",
       "  </tbody>\n",
       "</table>\n",
       "</div>"
      ],
      "text/plain": [
       "                     num_orders  month  day  hour  dayofweek  lag_1  \\\n",
       "datetime                                                              \n",
       "2018-03-01 00:00:00         124      3    1     0          3    NaN   \n",
       "2018-03-01 01:00:00          85      3    1     1          3  124.0   \n",
       "2018-03-01 02:00:00          71      3    1     2          3   85.0   \n",
       "2018-03-01 03:00:00          66      3    1     3          3   71.0   \n",
       "2018-03-01 04:00:00          43      3    1     4          3   66.0   \n",
       "\n",
       "                     rolling_mean  \n",
       "datetime                           \n",
       "2018-03-01 00:00:00           NaN  \n",
       "2018-03-01 01:00:00           NaN  \n",
       "2018-03-01 02:00:00           NaN  \n",
       "2018-03-01 03:00:00           NaN  \n",
       "2018-03-01 04:00:00           NaN  "
      ]
     },
     "metadata": {},
     "output_type": "display_data"
    },
    {
     "name": "stdout",
     "output_type": "stream",
     "text": [
      "RSME = 31.46 при lag = 3\n"
     ]
    },
    {
     "data": {
      "text/html": [
       "<div>\n",
       "<style scoped>\n",
       "    .dataframe tbody tr th:only-of-type {\n",
       "        vertical-align: middle;\n",
       "    }\n",
       "\n",
       "    .dataframe tbody tr th {\n",
       "        vertical-align: top;\n",
       "    }\n",
       "\n",
       "    .dataframe thead th {\n",
       "        text-align: right;\n",
       "    }\n",
       "</style>\n",
       "<table border=\"1\" class=\"dataframe\">\n",
       "  <thead>\n",
       "    <tr style=\"text-align: right;\">\n",
       "      <th></th>\n",
       "      <th>num_orders</th>\n",
       "      <th>month</th>\n",
       "      <th>day</th>\n",
       "      <th>hour</th>\n",
       "      <th>dayofweek</th>\n",
       "      <th>lag_1</th>\n",
       "      <th>lag_2</th>\n",
       "      <th>lag_3</th>\n",
       "      <th>rolling_mean</th>\n",
       "    </tr>\n",
       "    <tr>\n",
       "      <th>datetime</th>\n",
       "      <th></th>\n",
       "      <th></th>\n",
       "      <th></th>\n",
       "      <th></th>\n",
       "      <th></th>\n",
       "      <th></th>\n",
       "      <th></th>\n",
       "      <th></th>\n",
       "      <th></th>\n",
       "    </tr>\n",
       "  </thead>\n",
       "  <tbody>\n",
       "    <tr>\n",
       "      <th>2018-03-01 00:00:00</th>\n",
       "      <td>124</td>\n",
       "      <td>3</td>\n",
       "      <td>1</td>\n",
       "      <td>0</td>\n",
       "      <td>3</td>\n",
       "      <td>NaN</td>\n",
       "      <td>NaN</td>\n",
       "      <td>NaN</td>\n",
       "      <td>NaN</td>\n",
       "    </tr>\n",
       "    <tr>\n",
       "      <th>2018-03-01 01:00:00</th>\n",
       "      <td>85</td>\n",
       "      <td>3</td>\n",
       "      <td>1</td>\n",
       "      <td>1</td>\n",
       "      <td>3</td>\n",
       "      <td>124.0</td>\n",
       "      <td>NaN</td>\n",
       "      <td>NaN</td>\n",
       "      <td>NaN</td>\n",
       "    </tr>\n",
       "    <tr>\n",
       "      <th>2018-03-01 02:00:00</th>\n",
       "      <td>71</td>\n",
       "      <td>3</td>\n",
       "      <td>1</td>\n",
       "      <td>2</td>\n",
       "      <td>3</td>\n",
       "      <td>85.0</td>\n",
       "      <td>124.0</td>\n",
       "      <td>NaN</td>\n",
       "      <td>NaN</td>\n",
       "    </tr>\n",
       "    <tr>\n",
       "      <th>2018-03-01 03:00:00</th>\n",
       "      <td>66</td>\n",
       "      <td>3</td>\n",
       "      <td>1</td>\n",
       "      <td>3</td>\n",
       "      <td>3</td>\n",
       "      <td>71.0</td>\n",
       "      <td>85.0</td>\n",
       "      <td>124.0</td>\n",
       "      <td>NaN</td>\n",
       "    </tr>\n",
       "    <tr>\n",
       "      <th>2018-03-01 04:00:00</th>\n",
       "      <td>43</td>\n",
       "      <td>3</td>\n",
       "      <td>1</td>\n",
       "      <td>4</td>\n",
       "      <td>3</td>\n",
       "      <td>66.0</td>\n",
       "      <td>71.0</td>\n",
       "      <td>85.0</td>\n",
       "      <td>NaN</td>\n",
       "    </tr>\n",
       "  </tbody>\n",
       "</table>\n",
       "</div>"
      ],
      "text/plain": [
       "                     num_orders  month  day  hour  dayofweek  lag_1  lag_2  \\\n",
       "datetime                                                                     \n",
       "2018-03-01 00:00:00         124      3    1     0          3    NaN    NaN   \n",
       "2018-03-01 01:00:00          85      3    1     1          3  124.0    NaN   \n",
       "2018-03-01 02:00:00          71      3    1     2          3   85.0  124.0   \n",
       "2018-03-01 03:00:00          66      3    1     3          3   71.0   85.0   \n",
       "2018-03-01 04:00:00          43      3    1     4          3   66.0   71.0   \n",
       "\n",
       "                     lag_3  rolling_mean  \n",
       "datetime                                  \n",
       "2018-03-01 00:00:00    NaN           NaN  \n",
       "2018-03-01 01:00:00    NaN           NaN  \n",
       "2018-03-01 02:00:00    NaN           NaN  \n",
       "2018-03-01 03:00:00  124.0           NaN  \n",
       "2018-03-01 04:00:00   85.0           NaN  "
      ]
     },
     "metadata": {},
     "output_type": "display_data"
    },
    {
     "name": "stdout",
     "output_type": "stream",
     "text": [
      "RSME = 31.48 при lag = 6\n"
     ]
    },
    {
     "data": {
      "text/html": [
       "<div>\n",
       "<style scoped>\n",
       "    .dataframe tbody tr th:only-of-type {\n",
       "        vertical-align: middle;\n",
       "    }\n",
       "\n",
       "    .dataframe tbody tr th {\n",
       "        vertical-align: top;\n",
       "    }\n",
       "\n",
       "    .dataframe thead th {\n",
       "        text-align: right;\n",
       "    }\n",
       "</style>\n",
       "<table border=\"1\" class=\"dataframe\">\n",
       "  <thead>\n",
       "    <tr style=\"text-align: right;\">\n",
       "      <th></th>\n",
       "      <th>num_orders</th>\n",
       "      <th>month</th>\n",
       "      <th>day</th>\n",
       "      <th>hour</th>\n",
       "      <th>dayofweek</th>\n",
       "      <th>lag_1</th>\n",
       "      <th>lag_2</th>\n",
       "      <th>lag_3</th>\n",
       "      <th>lag_4</th>\n",
       "      <th>lag_5</th>\n",
       "      <th>lag_6</th>\n",
       "      <th>rolling_mean</th>\n",
       "    </tr>\n",
       "    <tr>\n",
       "      <th>datetime</th>\n",
       "      <th></th>\n",
       "      <th></th>\n",
       "      <th></th>\n",
       "      <th></th>\n",
       "      <th></th>\n",
       "      <th></th>\n",
       "      <th></th>\n",
       "      <th></th>\n",
       "      <th></th>\n",
       "      <th></th>\n",
       "      <th></th>\n",
       "      <th></th>\n",
       "    </tr>\n",
       "  </thead>\n",
       "  <tbody>\n",
       "    <tr>\n",
       "      <th>2018-03-01 00:00:00</th>\n",
       "      <td>124</td>\n",
       "      <td>3</td>\n",
       "      <td>1</td>\n",
       "      <td>0</td>\n",
       "      <td>3</td>\n",
       "      <td>NaN</td>\n",
       "      <td>NaN</td>\n",
       "      <td>NaN</td>\n",
       "      <td>NaN</td>\n",
       "      <td>NaN</td>\n",
       "      <td>NaN</td>\n",
       "      <td>NaN</td>\n",
       "    </tr>\n",
       "    <tr>\n",
       "      <th>2018-03-01 01:00:00</th>\n",
       "      <td>85</td>\n",
       "      <td>3</td>\n",
       "      <td>1</td>\n",
       "      <td>1</td>\n",
       "      <td>3</td>\n",
       "      <td>124.0</td>\n",
       "      <td>NaN</td>\n",
       "      <td>NaN</td>\n",
       "      <td>NaN</td>\n",
       "      <td>NaN</td>\n",
       "      <td>NaN</td>\n",
       "      <td>NaN</td>\n",
       "    </tr>\n",
       "    <tr>\n",
       "      <th>2018-03-01 02:00:00</th>\n",
       "      <td>71</td>\n",
       "      <td>3</td>\n",
       "      <td>1</td>\n",
       "      <td>2</td>\n",
       "      <td>3</td>\n",
       "      <td>85.0</td>\n",
       "      <td>124.0</td>\n",
       "      <td>NaN</td>\n",
       "      <td>NaN</td>\n",
       "      <td>NaN</td>\n",
       "      <td>NaN</td>\n",
       "      <td>NaN</td>\n",
       "    </tr>\n",
       "    <tr>\n",
       "      <th>2018-03-01 03:00:00</th>\n",
       "      <td>66</td>\n",
       "      <td>3</td>\n",
       "      <td>1</td>\n",
       "      <td>3</td>\n",
       "      <td>3</td>\n",
       "      <td>71.0</td>\n",
       "      <td>85.0</td>\n",
       "      <td>124.0</td>\n",
       "      <td>NaN</td>\n",
       "      <td>NaN</td>\n",
       "      <td>NaN</td>\n",
       "      <td>NaN</td>\n",
       "    </tr>\n",
       "    <tr>\n",
       "      <th>2018-03-01 04:00:00</th>\n",
       "      <td>43</td>\n",
       "      <td>3</td>\n",
       "      <td>1</td>\n",
       "      <td>4</td>\n",
       "      <td>3</td>\n",
       "      <td>66.0</td>\n",
       "      <td>71.0</td>\n",
       "      <td>85.0</td>\n",
       "      <td>124.0</td>\n",
       "      <td>NaN</td>\n",
       "      <td>NaN</td>\n",
       "      <td>NaN</td>\n",
       "    </tr>\n",
       "  </tbody>\n",
       "</table>\n",
       "</div>"
      ],
      "text/plain": [
       "                     num_orders  month  day  hour  dayofweek  lag_1  lag_2  \\\n",
       "datetime                                                                     \n",
       "2018-03-01 00:00:00         124      3    1     0          3    NaN    NaN   \n",
       "2018-03-01 01:00:00          85      3    1     1          3  124.0    NaN   \n",
       "2018-03-01 02:00:00          71      3    1     2          3   85.0  124.0   \n",
       "2018-03-01 03:00:00          66      3    1     3          3   71.0   85.0   \n",
       "2018-03-01 04:00:00          43      3    1     4          3   66.0   71.0   \n",
       "\n",
       "                     lag_3  lag_4  lag_5  lag_6  rolling_mean  \n",
       "datetime                                                       \n",
       "2018-03-01 00:00:00    NaN    NaN    NaN    NaN           NaN  \n",
       "2018-03-01 01:00:00    NaN    NaN    NaN    NaN           NaN  \n",
       "2018-03-01 02:00:00    NaN    NaN    NaN    NaN           NaN  \n",
       "2018-03-01 03:00:00  124.0    NaN    NaN    NaN           NaN  \n",
       "2018-03-01 04:00:00   85.0  124.0    NaN    NaN           NaN  "
      ]
     },
     "metadata": {},
     "output_type": "display_data"
    },
    {
     "name": "stdout",
     "output_type": "stream",
     "text": [
      "RSME = 31.36 при lag = 12\n"
     ]
    },
    {
     "data": {
      "text/html": [
       "<div>\n",
       "<style scoped>\n",
       "    .dataframe tbody tr th:only-of-type {\n",
       "        vertical-align: middle;\n",
       "    }\n",
       "\n",
       "    .dataframe tbody tr th {\n",
       "        vertical-align: top;\n",
       "    }\n",
       "\n",
       "    .dataframe thead th {\n",
       "        text-align: right;\n",
       "    }\n",
       "</style>\n",
       "<table border=\"1\" class=\"dataframe\">\n",
       "  <thead>\n",
       "    <tr style=\"text-align: right;\">\n",
       "      <th></th>\n",
       "      <th>num_orders</th>\n",
       "      <th>month</th>\n",
       "      <th>day</th>\n",
       "      <th>hour</th>\n",
       "      <th>dayofweek</th>\n",
       "      <th>lag_1</th>\n",
       "      <th>lag_2</th>\n",
       "      <th>lag_3</th>\n",
       "      <th>lag_4</th>\n",
       "      <th>lag_5</th>\n",
       "      <th>lag_6</th>\n",
       "      <th>lag_7</th>\n",
       "      <th>lag_8</th>\n",
       "      <th>lag_9</th>\n",
       "      <th>lag_10</th>\n",
       "      <th>lag_11</th>\n",
       "      <th>lag_12</th>\n",
       "      <th>rolling_mean</th>\n",
       "    </tr>\n",
       "    <tr>\n",
       "      <th>datetime</th>\n",
       "      <th></th>\n",
       "      <th></th>\n",
       "      <th></th>\n",
       "      <th></th>\n",
       "      <th></th>\n",
       "      <th></th>\n",
       "      <th></th>\n",
       "      <th></th>\n",
       "      <th></th>\n",
       "      <th></th>\n",
       "      <th></th>\n",
       "      <th></th>\n",
       "      <th></th>\n",
       "      <th></th>\n",
       "      <th></th>\n",
       "      <th></th>\n",
       "      <th></th>\n",
       "      <th></th>\n",
       "    </tr>\n",
       "  </thead>\n",
       "  <tbody>\n",
       "    <tr>\n",
       "      <th>2018-03-01 00:00:00</th>\n",
       "      <td>124</td>\n",
       "      <td>3</td>\n",
       "      <td>1</td>\n",
       "      <td>0</td>\n",
       "      <td>3</td>\n",
       "      <td>NaN</td>\n",
       "      <td>NaN</td>\n",
       "      <td>NaN</td>\n",
       "      <td>NaN</td>\n",
       "      <td>NaN</td>\n",
       "      <td>NaN</td>\n",
       "      <td>NaN</td>\n",
       "      <td>NaN</td>\n",
       "      <td>NaN</td>\n",
       "      <td>NaN</td>\n",
       "      <td>NaN</td>\n",
       "      <td>NaN</td>\n",
       "      <td>NaN</td>\n",
       "    </tr>\n",
       "    <tr>\n",
       "      <th>2018-03-01 01:00:00</th>\n",
       "      <td>85</td>\n",
       "      <td>3</td>\n",
       "      <td>1</td>\n",
       "      <td>1</td>\n",
       "      <td>3</td>\n",
       "      <td>124.0</td>\n",
       "      <td>NaN</td>\n",
       "      <td>NaN</td>\n",
       "      <td>NaN</td>\n",
       "      <td>NaN</td>\n",
       "      <td>NaN</td>\n",
       "      <td>NaN</td>\n",
       "      <td>NaN</td>\n",
       "      <td>NaN</td>\n",
       "      <td>NaN</td>\n",
       "      <td>NaN</td>\n",
       "      <td>NaN</td>\n",
       "      <td>NaN</td>\n",
       "    </tr>\n",
       "    <tr>\n",
       "      <th>2018-03-01 02:00:00</th>\n",
       "      <td>71</td>\n",
       "      <td>3</td>\n",
       "      <td>1</td>\n",
       "      <td>2</td>\n",
       "      <td>3</td>\n",
       "      <td>85.0</td>\n",
       "      <td>124.0</td>\n",
       "      <td>NaN</td>\n",
       "      <td>NaN</td>\n",
       "      <td>NaN</td>\n",
       "      <td>NaN</td>\n",
       "      <td>NaN</td>\n",
       "      <td>NaN</td>\n",
       "      <td>NaN</td>\n",
       "      <td>NaN</td>\n",
       "      <td>NaN</td>\n",
       "      <td>NaN</td>\n",
       "      <td>NaN</td>\n",
       "    </tr>\n",
       "    <tr>\n",
       "      <th>2018-03-01 03:00:00</th>\n",
       "      <td>66</td>\n",
       "      <td>3</td>\n",
       "      <td>1</td>\n",
       "      <td>3</td>\n",
       "      <td>3</td>\n",
       "      <td>71.0</td>\n",
       "      <td>85.0</td>\n",
       "      <td>124.0</td>\n",
       "      <td>NaN</td>\n",
       "      <td>NaN</td>\n",
       "      <td>NaN</td>\n",
       "      <td>NaN</td>\n",
       "      <td>NaN</td>\n",
       "      <td>NaN</td>\n",
       "      <td>NaN</td>\n",
       "      <td>NaN</td>\n",
       "      <td>NaN</td>\n",
       "      <td>NaN</td>\n",
       "    </tr>\n",
       "    <tr>\n",
       "      <th>2018-03-01 04:00:00</th>\n",
       "      <td>43</td>\n",
       "      <td>3</td>\n",
       "      <td>1</td>\n",
       "      <td>4</td>\n",
       "      <td>3</td>\n",
       "      <td>66.0</td>\n",
       "      <td>71.0</td>\n",
       "      <td>85.0</td>\n",
       "      <td>124.0</td>\n",
       "      <td>NaN</td>\n",
       "      <td>NaN</td>\n",
       "      <td>NaN</td>\n",
       "      <td>NaN</td>\n",
       "      <td>NaN</td>\n",
       "      <td>NaN</td>\n",
       "      <td>NaN</td>\n",
       "      <td>NaN</td>\n",
       "      <td>NaN</td>\n",
       "    </tr>\n",
       "  </tbody>\n",
       "</table>\n",
       "</div>"
      ],
      "text/plain": [
       "                     num_orders  month  day  hour  dayofweek  lag_1  lag_2  \\\n",
       "datetime                                                                     \n",
       "2018-03-01 00:00:00         124      3    1     0          3    NaN    NaN   \n",
       "2018-03-01 01:00:00          85      3    1     1          3  124.0    NaN   \n",
       "2018-03-01 02:00:00          71      3    1     2          3   85.0  124.0   \n",
       "2018-03-01 03:00:00          66      3    1     3          3   71.0   85.0   \n",
       "2018-03-01 04:00:00          43      3    1     4          3   66.0   71.0   \n",
       "\n",
       "                     lag_3  lag_4  lag_5  lag_6  lag_7  lag_8  lag_9  lag_10  \\\n",
       "datetime                                                                       \n",
       "2018-03-01 00:00:00    NaN    NaN    NaN    NaN    NaN    NaN    NaN     NaN   \n",
       "2018-03-01 01:00:00    NaN    NaN    NaN    NaN    NaN    NaN    NaN     NaN   \n",
       "2018-03-01 02:00:00    NaN    NaN    NaN    NaN    NaN    NaN    NaN     NaN   \n",
       "2018-03-01 03:00:00  124.0    NaN    NaN    NaN    NaN    NaN    NaN     NaN   \n",
       "2018-03-01 04:00:00   85.0  124.0    NaN    NaN    NaN    NaN    NaN     NaN   \n",
       "\n",
       "                     lag_11  lag_12  rolling_mean  \n",
       "datetime                                           \n",
       "2018-03-01 00:00:00     NaN     NaN           NaN  \n",
       "2018-03-01 01:00:00     NaN     NaN           NaN  \n",
       "2018-03-01 02:00:00     NaN     NaN           NaN  \n",
       "2018-03-01 03:00:00     NaN     NaN           NaN  \n",
       "2018-03-01 04:00:00     NaN     NaN           NaN  "
      ]
     },
     "metadata": {},
     "output_type": "display_data"
    },
    {
     "name": "stdout",
     "output_type": "stream",
     "text": [
      "RSME = 26.94 при lag = 24\n"
     ]
    },
    {
     "data": {
      "text/html": [
       "<div>\n",
       "<style scoped>\n",
       "    .dataframe tbody tr th:only-of-type {\n",
       "        vertical-align: middle;\n",
       "    }\n",
       "\n",
       "    .dataframe tbody tr th {\n",
       "        vertical-align: top;\n",
       "    }\n",
       "\n",
       "    .dataframe thead th {\n",
       "        text-align: right;\n",
       "    }\n",
       "</style>\n",
       "<table border=\"1\" class=\"dataframe\">\n",
       "  <thead>\n",
       "    <tr style=\"text-align: right;\">\n",
       "      <th></th>\n",
       "      <th>num_orders</th>\n",
       "      <th>month</th>\n",
       "      <th>day</th>\n",
       "      <th>hour</th>\n",
       "      <th>dayofweek</th>\n",
       "      <th>lag_1</th>\n",
       "      <th>lag_2</th>\n",
       "      <th>lag_3</th>\n",
       "      <th>lag_4</th>\n",
       "      <th>lag_5</th>\n",
       "      <th>...</th>\n",
       "      <th>lag_16</th>\n",
       "      <th>lag_17</th>\n",
       "      <th>lag_18</th>\n",
       "      <th>lag_19</th>\n",
       "      <th>lag_20</th>\n",
       "      <th>lag_21</th>\n",
       "      <th>lag_22</th>\n",
       "      <th>lag_23</th>\n",
       "      <th>lag_24</th>\n",
       "      <th>rolling_mean</th>\n",
       "    </tr>\n",
       "    <tr>\n",
       "      <th>datetime</th>\n",
       "      <th></th>\n",
       "      <th></th>\n",
       "      <th></th>\n",
       "      <th></th>\n",
       "      <th></th>\n",
       "      <th></th>\n",
       "      <th></th>\n",
       "      <th></th>\n",
       "      <th></th>\n",
       "      <th></th>\n",
       "      <th></th>\n",
       "      <th></th>\n",
       "      <th></th>\n",
       "      <th></th>\n",
       "      <th></th>\n",
       "      <th></th>\n",
       "      <th></th>\n",
       "      <th></th>\n",
       "      <th></th>\n",
       "      <th></th>\n",
       "      <th></th>\n",
       "    </tr>\n",
       "  </thead>\n",
       "  <tbody>\n",
       "    <tr>\n",
       "      <th>2018-03-01 00:00:00</th>\n",
       "      <td>124</td>\n",
       "      <td>3</td>\n",
       "      <td>1</td>\n",
       "      <td>0</td>\n",
       "      <td>3</td>\n",
       "      <td>NaN</td>\n",
       "      <td>NaN</td>\n",
       "      <td>NaN</td>\n",
       "      <td>NaN</td>\n",
       "      <td>NaN</td>\n",
       "      <td>...</td>\n",
       "      <td>NaN</td>\n",
       "      <td>NaN</td>\n",
       "      <td>NaN</td>\n",
       "      <td>NaN</td>\n",
       "      <td>NaN</td>\n",
       "      <td>NaN</td>\n",
       "      <td>NaN</td>\n",
       "      <td>NaN</td>\n",
       "      <td>NaN</td>\n",
       "      <td>NaN</td>\n",
       "    </tr>\n",
       "    <tr>\n",
       "      <th>2018-03-01 01:00:00</th>\n",
       "      <td>85</td>\n",
       "      <td>3</td>\n",
       "      <td>1</td>\n",
       "      <td>1</td>\n",
       "      <td>3</td>\n",
       "      <td>124.0</td>\n",
       "      <td>NaN</td>\n",
       "      <td>NaN</td>\n",
       "      <td>NaN</td>\n",
       "      <td>NaN</td>\n",
       "      <td>...</td>\n",
       "      <td>NaN</td>\n",
       "      <td>NaN</td>\n",
       "      <td>NaN</td>\n",
       "      <td>NaN</td>\n",
       "      <td>NaN</td>\n",
       "      <td>NaN</td>\n",
       "      <td>NaN</td>\n",
       "      <td>NaN</td>\n",
       "      <td>NaN</td>\n",
       "      <td>NaN</td>\n",
       "    </tr>\n",
       "    <tr>\n",
       "      <th>2018-03-01 02:00:00</th>\n",
       "      <td>71</td>\n",
       "      <td>3</td>\n",
       "      <td>1</td>\n",
       "      <td>2</td>\n",
       "      <td>3</td>\n",
       "      <td>85.0</td>\n",
       "      <td>124.0</td>\n",
       "      <td>NaN</td>\n",
       "      <td>NaN</td>\n",
       "      <td>NaN</td>\n",
       "      <td>...</td>\n",
       "      <td>NaN</td>\n",
       "      <td>NaN</td>\n",
       "      <td>NaN</td>\n",
       "      <td>NaN</td>\n",
       "      <td>NaN</td>\n",
       "      <td>NaN</td>\n",
       "      <td>NaN</td>\n",
       "      <td>NaN</td>\n",
       "      <td>NaN</td>\n",
       "      <td>NaN</td>\n",
       "    </tr>\n",
       "    <tr>\n",
       "      <th>2018-03-01 03:00:00</th>\n",
       "      <td>66</td>\n",
       "      <td>3</td>\n",
       "      <td>1</td>\n",
       "      <td>3</td>\n",
       "      <td>3</td>\n",
       "      <td>71.0</td>\n",
       "      <td>85.0</td>\n",
       "      <td>124.0</td>\n",
       "      <td>NaN</td>\n",
       "      <td>NaN</td>\n",
       "      <td>...</td>\n",
       "      <td>NaN</td>\n",
       "      <td>NaN</td>\n",
       "      <td>NaN</td>\n",
       "      <td>NaN</td>\n",
       "      <td>NaN</td>\n",
       "      <td>NaN</td>\n",
       "      <td>NaN</td>\n",
       "      <td>NaN</td>\n",
       "      <td>NaN</td>\n",
       "      <td>NaN</td>\n",
       "    </tr>\n",
       "    <tr>\n",
       "      <th>2018-03-01 04:00:00</th>\n",
       "      <td>43</td>\n",
       "      <td>3</td>\n",
       "      <td>1</td>\n",
       "      <td>4</td>\n",
       "      <td>3</td>\n",
       "      <td>66.0</td>\n",
       "      <td>71.0</td>\n",
       "      <td>85.0</td>\n",
       "      <td>124.0</td>\n",
       "      <td>NaN</td>\n",
       "      <td>...</td>\n",
       "      <td>NaN</td>\n",
       "      <td>NaN</td>\n",
       "      <td>NaN</td>\n",
       "      <td>NaN</td>\n",
       "      <td>NaN</td>\n",
       "      <td>NaN</td>\n",
       "      <td>NaN</td>\n",
       "      <td>NaN</td>\n",
       "      <td>NaN</td>\n",
       "      <td>NaN</td>\n",
       "    </tr>\n",
       "  </tbody>\n",
       "</table>\n",
       "<p>5 rows × 30 columns</p>\n",
       "</div>"
      ],
      "text/plain": [
       "                     num_orders  month  day  hour  dayofweek  lag_1  lag_2  \\\n",
       "datetime                                                                     \n",
       "2018-03-01 00:00:00         124      3    1     0          3    NaN    NaN   \n",
       "2018-03-01 01:00:00          85      3    1     1          3  124.0    NaN   \n",
       "2018-03-01 02:00:00          71      3    1     2          3   85.0  124.0   \n",
       "2018-03-01 03:00:00          66      3    1     3          3   71.0   85.0   \n",
       "2018-03-01 04:00:00          43      3    1     4          3   66.0   71.0   \n",
       "\n",
       "                     lag_3  lag_4  lag_5  ...  lag_16  lag_17  lag_18  lag_19  \\\n",
       "datetime                                  ...                                   \n",
       "2018-03-01 00:00:00    NaN    NaN    NaN  ...     NaN     NaN     NaN     NaN   \n",
       "2018-03-01 01:00:00    NaN    NaN    NaN  ...     NaN     NaN     NaN     NaN   \n",
       "2018-03-01 02:00:00    NaN    NaN    NaN  ...     NaN     NaN     NaN     NaN   \n",
       "2018-03-01 03:00:00  124.0    NaN    NaN  ...     NaN     NaN     NaN     NaN   \n",
       "2018-03-01 04:00:00   85.0  124.0    NaN  ...     NaN     NaN     NaN     NaN   \n",
       "\n",
       "                     lag_20  lag_21  lag_22  lag_23  lag_24  rolling_mean  \n",
       "datetime                                                                   \n",
       "2018-03-01 00:00:00     NaN     NaN     NaN     NaN     NaN           NaN  \n",
       "2018-03-01 01:00:00     NaN     NaN     NaN     NaN     NaN           NaN  \n",
       "2018-03-01 02:00:00     NaN     NaN     NaN     NaN     NaN           NaN  \n",
       "2018-03-01 03:00:00     NaN     NaN     NaN     NaN     NaN           NaN  \n",
       "2018-03-01 04:00:00     NaN     NaN     NaN     NaN     NaN           NaN  \n",
       "\n",
       "[5 rows x 30 columns]"
      ]
     },
     "metadata": {},
     "output_type": "display_data"
    }
   ],
   "source": [
    "lags_list=[1,3,6,12,24]\n",
    "data_temp =[]\n",
    "df_new = df.copy()\n",
    "for i in range(len(lags_list)):\n",
    "    data_temp.append(make_features(df_new, lags_list[i], 24))\n",
    "    display(data_temp[i].head())"
   ]
  },
  {
   "cell_type": "markdown",
   "metadata": {},
   "source": [
    "Минимальное значение RSME при lag = 24, используем это значение параметра для дальнейшего исследования."
   ]
  },
  {
   "cell_type": "code",
   "execution_count": 23,
   "metadata": {
    "scrolled": false
   },
   "outputs": [
    {
     "name": "stdout",
     "output_type": "stream",
     "text": [
      "(3950, 29) (442, 29) (3950,) (442,)\n"
     ]
    }
   ],
   "source": [
    "train, test = train_test_split(data_temp[4], shuffle=False, test_size=0.1)\n",
    "train = train.dropna()\n",
    "    \n",
    "X_train = train.drop('num_orders',axis=1)\n",
    "X_test = test.drop('num_orders',axis=1)\n",
    "y_train = train['num_orders']\n",
    "y_test = test['num_orders']\n",
    "print(X_train.shape,X_test.shape,y_train.shape,y_test.shape)"
   ]
  },
  {
   "cell_type": "markdown",
   "metadata": {},
   "source": [
    "## Обучение"
   ]
  },
  {
   "cell_type": "code",
   "execution_count": 24,
   "metadata": {
    "scrolled": false
   },
   "outputs": [],
   "source": [
    "res=[]\n",
    "res_test=[]"
   ]
  },
  {
   "cell_type": "markdown",
   "metadata": {},
   "source": [
    "Произведем обученине моделей. Для подбора параметров используем инструмент GridSearchCV.\n",
    "Параметры моделей заранее подобраны таким образом, чтобы время обучения было минимальным при рассчитанной минимальной RSME. Для сокращения времени проверки кода, в графе подбор параметров уже указаны лучшие варианты из найденных\n",
    "\n",
    "Начинаем с метода <b>Дерево решений</b>:"
   ]
  },
  {
   "cell_type": "markdown",
   "metadata": {},
   "source": [
    "### DecisionTreeRegressor"
   ]
  },
  {
   "cell_type": "code",
   "execution_count": 25,
   "metadata": {
    "scrolled": false
   },
   "outputs": [
    {
     "name": "stdout",
     "output_type": "stream",
     "text": [
      "Лучшая RMSE: 28.776013240838164 при параметрах {'max_depth': 15, 'min_samples_leaf': 27}\n"
     ]
    }
   ],
   "source": [
    "model_dt = DecisionTreeRegressor(random_state=RANDOM_STATE)\n",
    "param_grid = {\n",
    "    \"max_depth\" : range(15,16),\n",
    "    \"min_samples_leaf\" : range(20,30)\n",
    "}\n",
    "gsearch = GridSearchCV(model_dt, param_grid = param_grid, scoring='neg_root_mean_squared_error', cv=TimeSeriesSplit(n_splits=5))\n",
    "dt_model = gsearch.fit(X_train,y_train)\n",
    "print(f'Лучшая RMSE: {-dt_model.best_score_} при параметрах {dt_model.best_params_}')\n",
    "res.append([(-dt_model.best_score_), dt_model.best_params_])"
   ]
  },
  {
   "cell_type": "markdown",
   "metadata": {},
   "source": [
    "### RandomForestRegressor"
   ]
  },
  {
   "cell_type": "code",
   "execution_count": 26,
   "metadata": {
    "scrolled": false
   },
   "outputs": [
    {
     "name": "stdout",
     "output_type": "stream",
     "text": [
      "Лучшая RMSE: 25.341293665655318 при параметрах ,{'max_depth': 15, 'min_samples_leaf': 2}\n"
     ]
    }
   ],
   "source": [
    "model_rf = RandomForestRegressor(random_state=RANDOM_STATE)\n",
    "param_grid = {\n",
    "    \"max_depth\" : range(15,16),\n",
    "    \"min_samples_leaf\" : range(2,3)\n",
    "}\n",
    "gsearch = GridSearchCV(model_rf, param_grid = param_grid, scoring='neg_root_mean_squared_error', cv=TimeSeriesSplit(n_splits=5))\n",
    "gb_model = gsearch.fit(X_train,y_train)\n",
    "print(f'Лучшая RMSE: {-gb_model.best_score_} при параметрах ,{gb_model.best_params_}')\n",
    "res.append([(-gb_model.best_score_), gb_model.best_params_])"
   ]
  },
  {
   "cell_type": "markdown",
   "metadata": {},
   "source": [
    "### GradientBoostingRegressor"
   ]
  },
  {
   "cell_type": "code",
   "execution_count": 27,
   "metadata": {
    "scrolled": false
   },
   "outputs": [
    {
     "name": "stdout",
     "output_type": "stream",
     "text": [
      "Лучшая RMSE: 25.276206501024443 при параметрах ,{'max_depth': 5, 'n_estimators': 80, 'random_state': 12345, 'verbose': 0}\n"
     ]
    }
   ],
   "source": [
    "model_gb = GradientBoostingRegressor()\n",
    "param_grid = {\n",
    "        'n_estimators' : range(80, 81, 1),\n",
    "        'max_depth' : range(5, 6, 1),\n",
    "        'verbose' : [0],\n",
    "        'random_state' : [12345] \n",
    "        }\n",
    "\n",
    "gsearch = GridSearchCV(model_gb, param_grid = param_grid, scoring='neg_root_mean_squared_error', cv=TimeSeriesSplit(n_splits=5))\n",
    "rf_model = gsearch.fit(X_train,y_train)\n",
    "print(f'Лучшая RMSE: {-rf_model.best_score_} при параметрах ,{rf_model.best_params_}')\n",
    "res.append([(-rf_model.best_score_), rf_model.best_params_])"
   ]
  },
  {
   "cell_type": "markdown",
   "metadata": {},
   "source": [
    "###  LightGBMRegressor"
   ]
  },
  {
   "cell_type": "code",
   "execution_count": 28,
   "metadata": {
    "scrolled": false
   },
   "outputs": [
    {
     "name": "stdout",
     "output_type": "stream",
     "text": [
      "Лучшая RMSE: 24.87613969873619 при параметрах ,{'max_depth': 11, 'n_estimators': 56}\n"
     ]
    }
   ],
   "source": [
    "model_lgbm = LGBMRegressor(random_state=RANDOM_STATE, n_jobs=2)\n",
    "\n",
    "param_grid = {\n",
    "    \"max_depth\" : range(11,12),\n",
    "    \"n_estimators\" : range(56,57)\n",
    "}\n",
    "\n",
    "gsearch = GridSearchCV(model_lgbm, param_grid = param_grid, scoring='neg_root_mean_squared_error', cv=TimeSeriesSplit(n_splits=5))\n",
    "lgb_model = gsearch.fit(X_train,y_train)\n",
    "print(f'Лучшая RMSE: {-lgb_model.best_score_} при параметрах ,{lgb_model.best_params_}')\n",
    "res.append([(-lgb_model.best_score_), lgb_model.best_params_])"
   ]
  },
  {
   "cell_type": "markdown",
   "metadata": {},
   "source": [
    "### CatBoostRegressor"
   ]
  },
  {
   "cell_type": "code",
   "execution_count": 29,
   "metadata": {
    "scrolled": true
   },
   "outputs": [
    {
     "name": "stdout",
     "output_type": "stream",
     "text": [
      "Learning rate set to 0.06736\n",
      "0:\tlearn: 28.7658450\ttotal: 49.6ms\tremaining: 24.8s\n",
      "1:\tlearn: 27.9122652\ttotal: 52ms\tremaining: 12.9s\n",
      "2:\tlearn: 27.0877245\ttotal: 54.1ms\tremaining: 8.96s\n",
      "3:\tlearn: 26.3808759\ttotal: 56.2ms\tremaining: 6.97s\n",
      "4:\tlearn: 25.7316554\ttotal: 58.7ms\tremaining: 5.81s\n",
      "5:\tlearn: 25.1020499\ttotal: 61.1ms\tremaining: 5.03s\n",
      "6:\tlearn: 24.5679022\ttotal: 63.4ms\tremaining: 4.46s\n",
      "7:\tlearn: 24.0418377\ttotal: 65.7ms\tremaining: 4.04s\n",
      "8:\tlearn: 23.5497872\ttotal: 67.7ms\tremaining: 3.69s\n",
      "9:\tlearn: 23.1184451\ttotal: 70ms\tremaining: 3.43s\n",
      "10:\tlearn: 22.7178259\ttotal: 72.4ms\tremaining: 3.22s\n",
      "11:\tlearn: 22.3592845\ttotal: 75.5ms\tremaining: 3.07s\n",
      "12:\tlearn: 21.9978920\ttotal: 78.6ms\tremaining: 2.94s\n",
      "13:\tlearn: 21.6445955\ttotal: 80.8ms\tremaining: 2.8s\n",
      "14:\tlearn: 21.2671784\ttotal: 82.9ms\tremaining: 2.68s\n",
      "15:\tlearn: 20.9707688\ttotal: 85.1ms\tremaining: 2.57s\n",
      "16:\tlearn: 20.7122763\ttotal: 87.9ms\tremaining: 2.5s\n",
      "17:\tlearn: 20.4597914\ttotal: 91.5ms\tremaining: 2.45s\n",
      "18:\tlearn: 20.1619221\ttotal: 95ms\tremaining: 2.4s\n",
      "19:\tlearn: 19.9671410\ttotal: 98.4ms\tremaining: 2.36s\n",
      "20:\tlearn: 19.7322779\ttotal: 102ms\tremaining: 2.31s\n",
      "21:\tlearn: 19.5548044\ttotal: 105ms\tremaining: 2.28s\n",
      "22:\tlearn: 19.3544803\ttotal: 108ms\tremaining: 2.24s\n",
      "23:\tlearn: 19.1943725\ttotal: 112ms\tremaining: 2.21s\n",
      "24:\tlearn: 18.9964914\ttotal: 115ms\tremaining: 2.19s\n",
      "25:\tlearn: 18.8288368\ttotal: 119ms\tremaining: 2.17s\n",
      "26:\tlearn: 18.6405038\ttotal: 122ms\tremaining: 2.14s\n",
      "27:\tlearn: 18.4790007\ttotal: 126ms\tremaining: 2.12s\n",
      "28:\tlearn: 18.3284762\ttotal: 129ms\tremaining: 2.1s\n",
      "29:\tlearn: 18.1720619\ttotal: 133ms\tremaining: 2.08s\n",
      "30:\tlearn: 18.0465458\ttotal: 136ms\tremaining: 2.06s\n",
      "31:\tlearn: 17.8868227\ttotal: 140ms\tremaining: 2.04s\n",
      "32:\tlearn: 17.7781616\ttotal: 143ms\tremaining: 2.03s\n",
      "33:\tlearn: 17.6785095\ttotal: 147ms\tremaining: 2.01s\n",
      "34:\tlearn: 17.6073996\ttotal: 150ms\tremaining: 2s\n",
      "35:\tlearn: 17.5122030\ttotal: 154ms\tremaining: 1.98s\n",
      "36:\tlearn: 17.4366487\ttotal: 157ms\tremaining: 1.97s\n",
      "37:\tlearn: 17.2982507\ttotal: 160ms\tremaining: 1.94s\n",
      "38:\tlearn: 17.1855103\ttotal: 162ms\tremaining: 1.91s\n",
      "39:\tlearn: 17.0632926\ttotal: 164ms\tremaining: 1.89s\n",
      "40:\tlearn: 16.9762802\ttotal: 166ms\tremaining: 1.86s\n",
      "41:\tlearn: 16.8710077\ttotal: 168ms\tremaining: 1.83s\n",
      "42:\tlearn: 16.7940872\ttotal: 171ms\tremaining: 1.81s\n",
      "43:\tlearn: 16.6678339\ttotal: 173ms\tremaining: 1.79s\n",
      "44:\tlearn: 16.6083273\ttotal: 175ms\tremaining: 1.77s\n",
      "45:\tlearn: 16.5240462\ttotal: 177ms\tremaining: 1.75s\n",
      "46:\tlearn: 16.4168891\ttotal: 179ms\tremaining: 1.73s\n",
      "47:\tlearn: 16.3156492\ttotal: 182ms\tremaining: 1.72s\n",
      "48:\tlearn: 16.2521149\ttotal: 185ms\tremaining: 1.7s\n",
      "49:\tlearn: 16.1808997\ttotal: 187ms\tremaining: 1.68s\n",
      "50:\tlearn: 16.0983376\ttotal: 189ms\tremaining: 1.67s\n",
      "51:\tlearn: 16.0348176\ttotal: 192ms\tremaining: 1.65s\n",
      "52:\tlearn: 15.9777453\ttotal: 194ms\tremaining: 1.64s\n",
      "53:\tlearn: 15.9216795\ttotal: 196ms\tremaining: 1.62s\n",
      "54:\tlearn: 15.8519408\ttotal: 199ms\tremaining: 1.61s\n",
      "55:\tlearn: 15.7789696\ttotal: 201ms\tremaining: 1.59s\n",
      "56:\tlearn: 15.6810496\ttotal: 204ms\tremaining: 1.58s\n",
      "57:\tlearn: 15.6365447\ttotal: 206ms\tremaining: 1.57s\n",
      "58:\tlearn: 15.5700802\ttotal: 208ms\tremaining: 1.56s\n",
      "59:\tlearn: 15.5407765\ttotal: 211ms\tremaining: 1.54s\n",
      "60:\tlearn: 15.4878162\ttotal: 213ms\tremaining: 1.53s\n",
      "61:\tlearn: 15.4371014\ttotal: 215ms\tremaining: 1.52s\n",
      "62:\tlearn: 15.4098541\ttotal: 217ms\tremaining: 1.5s\n",
      "63:\tlearn: 15.3484234\ttotal: 219ms\tremaining: 1.49s\n",
      "64:\tlearn: 15.3150265\ttotal: 221ms\tremaining: 1.48s\n",
      "65:\tlearn: 15.2795447\ttotal: 224ms\tremaining: 1.47s\n",
      "66:\tlearn: 15.2223988\ttotal: 226ms\tremaining: 1.46s\n",
      "67:\tlearn: 15.1438627\ttotal: 228ms\tremaining: 1.45s\n",
      "68:\tlearn: 15.0898297\ttotal: 231ms\tremaining: 1.44s\n",
      "69:\tlearn: 15.0533821\ttotal: 233ms\tremaining: 1.43s\n",
      "70:\tlearn: 15.0148801\ttotal: 236ms\tremaining: 1.43s\n",
      "71:\tlearn: 14.9709696\ttotal: 240ms\tremaining: 1.43s\n",
      "72:\tlearn: 14.9090988\ttotal: 243ms\tremaining: 1.42s\n",
      "73:\tlearn: 14.8413534\ttotal: 247ms\tremaining: 1.42s\n",
      "74:\tlearn: 14.7793374\ttotal: 251ms\tremaining: 1.42s\n",
      "75:\tlearn: 14.7239488\ttotal: 254ms\tremaining: 1.42s\n",
      "76:\tlearn: 14.6599320\ttotal: 258ms\tremaining: 1.41s\n",
      "77:\tlearn: 14.6376153\ttotal: 261ms\tremaining: 1.41s\n",
      "78:\tlearn: 14.6109569\ttotal: 264ms\tremaining: 1.41s\n",
      "79:\tlearn: 14.5626703\ttotal: 268ms\tremaining: 1.41s\n",
      "80:\tlearn: 14.5159864\ttotal: 270ms\tremaining: 1.4s\n",
      "81:\tlearn: 14.4714950\ttotal: 272ms\tremaining: 1.39s\n",
      "82:\tlearn: 14.3781643\ttotal: 275ms\tremaining: 1.38s\n",
      "83:\tlearn: 14.3286049\ttotal: 278ms\tremaining: 1.37s\n",
      "84:\tlearn: 14.2817615\ttotal: 280ms\tremaining: 1.36s\n",
      "85:\tlearn: 14.2245282\ttotal: 282ms\tremaining: 1.36s\n",
      "86:\tlearn: 14.1849491\ttotal: 284ms\tremaining: 1.35s\n",
      "87:\tlearn: 14.1680477\ttotal: 286ms\tremaining: 1.34s\n",
      "88:\tlearn: 14.1320027\ttotal: 289ms\tremaining: 1.33s\n",
      "89:\tlearn: 14.1049477\ttotal: 291ms\tremaining: 1.32s\n",
      "90:\tlearn: 14.0690666\ttotal: 293ms\tremaining: 1.32s\n",
      "91:\tlearn: 14.0272254\ttotal: 296ms\tremaining: 1.31s\n",
      "92:\tlearn: 13.9765205\ttotal: 298ms\tremaining: 1.3s\n",
      "93:\tlearn: 13.9352120\ttotal: 300ms\tremaining: 1.3s\n",
      "94:\tlearn: 13.9052482\ttotal: 302ms\tremaining: 1.29s\n",
      "95:\tlearn: 13.8333521\ttotal: 305ms\tremaining: 1.28s\n",
      "96:\tlearn: 13.7857748\ttotal: 307ms\tremaining: 1.27s\n",
      "97:\tlearn: 13.7649125\ttotal: 309ms\tremaining: 1.27s\n",
      "98:\tlearn: 13.7433157\ttotal: 313ms\tremaining: 1.27s\n",
      "99:\tlearn: 13.6855680\ttotal: 317ms\tremaining: 1.27s\n",
      "100:\tlearn: 13.6480918\ttotal: 321ms\tremaining: 1.27s\n",
      "101:\tlearn: 13.6302410\ttotal: 326ms\tremaining: 1.27s\n",
      "102:\tlearn: 13.5963711\ttotal: 330ms\tremaining: 1.27s\n",
      "103:\tlearn: 13.5634931\ttotal: 334ms\tremaining: 1.27s\n",
      "104:\tlearn: 13.4939978\ttotal: 338ms\tremaining: 1.27s\n",
      "105:\tlearn: 13.4593419\ttotal: 341ms\tremaining: 1.27s\n",
      "106:\tlearn: 13.4236961\ttotal: 345ms\tremaining: 1.27s\n",
      "107:\tlearn: 13.3916021\ttotal: 349ms\tremaining: 1.27s\n",
      "108:\tlearn: 13.3452059\ttotal: 352ms\tremaining: 1.26s\n",
      "109:\tlearn: 13.3201995\ttotal: 354ms\tremaining: 1.26s\n",
      "110:\tlearn: 13.3005633\ttotal: 358ms\tremaining: 1.25s\n",
      "111:\tlearn: 13.2745316\ttotal: 362ms\tremaining: 1.25s\n",
      "112:\tlearn: 13.2311891\ttotal: 366ms\tremaining: 1.25s\n",
      "113:\tlearn: 13.1776843\ttotal: 370ms\tremaining: 1.25s\n",
      "114:\tlearn: 13.1520895\ttotal: 374ms\tremaining: 1.25s\n",
      "115:\tlearn: 13.1126769\ttotal: 378ms\tremaining: 1.25s\n",
      "116:\tlearn: 13.0901349\ttotal: 382ms\tremaining: 1.25s\n",
      "117:\tlearn: 13.0454751\ttotal: 386ms\tremaining: 1.25s\n",
      "118:\tlearn: 13.0331155\ttotal: 390ms\tremaining: 1.25s\n",
      "119:\tlearn: 13.0067449\ttotal: 394ms\tremaining: 1.25s\n",
      "120:\tlearn: 12.9890993\ttotal: 398ms\tremaining: 1.25s\n",
      "121:\tlearn: 12.9759654\ttotal: 402ms\tremaining: 1.25s\n",
      "122:\tlearn: 12.9487835\ttotal: 406ms\tremaining: 1.24s\n",
      "123:\tlearn: 12.9118660\ttotal: 410ms\tremaining: 1.24s\n",
      "124:\tlearn: 12.8572601\ttotal: 414ms\tremaining: 1.24s\n",
      "125:\tlearn: 12.8105485\ttotal: 418ms\tremaining: 1.24s\n",
      "126:\tlearn: 12.7852863\ttotal: 421ms\tremaining: 1.24s\n",
      "127:\tlearn: 12.7751033\ttotal: 426ms\tremaining: 1.24s\n",
      "128:\tlearn: 12.7632065\ttotal: 430ms\tremaining: 1.24s\n",
      "129:\tlearn: 12.7383576\ttotal: 434ms\tremaining: 1.23s\n",
      "130:\tlearn: 12.6942875\ttotal: 437ms\tremaining: 1.23s\n",
      "131:\tlearn: 12.6363794\ttotal: 439ms\tremaining: 1.22s\n",
      "132:\tlearn: 12.6240887\ttotal: 441ms\tremaining: 1.22s\n",
      "133:\tlearn: 12.6149961\ttotal: 443ms\tremaining: 1.21s\n",
      "134:\tlearn: 12.5529354\ttotal: 445ms\tremaining: 1.2s\n",
      "135:\tlearn: 12.5459949\ttotal: 447ms\tremaining: 1.2s\n",
      "136:\tlearn: 12.5372085\ttotal: 450ms\tremaining: 1.19s\n",
      "137:\tlearn: 12.5207476\ttotal: 452ms\tremaining: 1.19s\n",
      "138:\tlearn: 12.5117542\ttotal: 454ms\tremaining: 1.18s\n",
      "139:\tlearn: 12.4974701\ttotal: 456ms\tremaining: 1.17s\n",
      "140:\tlearn: 12.4426694\ttotal: 458ms\tremaining: 1.17s\n",
      "141:\tlearn: 12.3835400\ttotal: 461ms\tremaining: 1.16s\n",
      "142:\tlearn: 12.3762786\ttotal: 463ms\tremaining: 1.16s\n",
      "143:\tlearn: 12.3289973\ttotal: 465ms\tremaining: 1.15s\n",
      "144:\tlearn: 12.3221606\ttotal: 467ms\tremaining: 1.14s\n",
      "145:\tlearn: 12.2609705\ttotal: 470ms\tremaining: 1.14s\n",
      "146:\tlearn: 12.2111050\ttotal: 473ms\tremaining: 1.13s\n",
      "147:\tlearn: 12.1792157\ttotal: 475ms\tremaining: 1.13s\n",
      "148:\tlearn: 12.1336806\ttotal: 477ms\tremaining: 1.12s\n",
      "149:\tlearn: 12.0937741\ttotal: 479ms\tremaining: 1.12s\n",
      "150:\tlearn: 12.0550678\ttotal: 482ms\tremaining: 1.11s\n",
      "151:\tlearn: 12.0095297\ttotal: 484ms\tremaining: 1.11s\n",
      "152:\tlearn: 11.9666597\ttotal: 487ms\tremaining: 1.1s\n",
      "153:\tlearn: 11.9168133\ttotal: 491ms\tremaining: 1.1s\n",
      "154:\tlearn: 11.8835086\ttotal: 495ms\tremaining: 1.1s\n",
      "155:\tlearn: 11.8397348\ttotal: 499ms\tremaining: 1.1s\n",
      "156:\tlearn: 11.7941143\ttotal: 503ms\tremaining: 1.1s\n",
      "157:\tlearn: 11.7243382\ttotal: 507ms\tremaining: 1.1s\n",
      "158:\tlearn: 11.6762072\ttotal: 511ms\tremaining: 1.09s\n",
      "159:\tlearn: 11.6621795\ttotal: 515ms\tremaining: 1.09s\n",
      "160:\tlearn: 11.6258244\ttotal: 519ms\tremaining: 1.09s\n",
      "161:\tlearn: 11.5958191\ttotal: 523ms\tremaining: 1.09s\n",
      "162:\tlearn: 11.5858586\ttotal: 527ms\tremaining: 1.09s\n",
      "163:\tlearn: 11.5439888\ttotal: 531ms\tremaining: 1.09s\n",
      "164:\tlearn: 11.5392140\ttotal: 533ms\tremaining: 1.08s\n",
      "165:\tlearn: 11.5130660\ttotal: 535ms\tremaining: 1.08s\n",
      "166:\tlearn: 11.4445056\ttotal: 538ms\tremaining: 1.07s\n",
      "167:\tlearn: 11.4096536\ttotal: 540ms\tremaining: 1.07s\n",
      "168:\tlearn: 11.3962316\ttotal: 542ms\tremaining: 1.06s\n",
      "169:\tlearn: 11.3609393\ttotal: 544ms\tremaining: 1.06s\n",
      "170:\tlearn: 11.3088865\ttotal: 547ms\tremaining: 1.05s\n",
      "171:\tlearn: 11.2825920\ttotal: 549ms\tremaining: 1.05s\n",
      "172:\tlearn: 11.2544459\ttotal: 551ms\tremaining: 1.04s\n",
      "173:\tlearn: 11.2298349\ttotal: 554ms\tremaining: 1.04s\n",
      "174:\tlearn: 11.1943695\ttotal: 556ms\tremaining: 1.03s\n",
      "175:\tlearn: 11.1354700\ttotal: 558ms\tremaining: 1.03s\n",
      "176:\tlearn: 11.0897620\ttotal: 560ms\tremaining: 1.02s\n",
      "177:\tlearn: 11.0633983\ttotal: 562ms\tremaining: 1.02s\n",
      "178:\tlearn: 11.0297653\ttotal: 566ms\tremaining: 1.01s\n",
      "179:\tlearn: 10.9802263\ttotal: 570ms\tremaining: 1.01s\n",
      "180:\tlearn: 10.9392598\ttotal: 574ms\tremaining: 1.01s\n",
      "181:\tlearn: 10.9344197\ttotal: 578ms\tremaining: 1.01s\n",
      "182:\tlearn: 10.8931133\ttotal: 581ms\tremaining: 1.01s\n",
      "183:\tlearn: 10.8568969\ttotal: 585ms\tremaining: 1s\n",
      "184:\tlearn: 10.8416383\ttotal: 589ms\tremaining: 1s\n",
      "185:\tlearn: 10.8080638\ttotal: 593ms\tremaining: 1s\n",
      "186:\tlearn: 10.7841206\ttotal: 597ms\tremaining: 998ms\n",
      "187:\tlearn: 10.7364303\ttotal: 600ms\tremaining: 996ms\n",
      "188:\tlearn: 10.6824672\ttotal: 604ms\tremaining: 994ms\n",
      "189:\tlearn: 10.6782140\ttotal: 607ms\tremaining: 990ms\n",
      "190:\tlearn: 10.6640977\ttotal: 609ms\tremaining: 985ms\n",
      "191:\tlearn: 10.6381250\ttotal: 611ms\tremaining: 981ms\n",
      "192:\tlearn: 10.6170735\ttotal: 614ms\tremaining: 976ms\n",
      "193:\tlearn: 10.5724380\ttotal: 616ms\tremaining: 971ms\n",
      "194:\tlearn: 10.5428977\ttotal: 618ms\tremaining: 967ms\n",
      "195:\tlearn: 10.5175556\ttotal: 620ms\tremaining: 962ms\n",
      "196:\tlearn: 10.5091990\ttotal: 623ms\tremaining: 958ms\n",
      "197:\tlearn: 10.4643288\ttotal: 625ms\tremaining: 953ms\n",
      "198:\tlearn: 10.4230904\ttotal: 627ms\tremaining: 949ms\n",
      "199:\tlearn: 10.4007439\ttotal: 629ms\tremaining: 944ms\n",
      "200:\tlearn: 10.3886644\ttotal: 632ms\tremaining: 940ms\n",
      "201:\tlearn: 10.3494605\ttotal: 634ms\tremaining: 935ms\n",
      "202:\tlearn: 10.3056255\ttotal: 636ms\tremaining: 931ms\n",
      "203:\tlearn: 10.2590523\ttotal: 639ms\tremaining: 926ms\n",
      "204:\tlearn: 10.2267390\ttotal: 642ms\tremaining: 924ms\n",
      "205:\tlearn: 10.2018277\ttotal: 646ms\tremaining: 921ms\n",
      "206:\tlearn: 10.1628674\ttotal: 649ms\tremaining: 919ms\n",
      "207:\tlearn: 10.1558971\ttotal: 653ms\tremaining: 916ms\n",
      "208:\tlearn: 10.1149300\ttotal: 657ms\tremaining: 914ms\n",
      "209:\tlearn: 10.1094280\ttotal: 660ms\tremaining: 912ms\n",
      "210:\tlearn: 10.1030413\ttotal: 664ms\tremaining: 909ms\n",
      "211:\tlearn: 10.0618843\ttotal: 667ms\tremaining: 907ms\n",
      "212:\tlearn: 10.0576917\ttotal: 671ms\tremaining: 904ms\n",
      "213:\tlearn: 10.0511653\ttotal: 674ms\tremaining: 900ms\n",
      "214:\tlearn: 10.0053116\ttotal: 676ms\tremaining: 896ms\n",
      "215:\tlearn: 9.9999912\ttotal: 678ms\tremaining: 892ms\n",
      "216:\tlearn: 9.9631794\ttotal: 680ms\tremaining: 887ms\n",
      "217:\tlearn: 9.9390575\ttotal: 683ms\tremaining: 883ms\n",
      "218:\tlearn: 9.9084322\ttotal: 685ms\tremaining: 879ms\n",
      "219:\tlearn: 9.8877206\ttotal: 687ms\tremaining: 875ms\n",
      "220:\tlearn: 9.8633130\ttotal: 689ms\tremaining: 870ms\n",
      "221:\tlearn: 9.8589796\ttotal: 692ms\tremaining: 866ms\n",
      "222:\tlearn: 9.8250360\ttotal: 694ms\tremaining: 862ms\n",
      "223:\tlearn: 9.7865217\ttotal: 696ms\tremaining: 858ms\n",
      "224:\tlearn: 9.7689522\ttotal: 699ms\tremaining: 854ms\n",
      "225:\tlearn: 9.7647318\ttotal: 700ms\tremaining: 849ms\n",
      "226:\tlearn: 9.7566295\ttotal: 703ms\tremaining: 845ms\n",
      "227:\tlearn: 9.7262272\ttotal: 705ms\tremaining: 841ms\n",
      "228:\tlearn: 9.6903995\ttotal: 707ms\tremaining: 837ms\n",
      "229:\tlearn: 9.6431714\ttotal: 710ms\tremaining: 833ms\n",
      "230:\tlearn: 9.6117251\ttotal: 712ms\tremaining: 829ms\n",
      "231:\tlearn: 9.5648199\ttotal: 714ms\tremaining: 825ms\n",
      "232:\tlearn: 9.5448705\ttotal: 716ms\tremaining: 821ms\n",
      "233:\tlearn: 9.5047287\ttotal: 718ms\tremaining: 817ms\n",
      "234:\tlearn: 9.5008772\ttotal: 720ms\tremaining: 812ms\n",
      "235:\tlearn: 9.4970512\ttotal: 723ms\tremaining: 808ms\n",
      "236:\tlearn: 9.4814210\ttotal: 725ms\tremaining: 804ms\n",
      "237:\tlearn: 9.4381001\ttotal: 727ms\tremaining: 800ms\n",
      "238:\tlearn: 9.4133513\ttotal: 729ms\tremaining: 796ms\n",
      "239:\tlearn: 9.4088246\ttotal: 731ms\tremaining: 792ms\n",
      "240:\tlearn: 9.3976276\ttotal: 733ms\tremaining: 788ms\n",
      "241:\tlearn: 9.3727569\ttotal: 736ms\tremaining: 785ms\n",
      "242:\tlearn: 9.3517921\ttotal: 738ms\tremaining: 781ms\n",
      "243:\tlearn: 9.3398296\ttotal: 740ms\tremaining: 777ms\n",
      "244:\tlearn: 9.3360716\ttotal: 742ms\tremaining: 773ms\n",
      "245:\tlearn: 9.3224063\ttotal: 745ms\tremaining: 769ms\n",
      "246:\tlearn: 9.2906656\ttotal: 747ms\tremaining: 766ms\n",
      "247:\tlearn: 9.2573907\ttotal: 750ms\tremaining: 762ms\n",
      "248:\tlearn: 9.2319101\ttotal: 752ms\tremaining: 758ms\n",
      "249:\tlearn: 9.1945895\ttotal: 754ms\tremaining: 754ms\n",
      "250:\tlearn: 9.1876632\ttotal: 757ms\tremaining: 751ms\n",
      "251:\tlearn: 9.1766255\ttotal: 759ms\tremaining: 747ms\n",
      "252:\tlearn: 9.1420955\ttotal: 761ms\tremaining: 743ms\n",
      "253:\tlearn: 9.0945178\ttotal: 765ms\tremaining: 741ms\n",
      "254:\tlearn: 9.0557248\ttotal: 769ms\tremaining: 739ms\n",
      "255:\tlearn: 9.0372763\ttotal: 773ms\tremaining: 737ms\n",
      "256:\tlearn: 9.0105856\ttotal: 777ms\tremaining: 734ms\n",
      "257:\tlearn: 8.9768788\ttotal: 781ms\tremaining: 732ms\n",
      "258:\tlearn: 8.9311974\ttotal: 785ms\tremaining: 730ms\n",
      "259:\tlearn: 8.8958885\ttotal: 788ms\tremaining: 728ms\n",
      "260:\tlearn: 8.8739701\ttotal: 792ms\tremaining: 726ms\n",
      "261:\tlearn: 8.8346536\ttotal: 796ms\tremaining: 723ms\n",
      "262:\tlearn: 8.8214187\ttotal: 800ms\tremaining: 721ms\n",
      "263:\tlearn: 8.8005878\ttotal: 804ms\tremaining: 719ms\n",
      "264:\tlearn: 8.7664653\ttotal: 808ms\tremaining: 716ms\n",
      "265:\tlearn: 8.7361958\ttotal: 812ms\tremaining: 714ms\n",
      "266:\tlearn: 8.7011317\ttotal: 816ms\tremaining: 712ms\n",
      "267:\tlearn: 8.6697431\ttotal: 819ms\tremaining: 709ms\n",
      "268:\tlearn: 8.6299228\ttotal: 821ms\tremaining: 705ms\n",
      "269:\tlearn: 8.5918631\ttotal: 824ms\tremaining: 702ms\n",
      "270:\tlearn: 8.5679172\ttotal: 826ms\tremaining: 698ms\n",
      "271:\tlearn: 8.5541475\ttotal: 829ms\tremaining: 694ms\n",
      "272:\tlearn: 8.5197012\ttotal: 831ms\tremaining: 691ms\n",
      "273:\tlearn: 8.4820486\ttotal: 834ms\tremaining: 688ms\n",
      "274:\tlearn: 8.4521954\ttotal: 837ms\tremaining: 684ms\n",
      "275:\tlearn: 8.4402426\ttotal: 839ms\tremaining: 681ms\n",
      "276:\tlearn: 8.4006984\ttotal: 841ms\tremaining: 677ms\n",
      "277:\tlearn: 8.3913454\ttotal: 843ms\tremaining: 674ms\n",
      "278:\tlearn: 8.3602463\ttotal: 846ms\tremaining: 670ms\n",
      "279:\tlearn: 8.3558498\ttotal: 848ms\tremaining: 666ms\n",
      "280:\tlearn: 8.3530612\ttotal: 850ms\tremaining: 662ms\n",
      "281:\tlearn: 8.3437654\ttotal: 852ms\tremaining: 659ms\n",
      "282:\tlearn: 8.3130937\ttotal: 854ms\tremaining: 655ms\n",
      "283:\tlearn: 8.2756864\ttotal: 857ms\tremaining: 652ms\n",
      "284:\tlearn: 8.2648689\ttotal: 859ms\tremaining: 648ms\n",
      "285:\tlearn: 8.2283062\ttotal: 863ms\tremaining: 645ms\n",
      "286:\tlearn: 8.2131369\ttotal: 866ms\tremaining: 643ms\n",
      "287:\tlearn: 8.1947894\ttotal: 870ms\tremaining: 641ms\n",
      "288:\tlearn: 8.1506358\ttotal: 874ms\tremaining: 638ms\n",
      "289:\tlearn: 8.1157955\ttotal: 878ms\tremaining: 636ms\n",
      "290:\tlearn: 8.0873106\ttotal: 882ms\tremaining: 634ms\n",
      "291:\tlearn: 8.0748644\ttotal: 886ms\tremaining: 631ms\n",
      "292:\tlearn: 8.0390577\ttotal: 888ms\tremaining: 628ms\n",
      "293:\tlearn: 8.0054652\ttotal: 891ms\tremaining: 624ms\n",
      "294:\tlearn: 7.9699985\ttotal: 893ms\tremaining: 621ms\n",
      "295:\tlearn: 7.9564545\ttotal: 895ms\tremaining: 617ms\n",
      "296:\tlearn: 7.9281895\ttotal: 898ms\tremaining: 614ms\n",
      "297:\tlearn: 7.9016999\ttotal: 901ms\tremaining: 610ms\n",
      "298:\tlearn: 7.8816482\ttotal: 904ms\tremaining: 607ms\n",
      "299:\tlearn: 7.8640307\ttotal: 907ms\tremaining: 605ms\n",
      "300:\tlearn: 7.8330208\ttotal: 910ms\tremaining: 602ms\n",
      "301:\tlearn: 7.8157166\ttotal: 914ms\tremaining: 599ms\n",
      "302:\tlearn: 7.7973242\ttotal: 918ms\tremaining: 597ms\n",
      "303:\tlearn: 7.7717895\ttotal: 920ms\tremaining: 593ms\n",
      "304:\tlearn: 7.7412229\ttotal: 923ms\tremaining: 590ms\n",
      "305:\tlearn: 7.7166368\ttotal: 926ms\tremaining: 587ms\n",
      "306:\tlearn: 7.6831389\ttotal: 928ms\tremaining: 583ms\n",
      "307:\tlearn: 7.6505216\ttotal: 931ms\tremaining: 580ms\n",
      "308:\tlearn: 7.6381725\ttotal: 933ms\tremaining: 577ms\n",
      "309:\tlearn: 7.6276398\ttotal: 936ms\tremaining: 573ms\n",
      "310:\tlearn: 7.5991417\ttotal: 938ms\tremaining: 570ms\n",
      "311:\tlearn: 7.5916405\ttotal: 940ms\tremaining: 567ms\n",
      "312:\tlearn: 7.5598549\ttotal: 942ms\tremaining: 563ms\n",
      "313:\tlearn: 7.5355357\ttotal: 945ms\tremaining: 560ms\n",
      "314:\tlearn: 7.5104023\ttotal: 947ms\tremaining: 556ms\n",
      "315:\tlearn: 7.5021927\ttotal: 949ms\tremaining: 553ms\n",
      "316:\tlearn: 7.4776907\ttotal: 951ms\tremaining: 549ms\n",
      "317:\tlearn: 7.4460508\ttotal: 954ms\tremaining: 546ms\n",
      "318:\tlearn: 7.4084864\ttotal: 956ms\tremaining: 543ms\n",
      "319:\tlearn: 7.3973414\ttotal: 959ms\tremaining: 539ms\n",
      "320:\tlearn: 7.3943454\ttotal: 961ms\tremaining: 536ms\n",
      "321:\tlearn: 7.3712231\ttotal: 964ms\tremaining: 533ms\n",
      "322:\tlearn: 7.3691787\ttotal: 966ms\tremaining: 529ms\n",
      "323:\tlearn: 7.3453926\ttotal: 968ms\tremaining: 526ms\n",
      "324:\tlearn: 7.3208686\ttotal: 970ms\tremaining: 523ms\n",
      "325:\tlearn: 7.3070551\ttotal: 973ms\tremaining: 519ms\n",
      "326:\tlearn: 7.2809605\ttotal: 975ms\tremaining: 516ms\n",
      "327:\tlearn: 7.2721044\ttotal: 977ms\tremaining: 512ms\n",
      "328:\tlearn: 7.2605307\ttotal: 980ms\tremaining: 509ms\n",
      "329:\tlearn: 7.2335530\ttotal: 982ms\tremaining: 506ms\n",
      "330:\tlearn: 7.2063418\ttotal: 984ms\tremaining: 502ms\n",
      "331:\tlearn: 7.1924264\ttotal: 987ms\tremaining: 499ms\n",
      "332:\tlearn: 7.1747645\ttotal: 990ms\tremaining: 496ms\n",
      "333:\tlearn: 7.1600644\ttotal: 992ms\tremaining: 493ms\n",
      "334:\tlearn: 7.1439008\ttotal: 994ms\tremaining: 490ms\n",
      "335:\tlearn: 7.1226039\ttotal: 996ms\tremaining: 486ms\n",
      "336:\tlearn: 7.0944884\ttotal: 999ms\tremaining: 483ms\n",
      "337:\tlearn: 7.0792944\ttotal: 1s\tremaining: 480ms\n",
      "338:\tlearn: 7.0558804\ttotal: 1s\tremaining: 477ms\n",
      "339:\tlearn: 7.0418697\ttotal: 1s\tremaining: 473ms\n",
      "340:\tlearn: 7.0399731\ttotal: 1.01s\tremaining: 470ms\n",
      "341:\tlearn: 7.0380140\ttotal: 1.01s\tremaining: 467ms\n",
      "342:\tlearn: 7.0177144\ttotal: 1.01s\tremaining: 464ms\n",
      "343:\tlearn: 7.0057470\ttotal: 1.01s\tremaining: 460ms\n",
      "344:\tlearn: 7.0031914\ttotal: 1.02s\tremaining: 458ms\n",
      "345:\tlearn: 6.9920547\ttotal: 1.02s\tremaining: 455ms\n",
      "346:\tlearn: 6.9776480\ttotal: 1.02s\tremaining: 452ms\n",
      "347:\tlearn: 6.9583190\ttotal: 1.03s\tremaining: 449ms\n",
      "348:\tlearn: 6.9331891\ttotal: 1.03s\tremaining: 446ms\n",
      "349:\tlearn: 6.9051121\ttotal: 1.03s\tremaining: 442ms\n",
      "350:\tlearn: 6.8685261\ttotal: 1.03s\tremaining: 439ms\n",
      "351:\tlearn: 6.8544496\ttotal: 1.04s\tremaining: 436ms\n",
      "352:\tlearn: 6.8300190\ttotal: 1.04s\tremaining: 433ms\n",
      "353:\tlearn: 6.8049739\ttotal: 1.04s\tremaining: 429ms\n",
      "354:\tlearn: 6.7896865\ttotal: 1.04s\tremaining: 426ms\n",
      "355:\tlearn: 6.7609126\ttotal: 1.04s\tremaining: 423ms\n",
      "356:\tlearn: 6.7500301\ttotal: 1.05s\tremaining: 420ms\n",
      "357:\tlearn: 6.7214932\ttotal: 1.05s\tremaining: 416ms\n",
      "358:\tlearn: 6.7068433\ttotal: 1.05s\tremaining: 413ms\n",
      "359:\tlearn: 6.7050268\ttotal: 1.05s\tremaining: 410ms\n",
      "360:\tlearn: 6.6807932\ttotal: 1.06s\tremaining: 407ms\n",
      "361:\tlearn: 6.6733923\ttotal: 1.06s\tremaining: 404ms\n",
      "362:\tlearn: 6.6532546\ttotal: 1.06s\tremaining: 401ms\n",
      "363:\tlearn: 6.6368063\ttotal: 1.06s\tremaining: 397ms\n",
      "364:\tlearn: 6.6318281\ttotal: 1.06s\tremaining: 394ms\n",
      "365:\tlearn: 6.6272403\ttotal: 1.07s\tremaining: 391ms\n",
      "366:\tlearn: 6.5969714\ttotal: 1.07s\tremaining: 388ms\n",
      "367:\tlearn: 6.5735651\ttotal: 1.07s\tremaining: 385ms\n",
      "368:\tlearn: 6.5551342\ttotal: 1.08s\tremaining: 382ms\n",
      "369:\tlearn: 6.5532721\ttotal: 1.08s\tremaining: 379ms\n",
      "370:\tlearn: 6.5313173\ttotal: 1.08s\tremaining: 376ms\n",
      "371:\tlearn: 6.5120188\ttotal: 1.08s\tremaining: 373ms\n",
      "372:\tlearn: 6.4998786\ttotal: 1.08s\tremaining: 370ms\n",
      "373:\tlearn: 6.4710821\ttotal: 1.09s\tremaining: 366ms\n",
      "374:\tlearn: 6.4414697\ttotal: 1.09s\tremaining: 363ms\n",
      "375:\tlearn: 6.4240042\ttotal: 1.09s\tremaining: 360ms\n",
      "376:\tlearn: 6.4103614\ttotal: 1.09s\tremaining: 357ms\n",
      "377:\tlearn: 6.3802454\ttotal: 1.1s\tremaining: 355ms\n",
      "378:\tlearn: 6.3726096\ttotal: 1.1s\tremaining: 352ms\n",
      "379:\tlearn: 6.3712124\ttotal: 1.11s\tremaining: 349ms\n",
      "380:\tlearn: 6.3695790\ttotal: 1.11s\tremaining: 347ms\n",
      "381:\tlearn: 6.3416613\ttotal: 1.11s\tremaining: 344ms\n",
      "382:\tlearn: 6.3171909\ttotal: 1.12s\tremaining: 342ms\n",
      "383:\tlearn: 6.3032170\ttotal: 1.12s\tremaining: 339ms\n",
      "384:\tlearn: 6.2857001\ttotal: 1.12s\tremaining: 336ms\n",
      "385:\tlearn: 6.2661774\ttotal: 1.13s\tremaining: 333ms\n",
      "386:\tlearn: 6.2635264\ttotal: 1.13s\tremaining: 330ms\n",
      "387:\tlearn: 6.2384151\ttotal: 1.13s\tremaining: 326ms\n",
      "388:\tlearn: 6.2369020\ttotal: 1.13s\tremaining: 323ms\n",
      "389:\tlearn: 6.2120420\ttotal: 1.14s\tremaining: 321ms\n",
      "390:\tlearn: 6.1925077\ttotal: 1.14s\tremaining: 318ms\n",
      "391:\tlearn: 6.1657678\ttotal: 1.14s\tremaining: 315ms\n",
      "392:\tlearn: 6.1454437\ttotal: 1.15s\tremaining: 312ms\n",
      "393:\tlearn: 6.1209240\ttotal: 1.15s\tremaining: 309ms\n",
      "394:\tlearn: 6.1055240\ttotal: 1.15s\tremaining: 306ms\n",
      "395:\tlearn: 6.0795021\ttotal: 1.15s\tremaining: 303ms\n",
      "396:\tlearn: 6.0770556\ttotal: 1.16s\tremaining: 300ms\n",
      "397:\tlearn: 6.0562731\ttotal: 1.16s\tremaining: 297ms\n",
      "398:\tlearn: 6.0544717\ttotal: 1.16s\tremaining: 294ms\n",
      "399:\tlearn: 6.0431197\ttotal: 1.16s\tremaining: 291ms\n",
      "400:\tlearn: 6.0265765\ttotal: 1.17s\tremaining: 288ms\n",
      "401:\tlearn: 6.0121128\ttotal: 1.17s\tremaining: 285ms\n",
      "402:\tlearn: 6.0014507\ttotal: 1.17s\tremaining: 282ms\n",
      "403:\tlearn: 5.9999161\ttotal: 1.17s\tremaining: 278ms\n",
      "404:\tlearn: 5.9652995\ttotal: 1.17s\tremaining: 275ms\n",
      "405:\tlearn: 5.9473691\ttotal: 1.18s\tremaining: 272ms\n",
      "406:\tlearn: 5.9437520\ttotal: 1.18s\tremaining: 269ms\n",
      "407:\tlearn: 5.9230528\ttotal: 1.18s\tremaining: 266ms\n",
      "408:\tlearn: 5.9110355\ttotal: 1.18s\tremaining: 263ms\n",
      "409:\tlearn: 5.8862796\ttotal: 1.19s\tremaining: 260ms\n",
      "410:\tlearn: 5.8681757\ttotal: 1.19s\tremaining: 257ms\n",
      "411:\tlearn: 5.8439617\ttotal: 1.19s\tremaining: 254ms\n",
      "412:\tlearn: 5.8246337\ttotal: 1.19s\tremaining: 251ms\n",
      "413:\tlearn: 5.8035868\ttotal: 1.19s\tremaining: 248ms\n",
      "414:\tlearn: 5.7664749\ttotal: 1.2s\tremaining: 245ms\n",
      "415:\tlearn: 5.7556169\ttotal: 1.2s\tremaining: 242ms\n",
      "416:\tlearn: 5.7376518\ttotal: 1.2s\tremaining: 239ms\n",
      "417:\tlearn: 5.7250045\ttotal: 1.2s\tremaining: 236ms\n",
      "418:\tlearn: 5.7234677\ttotal: 1.21s\tremaining: 233ms\n",
      "419:\tlearn: 5.7090789\ttotal: 1.21s\tremaining: 230ms\n",
      "420:\tlearn: 5.7074726\ttotal: 1.21s\tremaining: 227ms\n",
      "421:\tlearn: 5.6990083\ttotal: 1.21s\tremaining: 224ms\n",
      "422:\tlearn: 5.6785506\ttotal: 1.21s\tremaining: 221ms\n",
      "423:\tlearn: 5.6634264\ttotal: 1.22s\tremaining: 218ms\n",
      "424:\tlearn: 5.6398592\ttotal: 1.22s\tremaining: 215ms\n",
      "425:\tlearn: 5.6208321\ttotal: 1.22s\tremaining: 212ms\n",
      "426:\tlearn: 5.6059420\ttotal: 1.23s\tremaining: 210ms\n",
      "427:\tlearn: 5.5857675\ttotal: 1.23s\tremaining: 207ms\n",
      "428:\tlearn: 5.5759124\ttotal: 1.23s\tremaining: 204ms\n",
      "429:\tlearn: 5.5543923\ttotal: 1.24s\tremaining: 201ms\n",
      "430:\tlearn: 5.5340035\ttotal: 1.24s\tremaining: 199ms\n",
      "431:\tlearn: 5.5136770\ttotal: 1.25s\tremaining: 196ms\n",
      "432:\tlearn: 5.4955434\ttotal: 1.25s\tremaining: 193ms\n",
      "433:\tlearn: 5.4790819\ttotal: 1.25s\tremaining: 191ms\n",
      "434:\tlearn: 5.4624079\ttotal: 1.26s\tremaining: 188ms\n",
      "435:\tlearn: 5.4420628\ttotal: 1.26s\tremaining: 185ms\n",
      "436:\tlearn: 5.4347344\ttotal: 1.26s\tremaining: 182ms\n",
      "437:\tlearn: 5.4087986\ttotal: 1.27s\tremaining: 179ms\n",
      "438:\tlearn: 5.3884065\ttotal: 1.27s\tremaining: 177ms\n",
      "439:\tlearn: 5.3859232\ttotal: 1.27s\tremaining: 174ms\n",
      "440:\tlearn: 5.3609557\ttotal: 1.28s\tremaining: 171ms\n",
      "441:\tlearn: 5.3475521\ttotal: 1.28s\tremaining: 168ms\n",
      "442:\tlearn: 5.3302115\ttotal: 1.28s\tremaining: 165ms\n",
      "443:\tlearn: 5.3032247\ttotal: 1.28s\tremaining: 162ms\n",
      "444:\tlearn: 5.2847528\ttotal: 1.28s\tremaining: 159ms\n",
      "445:\tlearn: 5.2632670\ttotal: 1.29s\tremaining: 156ms\n",
      "446:\tlearn: 5.2597195\ttotal: 1.29s\tremaining: 153ms\n",
      "447:\tlearn: 5.2398187\ttotal: 1.29s\tremaining: 150ms\n",
      "448:\tlearn: 5.2240354\ttotal: 1.29s\tremaining: 147ms\n",
      "449:\tlearn: 5.2143930\ttotal: 1.3s\tremaining: 144ms\n",
      "450:\tlearn: 5.2072143\ttotal: 1.3s\tremaining: 141ms\n",
      "451:\tlearn: 5.2055612\ttotal: 1.3s\tremaining: 138ms\n",
      "452:\tlearn: 5.1850021\ttotal: 1.3s\tremaining: 135ms\n",
      "453:\tlearn: 5.1827035\ttotal: 1.3s\tremaining: 132ms\n",
      "454:\tlearn: 5.1689352\ttotal: 1.31s\tremaining: 129ms\n",
      "455:\tlearn: 5.1591553\ttotal: 1.31s\tremaining: 126ms\n",
      "456:\tlearn: 5.1533080\ttotal: 1.31s\tremaining: 124ms\n",
      "457:\tlearn: 5.1401611\ttotal: 1.31s\tremaining: 121ms\n",
      "458:\tlearn: 5.1222339\ttotal: 1.32s\tremaining: 118ms\n",
      "459:\tlearn: 5.1068953\ttotal: 1.32s\tremaining: 115ms\n",
      "460:\tlearn: 5.0930753\ttotal: 1.32s\tremaining: 112ms\n",
      "461:\tlearn: 5.0732900\ttotal: 1.32s\tremaining: 109ms\n",
      "462:\tlearn: 5.0723419\ttotal: 1.33s\tremaining: 106ms\n",
      "463:\tlearn: 5.0569154\ttotal: 1.33s\tremaining: 103ms\n",
      "464:\tlearn: 5.0507774\ttotal: 1.33s\tremaining: 100ms\n",
      "465:\tlearn: 5.0362126\ttotal: 1.33s\tremaining: 97.2ms\n",
      "466:\tlearn: 5.0160557\ttotal: 1.33s\tremaining: 94.3ms\n",
      "467:\tlearn: 5.0075587\ttotal: 1.34s\tremaining: 91.4ms\n",
      "468:\tlearn: 4.9895113\ttotal: 1.34s\tremaining: 88.6ms\n",
      "469:\tlearn: 4.9803491\ttotal: 1.34s\tremaining: 85.7ms\n",
      "470:\tlearn: 4.9663266\ttotal: 1.34s\tremaining: 82.8ms\n",
      "471:\tlearn: 4.9552754\ttotal: 1.35s\tremaining: 79.9ms\n",
      "472:\tlearn: 4.9384181\ttotal: 1.35s\tremaining: 77ms\n",
      "473:\tlearn: 4.9213613\ttotal: 1.35s\tremaining: 74.1ms\n",
      "474:\tlearn: 4.9112770\ttotal: 1.35s\tremaining: 71.3ms\n",
      "475:\tlearn: 4.9096279\ttotal: 1.36s\tremaining: 68.4ms\n",
      "476:\tlearn: 4.8957220\ttotal: 1.36s\tremaining: 65.5ms\n",
      "477:\tlearn: 4.8817653\ttotal: 1.36s\tremaining: 62.6ms\n",
      "478:\tlearn: 4.8708536\ttotal: 1.36s\tremaining: 59.8ms\n",
      "479:\tlearn: 4.8626989\ttotal: 1.36s\tremaining: 56.9ms\n",
      "480:\tlearn: 4.8609470\ttotal: 1.37s\tremaining: 54.1ms\n",
      "481:\tlearn: 4.8366743\ttotal: 1.37s\tremaining: 51.3ms\n",
      "482:\tlearn: 4.8209559\ttotal: 1.38s\tremaining: 48.5ms\n",
      "483:\tlearn: 4.8021186\ttotal: 1.38s\tremaining: 45.7ms\n",
      "484:\tlearn: 4.7877892\ttotal: 1.39s\tremaining: 42.8ms\n",
      "485:\tlearn: 4.7757577\ttotal: 1.39s\tremaining: 40ms\n",
      "486:\tlearn: 4.7739624\ttotal: 1.39s\tremaining: 37.2ms\n",
      "487:\tlearn: 4.7587186\ttotal: 1.4s\tremaining: 34.4ms\n",
      "488:\tlearn: 4.7510179\ttotal: 1.4s\tremaining: 31.5ms\n",
      "489:\tlearn: 4.7498504\ttotal: 1.4s\tremaining: 28.6ms\n",
      "490:\tlearn: 4.7317980\ttotal: 1.41s\tremaining: 25.8ms\n",
      "491:\tlearn: 4.7258481\ttotal: 1.41s\tremaining: 22.9ms\n",
      "492:\tlearn: 4.7190659\ttotal: 1.41s\tremaining: 20.1ms\n",
      "493:\tlearn: 4.7052761\ttotal: 1.42s\tremaining: 17.2ms\n",
      "494:\tlearn: 4.6910279\ttotal: 1.42s\tremaining: 14.4ms\n",
      "495:\tlearn: 4.6762759\ttotal: 1.42s\tremaining: 11.5ms\n",
      "496:\tlearn: 4.6749305\ttotal: 1.43s\tremaining: 8.62ms\n",
      "497:\tlearn: 4.6737164\ttotal: 1.43s\tremaining: 5.75ms\n",
      "498:\tlearn: 4.6590321\ttotal: 1.44s\tremaining: 2.88ms\n",
      "499:\tlearn: 4.6363780\ttotal: 1.44s\tremaining: 0us\n",
      "Learning rate set to 0.075139\n",
      "0:\tlearn: 29.3822416\ttotal: 3.48ms\tremaining: 1.74s\n",
      "1:\tlearn: 28.6259787\ttotal: 6.48ms\tremaining: 1.61s\n",
      "2:\tlearn: 27.8284998\ttotal: 9.28ms\tremaining: 1.54s\n",
      "3:\tlearn: 27.1542570\ttotal: 12ms\tremaining: 1.48s\n",
      "4:\tlearn: 26.5146249\ttotal: 14.5ms\tremaining: 1.43s\n",
      "5:\tlearn: 25.9241203\ttotal: 19.1ms\tremaining: 1.57s\n",
      "6:\tlearn: 25.3261972\ttotal: 23.8ms\tremaining: 1.68s\n",
      "7:\tlearn: 24.8296640\ttotal: 28.6ms\tremaining: 1.76s\n",
      "8:\tlearn: 24.3650654\ttotal: 33.1ms\tremaining: 1.81s\n",
      "9:\tlearn: 23.9451803\ttotal: 37.9ms\tremaining: 1.85s\n",
      "10:\tlearn: 23.5113296\ttotal: 42.7ms\tremaining: 1.9s\n",
      "11:\tlearn: 23.1213872\ttotal: 47.3ms\tremaining: 1.92s\n",
      "12:\tlearn: 22.8138470\ttotal: 51.7ms\tremaining: 1.94s\n",
      "13:\tlearn: 22.4922914\ttotal: 56.2ms\tremaining: 1.95s\n",
      "14:\tlearn: 22.1789790\ttotal: 60.8ms\tremaining: 1.97s\n",
      "15:\tlearn: 21.8427766\ttotal: 65.4ms\tremaining: 1.98s\n",
      "16:\tlearn: 21.5589293\ttotal: 70ms\tremaining: 1.99s\n",
      "17:\tlearn: 21.2734150\ttotal: 74.7ms\tremaining: 2s\n",
      "18:\tlearn: 21.1034202\ttotal: 79.2ms\tremaining: 2s\n",
      "19:\tlearn: 20.8573038\ttotal: 84ms\tremaining: 2.02s\n",
      "20:\tlearn: 20.6807806\ttotal: 88.7ms\tremaining: 2.02s\n",
      "21:\tlearn: 20.4596502\ttotal: 93.4ms\tremaining: 2.03s\n",
      "22:\tlearn: 20.3125785\ttotal: 97.9ms\tremaining: 2.03s\n",
      "23:\tlearn: 20.1199013\ttotal: 102ms\tremaining: 2.03s\n",
      "24:\tlearn: 19.9531167\ttotal: 107ms\tremaining: 2.03s\n",
      "25:\tlearn: 19.7834131\ttotal: 112ms\tremaining: 2.04s\n",
      "26:\tlearn: 19.6791215\ttotal: 116ms\tremaining: 2.03s\n",
      "27:\tlearn: 19.5062804\ttotal: 121ms\tremaining: 2.03s\n",
      "28:\tlearn: 19.3892128\ttotal: 125ms\tremaining: 2.03s\n",
      "29:\tlearn: 19.2673224\ttotal: 129ms\tremaining: 2.03s\n",
      "30:\tlearn: 19.1407628\ttotal: 134ms\tremaining: 2.02s\n",
      "31:\tlearn: 19.0596310\ttotal: 138ms\tremaining: 2.02s\n",
      "32:\tlearn: 18.9665405\ttotal: 142ms\tremaining: 2.02s\n",
      "33:\tlearn: 18.8487569\ttotal: 147ms\tremaining: 2.01s\n",
      "34:\tlearn: 18.7227529\ttotal: 152ms\tremaining: 2.01s\n",
      "35:\tlearn: 18.6357193\ttotal: 156ms\tremaining: 2.01s\n",
      "36:\tlearn: 18.5422876\ttotal: 161ms\tremaining: 2.01s\n",
      "37:\tlearn: 18.4557313\ttotal: 165ms\tremaining: 2s\n",
      "38:\tlearn: 18.3924093\ttotal: 167ms\tremaining: 1.98s\n",
      "39:\tlearn: 18.3370524\ttotal: 170ms\tremaining: 1.95s\n",
      "40:\tlearn: 18.2530428\ttotal: 174ms\tremaining: 1.95s\n",
      "41:\tlearn: 18.1615192\ttotal: 179ms\tremaining: 1.95s\n",
      "42:\tlearn: 18.0651495\ttotal: 184ms\tremaining: 1.95s\n",
      "43:\tlearn: 18.0097129\ttotal: 188ms\tremaining: 1.95s\n",
      "44:\tlearn: 17.9367767\ttotal: 192ms\tremaining: 1.94s\n",
      "45:\tlearn: 17.8874331\ttotal: 196ms\tremaining: 1.94s\n",
      "46:\tlearn: 17.8220386\ttotal: 200ms\tremaining: 1.93s\n",
      "47:\tlearn: 17.7726906\ttotal: 204ms\tremaining: 1.92s\n",
      "48:\tlearn: 17.7463297\ttotal: 207ms\tremaining: 1.9s\n",
      "49:\tlearn: 17.7061212\ttotal: 209ms\tremaining: 1.88s\n",
      "50:\tlearn: 17.6639183\ttotal: 212ms\tremaining: 1.86s\n",
      "51:\tlearn: 17.5812277\ttotal: 214ms\tremaining: 1.84s\n",
      "52:\tlearn: 17.4944838\ttotal: 217ms\tremaining: 1.83s\n",
      "53:\tlearn: 17.4310130\ttotal: 219ms\tremaining: 1.81s\n",
      "54:\tlearn: 17.3763136\ttotal: 221ms\tremaining: 1.79s\n",
      "55:\tlearn: 17.3444931\ttotal: 224ms\tremaining: 1.78s\n",
      "56:\tlearn: 17.2765323\ttotal: 227ms\tremaining: 1.76s\n",
      "57:\tlearn: 17.2326419\ttotal: 229ms\tremaining: 1.75s\n",
      "58:\tlearn: 17.2082617\ttotal: 232ms\tremaining: 1.73s\n",
      "59:\tlearn: 17.1468226\ttotal: 236ms\tremaining: 1.73s\n",
      "60:\tlearn: 17.0825416\ttotal: 240ms\tremaining: 1.72s\n",
      "61:\tlearn: 17.0098793\ttotal: 244ms\tremaining: 1.72s\n",
      "62:\tlearn: 16.9789379\ttotal: 248ms\tremaining: 1.72s\n",
      "63:\tlearn: 16.9332919\ttotal: 252ms\tremaining: 1.72s\n",
      "64:\tlearn: 16.8858265\ttotal: 256ms\tremaining: 1.72s\n",
      "65:\tlearn: 16.8433664\ttotal: 261ms\tremaining: 1.71s\n",
      "66:\tlearn: 16.8156981\ttotal: 264ms\tremaining: 1.71s\n",
      "67:\tlearn: 16.7951811\ttotal: 267ms\tremaining: 1.7s\n",
      "68:\tlearn: 16.7486618\ttotal: 270ms\tremaining: 1.68s\n",
      "69:\tlearn: 16.7102453\ttotal: 272ms\tremaining: 1.67s\n",
      "70:\tlearn: 16.6683758\ttotal: 275ms\tremaining: 1.66s\n",
      "71:\tlearn: 16.6379710\ttotal: 278ms\tremaining: 1.65s\n",
      "72:\tlearn: 16.6192172\ttotal: 281ms\tremaining: 1.64s\n",
      "73:\tlearn: 16.5657292\ttotal: 283ms\tremaining: 1.63s\n",
      "74:\tlearn: 16.5350480\ttotal: 286ms\tremaining: 1.62s\n",
      "75:\tlearn: 16.4735756\ttotal: 288ms\tremaining: 1.61s\n",
      "76:\tlearn: 16.4129392\ttotal: 291ms\tremaining: 1.6s\n",
      "77:\tlearn: 16.3790396\ttotal: 294ms\tremaining: 1.59s\n",
      "78:\tlearn: 16.3448528\ttotal: 296ms\tremaining: 1.58s\n",
      "79:\tlearn: 16.3245037\ttotal: 299ms\tremaining: 1.57s\n",
      "80:\tlearn: 16.2989094\ttotal: 302ms\tremaining: 1.56s\n",
      "81:\tlearn: 16.2770587\ttotal: 304ms\tremaining: 1.55s\n",
      "82:\tlearn: 16.2162466\ttotal: 307ms\tremaining: 1.54s\n",
      "83:\tlearn: 16.1829373\ttotal: 310ms\tremaining: 1.53s\n",
      "84:\tlearn: 16.1453607\ttotal: 313ms\tremaining: 1.53s\n",
      "85:\tlearn: 16.1181533\ttotal: 315ms\tremaining: 1.52s\n",
      "86:\tlearn: 16.0427742\ttotal: 319ms\tremaining: 1.51s\n",
      "87:\tlearn: 16.0135140\ttotal: 322ms\tremaining: 1.5s\n",
      "88:\tlearn: 15.9909562\ttotal: 324ms\tremaining: 1.5s\n",
      "89:\tlearn: 15.9726450\ttotal: 327ms\tremaining: 1.49s\n",
      "90:\tlearn: 15.9308091\ttotal: 330ms\tremaining: 1.48s\n",
      "91:\tlearn: 15.8947722\ttotal: 332ms\tremaining: 1.47s\n",
      "92:\tlearn: 15.8684239\ttotal: 335ms\tremaining: 1.46s\n",
      "93:\tlearn: 15.7931657\ttotal: 337ms\tremaining: 1.46s\n",
      "94:\tlearn: 15.7636543\ttotal: 340ms\tremaining: 1.45s\n",
      "95:\tlearn: 15.7278720\ttotal: 343ms\tremaining: 1.44s\n",
      "96:\tlearn: 15.6877982\ttotal: 345ms\tremaining: 1.43s\n",
      "97:\tlearn: 15.6653250\ttotal: 349ms\tremaining: 1.43s\n",
      "98:\tlearn: 15.6261503\ttotal: 351ms\tremaining: 1.42s\n",
      "99:\tlearn: 15.5963034\ttotal: 354ms\tremaining: 1.42s\n",
      "100:\tlearn: 15.5299238\ttotal: 357ms\tremaining: 1.41s\n",
      "101:\tlearn: 15.5036022\ttotal: 360ms\tremaining: 1.4s\n",
      "102:\tlearn: 15.4840776\ttotal: 365ms\tremaining: 1.41s\n",
      "103:\tlearn: 15.4508305\ttotal: 370ms\tremaining: 1.41s\n",
      "104:\tlearn: 15.4324555\ttotal: 374ms\tremaining: 1.41s\n",
      "105:\tlearn: 15.4145478\ttotal: 379ms\tremaining: 1.41s\n",
      "106:\tlearn: 15.3987965\ttotal: 383ms\tremaining: 1.41s\n",
      "107:\tlearn: 15.3746691\ttotal: 388ms\tremaining: 1.41s\n",
      "108:\tlearn: 15.3325852\ttotal: 392ms\tremaining: 1.41s\n",
      "109:\tlearn: 15.3287990\ttotal: 395ms\tremaining: 1.4s\n",
      "110:\tlearn: 15.2944802\ttotal: 398ms\tremaining: 1.39s\n",
      "111:\tlearn: 15.2713378\ttotal: 400ms\tremaining: 1.39s\n",
      "112:\tlearn: 15.2411294\ttotal: 403ms\tremaining: 1.38s\n",
      "113:\tlearn: 15.2364498\ttotal: 405ms\tremaining: 1.37s\n",
      "114:\tlearn: 15.2024811\ttotal: 408ms\tremaining: 1.37s\n",
      "115:\tlearn: 15.1577777\ttotal: 411ms\tremaining: 1.36s\n",
      "116:\tlearn: 15.1058254\ttotal: 414ms\tremaining: 1.35s\n",
      "117:\tlearn: 15.0514690\ttotal: 416ms\tremaining: 1.35s\n",
      "118:\tlearn: 15.0470493\ttotal: 419ms\tremaining: 1.34s\n",
      "119:\tlearn: 15.0316929\ttotal: 421ms\tremaining: 1.33s\n",
      "120:\tlearn: 15.0217592\ttotal: 424ms\tremaining: 1.33s\n",
      "121:\tlearn: 14.9950452\ttotal: 426ms\tremaining: 1.32s\n",
      "122:\tlearn: 14.9900380\ttotal: 429ms\tremaining: 1.31s\n",
      "123:\tlearn: 14.9551903\ttotal: 432ms\tremaining: 1.31s\n",
      "124:\tlearn: 14.9509267\ttotal: 434ms\tremaining: 1.3s\n",
      "125:\tlearn: 14.9173198\ttotal: 437ms\tremaining: 1.3s\n",
      "126:\tlearn: 14.8600742\ttotal: 440ms\tremaining: 1.29s\n",
      "127:\tlearn: 14.8221952\ttotal: 443ms\tremaining: 1.29s\n",
      "128:\tlearn: 14.7737306\ttotal: 445ms\tremaining: 1.28s\n",
      "129:\tlearn: 14.7540450\ttotal: 449ms\tremaining: 1.28s\n",
      "130:\tlearn: 14.7036871\ttotal: 454ms\tremaining: 1.28s\n",
      "131:\tlearn: 14.6700445\ttotal: 458ms\tremaining: 1.28s\n",
      "132:\tlearn: 14.6458052\ttotal: 462ms\tremaining: 1.27s\n",
      "133:\tlearn: 14.6104204\ttotal: 467ms\tremaining: 1.27s\n",
      "134:\tlearn: 14.5667956\ttotal: 471ms\tremaining: 1.27s\n",
      "135:\tlearn: 14.5272916\ttotal: 475ms\tremaining: 1.27s\n",
      "136:\tlearn: 14.4983848\ttotal: 480ms\tremaining: 1.27s\n",
      "137:\tlearn: 14.4706187\ttotal: 484ms\tremaining: 1.27s\n",
      "138:\tlearn: 14.4252147\ttotal: 489ms\tremaining: 1.27s\n",
      "139:\tlearn: 14.3914934\ttotal: 493ms\tremaining: 1.27s\n",
      "140:\tlearn: 14.3328599\ttotal: 496ms\tremaining: 1.26s\n",
      "141:\tlearn: 14.2981747\ttotal: 500ms\tremaining: 1.26s\n",
      "142:\tlearn: 14.2630418\ttotal: 505ms\tremaining: 1.26s\n",
      "143:\tlearn: 14.2302599\ttotal: 510ms\tremaining: 1.26s\n",
      "144:\tlearn: 14.2215514\ttotal: 515ms\tremaining: 1.26s\n",
      "145:\tlearn: 14.1959124\ttotal: 519ms\tremaining: 1.26s\n",
      "146:\tlearn: 14.1920530\ttotal: 523ms\tremaining: 1.25s\n",
      "147:\tlearn: 14.1670480\ttotal: 526ms\tremaining: 1.25s\n",
      "148:\tlearn: 14.1202667\ttotal: 530ms\tremaining: 1.25s\n",
      "149:\tlearn: 14.0866803\ttotal: 533ms\tremaining: 1.24s\n",
      "150:\tlearn: 14.0606020\ttotal: 538ms\tremaining: 1.24s\n",
      "151:\tlearn: 14.0324814\ttotal: 542ms\tremaining: 1.24s\n",
      "152:\tlearn: 13.9937734\ttotal: 546ms\tremaining: 1.24s\n",
      "153:\tlearn: 13.9490688\ttotal: 551ms\tremaining: 1.24s\n",
      "154:\tlearn: 13.9176265\ttotal: 555ms\tremaining: 1.23s\n",
      "155:\tlearn: 13.8845620\ttotal: 559ms\tremaining: 1.23s\n",
      "156:\tlearn: 13.8457885\ttotal: 563ms\tremaining: 1.23s\n",
      "157:\tlearn: 13.7958735\ttotal: 568ms\tremaining: 1.23s\n",
      "158:\tlearn: 13.7486339\ttotal: 572ms\tremaining: 1.23s\n",
      "159:\tlearn: 13.7273679\ttotal: 577ms\tremaining: 1.23s\n",
      "160:\tlearn: 13.7025219\ttotal: 581ms\tremaining: 1.22s\n",
      "161:\tlearn: 13.6673694\ttotal: 586ms\tremaining: 1.22s\n",
      "162:\tlearn: 13.6333184\ttotal: 589ms\tremaining: 1.22s\n",
      "163:\tlearn: 13.6016374\ttotal: 592ms\tremaining: 1.21s\n",
      "164:\tlearn: 13.5796205\ttotal: 595ms\tremaining: 1.21s\n",
      "165:\tlearn: 13.5511085\ttotal: 597ms\tremaining: 1.2s\n",
      "166:\tlearn: 13.5471442\ttotal: 600ms\tremaining: 1.2s\n",
      "167:\tlearn: 13.5054237\ttotal: 603ms\tremaining: 1.19s\n",
      "168:\tlearn: 13.4694858\ttotal: 606ms\tremaining: 1.19s\n",
      "169:\tlearn: 13.4382124\ttotal: 608ms\tremaining: 1.18s\n",
      "170:\tlearn: 13.4173506\ttotal: 611ms\tremaining: 1.18s\n",
      "171:\tlearn: 13.3848987\ttotal: 614ms\tremaining: 1.17s\n",
      "172:\tlearn: 13.3679121\ttotal: 617ms\tremaining: 1.17s\n",
      "173:\tlearn: 13.3277843\ttotal: 619ms\tremaining: 1.16s\n",
      "174:\tlearn: 13.2969574\ttotal: 622ms\tremaining: 1.16s\n",
      "175:\tlearn: 13.2930889\ttotal: 625ms\tremaining: 1.15s\n",
      "176:\tlearn: 13.2640128\ttotal: 628ms\tremaining: 1.15s\n",
      "177:\tlearn: 13.2437369\ttotal: 632ms\tremaining: 1.14s\n",
      "178:\tlearn: 13.2401779\ttotal: 636ms\tremaining: 1.14s\n",
      "179:\tlearn: 13.2097947\ttotal: 640ms\tremaining: 1.14s\n",
      "180:\tlearn: 13.1871864\ttotal: 644ms\tremaining: 1.13s\n",
      "181:\tlearn: 13.1538357\ttotal: 648ms\tremaining: 1.13s\n",
      "182:\tlearn: 13.1373570\ttotal: 652ms\tremaining: 1.13s\n",
      "183:\tlearn: 13.0906106\ttotal: 656ms\tremaining: 1.13s\n",
      "184:\tlearn: 13.0617992\ttotal: 660ms\tremaining: 1.12s\n",
      "185:\tlearn: 13.0522679\ttotal: 664ms\tremaining: 1.12s\n",
      "186:\tlearn: 13.0321177\ttotal: 668ms\tremaining: 1.12s\n",
      "187:\tlearn: 13.0044265\ttotal: 672ms\tremaining: 1.11s\n",
      "188:\tlearn: 12.9992361\ttotal: 676ms\tremaining: 1.11s\n",
      "189:\tlearn: 12.9868024\ttotal: 679ms\tremaining: 1.11s\n",
      "190:\tlearn: 12.9562849\ttotal: 682ms\tremaining: 1.1s\n",
      "191:\tlearn: 12.9347530\ttotal: 684ms\tremaining: 1.1s\n",
      "192:\tlearn: 12.9139823\ttotal: 688ms\tremaining: 1.09s\n",
      "193:\tlearn: 12.8915729\ttotal: 692ms\tremaining: 1.09s\n",
      "194:\tlearn: 12.8635213\ttotal: 696ms\tremaining: 1.09s\n",
      "195:\tlearn: 12.8293983\ttotal: 699ms\tremaining: 1.08s\n",
      "196:\tlearn: 12.7954439\ttotal: 702ms\tremaining: 1.08s\n",
      "197:\tlearn: 12.7671956\ttotal: 704ms\tremaining: 1.07s\n",
      "198:\tlearn: 12.7409704\ttotal: 708ms\tremaining: 1.07s\n",
      "199:\tlearn: 12.7165503\ttotal: 712ms\tremaining: 1.07s\n",
      "200:\tlearn: 12.6845778\ttotal: 717ms\tremaining: 1.07s\n",
      "201:\tlearn: 12.6564658\ttotal: 721ms\tremaining: 1.06s\n",
      "202:\tlearn: 12.6224818\ttotal: 725ms\tremaining: 1.06s\n",
      "203:\tlearn: 12.6164087\ttotal: 729ms\tremaining: 1.06s\n",
      "204:\tlearn: 12.5934987\ttotal: 733ms\tremaining: 1.05s\n",
      "205:\tlearn: 12.5727578\ttotal: 738ms\tremaining: 1.05s\n",
      "206:\tlearn: 12.5477981\ttotal: 742ms\tremaining: 1.05s\n",
      "207:\tlearn: 12.5325586\ttotal: 745ms\tremaining: 1.04s\n",
      "208:\tlearn: 12.5297092\ttotal: 748ms\tremaining: 1.04s\n",
      "209:\tlearn: 12.5269865\ttotal: 750ms\tremaining: 1.04s\n",
      "210:\tlearn: 12.5032735\ttotal: 754ms\tremaining: 1.03s\n",
      "211:\tlearn: 12.4715952\ttotal: 756ms\tremaining: 1.03s\n",
      "212:\tlearn: 12.4500199\ttotal: 759ms\tremaining: 1.02s\n",
      "213:\tlearn: 12.4473495\ttotal: 762ms\tremaining: 1.02s\n",
      "214:\tlearn: 12.4270751\ttotal: 765ms\tremaining: 1.01s\n",
      "215:\tlearn: 12.3928617\ttotal: 768ms\tremaining: 1.01s\n",
      "216:\tlearn: 12.3739484\ttotal: 770ms\tremaining: 1s\n",
      "217:\tlearn: 12.3229557\ttotal: 773ms\tremaining: 1000ms\n",
      "218:\tlearn: 12.3204132\ttotal: 775ms\tremaining: 995ms\n",
      "219:\tlearn: 12.3179969\ttotal: 778ms\tremaining: 990ms\n",
      "220:\tlearn: 12.2833764\ttotal: 781ms\tremaining: 986ms\n",
      "221:\tlearn: 12.2470492\ttotal: 784ms\tremaining: 981ms\n",
      "222:\tlearn: 12.2117290\ttotal: 786ms\tremaining: 977ms\n",
      "223:\tlearn: 12.1962549\ttotal: 789ms\tremaining: 972ms\n",
      "224:\tlearn: 12.1725203\ttotal: 793ms\tremaining: 969ms\n",
      "225:\tlearn: 12.1521961\ttotal: 795ms\tremaining: 964ms\n",
      "226:\tlearn: 12.1286339\ttotal: 798ms\tremaining: 960ms\n",
      "227:\tlearn: 12.1260885\ttotal: 801ms\tremaining: 955ms\n",
      "228:\tlearn: 12.1055105\ttotal: 804ms\tremaining: 951ms\n",
      "229:\tlearn: 12.0776134\ttotal: 806ms\tremaining: 946ms\n",
      "230:\tlearn: 12.0437874\ttotal: 809ms\tremaining: 942ms\n",
      "231:\tlearn: 12.0198782\ttotal: 812ms\tremaining: 938ms\n",
      "232:\tlearn: 12.0008188\ttotal: 814ms\tremaining: 933ms\n",
      "233:\tlearn: 11.9943831\ttotal: 817ms\tremaining: 929ms\n",
      "234:\tlearn: 11.9743959\ttotal: 820ms\tremaining: 924ms\n",
      "235:\tlearn: 11.9413322\ttotal: 823ms\tremaining: 920ms\n",
      "236:\tlearn: 11.9189505\ttotal: 825ms\tremaining: 916ms\n",
      "237:\tlearn: 11.9078064\ttotal: 828ms\tremaining: 911ms\n",
      "238:\tlearn: 11.8797386\ttotal: 831ms\tremaining: 907ms\n",
      "239:\tlearn: 11.8331250\ttotal: 833ms\tremaining: 903ms\n",
      "240:\tlearn: 11.8090898\ttotal: 836ms\tremaining: 899ms\n",
      "241:\tlearn: 11.7778200\ttotal: 839ms\tremaining: 894ms\n",
      "242:\tlearn: 11.7641356\ttotal: 842ms\tremaining: 890ms\n",
      "243:\tlearn: 11.7613885\ttotal: 844ms\tremaining: 886ms\n",
      "244:\tlearn: 11.7390118\ttotal: 847ms\tremaining: 881ms\n",
      "245:\tlearn: 11.7251469\ttotal: 850ms\tremaining: 877ms\n",
      "246:\tlearn: 11.6960184\ttotal: 852ms\tremaining: 873ms\n",
      "247:\tlearn: 11.6835770\ttotal: 855ms\tremaining: 869ms\n",
      "248:\tlearn: 11.6755522\ttotal: 857ms\tremaining: 864ms\n",
      "249:\tlearn: 11.6319828\ttotal: 860ms\tremaining: 860ms\n",
      "250:\tlearn: 11.6045951\ttotal: 863ms\tremaining: 856ms\n",
      "251:\tlearn: 11.5738728\ttotal: 866ms\tremaining: 852ms\n",
      "252:\tlearn: 11.5556902\ttotal: 869ms\tremaining: 848ms\n",
      "253:\tlearn: 11.5327241\ttotal: 871ms\tremaining: 844ms\n",
      "254:\tlearn: 11.5129096\ttotal: 874ms\tremaining: 840ms\n",
      "255:\tlearn: 11.5072340\ttotal: 877ms\tremaining: 836ms\n",
      "256:\tlearn: 11.4928405\ttotal: 879ms\tremaining: 832ms\n",
      "257:\tlearn: 11.4789681\ttotal: 884ms\tremaining: 829ms\n",
      "258:\tlearn: 11.4575294\ttotal: 888ms\tremaining: 826ms\n",
      "259:\tlearn: 11.4381020\ttotal: 892ms\tremaining: 824ms\n",
      "260:\tlearn: 11.4152667\ttotal: 897ms\tremaining: 821ms\n",
      "261:\tlearn: 11.3864054\ttotal: 901ms\tremaining: 818ms\n",
      "262:\tlearn: 11.3732441\ttotal: 904ms\tremaining: 815ms\n",
      "263:\tlearn: 11.3601647\ttotal: 907ms\tremaining: 811ms\n",
      "264:\tlearn: 11.3182791\ttotal: 910ms\tremaining: 807ms\n",
      "265:\tlearn: 11.3054108\ttotal: 913ms\tremaining: 803ms\n",
      "266:\tlearn: 11.2929058\ttotal: 915ms\tremaining: 799ms\n",
      "267:\tlearn: 11.2696143\ttotal: 918ms\tremaining: 795ms\n",
      "268:\tlearn: 11.2510770\ttotal: 920ms\tremaining: 790ms\n",
      "269:\tlearn: 11.2489270\ttotal: 923ms\tremaining: 786ms\n",
      "270:\tlearn: 11.2146324\ttotal: 926ms\tremaining: 782ms\n",
      "271:\tlearn: 11.2091129\ttotal: 928ms\tremaining: 778ms\n",
      "272:\tlearn: 11.1937327\ttotal: 931ms\tremaining: 774ms\n",
      "273:\tlearn: 11.1662145\ttotal: 934ms\tremaining: 770ms\n",
      "274:\tlearn: 11.1337614\ttotal: 936ms\tremaining: 766ms\n",
      "275:\tlearn: 11.1085371\ttotal: 939ms\tremaining: 762ms\n",
      "276:\tlearn: 11.0985734\ttotal: 942ms\tremaining: 758ms\n",
      "277:\tlearn: 11.0822704\ttotal: 944ms\tremaining: 754ms\n",
      "278:\tlearn: 11.0762747\ttotal: 947ms\tremaining: 750ms\n",
      "279:\tlearn: 11.0741893\ttotal: 950ms\tremaining: 746ms\n",
      "280:\tlearn: 11.0562680\ttotal: 952ms\tremaining: 742ms\n",
      "281:\tlearn: 11.0521485\ttotal: 955ms\tremaining: 738ms\n",
      "282:\tlearn: 11.0349363\ttotal: 960ms\tremaining: 736ms\n",
      "283:\tlearn: 11.0142445\ttotal: 964ms\tremaining: 733ms\n",
      "284:\tlearn: 10.9856019\ttotal: 968ms\tremaining: 730ms\n",
      "285:\tlearn: 10.9677725\ttotal: 972ms\tremaining: 727ms\n",
      "286:\tlearn: 10.9468630\ttotal: 976ms\tremaining: 725ms\n",
      "287:\tlearn: 10.9067988\ttotal: 981ms\tremaining: 722ms\n",
      "288:\tlearn: 10.8820899\ttotal: 985ms\tremaining: 719ms\n",
      "289:\tlearn: 10.8800116\ttotal: 989ms\tremaining: 716ms\n",
      "290:\tlearn: 10.8512766\ttotal: 993ms\tremaining: 713ms\n",
      "291:\tlearn: 10.8365437\ttotal: 997ms\tremaining: 710ms\n",
      "292:\tlearn: 10.8198229\ttotal: 1s\tremaining: 707ms\n",
      "293:\tlearn: 10.8156387\ttotal: 1s\tremaining: 705ms\n",
      "294:\tlearn: 10.7992022\ttotal: 1.01s\tremaining: 702ms\n",
      "295:\tlearn: 10.7974961\ttotal: 1.01s\tremaining: 699ms\n",
      "296:\tlearn: 10.7709252\ttotal: 1.02s\tremaining: 697ms\n",
      "297:\tlearn: 10.7352491\ttotal: 1.02s\tremaining: 694ms\n",
      "298:\tlearn: 10.7150870\ttotal: 1.03s\tremaining: 691ms\n",
      "299:\tlearn: 10.6987929\ttotal: 1.03s\tremaining: 688ms\n",
      "300:\tlearn: 10.6677505\ttotal: 1.04s\tremaining: 686ms\n",
      "301:\tlearn: 10.6568112\ttotal: 1.04s\tremaining: 683ms\n",
      "302:\tlearn: 10.6351949\ttotal: 1.04s\tremaining: 679ms\n",
      "303:\tlearn: 10.6024353\ttotal: 1.05s\tremaining: 676ms\n",
      "304:\tlearn: 10.5953604\ttotal: 1.05s\tremaining: 673ms\n",
      "305:\tlearn: 10.5753828\ttotal: 1.06s\tremaining: 671ms\n",
      "306:\tlearn: 10.5737063\ttotal: 1.06s\tremaining: 668ms\n",
      "307:\tlearn: 10.5560299\ttotal: 1.07s\tremaining: 665ms\n",
      "308:\tlearn: 10.5246637\ttotal: 1.07s\tremaining: 662ms\n",
      "309:\tlearn: 10.4915989\ttotal: 1.07s\tremaining: 659ms\n",
      "310:\tlearn: 10.4777866\ttotal: 1.08s\tremaining: 656ms\n",
      "311:\tlearn: 10.4548575\ttotal: 1.08s\tremaining: 653ms\n",
      "312:\tlearn: 10.4302641\ttotal: 1.09s\tremaining: 650ms\n",
      "313:\tlearn: 10.4005447\ttotal: 1.09s\tremaining: 647ms\n",
      "314:\tlearn: 10.3785037\ttotal: 1.1s\tremaining: 644ms\n",
      "315:\tlearn: 10.3620773\ttotal: 1.1s\tremaining: 641ms\n",
      "316:\tlearn: 10.3516335\ttotal: 1.1s\tremaining: 638ms\n",
      "317:\tlearn: 10.3361682\ttotal: 1.11s\tremaining: 634ms\n",
      "318:\tlearn: 10.3166921\ttotal: 1.11s\tremaining: 632ms\n",
      "319:\tlearn: 10.3029411\ttotal: 1.12s\tremaining: 628ms\n",
      "320:\tlearn: 10.2919854\ttotal: 1.12s\tremaining: 625ms\n",
      "321:\tlearn: 10.2703624\ttotal: 1.13s\tremaining: 622ms\n",
      "322:\tlearn: 10.2529623\ttotal: 1.13s\tremaining: 619ms\n",
      "323:\tlearn: 10.2299206\ttotal: 1.13s\tremaining: 616ms\n",
      "324:\tlearn: 10.2203105\ttotal: 1.14s\tremaining: 613ms\n",
      "325:\tlearn: 10.1999130\ttotal: 1.14s\tremaining: 610ms\n",
      "326:\tlearn: 10.1920001\ttotal: 1.15s\tremaining: 607ms\n",
      "327:\tlearn: 10.1755698\ttotal: 1.15s\tremaining: 604ms\n",
      "328:\tlearn: 10.1331354\ttotal: 1.16s\tremaining: 601ms\n",
      "329:\tlearn: 10.1185723\ttotal: 1.16s\tremaining: 598ms\n",
      "330:\tlearn: 10.0914746\ttotal: 1.16s\tremaining: 594ms\n",
      "331:\tlearn: 10.0746865\ttotal: 1.17s\tremaining: 591ms\n",
      "332:\tlearn: 10.0533273\ttotal: 1.17s\tremaining: 588ms\n",
      "333:\tlearn: 10.0375602\ttotal: 1.18s\tremaining: 585ms\n",
      "334:\tlearn: 10.0080713\ttotal: 1.18s\tremaining: 582ms\n",
      "335:\tlearn: 9.9853293\ttotal: 1.18s\tremaining: 578ms\n",
      "336:\tlearn: 9.9687379\ttotal: 1.19s\tremaining: 574ms\n",
      "337:\tlearn: 9.9670903\ttotal: 1.19s\tremaining: 570ms\n",
      "338:\tlearn: 9.9417785\ttotal: 1.19s\tremaining: 566ms\n",
      "339:\tlearn: 9.9402190\ttotal: 1.19s\tremaining: 562ms\n",
      "340:\tlearn: 9.9212641\ttotal: 1.2s\tremaining: 558ms\n",
      "341:\tlearn: 9.8993990\ttotal: 1.2s\tremaining: 554ms\n",
      "342:\tlearn: 9.8897020\ttotal: 1.2s\tremaining: 551ms\n",
      "343:\tlearn: 9.8598918\ttotal: 1.21s\tremaining: 547ms\n",
      "344:\tlearn: 9.8583738\ttotal: 1.21s\tremaining: 543ms\n",
      "345:\tlearn: 9.8445760\ttotal: 1.21s\tremaining: 539ms\n",
      "346:\tlearn: 9.8147156\ttotal: 1.21s\tremaining: 535ms\n",
      "347:\tlearn: 9.7749429\ttotal: 1.22s\tremaining: 531ms\n",
      "348:\tlearn: 9.7515198\ttotal: 1.22s\tremaining: 528ms\n",
      "349:\tlearn: 9.7322314\ttotal: 1.22s\tremaining: 524ms\n",
      "350:\tlearn: 9.7151763\ttotal: 1.23s\tremaining: 521ms\n",
      "351:\tlearn: 9.6950672\ttotal: 1.23s\tremaining: 518ms\n",
      "352:\tlearn: 9.6857615\ttotal: 1.24s\tremaining: 515ms\n",
      "353:\tlearn: 9.6733944\ttotal: 1.24s\tremaining: 512ms\n",
      "354:\tlearn: 9.6390173\ttotal: 1.25s\tremaining: 509ms\n",
      "355:\tlearn: 9.6323594\ttotal: 1.25s\tremaining: 505ms\n",
      "356:\tlearn: 9.6123135\ttotal: 1.25s\tremaining: 502ms\n",
      "357:\tlearn: 9.5919747\ttotal: 1.26s\tremaining: 499ms\n",
      "358:\tlearn: 9.5747486\ttotal: 1.26s\tremaining: 496ms\n",
      "359:\tlearn: 9.5525870\ttotal: 1.27s\tremaining: 492ms\n",
      "360:\tlearn: 9.5399028\ttotal: 1.27s\tremaining: 489ms\n",
      "361:\tlearn: 9.5175980\ttotal: 1.27s\tremaining: 486ms\n",
      "362:\tlearn: 9.5047108\ttotal: 1.28s\tremaining: 482ms\n",
      "363:\tlearn: 9.4694829\ttotal: 1.28s\tremaining: 478ms\n",
      "364:\tlearn: 9.4570684\ttotal: 1.28s\tremaining: 474ms\n",
      "365:\tlearn: 9.4390706\ttotal: 1.28s\tremaining: 471ms\n",
      "366:\tlearn: 9.4164688\ttotal: 1.29s\tremaining: 467ms\n",
      "367:\tlearn: 9.4035168\ttotal: 1.29s\tremaining: 463ms\n",
      "368:\tlearn: 9.3904806\ttotal: 1.29s\tremaining: 459ms\n",
      "369:\tlearn: 9.3892616\ttotal: 1.29s\tremaining: 455ms\n",
      "370:\tlearn: 9.3714991\ttotal: 1.3s\tremaining: 451ms\n",
      "371:\tlearn: 9.3554380\ttotal: 1.3s\tremaining: 448ms\n",
      "372:\tlearn: 9.3428773\ttotal: 1.3s\tremaining: 444ms\n",
      "373:\tlearn: 9.3318400\ttotal: 1.31s\tremaining: 440ms\n",
      "374:\tlearn: 9.3023331\ttotal: 1.31s\tremaining: 436ms\n",
      "375:\tlearn: 9.2840795\ttotal: 1.31s\tremaining: 433ms\n",
      "376:\tlearn: 9.2510344\ttotal: 1.31s\tremaining: 429ms\n",
      "377:\tlearn: 9.2343523\ttotal: 1.32s\tremaining: 425ms\n",
      "378:\tlearn: 9.2234517\ttotal: 1.32s\tremaining: 421ms\n",
      "379:\tlearn: 9.2094312\ttotal: 1.32s\tremaining: 418ms\n",
      "380:\tlearn: 9.1941026\ttotal: 1.32s\tremaining: 414ms\n",
      "381:\tlearn: 9.1796455\ttotal: 1.33s\tremaining: 410ms\n",
      "382:\tlearn: 9.1701821\ttotal: 1.33s\tremaining: 406ms\n",
      "383:\tlearn: 9.1579066\ttotal: 1.33s\tremaining: 402ms\n",
      "384:\tlearn: 9.1564841\ttotal: 1.33s\tremaining: 399ms\n",
      "385:\tlearn: 9.1332870\ttotal: 1.34s\tremaining: 395ms\n",
      "386:\tlearn: 9.1076890\ttotal: 1.34s\tremaining: 391ms\n",
      "387:\tlearn: 9.0974239\ttotal: 1.34s\tremaining: 388ms\n",
      "388:\tlearn: 9.0860321\ttotal: 1.35s\tremaining: 384ms\n",
      "389:\tlearn: 9.0717425\ttotal: 1.35s\tremaining: 380ms\n",
      "390:\tlearn: 9.0692621\ttotal: 1.35s\tremaining: 377ms\n",
      "391:\tlearn: 9.0597935\ttotal: 1.35s\tremaining: 373ms\n",
      "392:\tlearn: 9.0441282\ttotal: 1.36s\tremaining: 370ms\n",
      "393:\tlearn: 9.0203702\ttotal: 1.36s\tremaining: 367ms\n",
      "394:\tlearn: 9.0189604\ttotal: 1.37s\tremaining: 363ms\n",
      "395:\tlearn: 8.9980892\ttotal: 1.37s\tremaining: 360ms\n",
      "396:\tlearn: 8.9837322\ttotal: 1.38s\tremaining: 357ms\n",
      "397:\tlearn: 8.9653575\ttotal: 1.38s\tremaining: 353ms\n",
      "398:\tlearn: 8.9640019\ttotal: 1.38s\tremaining: 349ms\n",
      "399:\tlearn: 8.9531076\ttotal: 1.38s\tremaining: 346ms\n",
      "400:\tlearn: 8.9451882\ttotal: 1.39s\tremaining: 342ms\n",
      "401:\tlearn: 8.9249885\ttotal: 1.39s\tremaining: 339ms\n",
      "402:\tlearn: 8.9096012\ttotal: 1.39s\tremaining: 335ms\n",
      "403:\tlearn: 8.8931597\ttotal: 1.39s\tremaining: 331ms\n",
      "404:\tlearn: 8.8771813\ttotal: 1.4s\tremaining: 328ms\n",
      "405:\tlearn: 8.8587662\ttotal: 1.4s\tremaining: 325ms\n",
      "406:\tlearn: 8.8481486\ttotal: 1.41s\tremaining: 321ms\n",
      "407:\tlearn: 8.8288605\ttotal: 1.41s\tremaining: 318ms\n",
      "408:\tlearn: 8.8039490\ttotal: 1.41s\tremaining: 314ms\n",
      "409:\tlearn: 8.7964884\ttotal: 1.41s\tremaining: 310ms\n",
      "410:\tlearn: 8.7772799\ttotal: 1.42s\tremaining: 307ms\n",
      "411:\tlearn: 8.7576424\ttotal: 1.42s\tremaining: 304ms\n",
      "412:\tlearn: 8.7500597\ttotal: 1.43s\tremaining: 300ms\n",
      "413:\tlearn: 8.7378074\ttotal: 1.43s\tremaining: 297ms\n",
      "414:\tlearn: 8.7215810\ttotal: 1.43s\tremaining: 294ms\n",
      "415:\tlearn: 8.7089849\ttotal: 1.44s\tremaining: 290ms\n",
      "416:\tlearn: 8.7077486\ttotal: 1.44s\tremaining: 287ms\n",
      "417:\tlearn: 8.6964737\ttotal: 1.45s\tremaining: 284ms\n",
      "418:\tlearn: 8.6784596\ttotal: 1.45s\tremaining: 281ms\n",
      "419:\tlearn: 8.6641834\ttotal: 1.46s\tremaining: 277ms\n",
      "420:\tlearn: 8.6535584\ttotal: 1.46s\tremaining: 274ms\n",
      "421:\tlearn: 8.6435116\ttotal: 1.47s\tremaining: 271ms\n",
      "422:\tlearn: 8.6328870\ttotal: 1.47s\tremaining: 268ms\n",
      "423:\tlearn: 8.6223889\ttotal: 1.48s\tremaining: 264ms\n",
      "424:\tlearn: 8.6096087\ttotal: 1.48s\tremaining: 261ms\n",
      "425:\tlearn: 8.5870482\ttotal: 1.48s\tremaining: 257ms\n",
      "426:\tlearn: 8.5688625\ttotal: 1.48s\tremaining: 254ms\n",
      "427:\tlearn: 8.5487324\ttotal: 1.49s\tremaining: 250ms\n",
      "428:\tlearn: 8.5220768\ttotal: 1.49s\tremaining: 246ms\n",
      "429:\tlearn: 8.5144498\ttotal: 1.49s\tremaining: 243ms\n",
      "430:\tlearn: 8.5015027\ttotal: 1.49s\tremaining: 239ms\n",
      "431:\tlearn: 8.4711285\ttotal: 1.5s\tremaining: 236ms\n",
      "432:\tlearn: 8.4643398\ttotal: 1.5s\tremaining: 232ms\n",
      "433:\tlearn: 8.4503002\ttotal: 1.5s\tremaining: 228ms\n",
      "434:\tlearn: 8.4448954\ttotal: 1.5s\tremaining: 225ms\n",
      "435:\tlearn: 8.4276644\ttotal: 1.51s\tremaining: 221ms\n",
      "436:\tlearn: 8.4136640\ttotal: 1.51s\tremaining: 218ms\n",
      "437:\tlearn: 8.4121736\ttotal: 1.51s\tremaining: 214ms\n",
      "438:\tlearn: 8.4009308\ttotal: 1.52s\tremaining: 211ms\n",
      "439:\tlearn: 8.3797881\ttotal: 1.52s\tremaining: 207ms\n",
      "440:\tlearn: 8.3674943\ttotal: 1.52s\tremaining: 204ms\n",
      "441:\tlearn: 8.3496197\ttotal: 1.52s\tremaining: 200ms\n",
      "442:\tlearn: 8.3332041\ttotal: 1.53s\tremaining: 197ms\n",
      "443:\tlearn: 8.3187663\ttotal: 1.53s\tremaining: 193ms\n",
      "444:\tlearn: 8.3060080\ttotal: 1.53s\tremaining: 189ms\n",
      "445:\tlearn: 8.2970554\ttotal: 1.53s\tremaining: 186ms\n",
      "446:\tlearn: 8.2806855\ttotal: 1.54s\tremaining: 182ms\n",
      "447:\tlearn: 8.2639520\ttotal: 1.54s\tremaining: 179ms\n",
      "448:\tlearn: 8.2558919\ttotal: 1.54s\tremaining: 175ms\n",
      "449:\tlearn: 8.2519471\ttotal: 1.54s\tremaining: 172ms\n",
      "450:\tlearn: 8.2457211\ttotal: 1.55s\tremaining: 168ms\n",
      "451:\tlearn: 8.2411446\ttotal: 1.55s\tremaining: 165ms\n",
      "452:\tlearn: 8.2236220\ttotal: 1.55s\tremaining: 161ms\n",
      "453:\tlearn: 8.2181896\ttotal: 1.56s\tremaining: 158ms\n",
      "454:\tlearn: 8.2092410\ttotal: 1.56s\tremaining: 154ms\n",
      "455:\tlearn: 8.1997397\ttotal: 1.56s\tremaining: 151ms\n",
      "456:\tlearn: 8.1886019\ttotal: 1.56s\tremaining: 147ms\n",
      "457:\tlearn: 8.1649914\ttotal: 1.57s\tremaining: 144ms\n",
      "458:\tlearn: 8.1494490\ttotal: 1.57s\tremaining: 140ms\n",
      "459:\tlearn: 8.1331249\ttotal: 1.57s\tremaining: 137ms\n",
      "460:\tlearn: 8.1242164\ttotal: 1.58s\tremaining: 133ms\n",
      "461:\tlearn: 8.1219078\ttotal: 1.58s\tremaining: 130ms\n",
      "462:\tlearn: 8.1045657\ttotal: 1.58s\tremaining: 127ms\n",
      "463:\tlearn: 8.0965900\ttotal: 1.59s\tremaining: 123ms\n",
      "464:\tlearn: 8.0946399\ttotal: 1.59s\tremaining: 120ms\n",
      "465:\tlearn: 8.0881054\ttotal: 1.59s\tremaining: 116ms\n",
      "466:\tlearn: 8.0808399\ttotal: 1.59s\tremaining: 113ms\n",
      "467:\tlearn: 8.0642120\ttotal: 1.6s\tremaining: 109ms\n",
      "468:\tlearn: 8.0513698\ttotal: 1.6s\tremaining: 106ms\n",
      "469:\tlearn: 8.0373365\ttotal: 1.6s\tremaining: 102ms\n",
      "470:\tlearn: 8.0133589\ttotal: 1.61s\tremaining: 98.9ms\n",
      "471:\tlearn: 8.0056766\ttotal: 1.61s\tremaining: 95.5ms\n",
      "472:\tlearn: 7.9861755\ttotal: 1.61s\tremaining: 92ms\n",
      "473:\tlearn: 7.9684945\ttotal: 1.61s\tremaining: 88.6ms\n",
      "474:\tlearn: 7.9463483\ttotal: 1.62s\tremaining: 85.1ms\n",
      "475:\tlearn: 7.9397106\ttotal: 1.62s\tremaining: 81.7ms\n",
      "476:\tlearn: 7.9296449\ttotal: 1.62s\tremaining: 78.3ms\n",
      "477:\tlearn: 7.9230876\ttotal: 1.63s\tremaining: 74.8ms\n",
      "478:\tlearn: 7.9027034\ttotal: 1.63s\tremaining: 71.4ms\n",
      "479:\tlearn: 7.8954626\ttotal: 1.63s\tremaining: 68ms\n",
      "480:\tlearn: 7.8943714\ttotal: 1.63s\tremaining: 64.6ms\n",
      "481:\tlearn: 7.8767559\ttotal: 1.64s\tremaining: 61.1ms\n",
      "482:\tlearn: 7.8679792\ttotal: 1.64s\tremaining: 57.7ms\n",
      "483:\tlearn: 7.8500566\ttotal: 1.64s\tremaining: 54.3ms\n",
      "484:\tlearn: 7.8417889\ttotal: 1.65s\tremaining: 50.9ms\n",
      "485:\tlearn: 7.8238877\ttotal: 1.65s\tremaining: 47.5ms\n",
      "486:\tlearn: 7.8100432\ttotal: 1.65s\tremaining: 44.1ms\n",
      "487:\tlearn: 7.7946913\ttotal: 1.66s\tremaining: 40.7ms\n",
      "488:\tlearn: 7.7748975\ttotal: 1.66s\tremaining: 37.3ms\n",
      "489:\tlearn: 7.7592509\ttotal: 1.66s\tremaining: 33.9ms\n",
      "490:\tlearn: 7.7531156\ttotal: 1.66s\tremaining: 30.5ms\n",
      "491:\tlearn: 7.7349016\ttotal: 1.67s\tremaining: 27.1ms\n",
      "492:\tlearn: 7.7276703\ttotal: 1.67s\tremaining: 23.7ms\n",
      "493:\tlearn: 7.7192307\ttotal: 1.67s\tremaining: 20.3ms\n",
      "494:\tlearn: 7.7005634\ttotal: 1.67s\tremaining: 16.9ms\n",
      "495:\tlearn: 7.6906389\ttotal: 1.68s\tremaining: 13.5ms\n",
      "496:\tlearn: 7.6853453\ttotal: 1.68s\tremaining: 10.1ms\n",
      "497:\tlearn: 7.6712264\ttotal: 1.68s\tremaining: 6.75ms\n",
      "498:\tlearn: 7.6598086\ttotal: 1.68s\tremaining: 3.38ms\n",
      "499:\tlearn: 7.6453061\ttotal: 1.69s\tremaining: 0us\n",
      "Learning rate set to 0.080103\n",
      "0:\tlearn: 30.9153343\ttotal: 6.19ms\tremaining: 3.09s\n",
      "1:\tlearn: 29.9973540\ttotal: 11ms\tremaining: 2.74s\n",
      "2:\tlearn: 29.0851645\ttotal: 15.8ms\tremaining: 2.61s\n",
      "3:\tlearn: 28.2543826\ttotal: 20.3ms\tremaining: 2.52s\n",
      "4:\tlearn: 27.4705698\ttotal: 25ms\tremaining: 2.47s\n",
      "5:\tlearn: 26.7570520\ttotal: 29.5ms\tremaining: 2.43s\n",
      "6:\tlearn: 26.1853399\ttotal: 33.9ms\tremaining: 2.39s\n",
      "7:\tlearn: 25.5740201\ttotal: 39.1ms\tremaining: 2.41s\n",
      "8:\tlearn: 25.0364428\ttotal: 43.8ms\tremaining: 2.39s\n",
      "9:\tlearn: 24.5847968\ttotal: 48.3ms\tremaining: 2.37s\n",
      "10:\tlearn: 24.1889744\ttotal: 53.1ms\tremaining: 2.36s\n",
      "11:\tlearn: 23.7300681\ttotal: 57.6ms\tremaining: 2.34s\n",
      "12:\tlearn: 23.3851835\ttotal: 62.3ms\tremaining: 2.33s\n",
      "13:\tlearn: 23.0233638\ttotal: 67ms\tremaining: 2.32s\n",
      "14:\tlearn: 22.6902161\ttotal: 71.9ms\tremaining: 2.33s\n",
      "15:\tlearn: 22.4346382\ttotal: 76.5ms\tremaining: 2.31s\n",
      "16:\tlearn: 22.1923681\ttotal: 81.1ms\tremaining: 2.3s\n",
      "17:\tlearn: 21.9810455\ttotal: 86ms\tremaining: 2.3s\n",
      "18:\tlearn: 21.8005193\ttotal: 90.9ms\tremaining: 2.3s\n",
      "19:\tlearn: 21.5867574\ttotal: 96.1ms\tremaining: 2.31s\n",
      "20:\tlearn: 21.3843220\ttotal: 101ms\tremaining: 2.31s\n",
      "21:\tlearn: 21.1802116\ttotal: 107ms\tremaining: 2.31s\n",
      "22:\tlearn: 21.0208972\ttotal: 112ms\tremaining: 2.32s\n",
      "23:\tlearn: 20.8492584\ttotal: 117ms\tremaining: 2.32s\n",
      "24:\tlearn: 20.6645852\ttotal: 122ms\tremaining: 2.32s\n",
      "25:\tlearn: 20.5267128\ttotal: 127ms\tremaining: 2.31s\n",
      "26:\tlearn: 20.4088281\ttotal: 131ms\tremaining: 2.3s\n",
      "27:\tlearn: 20.2998079\ttotal: 136ms\tremaining: 2.29s\n",
      "28:\tlearn: 20.2127234\ttotal: 140ms\tremaining: 2.28s\n",
      "29:\tlearn: 20.0963953\ttotal: 145ms\tremaining: 2.27s\n",
      "30:\tlearn: 19.9982649\ttotal: 149ms\tremaining: 2.26s\n",
      "31:\tlearn: 19.8995546\ttotal: 154ms\tremaining: 2.25s\n",
      "32:\tlearn: 19.7878069\ttotal: 158ms\tremaining: 2.24s\n",
      "33:\tlearn: 19.6921195\ttotal: 162ms\tremaining: 2.23s\n",
      "34:\tlearn: 19.5920485\ttotal: 165ms\tremaining: 2.2s\n",
      "35:\tlearn: 19.5183008\ttotal: 168ms\tremaining: 2.17s\n",
      "36:\tlearn: 19.4639158\ttotal: 171ms\tremaining: 2.14s\n",
      "37:\tlearn: 19.4297898\ttotal: 174ms\tremaining: 2.11s\n",
      "38:\tlearn: 19.3589679\ttotal: 177ms\tremaining: 2.1s\n",
      "39:\tlearn: 19.2694360\ttotal: 182ms\tremaining: 2.09s\n",
      "40:\tlearn: 19.1765521\ttotal: 187ms\tremaining: 2.09s\n",
      "41:\tlearn: 19.1088231\ttotal: 190ms\tremaining: 2.07s\n",
      "42:\tlearn: 19.0771071\ttotal: 193ms\tremaining: 2.05s\n",
      "43:\tlearn: 19.0029434\ttotal: 198ms\tremaining: 2.05s\n",
      "44:\tlearn: 18.9430039\ttotal: 202ms\tremaining: 2.04s\n",
      "45:\tlearn: 18.8902807\ttotal: 207ms\tremaining: 2.04s\n",
      "46:\tlearn: 18.8225673\ttotal: 211ms\tremaining: 2.04s\n",
      "47:\tlearn: 18.7773037\ttotal: 216ms\tremaining: 2.03s\n",
      "48:\tlearn: 18.7245728\ttotal: 221ms\tremaining: 2.03s\n",
      "49:\tlearn: 18.6886129\ttotal: 224ms\tremaining: 2.01s\n",
      "50:\tlearn: 18.6485467\ttotal: 227ms\tremaining: 2s\n",
      "51:\tlearn: 18.6125424\ttotal: 231ms\tremaining: 1.99s\n",
      "52:\tlearn: 18.5650488\ttotal: 234ms\tremaining: 1.97s\n",
      "53:\tlearn: 18.5011773\ttotal: 237ms\tremaining: 1.96s\n",
      "54:\tlearn: 18.4548308\ttotal: 242ms\tremaining: 1.96s\n",
      "55:\tlearn: 18.4190273\ttotal: 248ms\tremaining: 1.96s\n",
      "56:\tlearn: 18.3767679\ttotal: 252ms\tremaining: 1.96s\n",
      "57:\tlearn: 18.3432767\ttotal: 257ms\tremaining: 1.96s\n",
      "58:\tlearn: 18.2844472\ttotal: 263ms\tremaining: 1.96s\n",
      "59:\tlearn: 18.2477508\ttotal: 268ms\tremaining: 1.96s\n",
      "60:\tlearn: 18.2151394\ttotal: 272ms\tremaining: 1.96s\n",
      "61:\tlearn: 18.1365895\ttotal: 277ms\tremaining: 1.96s\n",
      "62:\tlearn: 18.0831261\ttotal: 282ms\tremaining: 1.96s\n",
      "63:\tlearn: 18.0161137\ttotal: 287ms\tremaining: 1.96s\n",
      "64:\tlearn: 17.9656084\ttotal: 292ms\tremaining: 1.95s\n",
      "65:\tlearn: 17.9177123\ttotal: 297ms\tremaining: 1.95s\n",
      "66:\tlearn: 17.8642917\ttotal: 302ms\tremaining: 1.95s\n",
      "67:\tlearn: 17.8037304\ttotal: 306ms\tremaining: 1.95s\n",
      "68:\tlearn: 17.7679735\ttotal: 312ms\tremaining: 1.95s\n",
      "69:\tlearn: 17.7389923\ttotal: 316ms\tremaining: 1.94s\n",
      "70:\tlearn: 17.7128897\ttotal: 319ms\tremaining: 1.93s\n",
      "71:\tlearn: 17.6678153\ttotal: 322ms\tremaining: 1.92s\n",
      "72:\tlearn: 17.6244948\ttotal: 325ms\tremaining: 1.9s\n",
      "73:\tlearn: 17.5970371\ttotal: 329ms\tremaining: 1.89s\n",
      "74:\tlearn: 17.5810647\ttotal: 332ms\tremaining: 1.88s\n",
      "75:\tlearn: 17.5480845\ttotal: 335ms\tremaining: 1.87s\n",
      "76:\tlearn: 17.5319209\ttotal: 338ms\tremaining: 1.86s\n",
      "77:\tlearn: 17.5071642\ttotal: 341ms\tremaining: 1.85s\n",
      "78:\tlearn: 17.4908014\ttotal: 344ms\tremaining: 1.83s\n",
      "79:\tlearn: 17.4440127\ttotal: 347ms\tremaining: 1.82s\n",
      "80:\tlearn: 17.4109065\ttotal: 351ms\tremaining: 1.81s\n",
      "81:\tlearn: 17.3909495\ttotal: 354ms\tremaining: 1.8s\n",
      "82:\tlearn: 17.3710544\ttotal: 357ms\tremaining: 1.79s\n",
      "83:\tlearn: 17.3501238\ttotal: 360ms\tremaining: 1.78s\n",
      "84:\tlearn: 17.3168540\ttotal: 364ms\tremaining: 1.78s\n",
      "85:\tlearn: 17.2845041\ttotal: 367ms\tremaining: 1.77s\n",
      "86:\tlearn: 17.2539932\ttotal: 370ms\tremaining: 1.76s\n",
      "87:\tlearn: 17.2197096\ttotal: 373ms\tremaining: 1.75s\n",
      "88:\tlearn: 17.1837731\ttotal: 376ms\tremaining: 1.74s\n",
      "89:\tlearn: 17.1541243\ttotal: 379ms\tremaining: 1.73s\n",
      "90:\tlearn: 17.1130925\ttotal: 385ms\tremaining: 1.73s\n",
      "91:\tlearn: 17.0905197\ttotal: 390ms\tremaining: 1.73s\n",
      "92:\tlearn: 17.0636801\ttotal: 395ms\tremaining: 1.73s\n",
      "93:\tlearn: 17.0012105\ttotal: 400ms\tremaining: 1.73s\n",
      "94:\tlearn: 16.9515911\ttotal: 405ms\tremaining: 1.73s\n",
      "95:\tlearn: 16.9142871\ttotal: 410ms\tremaining: 1.73s\n",
      "96:\tlearn: 16.8689998\ttotal: 413ms\tremaining: 1.72s\n",
      "97:\tlearn: 16.8224144\ttotal: 416ms\tremaining: 1.71s\n",
      "98:\tlearn: 16.7950613\ttotal: 419ms\tremaining: 1.7s\n",
      "99:\tlearn: 16.7554721\ttotal: 422ms\tremaining: 1.69s\n",
      "100:\tlearn: 16.7256385\ttotal: 425ms\tremaining: 1.68s\n",
      "101:\tlearn: 16.6964221\ttotal: 428ms\tremaining: 1.67s\n",
      "102:\tlearn: 16.6670018\ttotal: 431ms\tremaining: 1.66s\n",
      "103:\tlearn: 16.6422199\ttotal: 434ms\tremaining: 1.65s\n",
      "104:\tlearn: 16.6237340\ttotal: 436ms\tremaining: 1.64s\n",
      "105:\tlearn: 16.5784033\ttotal: 439ms\tremaining: 1.63s\n",
      "106:\tlearn: 16.5397357\ttotal: 442ms\tremaining: 1.62s\n",
      "107:\tlearn: 16.5073410\ttotal: 445ms\tremaining: 1.62s\n",
      "108:\tlearn: 16.5030317\ttotal: 448ms\tremaining: 1.61s\n",
      "109:\tlearn: 16.4971244\ttotal: 451ms\tremaining: 1.6s\n",
      "110:\tlearn: 16.4701952\ttotal: 454ms\tremaining: 1.59s\n",
      "111:\tlearn: 16.4228115\ttotal: 457ms\tremaining: 1.58s\n",
      "112:\tlearn: 16.3915310\ttotal: 460ms\tremaining: 1.57s\n",
      "113:\tlearn: 16.3883472\ttotal: 463ms\tremaining: 1.57s\n",
      "114:\tlearn: 16.3536783\ttotal: 466ms\tremaining: 1.56s\n",
      "115:\tlearn: 16.3437992\ttotal: 469ms\tremaining: 1.55s\n",
      "116:\tlearn: 16.3097506\ttotal: 471ms\tremaining: 1.54s\n",
      "117:\tlearn: 16.2626126\ttotal: 474ms\tremaining: 1.53s\n",
      "118:\tlearn: 16.2591858\ttotal: 477ms\tremaining: 1.53s\n",
      "119:\tlearn: 16.2142583\ttotal: 480ms\tremaining: 1.52s\n",
      "120:\tlearn: 16.1729612\ttotal: 483ms\tremaining: 1.51s\n",
      "121:\tlearn: 16.1262694\ttotal: 486ms\tremaining: 1.51s\n",
      "122:\tlearn: 16.0795974\ttotal: 489ms\tremaining: 1.5s\n",
      "123:\tlearn: 16.0369579\ttotal: 492ms\tremaining: 1.49s\n",
      "124:\tlearn: 15.9905081\ttotal: 495ms\tremaining: 1.49s\n",
      "125:\tlearn: 15.9603748\ttotal: 498ms\tremaining: 1.48s\n",
      "126:\tlearn: 15.9353040\ttotal: 501ms\tremaining: 1.47s\n",
      "127:\tlearn: 15.9187687\ttotal: 504ms\tremaining: 1.46s\n",
      "128:\tlearn: 15.8824133\ttotal: 507ms\tremaining: 1.46s\n",
      "129:\tlearn: 15.8588659\ttotal: 510ms\tremaining: 1.45s\n",
      "130:\tlearn: 15.8309676\ttotal: 513ms\tremaining: 1.44s\n",
      "131:\tlearn: 15.8085776\ttotal: 516ms\tremaining: 1.44s\n",
      "132:\tlearn: 15.7730200\ttotal: 519ms\tremaining: 1.43s\n",
      "133:\tlearn: 15.7468689\ttotal: 522ms\tremaining: 1.43s\n",
      "134:\tlearn: 15.7290521\ttotal: 525ms\tremaining: 1.42s\n",
      "135:\tlearn: 15.6893095\ttotal: 528ms\tremaining: 1.41s\n",
      "136:\tlearn: 15.6554995\ttotal: 531ms\tremaining: 1.41s\n",
      "137:\tlearn: 15.6524229\ttotal: 534ms\tremaining: 1.4s\n",
      "138:\tlearn: 15.6158404\ttotal: 537ms\tremaining: 1.4s\n",
      "139:\tlearn: 15.6129508\ttotal: 540ms\tremaining: 1.39s\n",
      "140:\tlearn: 15.5813241\ttotal: 543ms\tremaining: 1.38s\n",
      "141:\tlearn: 15.5620119\ttotal: 546ms\tremaining: 1.38s\n",
      "142:\tlearn: 15.5309468\ttotal: 549ms\tremaining: 1.37s\n",
      "143:\tlearn: 15.5051197\ttotal: 552ms\tremaining: 1.36s\n",
      "144:\tlearn: 15.4489334\ttotal: 556ms\tremaining: 1.36s\n",
      "145:\tlearn: 15.4227027\ttotal: 558ms\tremaining: 1.35s\n",
      "146:\tlearn: 15.4029990\ttotal: 562ms\tremaining: 1.35s\n",
      "147:\tlearn: 15.3781972\ttotal: 567ms\tremaining: 1.35s\n",
      "148:\tlearn: 15.3601979\ttotal: 572ms\tremaining: 1.35s\n",
      "149:\tlearn: 15.3299798\ttotal: 576ms\tremaining: 1.34s\n",
      "150:\tlearn: 15.3035753\ttotal: 581ms\tremaining: 1.34s\n",
      "151:\tlearn: 15.2641737\ttotal: 585ms\tremaining: 1.34s\n",
      "152:\tlearn: 15.2534673\ttotal: 588ms\tremaining: 1.33s\n",
      "153:\tlearn: 15.2180183\ttotal: 591ms\tremaining: 1.33s\n",
      "154:\tlearn: 15.1927157\ttotal: 594ms\tremaining: 1.32s\n",
      "155:\tlearn: 15.1707799\ttotal: 597ms\tremaining: 1.32s\n",
      "156:\tlearn: 15.1536402\ttotal: 600ms\tremaining: 1.31s\n",
      "157:\tlearn: 15.1188345\ttotal: 603ms\tremaining: 1.3s\n",
      "158:\tlearn: 15.1017729\ttotal: 606ms\tremaining: 1.3s\n",
      "159:\tlearn: 15.0720697\ttotal: 609ms\tremaining: 1.29s\n",
      "160:\tlearn: 15.0324692\ttotal: 612ms\tremaining: 1.29s\n",
      "161:\tlearn: 15.0121765\ttotal: 615ms\tremaining: 1.28s\n",
      "162:\tlearn: 15.0096226\ttotal: 618ms\tremaining: 1.28s\n",
      "163:\tlearn: 14.9774553\ttotal: 621ms\tremaining: 1.27s\n",
      "164:\tlearn: 14.9609717\ttotal: 624ms\tremaining: 1.27s\n",
      "165:\tlearn: 14.9335316\ttotal: 627ms\tremaining: 1.26s\n",
      "166:\tlearn: 14.9152658\ttotal: 630ms\tremaining: 1.26s\n",
      "167:\tlearn: 14.8950043\ttotal: 633ms\tremaining: 1.25s\n",
      "168:\tlearn: 14.8703585\ttotal: 636ms\tremaining: 1.25s\n",
      "169:\tlearn: 14.8468205\ttotal: 639ms\tremaining: 1.24s\n",
      "170:\tlearn: 14.8109851\ttotal: 642ms\tremaining: 1.24s\n",
      "171:\tlearn: 14.7984743\ttotal: 645ms\tremaining: 1.23s\n",
      "172:\tlearn: 14.7653853\ttotal: 648ms\tremaining: 1.22s\n",
      "173:\tlearn: 14.7432421\ttotal: 651ms\tremaining: 1.22s\n",
      "174:\tlearn: 14.7159163\ttotal: 654ms\tremaining: 1.22s\n",
      "175:\tlearn: 14.7042768\ttotal: 657ms\tremaining: 1.21s\n",
      "176:\tlearn: 14.6763142\ttotal: 660ms\tremaining: 1.21s\n",
      "177:\tlearn: 14.6375681\ttotal: 663ms\tremaining: 1.2s\n",
      "178:\tlearn: 14.6354365\ttotal: 667ms\tremaining: 1.2s\n",
      "179:\tlearn: 14.6331506\ttotal: 670ms\tremaining: 1.19s\n",
      "180:\tlearn: 14.6115073\ttotal: 673ms\tremaining: 1.19s\n",
      "181:\tlearn: 14.5767071\ttotal: 676ms\tremaining: 1.18s\n",
      "182:\tlearn: 14.5570909\ttotal: 679ms\tremaining: 1.18s\n",
      "183:\tlearn: 14.5248205\ttotal: 682ms\tremaining: 1.17s\n",
      "184:\tlearn: 14.5077117\ttotal: 685ms\tremaining: 1.17s\n",
      "185:\tlearn: 14.4764426\ttotal: 688ms\tremaining: 1.16s\n",
      "186:\tlearn: 14.4550395\ttotal: 691ms\tremaining: 1.16s\n",
      "187:\tlearn: 14.4528612\ttotal: 694ms\tremaining: 1.15s\n",
      "188:\tlearn: 14.4373285\ttotal: 697ms\tremaining: 1.15s\n",
      "189:\tlearn: 14.4112334\ttotal: 700ms\tremaining: 1.14s\n",
      "190:\tlearn: 14.3897049\ttotal: 704ms\tremaining: 1.14s\n",
      "191:\tlearn: 14.3729375\ttotal: 706ms\tremaining: 1.13s\n",
      "192:\tlearn: 14.3503313\ttotal: 709ms\tremaining: 1.13s\n",
      "193:\tlearn: 14.3379028\ttotal: 714ms\tremaining: 1.13s\n",
      "194:\tlearn: 14.3107932\ttotal: 717ms\tremaining: 1.12s\n",
      "195:\tlearn: 14.3086607\ttotal: 720ms\tremaining: 1.12s\n",
      "196:\tlearn: 14.2935248\ttotal: 723ms\tremaining: 1.11s\n",
      "197:\tlearn: 14.2656856\ttotal: 726ms\tremaining: 1.11s\n",
      "198:\tlearn: 14.2367204\ttotal: 729ms\tremaining: 1.1s\n",
      "199:\tlearn: 14.2169513\ttotal: 734ms\tremaining: 1.1s\n",
      "200:\tlearn: 14.1894620\ttotal: 738ms\tremaining: 1.1s\n",
      "201:\tlearn: 14.1462400\ttotal: 743ms\tremaining: 1.09s\n",
      "202:\tlearn: 14.1363539\ttotal: 747ms\tremaining: 1.09s\n",
      "203:\tlearn: 14.1083675\ttotal: 752ms\tremaining: 1.09s\n",
      "204:\tlearn: 14.1064072\ttotal: 755ms\tremaining: 1.09s\n",
      "205:\tlearn: 14.0762037\ttotal: 758ms\tremaining: 1.08s\n",
      "206:\tlearn: 14.0742280\ttotal: 761ms\tremaining: 1.08s\n",
      "207:\tlearn: 14.0608763\ttotal: 764ms\tremaining: 1.07s\n",
      "208:\tlearn: 14.0425173\ttotal: 767ms\tremaining: 1.07s\n",
      "209:\tlearn: 14.0301857\ttotal: 770ms\tremaining: 1.06s\n",
      "210:\tlearn: 13.9995298\ttotal: 773ms\tremaining: 1.06s\n",
      "211:\tlearn: 13.9806266\ttotal: 775ms\tremaining: 1.05s\n",
      "212:\tlearn: 13.9518059\ttotal: 779ms\tremaining: 1.05s\n",
      "213:\tlearn: 13.9328196\ttotal: 782ms\tremaining: 1.04s\n",
      "214:\tlearn: 13.9087457\ttotal: 785ms\tremaining: 1.04s\n",
      "215:\tlearn: 13.8833009\ttotal: 788ms\tremaining: 1.04s\n",
      "216:\tlearn: 13.8605922\ttotal: 791ms\tremaining: 1.03s\n",
      "217:\tlearn: 13.8498169\ttotal: 794ms\tremaining: 1.03s\n",
      "218:\tlearn: 13.8218111\ttotal: 797ms\tremaining: 1.02s\n",
      "219:\tlearn: 13.7874508\ttotal: 800ms\tremaining: 1.02s\n",
      "220:\tlearn: 13.7592750\ttotal: 804ms\tremaining: 1.01s\n",
      "221:\tlearn: 13.7360133\ttotal: 807ms\tremaining: 1.01s\n",
      "222:\tlearn: 13.7031852\ttotal: 809ms\tremaining: 1s\n",
      "223:\tlearn: 13.6851021\ttotal: 812ms\tremaining: 1s\n",
      "224:\tlearn: 13.6686532\ttotal: 815ms\tremaining: 996ms\n",
      "225:\tlearn: 13.6459223\ttotal: 818ms\tremaining: 992ms\n",
      "226:\tlearn: 13.6274377\ttotal: 821ms\tremaining: 988ms\n",
      "227:\tlearn: 13.6148296\ttotal: 824ms\tremaining: 983ms\n",
      "228:\tlearn: 13.5947386\ttotal: 827ms\tremaining: 979ms\n",
      "229:\tlearn: 13.5726776\ttotal: 830ms\tremaining: 974ms\n",
      "230:\tlearn: 13.5523452\ttotal: 833ms\tremaining: 970ms\n",
      "231:\tlearn: 13.5187592\ttotal: 836ms\tremaining: 966ms\n",
      "232:\tlearn: 13.4921041\ttotal: 839ms\tremaining: 962ms\n",
      "233:\tlearn: 13.4709729\ttotal: 842ms\tremaining: 957ms\n",
      "234:\tlearn: 13.4549949\ttotal: 845ms\tremaining: 953ms\n",
      "235:\tlearn: 13.4418371\ttotal: 847ms\tremaining: 948ms\n",
      "236:\tlearn: 13.4255172\ttotal: 850ms\tremaining: 944ms\n",
      "237:\tlearn: 13.3983747\ttotal: 853ms\tremaining: 940ms\n",
      "238:\tlearn: 13.3801683\ttotal: 856ms\tremaining: 935ms\n",
      "239:\tlearn: 13.3563404\ttotal: 859ms\tremaining: 931ms\n",
      "240:\tlearn: 13.3370249\ttotal: 862ms\tremaining: 927ms\n",
      "241:\tlearn: 13.3141437\ttotal: 865ms\tremaining: 922ms\n",
      "242:\tlearn: 13.3042616\ttotal: 868ms\tremaining: 918ms\n",
      "243:\tlearn: 13.2915981\ttotal: 871ms\tremaining: 913ms\n",
      "244:\tlearn: 13.2749253\ttotal: 873ms\tremaining: 909ms\n",
      "245:\tlearn: 13.2707816\ttotal: 876ms\tremaining: 905ms\n",
      "246:\tlearn: 13.2481147\ttotal: 880ms\tremaining: 901ms\n",
      "247:\tlearn: 13.2349583\ttotal: 882ms\tremaining: 897ms\n",
      "248:\tlearn: 13.2126466\ttotal: 885ms\tremaining: 893ms\n",
      "249:\tlearn: 13.1950866\ttotal: 890ms\tremaining: 890ms\n",
      "250:\tlearn: 13.1651376\ttotal: 895ms\tremaining: 888ms\n",
      "251:\tlearn: 13.1348881\ttotal: 900ms\tremaining: 886ms\n",
      "252:\tlearn: 13.1227548\ttotal: 905ms\tremaining: 884ms\n",
      "253:\tlearn: 13.1150549\ttotal: 910ms\tremaining: 881ms\n",
      "254:\tlearn: 13.0885571\ttotal: 914ms\tremaining: 878ms\n",
      "255:\tlearn: 13.0781479\ttotal: 919ms\tremaining: 876ms\n",
      "256:\tlearn: 13.0765673\ttotal: 924ms\tremaining: 873ms\n",
      "257:\tlearn: 13.0607109\ttotal: 928ms\tremaining: 870ms\n",
      "258:\tlearn: 13.0373579\ttotal: 933ms\tremaining: 868ms\n",
      "259:\tlearn: 13.0112933\ttotal: 937ms\tremaining: 865ms\n",
      "260:\tlearn: 12.9952301\ttotal: 942ms\tremaining: 863ms\n",
      "261:\tlearn: 12.9702079\ttotal: 947ms\tremaining: 860ms\n",
      "262:\tlearn: 12.9556997\ttotal: 951ms\tremaining: 857ms\n",
      "263:\tlearn: 12.9350769\ttotal: 956ms\tremaining: 855ms\n",
      "264:\tlearn: 12.9125886\ttotal: 960ms\tremaining: 852ms\n",
      "265:\tlearn: 12.8821254\ttotal: 965ms\tremaining: 849ms\n",
      "266:\tlearn: 12.8806291\ttotal: 970ms\tremaining: 846ms\n",
      "267:\tlearn: 12.8711736\ttotal: 974ms\tremaining: 843ms\n",
      "268:\tlearn: 12.8569303\ttotal: 978ms\tremaining: 840ms\n",
      "269:\tlearn: 12.8452441\ttotal: 983ms\tremaining: 837ms\n",
      "270:\tlearn: 12.8342205\ttotal: 988ms\tremaining: 835ms\n",
      "271:\tlearn: 12.8196219\ttotal: 993ms\tremaining: 832ms\n",
      "272:\tlearn: 12.8087520\ttotal: 997ms\tremaining: 829ms\n",
      "273:\tlearn: 12.7959302\ttotal: 1s\tremaining: 826ms\n",
      "274:\tlearn: 12.7713625\ttotal: 1.01s\tremaining: 823ms\n",
      "275:\tlearn: 12.7544581\ttotal: 1.01s\tremaining: 820ms\n",
      "276:\tlearn: 12.7205059\ttotal: 1.01s\tremaining: 817ms\n",
      "277:\tlearn: 12.7122184\ttotal: 1.02s\tremaining: 815ms\n",
      "278:\tlearn: 12.7037850\ttotal: 1.02s\tremaining: 811ms\n",
      "279:\tlearn: 12.6920855\ttotal: 1.03s\tremaining: 808ms\n",
      "280:\tlearn: 12.6863904\ttotal: 1.03s\tremaining: 805ms\n",
      "281:\tlearn: 12.6635220\ttotal: 1.04s\tremaining: 801ms\n",
      "282:\tlearn: 12.6447858\ttotal: 1.04s\tremaining: 797ms\n",
      "283:\tlearn: 12.6158943\ttotal: 1.04s\tremaining: 793ms\n",
      "284:\tlearn: 12.6009696\ttotal: 1.04s\tremaining: 789ms\n",
      "285:\tlearn: 12.5835883\ttotal: 1.05s\tremaining: 786ms\n",
      "286:\tlearn: 12.5527492\ttotal: 1.05s\tremaining: 784ms\n",
      "287:\tlearn: 12.5361820\ttotal: 1.06s\tremaining: 781ms\n",
      "288:\tlearn: 12.5287321\ttotal: 1.07s\tremaining: 779ms\n",
      "289:\tlearn: 12.5125455\ttotal: 1.07s\tremaining: 775ms\n",
      "290:\tlearn: 12.4915180\ttotal: 1.07s\tremaining: 773ms\n",
      "291:\tlearn: 12.4790734\ttotal: 1.08s\tremaining: 770ms\n",
      "292:\tlearn: 12.4686698\ttotal: 1.08s\tremaining: 767ms\n",
      "293:\tlearn: 12.4406849\ttotal: 1.09s\tremaining: 764ms\n",
      "294:\tlearn: 12.4173510\ttotal: 1.09s\tremaining: 761ms\n",
      "295:\tlearn: 12.3991750\ttotal: 1.1s\tremaining: 758ms\n",
      "296:\tlearn: 12.3915250\ttotal: 1.1s\tremaining: 755ms\n",
      "297:\tlearn: 12.3707887\ttotal: 1.11s\tremaining: 752ms\n",
      "298:\tlearn: 12.3598834\ttotal: 1.11s\tremaining: 747ms\n",
      "299:\tlearn: 12.3496795\ttotal: 1.11s\tremaining: 743ms\n",
      "300:\tlearn: 12.3299566\ttotal: 1.12s\tremaining: 739ms\n",
      "301:\tlearn: 12.3284933\ttotal: 1.12s\tremaining: 735ms\n",
      "302:\tlearn: 12.3166807\ttotal: 1.12s\tremaining: 731ms\n",
      "303:\tlearn: 12.3021076\ttotal: 1.13s\tremaining: 727ms\n",
      "304:\tlearn: 12.2844672\ttotal: 1.13s\tremaining: 724ms\n",
      "305:\tlearn: 12.2696875\ttotal: 1.14s\tremaining: 721ms\n",
      "306:\tlearn: 12.2580001\ttotal: 1.14s\tremaining: 718ms\n",
      "307:\tlearn: 12.2446372\ttotal: 1.15s\tremaining: 714ms\n",
      "308:\tlearn: 12.2272303\ttotal: 1.15s\tremaining: 711ms\n",
      "309:\tlearn: 12.2077265\ttotal: 1.16s\tremaining: 708ms\n",
      "310:\tlearn: 12.2004947\ttotal: 1.16s\tremaining: 705ms\n",
      "311:\tlearn: 12.1991750\ttotal: 1.16s\tremaining: 702ms\n",
      "312:\tlearn: 12.1814681\ttotal: 1.17s\tremaining: 699ms\n",
      "313:\tlearn: 12.1519659\ttotal: 1.17s\tremaining: 696ms\n",
      "314:\tlearn: 12.1425857\ttotal: 1.18s\tremaining: 692ms\n",
      "315:\tlearn: 12.1279754\ttotal: 1.18s\tremaining: 689ms\n",
      "316:\tlearn: 12.1086261\ttotal: 1.19s\tremaining: 687ms\n",
      "317:\tlearn: 12.0904164\ttotal: 1.19s\tremaining: 684ms\n",
      "318:\tlearn: 12.0727567\ttotal: 1.2s\tremaining: 681ms\n",
      "319:\tlearn: 12.0489863\ttotal: 1.2s\tremaining: 678ms\n",
      "320:\tlearn: 12.0459549\ttotal: 1.21s\tremaining: 675ms\n",
      "321:\tlearn: 12.0394329\ttotal: 1.22s\tremaining: 672ms\n",
      "322:\tlearn: 12.0383131\ttotal: 1.22s\tremaining: 668ms\n",
      "323:\tlearn: 12.0290931\ttotal: 1.22s\tremaining: 665ms\n",
      "324:\tlearn: 12.0185850\ttotal: 1.23s\tremaining: 662ms\n",
      "325:\tlearn: 12.0079440\ttotal: 1.23s\tremaining: 658ms\n",
      "326:\tlearn: 11.9901945\ttotal: 1.24s\tremaining: 655ms\n",
      "327:\tlearn: 11.9704682\ttotal: 1.24s\tremaining: 652ms\n",
      "328:\tlearn: 11.9524495\ttotal: 1.25s\tremaining: 649ms\n",
      "329:\tlearn: 11.9419444\ttotal: 1.25s\tremaining: 645ms\n",
      "330:\tlearn: 11.9407974\ttotal: 1.26s\tremaining: 642ms\n",
      "331:\tlearn: 11.9180053\ttotal: 1.26s\tremaining: 639ms\n",
      "332:\tlearn: 11.9071397\ttotal: 1.27s\tremaining: 635ms\n",
      "333:\tlearn: 11.9061826\ttotal: 1.27s\tremaining: 632ms\n",
      "334:\tlearn: 11.8851413\ttotal: 1.27s\tremaining: 628ms\n",
      "335:\tlearn: 11.8667758\ttotal: 1.28s\tremaining: 625ms\n",
      "336:\tlearn: 11.8485691\ttotal: 1.28s\tremaining: 622ms\n",
      "337:\tlearn: 11.8405955\ttotal: 1.29s\tremaining: 618ms\n",
      "338:\tlearn: 11.8292691\ttotal: 1.29s\tremaining: 615ms\n",
      "339:\tlearn: 11.8139224\ttotal: 1.3s\tremaining: 612ms\n",
      "340:\tlearn: 11.8042194\ttotal: 1.31s\tremaining: 609ms\n",
      "341:\tlearn: 11.7945303\ttotal: 1.31s\tremaining: 606ms\n",
      "342:\tlearn: 11.7766542\ttotal: 1.32s\tremaining: 603ms\n",
      "343:\tlearn: 11.7749875\ttotal: 1.32s\tremaining: 599ms\n",
      "344:\tlearn: 11.7560033\ttotal: 1.33s\tremaining: 596ms\n",
      "345:\tlearn: 11.7509770\ttotal: 1.33s\tremaining: 592ms\n",
      "346:\tlearn: 11.7388908\ttotal: 1.33s\tremaining: 588ms\n",
      "347:\tlearn: 11.7162204\ttotal: 1.34s\tremaining: 585ms\n",
      "348:\tlearn: 11.6971328\ttotal: 1.34s\tremaining: 582ms\n",
      "349:\tlearn: 11.6832056\ttotal: 1.35s\tremaining: 579ms\n",
      "350:\tlearn: 11.6694935\ttotal: 1.35s\tremaining: 575ms\n",
      "351:\tlearn: 11.6511528\ttotal: 1.36s\tremaining: 572ms\n",
      "352:\tlearn: 11.6264062\ttotal: 1.36s\tremaining: 568ms\n",
      "353:\tlearn: 11.6110647\ttotal: 1.37s\tremaining: 565ms\n",
      "354:\tlearn: 11.5949627\ttotal: 1.37s\tremaining: 561ms\n",
      "355:\tlearn: 11.5776945\ttotal: 1.38s\tremaining: 557ms\n",
      "356:\tlearn: 11.5612146\ttotal: 1.38s\tremaining: 554ms\n",
      "357:\tlearn: 11.5337916\ttotal: 1.39s\tremaining: 551ms\n",
      "358:\tlearn: 11.5238317\ttotal: 1.39s\tremaining: 548ms\n",
      "359:\tlearn: 11.5082377\ttotal: 1.4s\tremaining: 544ms\n",
      "360:\tlearn: 11.5037072\ttotal: 1.41s\tremaining: 541ms\n",
      "361:\tlearn: 11.4851151\ttotal: 1.41s\tremaining: 538ms\n",
      "362:\tlearn: 11.4768031\ttotal: 1.42s\tremaining: 534ms\n",
      "363:\tlearn: 11.4621821\ttotal: 1.42s\tremaining: 531ms\n",
      "364:\tlearn: 11.4455155\ttotal: 1.43s\tremaining: 527ms\n",
      "365:\tlearn: 11.4220377\ttotal: 1.43s\tremaining: 524ms\n",
      "366:\tlearn: 11.3994119\ttotal: 1.44s\tremaining: 521ms\n",
      "367:\tlearn: 11.3861075\ttotal: 1.44s\tremaining: 517ms\n",
      "368:\tlearn: 11.3700730\ttotal: 1.45s\tremaining: 514ms\n",
      "369:\tlearn: 11.3675266\ttotal: 1.45s\tremaining: 510ms\n",
      "370:\tlearn: 11.3516365\ttotal: 1.46s\tremaining: 507ms\n",
      "371:\tlearn: 11.3399776\ttotal: 1.46s\tremaining: 503ms\n",
      "372:\tlearn: 11.3226977\ttotal: 1.47s\tremaining: 500ms\n",
      "373:\tlearn: 11.3125956\ttotal: 1.47s\tremaining: 496ms\n",
      "374:\tlearn: 11.3028265\ttotal: 1.48s\tremaining: 492ms\n",
      "375:\tlearn: 11.2843968\ttotal: 1.48s\tremaining: 489ms\n",
      "376:\tlearn: 11.2684130\ttotal: 1.49s\tremaining: 485ms\n",
      "377:\tlearn: 11.2540256\ttotal: 1.49s\tremaining: 482ms\n",
      "378:\tlearn: 11.2439639\ttotal: 1.5s\tremaining: 478ms\n",
      "379:\tlearn: 11.2225425\ttotal: 1.5s\tremaining: 475ms\n",
      "380:\tlearn: 11.2060479\ttotal: 1.51s\tremaining: 471ms\n",
      "381:\tlearn: 11.1856048\ttotal: 1.51s\tremaining: 467ms\n",
      "382:\tlearn: 11.1560751\ttotal: 1.52s\tremaining: 463ms\n",
      "383:\tlearn: 11.1457715\ttotal: 1.52s\tremaining: 460ms\n",
      "384:\tlearn: 11.1203904\ttotal: 1.52s\tremaining: 456ms\n",
      "385:\tlearn: 11.0984385\ttotal: 1.53s\tremaining: 452ms\n",
      "386:\tlearn: 11.0969455\ttotal: 1.53s\tremaining: 448ms\n",
      "387:\tlearn: 11.0886354\ttotal: 1.54s\tremaining: 444ms\n",
      "388:\tlearn: 11.0833887\ttotal: 1.54s\tremaining: 440ms\n",
      "389:\tlearn: 11.0736505\ttotal: 1.54s\tremaining: 435ms\n",
      "390:\tlearn: 11.0528810\ttotal: 1.55s\tremaining: 432ms\n",
      "391:\tlearn: 11.0313741\ttotal: 1.55s\tremaining: 428ms\n",
      "392:\tlearn: 11.0203837\ttotal: 1.56s\tremaining: 424ms\n",
      "393:\tlearn: 11.0043958\ttotal: 1.56s\tremaining: 420ms\n",
      "394:\tlearn: 10.9893268\ttotal: 1.57s\tremaining: 417ms\n",
      "395:\tlearn: 10.9789567\ttotal: 1.57s\tremaining: 413ms\n",
      "396:\tlearn: 10.9766690\ttotal: 1.58s\tremaining: 409ms\n",
      "397:\tlearn: 10.9534957\ttotal: 1.58s\tremaining: 405ms\n",
      "398:\tlearn: 10.9398058\ttotal: 1.59s\tremaining: 402ms\n",
      "399:\tlearn: 10.9282238\ttotal: 1.59s\tremaining: 398ms\n",
      "400:\tlearn: 10.9065832\ttotal: 1.59s\tremaining: 394ms\n",
      "401:\tlearn: 10.8910519\ttotal: 1.6s\tremaining: 390ms\n",
      "402:\tlearn: 10.8774408\ttotal: 1.6s\tremaining: 386ms\n",
      "403:\tlearn: 10.8553267\ttotal: 1.61s\tremaining: 383ms\n",
      "404:\tlearn: 10.8541608\ttotal: 1.61s\tremaining: 379ms\n",
      "405:\tlearn: 10.8416759\ttotal: 1.62s\tremaining: 375ms\n",
      "406:\tlearn: 10.8323797\ttotal: 1.62s\tremaining: 371ms\n",
      "407:\tlearn: 10.8085166\ttotal: 1.63s\tremaining: 367ms\n",
      "408:\tlearn: 10.7930367\ttotal: 1.63s\tremaining: 363ms\n",
      "409:\tlearn: 10.7693053\ttotal: 1.64s\tremaining: 359ms\n",
      "410:\tlearn: 10.7521453\ttotal: 1.64s\tremaining: 355ms\n",
      "411:\tlearn: 10.7508827\ttotal: 1.64s\tremaining: 351ms\n",
      "412:\tlearn: 10.7197118\ttotal: 1.64s\tremaining: 346ms\n",
      "413:\tlearn: 10.7042122\ttotal: 1.65s\tremaining: 342ms\n",
      "414:\tlearn: 10.6871384\ttotal: 1.65s\tremaining: 338ms\n",
      "415:\tlearn: 10.6719739\ttotal: 1.65s\tremaining: 334ms\n",
      "416:\tlearn: 10.6554441\ttotal: 1.66s\tremaining: 330ms\n",
      "417:\tlearn: 10.6406704\ttotal: 1.66s\tremaining: 326ms\n",
      "418:\tlearn: 10.6280256\ttotal: 1.66s\tremaining: 321ms\n",
      "419:\tlearn: 10.6270100\ttotal: 1.67s\tremaining: 317ms\n",
      "420:\tlearn: 10.5998316\ttotal: 1.67s\tremaining: 313ms\n",
      "421:\tlearn: 10.5890115\ttotal: 1.67s\tremaining: 309ms\n",
      "422:\tlearn: 10.5755259\ttotal: 1.68s\tremaining: 305ms\n",
      "423:\tlearn: 10.5577999\ttotal: 1.68s\tremaining: 302ms\n",
      "424:\tlearn: 10.5485228\ttotal: 1.69s\tremaining: 298ms\n",
      "425:\tlearn: 10.5301308\ttotal: 1.69s\tremaining: 294ms\n",
      "426:\tlearn: 10.5145551\ttotal: 1.7s\tremaining: 290ms\n",
      "427:\tlearn: 10.5048031\ttotal: 1.7s\tremaining: 286ms\n",
      "428:\tlearn: 10.5032902\ttotal: 1.71s\tremaining: 282ms\n",
      "429:\tlearn: 10.4821880\ttotal: 1.71s\tremaining: 278ms\n",
      "430:\tlearn: 10.4688627\ttotal: 1.71s\tremaining: 274ms\n",
      "431:\tlearn: 10.4598350\ttotal: 1.72s\tremaining: 270ms\n",
      "432:\tlearn: 10.4449327\ttotal: 1.72s\tremaining: 267ms\n",
      "433:\tlearn: 10.4214975\ttotal: 1.73s\tremaining: 263ms\n",
      "434:\tlearn: 10.4059270\ttotal: 1.73s\tremaining: 259ms\n",
      "435:\tlearn: 10.3935215\ttotal: 1.73s\tremaining: 255ms\n",
      "436:\tlearn: 10.3756747\ttotal: 1.74s\tremaining: 251ms\n",
      "437:\tlearn: 10.3667684\ttotal: 1.74s\tremaining: 246ms\n",
      "438:\tlearn: 10.3461224\ttotal: 1.74s\tremaining: 242ms\n",
      "439:\tlearn: 10.3357535\ttotal: 1.75s\tremaining: 238ms\n",
      "440:\tlearn: 10.3130772\ttotal: 1.75s\tremaining: 234ms\n",
      "441:\tlearn: 10.3017810\ttotal: 1.75s\tremaining: 230ms\n",
      "442:\tlearn: 10.2804443\ttotal: 1.76s\tremaining: 226ms\n",
      "443:\tlearn: 10.2794462\ttotal: 1.76s\tremaining: 222ms\n",
      "444:\tlearn: 10.2733985\ttotal: 1.76s\tremaining: 218ms\n",
      "445:\tlearn: 10.2613899\ttotal: 1.77s\tremaining: 214ms\n",
      "446:\tlearn: 10.2506821\ttotal: 1.77s\tremaining: 210ms\n",
      "447:\tlearn: 10.2376204\ttotal: 1.78s\tremaining: 206ms\n",
      "448:\tlearn: 10.2276945\ttotal: 1.78s\tremaining: 202ms\n",
      "449:\tlearn: 10.2112470\ttotal: 1.79s\tremaining: 199ms\n",
      "450:\tlearn: 10.2024095\ttotal: 1.79s\tremaining: 195ms\n",
      "451:\tlearn: 10.1930012\ttotal: 1.8s\tremaining: 191ms\n",
      "452:\tlearn: 10.1833227\ttotal: 1.8s\tremaining: 187ms\n",
      "453:\tlearn: 10.1807685\ttotal: 1.81s\tremaining: 183ms\n",
      "454:\tlearn: 10.1798164\ttotal: 1.81s\tremaining: 179ms\n",
      "455:\tlearn: 10.1702179\ttotal: 1.82s\tremaining: 175ms\n",
      "456:\tlearn: 10.1484937\ttotal: 1.82s\tremaining: 171ms\n",
      "457:\tlearn: 10.1429106\ttotal: 1.82s\tremaining: 167ms\n",
      "458:\tlearn: 10.1308370\ttotal: 1.82s\tremaining: 163ms\n",
      "459:\tlearn: 10.1179838\ttotal: 1.83s\tremaining: 159ms\n",
      "460:\tlearn: 10.1157691\ttotal: 1.83s\tremaining: 155ms\n",
      "461:\tlearn: 10.0994474\ttotal: 1.83s\tremaining: 151ms\n",
      "462:\tlearn: 10.0812168\ttotal: 1.84s\tremaining: 147ms\n",
      "463:\tlearn: 10.0685914\ttotal: 1.84s\tremaining: 143ms\n",
      "464:\tlearn: 10.0456603\ttotal: 1.84s\tremaining: 139ms\n",
      "465:\tlearn: 10.0398922\ttotal: 1.85s\tremaining: 135ms\n",
      "466:\tlearn: 10.0270399\ttotal: 1.85s\tremaining: 131ms\n",
      "467:\tlearn: 10.0175965\ttotal: 1.85s\tremaining: 127ms\n",
      "468:\tlearn: 10.0031746\ttotal: 1.86s\tremaining: 123ms\n",
      "469:\tlearn: 9.9943206\ttotal: 1.86s\tremaining: 119ms\n",
      "470:\tlearn: 9.9936498\ttotal: 1.87s\tremaining: 115ms\n",
      "471:\tlearn: 9.9795434\ttotal: 1.87s\tremaining: 111ms\n",
      "472:\tlearn: 9.9601269\ttotal: 1.88s\tremaining: 107ms\n",
      "473:\tlearn: 9.9484821\ttotal: 1.88s\tremaining: 103ms\n",
      "474:\tlearn: 9.9372576\ttotal: 1.89s\tremaining: 99.4ms\n",
      "475:\tlearn: 9.9211244\ttotal: 1.89s\tremaining: 95.5ms\n",
      "476:\tlearn: 9.9109128\ttotal: 1.9s\tremaining: 91.5ms\n",
      "477:\tlearn: 9.8942793\ttotal: 1.9s\tremaining: 87.6ms\n",
      "478:\tlearn: 9.8797004\ttotal: 1.91s\tremaining: 83.6ms\n",
      "479:\tlearn: 9.8672215\ttotal: 1.91s\tremaining: 79.7ms\n",
      "480:\tlearn: 9.8540095\ttotal: 1.92s\tremaining: 75.7ms\n",
      "481:\tlearn: 9.8412846\ttotal: 1.92s\tremaining: 71.8ms\n",
      "482:\tlearn: 9.8352132\ttotal: 1.93s\tremaining: 67.8ms\n",
      "483:\tlearn: 9.8203797\ttotal: 1.93s\tremaining: 63.9ms\n",
      "484:\tlearn: 9.8066378\ttotal: 1.94s\tremaining: 59.9ms\n",
      "485:\tlearn: 9.7863222\ttotal: 1.94s\tremaining: 55.9ms\n",
      "486:\tlearn: 9.7729741\ttotal: 1.95s\tremaining: 51.9ms\n",
      "487:\tlearn: 9.7589718\ttotal: 1.95s\tremaining: 48ms\n",
      "488:\tlearn: 9.7489178\ttotal: 1.96s\tremaining: 44ms\n",
      "489:\tlearn: 9.7388658\ttotal: 1.96s\tremaining: 40ms\n",
      "490:\tlearn: 9.7213140\ttotal: 1.96s\tremaining: 36ms\n",
      "491:\tlearn: 9.7014377\ttotal: 1.97s\tremaining: 32ms\n",
      "492:\tlearn: 9.6930343\ttotal: 1.97s\tremaining: 28ms\n",
      "493:\tlearn: 9.6805798\ttotal: 1.98s\tremaining: 24ms\n",
      "494:\tlearn: 9.6669432\ttotal: 1.98s\tremaining: 20ms\n",
      "495:\tlearn: 9.6661368\ttotal: 1.99s\tremaining: 16ms\n",
      "496:\tlearn: 9.6550339\ttotal: 1.99s\tremaining: 12ms\n",
      "497:\tlearn: 9.6543097\ttotal: 2s\tremaining: 8.02ms\n",
      "498:\tlearn: 9.6347825\ttotal: 2s\tremaining: 4.01ms\n",
      "499:\tlearn: 9.6215807\ttotal: 2s\tremaining: 0us\n",
      "Learning rate set to 0.083825\n",
      "0:\tlearn: 32.1843052\ttotal: 6.37ms\tremaining: 3.18s\n",
      "1:\tlearn: 31.1501336\ttotal: 11.5ms\tremaining: 2.87s\n",
      "2:\tlearn: 30.2117470\ttotal: 16.4ms\tremaining: 2.71s\n",
      "3:\tlearn: 29.3693981\ttotal: 21.3ms\tremaining: 2.64s\n",
      "4:\tlearn: 28.5347848\ttotal: 27.2ms\tremaining: 2.69s\n",
      "5:\tlearn: 27.8489214\ttotal: 32.9ms\tremaining: 2.71s\n",
      "6:\tlearn: 27.1349834\ttotal: 38.6ms\tremaining: 2.72s\n",
      "7:\tlearn: 26.5254049\ttotal: 44.3ms\tremaining: 2.72s\n",
      "8:\tlearn: 25.9642343\ttotal: 50.2ms\tremaining: 2.74s\n",
      "9:\tlearn: 25.4724488\ttotal: 55.9ms\tremaining: 2.74s\n",
      "10:\tlearn: 25.1169399\ttotal: 61.8ms\tremaining: 2.75s\n",
      "11:\tlearn: 24.6631260\ttotal: 67.5ms\tremaining: 2.75s\n",
      "12:\tlearn: 24.3406326\ttotal: 73.4ms\tremaining: 2.75s\n",
      "13:\tlearn: 23.9890416\ttotal: 78.9ms\tremaining: 2.74s\n",
      "14:\tlearn: 23.7342561\ttotal: 84.5ms\tremaining: 2.73s\n",
      "15:\tlearn: 23.5067164\ttotal: 89.6ms\tremaining: 2.71s\n",
      "16:\tlearn: 23.1780324\ttotal: 92.9ms\tremaining: 2.64s\n",
      "17:\tlearn: 22.9394741\ttotal: 96.2ms\tremaining: 2.58s\n",
      "18:\tlearn: 22.7668293\ttotal: 99.6ms\tremaining: 2.52s\n",
      "19:\tlearn: 22.5692574\ttotal: 103ms\tremaining: 2.47s\n",
      "20:\tlearn: 22.4109293\ttotal: 106ms\tremaining: 2.42s\n",
      "21:\tlearn: 22.2230394\ttotal: 109ms\tremaining: 2.38s\n",
      "22:\tlearn: 22.0847332\ttotal: 113ms\tremaining: 2.33s\n",
      "23:\tlearn: 21.9149019\ttotal: 116ms\tremaining: 2.3s\n",
      "24:\tlearn: 21.7796753\ttotal: 119ms\tremaining: 2.26s\n",
      "25:\tlearn: 21.6346221\ttotal: 122ms\tremaining: 2.23s\n",
      "26:\tlearn: 21.5300810\ttotal: 126ms\tremaining: 2.2s\n",
      "27:\tlearn: 21.4036113\ttotal: 129ms\tremaining: 2.17s\n",
      "28:\tlearn: 21.3056713\ttotal: 132ms\tremaining: 2.14s\n",
      "29:\tlearn: 21.1786926\ttotal: 135ms\tremaining: 2.11s\n",
      "30:\tlearn: 21.0939463\ttotal: 138ms\tremaining: 2.09s\n",
      "31:\tlearn: 20.9905104\ttotal: 142ms\tremaining: 2.07s\n",
      "32:\tlearn: 20.9150208\ttotal: 145ms\tremaining: 2.05s\n",
      "33:\tlearn: 20.8438249\ttotal: 148ms\tremaining: 2.03s\n",
      "34:\tlearn: 20.7838449\ttotal: 151ms\tremaining: 2s\n",
      "35:\tlearn: 20.6723221\ttotal: 154ms\tremaining: 1.99s\n",
      "36:\tlearn: 20.6165078\ttotal: 157ms\tremaining: 1.97s\n",
      "37:\tlearn: 20.5666858\ttotal: 160ms\tremaining: 1.95s\n",
      "38:\tlearn: 20.5129427\ttotal: 164ms\tremaining: 1.93s\n",
      "39:\tlearn: 20.4533327\ttotal: 167ms\tremaining: 1.92s\n",
      "40:\tlearn: 20.3961959\ttotal: 172ms\tremaining: 1.92s\n",
      "41:\tlearn: 20.3359896\ttotal: 177ms\tremaining: 1.93s\n",
      "42:\tlearn: 20.2722346\ttotal: 182ms\tremaining: 1.93s\n",
      "43:\tlearn: 20.2040756\ttotal: 187ms\tremaining: 1.93s\n",
      "44:\tlearn: 20.1459161\ttotal: 192ms\tremaining: 1.94s\n",
      "45:\tlearn: 20.0773632\ttotal: 199ms\tremaining: 1.97s\n",
      "46:\tlearn: 20.0240305\ttotal: 205ms\tremaining: 1.97s\n",
      "47:\tlearn: 19.9783794\ttotal: 210ms\tremaining: 1.97s\n",
      "48:\tlearn: 19.9335824\ttotal: 215ms\tremaining: 1.98s\n",
      "49:\tlearn: 19.8896172\ttotal: 220ms\tremaining: 1.98s\n",
      "50:\tlearn: 19.8310842\ttotal: 225ms\tremaining: 1.98s\n",
      "51:\tlearn: 19.8014317\ttotal: 230ms\tremaining: 1.98s\n",
      "52:\tlearn: 19.7391005\ttotal: 235ms\tremaining: 1.98s\n",
      "53:\tlearn: 19.6985045\ttotal: 240ms\tremaining: 1.98s\n",
      "54:\tlearn: 19.6529799\ttotal: 245ms\tremaining: 1.98s\n",
      "55:\tlearn: 19.6255759\ttotal: 248ms\tremaining: 1.97s\n",
      "56:\tlearn: 19.5864701\ttotal: 251ms\tremaining: 1.95s\n",
      "57:\tlearn: 19.5510595\ttotal: 255ms\tremaining: 1.94s\n",
      "58:\tlearn: 19.5126732\ttotal: 258ms\tremaining: 1.93s\n",
      "59:\tlearn: 19.4523298\ttotal: 261ms\tremaining: 1.92s\n",
      "60:\tlearn: 19.4197488\ttotal: 265ms\tremaining: 1.9s\n",
      "61:\tlearn: 19.3768097\ttotal: 268ms\tremaining: 1.89s\n",
      "62:\tlearn: 19.3511208\ttotal: 271ms\tremaining: 1.88s\n",
      "63:\tlearn: 19.2984093\ttotal: 275ms\tremaining: 1.87s\n",
      "64:\tlearn: 19.2754717\ttotal: 278ms\tremaining: 1.86s\n",
      "65:\tlearn: 19.2283592\ttotal: 282ms\tremaining: 1.85s\n",
      "66:\tlearn: 19.1817275\ttotal: 286ms\tremaining: 1.85s\n",
      "67:\tlearn: 19.1312732\ttotal: 289ms\tremaining: 1.84s\n",
      "68:\tlearn: 19.0864813\ttotal: 293ms\tremaining: 1.83s\n",
      "69:\tlearn: 19.0250240\ttotal: 296ms\tremaining: 1.82s\n",
      "70:\tlearn: 18.9984322\ttotal: 299ms\tremaining: 1.81s\n",
      "71:\tlearn: 18.9626560\ttotal: 303ms\tremaining: 1.8s\n",
      "72:\tlearn: 18.9160717\ttotal: 306ms\tremaining: 1.79s\n",
      "73:\tlearn: 18.8827355\ttotal: 309ms\tremaining: 1.78s\n",
      "74:\tlearn: 18.8550484\ttotal: 312ms\tremaining: 1.77s\n",
      "75:\tlearn: 18.8320944\ttotal: 315ms\tremaining: 1.76s\n",
      "76:\tlearn: 18.8112347\ttotal: 319ms\tremaining: 1.75s\n",
      "77:\tlearn: 18.7999777\ttotal: 322ms\tremaining: 1.74s\n",
      "78:\tlearn: 18.7858201\ttotal: 325ms\tremaining: 1.73s\n",
      "79:\tlearn: 18.7555587\ttotal: 328ms\tremaining: 1.72s\n",
      "80:\tlearn: 18.7310968\ttotal: 331ms\tremaining: 1.71s\n",
      "81:\tlearn: 18.6927017\ttotal: 334ms\tremaining: 1.71s\n",
      "82:\tlearn: 18.6520862\ttotal: 338ms\tremaining: 1.7s\n",
      "83:\tlearn: 18.6301366\ttotal: 341ms\tremaining: 1.69s\n",
      "84:\tlearn: 18.5772730\ttotal: 345ms\tremaining: 1.68s\n",
      "85:\tlearn: 18.5470324\ttotal: 348ms\tremaining: 1.68s\n",
      "86:\tlearn: 18.5027657\ttotal: 352ms\tremaining: 1.67s\n",
      "87:\tlearn: 18.4503657\ttotal: 355ms\tremaining: 1.66s\n",
      "88:\tlearn: 18.4149368\ttotal: 358ms\tremaining: 1.66s\n",
      "89:\tlearn: 18.3853058\ttotal: 365ms\tremaining: 1.66s\n",
      "90:\tlearn: 18.3579852\ttotal: 370ms\tremaining: 1.66s\n",
      "91:\tlearn: 18.3053916\ttotal: 375ms\tremaining: 1.66s\n",
      "92:\tlearn: 18.2734305\ttotal: 380ms\tremaining: 1.66s\n",
      "93:\tlearn: 18.2323995\ttotal: 384ms\tremaining: 1.66s\n",
      "94:\tlearn: 18.1929354\ttotal: 387ms\tremaining: 1.65s\n",
      "95:\tlearn: 18.1550880\ttotal: 390ms\tremaining: 1.64s\n",
      "96:\tlearn: 18.1223014\ttotal: 394ms\tremaining: 1.64s\n",
      "97:\tlearn: 18.0834390\ttotal: 397ms\tremaining: 1.63s\n",
      "98:\tlearn: 18.0675252\ttotal: 400ms\tremaining: 1.62s\n",
      "99:\tlearn: 18.0395492\ttotal: 404ms\tremaining: 1.61s\n",
      "100:\tlearn: 17.9998955\ttotal: 407ms\tremaining: 1.61s\n",
      "101:\tlearn: 17.9445143\ttotal: 410ms\tremaining: 1.6s\n",
      "102:\tlearn: 17.9285388\ttotal: 414ms\tremaining: 1.59s\n",
      "103:\tlearn: 17.8933277\ttotal: 417ms\tremaining: 1.59s\n",
      "104:\tlearn: 17.8451686\ttotal: 420ms\tremaining: 1.58s\n",
      "105:\tlearn: 17.8245738\ttotal: 426ms\tremaining: 1.58s\n",
      "106:\tlearn: 17.7776257\ttotal: 431ms\tremaining: 1.58s\n",
      "107:\tlearn: 17.7488792\ttotal: 436ms\tremaining: 1.58s\n",
      "108:\tlearn: 17.7297460\ttotal: 441ms\tremaining: 1.58s\n",
      "109:\tlearn: 17.6855133\ttotal: 446ms\tremaining: 1.58s\n",
      "110:\tlearn: 17.6639979\ttotal: 450ms\tremaining: 1.58s\n",
      "111:\tlearn: 17.6295114\ttotal: 456ms\tremaining: 1.58s\n",
      "112:\tlearn: 17.6032293\ttotal: 462ms\tremaining: 1.58s\n",
      "113:\tlearn: 17.6004763\ttotal: 466ms\tremaining: 1.58s\n",
      "114:\tlearn: 17.5645558\ttotal: 469ms\tremaining: 1.57s\n",
      "115:\tlearn: 17.5432376\ttotal: 473ms\tremaining: 1.56s\n",
      "116:\tlearn: 17.5242275\ttotal: 476ms\tremaining: 1.56s\n",
      "117:\tlearn: 17.5023387\ttotal: 479ms\tremaining: 1.55s\n",
      "118:\tlearn: 17.4992469\ttotal: 482ms\tremaining: 1.54s\n",
      "119:\tlearn: 17.4727411\ttotal: 486ms\tremaining: 1.54s\n",
      "120:\tlearn: 17.4347783\ttotal: 489ms\tremaining: 1.53s\n",
      "121:\tlearn: 17.4080133\ttotal: 492ms\tremaining: 1.52s\n",
      "122:\tlearn: 17.3826099\ttotal: 495ms\tremaining: 1.52s\n",
      "123:\tlearn: 17.3573609\ttotal: 499ms\tremaining: 1.51s\n",
      "124:\tlearn: 17.3260473\ttotal: 504ms\tremaining: 1.51s\n",
      "125:\tlearn: 17.2786228\ttotal: 510ms\tremaining: 1.51s\n",
      "126:\tlearn: 17.2452496\ttotal: 513ms\tremaining: 1.51s\n",
      "127:\tlearn: 17.2145157\ttotal: 517ms\tremaining: 1.5s\n",
      "128:\tlearn: 17.1891648\ttotal: 520ms\tremaining: 1.5s\n",
      "129:\tlearn: 17.1609682\ttotal: 524ms\tremaining: 1.49s\n",
      "130:\tlearn: 17.1388524\ttotal: 527ms\tremaining: 1.48s\n",
      "131:\tlearn: 17.1091392\ttotal: 530ms\tremaining: 1.48s\n",
      "132:\tlearn: 17.0710171\ttotal: 536ms\tremaining: 1.48s\n",
      "133:\tlearn: 17.0418222\ttotal: 540ms\tremaining: 1.48s\n",
      "134:\tlearn: 17.0175871\ttotal: 545ms\tremaining: 1.47s\n",
      "135:\tlearn: 16.9842670\ttotal: 548ms\tremaining: 1.47s\n",
      "136:\tlearn: 16.9817971\ttotal: 552ms\tremaining: 1.46s\n",
      "137:\tlearn: 16.9551710\ttotal: 555ms\tremaining: 1.46s\n",
      "138:\tlearn: 16.9222409\ttotal: 559ms\tremaining: 1.45s\n",
      "139:\tlearn: 16.9068941\ttotal: 562ms\tremaining: 1.45s\n",
      "140:\tlearn: 16.8799664\ttotal: 566ms\tremaining: 1.44s\n",
      "141:\tlearn: 16.8546358\ttotal: 569ms\tremaining: 1.43s\n",
      "142:\tlearn: 16.8201504\ttotal: 573ms\tremaining: 1.43s\n",
      "143:\tlearn: 16.8176115\ttotal: 576ms\tremaining: 1.42s\n",
      "144:\tlearn: 16.7979740\ttotal: 580ms\tremaining: 1.42s\n",
      "145:\tlearn: 16.7575235\ttotal: 583ms\tremaining: 1.41s\n",
      "146:\tlearn: 16.7224830\ttotal: 587ms\tremaining: 1.41s\n",
      "147:\tlearn: 16.7001534\ttotal: 590ms\tremaining: 1.4s\n",
      "148:\tlearn: 16.6766296\ttotal: 593ms\tremaining: 1.4s\n",
      "149:\tlearn: 16.6424527\ttotal: 597ms\tremaining: 1.39s\n",
      "150:\tlearn: 16.5944844\ttotal: 600ms\tremaining: 1.39s\n",
      "151:\tlearn: 16.5597078\ttotal: 604ms\tremaining: 1.38s\n",
      "152:\tlearn: 16.5310101\ttotal: 607ms\tremaining: 1.38s\n",
      "153:\tlearn: 16.4952905\ttotal: 611ms\tremaining: 1.37s\n",
      "154:\tlearn: 16.4755580\ttotal: 614ms\tremaining: 1.37s\n",
      "155:\tlearn: 16.4467132\ttotal: 618ms\tremaining: 1.36s\n",
      "156:\tlearn: 16.4213127\ttotal: 621ms\tremaining: 1.36s\n",
      "157:\tlearn: 16.4018181\ttotal: 625ms\tremaining: 1.35s\n",
      "158:\tlearn: 16.3790551\ttotal: 628ms\tremaining: 1.35s\n",
      "159:\tlearn: 16.3500760\ttotal: 632ms\tremaining: 1.34s\n",
      "160:\tlearn: 16.3277904\ttotal: 635ms\tremaining: 1.34s\n",
      "161:\tlearn: 16.3256217\ttotal: 638ms\tremaining: 1.33s\n",
      "162:\tlearn: 16.2913966\ttotal: 642ms\tremaining: 1.33s\n",
      "163:\tlearn: 16.2641569\ttotal: 645ms\tremaining: 1.32s\n",
      "164:\tlearn: 16.2449692\ttotal: 649ms\tremaining: 1.32s\n",
      "165:\tlearn: 16.2247133\ttotal: 652ms\tremaining: 1.31s\n",
      "166:\tlearn: 16.2059500\ttotal: 656ms\tremaining: 1.31s\n",
      "167:\tlearn: 16.1870207\ttotal: 659ms\tremaining: 1.3s\n",
      "168:\tlearn: 16.1649720\ttotal: 663ms\tremaining: 1.3s\n",
      "169:\tlearn: 16.1343327\ttotal: 666ms\tremaining: 1.29s\n",
      "170:\tlearn: 16.1074192\ttotal: 670ms\tremaining: 1.29s\n",
      "171:\tlearn: 16.0763450\ttotal: 673ms\tremaining: 1.28s\n",
      "172:\tlearn: 16.0440689\ttotal: 677ms\tremaining: 1.28s\n",
      "173:\tlearn: 16.0193960\ttotal: 680ms\tremaining: 1.27s\n",
      "174:\tlearn: 16.0006968\ttotal: 683ms\tremaining: 1.27s\n",
      "175:\tlearn: 15.9781891\ttotal: 687ms\tremaining: 1.26s\n",
      "176:\tlearn: 15.9507530\ttotal: 690ms\tremaining: 1.26s\n",
      "177:\tlearn: 15.9285940\ttotal: 694ms\tremaining: 1.25s\n",
      "178:\tlearn: 15.9023512\ttotal: 698ms\tremaining: 1.25s\n",
      "179:\tlearn: 15.8916255\ttotal: 701ms\tremaining: 1.25s\n",
      "180:\tlearn: 15.8896430\ttotal: 704ms\tremaining: 1.24s\n",
      "181:\tlearn: 15.8637151\ttotal: 708ms\tremaining: 1.24s\n",
      "182:\tlearn: 15.8361401\ttotal: 711ms\tremaining: 1.23s\n",
      "183:\tlearn: 15.8098639\ttotal: 715ms\tremaining: 1.23s\n",
      "184:\tlearn: 15.7853537\ttotal: 719ms\tremaining: 1.22s\n",
      "185:\tlearn: 15.7573332\ttotal: 723ms\tremaining: 1.22s\n",
      "186:\tlearn: 15.7555288\ttotal: 726ms\tremaining: 1.22s\n",
      "187:\tlearn: 15.7344215\ttotal: 730ms\tremaining: 1.21s\n",
      "188:\tlearn: 15.7325666\ttotal: 733ms\tremaining: 1.21s\n",
      "189:\tlearn: 15.7167741\ttotal: 737ms\tremaining: 1.2s\n",
      "190:\tlearn: 15.7001410\ttotal: 740ms\tremaining: 1.2s\n",
      "191:\tlearn: 15.6982404\ttotal: 744ms\tremaining: 1.19s\n",
      "192:\tlearn: 15.6812390\ttotal: 747ms\tremaining: 1.19s\n",
      "193:\tlearn: 15.6727739\ttotal: 751ms\tremaining: 1.18s\n",
      "194:\tlearn: 15.6532485\ttotal: 754ms\tremaining: 1.18s\n",
      "195:\tlearn: 15.6137665\ttotal: 758ms\tremaining: 1.18s\n",
      "196:\tlearn: 15.5892948\ttotal: 761ms\tremaining: 1.17s\n",
      "197:\tlearn: 15.5631819\ttotal: 765ms\tremaining: 1.17s\n",
      "198:\tlearn: 15.5307558\ttotal: 768ms\tremaining: 1.16s\n",
      "199:\tlearn: 15.5058942\ttotal: 772ms\tremaining: 1.16s\n",
      "200:\tlearn: 15.4964488\ttotal: 775ms\tremaining: 1.15s\n",
      "201:\tlearn: 15.4920985\ttotal: 778ms\tremaining: 1.15s\n",
      "202:\tlearn: 15.4749786\ttotal: 782ms\tremaining: 1.14s\n",
      "203:\tlearn: 15.4501042\ttotal: 786ms\tremaining: 1.14s\n",
      "204:\tlearn: 15.4243873\ttotal: 790ms\tremaining: 1.14s\n",
      "205:\tlearn: 15.4019985\ttotal: 794ms\tremaining: 1.13s\n",
      "206:\tlearn: 15.3749650\ttotal: 797ms\tremaining: 1.13s\n",
      "207:\tlearn: 15.3522256\ttotal: 800ms\tremaining: 1.12s\n",
      "208:\tlearn: 15.3479693\ttotal: 804ms\tremaining: 1.12s\n",
      "209:\tlearn: 15.3361516\ttotal: 807ms\tremaining: 1.11s\n",
      "210:\tlearn: 15.3186043\ttotal: 810ms\tremaining: 1.11s\n",
      "211:\tlearn: 15.3056837\ttotal: 814ms\tremaining: 1.1s\n",
      "212:\tlearn: 15.2813319\ttotal: 817ms\tremaining: 1.1s\n",
      "213:\tlearn: 15.2620948\ttotal: 820ms\tremaining: 1.1s\n",
      "214:\tlearn: 15.2334975\ttotal: 824ms\tremaining: 1.09s\n",
      "215:\tlearn: 15.2210156\ttotal: 827ms\tremaining: 1.09s\n",
      "216:\tlearn: 15.1929345\ttotal: 830ms\tremaining: 1.08s\n",
      "217:\tlearn: 15.1731094\ttotal: 835ms\tremaining: 1.08s\n",
      "218:\tlearn: 15.1469179\ttotal: 838ms\tremaining: 1.07s\n",
      "219:\tlearn: 15.1220965\ttotal: 842ms\tremaining: 1.07s\n",
      "220:\tlearn: 15.0895785\ttotal: 847ms\tremaining: 1.07s\n",
      "221:\tlearn: 15.0634126\ttotal: 853ms\tremaining: 1.07s\n",
      "222:\tlearn: 15.0504011\ttotal: 858ms\tremaining: 1.06s\n",
      "223:\tlearn: 15.0362949\ttotal: 863ms\tremaining: 1.06s\n",
      "224:\tlearn: 15.0134053\ttotal: 868ms\tremaining: 1.06s\n",
      "225:\tlearn: 14.9883666\ttotal: 874ms\tremaining: 1.06s\n",
      "226:\tlearn: 14.9666443\ttotal: 879ms\tremaining: 1.06s\n",
      "227:\tlearn: 14.9495738\ttotal: 884ms\tremaining: 1.05s\n",
      "228:\tlearn: 14.9239420\ttotal: 889ms\tremaining: 1.05s\n",
      "229:\tlearn: 14.9079086\ttotal: 894ms\tremaining: 1.05s\n",
      "230:\tlearn: 14.8958772\ttotal: 898ms\tremaining: 1.05s\n",
      "231:\tlearn: 14.8852371\ttotal: 903ms\tremaining: 1.04s\n",
      "232:\tlearn: 14.8653174\ttotal: 908ms\tremaining: 1.04s\n",
      "233:\tlearn: 14.8475245\ttotal: 913ms\tremaining: 1.04s\n",
      "234:\tlearn: 14.8419473\ttotal: 918ms\tremaining: 1.03s\n",
      "235:\tlearn: 14.8238450\ttotal: 922ms\tremaining: 1.03s\n",
      "236:\tlearn: 14.8036669\ttotal: 927ms\tremaining: 1.03s\n",
      "237:\tlearn: 14.7735755\ttotal: 932ms\tremaining: 1.03s\n",
      "238:\tlearn: 14.7467602\ttotal: 937ms\tremaining: 1.02s\n",
      "239:\tlearn: 14.7281368\ttotal: 942ms\tremaining: 1.02s\n",
      "240:\tlearn: 14.6990296\ttotal: 947ms\tremaining: 1.02s\n",
      "241:\tlearn: 14.6671510\ttotal: 952ms\tremaining: 1.01s\n",
      "242:\tlearn: 14.6490320\ttotal: 957ms\tremaining: 1.01s\n",
      "243:\tlearn: 14.6373177\ttotal: 962ms\tremaining: 1.01s\n",
      "244:\tlearn: 14.6235155\ttotal: 967ms\tremaining: 1.01s\n",
      "245:\tlearn: 14.6023250\ttotal: 971ms\tremaining: 1s\n",
      "246:\tlearn: 14.5863009\ttotal: 977ms\tremaining: 1s\n",
      "247:\tlearn: 14.5828674\ttotal: 982ms\tremaining: 998ms\n",
      "248:\tlearn: 14.5653708\ttotal: 987ms\tremaining: 995ms\n",
      "249:\tlearn: 14.5491650\ttotal: 992ms\tremaining: 992ms\n",
      "250:\tlearn: 14.5289299\ttotal: 997ms\tremaining: 989ms\n",
      "251:\tlearn: 14.5080080\ttotal: 1s\tremaining: 987ms\n",
      "252:\tlearn: 14.4805038\ttotal: 1.01s\tremaining: 984ms\n",
      "253:\tlearn: 14.4523182\ttotal: 1.01s\tremaining: 982ms\n",
      "254:\tlearn: 14.4295430\ttotal: 1.02s\tremaining: 979ms\n",
      "255:\tlearn: 14.4175787\ttotal: 1.02s\tremaining: 976ms\n",
      "256:\tlearn: 14.3885365\ttotal: 1.03s\tremaining: 974ms\n",
      "257:\tlearn: 14.3721556\ttotal: 1.03s\tremaining: 971ms\n",
      "258:\tlearn: 14.3428278\ttotal: 1.04s\tremaining: 968ms\n",
      "259:\tlearn: 14.3182693\ttotal: 1.04s\tremaining: 965ms\n",
      "260:\tlearn: 14.2950025\ttotal: 1.05s\tremaining: 961ms\n",
      "261:\tlearn: 14.2731287\ttotal: 1.05s\tremaining: 957ms\n",
      "262:\tlearn: 14.2715358\ttotal: 1.06s\tremaining: 952ms\n",
      "263:\tlearn: 14.2515044\ttotal: 1.06s\tremaining: 947ms\n",
      "264:\tlearn: 14.2318627\ttotal: 1.06s\tremaining: 943ms\n",
      "265:\tlearn: 14.2275697\ttotal: 1.07s\tremaining: 938ms\n",
      "266:\tlearn: 14.2014891\ttotal: 1.07s\tremaining: 936ms\n",
      "267:\tlearn: 14.1737493\ttotal: 1.08s\tremaining: 933ms\n",
      "268:\tlearn: 14.1617990\ttotal: 1.08s\tremaining: 929ms\n",
      "269:\tlearn: 14.1407736\ttotal: 1.08s\tremaining: 925ms\n",
      "270:\tlearn: 14.1280527\ttotal: 1.09s\tremaining: 920ms\n",
      "271:\tlearn: 14.1080833\ttotal: 1.09s\tremaining: 916ms\n",
      "272:\tlearn: 14.0898031\ttotal: 1.1s\tremaining: 913ms\n",
      "273:\tlearn: 14.0705716\ttotal: 1.1s\tremaining: 909ms\n",
      "274:\tlearn: 14.0537547\ttotal: 1.11s\tremaining: 906ms\n",
      "275:\tlearn: 14.0489279\ttotal: 1.11s\tremaining: 903ms\n",
      "276:\tlearn: 14.0321873\ttotal: 1.11s\tremaining: 898ms\n",
      "277:\tlearn: 14.0279394\ttotal: 1.12s\tremaining: 895ms\n",
      "278:\tlearn: 14.0054769\ttotal: 1.12s\tremaining: 891ms\n",
      "279:\tlearn: 14.0018589\ttotal: 1.13s\tremaining: 886ms\n",
      "280:\tlearn: 13.9814160\ttotal: 1.13s\tremaining: 883ms\n",
      "281:\tlearn: 13.9768296\ttotal: 1.14s\tremaining: 880ms\n",
      "282:\tlearn: 13.9753225\ttotal: 1.14s\tremaining: 876ms\n",
      "283:\tlearn: 13.9716087\ttotal: 1.15s\tremaining: 873ms\n",
      "284:\tlearn: 13.9474890\ttotal: 1.15s\tremaining: 870ms\n",
      "285:\tlearn: 13.9339719\ttotal: 1.16s\tremaining: 867ms\n",
      "286:\tlearn: 13.9301446\ttotal: 1.16s\tremaining: 863ms\n",
      "287:\tlearn: 13.9032686\ttotal: 1.17s\tremaining: 861ms\n",
      "288:\tlearn: 13.8798520\ttotal: 1.18s\tremaining: 858ms\n",
      "289:\tlearn: 13.8687681\ttotal: 1.18s\tremaining: 855ms\n",
      "290:\tlearn: 13.8485167\ttotal: 1.19s\tremaining: 852ms\n",
      "291:\tlearn: 13.8241479\ttotal: 1.19s\tremaining: 849ms\n",
      "292:\tlearn: 13.7967456\ttotal: 1.2s\tremaining: 845ms\n",
      "293:\tlearn: 13.7818792\ttotal: 1.2s\tremaining: 842ms\n",
      "294:\tlearn: 13.7701724\ttotal: 1.21s\tremaining: 838ms\n",
      "295:\tlearn: 13.7471991\ttotal: 1.21s\tremaining: 834ms\n",
      "296:\tlearn: 13.7269856\ttotal: 1.21s\tremaining: 829ms\n",
      "297:\tlearn: 13.7111559\ttotal: 1.22s\tremaining: 825ms\n",
      "298:\tlearn: 13.6956765\ttotal: 1.22s\tremaining: 821ms\n",
      "299:\tlearn: 13.6700791\ttotal: 1.22s\tremaining: 816ms\n",
      "300:\tlearn: 13.6525858\ttotal: 1.23s\tremaining: 812ms\n",
      "301:\tlearn: 13.6400390\ttotal: 1.23s\tremaining: 808ms\n",
      "302:\tlearn: 13.6387042\ttotal: 1.24s\tremaining: 804ms\n",
      "303:\tlearn: 13.6267078\ttotal: 1.24s\tremaining: 799ms\n",
      "304:\tlearn: 13.6253823\ttotal: 1.24s\tremaining: 795ms\n",
      "305:\tlearn: 13.6099123\ttotal: 1.25s\tremaining: 790ms\n",
      "306:\tlearn: 13.5852662\ttotal: 1.25s\tremaining: 786ms\n",
      "307:\tlearn: 13.5665918\ttotal: 1.25s\tremaining: 782ms\n",
      "308:\tlearn: 13.5441157\ttotal: 1.26s\tremaining: 777ms\n",
      "309:\tlearn: 13.5211698\ttotal: 1.26s\tremaining: 773ms\n",
      "310:\tlearn: 13.5199755\ttotal: 1.26s\tremaining: 768ms\n",
      "311:\tlearn: 13.5000822\ttotal: 1.27s\tremaining: 764ms\n",
      "312:\tlearn: 13.4882935\ttotal: 1.27s\tremaining: 760ms\n",
      "313:\tlearn: 13.4767502\ttotal: 1.27s\tremaining: 755ms\n",
      "314:\tlearn: 13.4606224\ttotal: 1.28s\tremaining: 751ms\n",
      "315:\tlearn: 13.4305030\ttotal: 1.28s\tremaining: 747ms\n",
      "316:\tlearn: 13.4280361\ttotal: 1.28s\tremaining: 742ms\n",
      "317:\tlearn: 13.4096523\ttotal: 1.29s\tremaining: 738ms\n",
      "318:\tlearn: 13.3876692\ttotal: 1.29s\tremaining: 733ms\n",
      "319:\tlearn: 13.3794889\ttotal: 1.29s\tremaining: 729ms\n",
      "320:\tlearn: 13.3560199\ttotal: 1.3s\tremaining: 724ms\n",
      "321:\tlearn: 13.3326443\ttotal: 1.3s\tremaining: 720ms\n",
      "322:\tlearn: 13.3160308\ttotal: 1.31s\tremaining: 716ms\n",
      "323:\tlearn: 13.3004499\ttotal: 1.31s\tremaining: 711ms\n",
      "324:\tlearn: 13.2882973\ttotal: 1.31s\tremaining: 707ms\n",
      "325:\tlearn: 13.2807101\ttotal: 1.32s\tremaining: 703ms\n",
      "326:\tlearn: 13.2709466\ttotal: 1.32s\tremaining: 698ms\n",
      "327:\tlearn: 13.2469565\ttotal: 1.32s\tremaining: 694ms\n",
      "328:\tlearn: 13.2309826\ttotal: 1.33s\tremaining: 690ms\n",
      "329:\tlearn: 13.2177436\ttotal: 1.33s\tremaining: 686ms\n",
      "330:\tlearn: 13.1947260\ttotal: 1.34s\tremaining: 683ms\n",
      "331:\tlearn: 13.1636112\ttotal: 1.34s\tremaining: 679ms\n",
      "332:\tlearn: 13.1536603\ttotal: 1.35s\tremaining: 675ms\n",
      "333:\tlearn: 13.1451859\ttotal: 1.35s\tremaining: 671ms\n",
      "334:\tlearn: 13.1240690\ttotal: 1.35s\tremaining: 666ms\n",
      "335:\tlearn: 13.0949935\ttotal: 1.36s\tremaining: 662ms\n",
      "336:\tlearn: 13.0763180\ttotal: 1.36s\tremaining: 658ms\n",
      "337:\tlearn: 13.0681371\ttotal: 1.36s\tremaining: 653ms\n",
      "338:\tlearn: 13.0670164\ttotal: 1.36s\tremaining: 649ms\n",
      "339:\tlearn: 13.0483802\ttotal: 1.37s\tremaining: 644ms\n",
      "340:\tlearn: 13.0471841\ttotal: 1.37s\tremaining: 640ms\n",
      "341:\tlearn: 13.0280235\ttotal: 1.38s\tremaining: 636ms\n",
      "342:\tlearn: 13.0121781\ttotal: 1.38s\tremaining: 631ms\n",
      "343:\tlearn: 12.9880547\ttotal: 1.38s\tremaining: 627ms\n",
      "344:\tlearn: 12.9722287\ttotal: 1.39s\tremaining: 623ms\n",
      "345:\tlearn: 12.9602355\ttotal: 1.39s\tremaining: 618ms\n",
      "346:\tlearn: 12.9358497\ttotal: 1.39s\tremaining: 614ms\n",
      "347:\tlearn: 12.9132822\ttotal: 1.4s\tremaining: 610ms\n",
      "348:\tlearn: 12.9012393\ttotal: 1.4s\tremaining: 605ms\n",
      "349:\tlearn: 12.8828569\ttotal: 1.4s\tremaining: 601ms\n",
      "350:\tlearn: 12.8684587\ttotal: 1.41s\tremaining: 597ms\n",
      "351:\tlearn: 12.8353882\ttotal: 1.41s\tremaining: 592ms\n",
      "352:\tlearn: 12.8225873\ttotal: 1.41s\tremaining: 588ms\n",
      "353:\tlearn: 12.8036863\ttotal: 1.42s\tremaining: 584ms\n",
      "354:\tlearn: 12.7897496\ttotal: 1.42s\tremaining: 580ms\n",
      "355:\tlearn: 12.7885936\ttotal: 1.42s\tremaining: 576ms\n",
      "356:\tlearn: 12.7779055\ttotal: 1.43s\tremaining: 572ms\n",
      "357:\tlearn: 12.7622304\ttotal: 1.43s\tremaining: 568ms\n",
      "358:\tlearn: 12.7504857\ttotal: 1.44s\tremaining: 564ms\n",
      "359:\tlearn: 12.7342863\ttotal: 1.44s\tremaining: 560ms\n",
      "360:\tlearn: 12.7188110\ttotal: 1.45s\tremaining: 557ms\n",
      "361:\tlearn: 12.7032362\ttotal: 1.45s\tremaining: 553ms\n",
      "362:\tlearn: 12.6882324\ttotal: 1.45s\tremaining: 549ms\n",
      "363:\tlearn: 12.6793776\ttotal: 1.46s\tremaining: 545ms\n",
      "364:\tlearn: 12.6775033\ttotal: 1.46s\tremaining: 541ms\n",
      "365:\tlearn: 12.6654732\ttotal: 1.47s\tremaining: 537ms\n",
      "366:\tlearn: 12.6488197\ttotal: 1.47s\tremaining: 533ms\n",
      "367:\tlearn: 12.6222121\ttotal: 1.48s\tremaining: 530ms\n",
      "368:\tlearn: 12.6110986\ttotal: 1.48s\tremaining: 526ms\n",
      "369:\tlearn: 12.5946190\ttotal: 1.49s\tremaining: 523ms\n",
      "370:\tlearn: 12.5806091\ttotal: 1.49s\tremaining: 519ms\n",
      "371:\tlearn: 12.5672746\ttotal: 1.5s\tremaining: 515ms\n",
      "372:\tlearn: 12.5530160\ttotal: 1.5s\tremaining: 512ms\n",
      "373:\tlearn: 12.5480551\ttotal: 1.51s\tremaining: 508ms\n",
      "374:\tlearn: 12.5336812\ttotal: 1.51s\tremaining: 505ms\n",
      "375:\tlearn: 12.5212236\ttotal: 1.52s\tremaining: 501ms\n",
      "376:\tlearn: 12.5079485\ttotal: 1.52s\tremaining: 498ms\n",
      "377:\tlearn: 12.5068945\ttotal: 1.53s\tremaining: 494ms\n",
      "378:\tlearn: 12.4955216\ttotal: 1.54s\tremaining: 491ms\n",
      "379:\tlearn: 12.4827318\ttotal: 1.54s\tremaining: 487ms\n",
      "380:\tlearn: 12.4669101\ttotal: 1.55s\tremaining: 484ms\n",
      "381:\tlearn: 12.4514593\ttotal: 1.55s\tremaining: 480ms\n",
      "382:\tlearn: 12.4307420\ttotal: 1.56s\tremaining: 476ms\n",
      "383:\tlearn: 12.4056927\ttotal: 1.56s\tremaining: 472ms\n",
      "384:\tlearn: 12.3966312\ttotal: 1.57s\tremaining: 468ms\n",
      "385:\tlearn: 12.3913749\ttotal: 1.57s\tremaining: 464ms\n",
      "386:\tlearn: 12.3777004\ttotal: 1.58s\tremaining: 460ms\n",
      "387:\tlearn: 12.3635050\ttotal: 1.58s\tremaining: 457ms\n",
      "388:\tlearn: 12.3406407\ttotal: 1.59s\tremaining: 453ms\n",
      "389:\tlearn: 12.3216782\ttotal: 1.59s\tremaining: 449ms\n",
      "390:\tlearn: 12.3121068\ttotal: 1.6s\tremaining: 445ms\n",
      "391:\tlearn: 12.3024098\ttotal: 1.6s\tremaining: 441ms\n",
      "392:\tlearn: 12.2943458\ttotal: 1.61s\tremaining: 437ms\n",
      "393:\tlearn: 12.2860113\ttotal: 1.61s\tremaining: 434ms\n",
      "394:\tlearn: 12.2848750\ttotal: 1.62s\tremaining: 430ms\n",
      "395:\tlearn: 12.2683896\ttotal: 1.62s\tremaining: 426ms\n",
      "396:\tlearn: 12.2610346\ttotal: 1.63s\tremaining: 422ms\n",
      "397:\tlearn: 12.2461889\ttotal: 1.63s\tremaining: 418ms\n",
      "398:\tlearn: 12.2253940\ttotal: 1.64s\tremaining: 414ms\n",
      "399:\tlearn: 12.2136220\ttotal: 1.64s\tremaining: 410ms\n",
      "400:\tlearn: 12.2120133\ttotal: 1.65s\tremaining: 406ms\n",
      "401:\tlearn: 12.1938632\ttotal: 1.65s\tremaining: 402ms\n",
      "402:\tlearn: 12.1796954\ttotal: 1.66s\tremaining: 399ms\n",
      "403:\tlearn: 12.1657308\ttotal: 1.66s\tremaining: 394ms\n",
      "404:\tlearn: 12.1560225\ttotal: 1.66s\tremaining: 390ms\n",
      "405:\tlearn: 12.1339894\ttotal: 1.67s\tremaining: 386ms\n",
      "406:\tlearn: 12.1134190\ttotal: 1.67s\tremaining: 383ms\n",
      "407:\tlearn: 12.0987842\ttotal: 1.68s\tremaining: 379ms\n",
      "408:\tlearn: 12.0913469\ttotal: 1.68s\tremaining: 375ms\n",
      "409:\tlearn: 12.0800531\ttotal: 1.69s\tremaining: 371ms\n",
      "410:\tlearn: 12.0647240\ttotal: 1.7s\tremaining: 367ms\n",
      "411:\tlearn: 12.0499603\ttotal: 1.7s\tremaining: 363ms\n",
      "412:\tlearn: 12.0359916\ttotal: 1.71s\tremaining: 359ms\n",
      "413:\tlearn: 12.0243434\ttotal: 1.71s\tremaining: 355ms\n",
      "414:\tlearn: 12.0112093\ttotal: 1.72s\tremaining: 352ms\n",
      "415:\tlearn: 12.0087313\ttotal: 1.72s\tremaining: 348ms\n",
      "416:\tlearn: 12.0060186\ttotal: 1.73s\tremaining: 344ms\n",
      "417:\tlearn: 11.9871252\ttotal: 1.73s\tremaining: 340ms\n",
      "418:\tlearn: 11.9769448\ttotal: 1.74s\tremaining: 336ms\n",
      "419:\tlearn: 11.9620646\ttotal: 1.74s\tremaining: 332ms\n",
      "420:\tlearn: 11.9462109\ttotal: 1.75s\tremaining: 328ms\n",
      "421:\tlearn: 11.9451327\ttotal: 1.75s\tremaining: 324ms\n",
      "422:\tlearn: 11.9297722\ttotal: 1.75s\tremaining: 320ms\n",
      "423:\tlearn: 11.9162220\ttotal: 1.76s\tremaining: 316ms\n",
      "424:\tlearn: 11.9014600\ttotal: 1.77s\tremaining: 312ms\n",
      "425:\tlearn: 11.8903354\ttotal: 1.77s\tremaining: 308ms\n",
      "426:\tlearn: 11.8803608\ttotal: 1.78s\tremaining: 304ms\n",
      "427:\tlearn: 11.8602008\ttotal: 1.78s\tremaining: 300ms\n",
      "428:\tlearn: 11.8449080\ttotal: 1.79s\tremaining: 296ms\n",
      "429:\tlearn: 11.8289666\ttotal: 1.79s\tremaining: 292ms\n",
      "430:\tlearn: 11.8157333\ttotal: 1.8s\tremaining: 288ms\n",
      "431:\tlearn: 11.8004707\ttotal: 1.8s\tremaining: 284ms\n",
      "432:\tlearn: 11.7877013\ttotal: 1.81s\tremaining: 280ms\n",
      "433:\tlearn: 11.7823842\ttotal: 1.81s\tremaining: 276ms\n",
      "434:\tlearn: 11.7815432\ttotal: 1.82s\tremaining: 272ms\n",
      "435:\tlearn: 11.7690781\ttotal: 1.82s\tremaining: 267ms\n",
      "436:\tlearn: 11.7617450\ttotal: 1.82s\tremaining: 263ms\n",
      "437:\tlearn: 11.7438820\ttotal: 1.83s\tremaining: 259ms\n",
      "438:\tlearn: 11.7312181\ttotal: 1.83s\tremaining: 254ms\n",
      "439:\tlearn: 11.7040294\ttotal: 1.83s\tremaining: 250ms\n",
      "440:\tlearn: 11.6916363\ttotal: 1.84s\tremaining: 246ms\n",
      "441:\tlearn: 11.6809368\ttotal: 1.84s\tremaining: 241ms\n",
      "442:\tlearn: 11.6696113\ttotal: 1.84s\tremaining: 237ms\n",
      "443:\tlearn: 11.6529392\ttotal: 1.85s\tremaining: 233ms\n",
      "444:\tlearn: 11.6436663\ttotal: 1.85s\tremaining: 229ms\n",
      "445:\tlearn: 11.6347577\ttotal: 1.85s\tremaining: 224ms\n",
      "446:\tlearn: 11.6207497\ttotal: 1.86s\tremaining: 220ms\n",
      "447:\tlearn: 11.6089117\ttotal: 1.86s\tremaining: 216ms\n",
      "448:\tlearn: 11.5964871\ttotal: 1.86s\tremaining: 212ms\n",
      "449:\tlearn: 11.5828932\ttotal: 1.87s\tremaining: 207ms\n",
      "450:\tlearn: 11.5777363\ttotal: 1.87s\tremaining: 203ms\n",
      "451:\tlearn: 11.5659942\ttotal: 1.88s\tremaining: 199ms\n",
      "452:\tlearn: 11.5451996\ttotal: 1.88s\tremaining: 195ms\n",
      "453:\tlearn: 11.5339062\ttotal: 1.89s\tremaining: 191ms\n",
      "454:\tlearn: 11.5239443\ttotal: 1.89s\tremaining: 187ms\n",
      "455:\tlearn: 11.5156281\ttotal: 1.9s\tremaining: 183ms\n",
      "456:\tlearn: 11.5098527\ttotal: 1.9s\tremaining: 179ms\n",
      "457:\tlearn: 11.4966637\ttotal: 1.9s\tremaining: 175ms\n",
      "458:\tlearn: 11.4840097\ttotal: 1.91s\tremaining: 170ms\n",
      "459:\tlearn: 11.4752895\ttotal: 1.91s\tremaining: 166ms\n",
      "460:\tlearn: 11.4538613\ttotal: 1.91s\tremaining: 162ms\n",
      "461:\tlearn: 11.4429296\ttotal: 1.92s\tremaining: 158ms\n",
      "462:\tlearn: 11.4279230\ttotal: 1.92s\tremaining: 153ms\n",
      "463:\tlearn: 11.4240048\ttotal: 1.92s\tremaining: 149ms\n",
      "464:\tlearn: 11.4231014\ttotal: 1.93s\tremaining: 145ms\n",
      "465:\tlearn: 11.4100411\ttotal: 1.93s\tremaining: 141ms\n",
      "466:\tlearn: 11.3928222\ttotal: 1.93s\tremaining: 137ms\n",
      "467:\tlearn: 11.3920196\ttotal: 1.94s\tremaining: 132ms\n",
      "468:\tlearn: 11.3849645\ttotal: 1.94s\tremaining: 128ms\n",
      "469:\tlearn: 11.3762403\ttotal: 1.94s\tremaining: 124ms\n",
      "470:\tlearn: 11.3680370\ttotal: 1.94s\tremaining: 120ms\n",
      "471:\tlearn: 11.3591834\ttotal: 1.95s\tremaining: 116ms\n",
      "472:\tlearn: 11.3463595\ttotal: 1.95s\tremaining: 111ms\n",
      "473:\tlearn: 11.3399490\ttotal: 1.95s\tremaining: 107ms\n",
      "474:\tlearn: 11.3276606\ttotal: 1.96s\tremaining: 103ms\n",
      "475:\tlearn: 11.3179701\ttotal: 1.96s\tremaining: 98.8ms\n",
      "476:\tlearn: 11.3029433\ttotal: 1.96s\tremaining: 94.7ms\n",
      "477:\tlearn: 11.2882985\ttotal: 1.97s\tremaining: 90.5ms\n",
      "478:\tlearn: 11.2717538\ttotal: 1.97s\tremaining: 86.3ms\n",
      "479:\tlearn: 11.2593701\ttotal: 1.97s\tremaining: 82.2ms\n",
      "480:\tlearn: 11.2464739\ttotal: 1.98s\tremaining: 78.1ms\n",
      "481:\tlearn: 11.2446918\ttotal: 1.98s\tremaining: 73.9ms\n",
      "482:\tlearn: 11.2282246\ttotal: 1.98s\tremaining: 69.8ms\n",
      "483:\tlearn: 11.2162121\ttotal: 1.99s\tremaining: 65.6ms\n",
      "484:\tlearn: 11.2089283\ttotal: 1.99s\tremaining: 61.5ms\n",
      "485:\tlearn: 11.1979058\ttotal: 1.99s\tremaining: 57.4ms\n",
      "486:\tlearn: 11.1868741\ttotal: 2s\tremaining: 53.3ms\n",
      "487:\tlearn: 11.1754219\ttotal: 2s\tremaining: 49.2ms\n",
      "488:\tlearn: 11.1631074\ttotal: 2s\tremaining: 45ms\n",
      "489:\tlearn: 11.1536538\ttotal: 2s\tremaining: 40.9ms\n",
      "490:\tlearn: 11.1453733\ttotal: 2.01s\tremaining: 36.8ms\n",
      "491:\tlearn: 11.1381795\ttotal: 2.01s\tremaining: 32.7ms\n",
      "492:\tlearn: 11.1239165\ttotal: 2.02s\tremaining: 28.6ms\n",
      "493:\tlearn: 11.1125860\ttotal: 2.02s\tremaining: 24.5ms\n",
      "494:\tlearn: 11.0970643\ttotal: 2.02s\tremaining: 20.4ms\n",
      "495:\tlearn: 11.0869361\ttotal: 2.03s\tremaining: 16.3ms\n",
      "496:\tlearn: 11.0756816\ttotal: 2.03s\tremaining: 12.3ms\n",
      "497:\tlearn: 11.0599196\ttotal: 2.03s\tremaining: 8.16ms\n",
      "498:\tlearn: 11.0589882\ttotal: 2.04s\tremaining: 4.08ms\n",
      "499:\tlearn: 11.0458403\ttotal: 2.04s\tremaining: 0us\n",
      "Learning rate set to 0.086831\n",
      "0:\tlearn: 33.4940691\ttotal: 4.34ms\tremaining: 2.17s\n",
      "1:\tlearn: 32.3113703\ttotal: 8.31ms\tremaining: 2.07s\n",
      "2:\tlearn: 31.1779111\ttotal: 12.1ms\tremaining: 2.01s\n",
      "3:\tlearn: 30.2515725\ttotal: 15.9ms\tremaining: 1.97s\n",
      "4:\tlearn: 29.3945833\ttotal: 19.6ms\tremaining: 1.94s\n",
      "5:\tlearn: 28.6581370\ttotal: 23.4ms\tremaining: 1.93s\n",
      "6:\tlearn: 27.9091246\ttotal: 27.2ms\tremaining: 1.91s\n",
      "7:\tlearn: 27.2059009\ttotal: 31ms\tremaining: 1.91s\n",
      "8:\tlearn: 26.6694980\ttotal: 34.7ms\tremaining: 1.89s\n",
      "9:\tlearn: 26.1949999\ttotal: 39ms\tremaining: 1.91s\n",
      "10:\tlearn: 25.8062971\ttotal: 42.7ms\tremaining: 1.9s\n",
      "11:\tlearn: 25.3908438\ttotal: 46.2ms\tremaining: 1.88s\n",
      "12:\tlearn: 25.0541225\ttotal: 49.9ms\tremaining: 1.87s\n",
      "13:\tlearn: 24.7101472\ttotal: 53.6ms\tremaining: 1.86s\n",
      "14:\tlearn: 24.3922231\ttotal: 57.5ms\tremaining: 1.86s\n",
      "15:\tlearn: 24.1817368\ttotal: 61.2ms\tremaining: 1.85s\n",
      "16:\tlearn: 23.8651289\ttotal: 65.5ms\tremaining: 1.86s\n",
      "17:\tlearn: 23.6118750\ttotal: 69.1ms\tremaining: 1.85s\n",
      "18:\tlearn: 23.4455597\ttotal: 72.8ms\tremaining: 1.84s\n",
      "19:\tlearn: 23.2375696\ttotal: 76.5ms\tremaining: 1.83s\n",
      "20:\tlearn: 23.0875307\ttotal: 80.2ms\tremaining: 1.83s\n",
      "21:\tlearn: 22.9219932\ttotal: 83.9ms\tremaining: 1.82s\n",
      "22:\tlearn: 22.7987233\ttotal: 87.4ms\tremaining: 1.81s\n",
      "23:\tlearn: 22.6500689\ttotal: 91ms\tremaining: 1.8s\n",
      "24:\tlearn: 22.4807799\ttotal: 95.1ms\tremaining: 1.81s\n",
      "25:\tlearn: 22.3534412\ttotal: 98.7ms\tremaining: 1.8s\n",
      "26:\tlearn: 22.2589224\ttotal: 102ms\tremaining: 1.79s\n",
      "27:\tlearn: 22.1569073\ttotal: 106ms\tremaining: 1.78s\n",
      "28:\tlearn: 22.0665665\ttotal: 109ms\tremaining: 1.77s\n",
      "29:\tlearn: 21.9430944\ttotal: 113ms\tremaining: 1.77s\n",
      "30:\tlearn: 21.8604420\ttotal: 117ms\tremaining: 1.76s\n",
      "31:\tlearn: 21.7319975\ttotal: 120ms\tremaining: 1.76s\n",
      "32:\tlearn: 21.6719919\ttotal: 124ms\tremaining: 1.75s\n",
      "33:\tlearn: 21.6030792\ttotal: 127ms\tremaining: 1.74s\n",
      "34:\tlearn: 21.5362223\ttotal: 131ms\tremaining: 1.74s\n",
      "35:\tlearn: 21.4737538\ttotal: 135ms\tremaining: 1.73s\n",
      "36:\tlearn: 21.4176619\ttotal: 138ms\tremaining: 1.73s\n",
      "37:\tlearn: 21.3793414\ttotal: 142ms\tremaining: 1.72s\n",
      "38:\tlearn: 21.3154840\ttotal: 145ms\tremaining: 1.72s\n",
      "39:\tlearn: 21.2512855\ttotal: 149ms\tremaining: 1.71s\n",
      "40:\tlearn: 21.2115576\ttotal: 152ms\tremaining: 1.71s\n",
      "41:\tlearn: 21.1525080\ttotal: 156ms\tremaining: 1.7s\n",
      "42:\tlearn: 21.0872901\ttotal: 159ms\tremaining: 1.69s\n",
      "43:\tlearn: 21.0244286\ttotal: 163ms\tremaining: 1.69s\n",
      "44:\tlearn: 20.9809498\ttotal: 166ms\tremaining: 1.68s\n",
      "45:\tlearn: 20.8871699\ttotal: 170ms\tremaining: 1.68s\n",
      "46:\tlearn: 20.8470937\ttotal: 174ms\tremaining: 1.67s\n",
      "47:\tlearn: 20.7761795\ttotal: 177ms\tremaining: 1.67s\n",
      "48:\tlearn: 20.7385110\ttotal: 181ms\tremaining: 1.67s\n",
      "49:\tlearn: 20.7022924\ttotal: 185ms\tremaining: 1.66s\n",
      "50:\tlearn: 20.6153220\ttotal: 189ms\tremaining: 1.66s\n",
      "51:\tlearn: 20.5827014\ttotal: 192ms\tremaining: 1.66s\n",
      "52:\tlearn: 20.5437474\ttotal: 196ms\tremaining: 1.65s\n",
      "53:\tlearn: 20.5221284\ttotal: 200ms\tremaining: 1.65s\n",
      "54:\tlearn: 20.4830989\ttotal: 203ms\tremaining: 1.65s\n",
      "55:\tlearn: 20.4144973\ttotal: 207ms\tremaining: 1.64s\n",
      "56:\tlearn: 20.3812258\ttotal: 211ms\tremaining: 1.64s\n",
      "57:\tlearn: 20.3478877\ttotal: 214ms\tremaining: 1.63s\n",
      "58:\tlearn: 20.3165886\ttotal: 218ms\tremaining: 1.63s\n",
      "59:\tlearn: 20.2751441\ttotal: 222ms\tremaining: 1.63s\n",
      "60:\tlearn: 20.2277363\ttotal: 228ms\tremaining: 1.64s\n",
      "61:\tlearn: 20.1838669\ttotal: 234ms\tremaining: 1.65s\n",
      "62:\tlearn: 20.1347579\ttotal: 238ms\tremaining: 1.65s\n",
      "63:\tlearn: 20.0972608\ttotal: 243ms\tremaining: 1.66s\n",
      "64:\tlearn: 20.0406557\ttotal: 247ms\tremaining: 1.65s\n",
      "65:\tlearn: 20.0032089\ttotal: 253ms\tremaining: 1.66s\n",
      "66:\tlearn: 19.9830396\ttotal: 259ms\tremaining: 1.67s\n",
      "67:\tlearn: 19.9434014\ttotal: 265ms\tremaining: 1.68s\n",
      "68:\tlearn: 19.9163987\ttotal: 271ms\tremaining: 1.69s\n",
      "69:\tlearn: 19.8825175\ttotal: 277ms\tremaining: 1.7s\n",
      "70:\tlearn: 19.8597278\ttotal: 282ms\tremaining: 1.7s\n",
      "71:\tlearn: 19.8218521\ttotal: 287ms\tremaining: 1.71s\n",
      "72:\tlearn: 19.7980706\ttotal: 292ms\tremaining: 1.71s\n",
      "73:\tlearn: 19.7298194\ttotal: 298ms\tremaining: 1.72s\n",
      "74:\tlearn: 19.7100410\ttotal: 304ms\tremaining: 1.72s\n",
      "75:\tlearn: 19.6823310\ttotal: 309ms\tremaining: 1.72s\n",
      "76:\tlearn: 19.6699308\ttotal: 314ms\tremaining: 1.73s\n",
      "77:\tlearn: 19.6551220\ttotal: 320ms\tremaining: 1.73s\n",
      "78:\tlearn: 19.6450596\ttotal: 325ms\tremaining: 1.73s\n",
      "79:\tlearn: 19.6135477\ttotal: 331ms\tremaining: 1.74s\n",
      "80:\tlearn: 19.5748533\ttotal: 337ms\tremaining: 1.74s\n",
      "81:\tlearn: 19.5502790\ttotal: 342ms\tremaining: 1.74s\n",
      "82:\tlearn: 19.5179218\ttotal: 348ms\tremaining: 1.75s\n",
      "83:\tlearn: 19.5043401\ttotal: 353ms\tremaining: 1.75s\n",
      "84:\tlearn: 19.4719955\ttotal: 358ms\tremaining: 1.75s\n",
      "85:\tlearn: 19.4446512\ttotal: 364ms\tremaining: 1.75s\n",
      "86:\tlearn: 19.4118730\ttotal: 369ms\tremaining: 1.75s\n",
      "87:\tlearn: 19.3463652\ttotal: 373ms\tremaining: 1.75s\n",
      "88:\tlearn: 19.2943135\ttotal: 377ms\tremaining: 1.74s\n",
      "89:\tlearn: 19.2663517\ttotal: 380ms\tremaining: 1.73s\n",
      "90:\tlearn: 19.2283080\ttotal: 384ms\tremaining: 1.73s\n",
      "91:\tlearn: 19.1944825\ttotal: 388ms\tremaining: 1.72s\n",
      "92:\tlearn: 19.1522772\ttotal: 391ms\tremaining: 1.71s\n",
      "93:\tlearn: 19.1244130\ttotal: 395ms\tremaining: 1.71s\n",
      "94:\tlearn: 19.0825439\ttotal: 399ms\tremaining: 1.7s\n",
      "95:\tlearn: 19.0407399\ttotal: 403ms\tremaining: 1.69s\n",
      "96:\tlearn: 18.9927209\ttotal: 410ms\tremaining: 1.7s\n",
      "97:\tlearn: 18.9739300\ttotal: 414ms\tremaining: 1.7s\n",
      "98:\tlearn: 18.9429392\ttotal: 418ms\tremaining: 1.69s\n",
      "99:\tlearn: 18.9136228\ttotal: 421ms\tremaining: 1.68s\n",
      "100:\tlearn: 18.8795511\ttotal: 425ms\tremaining: 1.68s\n",
      "101:\tlearn: 18.8559486\ttotal: 428ms\tremaining: 1.67s\n",
      "102:\tlearn: 18.8422882\ttotal: 432ms\tremaining: 1.67s\n",
      "103:\tlearn: 18.8335663\ttotal: 436ms\tremaining: 1.66s\n",
      "104:\tlearn: 18.7877588\ttotal: 440ms\tremaining: 1.65s\n",
      "105:\tlearn: 18.7608669\ttotal: 443ms\tremaining: 1.65s\n",
      "106:\tlearn: 18.7274664\ttotal: 447ms\tremaining: 1.64s\n",
      "107:\tlearn: 18.7039391\ttotal: 450ms\tremaining: 1.63s\n",
      "108:\tlearn: 18.6579443\ttotal: 454ms\tremaining: 1.63s\n",
      "109:\tlearn: 18.6330579\ttotal: 458ms\tremaining: 1.62s\n",
      "110:\tlearn: 18.5998913\ttotal: 462ms\tremaining: 1.62s\n",
      "111:\tlearn: 18.5806253\ttotal: 465ms\tremaining: 1.61s\n",
      "112:\tlearn: 18.5561013\ttotal: 469ms\tremaining: 1.6s\n",
      "113:\tlearn: 18.5438200\ttotal: 472ms\tremaining: 1.6s\n",
      "114:\tlearn: 18.5231966\ttotal: 476ms\tremaining: 1.59s\n",
      "115:\tlearn: 18.5201805\ttotal: 479ms\tremaining: 1.59s\n",
      "116:\tlearn: 18.4917482\ttotal: 483ms\tremaining: 1.58s\n",
      "117:\tlearn: 18.4887147\ttotal: 486ms\tremaining: 1.57s\n",
      "118:\tlearn: 18.4584940\ttotal: 490ms\tremaining: 1.57s\n",
      "119:\tlearn: 18.4342147\ttotal: 493ms\tremaining: 1.56s\n",
      "120:\tlearn: 18.3874517\ttotal: 497ms\tremaining: 1.56s\n",
      "121:\tlearn: 18.3597078\ttotal: 501ms\tremaining: 1.55s\n",
      "122:\tlearn: 18.3279693\ttotal: 504ms\tremaining: 1.55s\n",
      "123:\tlearn: 18.3237336\ttotal: 508ms\tremaining: 1.54s\n",
      "124:\tlearn: 18.2935271\ttotal: 512ms\tremaining: 1.53s\n",
      "125:\tlearn: 18.2579072\ttotal: 515ms\tremaining: 1.53s\n",
      "126:\tlearn: 18.2246293\ttotal: 519ms\tremaining: 1.52s\n",
      "127:\tlearn: 18.1895325\ttotal: 522ms\tremaining: 1.52s\n",
      "128:\tlearn: 18.1851429\ttotal: 526ms\tremaining: 1.51s\n",
      "129:\tlearn: 18.1749371\ttotal: 530ms\tremaining: 1.51s\n",
      "130:\tlearn: 18.1573369\ttotal: 533ms\tremaining: 1.5s\n",
      "131:\tlearn: 18.1367896\ttotal: 537ms\tremaining: 1.5s\n",
      "132:\tlearn: 18.1089121\ttotal: 541ms\tremaining: 1.49s\n",
      "133:\tlearn: 18.0797778\ttotal: 544ms\tremaining: 1.49s\n",
      "134:\tlearn: 18.0502855\ttotal: 549ms\tremaining: 1.48s\n",
      "135:\tlearn: 18.0167534\ttotal: 553ms\tremaining: 1.48s\n",
      "136:\tlearn: 18.0145498\ttotal: 556ms\tremaining: 1.47s\n",
      "137:\tlearn: 17.9819096\ttotal: 560ms\tremaining: 1.47s\n",
      "138:\tlearn: 17.9589249\ttotal: 566ms\tremaining: 1.47s\n",
      "139:\tlearn: 17.9314335\ttotal: 570ms\tremaining: 1.47s\n",
      "140:\tlearn: 17.9144597\ttotal: 574ms\tremaining: 1.46s\n",
      "141:\tlearn: 17.8999498\ttotal: 577ms\tremaining: 1.46s\n",
      "142:\tlearn: 17.8704574\ttotal: 581ms\tremaining: 1.45s\n",
      "143:\tlearn: 17.8681472\ttotal: 585ms\tremaining: 1.45s\n",
      "144:\tlearn: 17.8636805\ttotal: 591ms\tremaining: 1.45s\n",
      "145:\tlearn: 17.8425268\ttotal: 596ms\tremaining: 1.44s\n",
      "146:\tlearn: 17.8143639\ttotal: 602ms\tremaining: 1.44s\n",
      "147:\tlearn: 17.7932245\ttotal: 607ms\tremaining: 1.44s\n",
      "148:\tlearn: 17.7522339\ttotal: 611ms\tremaining: 1.44s\n",
      "149:\tlearn: 17.7279413\ttotal: 615ms\tremaining: 1.43s\n",
      "150:\tlearn: 17.7098308\ttotal: 621ms\tremaining: 1.43s\n",
      "151:\tlearn: 17.6714333\ttotal: 626ms\tremaining: 1.43s\n",
      "152:\tlearn: 17.6377607\ttotal: 633ms\tremaining: 1.43s\n",
      "153:\tlearn: 17.6188063\ttotal: 638ms\tremaining: 1.43s\n",
      "154:\tlearn: 17.6126097\ttotal: 644ms\tremaining: 1.43s\n",
      "155:\tlearn: 17.5922004\ttotal: 648ms\tremaining: 1.43s\n",
      "156:\tlearn: 17.5743339\ttotal: 652ms\tremaining: 1.42s\n",
      "157:\tlearn: 17.5395407\ttotal: 657ms\tremaining: 1.42s\n",
      "158:\tlearn: 17.5211152\ttotal: 661ms\tremaining: 1.42s\n",
      "159:\tlearn: 17.5098165\ttotal: 665ms\tremaining: 1.41s\n",
      "160:\tlearn: 17.4844500\ttotal: 669ms\tremaining: 1.41s\n",
      "161:\tlearn: 17.4705325\ttotal: 672ms\tremaining: 1.4s\n",
      "162:\tlearn: 17.4442489\ttotal: 676ms\tremaining: 1.4s\n",
      "163:\tlearn: 17.4234560\ttotal: 679ms\tremaining: 1.39s\n",
      "164:\tlearn: 17.4094100\ttotal: 683ms\tremaining: 1.39s\n",
      "165:\tlearn: 17.4075214\ttotal: 687ms\tremaining: 1.38s\n",
      "166:\tlearn: 17.3813117\ttotal: 690ms\tremaining: 1.38s\n",
      "167:\tlearn: 17.3457983\ttotal: 694ms\tremaining: 1.37s\n",
      "168:\tlearn: 17.3439643\ttotal: 697ms\tremaining: 1.36s\n",
      "169:\tlearn: 17.3261982\ttotal: 701ms\tremaining: 1.36s\n",
      "170:\tlearn: 17.2918503\ttotal: 705ms\tremaining: 1.35s\n",
      "171:\tlearn: 17.2693590\ttotal: 708ms\tremaining: 1.35s\n",
      "172:\tlearn: 17.2517499\ttotal: 712ms\tremaining: 1.34s\n",
      "173:\tlearn: 17.2286031\ttotal: 715ms\tremaining: 1.34s\n",
      "174:\tlearn: 17.2120520\ttotal: 719ms\tremaining: 1.33s\n",
      "175:\tlearn: 17.1922234\ttotal: 723ms\tremaining: 1.33s\n",
      "176:\tlearn: 17.1599977\ttotal: 727ms\tremaining: 1.32s\n",
      "177:\tlearn: 17.1278383\ttotal: 731ms\tremaining: 1.32s\n",
      "178:\tlearn: 17.0999867\ttotal: 734ms\tremaining: 1.32s\n",
      "179:\tlearn: 17.0699120\ttotal: 738ms\tremaining: 1.31s\n",
      "180:\tlearn: 17.0667267\ttotal: 744ms\tremaining: 1.31s\n",
      "181:\tlearn: 17.0434970\ttotal: 750ms\tremaining: 1.31s\n",
      "182:\tlearn: 17.0171168\ttotal: 757ms\tremaining: 1.31s\n",
      "183:\tlearn: 16.9893574\ttotal: 763ms\tremaining: 1.31s\n",
      "184:\tlearn: 16.9559642\ttotal: 768ms\tremaining: 1.31s\n",
      "185:\tlearn: 16.9306241\ttotal: 772ms\tremaining: 1.3s\n",
      "186:\tlearn: 16.9095310\ttotal: 775ms\tremaining: 1.3s\n",
      "187:\tlearn: 16.9067675\ttotal: 781ms\tremaining: 1.3s\n",
      "188:\tlearn: 16.8730441\ttotal: 788ms\tremaining: 1.3s\n",
      "189:\tlearn: 16.8524869\ttotal: 794ms\tremaining: 1.29s\n",
      "190:\tlearn: 16.8278028\ttotal: 800ms\tremaining: 1.29s\n",
      "191:\tlearn: 16.8085151\ttotal: 806ms\tremaining: 1.29s\n",
      "192:\tlearn: 16.7827928\ttotal: 813ms\tremaining: 1.29s\n",
      "193:\tlearn: 16.7611313\ttotal: 819ms\tremaining: 1.29s\n",
      "194:\tlearn: 16.7483555\ttotal: 825ms\tremaining: 1.29s\n",
      "195:\tlearn: 16.7168533\ttotal: 832ms\tremaining: 1.29s\n",
      "196:\tlearn: 16.6945171\ttotal: 839ms\tremaining: 1.29s\n",
      "197:\tlearn: 16.6516404\ttotal: 845ms\tremaining: 1.29s\n",
      "198:\tlearn: 16.6500686\ttotal: 851ms\tremaining: 1.29s\n",
      "199:\tlearn: 16.6312557\ttotal: 858ms\tremaining: 1.29s\n",
      "200:\tlearn: 16.6105944\ttotal: 864ms\tremaining: 1.28s\n",
      "201:\tlearn: 16.5839727\ttotal: 870ms\tremaining: 1.28s\n",
      "202:\tlearn: 16.5674052\ttotal: 876ms\tremaining: 1.28s\n",
      "203:\tlearn: 16.5452292\ttotal: 880ms\tremaining: 1.28s\n",
      "204:\tlearn: 16.5209613\ttotal: 884ms\tremaining: 1.27s\n",
      "205:\tlearn: 16.5005616\ttotal: 888ms\tremaining: 1.27s\n",
      "206:\tlearn: 16.4898930\ttotal: 891ms\tremaining: 1.26s\n",
      "207:\tlearn: 16.4701275\ttotal: 895ms\tremaining: 1.26s\n",
      "208:\tlearn: 16.4459846\ttotal: 898ms\tremaining: 1.25s\n",
      "209:\tlearn: 16.4295368\ttotal: 902ms\tremaining: 1.25s\n",
      "210:\tlearn: 16.4118958\ttotal: 906ms\tremaining: 1.24s\n",
      "211:\tlearn: 16.3925902\ttotal: 910ms\tremaining: 1.24s\n",
      "212:\tlearn: 16.3647873\ttotal: 913ms\tremaining: 1.23s\n",
      "213:\tlearn: 16.3363510\ttotal: 917ms\tremaining: 1.23s\n",
      "214:\tlearn: 16.3125061\ttotal: 921ms\tremaining: 1.22s\n",
      "215:\tlearn: 16.2858073\ttotal: 925ms\tremaining: 1.22s\n",
      "216:\tlearn: 16.2721887\ttotal: 928ms\tremaining: 1.21s\n",
      "217:\tlearn: 16.2505633\ttotal: 932ms\tremaining: 1.21s\n",
      "218:\tlearn: 16.2321308\ttotal: 936ms\tremaining: 1.2s\n",
      "219:\tlearn: 16.2137358\ttotal: 940ms\tremaining: 1.2s\n",
      "220:\tlearn: 16.1903332\ttotal: 943ms\tremaining: 1.19s\n",
      "221:\tlearn: 16.1591928\ttotal: 947ms\tremaining: 1.19s\n",
      "222:\tlearn: 16.1361426\ttotal: 951ms\tremaining: 1.18s\n",
      "223:\tlearn: 16.1047725\ttotal: 955ms\tremaining: 1.18s\n",
      "224:\tlearn: 16.0875199\ttotal: 958ms\tremaining: 1.17s\n",
      "225:\tlearn: 16.0689383\ttotal: 962ms\tremaining: 1.17s\n",
      "226:\tlearn: 16.0475821\ttotal: 966ms\tremaining: 1.16s\n",
      "227:\tlearn: 16.0249294\ttotal: 970ms\tremaining: 1.16s\n",
      "228:\tlearn: 16.0021787\ttotal: 974ms\tremaining: 1.15s\n",
      "229:\tlearn: 15.9832562\ttotal: 977ms\tremaining: 1.15s\n",
      "230:\tlearn: 15.9695558\ttotal: 981ms\tremaining: 1.14s\n",
      "231:\tlearn: 15.9473949\ttotal: 984ms\tremaining: 1.14s\n",
      "232:\tlearn: 15.9287308\ttotal: 988ms\tremaining: 1.13s\n",
      "233:\tlearn: 15.8974490\ttotal: 991ms\tremaining: 1.13s\n",
      "234:\tlearn: 15.8732503\ttotal: 995ms\tremaining: 1.12s\n",
      "235:\tlearn: 15.8576019\ttotal: 999ms\tremaining: 1.12s\n",
      "236:\tlearn: 15.8391082\ttotal: 1s\tremaining: 1.11s\n",
      "237:\tlearn: 15.8207839\ttotal: 1.01s\tremaining: 1.11s\n",
      "238:\tlearn: 15.7990793\ttotal: 1.01s\tremaining: 1.1s\n",
      "239:\tlearn: 15.7945555\ttotal: 1.01s\tremaining: 1.1s\n",
      "240:\tlearn: 15.7768195\ttotal: 1.02s\tremaining: 1.09s\n",
      "241:\tlearn: 15.7657110\ttotal: 1.02s\tremaining: 1.09s\n",
      "242:\tlearn: 15.7564124\ttotal: 1.02s\tremaining: 1.08s\n",
      "243:\tlearn: 15.7433985\ttotal: 1.03s\tremaining: 1.08s\n",
      "244:\tlearn: 15.7215899\ttotal: 1.03s\tremaining: 1.07s\n",
      "245:\tlearn: 15.6975952\ttotal: 1.03s\tremaining: 1.07s\n",
      "246:\tlearn: 15.6710543\ttotal: 1.04s\tremaining: 1.06s\n",
      "247:\tlearn: 15.6602738\ttotal: 1.04s\tremaining: 1.06s\n",
      "248:\tlearn: 15.6303198\ttotal: 1.05s\tremaining: 1.05s\n",
      "249:\tlearn: 15.6285953\ttotal: 1.05s\tremaining: 1.05s\n",
      "250:\tlearn: 15.6130411\ttotal: 1.05s\tremaining: 1.04s\n",
      "251:\tlearn: 15.5906998\ttotal: 1.06s\tremaining: 1.04s\n",
      "252:\tlearn: 15.5750950\ttotal: 1.06s\tremaining: 1.04s\n",
      "253:\tlearn: 15.5655620\ttotal: 1.06s\tremaining: 1.03s\n",
      "254:\tlearn: 15.5355651\ttotal: 1.07s\tremaining: 1.03s\n",
      "255:\tlearn: 15.5341622\ttotal: 1.07s\tremaining: 1.02s\n",
      "256:\tlearn: 15.5192362\ttotal: 1.08s\tremaining: 1.02s\n",
      "257:\tlearn: 15.4999463\ttotal: 1.08s\tremaining: 1.01s\n",
      "258:\tlearn: 15.4877118\ttotal: 1.08s\tremaining: 1.01s\n",
      "259:\tlearn: 15.4717187\ttotal: 1.09s\tremaining: 1s\n",
      "260:\tlearn: 15.4500490\ttotal: 1.09s\tremaining: 999ms\n",
      "261:\tlearn: 15.4343101\ttotal: 1.09s\tremaining: 994ms\n",
      "262:\tlearn: 15.4267733\ttotal: 1.1s\tremaining: 992ms\n",
      "263:\tlearn: 15.4113428\ttotal: 1.11s\tremaining: 989ms\n",
      "264:\tlearn: 15.3876192\ttotal: 1.11s\tremaining: 986ms\n",
      "265:\tlearn: 15.3685910\ttotal: 1.12s\tremaining: 983ms\n",
      "266:\tlearn: 15.3584168\ttotal: 1.12s\tremaining: 980ms\n",
      "267:\tlearn: 15.3514455\ttotal: 1.13s\tremaining: 976ms\n",
      "268:\tlearn: 15.3409463\ttotal: 1.13s\tremaining: 971ms\n",
      "269:\tlearn: 15.3218934\ttotal: 1.14s\tremaining: 968ms\n",
      "270:\tlearn: 15.3058606\ttotal: 1.14s\tremaining: 965ms\n",
      "271:\tlearn: 15.2967868\ttotal: 1.15s\tremaining: 962ms\n",
      "272:\tlearn: 15.2889408\ttotal: 1.15s\tremaining: 959ms\n",
      "273:\tlearn: 15.2720184\ttotal: 1.16s\tremaining: 956ms\n",
      "274:\tlearn: 15.2565470\ttotal: 1.17s\tremaining: 953ms\n",
      "275:\tlearn: 15.2418215\ttotal: 1.17s\tremaining: 950ms\n",
      "276:\tlearn: 15.2340235\ttotal: 1.18s\tremaining: 947ms\n",
      "277:\tlearn: 15.2291551\ttotal: 1.18s\tremaining: 944ms\n",
      "278:\tlearn: 15.2223835\ttotal: 1.19s\tremaining: 941ms\n",
      "279:\tlearn: 15.2097630\ttotal: 1.19s\tremaining: 938ms\n",
      "280:\tlearn: 15.1926063\ttotal: 1.2s\tremaining: 935ms\n",
      "281:\tlearn: 15.1726413\ttotal: 1.21s\tremaining: 932ms\n",
      "282:\tlearn: 15.1489912\ttotal: 1.21s\tremaining: 929ms\n",
      "283:\tlearn: 15.1313280\ttotal: 1.22s\tremaining: 925ms\n",
      "284:\tlearn: 15.1163346\ttotal: 1.22s\tremaining: 922ms\n",
      "285:\tlearn: 15.0889776\ttotal: 1.23s\tremaining: 919ms\n",
      "286:\tlearn: 15.0640986\ttotal: 1.23s\tremaining: 915ms\n",
      "287:\tlearn: 15.0376764\ttotal: 1.24s\tremaining: 910ms\n",
      "288:\tlearn: 15.0164564\ttotal: 1.24s\tremaining: 906ms\n",
      "289:\tlearn: 14.9957570\ttotal: 1.24s\tremaining: 901ms\n",
      "290:\tlearn: 14.9846370\ttotal: 1.25s\tremaining: 896ms\n",
      "291:\tlearn: 14.9708494\ttotal: 1.25s\tremaining: 891ms\n",
      "292:\tlearn: 14.9577669\ttotal: 1.25s\tremaining: 886ms\n",
      "293:\tlearn: 14.9410299\ttotal: 1.26s\tremaining: 882ms\n",
      "294:\tlearn: 14.9205452\ttotal: 1.26s\tremaining: 877ms\n",
      "295:\tlearn: 14.8970283\ttotal: 1.26s\tremaining: 872ms\n",
      "296:\tlearn: 14.8890660\ttotal: 1.27s\tremaining: 868ms\n",
      "297:\tlearn: 14.8879275\ttotal: 1.27s\tremaining: 863ms\n",
      "298:\tlearn: 14.8719569\ttotal: 1.28s\tremaining: 858ms\n",
      "299:\tlearn: 14.8512030\ttotal: 1.28s\tremaining: 854ms\n",
      "300:\tlearn: 14.8309805\ttotal: 1.28s\tremaining: 849ms\n",
      "301:\tlearn: 14.8132729\ttotal: 1.29s\tremaining: 844ms\n",
      "302:\tlearn: 14.7945933\ttotal: 1.29s\tremaining: 841ms\n",
      "303:\tlearn: 14.7835648\ttotal: 1.3s\tremaining: 837ms\n",
      "304:\tlearn: 14.7805341\ttotal: 1.3s\tremaining: 834ms\n",
      "305:\tlearn: 14.7774520\ttotal: 1.31s\tremaining: 830ms\n",
      "306:\tlearn: 14.7466635\ttotal: 1.31s\tremaining: 827ms\n",
      "307:\tlearn: 14.7376841\ttotal: 1.32s\tremaining: 824ms\n",
      "308:\tlearn: 14.7248324\ttotal: 1.33s\tremaining: 820ms\n",
      "309:\tlearn: 14.6999015\ttotal: 1.33s\tremaining: 817ms\n",
      "310:\tlearn: 14.6813142\ttotal: 1.34s\tremaining: 813ms\n",
      "311:\tlearn: 14.6672786\ttotal: 1.34s\tremaining: 810ms\n",
      "312:\tlearn: 14.6592928\ttotal: 1.35s\tremaining: 806ms\n",
      "313:\tlearn: 14.6511086\ttotal: 1.35s\tremaining: 803ms\n",
      "314:\tlearn: 14.6357556\ttotal: 1.36s\tremaining: 799ms\n",
      "315:\tlearn: 14.6195457\ttotal: 1.37s\tremaining: 796ms\n",
      "316:\tlearn: 14.5949229\ttotal: 1.37s\tremaining: 792ms\n",
      "317:\tlearn: 14.5769130\ttotal: 1.38s\tremaining: 788ms\n",
      "318:\tlearn: 14.5600498\ttotal: 1.38s\tremaining: 785ms\n",
      "319:\tlearn: 14.5314501\ttotal: 1.39s\tremaining: 781ms\n",
      "320:\tlearn: 14.5302608\ttotal: 1.39s\tremaining: 777ms\n",
      "321:\tlearn: 14.5152042\ttotal: 1.4s\tremaining: 772ms\n",
      "322:\tlearn: 14.5018213\ttotal: 1.4s\tremaining: 768ms\n",
      "323:\tlearn: 14.4995853\ttotal: 1.4s\tremaining: 763ms\n",
      "324:\tlearn: 14.4828333\ttotal: 1.41s\tremaining: 758ms\n",
      "325:\tlearn: 14.4670882\ttotal: 1.41s\tremaining: 754ms\n",
      "326:\tlearn: 14.4452364\ttotal: 1.42s\tremaining: 749ms\n",
      "327:\tlearn: 14.4205390\ttotal: 1.42s\tremaining: 745ms\n",
      "328:\tlearn: 14.4121821\ttotal: 1.42s\tremaining: 740ms\n",
      "329:\tlearn: 14.4044462\ttotal: 1.43s\tremaining: 735ms\n",
      "330:\tlearn: 14.3832869\ttotal: 1.43s\tremaining: 731ms\n",
      "331:\tlearn: 14.3714370\ttotal: 1.44s\tremaining: 726ms\n",
      "332:\tlearn: 14.3473612\ttotal: 1.44s\tremaining: 722ms\n",
      "333:\tlearn: 14.3428560\ttotal: 1.44s\tremaining: 717ms\n",
      "334:\tlearn: 14.3261057\ttotal: 1.45s\tremaining: 712ms\n",
      "335:\tlearn: 14.3027492\ttotal: 1.45s\tremaining: 708ms\n",
      "336:\tlearn: 14.3016458\ttotal: 1.45s\tremaining: 703ms\n",
      "337:\tlearn: 14.2895588\ttotal: 1.46s\tremaining: 699ms\n",
      "338:\tlearn: 14.2598198\ttotal: 1.46s\tremaining: 694ms\n",
      "339:\tlearn: 14.2433177\ttotal: 1.47s\tremaining: 689ms\n",
      "340:\tlearn: 14.2267994\ttotal: 1.47s\tremaining: 685ms\n",
      "341:\tlearn: 14.2125854\ttotal: 1.47s\tremaining: 680ms\n",
      "342:\tlearn: 14.1974125\ttotal: 1.48s\tremaining: 676ms\n",
      "343:\tlearn: 14.1774793\ttotal: 1.48s\tremaining: 671ms\n",
      "344:\tlearn: 14.1515382\ttotal: 1.48s\tremaining: 667ms\n",
      "345:\tlearn: 14.1346908\ttotal: 1.49s\tremaining: 662ms\n",
      "346:\tlearn: 14.1196475\ttotal: 1.49s\tremaining: 658ms\n",
      "347:\tlearn: 14.1105553\ttotal: 1.5s\tremaining: 653ms\n",
      "348:\tlearn: 14.0833200\ttotal: 1.5s\tremaining: 649ms\n",
      "349:\tlearn: 14.0701269\ttotal: 1.5s\tremaining: 644ms\n",
      "350:\tlearn: 14.0647516\ttotal: 1.51s\tremaining: 640ms\n",
      "351:\tlearn: 14.0535703\ttotal: 1.51s\tremaining: 635ms\n",
      "352:\tlearn: 14.0427658\ttotal: 1.51s\tremaining: 630ms\n",
      "353:\tlearn: 14.0407834\ttotal: 1.52s\tremaining: 626ms\n",
      "354:\tlearn: 14.0292939\ttotal: 1.52s\tremaining: 621ms\n",
      "355:\tlearn: 14.0172669\ttotal: 1.52s\tremaining: 617ms\n",
      "356:\tlearn: 14.0085790\ttotal: 1.53s\tremaining: 612ms\n",
      "357:\tlearn: 13.9871438\ttotal: 1.53s\tremaining: 607ms\n",
      "358:\tlearn: 13.9681580\ttotal: 1.53s\tremaining: 603ms\n",
      "359:\tlearn: 13.9501013\ttotal: 1.54s\tremaining: 598ms\n",
      "360:\tlearn: 13.9351596\ttotal: 1.54s\tremaining: 594ms\n",
      "361:\tlearn: 13.9228208\ttotal: 1.54s\tremaining: 589ms\n",
      "362:\tlearn: 13.9061245\ttotal: 1.55s\tremaining: 585ms\n",
      "363:\tlearn: 13.9043147\ttotal: 1.55s\tremaining: 580ms\n",
      "364:\tlearn: 13.9024988\ttotal: 1.56s\tremaining: 576ms\n",
      "365:\tlearn: 13.8952752\ttotal: 1.56s\tremaining: 571ms\n",
      "366:\tlearn: 13.8781930\ttotal: 1.56s\tremaining: 567ms\n",
      "367:\tlearn: 13.8643151\ttotal: 1.57s\tremaining: 562ms\n",
      "368:\tlearn: 13.8436647\ttotal: 1.57s\tremaining: 558ms\n",
      "369:\tlearn: 13.8390250\ttotal: 1.57s\tremaining: 553ms\n",
      "370:\tlearn: 13.8285024\ttotal: 1.58s\tremaining: 549ms\n",
      "371:\tlearn: 13.8111483\ttotal: 1.58s\tremaining: 544ms\n",
      "372:\tlearn: 13.8001483\ttotal: 1.58s\tremaining: 540ms\n",
      "373:\tlearn: 13.7869017\ttotal: 1.59s\tremaining: 535ms\n",
      "374:\tlearn: 13.7673030\ttotal: 1.59s\tremaining: 531ms\n",
      "375:\tlearn: 13.7582197\ttotal: 1.6s\tremaining: 527ms\n",
      "376:\tlearn: 13.7440759\ttotal: 1.6s\tremaining: 522ms\n",
      "377:\tlearn: 13.7429892\ttotal: 1.6s\tremaining: 518ms\n",
      "378:\tlearn: 13.7330188\ttotal: 1.61s\tremaining: 514ms\n",
      "379:\tlearn: 13.7170179\ttotal: 1.61s\tremaining: 509ms\n",
      "380:\tlearn: 13.7049578\ttotal: 1.62s\tremaining: 505ms\n",
      "381:\tlearn: 13.6839686\ttotal: 1.62s\tremaining: 501ms\n",
      "382:\tlearn: 13.6800469\ttotal: 1.62s\tremaining: 496ms\n",
      "383:\tlearn: 13.6649129\ttotal: 1.63s\tremaining: 492ms\n",
      "384:\tlearn: 13.6441428\ttotal: 1.63s\tremaining: 487ms\n",
      "385:\tlearn: 13.6290730\ttotal: 1.64s\tremaining: 483ms\n",
      "386:\tlearn: 13.6071974\ttotal: 1.64s\tremaining: 479ms\n",
      "387:\tlearn: 13.5964661\ttotal: 1.64s\tremaining: 474ms\n",
      "388:\tlearn: 13.5839635\ttotal: 1.65s\tremaining: 470ms\n",
      "389:\tlearn: 13.5623262\ttotal: 1.65s\tremaining: 466ms\n",
      "390:\tlearn: 13.5516438\ttotal: 1.66s\tremaining: 461ms\n",
      "391:\tlearn: 13.5427147\ttotal: 1.66s\tremaining: 457ms\n",
      "392:\tlearn: 13.5243892\ttotal: 1.66s\tremaining: 453ms\n",
      "393:\tlearn: 13.5140881\ttotal: 1.67s\tremaining: 448ms\n",
      "394:\tlearn: 13.5030706\ttotal: 1.67s\tremaining: 444ms\n",
      "395:\tlearn: 13.4823979\ttotal: 1.68s\tremaining: 441ms\n",
      "396:\tlearn: 13.4782711\ttotal: 1.68s\tremaining: 437ms\n",
      "397:\tlearn: 13.4667610\ttotal: 1.69s\tremaining: 433ms\n",
      "398:\tlearn: 13.4576204\ttotal: 1.69s\tremaining: 429ms\n",
      "399:\tlearn: 13.4463735\ttotal: 1.7s\tremaining: 425ms\n",
      "400:\tlearn: 13.4263062\ttotal: 1.7s\tremaining: 421ms\n",
      "401:\tlearn: 13.4253497\ttotal: 1.71s\tremaining: 417ms\n",
      "402:\tlearn: 13.4087938\ttotal: 1.72s\tremaining: 413ms\n",
      "403:\tlearn: 13.3995788\ttotal: 1.72s\tremaining: 409ms\n",
      "404:\tlearn: 13.3921379\ttotal: 1.72s\tremaining: 404ms\n",
      "405:\tlearn: 13.3790445\ttotal: 1.73s\tremaining: 400ms\n",
      "406:\tlearn: 13.3606162\ttotal: 1.73s\tremaining: 396ms\n",
      "407:\tlearn: 13.3495160\ttotal: 1.74s\tremaining: 392ms\n",
      "408:\tlearn: 13.3347885\ttotal: 1.75s\tremaining: 389ms\n",
      "409:\tlearn: 13.3334891\ttotal: 1.75s\tremaining: 385ms\n",
      "410:\tlearn: 13.3247935\ttotal: 1.76s\tremaining: 381ms\n",
      "411:\tlearn: 13.3114849\ttotal: 1.76s\tremaining: 377ms\n",
      "412:\tlearn: 13.3028805\ttotal: 1.77s\tremaining: 373ms\n",
      "413:\tlearn: 13.2901557\ttotal: 1.78s\tremaining: 369ms\n",
      "414:\tlearn: 13.2782311\ttotal: 1.78s\tremaining: 365ms\n",
      "415:\tlearn: 13.2661453\ttotal: 1.78s\tremaining: 360ms\n",
      "416:\tlearn: 13.2498194\ttotal: 1.79s\tremaining: 356ms\n",
      "417:\tlearn: 13.2417074\ttotal: 1.79s\tremaining: 352ms\n",
      "418:\tlearn: 13.2297584\ttotal: 1.79s\tremaining: 347ms\n",
      "419:\tlearn: 13.2280918\ttotal: 1.8s\tremaining: 343ms\n",
      "420:\tlearn: 13.2271860\ttotal: 1.8s\tremaining: 338ms\n",
      "421:\tlearn: 13.2124640\ttotal: 1.81s\tremaining: 334ms\n",
      "422:\tlearn: 13.1993092\ttotal: 1.81s\tremaining: 330ms\n",
      "423:\tlearn: 13.1880672\ttotal: 1.81s\tremaining: 325ms\n",
      "424:\tlearn: 13.1663382\ttotal: 1.82s\tremaining: 321ms\n",
      "425:\tlearn: 13.1600709\ttotal: 1.82s\tremaining: 316ms\n",
      "426:\tlearn: 13.1427925\ttotal: 1.83s\tremaining: 313ms\n",
      "427:\tlearn: 13.1256691\ttotal: 1.83s\tremaining: 309ms\n",
      "428:\tlearn: 13.1101729\ttotal: 1.84s\tremaining: 304ms\n",
      "429:\tlearn: 13.0961921\ttotal: 1.84s\tremaining: 300ms\n",
      "430:\tlearn: 13.0836380\ttotal: 1.85s\tremaining: 296ms\n",
      "431:\tlearn: 13.0709994\ttotal: 1.85s\tremaining: 291ms\n",
      "432:\tlearn: 13.0566700\ttotal: 1.85s\tremaining: 287ms\n",
      "433:\tlearn: 13.0479302\ttotal: 1.86s\tremaining: 283ms\n",
      "434:\tlearn: 13.0409817\ttotal: 1.86s\tremaining: 278ms\n",
      "435:\tlearn: 13.0272931\ttotal: 1.87s\tremaining: 274ms\n",
      "436:\tlearn: 13.0106268\ttotal: 1.87s\tremaining: 270ms\n",
      "437:\tlearn: 12.9951459\ttotal: 1.88s\tremaining: 265ms\n",
      "438:\tlearn: 12.9764071\ttotal: 1.88s\tremaining: 261ms\n",
      "439:\tlearn: 12.9752103\ttotal: 1.88s\tremaining: 257ms\n",
      "440:\tlearn: 12.9639995\ttotal: 1.89s\tremaining: 252ms\n",
      "441:\tlearn: 12.9490578\ttotal: 1.89s\tremaining: 248ms\n",
      "442:\tlearn: 12.9390727\ttotal: 1.89s\tremaining: 244ms\n",
      "443:\tlearn: 12.9229350\ttotal: 1.9s\tremaining: 239ms\n",
      "444:\tlearn: 12.9098884\ttotal: 1.9s\tremaining: 235ms\n",
      "445:\tlearn: 12.8983619\ttotal: 1.91s\tremaining: 231ms\n",
      "446:\tlearn: 12.8852976\ttotal: 1.91s\tremaining: 227ms\n",
      "447:\tlearn: 12.8837808\ttotal: 1.92s\tremaining: 223ms\n",
      "448:\tlearn: 12.8726606\ttotal: 1.92s\tremaining: 219ms\n",
      "449:\tlearn: 12.8588176\ttotal: 1.93s\tremaining: 214ms\n",
      "450:\tlearn: 12.8457904\ttotal: 1.94s\tremaining: 210ms\n",
      "451:\tlearn: 12.8271912\ttotal: 1.94s\tremaining: 206ms\n",
      "452:\tlearn: 12.8121040\ttotal: 1.95s\tremaining: 202ms\n",
      "453:\tlearn: 12.7959883\ttotal: 1.95s\tremaining: 198ms\n",
      "454:\tlearn: 12.7776264\ttotal: 1.96s\tremaining: 194ms\n",
      "455:\tlearn: 12.7677896\ttotal: 1.96s\tremaining: 190ms\n",
      "456:\tlearn: 12.7551428\ttotal: 1.97s\tremaining: 185ms\n",
      "457:\tlearn: 12.7375843\ttotal: 1.98s\tremaining: 181ms\n",
      "458:\tlearn: 12.7242292\ttotal: 1.98s\tremaining: 177ms\n",
      "459:\tlearn: 12.7105626\ttotal: 1.99s\tremaining: 173ms\n",
      "460:\tlearn: 12.6974642\ttotal: 1.99s\tremaining: 169ms\n",
      "461:\tlearn: 12.6800233\ttotal: 2s\tremaining: 164ms\n",
      "462:\tlearn: 12.6678058\ttotal: 2.01s\tremaining: 160ms\n",
      "463:\tlearn: 12.6452538\ttotal: 2.01s\tremaining: 156ms\n",
      "464:\tlearn: 12.6249542\ttotal: 2.02s\tremaining: 152ms\n",
      "465:\tlearn: 12.6159386\ttotal: 2.02s\tremaining: 148ms\n",
      "466:\tlearn: 12.5995471\ttotal: 2.03s\tremaining: 144ms\n",
      "467:\tlearn: 12.5844214\ttotal: 2.04s\tremaining: 139ms\n",
      "468:\tlearn: 12.5690789\ttotal: 2.04s\tremaining: 135ms\n",
      "469:\tlearn: 12.5596719\ttotal: 2.05s\tremaining: 131ms\n",
      "470:\tlearn: 12.5516491\ttotal: 2.06s\tremaining: 127ms\n",
      "471:\tlearn: 12.5365718\ttotal: 2.06s\tremaining: 122ms\n",
      "472:\tlearn: 12.5177057\ttotal: 2.07s\tremaining: 118ms\n",
      "473:\tlearn: 12.5031632\ttotal: 2.07s\tremaining: 114ms\n",
      "474:\tlearn: 12.4898547\ttotal: 2.08s\tremaining: 109ms\n",
      "475:\tlearn: 12.4758761\ttotal: 2.08s\tremaining: 105ms\n",
      "476:\tlearn: 12.4597448\ttotal: 2.09s\tremaining: 101ms\n",
      "477:\tlearn: 12.4507028\ttotal: 2.1s\tremaining: 96.5ms\n",
      "478:\tlearn: 12.4418024\ttotal: 2.1s\tremaining: 92.2ms\n",
      "479:\tlearn: 12.4315342\ttotal: 2.11s\tremaining: 87.8ms\n",
      "480:\tlearn: 12.4216319\ttotal: 2.11s\tremaining: 83.5ms\n",
      "481:\tlearn: 12.4135664\ttotal: 2.12s\tremaining: 79.1ms\n",
      "482:\tlearn: 12.4123568\ttotal: 2.12s\tremaining: 74.8ms\n",
      "483:\tlearn: 12.4085385\ttotal: 2.13s\tremaining: 70.4ms\n",
      "484:\tlearn: 12.3967978\ttotal: 2.13s\tremaining: 66ms\n",
      "485:\tlearn: 12.3850703\ttotal: 2.14s\tremaining: 61.7ms\n",
      "486:\tlearn: 12.3765552\ttotal: 2.14s\tremaining: 57.3ms\n",
      "487:\tlearn: 12.3758356\ttotal: 2.15s\tremaining: 52.8ms\n",
      "488:\tlearn: 12.3713114\ttotal: 2.15s\tremaining: 48.4ms\n",
      "489:\tlearn: 12.3599058\ttotal: 2.16s\tremaining: 44ms\n",
      "490:\tlearn: 12.3497075\ttotal: 2.16s\tremaining: 39.6ms\n",
      "491:\tlearn: 12.3483478\ttotal: 2.16s\tremaining: 35.2ms\n",
      "492:\tlearn: 12.3334141\ttotal: 2.17s\tremaining: 30.8ms\n",
      "493:\tlearn: 12.3209975\ttotal: 2.17s\tremaining: 26.4ms\n",
      "494:\tlearn: 12.3070807\ttotal: 2.17s\tremaining: 22ms\n",
      "495:\tlearn: 12.2967235\ttotal: 2.18s\tremaining: 17.6ms\n",
      "496:\tlearn: 12.2857803\ttotal: 2.18s\tremaining: 13.2ms\n",
      "497:\tlearn: 12.2680791\ttotal: 2.19s\tremaining: 8.78ms\n",
      "498:\tlearn: 12.2593966\ttotal: 2.19s\tremaining: 4.39ms\n",
      "499:\tlearn: 12.2472723\ttotal: 2.19s\tremaining: 0us\n",
      "Learning rate set to 0.089367\n",
      "0:\tlearn: 37.1186002\ttotal: 7.43ms\tremaining: 3.71s\n",
      "1:\tlearn: 35.6248894\ttotal: 14ms\tremaining: 3.49s\n",
      "2:\tlearn: 34.2804139\ttotal: 20.5ms\tremaining: 3.39s\n",
      "3:\tlearn: 33.1189024\ttotal: 26.6ms\tremaining: 3.3s\n",
      "4:\tlearn: 32.1858997\ttotal: 32.9ms\tremaining: 3.26s\n",
      "5:\tlearn: 31.4175280\ttotal: 39.1ms\tremaining: 3.22s\n",
      "6:\tlearn: 30.6148254\ttotal: 44.4ms\tremaining: 3.13s\n",
      "7:\tlearn: 29.8525868\ttotal: 48.4ms\tremaining: 2.97s\n",
      "8:\tlearn: 29.2697270\ttotal: 52.6ms\tremaining: 2.87s\n",
      "9:\tlearn: 28.7323864\ttotal: 56.9ms\tremaining: 2.79s\n",
      "10:\tlearn: 28.3339243\ttotal: 61.1ms\tremaining: 2.71s\n",
      "11:\tlearn: 27.8546021\ttotal: 65.2ms\tremaining: 2.65s\n",
      "12:\tlearn: 27.4132695\ttotal: 69.2ms\tremaining: 2.59s\n",
      "13:\tlearn: 27.0342872\ttotal: 73.3ms\tremaining: 2.54s\n",
      "14:\tlearn: 26.6690796\ttotal: 77.6ms\tremaining: 2.51s\n",
      "15:\tlearn: 26.4165966\ttotal: 82.4ms\tremaining: 2.49s\n",
      "16:\tlearn: 26.0516273\ttotal: 88.6ms\tremaining: 2.52s\n",
      "17:\tlearn: 25.7901597\ttotal: 92.9ms\tremaining: 2.49s\n",
      "18:\tlearn: 25.6255923\ttotal: 99ms\tremaining: 2.5s\n",
      "19:\tlearn: 25.4008849\ttotal: 105ms\tremaining: 2.51s\n",
      "20:\tlearn: 25.2607553\ttotal: 110ms\tremaining: 2.52s\n",
      "21:\tlearn: 25.1082296\ttotal: 116ms\tremaining: 2.51s\n",
      "22:\tlearn: 24.9792936\ttotal: 121ms\tremaining: 2.5s\n",
      "23:\tlearn: 24.8264895\ttotal: 125ms\tremaining: 2.47s\n",
      "24:\tlearn: 24.6190301\ttotal: 129ms\tremaining: 2.44s\n",
      "25:\tlearn: 24.4429287\ttotal: 133ms\tremaining: 2.42s\n",
      "26:\tlearn: 24.3290619\ttotal: 137ms\tremaining: 2.4s\n",
      "27:\tlearn: 24.2404952\ttotal: 141ms\tremaining: 2.38s\n",
      "28:\tlearn: 24.0946538\ttotal: 145ms\tremaining: 2.35s\n",
      "29:\tlearn: 23.9422518\ttotal: 149ms\tremaining: 2.33s\n",
      "30:\tlearn: 23.9185111\ttotal: 153ms\tremaining: 2.31s\n",
      "31:\tlearn: 23.7939528\ttotal: 157ms\tremaining: 2.3s\n",
      "32:\tlearn: 23.7764526\ttotal: 161ms\tremaining: 2.28s\n",
      "33:\tlearn: 23.6846372\ttotal: 166ms\tremaining: 2.27s\n",
      "34:\tlearn: 23.6214053\ttotal: 170ms\tremaining: 2.26s\n",
      "35:\tlearn: 23.5571807\ttotal: 174ms\tremaining: 2.24s\n",
      "36:\tlearn: 23.4871933\ttotal: 179ms\tremaining: 2.23s\n",
      "37:\tlearn: 23.4290181\ttotal: 184ms\tremaining: 2.23s\n",
      "38:\tlearn: 23.3730583\ttotal: 190ms\tremaining: 2.24s\n",
      "39:\tlearn: 23.3162965\ttotal: 196ms\tremaining: 2.26s\n",
      "40:\tlearn: 23.2011853\ttotal: 203ms\tremaining: 2.27s\n",
      "41:\tlearn: 23.1877691\ttotal: 209ms\tremaining: 2.27s\n",
      "42:\tlearn: 23.1193899\ttotal: 214ms\tremaining: 2.28s\n",
      "43:\tlearn: 23.0555019\ttotal: 218ms\tremaining: 2.26s\n",
      "44:\tlearn: 23.0416570\ttotal: 222ms\tremaining: 2.25s\n",
      "45:\tlearn: 23.0296066\ttotal: 226ms\tremaining: 2.23s\n",
      "46:\tlearn: 23.0176906\ttotal: 229ms\tremaining: 2.21s\n",
      "47:\tlearn: 22.8885359\ttotal: 235ms\tremaining: 2.21s\n",
      "48:\tlearn: 22.7984732\ttotal: 239ms\tremaining: 2.2s\n",
      "49:\tlearn: 22.7466387\ttotal: 243ms\tremaining: 2.19s\n",
      "50:\tlearn: 22.6751798\ttotal: 250ms\tremaining: 2.2s\n",
      "51:\tlearn: 22.6083304\ttotal: 256ms\tremaining: 2.21s\n",
      "52:\tlearn: 22.5504470\ttotal: 263ms\tremaining: 2.22s\n",
      "53:\tlearn: 22.5306039\ttotal: 269ms\tremaining: 2.22s\n",
      "54:\tlearn: 22.4823582\ttotal: 276ms\tremaining: 2.23s\n",
      "55:\tlearn: 22.4253365\ttotal: 283ms\tremaining: 2.24s\n",
      "56:\tlearn: 22.4154560\ttotal: 289ms\tremaining: 2.25s\n",
      "57:\tlearn: 22.3874959\ttotal: 294ms\tremaining: 2.24s\n",
      "58:\tlearn: 22.3748844\ttotal: 298ms\tremaining: 2.23s\n",
      "59:\tlearn: 22.2851478\ttotal: 302ms\tremaining: 2.22s\n",
      "60:\tlearn: 22.2696536\ttotal: 306ms\tremaining: 2.2s\n",
      "61:\tlearn: 22.2636952\ttotal: 310ms\tremaining: 2.19s\n",
      "62:\tlearn: 22.2542263\ttotal: 314ms\tremaining: 2.18s\n",
      "63:\tlearn: 22.2446422\ttotal: 318ms\tremaining: 2.17s\n",
      "64:\tlearn: 22.1850050\ttotal: 322ms\tremaining: 2.16s\n",
      "65:\tlearn: 22.1764041\ttotal: 326ms\tremaining: 2.15s\n",
      "66:\tlearn: 22.1479776\ttotal: 333ms\tremaining: 2.15s\n",
      "67:\tlearn: 22.1341341\ttotal: 339ms\tremaining: 2.15s\n",
      "68:\tlearn: 22.1172194\ttotal: 345ms\tremaining: 2.16s\n",
      "69:\tlearn: 22.1091413\ttotal: 352ms\tremaining: 2.16s\n",
      "70:\tlearn: 22.0828288\ttotal: 358ms\tremaining: 2.16s\n",
      "71:\tlearn: 22.0415777\ttotal: 365ms\tremaining: 2.17s\n",
      "72:\tlearn: 21.9859035\ttotal: 372ms\tremaining: 2.17s\n",
      "73:\tlearn: 21.9789977\ttotal: 378ms\tremaining: 2.17s\n",
      "74:\tlearn: 21.9589970\ttotal: 384ms\tremaining: 2.17s\n",
      "75:\tlearn: 21.9350215\ttotal: 388ms\tremaining: 2.16s\n",
      "76:\tlearn: 21.8852332\ttotal: 392ms\tremaining: 2.15s\n",
      "77:\tlearn: 21.8648428\ttotal: 396ms\tremaining: 2.14s\n",
      "78:\tlearn: 21.8147975\ttotal: 400ms\tremaining: 2.13s\n",
      "79:\tlearn: 21.7465588\ttotal: 405ms\tremaining: 2.12s\n",
      "80:\tlearn: 21.7227050\ttotal: 409ms\tremaining: 2.12s\n",
      "81:\tlearn: 21.6979856\ttotal: 413ms\tremaining: 2.11s\n",
      "82:\tlearn: 21.6456747\ttotal: 417ms\tremaining: 2.1s\n",
      "83:\tlearn: 21.6259252\ttotal: 422ms\tremaining: 2.09s\n",
      "84:\tlearn: 21.5803535\ttotal: 426ms\tremaining: 2.08s\n",
      "85:\tlearn: 21.5469939\ttotal: 430ms\tremaining: 2.07s\n",
      "86:\tlearn: 21.5019309\ttotal: 434ms\tremaining: 2.06s\n",
      "87:\tlearn: 21.4375710\ttotal: 439ms\tremaining: 2.05s\n",
      "88:\tlearn: 21.3844106\ttotal: 443ms\tremaining: 2.04s\n",
      "89:\tlearn: 21.3232543\ttotal: 447ms\tremaining: 2.04s\n",
      "90:\tlearn: 21.2731386\ttotal: 452ms\tremaining: 2.03s\n",
      "91:\tlearn: 21.2264984\ttotal: 457ms\tremaining: 2.03s\n",
      "92:\tlearn: 21.2175014\ttotal: 461ms\tremaining: 2.02s\n",
      "93:\tlearn: 21.2118805\ttotal: 465ms\tremaining: 2.01s\n",
      "94:\tlearn: 21.1767014\ttotal: 469ms\tremaining: 2s\n",
      "95:\tlearn: 21.1606631\ttotal: 473ms\tremaining: 1.99s\n",
      "96:\tlearn: 21.1353518\ttotal: 478ms\tremaining: 1.98s\n",
      "97:\tlearn: 21.0728144\ttotal: 482ms\tremaining: 1.98s\n",
      "98:\tlearn: 21.0637181\ttotal: 486ms\tremaining: 1.97s\n",
      "99:\tlearn: 21.0207444\ttotal: 490ms\tremaining: 1.96s\n",
      "100:\tlearn: 20.9734218\ttotal: 495ms\tremaining: 1.95s\n",
      "101:\tlearn: 20.9392686\ttotal: 499ms\tremaining: 1.95s\n",
      "102:\tlearn: 20.8939037\ttotal: 504ms\tremaining: 1.94s\n",
      "103:\tlearn: 20.8832356\ttotal: 508ms\tremaining: 1.93s\n",
      "104:\tlearn: 20.8345678\ttotal: 512ms\tremaining: 1.93s\n",
      "105:\tlearn: 20.7999676\ttotal: 517ms\tremaining: 1.92s\n",
      "106:\tlearn: 20.7741863\ttotal: 521ms\tremaining: 1.91s\n",
      "107:\tlearn: 20.7417997\ttotal: 525ms\tremaining: 1.9s\n",
      "108:\tlearn: 20.6695884\ttotal: 530ms\tremaining: 1.9s\n",
      "109:\tlearn: 20.6222798\ttotal: 537ms\tremaining: 1.9s\n",
      "110:\tlearn: 20.5933989\ttotal: 544ms\tremaining: 1.91s\n",
      "111:\tlearn: 20.5601589\ttotal: 550ms\tremaining: 1.91s\n",
      "112:\tlearn: 20.5356089\ttotal: 557ms\tremaining: 1.91s\n",
      "113:\tlearn: 20.5314054\ttotal: 561ms\tremaining: 1.9s\n",
      "114:\tlearn: 20.4717923\ttotal: 566ms\tremaining: 1.89s\n",
      "115:\tlearn: 20.4225406\ttotal: 572ms\tremaining: 1.89s\n",
      "116:\tlearn: 20.3912584\ttotal: 576ms\tremaining: 1.89s\n",
      "117:\tlearn: 20.3507917\ttotal: 583ms\tremaining: 1.89s\n",
      "118:\tlearn: 20.3206060\ttotal: 589ms\tremaining: 1.89s\n",
      "119:\tlearn: 20.2885527\ttotal: 596ms\tremaining: 1.89s\n",
      "120:\tlearn: 20.2558115\ttotal: 602ms\tremaining: 1.89s\n",
      "121:\tlearn: 20.2293625\ttotal: 608ms\tremaining: 1.89s\n",
      "122:\tlearn: 20.1973251\ttotal: 615ms\tremaining: 1.88s\n",
      "123:\tlearn: 20.1938041\ttotal: 621ms\tremaining: 1.88s\n",
      "124:\tlearn: 20.1612862\ttotal: 628ms\tremaining: 1.88s\n",
      "125:\tlearn: 20.1289480\ttotal: 633ms\tremaining: 1.88s\n",
      "126:\tlearn: 20.1183368\ttotal: 640ms\tremaining: 1.88s\n",
      "127:\tlearn: 20.0726819\ttotal: 644ms\tremaining: 1.87s\n",
      "128:\tlearn: 20.0333771\ttotal: 649ms\tremaining: 1.86s\n",
      "129:\tlearn: 20.0034069\ttotal: 654ms\tremaining: 1.86s\n",
      "130:\tlearn: 19.9810054\ttotal: 659ms\tremaining: 1.86s\n",
      "131:\tlearn: 19.9242668\ttotal: 665ms\tremaining: 1.85s\n",
      "132:\tlearn: 19.9197699\ttotal: 672ms\tremaining: 1.85s\n",
      "133:\tlearn: 19.9034090\ttotal: 678ms\tremaining: 1.85s\n",
      "134:\tlearn: 19.8520214\ttotal: 684ms\tremaining: 1.85s\n",
      "135:\tlearn: 19.8300235\ttotal: 690ms\tremaining: 1.85s\n",
      "136:\tlearn: 19.7963231\ttotal: 697ms\tremaining: 1.85s\n",
      "137:\tlearn: 19.7676470\ttotal: 703ms\tremaining: 1.84s\n",
      "138:\tlearn: 19.7311741\ttotal: 709ms\tremaining: 1.84s\n",
      "139:\tlearn: 19.6979375\ttotal: 716ms\tremaining: 1.84s\n",
      "140:\tlearn: 19.6828594\ttotal: 723ms\tremaining: 1.84s\n",
      "141:\tlearn: 19.6538488\ttotal: 731ms\tremaining: 1.84s\n",
      "142:\tlearn: 19.6147361\ttotal: 738ms\tremaining: 1.84s\n",
      "143:\tlearn: 19.5821196\ttotal: 744ms\tremaining: 1.84s\n",
      "144:\tlearn: 19.5634621\ttotal: 751ms\tremaining: 1.84s\n",
      "145:\tlearn: 19.5323150\ttotal: 758ms\tremaining: 1.84s\n",
      "146:\tlearn: 19.5292613\ttotal: 765ms\tremaining: 1.84s\n",
      "147:\tlearn: 19.4920833\ttotal: 773ms\tremaining: 1.84s\n",
      "148:\tlearn: 19.4584142\ttotal: 780ms\tremaining: 1.84s\n",
      "149:\tlearn: 19.4440612\ttotal: 787ms\tremaining: 1.83s\n",
      "150:\tlearn: 19.4220147\ttotal: 792ms\tremaining: 1.83s\n",
      "151:\tlearn: 19.4191809\ttotal: 796ms\tremaining: 1.82s\n",
      "152:\tlearn: 19.3879861\ttotal: 800ms\tremaining: 1.81s\n",
      "153:\tlearn: 19.3843053\ttotal: 805ms\tremaining: 1.81s\n",
      "154:\tlearn: 19.3454337\ttotal: 809ms\tremaining: 1.8s\n",
      "155:\tlearn: 19.3150490\ttotal: 813ms\tremaining: 1.79s\n",
      "156:\tlearn: 19.2907100\ttotal: 817ms\tremaining: 1.78s\n",
      "157:\tlearn: 19.2464028\ttotal: 822ms\tremaining: 1.78s\n",
      "158:\tlearn: 19.2273963\ttotal: 826ms\tremaining: 1.77s\n",
      "159:\tlearn: 19.1923937\ttotal: 831ms\tremaining: 1.77s\n",
      "160:\tlearn: 19.1643788\ttotal: 837ms\tremaining: 1.76s\n",
      "161:\tlearn: 19.1367526\ttotal: 843ms\tremaining: 1.76s\n",
      "162:\tlearn: 19.1019540\ttotal: 847ms\tremaining: 1.75s\n",
      "163:\tlearn: 19.0740673\ttotal: 852ms\tremaining: 1.74s\n",
      "164:\tlearn: 19.0589121\ttotal: 856ms\tremaining: 1.74s\n",
      "165:\tlearn: 19.0333925\ttotal: 861ms\tremaining: 1.73s\n",
      "166:\tlearn: 18.9982966\ttotal: 868ms\tremaining: 1.73s\n",
      "167:\tlearn: 18.9586708\ttotal: 874ms\tremaining: 1.73s\n",
      "168:\tlearn: 18.9326200\ttotal: 878ms\tremaining: 1.72s\n",
      "169:\tlearn: 18.9050967\ttotal: 883ms\tremaining: 1.71s\n",
      "170:\tlearn: 18.8809229\ttotal: 887ms\tremaining: 1.71s\n",
      "171:\tlearn: 18.8529289\ttotal: 891ms\tremaining: 1.7s\n",
      "172:\tlearn: 18.8169286\ttotal: 895ms\tremaining: 1.69s\n",
      "173:\tlearn: 18.7969772\ttotal: 899ms\tremaining: 1.68s\n",
      "174:\tlearn: 18.7775661\ttotal: 903ms\tremaining: 1.68s\n",
      "175:\tlearn: 18.7629271\ttotal: 907ms\tremaining: 1.67s\n",
      "176:\tlearn: 18.7602010\ttotal: 913ms\tremaining: 1.67s\n",
      "177:\tlearn: 18.7340620\ttotal: 919ms\tremaining: 1.66s\n",
      "178:\tlearn: 18.7069752\ttotal: 923ms\tremaining: 1.66s\n",
      "179:\tlearn: 18.6629152\ttotal: 928ms\tremaining: 1.65s\n",
      "180:\tlearn: 18.6385357\ttotal: 932ms\tremaining: 1.64s\n",
      "181:\tlearn: 18.6129136\ttotal: 936ms\tremaining: 1.63s\n",
      "182:\tlearn: 18.5687108\ttotal: 940ms\tremaining: 1.63s\n",
      "183:\tlearn: 18.5424286\ttotal: 944ms\tremaining: 1.62s\n",
      "184:\tlearn: 18.5132209\ttotal: 949ms\tremaining: 1.61s\n",
      "185:\tlearn: 18.4873661\ttotal: 953ms\tremaining: 1.61s\n",
      "186:\tlearn: 18.4666785\ttotal: 957ms\tremaining: 1.6s\n",
      "187:\tlearn: 18.4497958\ttotal: 961ms\tremaining: 1.59s\n",
      "188:\tlearn: 18.4207192\ttotal: 965ms\tremaining: 1.59s\n",
      "189:\tlearn: 18.3928781\ttotal: 969ms\tremaining: 1.58s\n",
      "190:\tlearn: 18.3679197\ttotal: 973ms\tremaining: 1.57s\n",
      "191:\tlearn: 18.3429304\ttotal: 977ms\tremaining: 1.57s\n",
      "192:\tlearn: 18.3143739\ttotal: 982ms\tremaining: 1.56s\n",
      "193:\tlearn: 18.2924557\ttotal: 986ms\tremaining: 1.55s\n",
      "194:\tlearn: 18.2775722\ttotal: 990ms\tremaining: 1.55s\n",
      "195:\tlearn: 18.2423996\ttotal: 994ms\tremaining: 1.54s\n",
      "196:\tlearn: 18.2103716\ttotal: 999ms\tremaining: 1.53s\n",
      "197:\tlearn: 18.1791387\ttotal: 1s\tremaining: 1.53s\n",
      "198:\tlearn: 18.1637370\ttotal: 1.01s\tremaining: 1.53s\n",
      "199:\tlearn: 18.1352926\ttotal: 1.02s\tremaining: 1.52s\n",
      "200:\tlearn: 18.1068212\ttotal: 1.02s\tremaining: 1.52s\n",
      "201:\tlearn: 18.0874151\ttotal: 1.03s\tremaining: 1.51s\n",
      "202:\tlearn: 18.0597456\ttotal: 1.03s\tremaining: 1.51s\n",
      "203:\tlearn: 18.0395361\ttotal: 1.04s\tremaining: 1.51s\n",
      "204:\tlearn: 18.0107417\ttotal: 1.04s\tremaining: 1.5s\n",
      "205:\tlearn: 17.9850204\ttotal: 1.05s\tremaining: 1.49s\n",
      "206:\tlearn: 17.9677662\ttotal: 1.05s\tremaining: 1.49s\n",
      "207:\tlearn: 17.9424737\ttotal: 1.05s\tremaining: 1.48s\n",
      "208:\tlearn: 17.9189162\ttotal: 1.06s\tremaining: 1.48s\n",
      "209:\tlearn: 17.8956375\ttotal: 1.06s\tremaining: 1.47s\n",
      "210:\tlearn: 17.8745891\ttotal: 1.07s\tremaining: 1.46s\n",
      "211:\tlearn: 17.8501746\ttotal: 1.07s\tremaining: 1.46s\n",
      "212:\tlearn: 17.8287582\ttotal: 1.08s\tremaining: 1.45s\n",
      "213:\tlearn: 17.8036098\ttotal: 1.08s\tremaining: 1.45s\n",
      "214:\tlearn: 17.7806302\ttotal: 1.08s\tremaining: 1.44s\n",
      "215:\tlearn: 17.7700812\ttotal: 1.09s\tremaining: 1.43s\n",
      "216:\tlearn: 17.7623233\ttotal: 1.09s\tremaining: 1.43s\n",
      "217:\tlearn: 17.7370960\ttotal: 1.1s\tremaining: 1.42s\n",
      "218:\tlearn: 17.7223070\ttotal: 1.1s\tremaining: 1.41s\n",
      "219:\tlearn: 17.6952738\ttotal: 1.11s\tremaining: 1.41s\n",
      "220:\tlearn: 17.6781620\ttotal: 1.11s\tremaining: 1.4s\n",
      "221:\tlearn: 17.6631467\ttotal: 1.11s\tremaining: 1.4s\n",
      "222:\tlearn: 17.6565625\ttotal: 1.12s\tremaining: 1.39s\n",
      "223:\tlearn: 17.6367280\ttotal: 1.12s\tremaining: 1.38s\n",
      "224:\tlearn: 17.6078153\ttotal: 1.13s\tremaining: 1.38s\n",
      "225:\tlearn: 17.5855401\ttotal: 1.13s\tremaining: 1.37s\n",
      "226:\tlearn: 17.5627442\ttotal: 1.13s\tremaining: 1.36s\n",
      "227:\tlearn: 17.5451457\ttotal: 1.14s\tremaining: 1.36s\n",
      "228:\tlearn: 17.5241536\ttotal: 1.14s\tremaining: 1.35s\n",
      "229:\tlearn: 17.5025869\ttotal: 1.15s\tremaining: 1.35s\n",
      "230:\tlearn: 17.4830327\ttotal: 1.15s\tremaining: 1.34s\n",
      "231:\tlearn: 17.4706732\ttotal: 1.16s\tremaining: 1.33s\n",
      "232:\tlearn: 17.4454879\ttotal: 1.16s\tremaining: 1.33s\n",
      "233:\tlearn: 17.4437846\ttotal: 1.16s\tremaining: 1.32s\n",
      "234:\tlearn: 17.4291749\ttotal: 1.17s\tremaining: 1.32s\n",
      "235:\tlearn: 17.4071411\ttotal: 1.17s\tremaining: 1.31s\n",
      "236:\tlearn: 17.3805946\ttotal: 1.18s\tremaining: 1.31s\n",
      "237:\tlearn: 17.3646173\ttotal: 1.19s\tremaining: 1.3s\n",
      "238:\tlearn: 17.3629780\ttotal: 1.19s\tremaining: 1.3s\n",
      "239:\tlearn: 17.3375468\ttotal: 1.19s\tremaining: 1.29s\n",
      "240:\tlearn: 17.3361853\ttotal: 1.2s\tremaining: 1.29s\n",
      "241:\tlearn: 17.3197847\ttotal: 1.2s\tremaining: 1.28s\n",
      "242:\tlearn: 17.3026591\ttotal: 1.21s\tremaining: 1.28s\n",
      "243:\tlearn: 17.2882438\ttotal: 1.21s\tremaining: 1.27s\n",
      "244:\tlearn: 17.2757107\ttotal: 1.22s\tremaining: 1.26s\n",
      "245:\tlearn: 17.2461602\ttotal: 1.22s\tremaining: 1.26s\n",
      "246:\tlearn: 17.2319546\ttotal: 1.22s\tremaining: 1.25s\n",
      "247:\tlearn: 17.2242588\ttotal: 1.23s\tremaining: 1.25s\n",
      "248:\tlearn: 17.2219385\ttotal: 1.23s\tremaining: 1.24s\n",
      "249:\tlearn: 17.2081847\ttotal: 1.24s\tremaining: 1.24s\n",
      "250:\tlearn: 17.1945421\ttotal: 1.24s\tremaining: 1.23s\n",
      "251:\tlearn: 17.1928597\ttotal: 1.24s\tremaining: 1.22s\n",
      "252:\tlearn: 17.1753410\ttotal: 1.25s\tremaining: 1.22s\n",
      "253:\tlearn: 17.1522635\ttotal: 1.25s\tremaining: 1.21s\n",
      "254:\tlearn: 17.1500555\ttotal: 1.26s\tremaining: 1.21s\n",
      "255:\tlearn: 17.1284479\ttotal: 1.26s\tremaining: 1.2s\n",
      "256:\tlearn: 17.1271929\ttotal: 1.27s\tremaining: 1.2s\n",
      "257:\tlearn: 17.1020263\ttotal: 1.27s\tremaining: 1.19s\n",
      "258:\tlearn: 17.0830797\ttotal: 1.27s\tremaining: 1.19s\n",
      "259:\tlearn: 17.0816084\ttotal: 1.28s\tremaining: 1.18s\n",
      "260:\tlearn: 17.0802352\ttotal: 1.28s\tremaining: 1.18s\n",
      "261:\tlearn: 17.0780882\ttotal: 1.29s\tremaining: 1.17s\n",
      "262:\tlearn: 17.0655762\ttotal: 1.29s\tremaining: 1.16s\n",
      "263:\tlearn: 17.0642376\ttotal: 1.3s\tremaining: 1.16s\n",
      "264:\tlearn: 17.0388780\ttotal: 1.3s\tremaining: 1.15s\n",
      "265:\tlearn: 17.0169427\ttotal: 1.3s\tremaining: 1.15s\n",
      "266:\tlearn: 16.9946088\ttotal: 1.31s\tremaining: 1.14s\n",
      "267:\tlearn: 16.9758836\ttotal: 1.31s\tremaining: 1.14s\n",
      "268:\tlearn: 16.9558020\ttotal: 1.32s\tremaining: 1.13s\n",
      "269:\tlearn: 16.9289633\ttotal: 1.32s\tremaining: 1.13s\n",
      "270:\tlearn: 16.9112757\ttotal: 1.32s\tremaining: 1.12s\n",
      "271:\tlearn: 16.8910353\ttotal: 1.33s\tremaining: 1.11s\n",
      "272:\tlearn: 16.8731563\ttotal: 1.33s\tremaining: 1.11s\n",
      "273:\tlearn: 16.8497869\ttotal: 1.34s\tremaining: 1.1s\n",
      "274:\tlearn: 16.8355364\ttotal: 1.34s\tremaining: 1.1s\n",
      "275:\tlearn: 16.8206744\ttotal: 1.35s\tremaining: 1.09s\n",
      "276:\tlearn: 16.7974029\ttotal: 1.35s\tremaining: 1.09s\n",
      "277:\tlearn: 16.7826617\ttotal: 1.36s\tremaining: 1.08s\n",
      "278:\tlearn: 16.7744284\ttotal: 1.36s\tremaining: 1.08s\n",
      "279:\tlearn: 16.7539790\ttotal: 1.36s\tremaining: 1.07s\n",
      "280:\tlearn: 16.7322909\ttotal: 1.37s\tremaining: 1.07s\n",
      "281:\tlearn: 16.7205370\ttotal: 1.38s\tremaining: 1.06s\n",
      "282:\tlearn: 16.7175647\ttotal: 1.38s\tremaining: 1.06s\n",
      "283:\tlearn: 16.7009032\ttotal: 1.39s\tremaining: 1.06s\n",
      "284:\tlearn: 16.6874303\ttotal: 1.4s\tremaining: 1.05s\n",
      "285:\tlearn: 16.6666401\ttotal: 1.4s\tremaining: 1.05s\n",
      "286:\tlearn: 16.6507249\ttotal: 1.41s\tremaining: 1.05s\n",
      "287:\tlearn: 16.6348722\ttotal: 1.42s\tremaining: 1.04s\n",
      "288:\tlearn: 16.6121474\ttotal: 1.43s\tremaining: 1.04s\n",
      "289:\tlearn: 16.5905836\ttotal: 1.43s\tremaining: 1.04s\n",
      "290:\tlearn: 16.5740338\ttotal: 1.44s\tremaining: 1.03s\n",
      "291:\tlearn: 16.5470789\ttotal: 1.45s\tremaining: 1.03s\n",
      "292:\tlearn: 16.5268988\ttotal: 1.45s\tremaining: 1.03s\n",
      "293:\tlearn: 16.5185929\ttotal: 1.46s\tremaining: 1.02s\n",
      "294:\tlearn: 16.5133661\ttotal: 1.47s\tremaining: 1.02s\n",
      "295:\tlearn: 16.5122804\ttotal: 1.47s\tremaining: 1.02s\n",
      "296:\tlearn: 16.4817426\ttotal: 1.48s\tremaining: 1.01s\n",
      "297:\tlearn: 16.4583316\ttotal: 1.49s\tremaining: 1.01s\n",
      "298:\tlearn: 16.4397283\ttotal: 1.49s\tremaining: 1s\n",
      "299:\tlearn: 16.4248730\ttotal: 1.5s\tremaining: 1s\n",
      "300:\tlearn: 16.4067525\ttotal: 1.51s\tremaining: 996ms\n",
      "301:\tlearn: 16.3847593\ttotal: 1.51s\tremaining: 992ms\n",
      "302:\tlearn: 16.3688740\ttotal: 1.52s\tremaining: 988ms\n",
      "303:\tlearn: 16.3492989\ttotal: 1.52s\tremaining: 984ms\n",
      "304:\tlearn: 16.3294396\ttotal: 1.53s\tremaining: 980ms\n",
      "305:\tlearn: 16.3110299\ttotal: 1.54s\tremaining: 976ms\n",
      "306:\tlearn: 16.2914193\ttotal: 1.55s\tremaining: 972ms\n",
      "307:\tlearn: 16.2901687\ttotal: 1.55s\tremaining: 968ms\n",
      "308:\tlearn: 16.2735479\ttotal: 1.56s\tremaining: 964ms\n",
      "309:\tlearn: 16.2625254\ttotal: 1.57s\tremaining: 960ms\n",
      "310:\tlearn: 16.2607112\ttotal: 1.57s\tremaining: 956ms\n",
      "311:\tlearn: 16.2441956\ttotal: 1.58s\tremaining: 952ms\n",
      "312:\tlearn: 16.2293056\ttotal: 1.59s\tremaining: 948ms\n",
      "313:\tlearn: 16.2162164\ttotal: 1.59s\tremaining: 945ms\n",
      "314:\tlearn: 16.1935909\ttotal: 1.6s\tremaining: 941ms\n",
      "315:\tlearn: 16.1740073\ttotal: 1.61s\tremaining: 938ms\n",
      "316:\tlearn: 16.1501279\ttotal: 1.62s\tremaining: 934ms\n",
      "317:\tlearn: 16.1343966\ttotal: 1.62s\tremaining: 930ms\n",
      "318:\tlearn: 16.1147247\ttotal: 1.63s\tremaining: 926ms\n",
      "319:\tlearn: 16.1045376\ttotal: 1.64s\tremaining: 922ms\n",
      "320:\tlearn: 16.1036050\ttotal: 1.65s\tremaining: 918ms\n",
      "321:\tlearn: 16.0820036\ttotal: 1.65s\tremaining: 914ms\n",
      "322:\tlearn: 16.0658325\ttotal: 1.66s\tremaining: 910ms\n",
      "323:\tlearn: 16.0518546\ttotal: 1.67s\tremaining: 906ms\n",
      "324:\tlearn: 16.0324934\ttotal: 1.68s\tremaining: 902ms\n",
      "325:\tlearn: 16.0124521\ttotal: 1.68s\tremaining: 898ms\n",
      "326:\tlearn: 15.9956739\ttotal: 1.69s\tremaining: 894ms\n",
      "327:\tlearn: 15.9920590\ttotal: 1.7s\tremaining: 890ms\n",
      "328:\tlearn: 15.9750837\ttotal: 1.7s\tremaining: 886ms\n",
      "329:\tlearn: 15.9551736\ttotal: 1.71s\tremaining: 882ms\n",
      "330:\tlearn: 15.9338254\ttotal: 1.72s\tremaining: 878ms\n",
      "331:\tlearn: 15.9211924\ttotal: 1.73s\tremaining: 873ms\n",
      "332:\tlearn: 15.9081607\ttotal: 1.73s\tremaining: 869ms\n",
      "333:\tlearn: 15.8927503\ttotal: 1.74s\tremaining: 865ms\n",
      "334:\tlearn: 15.8811279\ttotal: 1.75s\tremaining: 860ms\n",
      "335:\tlearn: 15.8681834\ttotal: 1.75s\tremaining: 856ms\n",
      "336:\tlearn: 15.8539243\ttotal: 1.76s\tremaining: 851ms\n",
      "337:\tlearn: 15.8398455\ttotal: 1.77s\tremaining: 847ms\n",
      "338:\tlearn: 15.8243981\ttotal: 1.77s\tremaining: 842ms\n",
      "339:\tlearn: 15.8167778\ttotal: 1.78s\tremaining: 837ms\n",
      "340:\tlearn: 15.8027691\ttotal: 1.78s\tremaining: 833ms\n",
      "341:\tlearn: 15.7932039\ttotal: 1.79s\tremaining: 828ms\n",
      "342:\tlearn: 15.7656196\ttotal: 1.8s\tremaining: 823ms\n",
      "343:\tlearn: 15.7515494\ttotal: 1.8s\tremaining: 818ms\n",
      "344:\tlearn: 15.7506520\ttotal: 1.81s\tremaining: 814ms\n",
      "345:\tlearn: 15.7475951\ttotal: 1.82s\tremaining: 810ms\n",
      "346:\tlearn: 15.7275614\ttotal: 1.83s\tremaining: 806ms\n",
      "347:\tlearn: 15.7198012\ttotal: 1.83s\tremaining: 801ms\n",
      "348:\tlearn: 15.7050023\ttotal: 1.84s\tremaining: 796ms\n",
      "349:\tlearn: 15.6850745\ttotal: 1.85s\tremaining: 791ms\n",
      "350:\tlearn: 15.6779605\ttotal: 1.85s\tremaining: 786ms\n",
      "351:\tlearn: 15.6650439\ttotal: 1.85s\tremaining: 780ms\n",
      "352:\tlearn: 15.6543037\ttotal: 1.86s\tremaining: 774ms\n",
      "353:\tlearn: 15.6263294\ttotal: 1.86s\tremaining: 768ms\n",
      "354:\tlearn: 15.6125659\ttotal: 1.87s\tremaining: 762ms\n",
      "355:\tlearn: 15.5978896\ttotal: 1.87s\tremaining: 757ms\n",
      "356:\tlearn: 15.5788772\ttotal: 1.87s\tremaining: 751ms\n",
      "357:\tlearn: 15.5625527\ttotal: 1.88s\tremaining: 745ms\n",
      "358:\tlearn: 15.5527842\ttotal: 1.88s\tremaining: 739ms\n",
      "359:\tlearn: 15.5336698\ttotal: 1.89s\tremaining: 734ms\n",
      "360:\tlearn: 15.5241463\ttotal: 1.89s\tremaining: 728ms\n",
      "361:\tlearn: 15.5105287\ttotal: 1.9s\tremaining: 722ms\n",
      "362:\tlearn: 15.4968744\ttotal: 1.9s\tremaining: 717ms\n",
      "363:\tlearn: 15.4806995\ttotal: 1.91s\tremaining: 712ms\n",
      "364:\tlearn: 15.4628356\ttotal: 1.91s\tremaining: 707ms\n",
      "365:\tlearn: 15.4532221\ttotal: 1.92s\tremaining: 702ms\n",
      "366:\tlearn: 15.4379988\ttotal: 1.92s\tremaining: 697ms\n",
      "367:\tlearn: 15.4311837\ttotal: 1.93s\tremaining: 692ms\n",
      "368:\tlearn: 15.4110663\ttotal: 1.94s\tremaining: 688ms\n",
      "369:\tlearn: 15.3995775\ttotal: 1.94s\tremaining: 683ms\n",
      "370:\tlearn: 15.3776512\ttotal: 1.95s\tremaining: 678ms\n",
      "371:\tlearn: 15.3569224\ttotal: 1.96s\tremaining: 673ms\n",
      "372:\tlearn: 15.3401358\ttotal: 1.96s\tremaining: 668ms\n",
      "373:\tlearn: 15.3244235\ttotal: 1.97s\tremaining: 663ms\n",
      "374:\tlearn: 15.2966456\ttotal: 1.97s\tremaining: 658ms\n",
      "375:\tlearn: 15.2775545\ttotal: 1.98s\tremaining: 654ms\n",
      "376:\tlearn: 15.2667220\ttotal: 1.99s\tremaining: 649ms\n",
      "377:\tlearn: 15.2512893\ttotal: 1.99s\tremaining: 644ms\n",
      "378:\tlearn: 15.2501930\ttotal: 2s\tremaining: 638ms\n",
      "379:\tlearn: 15.2394174\ttotal: 2s\tremaining: 632ms\n",
      "380:\tlearn: 15.2227575\ttotal: 2.01s\tremaining: 627ms\n",
      "381:\tlearn: 15.2095687\ttotal: 2.01s\tremaining: 621ms\n",
      "382:\tlearn: 15.1941995\ttotal: 2.01s\tremaining: 615ms\n",
      "383:\tlearn: 15.1819278\ttotal: 2.02s\tremaining: 610ms\n",
      "384:\tlearn: 15.1639228\ttotal: 2.02s\tremaining: 604ms\n",
      "385:\tlearn: 15.1495384\ttotal: 2.02s\tremaining: 598ms\n",
      "386:\tlearn: 15.1379991\ttotal: 2.03s\tremaining: 593ms\n",
      "387:\tlearn: 15.1276973\ttotal: 2.03s\tremaining: 587ms\n",
      "388:\tlearn: 15.1176058\ttotal: 2.04s\tremaining: 581ms\n",
      "389:\tlearn: 15.0966056\ttotal: 2.04s\tremaining: 576ms\n",
      "390:\tlearn: 15.0795645\ttotal: 2.04s\tremaining: 570ms\n",
      "391:\tlearn: 15.0656926\ttotal: 2.05s\tremaining: 565ms\n",
      "392:\tlearn: 15.0645982\ttotal: 2.05s\tremaining: 559ms\n",
      "393:\tlearn: 15.0534972\ttotal: 2.06s\tremaining: 554ms\n",
      "394:\tlearn: 15.0386782\ttotal: 2.06s\tremaining: 548ms\n",
      "395:\tlearn: 15.0270710\ttotal: 2.06s\tremaining: 543ms\n",
      "396:\tlearn: 15.0138789\ttotal: 2.07s\tremaining: 537ms\n",
      "397:\tlearn: 15.0021085\ttotal: 2.07s\tremaining: 532ms\n",
      "398:\tlearn: 14.9927786\ttotal: 2.08s\tremaining: 526ms\n",
      "399:\tlearn: 14.9778349\ttotal: 2.08s\tremaining: 520ms\n",
      "400:\tlearn: 14.9701885\ttotal: 2.08s\tremaining: 515ms\n",
      "401:\tlearn: 14.9570335\ttotal: 2.09s\tremaining: 509ms\n",
      "402:\tlearn: 14.9562064\ttotal: 2.09s\tremaining: 504ms\n",
      "403:\tlearn: 14.9434605\ttotal: 2.1s\tremaining: 498ms\n",
      "404:\tlearn: 14.9336140\ttotal: 2.1s\tremaining: 493ms\n",
      "405:\tlearn: 14.9215998\ttotal: 2.1s\tremaining: 487ms\n",
      "406:\tlearn: 14.9094564\ttotal: 2.11s\tremaining: 482ms\n",
      "407:\tlearn: 14.8961129\ttotal: 2.11s\tremaining: 477ms\n",
      "408:\tlearn: 14.8855637\ttotal: 2.12s\tremaining: 471ms\n",
      "409:\tlearn: 14.8740019\ttotal: 2.12s\tremaining: 466ms\n",
      "410:\tlearn: 14.8590192\ttotal: 2.13s\tremaining: 460ms\n",
      "411:\tlearn: 14.8470150\ttotal: 2.13s\tremaining: 455ms\n",
      "412:\tlearn: 14.8295217\ttotal: 2.13s\tremaining: 450ms\n",
      "413:\tlearn: 14.8148116\ttotal: 2.14s\tremaining: 444ms\n",
      "414:\tlearn: 14.8024413\ttotal: 2.14s\tremaining: 439ms\n",
      "415:\tlearn: 14.7853904\ttotal: 2.15s\tremaining: 433ms\n",
      "416:\tlearn: 14.7691931\ttotal: 2.15s\tremaining: 428ms\n",
      "417:\tlearn: 14.7551379\ttotal: 2.15s\tremaining: 423ms\n",
      "418:\tlearn: 14.7430459\ttotal: 2.16s\tremaining: 417ms\n",
      "419:\tlearn: 14.7252765\ttotal: 2.16s\tremaining: 412ms\n",
      "420:\tlearn: 14.7072207\ttotal: 2.17s\tremaining: 406ms\n",
      "421:\tlearn: 14.7019231\ttotal: 2.17s\tremaining: 401ms\n",
      "422:\tlearn: 14.6817161\ttotal: 2.17s\tremaining: 396ms\n",
      "423:\tlearn: 14.6614232\ttotal: 2.18s\tremaining: 390ms\n",
      "424:\tlearn: 14.6512764\ttotal: 2.18s\tremaining: 385ms\n",
      "425:\tlearn: 14.6491965\ttotal: 2.19s\tremaining: 380ms\n",
      "426:\tlearn: 14.6364372\ttotal: 2.19s\tremaining: 374ms\n",
      "427:\tlearn: 14.6259337\ttotal: 2.19s\tremaining: 369ms\n",
      "428:\tlearn: 14.6097549\ttotal: 2.2s\tremaining: 364ms\n",
      "429:\tlearn: 14.5923290\ttotal: 2.2s\tremaining: 358ms\n",
      "430:\tlearn: 14.5807843\ttotal: 2.21s\tremaining: 353ms\n",
      "431:\tlearn: 14.5713604\ttotal: 2.21s\tremaining: 348ms\n",
      "432:\tlearn: 14.5568043\ttotal: 2.21s\tremaining: 342ms\n",
      "433:\tlearn: 14.5454563\ttotal: 2.22s\tremaining: 337ms\n",
      "434:\tlearn: 14.5314113\ttotal: 2.22s\tremaining: 332ms\n",
      "435:\tlearn: 14.5115114\ttotal: 2.22s\tremaining: 327ms\n",
      "436:\tlearn: 14.4957970\ttotal: 2.23s\tremaining: 321ms\n",
      "437:\tlearn: 14.4807243\ttotal: 2.23s\tremaining: 316ms\n",
      "438:\tlearn: 14.4649290\ttotal: 2.24s\tremaining: 311ms\n",
      "439:\tlearn: 14.4637574\ttotal: 2.24s\tremaining: 305ms\n",
      "440:\tlearn: 14.4437267\ttotal: 2.24s\tremaining: 300ms\n",
      "441:\tlearn: 14.4247493\ttotal: 2.25s\tremaining: 295ms\n",
      "442:\tlearn: 14.4171562\ttotal: 2.25s\tremaining: 290ms\n",
      "443:\tlearn: 14.4093915\ttotal: 2.26s\tremaining: 285ms\n",
      "444:\tlearn: 14.3982817\ttotal: 2.26s\tremaining: 279ms\n",
      "445:\tlearn: 14.3881855\ttotal: 2.26s\tremaining: 274ms\n",
      "446:\tlearn: 14.3746709\ttotal: 2.27s\tremaining: 269ms\n",
      "447:\tlearn: 14.3615711\ttotal: 2.27s\tremaining: 264ms\n",
      "448:\tlearn: 14.3447087\ttotal: 2.28s\tremaining: 259ms\n",
      "449:\tlearn: 14.3317538\ttotal: 2.28s\tremaining: 254ms\n",
      "450:\tlearn: 14.3260157\ttotal: 2.29s\tremaining: 248ms\n",
      "451:\tlearn: 14.3169672\ttotal: 2.29s\tremaining: 243ms\n",
      "452:\tlearn: 14.3035196\ttotal: 2.29s\tremaining: 238ms\n",
      "453:\tlearn: 14.2940983\ttotal: 2.3s\tremaining: 233ms\n",
      "454:\tlearn: 14.2792428\ttotal: 2.3s\tremaining: 228ms\n",
      "455:\tlearn: 14.2690351\ttotal: 2.31s\tremaining: 223ms\n",
      "456:\tlearn: 14.2568771\ttotal: 2.31s\tremaining: 217ms\n",
      "457:\tlearn: 14.2452213\ttotal: 2.31s\tremaining: 212ms\n",
      "458:\tlearn: 14.2371199\ttotal: 2.32s\tremaining: 207ms\n",
      "459:\tlearn: 14.2239261\ttotal: 2.33s\tremaining: 202ms\n",
      "460:\tlearn: 14.2100426\ttotal: 2.33s\tremaining: 197ms\n",
      "461:\tlearn: 14.1988715\ttotal: 2.34s\tremaining: 192ms\n",
      "462:\tlearn: 14.1872921\ttotal: 2.35s\tremaining: 187ms\n",
      "463:\tlearn: 14.1785109\ttotal: 2.35s\tremaining: 182ms\n",
      "464:\tlearn: 14.1640962\ttotal: 2.36s\tremaining: 177ms\n",
      "465:\tlearn: 14.1530423\ttotal: 2.36s\tremaining: 173ms\n",
      "466:\tlearn: 14.1446210\ttotal: 2.37s\tremaining: 168ms\n",
      "467:\tlearn: 14.1394200\ttotal: 2.38s\tremaining: 163ms\n",
      "468:\tlearn: 14.1317458\ttotal: 2.38s\tremaining: 158ms\n",
      "469:\tlearn: 14.1301219\ttotal: 2.39s\tremaining: 152ms\n",
      "470:\tlearn: 14.1280845\ttotal: 2.39s\tremaining: 147ms\n",
      "471:\tlearn: 14.1132565\ttotal: 2.4s\tremaining: 142ms\n",
      "472:\tlearn: 14.0997217\ttotal: 2.41s\tremaining: 137ms\n",
      "473:\tlearn: 14.0918250\ttotal: 2.41s\tremaining: 132ms\n",
      "474:\tlearn: 14.0838933\ttotal: 2.42s\tremaining: 127ms\n",
      "475:\tlearn: 14.0765412\ttotal: 2.42s\tremaining: 122ms\n",
      "476:\tlearn: 14.0645598\ttotal: 2.43s\tremaining: 117ms\n",
      "477:\tlearn: 14.0583236\ttotal: 2.44s\tremaining: 112ms\n",
      "478:\tlearn: 14.0544794\ttotal: 2.44s\tremaining: 107ms\n",
      "479:\tlearn: 14.0404717\ttotal: 2.45s\tremaining: 102ms\n",
      "480:\tlearn: 14.0396750\ttotal: 2.46s\tremaining: 97ms\n",
      "481:\tlearn: 14.0263088\ttotal: 2.46s\tremaining: 92ms\n",
      "482:\tlearn: 14.0233945\ttotal: 2.47s\tremaining: 86.9ms\n",
      "483:\tlearn: 14.0064230\ttotal: 2.48s\tremaining: 81.8ms\n",
      "484:\tlearn: 13.9941922\ttotal: 2.48s\tremaining: 76.8ms\n",
      "485:\tlearn: 13.9759681\ttotal: 2.49s\tremaining: 71.7ms\n",
      "486:\tlearn: 13.9628843\ttotal: 2.49s\tremaining: 66.6ms\n",
      "487:\tlearn: 13.9466128\ttotal: 2.5s\tremaining: 61.5ms\n",
      "488:\tlearn: 13.9329457\ttotal: 2.51s\tremaining: 56.4ms\n",
      "489:\tlearn: 13.9203550\ttotal: 2.51s\tremaining: 51.3ms\n",
      "490:\tlearn: 13.9104112\ttotal: 2.52s\tremaining: 46.2ms\n",
      "491:\tlearn: 13.9073407\ttotal: 2.53s\tremaining: 41.1ms\n",
      "492:\tlearn: 13.8878942\ttotal: 2.53s\tremaining: 36ms\n",
      "493:\tlearn: 13.8792543\ttotal: 2.54s\tremaining: 30.9ms\n",
      "494:\tlearn: 13.8621399\ttotal: 2.55s\tremaining: 25.7ms\n",
      "495:\tlearn: 13.8525955\ttotal: 2.55s\tremaining: 20.6ms\n",
      "496:\tlearn: 13.8463683\ttotal: 2.56s\tremaining: 15.4ms\n",
      "497:\tlearn: 13.8327184\ttotal: 2.56s\tremaining: 10.3ms\n",
      "498:\tlearn: 13.8180952\ttotal: 2.57s\tremaining: 5.15ms\n",
      "499:\tlearn: 13.8173711\ttotal: 2.57s\tremaining: 0us\n",
      "Лучшая RMSE: 24.51118535895902 при параметрах ,{'depth': 5, 'n_estimators': 500}\n"
     ]
    }
   ],
   "source": [
    "model_catboost = CatBoostRegressor(random_state=RANDOM_STATE)\n",
    "\n",
    "param_grid = {\n",
    "    \"n_estimators\": [500],\n",
    "    'depth': [5]\n",
    "}\n",
    "\n",
    "gsearch = GridSearchCV(model_catboost, param_grid = param_grid, scoring='neg_root_mean_squared_error', cv=TimeSeriesSplit(n_splits=5))\n",
    "catboost_model = gsearch.fit(X_train,y_train)\n",
    "print(f'Лучшая RMSE: {-catboost_model.best_score_} при параметрах ,{catboost_model.best_params_}')\n",
    "res.append([(-catboost_model.best_score_), catboost_model.best_params_])"
   ]
  },
  {
   "cell_type": "markdown",
   "metadata": {},
   "source": [
    "Cравним RSME, проведя кроссвалидацию на обучающей выборке по каждой из рассматриваемых моделей:"
   ]
  },
  {
   "cell_type": "code",
   "execution_count": 30,
   "metadata": {},
   "outputs": [
    {
     "data": {
      "text/html": [
       "<div>\n",
       "<style scoped>\n",
       "    .dataframe tbody tr th:only-of-type {\n",
       "        vertical-align: middle;\n",
       "    }\n",
       "\n",
       "    .dataframe tbody tr th {\n",
       "        vertical-align: top;\n",
       "    }\n",
       "\n",
       "    .dataframe thead th {\n",
       "        text-align: right;\n",
       "    }\n",
       "</style>\n",
       "<table border=\"1\" class=\"dataframe\">\n",
       "  <thead>\n",
       "    <tr style=\"text-align: right;\">\n",
       "      <th></th>\n",
       "      <th>rmse</th>\n",
       "      <th>optimal_parameters</th>\n",
       "    </tr>\n",
       "  </thead>\n",
       "  <tbody>\n",
       "    <tr>\n",
       "      <th>DecisionTree</th>\n",
       "      <td>28.776013</td>\n",
       "      <td>{'max_depth': 15, 'min_samples_leaf': 27}</td>\n",
       "    </tr>\n",
       "    <tr>\n",
       "      <th>RandomForest</th>\n",
       "      <td>25.341294</td>\n",
       "      <td>{'max_depth': 15, 'min_samples_leaf': 2}</td>\n",
       "    </tr>\n",
       "    <tr>\n",
       "      <th>GradientBoosting</th>\n",
       "      <td>25.276207</td>\n",
       "      <td>{'max_depth': 5, 'n_estimators': 80, 'random_s...</td>\n",
       "    </tr>\n",
       "    <tr>\n",
       "      <th>LightGBM</th>\n",
       "      <td>24.876140</td>\n",
       "      <td>{'max_depth': 11, 'n_estimators': 56}</td>\n",
       "    </tr>\n",
       "    <tr>\n",
       "      <th>CatBoost</th>\n",
       "      <td>24.511185</td>\n",
       "      <td>{'depth': 5, 'n_estimators': 500}</td>\n",
       "    </tr>\n",
       "  </tbody>\n",
       "</table>\n",
       "</div>"
      ],
      "text/plain": [
       "                       rmse                                 optimal_parameters\n",
       "DecisionTree      28.776013          {'max_depth': 15, 'min_samples_leaf': 27}\n",
       "RandomForest      25.341294           {'max_depth': 15, 'min_samples_leaf': 2}\n",
       "GradientBoosting  25.276207  {'max_depth': 5, 'n_estimators': 80, 'random_s...\n",
       "LightGBM          24.876140              {'max_depth': 11, 'n_estimators': 56}\n",
       "CatBoost          24.511185                  {'depth': 5, 'n_estimators': 500}"
      ]
     },
     "metadata": {},
     "output_type": "display_data"
    }
   ],
   "source": [
    "result = pd.DataFrame(data=res, columns=['rmse', 'optimal_parameters']).rename(index={0: 'DecisionTree', 1: 'RandomForest', 2: 'GradientBoosting', 3: 'LightGBM', 4: 'CatBoost'})\n",
    "display(result)"
   ]
  },
  {
   "cell_type": "markdown",
   "metadata": {},
   "source": [
    "Таким образом мы получили минимальную метрику RSME = 24.511 при обучении модели методом CatBoost."
   ]
  },
  {
   "cell_type": "markdown",
   "metadata": {},
   "source": [
    "## Тестирование"
   ]
  },
  {
   "cell_type": "markdown",
   "metadata": {},
   "source": [
    "Проведем финальное тестирование, и определим подходит ли полученный RSME под критерии заказчика.\n",
    "В качестве лучшей модели будем использовать CatBoostRegressor c параметрами{'depth': 5, 'n_estimators': 500}"
   ]
  },
  {
   "cell_type": "code",
   "execution_count": 31,
   "metadata": {
    "scrolled": true
   },
   "outputs": [],
   "source": [
    "def importance(model,features):\n",
    "    features = features.columns\n",
    "    importances = model.feature_importances_\n",
    "    indices = np.argsort(importances)\n",
    "    \n",
    "    plt.figure(figsize=(20, 20))\n",
    "    plt.title('Важность признаков')\n",
    "    plt.barh(range(len(indices)), importances[indices], color='#6495ED', align='center')\n",
    "    plt.yticks(range(len(indices)), features[indices])\n",
    "    plt.xlabel('Относительная важность')\n",
    "    plt.show()\n",
    "        \n",
    "    feat_importances = pd.Series(importances, index=features).sort_values(ascending=False)\n",
    "    feat_importances = feat_importances.to_frame()\n",
    "    feat_importances.columns=['Относительная важность']\n",
    "    display(feat_importances)"
   ]
  },
  {
   "cell_type": "code",
   "execution_count": 32,
   "metadata": {
    "scrolled": true
   },
   "outputs": [],
   "source": [
    "start = time.time()\n",
    "best_model_catboost = CatBoostRegressor(random_state=RANDOM_STATE, verbose=0, depth=5, n_estimators=500)\n",
    "best_model_catboost.fit(X_train, y_train)\n",
    "end = time.time()\n",
    "time_catboost = round(end-start,2)"
   ]
  },
  {
   "cell_type": "code",
   "execution_count": 33,
   "metadata": {
    "scrolled": true
   },
   "outputs": [],
   "source": [
    "start = time.time()\n",
    "predict_catboost = best_model_catboost.predict(X_test)\n",
    "end = time.time()\n",
    "time_catboost_predict = round(end-start,2)"
   ]
  },
  {
   "cell_type": "code",
   "execution_count": 34,
   "metadata": {
    "scrolled": true
   },
   "outputs": [
    {
     "data": {
      "image/png": "[encoded data removed]",
      "text/plain": [
       "<Figure size 1440x1440 with 1 Axes>"
      ]
     },
     "metadata": {
      "needs_background": "light"
     },
     "output_type": "display_data"
    },
    {
     "data": {
      "text/html": [
       "<div>\n",
       "<style scoped>\n",
       "    .dataframe tbody tr th:only-of-type {\n",
       "        vertical-align: middle;\n",
       "    }\n",
       "\n",
       "    .dataframe tbody tr th {\n",
       "        vertical-align: top;\n",
       "    }\n",
       "\n",
       "    .dataframe thead th {\n",
       "        text-align: right;\n",
       "    }\n",
       "</style>\n",
       "<table border=\"1\" class=\"dataframe\">\n",
       "  <thead>\n",
       "    <tr style=\"text-align: right;\">\n",
       "      <th></th>\n",
       "      <th>Относительная важность</th>\n",
       "    </tr>\n",
       "  </thead>\n",
       "  <tbody>\n",
       "    <tr>\n",
       "      <th>lag_24</th>\n",
       "      <td>21.619328</td>\n",
       "    </tr>\n",
       "    <tr>\n",
       "      <th>hour</th>\n",
       "      <td>16.076610</td>\n",
       "    </tr>\n",
       "    <tr>\n",
       "      <th>lag_1</th>\n",
       "      <td>9.066780</td>\n",
       "    </tr>\n",
       "    <tr>\n",
       "      <th>lag_2</th>\n",
       "      <td>4.188479</td>\n",
       "    </tr>\n",
       "    <tr>\n",
       "      <th>dayofweek</th>\n",
       "      <td>4.121874</td>\n",
       "    </tr>\n",
       "    <tr>\n",
       "      <th>lag_7</th>\n",
       "      <td>3.882910</td>\n",
       "    </tr>\n",
       "    <tr>\n",
       "      <th>lag_17</th>\n",
       "      <td>3.524888</td>\n",
       "    </tr>\n",
       "    <tr>\n",
       "      <th>month</th>\n",
       "      <td>3.186616</td>\n",
       "    </tr>\n",
       "    <tr>\n",
       "      <th>lag_23</th>\n",
       "      <td>3.003138</td>\n",
       "    </tr>\n",
       "    <tr>\n",
       "      <th>lag_12</th>\n",
       "      <td>2.431597</td>\n",
       "    </tr>\n",
       "    <tr>\n",
       "      <th>lag_3</th>\n",
       "      <td>2.370892</td>\n",
       "    </tr>\n",
       "    <tr>\n",
       "      <th>lag_22</th>\n",
       "      <td>1.964041</td>\n",
       "    </tr>\n",
       "    <tr>\n",
       "      <th>lag_10</th>\n",
       "      <td>1.951561</td>\n",
       "    </tr>\n",
       "    <tr>\n",
       "      <th>lag_18</th>\n",
       "      <td>1.845206</td>\n",
       "    </tr>\n",
       "    <tr>\n",
       "      <th>rolling_mean</th>\n",
       "      <td>1.737548</td>\n",
       "    </tr>\n",
       "    <tr>\n",
       "      <th>lag_21</th>\n",
       "      <td>1.644541</td>\n",
       "    </tr>\n",
       "    <tr>\n",
       "      <th>lag_13</th>\n",
       "      <td>1.596931</td>\n",
       "    </tr>\n",
       "    <tr>\n",
       "      <th>lag_5</th>\n",
       "      <td>1.590600</td>\n",
       "    </tr>\n",
       "    <tr>\n",
       "      <th>lag_9</th>\n",
       "      <td>1.563480</td>\n",
       "    </tr>\n",
       "    <tr>\n",
       "      <th>lag_4</th>\n",
       "      <td>1.506998</td>\n",
       "    </tr>\n",
       "    <tr>\n",
       "      <th>lag_11</th>\n",
       "      <td>1.502293</td>\n",
       "    </tr>\n",
       "    <tr>\n",
       "      <th>lag_8</th>\n",
       "      <td>1.478839</td>\n",
       "    </tr>\n",
       "    <tr>\n",
       "      <th>lag_20</th>\n",
       "      <td>1.472891</td>\n",
       "    </tr>\n",
       "    <tr>\n",
       "      <th>lag_6</th>\n",
       "      <td>1.376142</td>\n",
       "    </tr>\n",
       "    <tr>\n",
       "      <th>lag_19</th>\n",
       "      <td>1.276872</td>\n",
       "    </tr>\n",
       "    <tr>\n",
       "      <th>lag_16</th>\n",
       "      <td>1.219670</td>\n",
       "    </tr>\n",
       "    <tr>\n",
       "      <th>lag_15</th>\n",
       "      <td>1.130008</td>\n",
       "    </tr>\n",
       "    <tr>\n",
       "      <th>lag_14</th>\n",
       "      <td>1.112805</td>\n",
       "    </tr>\n",
       "    <tr>\n",
       "      <th>day</th>\n",
       "      <td>0.556464</td>\n",
       "    </tr>\n",
       "  </tbody>\n",
       "</table>\n",
       "</div>"
      ],
      "text/plain": [
       "              Относительная важность\n",
       "lag_24                     21.619328\n",
       "hour                       16.076610\n",
       "lag_1                       9.066780\n",
       "lag_2                       4.188479\n",
       "dayofweek                   4.121874\n",
       "lag_7                       3.882910\n",
       "lag_17                      3.524888\n",
       "month                       3.186616\n",
       "lag_23                      3.003138\n",
       "lag_12                      2.431597\n",
       "lag_3                       2.370892\n",
       "lag_22                      1.964041\n",
       "lag_10                      1.951561\n",
       "lag_18                      1.845206\n",
       "rolling_mean                1.737548\n",
       "lag_21                      1.644541\n",
       "lag_13                      1.596931\n",
       "lag_5                       1.590600\n",
       "lag_9                       1.563480\n",
       "lag_4                       1.506998\n",
       "lag_11                      1.502293\n",
       "lag_8                       1.478839\n",
       "lag_20                      1.472891\n",
       "lag_6                       1.376142\n",
       "lag_19                      1.276872\n",
       "lag_16                      1.219670\n",
       "lag_15                      1.130008\n",
       "lag_14                      1.112805\n",
       "day                         0.556464"
      ]
     },
     "metadata": {},
     "output_type": "display_data"
    }
   ],
   "source": [
    "importance(best_model_catboost, X_test)"
   ]
  },
  {
   "cell_type": "code",
   "execution_count": 35,
   "metadata": {
    "scrolled": true
   },
   "outputs": [
    {
     "name": "stdout",
     "output_type": "stream",
     "text": [
      "RMSE модели CatBoostRegressor равна: 40.71\n"
     ]
    }
   ],
   "source": [
    "catboost_best_rmse = mean_squared_error(y_test, predict_catboost,squared = False)\n",
    "print('RMSE модели CatBoostRegressor равна:', catboost_best_rmse.round(2))"
   ]
  },
  {
   "cell_type": "code",
   "execution_count": 36,
   "metadata": {},
   "outputs": [
    {
     "data": {
      "text/html": [
       "<style  type=\"text/css\" >\n",
       "</style><table id=\"T_7b8cb_\" ><thead>    <tr>        <th class=\"col_heading level0 col0\" >Рекомендуемая модель</th>        <th class=\"col_heading level0 col1\" >RMSE на обучающей выборке</th>        <th class=\"col_heading level0 col2\" >RMSE на тестовой выборке</th>        <th class=\"col_heading level0 col3\" >Скорость обучения, сек</th>        <th class=\"col_heading level0 col4\" >Скорость предсказания, сек</th>    </tr></thead><tbody>\n",
       "                <tr>\n",
       "                                <td id=\"T_7b8cb_row0_col0\" class=\"data row0 col0\" >СatBoostRegressor</td>\n",
       "                        <td id=\"T_7b8cb_row0_col1\" class=\"data row0 col1\" >24.511185</td>\n",
       "                        <td id=\"T_7b8cb_row0_col2\" class=\"data row0 col2\" >40.714756</td>\n",
       "                        <td id=\"T_7b8cb_row0_col3\" class=\"data row0 col3\" >3.470000</td>\n",
       "                        <td id=\"T_7b8cb_row0_col4\" class=\"data row0 col4\" >0.010000</td>\n",
       "            </tr>\n",
       "    </tbody></table>"
      ],
      "text/plain": [
       "<pandas.io.formats.style.Styler at 0x7f506104cb80>"
      ]
     },
     "execution_count": 36,
     "metadata": {},
     "output_type": "execute_result"
    }
   ],
   "source": [
    "model_scores = pd.DataFrame(data=[\n",
    "            ('СatBoostRegressor', -catboost_model.best_score_, catboost_best_rmse, time_catboost, time_catboost_predict)], \n",
    "            columns=['Рекомендуемая модель', 'RMSE на обучающей выборке', 'RMSE на тестовой выборке', 'Скорость обучения, сек', 'Скорость предсказания, сек'])\n",
    "model_scores = model_scores.style.hide_index()\n",
    "model_scores  "
   ]
  },
  {
   "cell_type": "markdown",
   "metadata": {},
   "source": [
    "Визуализируем предскания по лучшей модели."
   ]
  },
  {
   "cell_type": "code",
   "execution_count": 37,
   "metadata": {},
   "outputs": [
    {
     "data": {
      "image/png": "[encoded data removed]",
      "text/plain": [
       "<Figure size 720x432 with 1 Axes>"
      ]
     },
     "metadata": {
      "needs_background": "light"
     },
     "output_type": "display_data"
    }
   ],
   "source": [
    "prediction_list = [predict_catboost]\n",
    "model_list = ['CatBoostRegressor']\n",
    "for pred in range(1):\n",
    "    plt.figure(figsize=(10, 6)) \n",
    "    plt.scatter(y=y_test, x=y_test.index, label='Real data')\n",
    "    plt.scatter(y=prediction_list[pred], x=y_test.index, label='Predictions')\n",
    "    plt.legend(loc='upper right')\n",
    "    plt.title(model_list[pred])\n",
    "    plt.show()"
   ]
  },
  {
   "cell_type": "markdown",
   "metadata": {},
   "source": [
    "В ходе проекта были обработаны данные о заказах такси.\n",
    "\n",
    "Для прогноза количества заказов такси были построены 5 моделей предсказания.\n",
    "Самой эффективной моделью, которая показала минимальную метрику RSME(**40,71**) является модель градиентного бустинга библиотеки **CatBoost** c параметрами **{'depth': 5, 'n_estimators': 500}**, о чем свидетельствует финальный график, на котором точки предсказание и реальных данных хорошо расположены очень близко друг к другу. \n",
    "\n",
    "Важными для модели признаками оказались \n",
    "- **lag_24**, \n",
    "- **hour**, \n",
    "- **lag_1**, <br/>\n",
    "\n",
    "как и предсказывалось в первичном анализе. \n",
    "\n",
    "Требование о значении метрики RMSE (не более 48) выполнено."
   ]
  }
 ],
 "metadata": {
  "ExecuteTimeLog": [
   {
    "duration": 1588,
    "start_time": "2023-07-10T20:57:31.829Z"
   },
   {
    "duration": 187,
    "start_time": "2023-07-10T20:58:49.895Z"
   },
   {
    "duration": 26,
    "start_time": "2023-07-10T20:58:55.557Z"
   },
   {
    "duration": 64,
    "start_time": "2023-07-10T20:59:42.027Z"
   },
   {
    "duration": 3,
    "start_time": "2023-07-10T21:00:43.455Z"
   },
   {
    "duration": 5,
    "start_time": "2023-07-10T21:01:04.650Z"
   },
   {
    "duration": 5,
    "start_time": "2023-07-10T21:01:46.392Z"
   },
   {
    "duration": 774,
    "start_time": "2023-07-10T21:11:27.960Z"
   },
   {
    "duration": 83,
    "start_time": "2023-07-10T21:16:13.783Z"
   },
   {
    "duration": 1864,
    "start_time": "2023-07-10T21:16:32.953Z"
   },
   {
    "duration": 5,
    "start_time": "2023-07-10T21:16:49.750Z"
   },
   {
    "duration": 2335,
    "start_time": "2023-07-10T21:16:51.418Z"
   },
   {
    "duration": 5,
    "start_time": "2023-07-10T21:17:09.753Z"
   },
   {
    "duration": 1695,
    "start_time": "2023-07-10T21:17:10.442Z"
   },
   {
    "duration": 20,
    "start_time": "2023-07-10T21:21:04.213Z"
   },
   {
    "duration": 792,
    "start_time": "2023-07-10T21:25:19.186Z"
   },
   {
    "duration": 6,
    "start_time": "2023-07-10T21:26:04.438Z"
   },
   {
    "duration": 234,
    "start_time": "2023-07-10T21:26:23.466Z"
   },
   {
    "duration": 100,
    "start_time": "2023-07-10T21:26:45.384Z"
   },
   {
    "duration": 352,
    "start_time": "2023-07-10T21:26:55.033Z"
   },
   {
    "duration": 868,
    "start_time": "2023-07-10T21:28:39.297Z"
   },
   {
    "duration": 627,
    "start_time": "2023-07-10T21:28:48.086Z"
   },
   {
    "duration": 365,
    "start_time": "2023-07-10T21:29:56.384Z"
   },
   {
    "duration": 15,
    "start_time": "2023-07-10T21:30:56.898Z"
   },
   {
    "duration": 14,
    "start_time": "2023-07-10T21:35:46.631Z"
   },
   {
    "duration": 260,
    "start_time": "2023-07-10T21:36:01.449Z"
   },
   {
    "duration": 235,
    "start_time": "2023-07-10T21:36:13.642Z"
   },
   {
    "duration": 23,
    "start_time": "2023-07-10T21:39:40.951Z"
   },
   {
    "duration": 18,
    "start_time": "2023-07-10T21:40:57.855Z"
   },
   {
    "duration": 19,
    "start_time": "2023-07-10T21:43:11.734Z"
   },
   {
    "duration": 10,
    "start_time": "2023-07-10T21:45:35.459Z"
   },
   {
    "duration": 338,
    "start_time": "2023-07-10T21:45:36.245Z"
   },
   {
    "duration": 17,
    "start_time": "2023-07-10T21:45:40.536Z"
   },
   {
    "duration": 10,
    "start_time": "2023-07-10T21:46:40.250Z"
   },
   {
    "duration": 4,
    "start_time": "2023-07-10T21:48:15.294Z"
   },
   {
    "duration": 32,
    "start_time": "2023-07-10T21:48:42.293Z"
   },
   {
    "duration": 27,
    "start_time": "2023-07-10T21:50:11.626Z"
   },
   {
    "duration": 7,
    "start_time": "2023-07-10T21:54:26.640Z"
   },
   {
    "duration": 388,
    "start_time": "2023-07-10T21:54:27.354Z"
   },
   {
    "duration": 11,
    "start_time": "2023-07-10T21:56:58.330Z"
   },
   {
    "duration": 16,
    "start_time": "2023-07-10T21:57:12.419Z"
   },
   {
    "duration": 225,
    "start_time": "2023-07-10T21:57:14.227Z"
   },
   {
    "duration": 24,
    "start_time": "2023-07-10T21:57:31.919Z"
   },
   {
    "duration": 1369,
    "start_time": "2023-07-10T21:58:33.726Z"
   },
   {
    "duration": 90,
    "start_time": "2023-07-10T21:58:35.097Z"
   },
   {
    "duration": 39,
    "start_time": "2023-07-10T21:58:35.189Z"
   },
   {
    "duration": 41,
    "start_time": "2023-07-10T21:58:35.229Z"
   },
   {
    "duration": 4,
    "start_time": "2023-07-10T21:58:35.272Z"
   },
   {
    "duration": 57,
    "start_time": "2023-07-10T21:58:35.277Z"
   },
   {
    "duration": 9,
    "start_time": "2023-07-10T21:58:35.335Z"
   },
   {
    "duration": 324,
    "start_time": "2023-07-10T21:58:35.345Z"
   },
   {
    "duration": 707,
    "start_time": "2023-07-10T21:58:35.671Z"
   },
   {
    "duration": 367,
    "start_time": "2023-07-10T21:58:36.380Z"
   },
   {
    "duration": 5,
    "start_time": "2023-07-10T21:58:36.748Z"
   },
   {
    "duration": 18,
    "start_time": "2023-07-10T21:58:36.754Z"
   },
   {
    "duration": 253,
    "start_time": "2023-07-10T21:58:36.774Z"
   },
   {
    "duration": 134,
    "start_time": "2023-07-10T21:58:37.030Z"
   },
   {
    "duration": 0,
    "start_time": "2023-07-10T21:58:37.165Z"
   },
   {
    "duration": 0,
    "start_time": "2023-07-10T21:58:37.167Z"
   },
   {
    "duration": 0,
    "start_time": "2023-07-10T21:58:37.167Z"
   },
   {
    "duration": 1436,
    "start_time": "2023-07-10T22:01:00.256Z"
   },
   {
    "duration": 101,
    "start_time": "2023-07-10T22:01:01.694Z"
   },
   {
    "duration": 32,
    "start_time": "2023-07-10T22:01:01.797Z"
   },
   {
    "duration": 56,
    "start_time": "2023-07-10T22:01:01.830Z"
   },
   {
    "duration": 3,
    "start_time": "2023-07-10T22:01:01.888Z"
   },
   {
    "duration": 57,
    "start_time": "2023-07-10T22:01:01.892Z"
   },
   {
    "duration": 35,
    "start_time": "2023-07-10T22:01:01.951Z"
   },
   {
    "duration": 356,
    "start_time": "2023-07-10T22:01:01.988Z"
   },
   {
    "duration": 708,
    "start_time": "2023-07-10T22:01:02.346Z"
   },
   {
    "duration": 389,
    "start_time": "2023-07-10T22:01:03.056Z"
   },
   {
    "duration": 5,
    "start_time": "2023-07-10T22:01:03.449Z"
   },
   {
    "duration": 19,
    "start_time": "2023-07-10T22:01:03.456Z"
   },
   {
    "duration": 288,
    "start_time": "2023-07-10T22:01:03.476Z"
   },
   {
    "duration": 169,
    "start_time": "2023-07-10T22:01:03.768Z"
   },
   {
    "duration": 0,
    "start_time": "2023-07-10T22:01:03.939Z"
   },
   {
    "duration": 0,
    "start_time": "2023-07-10T22:01:03.942Z"
   },
   {
    "duration": 0,
    "start_time": "2023-07-10T22:01:03.943Z"
   },
   {
    "duration": 1601,
    "start_time": "2023-07-10T22:03:22.291Z"
   },
   {
    "duration": 115,
    "start_time": "2023-07-10T22:03:23.894Z"
   },
   {
    "duration": 27,
    "start_time": "2023-07-10T22:03:24.010Z"
   },
   {
    "duration": 50,
    "start_time": "2023-07-10T22:03:24.038Z"
   },
   {
    "duration": 5,
    "start_time": "2023-07-10T22:03:24.090Z"
   },
   {
    "duration": 54,
    "start_time": "2023-07-10T22:03:24.097Z"
   },
   {
    "duration": 7,
    "start_time": "2023-07-10T22:03:24.153Z"
   },
   {
    "duration": 683,
    "start_time": "2023-07-10T22:03:24.162Z"
   },
   {
    "duration": 202,
    "start_time": "2023-07-10T22:03:24.847Z"
   },
   {
    "duration": 0,
    "start_time": "2023-07-10T22:03:25.051Z"
   },
   {
    "duration": 0,
    "start_time": "2023-07-10T22:03:25.053Z"
   },
   {
    "duration": 0,
    "start_time": "2023-07-10T22:03:25.054Z"
   },
   {
    "duration": 0,
    "start_time": "2023-07-10T22:03:25.056Z"
   },
   {
    "duration": 0,
    "start_time": "2023-07-10T22:03:25.057Z"
   },
   {
    "duration": 0,
    "start_time": "2023-07-10T22:03:25.058Z"
   },
   {
    "duration": 0,
    "start_time": "2023-07-10T22:03:25.059Z"
   },
   {
    "duration": 0,
    "start_time": "2023-07-10T22:03:25.061Z"
   },
   {
    "duration": 21,
    "start_time": "2023-07-10T22:04:26.220Z"
   },
   {
    "duration": 84,
    "start_time": "2023-07-10T22:04:42.000Z"
   },
   {
    "duration": 277,
    "start_time": "2023-07-10T22:04:44.394Z"
   },
   {
    "duration": 5,
    "start_time": "2023-07-10T22:05:44.373Z"
   },
   {
    "duration": 405,
    "start_time": "2023-07-10T22:05:54.438Z"
   },
   {
    "duration": 10,
    "start_time": "2023-07-10T22:06:00.635Z"
   },
   {
    "duration": 9,
    "start_time": "2023-07-10T22:06:03.836Z"
   },
   {
    "duration": 342,
    "start_time": "2023-07-10T22:06:06.241Z"
   },
   {
    "duration": 623,
    "start_time": "2023-07-10T22:06:41.950Z"
   },
   {
    "duration": 27,
    "start_time": "2023-07-10T22:08:26.747Z"
   },
   {
    "duration": 1723,
    "start_time": "2023-07-10T22:09:22.058Z"
   },
   {
    "duration": 254,
    "start_time": "2023-07-10T22:09:23.783Z"
   },
   {
    "duration": 19,
    "start_time": "2023-07-10T22:09:24.039Z"
   },
   {
    "duration": 75,
    "start_time": "2023-07-10T22:09:24.061Z"
   },
   {
    "duration": 5,
    "start_time": "2023-07-10T22:09:24.138Z"
   },
   {
    "duration": 35,
    "start_time": "2023-07-10T22:09:24.146Z"
   },
   {
    "duration": 37,
    "start_time": "2023-07-10T22:09:24.183Z"
   },
   {
    "duration": 41,
    "start_time": "2023-07-10T22:09:24.222Z"
   },
   {
    "duration": 316,
    "start_time": "2023-07-10T22:09:24.265Z"
   },
   {
    "duration": 4,
    "start_time": "2023-07-10T22:09:24.583Z"
   },
   {
    "duration": 533,
    "start_time": "2023-07-10T22:09:24.588Z"
   },
   {
    "duration": 6,
    "start_time": "2023-07-10T22:09:25.129Z"
   },
   {
    "duration": 599,
    "start_time": "2023-07-10T22:09:25.137Z"
   },
   {
    "duration": 12,
    "start_time": "2023-07-10T22:09:25.738Z"
   },
   {
    "duration": 309,
    "start_time": "2023-07-10T22:09:25.752Z"
   },
   {
    "duration": 180,
    "start_time": "2023-07-10T22:09:26.063Z"
   },
   {
    "duration": 0,
    "start_time": "2023-07-10T22:09:26.245Z"
   },
   {
    "duration": 0,
    "start_time": "2023-07-10T22:09:26.246Z"
   },
   {
    "duration": 0,
    "start_time": "2023-07-10T22:09:26.248Z"
   },
   {
    "duration": 614,
    "start_time": "2023-07-10T22:18:27.617Z"
   },
   {
    "duration": 729,
    "start_time": "2023-07-10T22:18:47.468Z"
   },
   {
    "duration": 1420,
    "start_time": "2023-07-10T22:20:12.273Z"
   },
   {
    "duration": 82,
    "start_time": "2023-07-10T22:20:13.696Z"
   },
   {
    "duration": 18,
    "start_time": "2023-07-10T22:20:13.779Z"
   },
   {
    "duration": 49,
    "start_time": "2023-07-10T22:20:13.798Z"
   },
   {
    "duration": 3,
    "start_time": "2023-07-10T22:20:13.849Z"
   },
   {
    "duration": 6,
    "start_time": "2023-07-10T22:20:13.854Z"
   },
   {
    "duration": 13,
    "start_time": "2023-07-10T22:20:13.861Z"
   },
   {
    "duration": 289,
    "start_time": "2023-07-10T22:20:13.875Z"
   },
   {
    "duration": 672,
    "start_time": "2023-07-10T22:20:14.166Z"
   },
   {
    "duration": 338,
    "start_time": "2023-07-10T22:20:14.840Z"
   },
   {
    "duration": 4,
    "start_time": "2023-07-10T22:20:15.180Z"
   },
   {
    "duration": 28,
    "start_time": "2023-07-10T22:20:15.185Z"
   },
   {
    "duration": 246,
    "start_time": "2023-07-10T22:20:15.214Z"
   },
   {
    "duration": 6,
    "start_time": "2023-07-10T22:20:15.462Z"
   },
   {
    "duration": 2435,
    "start_time": "2023-07-10T22:20:15.469Z"
   },
   {
    "duration": 16,
    "start_time": "2023-07-10T22:20:17.906Z"
   },
   {
    "duration": 121,
    "start_time": "2023-07-10T22:21:50.343Z"
   },
   {
    "duration": 9,
    "start_time": "2023-07-10T22:23:06.784Z"
   },
   {
    "duration": 10,
    "start_time": "2023-07-10T22:26:26.149Z"
   },
   {
    "duration": 1779,
    "start_time": "2023-07-10T22:26:27.243Z"
   },
   {
    "duration": 3,
    "start_time": "2023-07-10T22:29:08.913Z"
   },
   {
    "duration": 4,
    "start_time": "2023-07-10T22:30:51.815Z"
   },
   {
    "duration": 3,
    "start_time": "2023-07-10T22:30:52.544Z"
   },
   {
    "duration": 10,
    "start_time": "2023-07-10T22:31:19.562Z"
   },
   {
    "duration": 1451,
    "start_time": "2023-07-10T22:48:03.154Z"
   },
   {
    "duration": 181,
    "start_time": "2023-07-10T22:48:04.607Z"
   },
   {
    "duration": 29,
    "start_time": "2023-07-10T22:48:04.789Z"
   },
   {
    "duration": 42,
    "start_time": "2023-07-10T22:48:04.820Z"
   },
   {
    "duration": 4,
    "start_time": "2023-07-10T22:48:04.864Z"
   },
   {
    "duration": 7,
    "start_time": "2023-07-10T22:48:04.869Z"
   },
   {
    "duration": 4,
    "start_time": "2023-07-10T22:48:04.878Z"
   },
   {
    "duration": 280,
    "start_time": "2023-07-10T22:48:04.913Z"
   },
   {
    "duration": 717,
    "start_time": "2023-07-10T22:48:05.194Z"
   },
   {
    "duration": 436,
    "start_time": "2023-07-10T22:48:05.913Z"
   },
   {
    "duration": 4,
    "start_time": "2023-07-10T22:48:06.350Z"
   },
   {
    "duration": 20,
    "start_time": "2023-07-10T22:48:06.356Z"
   },
   {
    "duration": 263,
    "start_time": "2023-07-10T22:48:06.378Z"
   },
   {
    "duration": 4,
    "start_time": "2023-07-10T22:48:06.644Z"
   },
   {
    "duration": 40,
    "start_time": "2023-07-10T22:48:06.649Z"
   },
   {
    "duration": 151,
    "start_time": "2023-07-10T22:48:06.691Z"
   },
   {
    "duration": 0,
    "start_time": "2023-07-10T22:48:06.844Z"
   },
   {
    "duration": 0,
    "start_time": "2023-07-10T22:48:06.845Z"
   },
   {
    "duration": 17,
    "start_time": "2023-07-10T22:48:35.358Z"
   },
   {
    "duration": 2,
    "start_time": "2023-07-10T22:49:54.825Z"
   },
   {
    "duration": 11,
    "start_time": "2023-07-10T22:57:05.672Z"
   },
   {
    "duration": 26,
    "start_time": "2023-07-10T22:57:33.011Z"
   },
   {
    "duration": 1391,
    "start_time": "2023-07-10T23:00:46.972Z"
   },
   {
    "duration": 90,
    "start_time": "2023-07-10T23:00:48.365Z"
   },
   {
    "duration": 17,
    "start_time": "2023-07-10T23:00:48.457Z"
   },
   {
    "duration": 55,
    "start_time": "2023-07-10T23:00:48.476Z"
   },
   {
    "duration": 3,
    "start_time": "2023-07-10T23:00:48.534Z"
   },
   {
    "duration": 7,
    "start_time": "2023-07-10T23:00:48.539Z"
   },
   {
    "duration": 5,
    "start_time": "2023-07-10T23:00:48.548Z"
   },
   {
    "duration": 286,
    "start_time": "2023-07-10T23:00:48.554Z"
   },
   {
    "duration": 716,
    "start_time": "2023-07-10T23:00:48.842Z"
   },
   {
    "duration": 356,
    "start_time": "2023-07-10T23:00:49.560Z"
   },
   {
    "duration": 5,
    "start_time": "2023-07-10T23:00:49.918Z"
   },
   {
    "duration": 24,
    "start_time": "2023-07-10T23:00:49.924Z"
   },
   {
    "duration": 235,
    "start_time": "2023-07-10T23:00:49.950Z"
   },
   {
    "duration": 3,
    "start_time": "2023-07-10T23:00:50.188Z"
   },
   {
    "duration": 24,
    "start_time": "2023-07-10T23:00:50.193Z"
   },
   {
    "duration": 41,
    "start_time": "2023-07-10T23:00:50.219Z"
   },
   {
    "duration": 10,
    "start_time": "2023-07-10T23:00:50.262Z"
   },
   {
    "duration": 3,
    "start_time": "2023-07-10T23:00:50.273Z"
   },
   {
    "duration": 28,
    "start_time": "2023-07-10T23:00:50.277Z"
   },
   {
    "duration": 166,
    "start_time": "2023-07-10T23:00:50.313Z"
   },
   {
    "duration": 2825,
    "start_time": "2023-07-10T23:02:42.698Z"
   },
   {
    "duration": 3135,
    "start_time": "2023-07-10T23:04:09.475Z"
   },
   {
    "duration": 4,
    "start_time": "2023-07-10T23:06:00.592Z"
   },
   {
    "duration": 13,
    "start_time": "2023-07-10T23:06:35.435Z"
   },
   {
    "duration": 55,
    "start_time": "2023-07-10T23:07:00.411Z"
   },
   {
    "duration": 5543,
    "start_time": "2023-07-10T23:07:06.829Z"
   },
   {
    "duration": 4,
    "start_time": "2023-07-10T23:07:43.487Z"
   },
   {
    "duration": 2145,
    "start_time": "2023-07-11T14:24:42.440Z"
   },
   {
    "duration": 292,
    "start_time": "2023-07-11T14:24:44.587Z"
   },
   {
    "duration": 19,
    "start_time": "2023-07-11T14:24:44.880Z"
   },
   {
    "duration": 40,
    "start_time": "2023-07-11T14:24:44.901Z"
   },
   {
    "duration": 4,
    "start_time": "2023-07-11T14:24:44.943Z"
   },
   {
    "duration": 23,
    "start_time": "2023-07-11T14:24:44.948Z"
   },
   {
    "duration": 5,
    "start_time": "2023-07-11T14:24:44.972Z"
   },
   {
    "duration": 317,
    "start_time": "2023-07-11T14:24:44.978Z"
   },
   {
    "duration": 790,
    "start_time": "2023-07-11T14:24:45.297Z"
   },
   {
    "duration": 435,
    "start_time": "2023-07-11T14:24:46.089Z"
   },
   {
    "duration": 6,
    "start_time": "2023-07-11T14:24:46.526Z"
   },
   {
    "duration": 12,
    "start_time": "2023-07-11T14:24:46.534Z"
   },
   {
    "duration": 290,
    "start_time": "2023-07-11T14:24:46.548Z"
   },
   {
    "duration": 3,
    "start_time": "2023-07-11T14:24:46.841Z"
   },
   {
    "duration": 6,
    "start_time": "2023-07-11T14:24:46.847Z"
   },
   {
    "duration": 46,
    "start_time": "2023-07-11T14:24:46.855Z"
   },
   {
    "duration": 12,
    "start_time": "2023-07-11T14:24:46.903Z"
   },
   {
    "duration": 9,
    "start_time": "2023-07-11T14:24:46.917Z"
   },
   {
    "duration": 13,
    "start_time": "2023-07-11T14:24:46.928Z"
   },
   {
    "duration": 499,
    "start_time": "2023-07-11T14:24:46.944Z"
   },
   {
    "duration": 0,
    "start_time": "2023-07-11T14:24:47.445Z"
   },
   {
    "duration": 0,
    "start_time": "2023-07-11T14:24:47.446Z"
   },
   {
    "duration": 1438,
    "start_time": "2023-07-11T14:28:32.244Z"
   },
   {
    "duration": 82,
    "start_time": "2023-07-11T14:28:33.684Z"
   },
   {
    "duration": 19,
    "start_time": "2023-07-11T14:28:33.767Z"
   },
   {
    "duration": 63,
    "start_time": "2023-07-11T14:28:33.787Z"
   },
   {
    "duration": 3,
    "start_time": "2023-07-11T14:28:33.852Z"
   },
   {
    "duration": 25,
    "start_time": "2023-07-11T14:28:33.856Z"
   },
   {
    "duration": 24,
    "start_time": "2023-07-11T14:28:33.883Z"
   },
   {
    "duration": 326,
    "start_time": "2023-07-11T14:28:33.909Z"
   },
   {
    "duration": 741,
    "start_time": "2023-07-11T14:28:34.238Z"
   },
   {
    "duration": 354,
    "start_time": "2023-07-11T14:28:34.982Z"
   },
   {
    "duration": 5,
    "start_time": "2023-07-11T14:28:35.338Z"
   },
   {
    "duration": 73,
    "start_time": "2023-07-11T14:28:35.345Z"
   },
   {
    "duration": 303,
    "start_time": "2023-07-11T14:28:35.420Z"
   },
   {
    "duration": 5,
    "start_time": "2023-07-11T14:28:35.725Z"
   },
   {
    "duration": 57,
    "start_time": "2023-07-11T14:28:35.732Z"
   },
   {
    "duration": 139,
    "start_time": "2023-07-11T14:28:35.790Z"
   },
   {
    "duration": 0,
    "start_time": "2023-07-11T14:28:35.930Z"
   },
   {
    "duration": 0,
    "start_time": "2023-07-11T14:28:35.932Z"
   },
   {
    "duration": 1516,
    "start_time": "2023-07-11T14:29:06.958Z"
   },
   {
    "duration": 11,
    "start_time": "2023-07-11T14:30:25.423Z"
   },
   {
    "duration": 13,
    "start_time": "2023-07-11T14:31:26.931Z"
   },
   {
    "duration": 3,
    "start_time": "2023-07-11T14:31:54.050Z"
   },
   {
    "duration": 1350,
    "start_time": "2023-07-11T14:32:54.101Z"
   },
   {
    "duration": 16138,
    "start_time": "2023-07-11T14:33:36.989Z"
   },
   {
    "duration": 8033,
    "start_time": "2023-07-11T14:34:11.344Z"
   },
   {
    "duration": 977,
    "start_time": "2023-07-11T14:34:48.643Z"
   },
   {
    "duration": 1476,
    "start_time": "2023-07-11T14:38:40.148Z"
   },
   {
    "duration": 79,
    "start_time": "2023-07-11T14:38:41.625Z"
   },
   {
    "duration": 18,
    "start_time": "2023-07-11T14:38:41.707Z"
   },
   {
    "duration": 37,
    "start_time": "2023-07-11T14:38:41.727Z"
   },
   {
    "duration": 4,
    "start_time": "2023-07-11T14:38:41.765Z"
   },
   {
    "duration": 7,
    "start_time": "2023-07-11T14:38:41.770Z"
   },
   {
    "duration": 11,
    "start_time": "2023-07-11T14:38:41.779Z"
   },
   {
    "duration": 306,
    "start_time": "2023-07-11T14:38:41.791Z"
   },
   {
    "duration": 720,
    "start_time": "2023-07-11T14:38:42.099Z"
   },
   {
    "duration": 355,
    "start_time": "2023-07-11T14:38:42.822Z"
   },
   {
    "duration": 5,
    "start_time": "2023-07-11T14:38:43.178Z"
   },
   {
    "duration": 26,
    "start_time": "2023-07-11T14:38:43.184Z"
   },
   {
    "duration": 245,
    "start_time": "2023-07-11T14:38:43.212Z"
   },
   {
    "duration": 11,
    "start_time": "2023-07-11T14:38:43.459Z"
   },
   {
    "duration": 1617,
    "start_time": "2023-07-11T14:38:43.472Z"
   },
   {
    "duration": 89,
    "start_time": "2023-07-11T14:38:45.091Z"
   },
   {
    "duration": 19,
    "start_time": "2023-07-11T14:38:45.181Z"
   },
   {
    "duration": 132,
    "start_time": "2023-07-11T14:38:45.202Z"
   },
   {
    "duration": 0,
    "start_time": "2023-07-11T14:38:45.335Z"
   },
   {
    "duration": 0,
    "start_time": "2023-07-11T14:38:45.337Z"
   },
   {
    "duration": 0,
    "start_time": "2023-07-11T14:38:45.338Z"
   },
   {
    "duration": 0,
    "start_time": "2023-07-11T14:38:45.339Z"
   },
   {
    "duration": 0,
    "start_time": "2023-07-11T14:38:45.340Z"
   },
   {
    "duration": 1321,
    "start_time": "2023-07-11T14:39:11.648Z"
   },
   {
    "duration": 15664,
    "start_time": "2023-07-11T14:39:24.333Z"
   },
   {
    "duration": 7832,
    "start_time": "2023-07-11T14:39:39.999Z"
   },
   {
    "duration": 1079,
    "start_time": "2023-07-11T14:39:55.592Z"
   },
   {
    "duration": 16178,
    "start_time": "2023-07-11T14:40:06.958Z"
   },
   {
    "duration": 10,
    "start_time": "2023-07-11T14:40:28.007Z"
   },
   {
    "duration": 10,
    "start_time": "2023-07-11T14:43:11.937Z"
   },
   {
    "duration": 1351,
    "start_time": "2023-07-11T14:43:37.124Z"
   },
   {
    "duration": 7941,
    "start_time": "2023-07-11T14:44:04.398Z"
   },
   {
    "duration": 1711,
    "start_time": "2023-07-11T14:44:37.254Z"
   },
   {
    "duration": 899,
    "start_time": "2023-07-11T14:45:03.294Z"
   },
   {
    "duration": 14321,
    "start_time": "2023-07-11T14:45:33.943Z"
   },
   {
    "duration": 9,
    "start_time": "2023-07-11T14:46:00.298Z"
   },
   {
    "duration": 14,
    "start_time": "2023-07-11T14:47:37.257Z"
   },
   {
    "duration": 12,
    "start_time": "2023-07-11T14:47:52.545Z"
   },
   {
    "duration": 1323,
    "start_time": "2023-07-11T14:48:05.201Z"
   },
   {
    "duration": 12,
    "start_time": "2023-07-11T14:50:56.414Z"
   },
   {
    "duration": 9,
    "start_time": "2023-07-11T14:51:16.006Z"
   },
   {
    "duration": 9,
    "start_time": "2023-07-11T14:51:48.479Z"
   },
   {
    "duration": 7,
    "start_time": "2023-07-11T14:51:53.903Z"
   },
   {
    "duration": 4,
    "start_time": "2023-07-11T14:52:22.214Z"
   },
   {
    "duration": 10,
    "start_time": "2023-07-11T14:52:32.766Z"
   },
   {
    "duration": 3,
    "start_time": "2023-07-11T14:52:42.325Z"
   },
   {
    "duration": 9,
    "start_time": "2023-07-11T14:53:05.310Z"
   },
   {
    "duration": 9,
    "start_time": "2023-07-11T14:53:44.458Z"
   },
   {
    "duration": 9,
    "start_time": "2023-07-11T14:53:55.689Z"
   },
   {
    "duration": 7,
    "start_time": "2023-07-11T14:54:01.335Z"
   },
   {
    "duration": 1537,
    "start_time": "2023-07-11T14:55:31.573Z"
   },
   {
    "duration": 80,
    "start_time": "2023-07-11T14:55:33.112Z"
   },
   {
    "duration": 20,
    "start_time": "2023-07-11T14:55:33.193Z"
   },
   {
    "duration": 46,
    "start_time": "2023-07-11T14:55:33.215Z"
   },
   {
    "duration": 10,
    "start_time": "2023-07-11T14:55:33.262Z"
   },
   {
    "duration": 24,
    "start_time": "2023-07-11T14:55:33.274Z"
   },
   {
    "duration": 9,
    "start_time": "2023-07-11T14:55:33.299Z"
   },
   {
    "duration": 301,
    "start_time": "2023-07-11T14:55:33.310Z"
   },
   {
    "duration": 8,
    "start_time": "2023-07-11T14:55:33.612Z"
   },
   {
    "duration": 5,
    "start_time": "2023-07-11T14:55:33.623Z"
   },
   {
    "duration": 8,
    "start_time": "2023-07-11T14:55:33.630Z"
   },
   {
    "duration": 13,
    "start_time": "2023-07-11T14:55:33.640Z"
   },
   {
    "duration": 8,
    "start_time": "2023-07-11T14:55:33.671Z"
   },
   {
    "duration": 782,
    "start_time": "2023-07-11T14:55:33.681Z"
   },
   {
    "duration": 375,
    "start_time": "2023-07-11T14:55:34.464Z"
   },
   {
    "duration": 5,
    "start_time": "2023-07-11T14:55:34.842Z"
   },
   {
    "duration": 51,
    "start_time": "2023-07-11T14:55:34.849Z"
   },
   {
    "duration": 318,
    "start_time": "2023-07-11T14:55:34.901Z"
   },
   {
    "duration": 7,
    "start_time": "2023-07-11T14:55:35.221Z"
   },
   {
    "duration": 1752,
    "start_time": "2023-07-11T14:55:35.230Z"
   },
   {
    "duration": 11,
    "start_time": "2023-07-11T14:55:36.983Z"
   },
   {
    "duration": 109,
    "start_time": "2023-07-11T14:55:36.996Z"
   },
   {
    "duration": 1507,
    "start_time": "2023-07-11T14:55:37.108Z"
   },
   {
    "duration": 16429,
    "start_time": "2023-07-11T14:55:38.617Z"
   },
   {
    "duration": 7923,
    "start_time": "2023-07-11T14:55:55.048Z"
   },
   {
    "duration": 914,
    "start_time": "2023-07-11T14:56:02.972Z"
   },
   {
    "duration": 14926,
    "start_time": "2023-07-11T14:56:03.888Z"
   },
   {
    "duration": 12,
    "start_time": "2023-07-11T14:56:18.818Z"
   },
   {
    "duration": 1360,
    "start_time": "2023-07-11T14:56:18.833Z"
   },
   {
    "duration": 7828,
    "start_time": "2023-07-11T14:56:20.194Z"
   },
   {
    "duration": 1682,
    "start_time": "2023-07-11T14:56:28.024Z"
   },
   {
    "duration": 967,
    "start_time": "2023-07-11T14:56:29.708Z"
   },
   {
    "duration": 14466,
    "start_time": "2023-07-11T14:56:30.676Z"
   },
   {
    "duration": 7,
    "start_time": "2023-07-11T14:56:45.144Z"
   },
   {
    "duration": 1347,
    "start_time": "2023-07-11T14:56:45.153Z"
   },
   {
    "duration": 1824,
    "start_time": "2023-07-11T17:26:22.647Z"
   },
   {
    "duration": 175,
    "start_time": "2023-07-11T17:26:24.473Z"
   },
   {
    "duration": 23,
    "start_time": "2023-07-11T17:26:24.649Z"
   },
   {
    "duration": 46,
    "start_time": "2023-07-11T17:26:24.674Z"
   },
   {
    "duration": 5,
    "start_time": "2023-07-11T17:26:24.722Z"
   },
   {
    "duration": 31,
    "start_time": "2023-07-11T17:26:24.729Z"
   },
   {
    "duration": 5,
    "start_time": "2023-07-11T17:26:24.762Z"
   },
   {
    "duration": 362,
    "start_time": "2023-07-11T17:26:24.769Z"
   },
   {
    "duration": 9,
    "start_time": "2023-07-11T17:26:25.133Z"
   },
   {
    "duration": 5,
    "start_time": "2023-07-11T17:26:25.157Z"
   },
   {
    "duration": 4,
    "start_time": "2023-07-11T17:26:25.164Z"
   },
   {
    "duration": 13,
    "start_time": "2023-07-11T17:26:25.170Z"
   },
   {
    "duration": 22,
    "start_time": "2023-07-11T17:26:25.185Z"
   },
   {
    "duration": 890,
    "start_time": "2023-07-11T17:26:25.209Z"
   },
   {
    "duration": 101,
    "start_time": "2023-07-11T17:26:26.101Z"
   },
   {
    "duration": 0,
    "start_time": "2023-07-11T17:26:26.204Z"
   },
   {
    "duration": 0,
    "start_time": "2023-07-11T17:26:26.205Z"
   },
   {
    "duration": 0,
    "start_time": "2023-07-11T17:26:26.207Z"
   },
   {
    "duration": 0,
    "start_time": "2023-07-11T17:26:26.208Z"
   },
   {
    "duration": 0,
    "start_time": "2023-07-11T17:26:26.210Z"
   },
   {
    "duration": 0,
    "start_time": "2023-07-11T17:26:26.212Z"
   },
   {
    "duration": 1,
    "start_time": "2023-07-11T17:26:26.213Z"
   },
   {
    "duration": 0,
    "start_time": "2023-07-11T17:26:26.215Z"
   },
   {
    "duration": 0,
    "start_time": "2023-07-11T17:26:26.216Z"
   },
   {
    "duration": 0,
    "start_time": "2023-07-11T17:26:26.218Z"
   },
   {
    "duration": 0,
    "start_time": "2023-07-11T17:26:26.219Z"
   },
   {
    "duration": 0,
    "start_time": "2023-07-11T17:26:26.220Z"
   },
   {
    "duration": 0,
    "start_time": "2023-07-11T17:26:26.221Z"
   },
   {
    "duration": 0,
    "start_time": "2023-07-11T17:26:26.222Z"
   },
   {
    "duration": 0,
    "start_time": "2023-07-11T17:26:26.223Z"
   },
   {
    "duration": 0,
    "start_time": "2023-07-11T17:26:26.225Z"
   },
   {
    "duration": 0,
    "start_time": "2023-07-11T17:26:26.226Z"
   },
   {
    "duration": 0,
    "start_time": "2023-07-11T17:26:26.228Z"
   },
   {
    "duration": 0,
    "start_time": "2023-07-11T17:26:26.229Z"
   },
   {
    "duration": 0,
    "start_time": "2023-07-11T17:26:26.231Z"
   },
   {
    "duration": 0,
    "start_time": "2023-07-11T17:26:26.232Z"
   },
   {
    "duration": 770,
    "start_time": "2023-07-11T17:26:38.150Z"
   },
   {
    "duration": 195,
    "start_time": "2023-07-11T17:27:21.042Z"
   },
   {
    "duration": 253,
    "start_time": "2023-07-11T17:27:33.459Z"
   },
   {
    "duration": 146,
    "start_time": "2023-07-11T17:28:15.829Z"
   },
   {
    "duration": 866,
    "start_time": "2023-07-11T17:28:30.321Z"
   },
   {
    "duration": 220,
    "start_time": "2023-07-11T17:28:57.243Z"
   },
   {
    "duration": 143,
    "start_time": "2023-07-11T17:29:04.720Z"
   },
   {
    "duration": 433,
    "start_time": "2023-07-11T17:34:17.102Z"
   },
   {
    "duration": 4,
    "start_time": "2023-07-11T17:34:19.398Z"
   },
   {
    "duration": 12,
    "start_time": "2023-07-11T17:34:21.008Z"
   },
   {
    "duration": 267,
    "start_time": "2023-07-11T17:34:21.967Z"
   },
   {
    "duration": 6,
    "start_time": "2023-07-11T17:34:29.343Z"
   },
   {
    "duration": 280,
    "start_time": "2023-07-11T17:34:32.711Z"
   },
   {
    "duration": 10,
    "start_time": "2023-07-11T17:35:54.855Z"
   },
   {
    "duration": 291,
    "start_time": "2023-07-11T17:35:58.335Z"
   },
   {
    "duration": 1984,
    "start_time": "2023-07-11T17:37:09.194Z"
   },
   {
    "duration": 11,
    "start_time": "2023-07-11T17:38:38.725Z"
   },
   {
    "duration": 3,
    "start_time": "2023-07-11T17:38:43.703Z"
   },
   {
    "duration": 1615,
    "start_time": "2023-07-11T17:38:45.247Z"
   },
   {
    "duration": 18688,
    "start_time": "2023-07-11T17:38:50.958Z"
   },
   {
    "duration": 9147,
    "start_time": "2023-07-11T17:39:09.648Z"
   },
   {
    "duration": 1398,
    "start_time": "2023-07-11T17:39:18.797Z"
   },
   {
    "duration": 16655,
    "start_time": "2023-07-11T17:39:20.197Z"
   },
   {
    "duration": 11,
    "start_time": "2023-07-11T17:39:36.854Z"
   },
   {
    "duration": 5,
    "start_time": "2023-07-11T17:46:51.919Z"
   },
   {
    "duration": 3120,
    "start_time": "2023-07-11T17:47:39.552Z"
   },
   {
    "duration": 8,
    "start_time": "2023-07-11T17:48:19.471Z"
   },
   {
    "duration": 129,
    "start_time": "2023-07-11T17:48:34.886Z"
   },
   {
    "duration": 5,
    "start_time": "2023-07-11T17:49:10.336Z"
   },
   {
    "duration": 292,
    "start_time": "2023-07-11T17:49:13.710Z"
   },
   {
    "duration": 5,
    "start_time": "2023-07-11T17:49:33.389Z"
   },
   {
    "duration": 491,
    "start_time": "2023-07-11T17:49:36.034Z"
   },
   {
    "duration": 16,
    "start_time": "2023-07-11T17:51:01.721Z"
   },
   {
    "duration": 5,
    "start_time": "2023-07-11T17:51:44.885Z"
   },
   {
    "duration": 5,
    "start_time": "2023-07-11T17:52:45.879Z"
   },
   {
    "duration": 25,
    "start_time": "2023-07-11T17:53:06.738Z"
   },
   {
    "duration": 44,
    "start_time": "2023-07-11T17:53:42.905Z"
   },
   {
    "duration": 331,
    "start_time": "2023-07-11T17:56:16.538Z"
   },
   {
    "duration": 5,
    "start_time": "2023-07-11T17:57:53.190Z"
   },
   {
    "duration": 416,
    "start_time": "2023-07-11T17:57:55.604Z"
   },
   {
    "duration": 1568,
    "start_time": "2023-07-11T18:01:35.303Z"
   },
   {
    "duration": 102,
    "start_time": "2023-07-11T18:01:36.873Z"
   },
   {
    "duration": 22,
    "start_time": "2023-07-11T18:01:36.977Z"
   },
   {
    "duration": 55,
    "start_time": "2023-07-11T18:01:37.001Z"
   },
   {
    "duration": 4,
    "start_time": "2023-07-11T18:01:37.057Z"
   },
   {
    "duration": 6,
    "start_time": "2023-07-11T18:01:37.063Z"
   },
   {
    "duration": 6,
    "start_time": "2023-07-11T18:01:37.071Z"
   },
   {
    "duration": 439,
    "start_time": "2023-07-11T18:01:37.078Z"
   },
   {
    "duration": 9,
    "start_time": "2023-07-11T18:01:37.519Z"
   },
   {
    "duration": 5,
    "start_time": "2023-07-11T18:01:37.533Z"
   },
   {
    "duration": 21,
    "start_time": "2023-07-11T18:01:37.539Z"
   },
   {
    "duration": 10,
    "start_time": "2023-07-11T18:01:37.562Z"
   },
   {
    "duration": 9,
    "start_time": "2023-07-11T18:01:37.574Z"
   },
   {
    "duration": 926,
    "start_time": "2023-07-11T18:01:37.585Z"
   },
   {
    "duration": 219,
    "start_time": "2023-07-11T18:01:38.513Z"
   },
   {
    "duration": 156,
    "start_time": "2023-07-11T18:01:38.734Z"
   },
   {
    "duration": 421,
    "start_time": "2023-07-11T18:01:38.893Z"
   },
   {
    "duration": 4,
    "start_time": "2023-07-11T18:01:39.316Z"
   },
   {
    "duration": 22,
    "start_time": "2023-07-11T18:01:39.322Z"
   },
   {
    "duration": 301,
    "start_time": "2023-07-11T18:01:39.355Z"
   },
   {
    "duration": 6,
    "start_time": "2023-07-11T18:01:39.659Z"
   },
   {
    "duration": 2401,
    "start_time": "2023-07-11T18:01:39.667Z"
   },
   {
    "duration": 16,
    "start_time": "2023-07-11T18:01:42.071Z"
   },
   {
    "duration": 8,
    "start_time": "2023-07-11T18:01:42.090Z"
   },
   {
    "duration": 1503,
    "start_time": "2023-07-11T18:01:42.101Z"
   },
   {
    "duration": 17327,
    "start_time": "2023-07-11T18:01:43.606Z"
   },
   {
    "duration": 8671,
    "start_time": "2023-07-11T18:02:00.935Z"
   },
   {
    "duration": 1347,
    "start_time": "2023-07-11T18:02:09.610Z"
   },
   {
    "duration": 18015,
    "start_time": "2023-07-11T18:02:10.959Z"
   },
   {
    "duration": 16,
    "start_time": "2023-07-11T18:02:28.977Z"
   },
   {
    "duration": 7,
    "start_time": "2023-07-11T18:02:28.995Z"
   },
   {
    "duration": 3472,
    "start_time": "2023-07-11T18:02:29.004Z"
   },
   {
    "duration": 9,
    "start_time": "2023-07-11T18:02:32.479Z"
   },
   {
    "duration": 405,
    "start_time": "2023-07-11T18:02:32.490Z"
   },
   {
    "duration": 6,
    "start_time": "2023-07-11T18:02:32.898Z"
   },
   {
    "duration": 85,
    "start_time": "2023-07-11T18:02:32.907Z"
   },
   {
    "duration": 364,
    "start_time": "2023-07-11T18:02:32.994Z"
   }
  ],
  "kernelspec": {
   "display_name": "Python 3 (ipykernel)",
   "language": "python",
   "name": "python3"
  },
  "language_info": {
   "codemirror_mode": {
    "name": "ipython",
    "version": 3
   },
   "file_extension": ".py",
   "mimetype": "text/x-python",
   "name": "python",
   "nbconvert_exporter": "python",
   "pygments_lexer": "ipython3",
   "version": "3.9.5"
  },
  "toc": {
   "base_numbering": 1,
   "nav_menu": {},
   "number_sections": true,
   "sideBar": true,
   "skip_h1_title": true,
   "title_cell": "Содержание",
   "title_sidebar": "Contents",
   "toc_cell": true,
   "toc_position": {
    "height": "calc(100% - 180px)",
    "left": "10px",
    "top": "150px",
    "width": "165px"
   },
   "toc_section_display": true,
   "toc_window_display": true
  }
 },
 "nbformat": 4,
 "nbformat_minor": 2
}
