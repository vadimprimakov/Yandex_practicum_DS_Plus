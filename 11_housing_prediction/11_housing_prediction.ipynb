{
 "cells": [
  {
   "cell_type": "markdown",
   "id": "8f770682",
   "metadata": {
    "toc": true
   },
   "source": [
    "<h1>Содержание<span class=\"tocSkip\"></span></h1>\n",
    "<div class=\"toc\"><ul class=\"toc-item\"><li><span><a href=\"#Подготовка-данных\" data-toc-modified-id=\"Подготовка-данных-1\"><span class=\"toc-item-num\">1&nbsp;&nbsp;</span>Подготовка данных</a></span><ul class=\"toc-item\"><li><span><a href=\"#Загрузка-библиотек-и-датасетов\" data-toc-modified-id=\"Загрузка-библиотек-и-датасетов-1.1\"><span class=\"toc-item-num\">1.1&nbsp;&nbsp;</span>Загрузка библиотек и датасетов</a></span></li><li><span><a href=\"#Трансформация-признаков\" data-toc-modified-id=\"Трансформация-признаков-1.2\"><span class=\"toc-item-num\">1.2&nbsp;&nbsp;</span>Трансформация признаков</a></span></li><li><span><a href=\"#Обучение-моделей\" data-toc-modified-id=\"Обучение-моделей-1.3\"><span class=\"toc-item-num\">1.3&nbsp;&nbsp;</span>Обучение моделей</a></span><ul class=\"toc-item\"><li><span><a href=\"#Разделение-на-выборки\" data-toc-modified-id=\"Разделение-на-выборки-1.3.1\"><span class=\"toc-item-num\">1.3.1&nbsp;&nbsp;</span>Разделение на выборки</a></span></li><li><span><a href=\"#Обучение-модели-на-всех-данных-из-файла\" data-toc-modified-id=\"Обучение-модели-на-всех-данных-из-файла-1.3.2\"><span class=\"toc-item-num\">1.3.2&nbsp;&nbsp;</span>Обучение модели на всех данных из файла</a></span></li><li><span><a href=\"#Обучение-модели-на-числовых-признаках\" data-toc-modified-id=\"Обучение-модели-на-числовых-признаках-1.3.3\"><span class=\"toc-item-num\">1.3.3&nbsp;&nbsp;</span>Обучение модели на числовых признаках</a></span></li></ul></li><li><span><a href=\"#Анализ-результатов\" data-toc-modified-id=\"Анализ-результатов-1.4\"><span class=\"toc-item-num\">1.4&nbsp;&nbsp;</span>Анализ результатов</a></span></li></ul></li></ul></div>"
   ]
  },
  {
   "cell_type": "markdown",
   "id": "44ff0e66",
   "metadata": {
    "id": "GEqQaHzsZ_bA"
   },
   "source": [
    "# Предсказание стоимости жилья\n",
    "\n"
   ]
  },
  {
   "cell_type": "markdown",
   "id": "8eafe90c",
   "metadata": {
    "id": "GEqQaHzsZ_bA"
   },
   "source": [
    "В проекте вам нужно обучить модель линейной регрессии на данных о жилье в Калифорнии в 1990 году. <br />\n",
    "\n",
    "В колонках датасета содержатся следующие данные:<br />\n",
    "- longitude — широта;<br />\n",
    "- latitude — долгота;<br />\n",
    "- housing_median_age — медианный возраст жителей жилого массива;<br />\n",
    "- total_rooms — общее количество комнат в домах жилого массива;<br />\n",
    "- тtotal_bedrooms — общее количество спален в домах жилого массива;<br />\n",
    "- population — количество человек, которые проживают в жилом массиве;<br />\n",
    "- households — количество домовладений в жилом массиве;<br />\n",
    "- median_income — медианный доход жителей жилого массива;<br />\n",
    "- median_house_value — медианная стоимость дома в жилом массиве;<br />\n",
    "- ocean_proximity — близость к океану.<br />\n"
   ]
  },
  {
   "cell_type": "markdown",
   "id": "GEqQaHzsZ_bA",
   "metadata": {
    "id": "GEqQaHzsZ_bA"
   },
   "source": [
    "На основе данных нужно предсказать медианную стоимость дома в жилом массиве. Обучите модель и сделайте предсказания на тестовой выборке. Для оценки качества модели используйте метрики RMSE, MAE и R2."
   ]
  },
  {
   "cell_type": "markdown",
   "id": "e44effe9",
   "metadata": {
    "id": "GEqQaHzsZ_bA"
   },
   "source": [
    "# План по выполнению проекта\n",
    "- Инициализировать локальную Spark-сессию.<br />\n",
    "- Прочитать содержимое файла /datasets/housing.csv.<br />\n",
    "- Вывести типы данных колонок датасета, использовав методы pySpark.<br />\n",
    "- Выполнить предобработку данных:<br />\n",
    " - Исследовать данные на наличие пропусков и заполните их, выбрав значения по своему усмотрению.<br />\n",
    " - Преобразовать колонку с категориальными значениями техникой One hot encoding.<br />\n",
    "- Построить две модели линейной регрессии на разных наборах данных:<br />\n",
    " - используя все данные из файла;<br />\n",
    " - используя только числовые переменные, исключив категориальные.<br />\n",
    "- Для построения модели использовать оценщик LinearRegression из библиотеки MLlib.<br />\n",
    "- Сравните результаты работы линейной регрессии на двух наборах данных по метрикам RMSE, MAE и R2. Сделать выводы.<br />\n"
   ]
  },
  {
   "cell_type": "markdown",
   "id": "53871372",
   "metadata": {
    "id": "53871372"
   },
   "source": [
    "## Подготовка данных"
   ]
  },
  {
   "cell_type": "markdown",
   "id": "66527c72",
   "metadata": {
    "id": "df92e3ec"
   },
   "source": [
    "### Загрузка библиотек и датасетов"
   ]
  },
  {
   "cell_type": "code",
   "execution_count": 1,
   "id": "3173d408",
   "metadata": {
    "id": "df92e3ec"
   },
   "outputs": [],
   "source": [
    "import pandas as pd \n",
    "import numpy as np\n",
    "import pyspark\n",
    "import seaborn as sns\n",
    "import matplotlib.pyplot as plt\n",
    "import pyspark.sql.functions as F\n",
    "from pyspark.sql import SparkSession\n",
    "from pyspark.sql.types import *\n",
    "from pyspark.ml.feature import StringIndexer, VectorAssembler, StandardScaler\n",
    "from pyspark.ml.regression import LinearRegression\n",
    "from pyspark.ml.evaluation import RegressionEvaluator\n",
    "from pyspark.ml.evaluation import BinaryClassificationEvaluator, MulticlassClassificationEvaluator\n",
    "from pyspark.ml.feature import OneHotEncoder\n",
    "from pyspark.ml.stat import Correlation\n",
    "from pyspark.mllib.evaluation import RegressionMetrics\n",
    "RANDOM_SEED = 12345\n",
    "pd.set_option('display.float_format', lambda x: '%.2f' % x)"
   ]
  },
  {
   "cell_type": "code",
   "execution_count": 2,
   "id": "9dc3957e",
   "metadata": {
    "id": "df92e3ec"
   },
   "outputs": [],
   "source": [
    "spark = SparkSession.builder \\\n",
    "                    .master(\"local\") \\\n",
    "                    .appName(\"EDA California Housing\") \\\n",
    "                    .getOrCreate()"
   ]
  },
  {
   "cell_type": "code",
   "execution_count": 3,
   "id": "67f2f457",
   "metadata": {
    "id": "df92e3ec",
    "scrolled": false
   },
   "outputs": [
    {
     "name": "stderr",
     "output_type": "stream",
     "text": [
      "                                                                                \r"
     ]
    },
    {
     "name": "stdout",
     "output_type": "stream",
     "text": [
      "root\n",
      " |-- longitude: double (nullable = true)\n",
      " |-- latitude: double (nullable = true)\n",
      " |-- housing_median_age: double (nullable = true)\n",
      " |-- total_rooms: double (nullable = true)\n",
      " |-- total_bedrooms: double (nullable = true)\n",
      " |-- population: double (nullable = true)\n",
      " |-- households: double (nullable = true)\n",
      " |-- median_income: double (nullable = true)\n",
      " |-- median_house_value: double (nullable = true)\n",
      " |-- ocean_proximity: string (nullable = true)\n",
      "\n"
     ]
    },
    {
     "name": "stderr",
     "output_type": "stream",
     "text": [
      "                                                                                \r"
     ]
    }
   ],
   "source": [
    "df_housing = spark.read.load('/datasets/housing.csv', format = \"csv\", sep=\",\", inferSchema=True, header=\"True\")\n",
    "df_housing.printSchema()"
   ]
  },
  {
   "cell_type": "markdown",
   "id": "96ca2a6c",
   "metadata": {
    "id": "GEqQaHzsZ_bA"
   },
   "source": [
    "Выведем названия колонок и их тип данных в виде таблицы:"
   ]
  },
  {
   "cell_type": "code",
   "execution_count": 4,
   "id": "f644620e",
   "metadata": {
    "id": "df92e3ec",
    "scrolled": true
   },
   "outputs": [
    {
     "name": "stdout",
     "output_type": "stream",
     "text": [
      "               column    type\n",
      "0           longitude  double\n",
      "1            latitude  double\n",
      "2  housing_median_age  double\n",
      "3         total_rooms  double\n",
      "4      total_bedrooms  double\n",
      "5          population  double\n",
      "6          households  double\n",
      "7       median_income  double\n",
      "8  median_house_value  double\n",
      "9     ocean_proximity  string\n"
     ]
    }
   ],
   "source": [
    "print(pd.DataFrame(df_housing.dtypes, columns=['column', 'type']).head(10))"
   ]
  },
  {
   "cell_type": "markdown",
   "id": "d03c77a3",
   "metadata": {
    "id": "GEqQaHzsZ_bA"
   },
   "source": [
    "Выведем первые 10 строк датасета методом DataFrame API:"
   ]
  },
  {
   "cell_type": "code",
   "execution_count": 5,
   "id": "250e0e5b",
   "metadata": {
    "id": "df92e3ec",
    "scrolled": true
   },
   "outputs": [
    {
     "name": "stdout",
     "output_type": "stream",
     "text": [
      "+---------+--------+------------------+-----------+--------------+----------+----------+-------------+------------------+---------------+\n",
      "|longitude|latitude|housing_median_age|total_rooms|total_bedrooms|population|households|median_income|median_house_value|ocean_proximity|\n",
      "+---------+--------+------------------+-----------+--------------+----------+----------+-------------+------------------+---------------+\n",
      "|  -122.23|   37.88|              41.0|      880.0|         129.0|     322.0|     126.0|       8.3252|          452600.0|       NEAR BAY|\n",
      "|  -122.22|   37.86|              21.0|     7099.0|        1106.0|    2401.0|    1138.0|       8.3014|          358500.0|       NEAR BAY|\n",
      "|  -122.24|   37.85|              52.0|     1467.0|         190.0|     496.0|     177.0|       7.2574|          352100.0|       NEAR BAY|\n",
      "|  -122.25|   37.85|              52.0|     1274.0|         235.0|     558.0|     219.0|       5.6431|          341300.0|       NEAR BAY|\n",
      "|  -122.25|   37.85|              52.0|     1627.0|         280.0|     565.0|     259.0|       3.8462|          342200.0|       NEAR BAY|\n",
      "|  -122.25|   37.85|              52.0|      919.0|         213.0|     413.0|     193.0|       4.0368|          269700.0|       NEAR BAY|\n",
      "|  -122.25|   37.84|              52.0|     2535.0|         489.0|    1094.0|     514.0|       3.6591|          299200.0|       NEAR BAY|\n",
      "|  -122.25|   37.84|              52.0|     3104.0|         687.0|    1157.0|     647.0|         3.12|          241400.0|       NEAR BAY|\n",
      "|  -122.26|   37.84|              42.0|     2555.0|         665.0|    1206.0|     595.0|       2.0804|          226700.0|       NEAR BAY|\n",
      "|  -122.25|   37.84|              52.0|     3549.0|         707.0|    1551.0|     714.0|       3.6912|          261100.0|       NEAR BAY|\n",
      "+---------+--------+------------------+-----------+--------------+----------+----------+-------------+------------------+---------------+\n",
      "only showing top 10 rows\n",
      "\n"
     ]
    }
   ],
   "source": [
    "df_housing.show(10)"
   ]
  },
  {
   "cell_type": "code",
   "execution_count": 6,
   "id": "867fc7ed",
   "metadata": {
    "id": "df92e3ec",
    "scrolled": true
   },
   "outputs": [
    {
     "data": {
      "text/html": [
       "<div>\n",
       "<style scoped>\n",
       "    .dataframe tbody tr th:only-of-type {\n",
       "        vertical-align: middle;\n",
       "    }\n",
       "\n",
       "    .dataframe tbody tr th {\n",
       "        vertical-align: top;\n",
       "    }\n",
       "\n",
       "    .dataframe thead th {\n",
       "        text-align: right;\n",
       "    }\n",
       "</style>\n",
       "<table border=\"1\" class=\"dataframe\">\n",
       "  <thead>\n",
       "    <tr style=\"text-align: right;\">\n",
       "      <th></th>\n",
       "      <th>longitude</th>\n",
       "      <th>latitude</th>\n",
       "      <th>housing_median_age</th>\n",
       "      <th>total_rooms</th>\n",
       "      <th>total_bedrooms</th>\n",
       "      <th>population</th>\n",
       "      <th>households</th>\n",
       "      <th>median_income</th>\n",
       "      <th>median_house_value</th>\n",
       "    </tr>\n",
       "  </thead>\n",
       "  <tbody>\n",
       "    <tr>\n",
       "      <th>count</th>\n",
       "      <td>20640.00</td>\n",
       "      <td>20640.00</td>\n",
       "      <td>20640.00</td>\n",
       "      <td>20640.00</td>\n",
       "      <td>20433.00</td>\n",
       "      <td>20640.00</td>\n",
       "      <td>20640.00</td>\n",
       "      <td>20640.00</td>\n",
       "      <td>20640.00</td>\n",
       "    </tr>\n",
       "    <tr>\n",
       "      <th>mean</th>\n",
       "      <td>-119.57</td>\n",
       "      <td>35.63</td>\n",
       "      <td>28.64</td>\n",
       "      <td>2635.76</td>\n",
       "      <td>537.87</td>\n",
       "      <td>1425.48</td>\n",
       "      <td>499.54</td>\n",
       "      <td>3.87</td>\n",
       "      <td>206855.82</td>\n",
       "    </tr>\n",
       "    <tr>\n",
       "      <th>std</th>\n",
       "      <td>2.00</td>\n",
       "      <td>2.14</td>\n",
       "      <td>12.59</td>\n",
       "      <td>2181.62</td>\n",
       "      <td>421.39</td>\n",
       "      <td>1132.46</td>\n",
       "      <td>382.33</td>\n",
       "      <td>1.90</td>\n",
       "      <td>115395.62</td>\n",
       "    </tr>\n",
       "    <tr>\n",
       "      <th>min</th>\n",
       "      <td>-124.35</td>\n",
       "      <td>32.54</td>\n",
       "      <td>1.00</td>\n",
       "      <td>2.00</td>\n",
       "      <td>1.00</td>\n",
       "      <td>3.00</td>\n",
       "      <td>1.00</td>\n",
       "      <td>0.50</td>\n",
       "      <td>14999.00</td>\n",
       "    </tr>\n",
       "    <tr>\n",
       "      <th>25%</th>\n",
       "      <td>-121.80</td>\n",
       "      <td>33.93</td>\n",
       "      <td>18.00</td>\n",
       "      <td>1447.75</td>\n",
       "      <td>296.00</td>\n",
       "      <td>787.00</td>\n",
       "      <td>280.00</td>\n",
       "      <td>2.56</td>\n",
       "      <td>119600.00</td>\n",
       "    </tr>\n",
       "    <tr>\n",
       "      <th>50%</th>\n",
       "      <td>-118.49</td>\n",
       "      <td>34.26</td>\n",
       "      <td>29.00</td>\n",
       "      <td>2127.00</td>\n",
       "      <td>435.00</td>\n",
       "      <td>1166.00</td>\n",
       "      <td>409.00</td>\n",
       "      <td>3.53</td>\n",
       "      <td>179700.00</td>\n",
       "    </tr>\n",
       "    <tr>\n",
       "      <th>75%</th>\n",
       "      <td>-118.01</td>\n",
       "      <td>37.71</td>\n",
       "      <td>37.00</td>\n",
       "      <td>3148.00</td>\n",
       "      <td>647.00</td>\n",
       "      <td>1725.00</td>\n",
       "      <td>605.00</td>\n",
       "      <td>4.74</td>\n",
       "      <td>264725.00</td>\n",
       "    </tr>\n",
       "    <tr>\n",
       "      <th>max</th>\n",
       "      <td>-114.31</td>\n",
       "      <td>41.95</td>\n",
       "      <td>52.00</td>\n",
       "      <td>39320.00</td>\n",
       "      <td>6445.00</td>\n",
       "      <td>35682.00</td>\n",
       "      <td>6082.00</td>\n",
       "      <td>15.00</td>\n",
       "      <td>500001.00</td>\n",
       "    </tr>\n",
       "  </tbody>\n",
       "</table>\n",
       "</div>"
      ],
      "text/plain": [
       "       longitude  latitude  housing_median_age  total_rooms  total_bedrooms  \\\n",
       "count   20640.00  20640.00            20640.00     20640.00        20433.00   \n",
       "mean     -119.57     35.63               28.64      2635.76          537.87   \n",
       "std         2.00      2.14               12.59      2181.62          421.39   \n",
       "min      -124.35     32.54                1.00         2.00            1.00   \n",
       "25%      -121.80     33.93               18.00      1447.75          296.00   \n",
       "50%      -118.49     34.26               29.00      2127.00          435.00   \n",
       "75%      -118.01     37.71               37.00      3148.00          647.00   \n",
       "max      -114.31     41.95               52.00     39320.00         6445.00   \n",
       "\n",
       "       population  households  median_income  median_house_value  \n",
       "count    20640.00    20640.00       20640.00            20640.00  \n",
       "mean      1425.48      499.54           3.87           206855.82  \n",
       "std       1132.46      382.33           1.90           115395.62  \n",
       "min          3.00        1.00           0.50            14999.00  \n",
       "25%        787.00      280.00           2.56           119600.00  \n",
       "50%       1166.00      409.00           3.53           179700.00  \n",
       "75%       1725.00      605.00           4.74           264725.00  \n",
       "max      35682.00     6082.00          15.00           500001.00  "
      ]
     },
     "execution_count": 6,
     "metadata": {},
     "output_type": "execute_result"
    }
   ],
   "source": [
    "df_housing.toPandas().describe()"
   ]
  },
  {
   "cell_type": "markdown",
   "id": "4d514abd",
   "metadata": {
    "id": "GEqQaHzsZ_bA"
   },
   "source": [
    "В датасете примерно 21 тысяча строк. Максимальная медианная стоимость дома равна полумиллиону долларов. "
   ]
  },
  {
   "cell_type": "markdown",
   "id": "dc9859da",
   "metadata": {
    "id": "GEqQaHzsZ_bA"
   },
   "source": [
    "Выведем пропущенные значения в каждой колонке:"
   ]
  },
  {
   "cell_type": "code",
   "execution_count": 7,
   "id": "bd9f3fa7",
   "metadata": {
    "id": "df92e3ec",
    "scrolled": false
   },
   "outputs": [
    {
     "name": "stdout",
     "output_type": "stream",
     "text": [
      "longitude 0\n",
      "latitude 0\n",
      "housing_median_age 0\n",
      "total_rooms 0\n",
      "total_bedrooms 207\n",
      "population 0\n",
      "households 0\n",
      "median_income 0\n",
      "median_house_value 0\n",
      "ocean_proximity 0\n"
     ]
    }
   ],
   "source": [
    "columns = df_housing.columns\n",
    "\n",
    "for column in columns:\n",
    "    check_col = F.col(column).cast(FloatType())\n",
    "    print(column, df_housing.filter(F.isnan(column) | F.col(column).isNull()).count())"
   ]
  },
  {
   "cell_type": "markdown",
   "id": "b7191ff6",
   "metadata": {
    "id": "GEqQaHzsZ_bA"
   },
   "source": [
    "Пропуски есть в колонке total_bedrooms. Так как по условиям задачи необходимо использовать линейную регрессию, то пропуски следует заполнить."
   ]
  },
  {
   "cell_type": "code",
   "execution_count": 8,
   "id": "f04842b1",
   "metadata": {
    "id": "df92e3ec",
    "scrolled": true
   },
   "outputs": [
    {
     "name": "stderr",
     "output_type": "stream",
     "text": [
      "                                                                                \r"
     ]
    },
    {
     "data": {
      "text/html": [
       "<div>\n",
       "<style scoped>\n",
       "    .dataframe tbody tr th:only-of-type {\n",
       "        vertical-align: middle;\n",
       "    }\n",
       "\n",
       "    .dataframe tbody tr th {\n",
       "        vertical-align: top;\n",
       "    }\n",
       "\n",
       "    .dataframe thead th {\n",
       "        text-align: right;\n",
       "    }\n",
       "</style>\n",
       "<table border=\"1\" class=\"dataframe\">\n",
       "  <thead>\n",
       "    <tr style=\"text-align: right;\">\n",
       "      <th></th>\n",
       "      <th>ocean_proximity</th>\n",
       "      <th>count</th>\n",
       "    </tr>\n",
       "  </thead>\n",
       "  <tbody>\n",
       "    <tr>\n",
       "      <th>0</th>\n",
       "      <td>NEAR OCEAN</td>\n",
       "      <td>30</td>\n",
       "    </tr>\n",
       "    <tr>\n",
       "      <th>1</th>\n",
       "      <td>NEAR BAY</td>\n",
       "      <td>20</td>\n",
       "    </tr>\n",
       "    <tr>\n",
       "      <th>2</th>\n",
       "      <td>&lt;1H OCEAN</td>\n",
       "      <td>102</td>\n",
       "    </tr>\n",
       "    <tr>\n",
       "      <th>3</th>\n",
       "      <td>INLAND</td>\n",
       "      <td>55</td>\n",
       "    </tr>\n",
       "  </tbody>\n",
       "</table>\n",
       "</div>"
      ],
      "text/plain": [
       "  ocean_proximity  count\n",
       "0      NEAR OCEAN     30\n",
       "1        NEAR BAY     20\n",
       "2       <1H OCEAN    102\n",
       "3          INLAND     55"
      ]
     },
     "execution_count": 8,
     "metadata": {},
     "output_type": "execute_result"
    }
   ],
   "source": [
    "df_housing.filter('total_bedrooms is NULL').groupBy('ocean_proximity').count().toPandas()"
   ]
  },
  {
   "cell_type": "code",
   "execution_count": 9,
   "id": "e86d993d",
   "metadata": {
    "id": "df92e3ec",
    "scrolled": true
   },
   "outputs": [
    {
     "name": "stderr",
     "output_type": "stream",
     "text": [
      "                                                                                \r"
     ]
    },
    {
     "data": {
      "text/html": [
       "<div>\n",
       "<style scoped>\n",
       "    .dataframe tbody tr th:only-of-type {\n",
       "        vertical-align: middle;\n",
       "    }\n",
       "\n",
       "    .dataframe tbody tr th {\n",
       "        vertical-align: top;\n",
       "    }\n",
       "\n",
       "    .dataframe thead th {\n",
       "        text-align: right;\n",
       "    }\n",
       "</style>\n",
       "<table border=\"1\" class=\"dataframe\">\n",
       "  <thead>\n",
       "    <tr style=\"text-align: right;\">\n",
       "      <th></th>\n",
       "      <th>count</th>\n",
       "      <th>mean</th>\n",
       "      <th>stddev</th>\n",
       "      <th>min</th>\n",
       "      <th>quantile_25</th>\n",
       "      <th>quantile_50</th>\n",
       "      <th>quantile_75</th>\n",
       "      <th>max</th>\n",
       "    </tr>\n",
       "  </thead>\n",
       "  <tbody>\n",
       "    <tr>\n",
       "      <th>longitude</th>\n",
       "      <td>20640</td>\n",
       "      <td>-119.56970445736148</td>\n",
       "      <td>2.003531723502584</td>\n",
       "      <td>-124.35</td>\n",
       "      <td>-121.80</td>\n",
       "      <td>-118.49</td>\n",
       "      <td>-118.01</td>\n",
       "      <td>-114.31</td>\n",
       "    </tr>\n",
       "    <tr>\n",
       "      <th>latitude</th>\n",
       "      <td>20640</td>\n",
       "      <td>35.6318614341087</td>\n",
       "      <td>2.135952397457101</td>\n",
       "      <td>32.54</td>\n",
       "      <td>33.93</td>\n",
       "      <td>34.26</td>\n",
       "      <td>37.71</td>\n",
       "      <td>41.95</td>\n",
       "    </tr>\n",
       "    <tr>\n",
       "      <th>housing_median_age</th>\n",
       "      <td>20640</td>\n",
       "      <td>28.639486434108527</td>\n",
       "      <td>12.58555761211163</td>\n",
       "      <td>1.0</td>\n",
       "      <td>18.00</td>\n",
       "      <td>29.00</td>\n",
       "      <td>37.00</td>\n",
       "      <td>52.0</td>\n",
       "    </tr>\n",
       "    <tr>\n",
       "      <th>total_rooms</th>\n",
       "      <td>20640</td>\n",
       "      <td>2635.7630813953488</td>\n",
       "      <td>2181.6152515827944</td>\n",
       "      <td>2.0</td>\n",
       "      <td>1447.00</td>\n",
       "      <td>2127.00</td>\n",
       "      <td>3148.00</td>\n",
       "      <td>39320.0</td>\n",
       "    </tr>\n",
       "    <tr>\n",
       "      <th>total_bedrooms</th>\n",
       "      <td>20433</td>\n",
       "      <td>537.8705525375618</td>\n",
       "      <td>421.38507007403115</td>\n",
       "      <td>1.0</td>\n",
       "      <td>296.00</td>\n",
       "      <td>435.00</td>\n",
       "      <td>647.00</td>\n",
       "      <td>6445.0</td>\n",
       "    </tr>\n",
       "    <tr>\n",
       "      <th>population</th>\n",
       "      <td>20640</td>\n",
       "      <td>1425.4767441860465</td>\n",
       "      <td>1132.46212176534</td>\n",
       "      <td>3.0</td>\n",
       "      <td>787.00</td>\n",
       "      <td>1166.00</td>\n",
       "      <td>1725.00</td>\n",
       "      <td>35682.0</td>\n",
       "    </tr>\n",
       "    <tr>\n",
       "      <th>households</th>\n",
       "      <td>20640</td>\n",
       "      <td>499.5396802325581</td>\n",
       "      <td>382.3297528316098</td>\n",
       "      <td>1.0</td>\n",
       "      <td>280.00</td>\n",
       "      <td>409.00</td>\n",
       "      <td>605.00</td>\n",
       "      <td>6082.0</td>\n",
       "    </tr>\n",
       "    <tr>\n",
       "      <th>median_income</th>\n",
       "      <td>20640</td>\n",
       "      <td>3.8706710029070246</td>\n",
       "      <td>1.899821717945263</td>\n",
       "      <td>0.4999</td>\n",
       "      <td>2.56</td>\n",
       "      <td>3.53</td>\n",
       "      <td>4.74</td>\n",
       "      <td>15.0001</td>\n",
       "    </tr>\n",
       "    <tr>\n",
       "      <th>median_house_value</th>\n",
       "      <td>20640</td>\n",
       "      <td>206855.81690891474</td>\n",
       "      <td>115395.61587441359</td>\n",
       "      <td>14999.0</td>\n",
       "      <td>119600.00</td>\n",
       "      <td>179700.00</td>\n",
       "      <td>264700.00</td>\n",
       "      <td>500001.0</td>\n",
       "    </tr>\n",
       "  </tbody>\n",
       "</table>\n",
       "</div>"
      ],
      "text/plain": [
       "                    count                 mean              stddev      min  \\\n",
       "longitude           20640  -119.56970445736148   2.003531723502584  -124.35   \n",
       "latitude            20640     35.6318614341087   2.135952397457101    32.54   \n",
       "housing_median_age  20640   28.639486434108527   12.58555761211163      1.0   \n",
       "total_rooms         20640   2635.7630813953488  2181.6152515827944      2.0   \n",
       "total_bedrooms      20433    537.8705525375618  421.38507007403115      1.0   \n",
       "population          20640   1425.4767441860465    1132.46212176534      3.0   \n",
       "households          20640    499.5396802325581   382.3297528316098      1.0   \n",
       "median_income       20640   3.8706710029070246   1.899821717945263   0.4999   \n",
       "median_house_value  20640   206855.81690891474  115395.61587441359  14999.0   \n",
       "\n",
       "                    quantile_25  quantile_50  quantile_75       max  \n",
       "longitude               -121.80      -118.49      -118.01   -114.31  \n",
       "latitude                  33.93        34.26        37.71     41.95  \n",
       "housing_median_age        18.00        29.00        37.00      52.0  \n",
       "total_rooms             1447.00      2127.00      3148.00   39320.0  \n",
       "total_bedrooms           296.00       435.00       647.00    6445.0  \n",
       "population               787.00      1166.00      1725.00   35682.0  \n",
       "households               280.00       409.00       605.00    6082.0  \n",
       "median_income              2.56         3.53         4.74   15.0001  \n",
       "median_house_value    119600.00    179700.00    264700.00  500001.0  "
      ]
     },
     "metadata": {},
     "output_type": "display_data"
    }
   ],
   "source": [
    "num_columns = [c for c in df_housing.columns if c != 'ocean_proximity']\n",
    "quantile_lst = df_housing.approxQuantile(num_columns, [0.25, 0.5, 0.75], 0)\n",
    "\n",
    "quantile_df = pd.DataFrame(quantile_lst, columns=['quantile_25', 'quantile_50', 'quantile_75'])\n",
    "quantile_df.index = num_columns\n",
    "\n",
    "df_housing_describe = df_housing.select(*num_columns).describe().toPandas().set_index('summary').T.join(quantile_df)\n",
    "columns_order_to_describe = ['count', 'mean', 'stddev','min', 'quantile_25', 'quantile_50', 'quantile_75', 'max']\n",
    "\n",
    "display(df_housing_describe[columns_order_to_describe])"
   ]
  },
  {
   "cell_type": "code",
   "execution_count": 10,
   "id": "41b9c177",
   "metadata": {
    "id": "df92e3ec",
    "scrolled": true
   },
   "outputs": [
    {
     "data": {
      "text/html": [
       "<div>\n",
       "<style scoped>\n",
       "    .dataframe tbody tr th:only-of-type {\n",
       "        vertical-align: middle;\n",
       "    }\n",
       "\n",
       "    .dataframe tbody tr th {\n",
       "        vertical-align: top;\n",
       "    }\n",
       "\n",
       "    .dataframe thead th {\n",
       "        text-align: right;\n",
       "    }\n",
       "</style>\n",
       "<table border=\"1\" class=\"dataframe\">\n",
       "  <thead>\n",
       "    <tr style=\"text-align: right;\">\n",
       "      <th></th>\n",
       "      <th>count</th>\n",
       "      <th>mean</th>\n",
       "      <th>stddev</th>\n",
       "      <th>min</th>\n",
       "      <th>quantile_25</th>\n",
       "      <th>quantile_50</th>\n",
       "      <th>quantile_75</th>\n",
       "      <th>max</th>\n",
       "    </tr>\n",
       "  </thead>\n",
       "  <tbody>\n",
       "    <tr>\n",
       "      <th>longitude</th>\n",
       "      <td>207</td>\n",
       "      <td>-119.47256038647346</td>\n",
       "      <td>2.001423938482286</td>\n",
       "      <td>-124.13</td>\n",
       "      <td>-121.85</td>\n",
       "      <td>-118.49</td>\n",
       "      <td>-117.98</td>\n",
       "      <td>-114.59</td>\n",
       "    </tr>\n",
       "    <tr>\n",
       "      <th>latitude</th>\n",
       "      <td>207</td>\n",
       "      <td>35.49763285024152</td>\n",
       "      <td>2.097297776100012</td>\n",
       "      <td>32.66</td>\n",
       "      <td>33.96</td>\n",
       "      <td>34.20</td>\n",
       "      <td>37.51</td>\n",
       "      <td>40.92</td>\n",
       "    </tr>\n",
       "    <tr>\n",
       "      <th>housing_median_age</th>\n",
       "      <td>207</td>\n",
       "      <td>29.270531400966185</td>\n",
       "      <td>11.964926543525893</td>\n",
       "      <td>4.0</td>\n",
       "      <td>19.00</td>\n",
       "      <td>30.00</td>\n",
       "      <td>38.00</td>\n",
       "      <td>52.0</td>\n",
       "    </tr>\n",
       "    <tr>\n",
       "      <th>total_rooms</th>\n",
       "      <td>207</td>\n",
       "      <td>2562.6038647342993</td>\n",
       "      <td>1787.269788987037</td>\n",
       "      <td>154.0</td>\n",
       "      <td>1307.00</td>\n",
       "      <td>2155.00</td>\n",
       "      <td>3473.00</td>\n",
       "      <td>11709.0</td>\n",
       "    </tr>\n",
       "    <tr>\n",
       "      <th>total_bedrooms</th>\n",
       "      <td>0</td>\n",
       "      <td>None</td>\n",
       "      <td>None</td>\n",
       "      <td>None</td>\n",
       "      <td>NaN</td>\n",
       "      <td>NaN</td>\n",
       "      <td>NaN</td>\n",
       "      <td>None</td>\n",
       "    </tr>\n",
       "    <tr>\n",
       "      <th>population</th>\n",
       "      <td>207</td>\n",
       "      <td>1477.7729468599034</td>\n",
       "      <td>1057.4482115173646</td>\n",
       "      <td>37.0</td>\n",
       "      <td>781.00</td>\n",
       "      <td>1217.00</td>\n",
       "      <td>1891.00</td>\n",
       "      <td>7604.0</td>\n",
       "    </tr>\n",
       "    <tr>\n",
       "      <th>households</th>\n",
       "      <td>207</td>\n",
       "      <td>510.02415458937196</td>\n",
       "      <td>386.1207044990592</td>\n",
       "      <td>16.0</td>\n",
       "      <td>257.00</td>\n",
       "      <td>427.00</td>\n",
       "      <td>629.00</td>\n",
       "      <td>3589.0</td>\n",
       "    </tr>\n",
       "    <tr>\n",
       "      <th>median_income</th>\n",
       "      <td>207</td>\n",
       "      <td>3.8222439613526573</td>\n",
       "      <td>1.9555946874300458</td>\n",
       "      <td>0.8527</td>\n",
       "      <td>2.56</td>\n",
       "      <td>3.41</td>\n",
       "      <td>4.63</td>\n",
       "      <td>15.0001</td>\n",
       "    </tr>\n",
       "    <tr>\n",
       "      <th>median_house_value</th>\n",
       "      <td>207</td>\n",
       "      <td>206007.28019323671</td>\n",
       "      <td>111638.21454491059</td>\n",
       "      <td>45800.0</td>\n",
       "      <td>128100.00</td>\n",
       "      <td>175000.00</td>\n",
       "      <td>269300.00</td>\n",
       "      <td>500001.0</td>\n",
       "    </tr>\n",
       "  </tbody>\n",
       "</table>\n",
       "</div>"
      ],
      "text/plain": [
       "                   count                 mean              stddev      min  \\\n",
       "longitude            207  -119.47256038647346   2.001423938482286  -124.13   \n",
       "latitude             207    35.49763285024152   2.097297776100012    32.66   \n",
       "housing_median_age   207   29.270531400966185  11.964926543525893      4.0   \n",
       "total_rooms          207   2562.6038647342993   1787.269788987037    154.0   \n",
       "total_bedrooms         0                 None                None     None   \n",
       "population           207   1477.7729468599034  1057.4482115173646     37.0   \n",
       "households           207   510.02415458937196   386.1207044990592     16.0   \n",
       "median_income        207   3.8222439613526573  1.9555946874300458   0.8527   \n",
       "median_house_value   207   206007.28019323671  111638.21454491059  45800.0   \n",
       "\n",
       "                    quantile_25  quantile_50  quantile_75       max  \n",
       "longitude               -121.85      -118.49      -117.98   -114.59  \n",
       "latitude                  33.96        34.20        37.51     40.92  \n",
       "housing_median_age        19.00        30.00        38.00      52.0  \n",
       "total_rooms             1307.00      2155.00      3473.00   11709.0  \n",
       "total_bedrooms              NaN          NaN          NaN      None  \n",
       "population               781.00      1217.00      1891.00    7604.0  \n",
       "households               257.00       427.00       629.00    3589.0  \n",
       "median_income              2.56         3.41         4.63   15.0001  \n",
       "median_house_value    128100.00    175000.00    269300.00  500001.0  "
      ]
     },
     "metadata": {},
     "output_type": "display_data"
    }
   ],
   "source": [
    "quantile_lst = df_housing.filter('total_bedrooms is NULL').approxQuantile(num_columns, [0.25, 0.5, 0.75], 0)\n",
    "quantile_df = pd.DataFrame(quantile_lst, columns=['quantile_25', 'quantile_50', 'quantile_75'])\n",
    "quantile_df.index = num_columns\n",
    "\n",
    "df_housing_describe_nans = df_housing.filter('total_bedrooms is NULL').select(*num_columns).describe().toPandas().set_index('summary').T.join(quantile_df)\n",
    "\n",
    "display(df_housing_describe_nans[columns_order_to_describe])"
   ]
  },
  {
   "cell_type": "markdown",
   "id": "57cb3122",
   "metadata": {
    "id": "GEqQaHzsZ_bA"
   },
   "source": [
    "Какой-то закономерности в пропусках выявить не удалось. Так как пропусков всего один процент, то заполним такие значения медианным значением признака.\n",
    "\n",
    "Получим медианное значение и выведем его на экран."
   ]
  },
  {
   "cell_type": "code",
   "execution_count": 11,
   "id": "41cd667f",
   "metadata": {
    "id": "df92e3ec",
    "scrolled": true
   },
   "outputs": [
    {
     "data": {
      "text/plain": [
       "435.0"
      ]
     },
     "execution_count": 11,
     "metadata": {},
     "output_type": "execute_result"
    }
   ],
   "source": [
    "total_bedrooms_median = df_housing.approxQuantile('total_bedrooms', [0.5], 0)[0]\n",
    "\n",
    "total_bedrooms_median"
   ]
  },
  {
   "cell_type": "markdown",
   "id": "efc4aee7",
   "metadata": {
    "id": "GEqQaHzsZ_bA"
   },
   "source": [
    "Заполним пропуски и проведем повторную проверку."
   ]
  },
  {
   "cell_type": "code",
   "execution_count": 12,
   "id": "1703a6a3",
   "metadata": {
    "id": "df92e3ec",
    "scrolled": true
   },
   "outputs": [
    {
     "data": {
      "text/html": [
       "<div>\n",
       "<style scoped>\n",
       "    .dataframe tbody tr th:only-of-type {\n",
       "        vertical-align: middle;\n",
       "    }\n",
       "\n",
       "    .dataframe tbody tr th {\n",
       "        vertical-align: top;\n",
       "    }\n",
       "\n",
       "    .dataframe thead th {\n",
       "        text-align: right;\n",
       "    }\n",
       "</style>\n",
       "<table border=\"1\" class=\"dataframe\">\n",
       "  <thead>\n",
       "    <tr style=\"text-align: right;\">\n",
       "      <th></th>\n",
       "      <th>NA</th>\n",
       "    </tr>\n",
       "  </thead>\n",
       "  <tbody>\n",
       "    <tr>\n",
       "      <th>longitude</th>\n",
       "      <td>0</td>\n",
       "    </tr>\n",
       "    <tr>\n",
       "      <th>latitude</th>\n",
       "      <td>0</td>\n",
       "    </tr>\n",
       "    <tr>\n",
       "      <th>housing_median_age</th>\n",
       "      <td>0</td>\n",
       "    </tr>\n",
       "    <tr>\n",
       "      <th>total_rooms</th>\n",
       "      <td>0</td>\n",
       "    </tr>\n",
       "    <tr>\n",
       "      <th>total_bedrooms</th>\n",
       "      <td>0</td>\n",
       "    </tr>\n",
       "    <tr>\n",
       "      <th>population</th>\n",
       "      <td>0</td>\n",
       "    </tr>\n",
       "    <tr>\n",
       "      <th>households</th>\n",
       "      <td>0</td>\n",
       "    </tr>\n",
       "    <tr>\n",
       "      <th>median_income</th>\n",
       "      <td>0</td>\n",
       "    </tr>\n",
       "    <tr>\n",
       "      <th>median_house_value</th>\n",
       "      <td>0</td>\n",
       "    </tr>\n",
       "    <tr>\n",
       "      <th>ocean_proximity</th>\n",
       "      <td>0</td>\n",
       "    </tr>\n",
       "  </tbody>\n",
       "</table>\n",
       "</div>"
      ],
      "text/plain": [
       "                    NA\n",
       "longitude            0\n",
       "latitude             0\n",
       "housing_median_age   0\n",
       "total_rooms          0\n",
       "total_bedrooms       0\n",
       "population           0\n",
       "households           0\n",
       "median_income        0\n",
       "median_house_value   0\n",
       "ocean_proximity      0"
      ]
     },
     "execution_count": 12,
     "metadata": {},
     "output_type": "execute_result"
    }
   ],
   "source": [
    "df_housing = df_housing.fillna(total_bedrooms_median, subset=['total_bedrooms'])\n",
    "df_housing.select(\n",
    "    [F.count(F.when(F.isnan(c) | F.col(c).isNull(), c)).alias(c) for c in df_housing.columns]\n",
    "    ).toPandas().T.rename(columns={0:'NA'})"
   ]
  },
  {
   "cell_type": "code",
   "execution_count": 13,
   "id": "383d5162",
   "metadata": {
    "id": "df92e3ec",
    "scrolled": true
   },
   "outputs": [
    {
     "name": "stderr",
     "output_type": "stream",
     "text": [
      "                                                                                \r"
     ]
    },
    {
     "data": {
      "text/html": [
       "<div>\n",
       "<style scoped>\n",
       "    .dataframe tbody tr th:only-of-type {\n",
       "        vertical-align: middle;\n",
       "    }\n",
       "\n",
       "    .dataframe tbody tr th {\n",
       "        vertical-align: top;\n",
       "    }\n",
       "\n",
       "    .dataframe thead th {\n",
       "        text-align: right;\n",
       "    }\n",
       "</style>\n",
       "<table border=\"1\" class=\"dataframe\">\n",
       "  <thead>\n",
       "    <tr style=\"text-align: right;\">\n",
       "      <th></th>\n",
       "      <th>0</th>\n",
       "      <th>1</th>\n",
       "      <th>2</th>\n",
       "      <th>3</th>\n",
       "      <th>4</th>\n",
       "    </tr>\n",
       "  </thead>\n",
       "  <tbody>\n",
       "    <tr>\n",
       "      <th>summary</th>\n",
       "      <td>count</td>\n",
       "      <td>mean</td>\n",
       "      <td>stddev</td>\n",
       "      <td>min</td>\n",
       "      <td>max</td>\n",
       "    </tr>\n",
       "    <tr>\n",
       "      <th>longitude</th>\n",
       "      <td>20640</td>\n",
       "      <td>-119.56970445736148</td>\n",
       "      <td>2.003531723502584</td>\n",
       "      <td>-124.35</td>\n",
       "      <td>-114.31</td>\n",
       "    </tr>\n",
       "    <tr>\n",
       "      <th>latitude</th>\n",
       "      <td>20640</td>\n",
       "      <td>35.6318614341087</td>\n",
       "      <td>2.135952397457101</td>\n",
       "      <td>32.54</td>\n",
       "      <td>41.95</td>\n",
       "    </tr>\n",
       "    <tr>\n",
       "      <th>housing_median_age</th>\n",
       "      <td>20640</td>\n",
       "      <td>28.639486434108527</td>\n",
       "      <td>12.58555761211163</td>\n",
       "      <td>1.0</td>\n",
       "      <td>52.0</td>\n",
       "    </tr>\n",
       "    <tr>\n",
       "      <th>total_rooms</th>\n",
       "      <td>20640</td>\n",
       "      <td>2635.7630813953488</td>\n",
       "      <td>2181.6152515827944</td>\n",
       "      <td>2.0</td>\n",
       "      <td>39320.0</td>\n",
       "    </tr>\n",
       "    <tr>\n",
       "      <th>total_bedrooms</th>\n",
       "      <td>20640</td>\n",
       "      <td>536.8388565891473</td>\n",
       "      <td>419.39187792168866</td>\n",
       "      <td>1.0</td>\n",
       "      <td>6445.0</td>\n",
       "    </tr>\n",
       "    <tr>\n",
       "      <th>population</th>\n",
       "      <td>20640</td>\n",
       "      <td>1425.4767441860465</td>\n",
       "      <td>1132.46212176534</td>\n",
       "      <td>3.0</td>\n",
       "      <td>35682.0</td>\n",
       "    </tr>\n",
       "    <tr>\n",
       "      <th>households</th>\n",
       "      <td>20640</td>\n",
       "      <td>499.5396802325581</td>\n",
       "      <td>382.3297528316098</td>\n",
       "      <td>1.0</td>\n",
       "      <td>6082.0</td>\n",
       "    </tr>\n",
       "    <tr>\n",
       "      <th>median_income</th>\n",
       "      <td>20640</td>\n",
       "      <td>3.8706710029070246</td>\n",
       "      <td>1.899821717945263</td>\n",
       "      <td>0.4999</td>\n",
       "      <td>15.0001</td>\n",
       "    </tr>\n",
       "    <tr>\n",
       "      <th>median_house_value</th>\n",
       "      <td>20640</td>\n",
       "      <td>206855.81690891474</td>\n",
       "      <td>115395.61587441359</td>\n",
       "      <td>14999.0</td>\n",
       "      <td>500001.0</td>\n",
       "    </tr>\n",
       "    <tr>\n",
       "      <th>ocean_proximity</th>\n",
       "      <td>20640</td>\n",
       "      <td>None</td>\n",
       "      <td>None</td>\n",
       "      <td>&lt;1H OCEAN</td>\n",
       "      <td>NEAR OCEAN</td>\n",
       "    </tr>\n",
       "  </tbody>\n",
       "</table>\n",
       "</div>"
      ],
      "text/plain": [
       "                        0                    1                   2          3  \\\n",
       "summary             count                 mean              stddev        min   \n",
       "longitude           20640  -119.56970445736148   2.003531723502584    -124.35   \n",
       "latitude            20640     35.6318614341087   2.135952397457101      32.54   \n",
       "housing_median_age  20640   28.639486434108527   12.58555761211163        1.0   \n",
       "total_rooms         20640   2635.7630813953488  2181.6152515827944        2.0   \n",
       "total_bedrooms      20640    536.8388565891473  419.39187792168866        1.0   \n",
       "population          20640   1425.4767441860465    1132.46212176534        3.0   \n",
       "households          20640    499.5396802325581   382.3297528316098        1.0   \n",
       "median_income       20640   3.8706710029070246   1.899821717945263     0.4999   \n",
       "median_house_value  20640   206855.81690891474  115395.61587441359    14999.0   \n",
       "ocean_proximity     20640                 None                None  <1H OCEAN   \n",
       "\n",
       "                             4  \n",
       "summary                    max  \n",
       "longitude              -114.31  \n",
       "latitude                 41.95  \n",
       "housing_median_age        52.0  \n",
       "total_rooms            39320.0  \n",
       "total_bedrooms          6445.0  \n",
       "population             35682.0  \n",
       "households              6082.0  \n",
       "median_income          15.0001  \n",
       "median_house_value    500001.0  \n",
       "ocean_proximity     NEAR OCEAN  "
      ]
     },
     "execution_count": 13,
     "metadata": {},
     "output_type": "execute_result"
    }
   ],
   "source": [
    "df_housing.describe().toPandas().transpose()"
   ]
  },
  {
   "cell_type": "markdown",
   "id": "591275ee",
   "metadata": {
    "id": "GEqQaHzsZ_bA"
   },
   "source": [
    "Рассмотрим также корреляцию признаков, исключив целевой и категориальный признаки.\n",
    "\n",
    "Для этого будем использовать функцию корреляции в пакете **pyspark.ml.stat**. Между тем, требуется требуется перевести типы данных в столбцах в Vector, для конвертации данных будем использовать VectorAssembler, а затем применим корреляцию."
   ]
  },
  {
   "cell_type": "code",
   "execution_count": 14,
   "id": "d99e56d7",
   "metadata": {
    "id": "df92e3ec",
    "scrolled": true
   },
   "outputs": [
    {
     "name": "stderr",
     "output_type": "stream",
     "text": [
      "23/03/12 18:59:49 WARN BLAS: Failed to load implementation from: com.github.fommil.netlib.NativeSystemBLAS\n",
      "23/03/12 18:59:49 WARN BLAS: Failed to load implementation from: com.github.fommil.netlib.NativeRefBLAS\n",
      "                                                                                \r"
     ]
    },
    {
     "data": {
      "image/png": "[encoded data removed]",
      "text/plain": [
       "<Figure size 432x288 with 2 Axes>"
      ]
     },
     "metadata": {
      "needs_background": "light"
     },
     "output_type": "display_data"
    }
   ],
   "source": [
    "corr_columns = [c for c in num_columns if c != 'median_house_value']\n",
    "\n",
    "vector_col = 'corr_features'\n",
    "assembler = VectorAssembler(inputCols=corr_columns, outputCol=vector_col)\n",
    "df_vector = assembler.setHandleInvalid(\"skip\").transform(df_housing[corr_columns]).select(vector_col)\n",
    "\n",
    "#создаем матрицу\n",
    "matrix = Correlation.corr(df_vector, vector_col)\n",
    "cor_np = matrix.collect()[0][matrix.columns[0]].toArray()\n",
    "\n",
    "matrix_df = pd.DataFrame(cor_np, columns=corr_columns)\n",
    "matrix_df.index = corr_columns\n",
    "\n",
    "matrix_mask = np.triu(matrix_df)\n",
    "sns.heatmap(matrix_df,\n",
    "           annot=True,\n",
    "     mask=matrix_mask,\n",
    "              vmin=-1,\n",
    "               vmax=1,\n",
    "      cmap='coolwarm')\n",
    "plt.show()"
   ]
  },
  {
   "cell_type": "markdown",
   "id": "201d430e",
   "metadata": {
    "id": "GEqQaHzsZ_bA"
   },
   "source": [
    "Найдём жилые массивы, в которых живут самые обеспеченные люди. Сгруппируем данные по столбцу с категориями удалённости от океана и посчитаем среднее значение медианного дохода в жилом массиве:"
   ]
  },
  {
   "cell_type": "code",
   "execution_count": 15,
   "id": "3c5ddb5a",
   "metadata": {
    "id": "df92e3ec",
    "scrolled": true
   },
   "outputs": [
    {
     "name": "stderr",
     "output_type": "stream",
     "text": [
      "                                                                                \r"
     ]
    },
    {
     "data": {
      "text/html": [
       "<div>\n",
       "<style scoped>\n",
       "    .dataframe tbody tr th:only-of-type {\n",
       "        vertical-align: middle;\n",
       "    }\n",
       "\n",
       "    .dataframe tbody tr th {\n",
       "        vertical-align: top;\n",
       "    }\n",
       "\n",
       "    .dataframe thead th {\n",
       "        text-align: right;\n",
       "    }\n",
       "</style>\n",
       "<table border=\"1\" class=\"dataframe\">\n",
       "  <thead>\n",
       "    <tr style=\"text-align: right;\">\n",
       "      <th></th>\n",
       "      <th>ocean_proximity</th>\n",
       "      <th>avg_median_income</th>\n",
       "    </tr>\n",
       "  </thead>\n",
       "  <tbody>\n",
       "    <tr>\n",
       "      <th>0</th>\n",
       "      <td>ISLAND</td>\n",
       "      <td>2.74</td>\n",
       "    </tr>\n",
       "    <tr>\n",
       "      <th>1</th>\n",
       "      <td>NEAR OCEAN</td>\n",
       "      <td>4.01</td>\n",
       "    </tr>\n",
       "    <tr>\n",
       "      <th>2</th>\n",
       "      <td>NEAR BAY</td>\n",
       "      <td>4.17</td>\n",
       "    </tr>\n",
       "    <tr>\n",
       "      <th>3</th>\n",
       "      <td>&lt;1H OCEAN</td>\n",
       "      <td>4.23</td>\n",
       "    </tr>\n",
       "    <tr>\n",
       "      <th>4</th>\n",
       "      <td>INLAND</td>\n",
       "      <td>3.21</td>\n",
       "    </tr>\n",
       "  </tbody>\n",
       "</table>\n",
       "</div>"
      ],
      "text/plain": [
       "  ocean_proximity  avg_median_income\n",
       "0          ISLAND               2.74\n",
       "1      NEAR OCEAN               4.01\n",
       "2        NEAR BAY               4.17\n",
       "3       <1H OCEAN               4.23\n",
       "4          INLAND               3.21"
      ]
     },
     "execution_count": 15,
     "metadata": {},
     "output_type": "execute_result"
    }
   ],
   "source": [
    "df_wealthy = df_housing.groupBy('ocean_proximity').agg(F.avg('median_income').alias('avg_median_income')).toPandas()\n",
    "df_wealthy"
   ]
  },
  {
   "cell_type": "code",
   "execution_count": 16,
   "id": "7e22b37b",
   "metadata": {
    "id": "df92e3ec",
    "scrolled": true
   },
   "outputs": [
    {
     "data": {
      "image/png": "[encoded data removed]",
      "text/plain": [
       "<Figure size 432x288 with 1 Axes>"
      ]
     },
     "metadata": {
      "needs_background": "light"
     },
     "output_type": "display_data"
    }
   ],
   "source": [
    "bar = sns.barplot(data = df_wealthy, x='ocean_proximity', y='avg_median_income')\n",
    "bar.set_title(\"Cреднее значение медианного дохода в жилом массиве по удаленности от океана\")\n",
    "plt.show()"
   ]
  },
  {
   "cell_type": "markdown",
   "id": "6119841c",
   "metadata": {
    "id": "GEqQaHzsZ_bA"
   },
   "source": [
    "Ожидаемый результат: люди с высоким доходом предпочитают селиться в жилых массивах, которые находятся не более чем в часе езды до океана или около залива."
   ]
  },
  {
   "cell_type": "markdown",
   "id": "a7ed08d4",
   "metadata": {
    "id": "GEqQaHzsZ_bA"
   },
   "source": [
    "Исследуем зависимость возраста жителей от удалённости жилого массива от океана. Сгруппируем данные по двум столбцам: медианный возраст жителей и удалённость от океана, а потом посчитаем сколько раз встречается то или иное медианное значение возраста в зависимости от удалённости от океана:"
   ]
  },
  {
   "cell_type": "code",
   "execution_count": 17,
   "id": "98b88729",
   "metadata": {
    "id": "df92e3ec",
    "scrolled": true
   },
   "outputs": [
    {
     "name": "stderr",
     "output_type": "stream",
     "text": [
      "                                                                                \r"
     ]
    },
    {
     "data": {
      "text/html": [
       "<div>\n",
       "<style scoped>\n",
       "    .dataframe tbody tr th:only-of-type {\n",
       "        vertical-align: middle;\n",
       "    }\n",
       "\n",
       "    .dataframe tbody tr th {\n",
       "        vertical-align: top;\n",
       "    }\n",
       "\n",
       "    .dataframe thead th {\n",
       "        text-align: right;\n",
       "    }\n",
       "</style>\n",
       "<table border=\"1\" class=\"dataframe\">\n",
       "  <thead>\n",
       "    <tr style=\"text-align: right;\">\n",
       "      <th></th>\n",
       "      <th>housing_median_age</th>\n",
       "      <th>ocean_proximity</th>\n",
       "      <th>count_households</th>\n",
       "    </tr>\n",
       "  </thead>\n",
       "  <tbody>\n",
       "    <tr>\n",
       "      <th>0</th>\n",
       "      <td>23.00</td>\n",
       "      <td>&lt;1H OCEAN</td>\n",
       "      <td>195</td>\n",
       "    </tr>\n",
       "    <tr>\n",
       "      <th>1</th>\n",
       "      <td>31.00</td>\n",
       "      <td>NEAR BAY</td>\n",
       "      <td>41</td>\n",
       "    </tr>\n",
       "    <tr>\n",
       "      <th>2</th>\n",
       "      <td>11.00</td>\n",
       "      <td>&lt;1H OCEAN</td>\n",
       "      <td>83</td>\n",
       "    </tr>\n",
       "    <tr>\n",
       "      <th>3</th>\n",
       "      <td>36.00</td>\n",
       "      <td>&lt;1H OCEAN</td>\n",
       "      <td>477</td>\n",
       "    </tr>\n",
       "    <tr>\n",
       "      <th>4</th>\n",
       "      <td>10.00</td>\n",
       "      <td>INLAND</td>\n",
       "      <td>151</td>\n",
       "    </tr>\n",
       "  </tbody>\n",
       "</table>\n",
       "</div>"
      ],
      "text/plain": [
       "   housing_median_age ocean_proximity  count_households\n",
       "0               23.00       <1H OCEAN               195\n",
       "1               31.00        NEAR BAY                41\n",
       "2               11.00       <1H OCEAN                83\n",
       "3               36.00       <1H OCEAN               477\n",
       "4               10.00          INLAND               151"
      ]
     },
     "execution_count": 17,
     "metadata": {},
     "output_type": "execute_result"
    }
   ],
   "source": [
    "df_ages = df_housing.groupBy('housing_median_age', 'ocean_proximity').agg({'housing_median_age':'count'}).toPandas()\n",
    "df_ages = df_ages.rename({'count(housing_median_age)':'count_households'},axis=1)\n",
    "df_ages.head()"
   ]
  },
  {
   "cell_type": "code",
   "execution_count": 18,
   "id": "4cb3f18e",
   "metadata": {
    "id": "df92e3ec",
    "scrolled": true
   },
   "outputs": [
    {
     "data": {
      "image/png": "[encoded data removed]",
      "text/plain": [
       "<Figure size 432x288 with 1 Axes>"
      ]
     },
     "metadata": {
      "needs_background": "light"
     },
     "output_type": "display_data"
    }
   ],
   "source": [
    "age_bar = sns.lineplot(data=df_ages, \n",
    "    x='housing_median_age', \n",
    "    y='count_households', \n",
    "    hue='ocean_proximity'\n",
    ")\n",
    "age_bar.set_title(\"Зависимость возраста жителей от удалённости жилого массива от океана\")\n",
    "plt.show()"
   ]
  },
  {
   "cell_type": "markdown",
   "id": "a4bde97a",
   "metadata": {
    "id": "GEqQaHzsZ_bA"
   },
   "source": [
    "По графику можно предположить, что люди до 20 лет чаще живут в материковой части Калифорнии (INLAND) и в радиусе часа езды до океана. Старшие поколения предпочитают селиться в радиусе часа езды до океана и около залива."
   ]
  },
  {
   "cell_type": "markdown",
   "id": "39de5a89",
   "metadata": {
    "id": "GEqQaHzsZ_bA"
   },
   "source": [
    "Создадим несколько новых столбцов с признаками: \n",
    "\n",
    "- Отношение количества комнат `total_rooms` к количеству домовладений `households`. Назовите колонку `rooms_per_household`.\n",
    "- Отношение количества жителей `population` к количеству домовладений `households`. Назовите колонку `population_in_household`.\n",
    "- Отношение количества спален `total_bedrooms` к общему количеству комнат `total_rooms`. Назовите колонку `bedroom_index`."
   ]
  },
  {
   "cell_type": "code",
   "execution_count": 19,
   "id": "fb751eb0",
   "metadata": {
    "id": "df92e3ec",
    "scrolled": true
   },
   "outputs": [
    {
     "name": "stdout",
     "output_type": "stream",
     "text": [
      "root\n",
      " |-- longitude: double (nullable = true)\n",
      " |-- latitude: double (nullable = true)\n",
      " |-- housing_median_age: double (nullable = true)\n",
      " |-- total_rooms: double (nullable = true)\n",
      " |-- total_bedrooms: double (nullable = false)\n",
      " |-- population: double (nullable = true)\n",
      " |-- households: double (nullable = true)\n",
      " |-- median_income: double (nullable = true)\n",
      " |-- median_house_value: double (nullable = true)\n",
      " |-- ocean_proximity: string (nullable = true)\n",
      " |-- rooms_per_household: double (nullable = true)\n",
      " |-- population_in_household: double (nullable = true)\n",
      " |-- bedroom_index: double (nullable = true)\n",
      "\n"
     ]
    }
   ],
   "source": [
    "df_housing = df_housing.withColumn('rooms_per_household', F.col('total_rooms') / F.col('households'))\n",
    "df_housing = df_housing.withColumn('population_in_household', F.col('population') / F.col('households'))\n",
    "df_housing = df_housing.withColumn('bedroom_index', F.col('total_bedrooms') / F.col('total_rooms'))\n",
    "df_housing.printSchema()"
   ]
  },
  {
   "cell_type": "markdown",
   "id": "5bf326ab",
   "metadata": {
    "id": "GEqQaHzsZ_bA"
   },
   "source": [
    "Были созданы новые колонки, которые могут быть подходящими признаками для модели машинного обучения."
   ]
  },
  {
   "cell_type": "markdown",
   "id": "a8543393",
   "metadata": {
    "id": "GEqQaHzsZ_bA"
   },
   "source": [
    "Разделим колонки на два типа: числовые и текстовые, которые представляют категориальные данные."
   ]
  },
  {
   "cell_type": "code",
   "execution_count": 20,
   "id": "efda5aeb",
   "metadata": {
    "id": "df92e3ec",
    "scrolled": true
   },
   "outputs": [],
   "source": [
    "categorical_cols = ['ocean_proximity']\n",
    "numerical_cols  = [c for c in num_columns if c != 'median_house_value']\n",
    "target = 'median_house_value'"
   ]
  },
  {
   "cell_type": "markdown",
   "id": "570c2dc0",
   "metadata": {
    "id": "GEqQaHzsZ_bA"
   },
   "source": [
    "**Выводы:**\n",
    "\n",
    "- Среди жилых массивов есть такие, где всего лишь один дом;\n",
    "- Есть жилые массивы, где всего 3 человека проживает;\n",
    "- В столбце total_bedrooms есть пропуски, которые были заполнены медианным значением;\n",
    "- В данных есть выбросы. Если при обучении модели наличие выбросов будет серьезно искажать результаты, то от них стоит избавиться.\n",
    "\n",
    "Высокой корреляцией между собой: количество домовладений в массиве и количество спален, наряду с количеством комнат и количество человек, которые проживают в жилом массиве. Также стоит отметить корреляцию между количеством комнат и количеством спален, можно предположить, что от одного из этих признаков можно будет избавиться."
   ]
  },
  {
   "cell_type": "markdown",
   "id": "9f0a82f3",
   "metadata": {
    "id": "9f0a82f3"
   },
   "source": [
    "### Трансформация признаков"
   ]
  },
  {
   "cell_type": "markdown",
   "id": "e785d58f",
   "metadata": {
    "id": "GEqQaHzsZ_bA"
   },
   "source": [
    "Трансформируем категориальные признаки с помощью трансформера StringIndexer:"
   ]
  },
  {
   "cell_type": "code",
   "execution_count": 21,
   "id": "bddb08c4",
   "metadata": {
    "id": "bddb08c4"
   },
   "outputs": [
    {
     "name": "stderr",
     "output_type": "stream",
     "text": [
      "                                                                                \r"
     ]
    },
    {
     "name": "stdout",
     "output_type": "stream",
     "text": [
      "+---------------+-------------------+\n",
      "|ocean_proximity|ocean_proximity_idx|\n",
      "+---------------+-------------------+\n",
      "|       NEAR BAY|                3.0|\n",
      "|       NEAR BAY|                3.0|\n",
      "|       NEAR BAY|                3.0|\n",
      "+---------------+-------------------+\n",
      "only showing top 3 rows\n",
      "\n"
     ]
    }
   ],
   "source": [
    "indexer = StringIndexer(inputCols=categorical_cols, \n",
    "                        outputCols=[c+'_idx' for c in categorical_cols])\n",
    "df_housing = indexer.fit(df_housing).transform(df_housing)\n",
    "cols = [c for c in df_housing.columns for i in categorical_cols if (c.startswith(i))]\n",
    "df_housing.select(cols).show(3)"
   ]
  },
  {
   "cell_type": "markdown",
   "id": "31a5aa68",
   "metadata": {
    "id": "GEqQaHzsZ_bA"
   },
   "source": [
    "Дополнительно сделаем OHE-кодирование для категорий:"
   ]
  },
  {
   "cell_type": "code",
   "execution_count": 22,
   "id": "aebd8f71",
   "metadata": {
    "id": "bddb08c4"
   },
   "outputs": [
    {
     "name": "stdout",
     "output_type": "stream",
     "text": [
      "+---------------+-------------------+-------------------+\n",
      "|ocean_proximity|ocean_proximity_idx|ocean_proximity_ohe|\n",
      "+---------------+-------------------+-------------------+\n",
      "|       NEAR BAY|                3.0|      (4,[3],[1.0])|\n",
      "|       NEAR BAY|                3.0|      (4,[3],[1.0])|\n",
      "|       NEAR BAY|                3.0|      (4,[3],[1.0])|\n",
      "+---------------+-------------------+-------------------+\n",
      "only showing top 3 rows\n",
      "\n"
     ]
    }
   ],
   "source": [
    "encoder = OneHotEncoder(inputCols=[c+'_idx' for c in categorical_cols], \n",
    "                        outputCols=[c+'_ohe' for c in categorical_cols])\n",
    "df_housing = encoder.fit(df_housing).transform(df_housing)\n",
    "cols = [c for c in df_housing.columns for i in categorical_cols if (c.startswith(i))]\n",
    "df_housing.select(cols).show(3) "
   ]
  },
  {
   "cell_type": "markdown",
   "id": "a59475cf",
   "metadata": {
    "id": "GEqQaHzsZ_bA"
   },
   "source": [
    "Финальный шаг преобразований — это объединение признаков в один вектор, с которым ML-алгоритм умеет работать:"
   ]
  },
  {
   "cell_type": "code",
   "execution_count": 23,
   "id": "eee9f966",
   "metadata": {
    "id": "bddb08c4"
   },
   "outputs": [],
   "source": [
    "categorical_assembler = \\\n",
    "        VectorAssembler(inputCols=[c+'_ohe' for c in categorical_cols],\n",
    "                        outputCol='categorical_features')\n",
    "df_housing = categorical_assembler.transform(df_housing) "
   ]
  },
  {
   "cell_type": "code",
   "execution_count": 24,
   "id": "5c1eb5be",
   "metadata": {
    "id": "bddb08c4"
   },
   "outputs": [
    {
     "data": {
      "text/html": [
       "<div>\n",
       "<style scoped>\n",
       "    .dataframe tbody tr th:only-of-type {\n",
       "        vertical-align: middle;\n",
       "    }\n",
       "\n",
       "    .dataframe tbody tr th {\n",
       "        vertical-align: top;\n",
       "    }\n",
       "\n",
       "    .dataframe thead th {\n",
       "        text-align: right;\n",
       "    }\n",
       "</style>\n",
       "<table border=\"1\" class=\"dataframe\">\n",
       "  <thead>\n",
       "    <tr style=\"text-align: right;\">\n",
       "      <th></th>\n",
       "      <th>longitude</th>\n",
       "      <th>latitude</th>\n",
       "      <th>housing_median_age</th>\n",
       "      <th>total_rooms</th>\n",
       "      <th>total_bedrooms</th>\n",
       "      <th>population</th>\n",
       "      <th>households</th>\n",
       "      <th>median_income</th>\n",
       "      <th>median_house_value</th>\n",
       "      <th>ocean_proximity</th>\n",
       "      <th>rooms_per_household</th>\n",
       "      <th>population_in_household</th>\n",
       "      <th>bedroom_index</th>\n",
       "      <th>ocean_proximity_idx</th>\n",
       "      <th>ocean_proximity_ohe</th>\n",
       "      <th>categorical_features</th>\n",
       "    </tr>\n",
       "  </thead>\n",
       "  <tbody>\n",
       "    <tr>\n",
       "      <th>0</th>\n",
       "      <td>-122.23</td>\n",
       "      <td>37.88</td>\n",
       "      <td>41.00</td>\n",
       "      <td>880.00</td>\n",
       "      <td>129.00</td>\n",
       "      <td>322.00</td>\n",
       "      <td>126.00</td>\n",
       "      <td>8.33</td>\n",
       "      <td>452600.00</td>\n",
       "      <td>NEAR BAY</td>\n",
       "      <td>6.98</td>\n",
       "      <td>2.56</td>\n",
       "      <td>0.15</td>\n",
       "      <td>3.00</td>\n",
       "      <td>(0.0, 0.0, 0.0, 1.0)</td>\n",
       "      <td>(0.0, 0.0, 0.0, 1.0)</td>\n",
       "    </tr>\n",
       "    <tr>\n",
       "      <th>1</th>\n",
       "      <td>-122.22</td>\n",
       "      <td>37.86</td>\n",
       "      <td>21.00</td>\n",
       "      <td>7099.00</td>\n",
       "      <td>1106.00</td>\n",
       "      <td>2401.00</td>\n",
       "      <td>1138.00</td>\n",
       "      <td>8.30</td>\n",
       "      <td>358500.00</td>\n",
       "      <td>NEAR BAY</td>\n",
       "      <td>6.24</td>\n",
       "      <td>2.11</td>\n",
       "      <td>0.16</td>\n",
       "      <td>3.00</td>\n",
       "      <td>(0.0, 0.0, 0.0, 1.0)</td>\n",
       "      <td>(0.0, 0.0, 0.0, 1.0)</td>\n",
       "    </tr>\n",
       "    <tr>\n",
       "      <th>2</th>\n",
       "      <td>-122.24</td>\n",
       "      <td>37.85</td>\n",
       "      <td>52.00</td>\n",
       "      <td>1467.00</td>\n",
       "      <td>190.00</td>\n",
       "      <td>496.00</td>\n",
       "      <td>177.00</td>\n",
       "      <td>7.26</td>\n",
       "      <td>352100.00</td>\n",
       "      <td>NEAR BAY</td>\n",
       "      <td>8.29</td>\n",
       "      <td>2.80</td>\n",
       "      <td>0.13</td>\n",
       "      <td>3.00</td>\n",
       "      <td>(0.0, 0.0, 0.0, 1.0)</td>\n",
       "      <td>(0.0, 0.0, 0.0, 1.0)</td>\n",
       "    </tr>\n",
       "  </tbody>\n",
       "</table>\n",
       "</div>"
      ],
      "text/plain": [
       "   longitude  latitude  housing_median_age  total_rooms  total_bedrooms  \\\n",
       "0    -122.23     37.88               41.00       880.00          129.00   \n",
       "1    -122.22     37.86               21.00      7099.00         1106.00   \n",
       "2    -122.24     37.85               52.00      1467.00          190.00   \n",
       "\n",
       "   population  households  median_income  median_house_value ocean_proximity  \\\n",
       "0      322.00      126.00           8.33           452600.00        NEAR BAY   \n",
       "1     2401.00     1138.00           8.30           358500.00        NEAR BAY   \n",
       "2      496.00      177.00           7.26           352100.00        NEAR BAY   \n",
       "\n",
       "   rooms_per_household  population_in_household  bedroom_index  \\\n",
       "0                 6.98                     2.56           0.15   \n",
       "1                 6.24                     2.11           0.16   \n",
       "2                 8.29                     2.80           0.13   \n",
       "\n",
       "   ocean_proximity_idx   ocean_proximity_ohe  categorical_features  \n",
       "0                 3.00  (0.0, 0.0, 0.0, 1.0)  (0.0, 0.0, 0.0, 1.0)  \n",
       "1                 3.00  (0.0, 0.0, 0.0, 1.0)  (0.0, 0.0, 0.0, 1.0)  \n",
       "2                 3.00  (0.0, 0.0, 0.0, 1.0)  (0.0, 0.0, 0.0, 1.0)  "
      ]
     },
     "execution_count": 24,
     "metadata": {},
     "output_type": "execute_result"
    }
   ],
   "source": [
    "pd.DataFrame(df_housing.take(3),\n",
    "             columns=df_housing.columns)"
   ]
  },
  {
   "cell_type": "markdown",
   "id": "067f3522",
   "metadata": {
    "id": "GEqQaHzsZ_bA"
   },
   "source": [
    "Для числовых признаков тоже нужна трансформация — шкалирование значений — чтобы сильные выбросы не смещали предсказания модели"
   ]
  },
  {
   "cell_type": "code",
   "execution_count": 25,
   "id": "86156a5d",
   "metadata": {
    "id": "bddb08c4"
   },
   "outputs": [],
   "source": [
    "numerical_assembler = VectorAssembler(inputCols=numerical_cols,\n",
    "                                      outputCol='numerical_features')\n",
    "df_housing = numerical_assembler.transform(df_housing)"
   ]
  },
  {
   "cell_type": "code",
   "execution_count": 26,
   "id": "02190998",
   "metadata": {
    "id": "bddb08c4"
   },
   "outputs": [],
   "source": [
    "standardScaler = StandardScaler(inputCol='numerical_features',\n",
    "                                outputCol='numerical_features_scaled')\n",
    "df_housing = standardScaler.fit(df_housing).transform(df_housing) "
   ]
  },
  {
   "cell_type": "markdown",
   "id": "208fee63",
   "metadata": {
    "id": "GEqQaHzsZ_bA"
   },
   "source": [
    "После всех трансформаций получается такие колонки в таблице df_housing:"
   ]
  },
  {
   "cell_type": "code",
   "execution_count": 27,
   "id": "a33f187d",
   "metadata": {
    "id": "bddb08c4"
   },
   "outputs": [
    {
     "data": {
      "text/plain": [
       "[('longitude', 'double'),\n",
       " ('latitude', 'double'),\n",
       " ('housing_median_age', 'double'),\n",
       " ('total_rooms', 'double'),\n",
       " ('total_bedrooms', 'double'),\n",
       " ('population', 'double'),\n",
       " ('households', 'double'),\n",
       " ('median_income', 'double'),\n",
       " ('median_house_value', 'double'),\n",
       " ('ocean_proximity', 'string'),\n",
       " ('rooms_per_household', 'double'),\n",
       " ('population_in_household', 'double'),\n",
       " ('bedroom_index', 'double'),\n",
       " ('ocean_proximity_idx', 'double'),\n",
       " ('ocean_proximity_ohe', 'vector'),\n",
       " ('categorical_features', 'vector'),\n",
       " ('numerical_features', 'vector'),\n",
       " ('numerical_features_scaled', 'vector')]"
      ]
     },
     "execution_count": 27,
     "metadata": {},
     "output_type": "execute_result"
    }
   ],
   "source": [
    "df_housing.dtypes"
   ]
  },
  {
   "cell_type": "markdown",
   "id": "469ce7d8",
   "metadata": {
    "id": "GEqQaHzsZ_bA"
   },
   "source": [
    "Финальный шаг — собрать трансформированные категорийные и числовые признаки с помощью VectorAssembler:"
   ]
  },
  {
   "cell_type": "code",
   "execution_count": 28,
   "id": "62ffbc99",
   "metadata": {
    "id": "bddb08c4",
    "scrolled": false
   },
   "outputs": [
    {
     "name": "stdout",
     "output_type": "stream",
     "text": [
      "+--------------------+\n",
      "|        all_features|\n",
      "+--------------------+\n",
      "|[0.0,0.0,0.0,1.0,...|\n",
      "|[0.0,0.0,0.0,1.0,...|\n",
      "|[0.0,0.0,0.0,1.0,...|\n",
      "+--------------------+\n",
      "only showing top 3 rows\n",
      "\n"
     ]
    }
   ],
   "source": [
    "all_features = ['categorical_features','numerical_features_scaled']\n",
    "\n",
    "final_assembler = VectorAssembler(inputCols=all_features, \n",
    "                                  outputCol='all_features') \n",
    "df_housing = final_assembler.transform(df_housing)\n",
    "df_housing.select('all_features').show(3)"
   ]
  },
  {
   "cell_type": "markdown",
   "id": "da9417e4",
   "metadata": {
    "id": "GEqQaHzsZ_bA"
   },
   "source": [
    "На этапе обучения моделей нам предстоит построить две модели линейной регрессии на разных наборах данных:<br />\n",
    "- используя все данные из файла;<br />\n",
    "- используя только числовые переменные, исключив категориальные.<br />\n",
    "\n",
    "Подготовим для этого два датасета.<br />"
   ]
  },
  {
   "cell_type": "code",
   "execution_count": 29,
   "id": "0a10f54a",
   "metadata": {
    "id": "bddb08c4",
    "scrolled": true
   },
   "outputs": [
    {
     "name": "stdout",
     "output_type": "stream",
     "text": [
      "+--------------------+------------------+\n",
      "|        all_features|median_house_value|\n",
      "+--------------------+------------------+\n",
      "|[0.0,0.0,0.0,1.0,...|          452600.0|\n",
      "|[0.0,0.0,0.0,1.0,...|          358500.0|\n",
      "|[0.0,0.0,0.0,1.0,...|          352100.0|\n",
      "+--------------------+------------------+\n",
      "only showing top 3 rows\n",
      "\n"
     ]
    }
   ],
   "source": [
    "df_all = df_housing.select(['all_features','median_house_value'])\n",
    "df_all.show(3)"
   ]
  },
  {
   "cell_type": "code",
   "execution_count": 30,
   "id": "68b20990",
   "metadata": {
    "id": "bddb08c4",
    "scrolled": false
   },
   "outputs": [
    {
     "name": "stdout",
     "output_type": "stream",
     "text": [
      "+-------------------------+------------------+\n",
      "|numerical_features_scaled|median_house_value|\n",
      "+-------------------------+------------------+\n",
      "|     [-61.007269596069...|          452600.0|\n",
      "|     [-61.002278409814...|          358500.0|\n",
      "|     [-61.012260782324...|          352100.0|\n",
      "+-------------------------+------------------+\n",
      "only showing top 3 rows\n",
      "\n"
     ]
    }
   ],
   "source": [
    "df_numerical = df_housing.select(['numerical_features_scaled','median_house_value'])\n",
    "df_numerical.show(3)"
   ]
  },
  {
   "cell_type": "markdown",
   "id": "825bff66",
   "metadata": {
    "id": "GEqQaHzsZ_bA"
   },
   "source": [
    "В процессе загрузки датасетов, пребобработки данных и трансформации признаков было выявлено:<br />\n",
    "- Проверены пропуски (найдено 207 пропусков в столбец total_bedrooms), строки, в которых есть пропущенные значения были заменены на медианные значения.<br />\n",
    "- Найдены жилые массивы, в которых живут самые обеспеченные люди, сгруппированы данные по столбцу с категориями удалённости от океана и посчитано среднее значение медианного дохода в жилом массиве. На основе полученных данных можно сделать вывод, что люди с высоким доходом предпочитают селиться в жилых массивах, которые находятся не более чем в часе езды до океана или около залива.<br />\n",
    "- Исследована зависимость возраста жителей от удалённости жилого массива от океана и сгруппированы данные по двум столбцам: медианный возраст жителей и удалённость от океана, а потом было посчитано, сколько раз встречается то или иное медианное значение возраста в зависимости от удалённости от океана. Построен график, по которому можно предположить, что люди до 20 лет чаще живут в материковой части Калифорнии (INLAND) и в радиусе часа езды до океана. Старшие поколения предпочитают селиться в радиусе часа езды до океана и около залива.<br />\n",
    "- Созданы несколько новых столбцов с признаками:<br />\n",
    " - Отношение количества комнат total_rooms к количеству домовладений households. Столбец rooms_per_household.<br />\n",
    " - Отношение количества жителей population к количеству домовладений households. Столбец population_in_household.<br />\n",
    " - Отношение количества спален total_bedrooms к общему количеству комнат total_rooms. Столбец bedroom_index<br />"
   ]
  },
  {
   "cell_type": "markdown",
   "id": "8224ec0e",
   "metadata": {
    "id": "9f0a82f3"
   },
   "source": [
    "### Обучение моделей"
   ]
  },
  {
   "cell_type": "markdown",
   "id": "574fcc9c",
   "metadata": {
    "id": "9f0a82f3"
   },
   "source": [
    "#### Разделение на выборки"
   ]
  },
  {
   "cell_type": "markdown",
   "id": "0d1265fe",
   "metadata": {
    "id": "GEqQaHzsZ_bA"
   },
   "source": [
    "Разделим наш датасет на две части — выборку для обучения и выборку для тестирования качества модели."
   ]
  },
  {
   "cell_type": "code",
   "execution_count": 31,
   "id": "7d4ddcc5",
   "metadata": {
    "id": "bddb08c4",
    "scrolled": true
   },
   "outputs": [
    {
     "name": "stderr",
     "output_type": "stream",
     "text": [
      "                                                                                \r"
     ]
    },
    {
     "name": "stdout",
     "output_type": "stream",
     "text": [
      "Обучающая выборка: 15406 строк, 2 столбца \n",
      "Тестовая выборка: 5234 строк, 2 столбца\n"
     ]
    },
    {
     "name": "stderr",
     "output_type": "stream",
     "text": [
      "                                                                                \r"
     ]
    }
   ],
   "source": [
    "df_all_train, df_all_test = df_all.randomSplit([.75,.25], seed=RANDOM_SEED)\n",
    "print(f'Обучающая выборка: {df_all_train.count()} строк, {len(df_all_train.columns)} столбца',\n",
    "      f'\\nТестовая выборка: {df_all_test.count()} строк, {len(df_all_test.columns)} столбца')"
   ]
  },
  {
   "cell_type": "code",
   "execution_count": 32,
   "id": "cb1ce156",
   "metadata": {
    "id": "bddb08c4",
    "scrolled": true
   },
   "outputs": [
    {
     "name": "stdout",
     "output_type": "stream",
     "text": [
      "Обучающая выборка: 15406 строк, 2 столбца \n",
      "Тестовая выборка: 5234 строк, 2 столбца\n"
     ]
    }
   ],
   "source": [
    "df_num_train, df_num_test = df_numerical.randomSplit([.75,.25], seed=RANDOM_SEED)\n",
    "print(f'Обучающая выборка: {df_num_train.count()} строк, {len(df_num_train.columns)} столбца',\n",
    "      f'\\nТестовая выборка: {df_num_test.count()} строк, {len(df_num_test.columns)} столбца')"
   ]
  },
  {
   "cell_type": "markdown",
   "id": "c90ac024",
   "metadata": {
    "id": "9f0a82f3"
   },
   "source": [
    "#### Обучение модели на всех данных из файла"
   ]
  },
  {
   "cell_type": "code",
   "execution_count": 33,
   "id": "644655d3",
   "metadata": {
    "id": "bddb08c4",
    "scrolled": false
   },
   "outputs": [
    {
     "name": "stderr",
     "output_type": "stream",
     "text": [
      "23/03/12 19:00:03 WARN Instrumentation: [0ded5016] regParam is zero, which might cause numerical instability and overfitting.\n",
      "23/03/12 19:00:04 WARN LAPACK: Failed to load implementation from: com.github.fommil.netlib.NativeSystemLAPACK\n",
      "23/03/12 19:00:04 WARN LAPACK: Failed to load implementation from: com.github.fommil.netlib.NativeRefLAPACK\n",
      "                                                                                \r"
     ]
    }
   ],
   "source": [
    "lr = LinearRegression(labelCol=target, featuresCol = 'all_features')\n",
    "lr_model = lr.fit(df_all_train)"
   ]
  },
  {
   "cell_type": "markdown",
   "id": "cf2a74ef",
   "metadata": {
    "id": "GEqQaHzsZ_bA"
   },
   "source": [
    "Подведем итог модели по набору обучающих данных и распечатаем некоторые показатели:"
   ]
  },
  {
   "cell_type": "code",
   "execution_count": 34,
   "id": "c4d142d6",
   "metadata": {
    "id": "bddb08c4",
    "scrolled": true
   },
   "outputs": [],
   "source": [
    "training_summary = lr_model.summary"
   ]
  },
  {
   "cell_type": "code",
   "execution_count": 35,
   "id": "13a93f9b",
   "metadata": {
    "id": "bddb08c4",
    "scrolled": true
   },
   "outputs": [
    {
     "name": "stdout",
     "output_type": "stream",
     "text": [
      "RMSE на тренировочных данных: 68707.073514\n",
      "R2 на тренировочных данных: 0.643731\n",
      "MAE на тренировочных данных: 49610.466695\n"
     ]
    }
   ],
   "source": [
    "print(\"RMSE на тренировочных данных: %f\" % training_summary.rootMeanSquaredError)\n",
    "print(\"R2 на тренировочных данных: %f\" % training_summary.r2)\n",
    "print(\"MAE на тренировочных данных: %f\" % training_summary.meanAbsoluteError)"
   ]
  },
  {
   "cell_type": "markdown",
   "id": "6a27d3d1",
   "metadata": {
    "id": "GEqQaHzsZ_bA"
   },
   "source": [
    "RMSE измеряет разницу между прогнозируемыми значениями по модели и фактическими значениями. Однако одно только RMSE не имеет смысла, пока мы не сравним с фактическим значением «median_house_value», таким как среднее, минимальное и максимальное"
   ]
  },
  {
   "cell_type": "code",
   "execution_count": 36,
   "id": "d610fc4b",
   "metadata": {
    "id": "bddb08c4",
    "scrolled": false
   },
   "outputs": [
    {
     "name": "stdout",
     "output_type": "stream",
     "text": [
      "+-------+------------------+\n",
      "|summary|median_house_value|\n",
      "+-------+------------------+\n",
      "|  count|             15406|\n",
      "|   mean|206498.85239517072|\n",
      "| stddev|115113.60008727331|\n",
      "|    min|           14999.0|\n",
      "|    max|          500001.0|\n",
      "+-------+------------------+\n",
      "\n"
     ]
    }
   ],
   "source": [
    "df_all_train.describe().show()"
   ]
  },
  {
   "cell_type": "markdown",
   "id": "b60184bf",
   "metadata": {
    "id": "GEqQaHzsZ_bA"
   },
   "source": [
    "После такого сравнения наша RMSE выглядит довольно хорошо. Это говорит нам о том, что модель способна достаточно точно предсказывать цены на жилье, в пределах 69 тыс. дол."
   ]
  },
  {
   "cell_type": "code",
   "execution_count": 37,
   "id": "95438a5d",
   "metadata": {
    "id": "bddb08c4",
    "scrolled": true
   },
   "outputs": [
    {
     "name": "stdout",
     "output_type": "stream",
     "text": [
      "+------------------+------------------+--------------------+\n",
      "|        prediction|median_house_value|        all_features|\n",
      "+------------------+------------------+--------------------+\n",
      "|333401.13179015345|          414300.0|[0.0,0.0,0.0,1.0,...|\n",
      "|439843.95807471615|          463500.0|[0.0,0.0,0.0,1.0,...|\n",
      "| 391701.6036533064|          500001.0|[0.0,0.0,0.0,1.0,...|\n",
      "|295199.45815330814|          345700.0|[0.0,0.0,0.0,1.0,...|\n",
      "|346238.84437728743|          500001.0|[0.0,0.0,0.0,1.0,...|\n",
      "+------------------+------------------+--------------------+\n",
      "only showing top 5 rows\n",
      "\n"
     ]
    },
    {
     "name": "stderr",
     "output_type": "stream",
     "text": [
      "                                                                                \r"
     ]
    },
    {
     "name": "stdout",
     "output_type": "stream",
     "text": [
      "Среднеквадратическая ошибка (RMSE) на тестовой выборке = 68796.9\n"
     ]
    }
   ],
   "source": [
    "lr_predictions = lr_model.transform(df_all_test)\n",
    "lr_predictions.select('prediction','median_house_value','all_features').show(5)\n",
    "test_result = lr_model.evaluate(df_all_test)\n",
    "print(\"Среднеквадратическая ошибка (RMSE) на тестовой выборке = %g\" % test_result.rootMeanSquaredError)\n",
    "\n"
   ]
  },
  {
   "cell_type": "code",
   "execution_count": 38,
   "id": "d468f937",
   "metadata": {
    "id": "bddb08c4",
    "scrolled": false
   },
   "outputs": [
    {
     "name": "stdout",
     "output_type": "stream",
     "text": [
      "R2 на тестовых данных = 0.649562\n"
     ]
    }
   ],
   "source": [
    "lr_evaluator = RegressionEvaluator(predictionCol='prediction', \\\n",
    "                 labelCol='median_house_value',metricName='r2')\n",
    "print(\"R2 на тестовых данных = %g\" % lr_evaluator.evaluate(lr_predictions))"
   ]
  },
  {
   "cell_type": "code",
   "execution_count": 39,
   "id": "e244dcb2",
   "metadata": {
    "id": "bddb08c4",
    "scrolled": false
   },
   "outputs": [
    {
     "name": "stdout",
     "output_type": "stream",
     "text": [
      "MAE на тестовых данных = 50347.9\n"
     ]
    }
   ],
   "source": [
    "lr_evaluator_mae = RegressionEvaluator(predictionCol='prediction', \\\n",
    "                 labelCol='median_house_value',metricName='mae')\n",
    "print(\"MAE на тестовых данных = %g\" % lr_evaluator_mae.evaluate(lr_predictions))"
   ]
  },
  {
   "cell_type": "markdown",
   "id": "f4102f0d",
   "metadata": {
    "id": "9f0a82f3"
   },
   "source": [
    "#### Обучение модели на числовых признаках"
   ]
  },
  {
   "cell_type": "code",
   "execution_count": 40,
   "id": "32c3363a",
   "metadata": {
    "id": "bddb08c4",
    "scrolled": true
   },
   "outputs": [
    {
     "name": "stderr",
     "output_type": "stream",
     "text": [
      "23/03/12 19:00:10 WARN Instrumentation: [54c12c39] regParam is zero, which might cause numerical instability and overfitting.\n"
     ]
    }
   ],
   "source": [
    "lr_num = LinearRegression(labelCol=target, featuresCol = 'numerical_features_scaled')\n",
    "lr_model_num = lr_num.fit(df_num_train)"
   ]
  },
  {
   "cell_type": "markdown",
   "id": "afb77674",
   "metadata": {
    "id": "GEqQaHzsZ_bA"
   },
   "source": [
    "Подведем итог модели по набору обучающих данных и распечатаем некоторые показатели:"
   ]
  },
  {
   "cell_type": "code",
   "execution_count": 41,
   "id": "af51dc8b",
   "metadata": {
    "id": "bddb08c4",
    "scrolled": false
   },
   "outputs": [],
   "source": [
    "training_summary_num = lr_model_num.summary"
   ]
  },
  {
   "cell_type": "code",
   "execution_count": 42,
   "id": "d03b709d",
   "metadata": {
    "id": "bddb08c4",
    "scrolled": false
   },
   "outputs": [
    {
     "name": "stdout",
     "output_type": "stream",
     "text": [
      "RMSE на тренировочных данных: 70165.530150\n",
      "R2 на тренировочных данных: 0.629273\n",
      "MAE на тренировочных данных: 51303.532481\n"
     ]
    }
   ],
   "source": [
    "print(\"RMSE на тренировочных данных: %f\" % training_summary_num.rootMeanSquaredError)\n",
    "print(\"R2 на тренировочных данных: %f\" % training_summary_num.r2)\n",
    "print(\"MAE на тренировочных данных: %f\" % training_summary_num.meanAbsoluteError)"
   ]
  },
  {
   "cell_type": "markdown",
   "id": "c2ba2843",
   "metadata": {
    "id": "GEqQaHzsZ_bA"
   },
   "source": [
    "Так же сравним RMSE с фактическим значением «median_house_value»:"
   ]
  },
  {
   "cell_type": "code",
   "execution_count": 43,
   "id": "302fac92",
   "metadata": {
    "id": "bddb08c4",
    "scrolled": false
   },
   "outputs": [
    {
     "name": "stdout",
     "output_type": "stream",
     "text": [
      "+-------+------------------+\n",
      "|summary|median_house_value|\n",
      "+-------+------------------+\n",
      "|  count|             15406|\n",
      "|   mean| 207063.3730364793|\n",
      "| stddev| 115242.0680417819|\n",
      "|    min|           14999.0|\n",
      "|    max|          500001.0|\n",
      "+-------+------------------+\n",
      "\n"
     ]
    }
   ],
   "source": [
    "df_num_train.describe().show()"
   ]
  },
  {
   "cell_type": "markdown",
   "id": "4e4776e1",
   "metadata": {
    "id": "GEqQaHzsZ_bA"
   },
   "source": [
    "R2 = 0,63 указывает, что в нашей модели, количества отклонений в прогнозах, объясненных набором данных составляет 63%, против 64% на полном наборе данных. Модель способна достаточно точно предсказывать цены на жилье, в пределах 70,1 тыс. дол, против 68,7 тыс. дол на полном наборе данных."
   ]
  },
  {
   "cell_type": "code",
   "execution_count": 44,
   "id": "be3b8030",
   "metadata": {
    "id": "bddb08c4",
    "scrolled": true
   },
   "outputs": [
    {
     "name": "stdout",
     "output_type": "stream",
     "text": [
      "+------------------+------------------+-------------------------+\n",
      "|        prediction|median_house_value|numerical_features_scaled|\n",
      "+------------------+------------------+-------------------------+\n",
      "|189459.40212413995|          106700.0|     [-62.005506847089...|\n",
      "|173865.57810855052|          128900.0|     [-61.975559729558...|\n",
      "|199936.73051977484|          116100.0|     [-61.975559729558...|\n",
      "|130502.63657675171|           70500.0|     [-61.975559729558...|\n",
      "| 155130.5725637339|           85600.0|     [-61.970568543303...|\n",
      "+------------------+------------------+-------------------------+\n",
      "only showing top 5 rows\n",
      "\n",
      "Среднеквадратическая ошибка (RMSE) на тестовых данных = 68223.1\n"
     ]
    }
   ],
   "source": [
    "lr_predictions_num = lr_model_num.transform(df_num_test)\n",
    "lr_predictions_num.select('prediction','median_house_value','numerical_features_scaled').show(5)\n",
    "test_result_num = lr_model_num.evaluate(df_num_test)\n",
    "print(\"Среднеквадратическая ошибка (RMSE) на тестовых данных = %g\" % test_result_num.rootMeanSquaredError)"
   ]
  },
  {
   "cell_type": "code",
   "execution_count": 45,
   "id": "c517fd02",
   "metadata": {
    "id": "bddb08c4",
    "scrolled": true
   },
   "outputs": [
    {
     "name": "stdout",
     "output_type": "stream",
     "text": [
      "R2 на тестовых данных = 0.653172\n"
     ]
    }
   ],
   "source": [
    "lr_evaluator_num = RegressionEvaluator(predictionCol='prediction', \\\n",
    "                 labelCol='median_house_value',metricName='r2')\n",
    "print(\"R2 на тестовых данных = %g\" % lr_evaluator_num.evaluate(lr_predictions_num))"
   ]
  },
  {
   "cell_type": "code",
   "execution_count": 46,
   "id": "a4b41aa7",
   "metadata": {
    "id": "bddb08c4",
    "scrolled": false
   },
   "outputs": [
    {
     "name": "stdout",
     "output_type": "stream",
     "text": [
      "MAE на тестовых данных = 50194.7\n"
     ]
    }
   ],
   "source": [
    "lr_evaluator_num_mae = RegressionEvaluator(predictionCol='prediction', \\\n",
    "                 labelCol='median_house_value',metricName='mae')\n",
    "print(\"MAE на тестовых данных = %g\" % lr_evaluator_num_mae.evaluate(lr_predictions_num))"
   ]
  },
  {
   "cell_type": "markdown",
   "id": "eaa12dc0",
   "metadata": {
    "id": "GEqQaHzsZ_bA"
   },
   "source": [
    "**При построении модели линейной регрессии на всех данных были получены следующие результаты:**\n",
    "\n",
    "**RMSE**<br />\n",
    "на тренировочных данных = 68707.1 <br />\n",
    "на тестовой выборке = 68796.9 <br />\n",
    "**R2**<br />\n",
    "на тренировочных данных = 0.643731 <br />\n",
    "на тестовых данных = 0.649562 <br />\n",
    "**MAE**<br />\n",
    "на тренировочных данных: 49610.5 <br />\n",
    "на тестовых данных = 50347.9 <br />\n",
    "\n",
    "**При построении модели линейной регрессии только на числовых данных были получены следующие результаты:**\n",
    "\n",
    "**RMSE**<br />\n",
    "на обучающих данных = 70165.5 <br />\n",
    "на тестовых данных = 68223.1 <br />\n",
    "**R2**<br />\n",
    "на тренировочных данных = 0.629273 <br />\n",
    "на тестовых данных = 0.653172 <br />\n",
    "**MAE**<br />\n",
    "на тренировочных данных: 51303.5 <br />\n",
    "на тестовых данных = 50194.7 <br />"
   ]
  },
  {
   "cell_type": "markdown",
   "id": "757fd103",
   "metadata": {
    "id": "757fd103"
   },
   "source": [
    "### Анализ результатов"
   ]
  },
  {
   "cell_type": "markdown",
   "id": "a7b5a163",
   "metadata": {
    "id": "GEqQaHzsZ_bA"
   },
   "source": [
    "Выведем полученные на тестовом датасете метрики в виде таблицы."
   ]
  },
  {
   "cell_type": "code",
   "execution_count": 47,
   "id": "49bb0d2b",
   "metadata": {
    "id": "bddb08c4",
    "scrolled": false
   },
   "outputs": [
    {
     "name": "stdout",
     "output_type": "stream",
     "text": [
      "Обучающая выборка: 15406 строк, 3 столбца \n",
      "Тестовая выборка:, 5234 строк, 3 столбца\n"
     ]
    }
   ],
   "source": [
    "train, test = df_housing.select(['all_features',\n",
    "                                 'numerical_features_scaled',\n",
    "                                 'median_house_value']).randomSplit([.75, .25], seed=RANDOM_SEED)\n",
    "print(f'Обучающая выборка: {train.count()} строк, {len(train.columns)} столбца',\n",
    "      f'\\nТестовая выборка:, {test.count()} строк, {len(test.columns)} столбца')"
   ]
  },
  {
   "cell_type": "code",
   "execution_count": 48,
   "id": "3ee69c9f",
   "metadata": {
    "id": "bddb08c4",
    "scrolled": false
   },
   "outputs": [
    {
     "name": "stderr",
     "output_type": "stream",
     "text": [
      "23/03/12 19:00:15 WARN Instrumentation: [688c10c3] regParam is zero, which might cause numerical instability and overfitting.\n",
      "23/03/12 19:00:19 WARN Instrumentation: [41f7b510] regParam is zero, which might cause numerical instability and overfitting.\n"
     ]
    }
   ],
   "source": [
    "# Создаем список, куда будем вносить результаты\n",
    "data_table = [\n",
    "    ['features_used', 'RMSE', 'R2', 'MAE']\n",
    "]\n",
    "\n",
    "# Перебираем варианты используемых признаков\n",
    "for col in ['all_features', 'numerical_features_scaled']:\n",
    "    # обучаем модель\n",
    "    lr = LinearRegression(labelCol=target, featuresCol=col)\n",
    "    model = lr.fit(train)\n",
    "    \n",
    "    #запишем предсказания на тестовой выборке\n",
    "    predictions = model.transform(test)\n",
    "    \n",
    "    #выделим предсказания и ответы в отдельную переменную\n",
    "    results = predictions.select(['prediction', target])\n",
    "    \n",
    "    #соберем все в RDD\n",
    "    results_collect = results.collect()\n",
    "    results_list = [ (float(i[0]), float(i[1])) for i in results_collect]\n",
    "    scoreAndLabels = spark.sparkContext.parallelize(results_list)\n",
    "    \n",
    "    #запишем метрики в отдельную переменную\n",
    "    metrics = RegressionMetrics(scoreAndLabels)\n",
    "    \n",
    "    #добавим результаты в список\n",
    "    data_table.append([col,\n",
    "                       metrics.rootMeanSquaredError,\n",
    "                       metrics.r2,\n",
    "                       metrics.meanAbsoluteError])"
   ]
  },
  {
   "cell_type": "code",
   "execution_count": 49,
   "id": "21c57bd0",
   "metadata": {
    "scrolled": false
   },
   "outputs": [
    {
     "data": {
      "text/html": [
       "<div>\n",
       "<style scoped>\n",
       "    .dataframe tbody tr th:only-of-type {\n",
       "        vertical-align: middle;\n",
       "    }\n",
       "\n",
       "    .dataframe tbody tr th {\n",
       "        vertical-align: top;\n",
       "    }\n",
       "\n",
       "    .dataframe thead th {\n",
       "        text-align: right;\n",
       "    }\n",
       "</style>\n",
       "<table border=\"1\" class=\"dataframe\">\n",
       "  <thead>\n",
       "    <tr style=\"text-align: right;\">\n",
       "      <th></th>\n",
       "      <th>features_used</th>\n",
       "      <th>RMSE</th>\n",
       "      <th>R2</th>\n",
       "      <th>MAE</th>\n",
       "    </tr>\n",
       "  </thead>\n",
       "  <tbody>\n",
       "    <tr>\n",
       "      <th>0</th>\n",
       "      <td>all_features</td>\n",
       "      <td>68796.92</td>\n",
       "      <td>0.65</td>\n",
       "      <td>50347.88</td>\n",
       "    </tr>\n",
       "    <tr>\n",
       "      <th>1</th>\n",
       "      <td>numerical_features_scaled</td>\n",
       "      <td>69514.37</td>\n",
       "      <td>0.64</td>\n",
       "      <td>51262.48</td>\n",
       "    </tr>\n",
       "  </tbody>\n",
       "</table>\n",
       "</div>"
      ],
      "text/plain": [
       "               features_used     RMSE   R2      MAE\n",
       "0               all_features 68796.92 0.65 50347.88\n",
       "1  numerical_features_scaled 69514.37 0.64 51262.48"
      ]
     },
     "execution_count": 49,
     "metadata": {},
     "output_type": "execute_result"
    }
   ],
   "source": [
    "pd.DataFrame(data_table[1:], columns=data_table[0])"
   ]
  },
  {
   "attachments": {},
   "cell_type": "markdown",
   "id": "3a09c447",
   "metadata": {
    "id": "GEqQaHzsZ_bA"
   },
   "source": [
    "В ходе работы было использовано два метода обучения моделей: с формированием вспомогательных датасетов и без. Исходя из полученных результатов, можно сказать, что модель со всеми признаками без исключений обучилась и предсказывает результаты одинаково, метрики совпадают. Однако, если брать метрики модели, которая обучалась только на числовых данных, то в этом случае покзатели метрик расходятся. Получается как раз, что df_all_train совпадает с train, а df_num_train нет, поэтому есть разница в результатах, randomSplit работает немного по другому, если первым указать численные признаки, то train разобьется по другому, и вторая часть таблицы в этом случае будет совпадать полностью.\n",
    "\n",
    "Исходя из полученных результатов, можно сказать, что модель со всеми признаками без исключений обучилась и предсказывает результаты лучше, чем только на числовых. На тестовой выборке было достигнуто значение метрики R2 0.65. \n"
   ]
  }
 ],
 "metadata": {
  "ExecuteTimeLog": [
   {
    "duration": 16152,
    "start_time": "2023-03-10T10:02:20.339Z"
   },
   {
    "duration": 742,
    "start_time": "2023-03-10T10:05:42.627Z"
   },
   {
    "duration": 15540,
    "start_time": "2023-03-10T10:05:43.371Z"
   },
   {
    "duration": 9169,
    "start_time": "2023-03-10T10:05:58.913Z"
   },
   {
    "duration": 92,
    "start_time": "2023-03-10T10:06:08.084Z"
   },
   {
    "duration": 791,
    "start_time": "2023-03-10T10:06:08.178Z"
   },
   {
    "duration": 1301,
    "start_time": "2023-03-10T10:06:36.522Z"
   },
   {
    "duration": 5797,
    "start_time": "2023-03-10T10:10:20.069Z"
   },
   {
    "duration": 3215,
    "start_time": "2023-03-10T10:12:25.387Z"
   },
   {
    "duration": 3581,
    "start_time": "2023-03-10T10:13:22.412Z"
   },
   {
    "duration": 1268,
    "start_time": "2023-03-10T10:19:45.127Z"
   },
   {
    "duration": 15410,
    "start_time": "2023-03-10T10:19:46.397Z"
   },
   {
    "duration": 9332,
    "start_time": "2023-03-10T10:20:01.864Z"
   },
   {
    "duration": 50,
    "start_time": "2023-03-10T10:20:11.266Z"
   },
   {
    "duration": 809,
    "start_time": "2023-03-10T10:20:11.364Z"
   },
   {
    "duration": 1502,
    "start_time": "2023-03-10T10:20:12.175Z"
   },
   {
    "duration": 5603,
    "start_time": "2023-03-10T10:20:13.679Z"
   },
   {
    "duration": 3088,
    "start_time": "2023-03-10T10:20:19.284Z"
   },
   {
    "duration": 3793,
    "start_time": "2023-03-10T10:20:22.374Z"
   },
   {
    "duration": 4499,
    "start_time": "2023-03-10T10:20:26.170Z"
   },
   {
    "duration": 284,
    "start_time": "2023-03-10T10:20:30.671Z"
   },
   {
    "duration": 3901,
    "start_time": "2023-03-10T10:20:30.964Z"
   },
   {
    "duration": 375,
    "start_time": "2023-03-10T10:20:34.867Z"
   },
   {
    "duration": 46,
    "start_time": "2023-03-10T10:20:35.244Z"
   },
   {
    "duration": 4,
    "start_time": "2023-03-10T10:20:35.292Z"
   },
   {
    "duration": 64,
    "start_time": "2023-03-10T15:53:47.090Z"
   },
   {
    "duration": 1534,
    "start_time": "2023-03-10T15:53:54.157Z"
   },
   {
    "duration": 16525,
    "start_time": "2023-03-10T15:53:55.694Z"
   },
   {
    "duration": 9191,
    "start_time": "2023-03-10T15:54:12.222Z"
   },
   {
    "duration": 33,
    "start_time": "2023-03-10T15:54:21.468Z"
   },
   {
    "duration": 889,
    "start_time": "2023-03-10T15:54:21.503Z"
   },
   {
    "duration": 1414,
    "start_time": "2023-03-10T15:54:22.395Z"
   },
   {
    "duration": 5924,
    "start_time": "2023-03-10T15:54:23.811Z"
   },
   {
    "duration": 3870,
    "start_time": "2023-03-10T15:54:29.737Z"
   },
   {
    "duration": 4048,
    "start_time": "2023-03-10T15:54:33.665Z"
   },
   {
    "duration": 4863,
    "start_time": "2023-03-10T15:54:37.717Z"
   },
   {
    "duration": 242,
    "start_time": "2023-03-10T15:54:42.582Z"
   },
   {
    "duration": 3750,
    "start_time": "2023-03-10T15:54:42.826Z"
   },
   {
    "duration": 325,
    "start_time": "2023-03-10T15:54:46.578Z"
   },
   {
    "duration": 78,
    "start_time": "2023-03-10T15:54:46.905Z"
   },
   {
    "duration": 4,
    "start_time": "2023-03-10T15:54:46.986Z"
   },
   {
    "duration": 1694,
    "start_time": "2023-03-10T15:54:46.993Z"
   },
   {
    "duration": 3,
    "start_time": "2023-03-10T15:55:45.695Z"
   },
   {
    "duration": 154,
    "start_time": "2023-03-10T15:55:55.735Z"
   },
   {
    "duration": 1275,
    "start_time": "2023-03-10T15:56:22.600Z"
   },
   {
    "duration": 16325,
    "start_time": "2023-03-10T15:56:23.877Z"
   },
   {
    "duration": 9887,
    "start_time": "2023-03-10T15:56:40.204Z"
   },
   {
    "duration": 97,
    "start_time": "2023-03-10T15:56:50.097Z"
   },
   {
    "duration": 887,
    "start_time": "2023-03-10T15:56:50.196Z"
   },
   {
    "duration": 1417,
    "start_time": "2023-03-10T15:56:51.085Z"
   },
   {
    "duration": 6480,
    "start_time": "2023-03-10T15:56:52.503Z"
   },
   {
    "duration": 3907,
    "start_time": "2023-03-10T15:56:58.986Z"
   },
   {
    "duration": 3922,
    "start_time": "2023-03-10T15:57:02.894Z"
   },
   {
    "duration": 4608,
    "start_time": "2023-03-10T15:57:06.872Z"
   },
   {
    "duration": 253,
    "start_time": "2023-03-10T15:57:11.482Z"
   },
   {
    "duration": 4063,
    "start_time": "2023-03-10T15:57:11.737Z"
   },
   {
    "duration": 425,
    "start_time": "2023-03-10T15:57:15.802Z"
   },
   {
    "duration": 60,
    "start_time": "2023-03-10T15:57:16.229Z"
   },
   {
    "duration": 4,
    "start_time": "2023-03-10T15:57:16.292Z"
   },
   {
    "duration": 287,
    "start_time": "2023-03-10T15:57:16.297Z"
   },
   {
    "duration": 0,
    "start_time": "2023-03-10T15:57:16.586Z"
   },
   {
    "duration": 1822,
    "start_time": "2023-03-10T15:57:46.661Z"
   },
   {
    "duration": 538,
    "start_time": "2023-03-10T15:58:02.115Z"
   },
   {
    "duration": 113,
    "start_time": "2023-03-10T15:59:34.549Z"
   },
   {
    "duration": 1290,
    "start_time": "2023-03-10T15:59:45.321Z"
   },
   {
    "duration": 16881,
    "start_time": "2023-03-10T15:59:46.613Z"
   },
   {
    "duration": 10278,
    "start_time": "2023-03-10T16:00:03.497Z"
   },
   {
    "duration": 101,
    "start_time": "2023-03-10T16:00:13.777Z"
   },
   {
    "duration": 906,
    "start_time": "2023-03-10T16:00:13.886Z"
   },
   {
    "duration": 1616,
    "start_time": "2023-03-10T16:00:14.794Z"
   },
   {
    "duration": 6477,
    "start_time": "2023-03-10T16:00:16.464Z"
   },
   {
    "duration": 3853,
    "start_time": "2023-03-10T16:00:22.967Z"
   },
   {
    "duration": 3816,
    "start_time": "2023-03-10T16:00:26.822Z"
   },
   {
    "duration": 4935,
    "start_time": "2023-03-10T16:00:30.640Z"
   },
   {
    "duration": 188,
    "start_time": "2023-03-10T16:00:35.579Z"
   },
   {
    "duration": 3811,
    "start_time": "2023-03-10T16:00:35.769Z"
   },
   {
    "duration": 291,
    "start_time": "2023-03-10T16:00:39.582Z"
   },
   {
    "duration": 36,
    "start_time": "2023-03-10T16:00:39.878Z"
   },
   {
    "duration": 61,
    "start_time": "2023-03-10T16:00:39.917Z"
   },
   {
    "duration": 1995,
    "start_time": "2023-03-10T16:00:39.980Z"
   },
   {
    "duration": 613,
    "start_time": "2023-03-10T16:00:41.977Z"
   },
   {
    "duration": 1300,
    "start_time": "2023-03-10T16:01:55.502Z"
   },
   {
    "duration": 16478,
    "start_time": "2023-03-10T16:01:56.804Z"
   },
   {
    "duration": 10601,
    "start_time": "2023-03-10T16:02:13.285Z"
   },
   {
    "duration": 89,
    "start_time": "2023-03-10T16:02:23.892Z"
   },
   {
    "duration": 805,
    "start_time": "2023-03-10T16:02:23.985Z"
   },
   {
    "duration": 1398,
    "start_time": "2023-03-10T16:02:24.792Z"
   },
   {
    "duration": 6117,
    "start_time": "2023-03-10T16:02:26.192Z"
   },
   {
    "duration": 4176,
    "start_time": "2023-03-10T16:02:32.311Z"
   },
   {
    "duration": 3953,
    "start_time": "2023-03-10T16:02:36.489Z"
   },
   {
    "duration": 5241,
    "start_time": "2023-03-10T16:02:40.464Z"
   },
   {
    "duration": 311,
    "start_time": "2023-03-10T16:02:45.706Z"
   },
   {
    "duration": 3946,
    "start_time": "2023-03-10T16:02:46.019Z"
   },
   {
    "duration": 437,
    "start_time": "2023-03-10T16:02:49.969Z"
   },
   {
    "duration": 73,
    "start_time": "2023-03-10T16:02:50.409Z"
   },
   {
    "duration": 4,
    "start_time": "2023-03-10T16:02:50.484Z"
   },
   {
    "duration": 2044,
    "start_time": "2023-03-10T16:02:50.490Z"
   },
   {
    "duration": 8,
    "start_time": "2023-03-10T16:02:52.566Z"
   },
   {
    "duration": 656,
    "start_time": "2023-03-10T16:03:10.334Z"
   },
   {
    "duration": 49,
    "start_time": "2023-03-10T16:03:14.714Z"
   },
   {
    "duration": 231,
    "start_time": "2023-03-10T16:06:15.016Z"
   },
   {
    "duration": 1389,
    "start_time": "2023-03-10T16:06:23.938Z"
   },
   {
    "duration": 17480,
    "start_time": "2023-03-10T16:06:25.329Z"
   },
   {
    "duration": 10823,
    "start_time": "2023-03-10T16:06:42.865Z"
   },
   {
    "duration": 97,
    "start_time": "2023-03-10T16:06:53.693Z"
   },
   {
    "duration": 880,
    "start_time": "2023-03-10T16:06:53.792Z"
   },
   {
    "duration": 1263,
    "start_time": "2023-03-10T16:06:54.674Z"
   },
   {
    "duration": 6426,
    "start_time": "2023-03-10T16:06:55.938Z"
   },
   {
    "duration": 3641,
    "start_time": "2023-03-10T16:07:02.366Z"
   },
   {
    "duration": 4685,
    "start_time": "2023-03-10T16:07:06.009Z"
   },
   {
    "duration": 5395,
    "start_time": "2023-03-10T16:07:10.698Z"
   },
   {
    "duration": 382,
    "start_time": "2023-03-10T16:07:16.095Z"
   },
   {
    "duration": 4722,
    "start_time": "2023-03-10T16:07:16.480Z"
   },
   {
    "duration": 468,
    "start_time": "2023-03-10T16:07:21.204Z"
   },
   {
    "duration": 94,
    "start_time": "2023-03-10T16:07:21.675Z"
   },
   {
    "duration": 8,
    "start_time": "2023-03-10T16:07:21.773Z"
   },
   {
    "duration": 2187,
    "start_time": "2023-03-10T16:07:21.783Z"
   },
   {
    "duration": 718,
    "start_time": "2023-03-10T16:07:23.972Z"
   },
   {
    "duration": 174,
    "start_time": "2023-03-10T16:07:24.693Z"
   },
   {
    "duration": 118,
    "start_time": "2023-03-10T16:07:24.870Z"
   },
   {
    "duration": 1705,
    "start_time": "2023-03-10T16:07:24.990Z"
   },
   {
    "duration": 66,
    "start_time": "2023-03-10T16:07:26.697Z"
   },
   {
    "duration": 482,
    "start_time": "2023-03-10T16:07:32.911Z"
   },
   {
    "duration": 112,
    "start_time": "2023-03-10T16:11:25.194Z"
   },
   {
    "duration": 3061,
    "start_time": "2023-03-10T16:12:16.325Z"
   },
   {
    "duration": 276,
    "start_time": "2023-03-10T16:14:13.400Z"
   },
   {
    "duration": 340,
    "start_time": "2023-03-10T16:16:19.174Z"
   },
   {
    "duration": 1354,
    "start_time": "2023-03-10T16:21:58.157Z"
   },
   {
    "duration": 17590,
    "start_time": "2023-03-10T16:21:59.513Z"
   },
   {
    "duration": 12282,
    "start_time": "2023-03-10T16:22:17.107Z"
   },
   {
    "duration": 96,
    "start_time": "2023-03-10T16:22:29.391Z"
   },
   {
    "duration": 805,
    "start_time": "2023-03-10T16:22:29.491Z"
   },
   {
    "duration": 1511,
    "start_time": "2023-03-10T16:22:30.298Z"
   },
   {
    "duration": 7170,
    "start_time": "2023-03-10T16:22:31.810Z"
   },
   {
    "duration": 4705,
    "start_time": "2023-03-10T16:22:38.983Z"
   },
   {
    "duration": 4883,
    "start_time": "2023-03-10T16:22:43.691Z"
   },
   {
    "duration": 5504,
    "start_time": "2023-03-10T16:22:48.575Z"
   },
   {
    "duration": 501,
    "start_time": "2023-03-10T16:22:54.082Z"
   },
   {
    "duration": 4495,
    "start_time": "2023-03-10T16:22:54.585Z"
   },
   {
    "duration": 314,
    "start_time": "2023-03-10T16:22:59.088Z"
   },
   {
    "duration": 75,
    "start_time": "2023-03-10T16:22:59.406Z"
   },
   {
    "duration": 9,
    "start_time": "2023-03-10T16:22:59.484Z"
   },
   {
    "duration": 2191,
    "start_time": "2023-03-10T16:22:59.494Z"
   },
   {
    "duration": 903,
    "start_time": "2023-03-10T16:23:01.687Z"
   },
   {
    "duration": 175,
    "start_time": "2023-03-10T16:23:02.595Z"
   },
   {
    "duration": 99,
    "start_time": "2023-03-10T16:23:02.774Z"
   },
   {
    "duration": 1697,
    "start_time": "2023-03-10T16:23:02.877Z"
   },
   {
    "duration": 12,
    "start_time": "2023-03-10T16:23:04.576Z"
   },
   {
    "duration": 599,
    "start_time": "2023-03-10T16:23:04.593Z"
   },
   {
    "duration": 430,
    "start_time": "2023-03-10T16:23:05.195Z"
   },
   {
    "duration": 346,
    "start_time": "2023-03-10T16:23:05.628Z"
   },
   {
    "duration": 216,
    "start_time": "2023-03-10T16:23:05.976Z"
   },
   {
    "duration": 0,
    "start_time": "2023-03-10T16:23:06.195Z"
   },
   {
    "duration": 3477,
    "start_time": "2023-03-10T16:23:28.011Z"
   },
   {
    "duration": 1726,
    "start_time": "2023-03-10T16:23:35.963Z"
   },
   {
    "duration": 5543,
    "start_time": "2023-03-10T16:24:03.239Z"
   },
   {
    "duration": 2674,
    "start_time": "2023-03-10T19:09:44.904Z"
   },
   {
    "duration": 1900,
    "start_time": "2023-03-10T19:12:17.881Z"
   },
   {
    "duration": 6,
    "start_time": "2023-03-10T19:15:54.418Z"
   },
   {
    "duration": 5,
    "start_time": "2023-03-10T19:16:03.991Z"
   },
   {
    "duration": 8,
    "start_time": "2023-03-10T19:16:36.709Z"
   },
   {
    "duration": 57,
    "start_time": "2023-03-10T19:17:15.901Z"
   },
   {
    "duration": 4,
    "start_time": "2023-03-10T19:17:30.836Z"
   },
   {
    "duration": 2292,
    "start_time": "2023-03-10T19:18:57.201Z"
   },
   {
    "duration": 1639,
    "start_time": "2023-03-10T19:19:52.564Z"
   },
   {
    "duration": 1271,
    "start_time": "2023-03-10T19:20:02.014Z"
   },
   {
    "duration": 1288,
    "start_time": "2023-03-10T19:22:00.990Z"
   },
   {
    "duration": 15917,
    "start_time": "2023-03-10T19:22:02.280Z"
   },
   {
    "duration": 9093,
    "start_time": "2023-03-10T19:22:18.199Z"
   },
   {
    "duration": 97,
    "start_time": "2023-03-10T19:22:27.297Z"
   },
   {
    "duration": 775,
    "start_time": "2023-03-10T19:22:27.396Z"
   },
   {
    "duration": 1300,
    "start_time": "2023-03-10T19:22:28.173Z"
   },
   {
    "duration": 5793,
    "start_time": "2023-03-10T19:22:29.475Z"
   },
   {
    "duration": 3523,
    "start_time": "2023-03-10T19:22:35.270Z"
   },
   {
    "duration": 3820,
    "start_time": "2023-03-10T19:22:38.795Z"
   },
   {
    "duration": 4648,
    "start_time": "2023-03-10T19:22:42.620Z"
   },
   {
    "duration": 187,
    "start_time": "2023-03-10T19:22:47.270Z"
   },
   {
    "duration": 4005,
    "start_time": "2023-03-10T19:22:47.459Z"
   },
   {
    "duration": 283,
    "start_time": "2023-03-10T19:22:51.466Z"
   },
   {
    "duration": 44,
    "start_time": "2023-03-10T19:22:51.750Z"
   },
   {
    "duration": 3,
    "start_time": "2023-03-10T19:22:51.796Z"
   },
   {
    "duration": 1778,
    "start_time": "2023-03-10T19:22:51.800Z"
   },
   {
    "duration": 585,
    "start_time": "2023-03-10T19:22:53.580Z"
   },
   {
    "duration": 126,
    "start_time": "2023-03-10T19:22:54.167Z"
   },
   {
    "duration": 99,
    "start_time": "2023-03-10T19:22:54.296Z"
   },
   {
    "duration": 1296,
    "start_time": "2023-03-10T19:22:54.397Z"
   },
   {
    "duration": 73,
    "start_time": "2023-03-10T19:22:55.695Z"
   },
   {
    "duration": 509,
    "start_time": "2023-03-10T19:22:55.770Z"
   },
   {
    "duration": 322,
    "start_time": "2023-03-10T19:22:56.281Z"
   },
   {
    "duration": 295,
    "start_time": "2023-03-10T19:22:56.605Z"
   },
   {
    "duration": 2796,
    "start_time": "2023-03-10T19:22:56.902Z"
   },
   {
    "duration": 1303,
    "start_time": "2023-03-10T19:22:59.700Z"
   },
   {
    "duration": 3410,
    "start_time": "2023-03-10T19:23:01.005Z"
   },
   {
    "duration": 5,
    "start_time": "2023-03-10T19:23:04.419Z"
   },
   {
    "duration": 5,
    "start_time": "2023-03-10T19:23:04.465Z"
   },
   {
    "duration": 2904,
    "start_time": "2023-03-10T19:23:04.472Z"
   },
   {
    "duration": 1125,
    "start_time": "2023-03-10T19:24:51.559Z"
   },
   {
    "duration": 826,
    "start_time": "2023-03-10T19:24:54.282Z"
   },
   {
    "duration": 1784,
    "start_time": "2023-03-10T19:24:56.903Z"
   },
   {
    "duration": 4,
    "start_time": "2023-03-10T19:25:05.498Z"
   },
   {
    "duration": 5,
    "start_time": "2023-03-10T19:25:06.560Z"
   },
   {
    "duration": 622,
    "start_time": "2023-03-10T19:25:11.056Z"
   },
   {
    "duration": 2527,
    "start_time": "2023-03-10T19:26:03.786Z"
   },
   {
    "duration": 4,
    "start_time": "2023-03-10T19:26:10.061Z"
   },
   {
    "duration": 5,
    "start_time": "2023-03-10T19:26:11.468Z"
   },
   {
    "duration": 1611,
    "start_time": "2023-03-10T19:28:21.861Z"
   },
   {
    "duration": 4,
    "start_time": "2023-03-10T19:28:24.634Z"
   },
   {
    "duration": 4,
    "start_time": "2023-03-10T19:28:25.278Z"
   },
   {
    "duration": 425,
    "start_time": "2023-03-10T19:28:26.953Z"
   },
   {
    "duration": 1591,
    "start_time": "2023-03-10T19:31:49.699Z"
   },
   {
    "duration": 993,
    "start_time": "2023-03-10T19:32:49.597Z"
   },
   {
    "duration": 451,
    "start_time": "2023-03-10T19:34:23.535Z"
   },
   {
    "duration": 1165,
    "start_time": "2023-03-10T19:37:24.854Z"
   },
   {
    "duration": 4,
    "start_time": "2023-03-10T19:37:42.224Z"
   },
   {
    "duration": 4,
    "start_time": "2023-03-10T19:38:28.552Z"
   },
   {
    "duration": 472,
    "start_time": "2023-03-10T19:39:18.239Z"
   },
   {
    "duration": 874,
    "start_time": "2023-03-10T19:44:01.054Z"
   },
   {
    "duration": 774,
    "start_time": "2023-03-10T19:44:20.967Z"
   },
   {
    "duration": 422,
    "start_time": "2023-03-10T19:44:50.269Z"
   },
   {
    "duration": 1263,
    "start_time": "2023-03-10T20:01:07.098Z"
   },
   {
    "duration": 15742,
    "start_time": "2023-03-10T20:01:08.363Z"
   },
   {
    "duration": 9170,
    "start_time": "2023-03-10T20:01:24.107Z"
   },
   {
    "duration": 97,
    "start_time": "2023-03-10T20:01:33.280Z"
   },
   {
    "duration": 804,
    "start_time": "2023-03-10T20:01:33.378Z"
   },
   {
    "duration": 1318,
    "start_time": "2023-03-10T20:01:34.184Z"
   },
   {
    "duration": 5293,
    "start_time": "2023-03-10T20:01:35.504Z"
   },
   {
    "duration": 5499,
    "start_time": "2023-03-10T20:01:40.799Z"
   },
   {
    "duration": 273,
    "start_time": "2023-03-10T20:01:46.300Z"
   },
   {
    "duration": 0,
    "start_time": "2023-03-10T20:01:46.576Z"
   },
   {
    "duration": 1,
    "start_time": "2023-03-10T20:01:46.577Z"
   },
   {
    "duration": 0,
    "start_time": "2023-03-10T20:01:46.579Z"
   },
   {
    "duration": 0,
    "start_time": "2023-03-10T20:01:46.580Z"
   },
   {
    "duration": 0,
    "start_time": "2023-03-10T20:01:46.582Z"
   },
   {
    "duration": 0,
    "start_time": "2023-03-10T20:01:46.583Z"
   },
   {
    "duration": 0,
    "start_time": "2023-03-10T20:01:46.585Z"
   },
   {
    "duration": 0,
    "start_time": "2023-03-10T20:01:46.586Z"
   },
   {
    "duration": 0,
    "start_time": "2023-03-10T20:01:46.588Z"
   },
   {
    "duration": 0,
    "start_time": "2023-03-10T20:01:46.589Z"
   },
   {
    "duration": 0,
    "start_time": "2023-03-10T20:01:46.591Z"
   },
   {
    "duration": 0,
    "start_time": "2023-03-10T20:01:46.592Z"
   },
   {
    "duration": 0,
    "start_time": "2023-03-10T20:01:46.593Z"
   },
   {
    "duration": 0,
    "start_time": "2023-03-10T20:01:46.594Z"
   },
   {
    "duration": 0,
    "start_time": "2023-03-10T20:01:46.664Z"
   },
   {
    "duration": 0,
    "start_time": "2023-03-10T20:01:46.666Z"
   },
   {
    "duration": 0,
    "start_time": "2023-03-10T20:01:46.668Z"
   },
   {
    "duration": 0,
    "start_time": "2023-03-10T20:01:46.669Z"
   },
   {
    "duration": 0,
    "start_time": "2023-03-10T20:01:46.671Z"
   },
   {
    "duration": 0,
    "start_time": "2023-03-10T20:01:46.672Z"
   },
   {
    "duration": 0,
    "start_time": "2023-03-10T20:01:46.674Z"
   },
   {
    "duration": 0,
    "start_time": "2023-03-10T20:01:46.675Z"
   },
   {
    "duration": 0,
    "start_time": "2023-03-10T20:01:46.676Z"
   },
   {
    "duration": 0,
    "start_time": "2023-03-10T20:01:46.678Z"
   },
   {
    "duration": 0,
    "start_time": "2023-03-10T20:01:46.679Z"
   },
   {
    "duration": 0,
    "start_time": "2023-03-10T20:01:46.681Z"
   },
   {
    "duration": 0,
    "start_time": "2023-03-10T20:01:46.683Z"
   },
   {
    "duration": 0,
    "start_time": "2023-03-10T20:01:46.684Z"
   },
   {
    "duration": 0,
    "start_time": "2023-03-10T20:01:46.685Z"
   },
   {
    "duration": 0,
    "start_time": "2023-03-10T20:01:46.687Z"
   },
   {
    "duration": 0,
    "start_time": "2023-03-10T20:01:46.689Z"
   },
   {
    "duration": 0,
    "start_time": "2023-03-10T20:01:46.764Z"
   },
   {
    "duration": 0,
    "start_time": "2023-03-10T20:01:46.767Z"
   },
   {
    "duration": 0,
    "start_time": "2023-03-10T20:01:46.769Z"
   },
   {
    "duration": 0,
    "start_time": "2023-03-10T20:01:46.770Z"
   },
   {
    "duration": 2084,
    "start_time": "2023-03-10T20:02:20.325Z"
   },
   {
    "duration": 1152,
    "start_time": "2023-03-10T20:03:26.425Z"
   },
   {
    "duration": 431,
    "start_time": "2023-03-10T20:03:42.556Z"
   },
   {
    "duration": 944,
    "start_time": "2023-03-10T20:03:46.943Z"
   },
   {
    "duration": 2147,
    "start_time": "2023-03-10T20:03:51.848Z"
   },
   {
    "duration": 444,
    "start_time": "2023-03-10T20:06:29.835Z"
   },
   {
    "duration": 1353,
    "start_time": "2023-03-10T20:06:37.432Z"
   },
   {
    "duration": 16323,
    "start_time": "2023-03-10T20:06:38.787Z"
   },
   {
    "duration": 10127,
    "start_time": "2023-03-10T20:06:55.172Z"
   },
   {
    "duration": 97,
    "start_time": "2023-03-10T20:07:05.302Z"
   },
   {
    "duration": 888,
    "start_time": "2023-03-10T20:07:05.401Z"
   },
   {
    "duration": 1679,
    "start_time": "2023-03-10T20:07:06.291Z"
   },
   {
    "duration": 6593,
    "start_time": "2023-03-10T20:07:07.972Z"
   },
   {
    "duration": 5924,
    "start_time": "2023-03-10T20:07:14.567Z"
   },
   {
    "duration": 3001,
    "start_time": "2023-03-10T20:07:20.493Z"
   },
   {
    "duration": 507,
    "start_time": "2023-03-10T20:07:23.497Z"
   },
   {
    "duration": 1202,
    "start_time": "2023-03-10T20:07:24.005Z"
   },
   {
    "duration": 2461,
    "start_time": "2023-03-10T20:07:25.209Z"
   },
   {
    "duration": 4856,
    "start_time": "2023-03-10T20:07:27.672Z"
   },
   {
    "duration": 4175,
    "start_time": "2023-03-10T20:07:32.530Z"
   },
   {
    "duration": 219,
    "start_time": "2023-03-10T20:07:36.707Z"
   },
   {
    "duration": 3569,
    "start_time": "2023-03-10T20:07:36.927Z"
   },
   {
    "duration": 335,
    "start_time": "2023-03-10T20:07:40.498Z"
   },
   {
    "duration": 59,
    "start_time": "2023-03-10T20:07:40.835Z"
   },
   {
    "duration": 3,
    "start_time": "2023-03-10T20:07:40.896Z"
   },
   {
    "duration": 1867,
    "start_time": "2023-03-10T20:07:40.901Z"
   },
   {
    "duration": 447,
    "start_time": "2023-03-10T20:07:42.770Z"
   },
   {
    "duration": 69,
    "start_time": "2023-03-10T20:07:43.218Z"
   },
   {
    "duration": 91,
    "start_time": "2023-03-10T20:07:43.289Z"
   },
   {
    "duration": 1004,
    "start_time": "2023-03-10T20:07:43.385Z"
   },
   {
    "duration": 5,
    "start_time": "2023-03-10T20:07:44.390Z"
   },
   {
    "duration": 585,
    "start_time": "2023-03-10T20:07:44.397Z"
   },
   {
    "duration": 418,
    "start_time": "2023-03-10T20:07:44.985Z"
   },
   {
    "duration": 294,
    "start_time": "2023-03-10T20:07:45.406Z"
   },
   {
    "duration": 2298,
    "start_time": "2023-03-10T20:07:45.703Z"
   },
   {
    "duration": 1271,
    "start_time": "2023-03-10T20:07:48.003Z"
   },
   {
    "duration": 3065,
    "start_time": "2023-03-10T20:07:49.276Z"
   },
   {
    "duration": 5,
    "start_time": "2023-03-10T20:07:52.343Z"
   },
   {
    "duration": 15,
    "start_time": "2023-03-10T20:07:52.350Z"
   },
   {
    "duration": 833,
    "start_time": "2023-03-10T20:07:52.367Z"
   },
   {
    "duration": 1576,
    "start_time": "2023-03-10T20:07:53.201Z"
   },
   {
    "duration": 1285,
    "start_time": "2023-03-10T20:07:54.780Z"
   },
   {
    "duration": 572,
    "start_time": "2023-03-10T20:07:56.067Z"
   },
   {
    "duration": 1599,
    "start_time": "2023-03-10T20:07:56.664Z"
   },
   {
    "duration": 3,
    "start_time": "2023-03-10T20:07:58.265Z"
   },
   {
    "duration": 10,
    "start_time": "2023-03-10T20:07:58.269Z"
   },
   {
    "duration": 487,
    "start_time": "2023-03-10T20:07:58.281Z"
   },
   {
    "duration": 1099,
    "start_time": "2023-03-10T20:07:58.770Z"
   },
   {
    "duration": 816,
    "start_time": "2023-03-10T20:07:59.871Z"
   },
   {
    "duration": 438,
    "start_time": "2023-03-10T20:08:00.690Z"
   },
   {
    "duration": 1356,
    "start_time": "2023-03-10T20:08:21.373Z"
   },
   {
    "duration": 284,
    "start_time": "2023-03-10T20:11:23.933Z"
   },
   {
    "duration": 1323,
    "start_time": "2023-03-10T20:11:44.451Z"
   },
   {
    "duration": 15606,
    "start_time": "2023-03-10T20:11:45.776Z"
   },
   {
    "duration": 10384,
    "start_time": "2023-03-10T20:12:01.385Z"
   },
   {
    "duration": 97,
    "start_time": "2023-03-10T20:12:11.773Z"
   },
   {
    "duration": 816,
    "start_time": "2023-03-10T20:12:11.872Z"
   },
   {
    "duration": 1628,
    "start_time": "2023-03-10T20:12:12.690Z"
   },
   {
    "duration": 5969,
    "start_time": "2023-03-10T20:12:14.321Z"
   },
   {
    "duration": 6485,
    "start_time": "2023-03-10T20:12:20.293Z"
   },
   {
    "duration": 4319,
    "start_time": "2023-03-10T20:12:26.780Z"
   },
   {
    "duration": 1787,
    "start_time": "2023-03-10T20:12:31.102Z"
   },
   {
    "duration": 472,
    "start_time": "2023-03-10T20:12:32.891Z"
   },
   {
    "duration": 1309,
    "start_time": "2023-03-10T20:12:33.366Z"
   },
   {
    "duration": 2501,
    "start_time": "2023-03-10T20:12:34.677Z"
   },
   {
    "duration": 4278,
    "start_time": "2023-03-10T20:12:37.180Z"
   },
   {
    "duration": 4421,
    "start_time": "2023-03-10T20:12:41.460Z"
   },
   {
    "duration": 208,
    "start_time": "2023-03-10T20:12:45.884Z"
   },
   {
    "duration": 4085,
    "start_time": "2023-03-10T20:12:46.094Z"
   },
   {
    "duration": 315,
    "start_time": "2023-03-10T20:12:50.181Z"
   },
   {
    "duration": 88,
    "start_time": "2023-03-10T20:12:50.499Z"
   },
   {
    "duration": 3,
    "start_time": "2023-03-10T20:12:50.589Z"
   },
   {
    "duration": 1947,
    "start_time": "2023-03-10T20:12:50.593Z"
   },
   {
    "duration": 448,
    "start_time": "2023-03-10T20:12:52.566Z"
   },
   {
    "duration": 72,
    "start_time": "2023-03-10T20:12:53.016Z"
   },
   {
    "duration": 99,
    "start_time": "2023-03-10T20:12:53.091Z"
   },
   {
    "duration": 1203,
    "start_time": "2023-03-10T20:12:53.192Z"
   },
   {
    "duration": 6,
    "start_time": "2023-03-10T20:12:54.397Z"
   },
   {
    "duration": 591,
    "start_time": "2023-03-10T20:12:54.405Z"
   },
   {
    "duration": 376,
    "start_time": "2023-03-10T20:12:55.000Z"
   },
   {
    "duration": 336,
    "start_time": "2023-03-10T20:12:55.377Z"
   },
   {
    "duration": 2761,
    "start_time": "2023-03-10T20:12:55.715Z"
   },
   {
    "duration": 1592,
    "start_time": "2023-03-10T20:12:58.479Z"
   },
   {
    "duration": 3630,
    "start_time": "2023-03-10T20:13:00.073Z"
   },
   {
    "duration": 4,
    "start_time": "2023-03-10T20:13:03.705Z"
   },
   {
    "duration": 57,
    "start_time": "2023-03-10T20:13:03.710Z"
   },
   {
    "duration": 1511,
    "start_time": "2023-03-10T20:13:03.769Z"
   },
   {
    "duration": 1695,
    "start_time": "2023-03-10T20:13:05.282Z"
   },
   {
    "duration": 1143,
    "start_time": "2023-03-10T20:13:06.979Z"
   },
   {
    "duration": 614,
    "start_time": "2023-03-10T20:13:08.124Z"
   },
   {
    "duration": 1834,
    "start_time": "2023-03-10T20:13:08.739Z"
   },
   {
    "duration": 6,
    "start_time": "2023-03-10T20:13:10.575Z"
   },
   {
    "duration": 17,
    "start_time": "2023-03-10T20:13:10.584Z"
   },
   {
    "duration": 576,
    "start_time": "2023-03-10T20:13:10.603Z"
   },
   {
    "duration": 1119,
    "start_time": "2023-03-10T20:13:11.181Z"
   },
   {
    "duration": 934,
    "start_time": "2023-03-10T20:13:12.302Z"
   },
   {
    "duration": 472,
    "start_time": "2023-03-10T20:13:13.238Z"
   },
   {
    "duration": 1336,
    "start_time": "2023-03-10T20:25:14.945Z"
   },
   {
    "duration": 16227,
    "start_time": "2023-03-10T20:25:16.283Z"
   },
   {
    "duration": 10732,
    "start_time": "2023-03-10T20:25:32.566Z"
   },
   {
    "duration": 108,
    "start_time": "2023-03-10T20:25:43.366Z"
   },
   {
    "duration": 913,
    "start_time": "2023-03-10T20:25:43.477Z"
   },
   {
    "duration": 1473,
    "start_time": "2023-03-10T20:25:44.392Z"
   },
   {
    "duration": 5909,
    "start_time": "2023-03-10T20:25:45.868Z"
   },
   {
    "duration": 5794,
    "start_time": "2023-03-10T20:25:51.779Z"
   },
   {
    "duration": 3910,
    "start_time": "2023-03-10T20:25:57.575Z"
   },
   {
    "duration": 1509,
    "start_time": "2023-03-10T20:26:01.488Z"
   },
   {
    "duration": 398,
    "start_time": "2023-03-10T20:26:02.999Z"
   },
   {
    "duration": 1268,
    "start_time": "2023-03-10T20:26:03.400Z"
   },
   {
    "duration": 2416,
    "start_time": "2023-03-10T20:26:04.670Z"
   },
   {
    "duration": 4700,
    "start_time": "2023-03-10T20:26:07.090Z"
   },
   {
    "duration": 3976,
    "start_time": "2023-03-10T20:26:11.792Z"
   },
   {
    "duration": 269,
    "start_time": "2023-03-10T20:26:15.770Z"
   },
   {
    "duration": 3636,
    "start_time": "2023-03-10T20:26:16.041Z"
   },
   {
    "duration": 343,
    "start_time": "2023-03-10T20:26:19.679Z"
   },
   {
    "duration": 57,
    "start_time": "2023-03-10T20:26:20.024Z"
   },
   {
    "duration": 4,
    "start_time": "2023-03-10T20:26:20.083Z"
   },
   {
    "duration": 1585,
    "start_time": "2023-03-10T20:26:20.088Z"
   },
   {
    "duration": 394,
    "start_time": "2023-03-10T20:26:21.676Z"
   },
   {
    "duration": 24,
    "start_time": "2023-03-10T20:26:22.072Z"
   },
   {
    "duration": 93,
    "start_time": "2023-03-10T20:26:22.097Z"
   },
   {
    "duration": 973,
    "start_time": "2023-03-10T20:26:22.192Z"
   },
   {
    "duration": 6,
    "start_time": "2023-03-10T20:26:23.168Z"
   },
   {
    "duration": 407,
    "start_time": "2023-03-10T20:26:23.176Z"
   },
   {
    "duration": 480,
    "start_time": "2023-03-10T20:26:23.586Z"
   },
   {
    "duration": 303,
    "start_time": "2023-03-10T20:26:24.068Z"
   },
   {
    "duration": 252,
    "start_time": "2023-03-10T20:26:24.373Z"
   },
   {
    "duration": 0,
    "start_time": "2023-03-10T20:26:24.628Z"
   },
   {
    "duration": 0,
    "start_time": "2023-03-10T20:26:24.630Z"
   },
   {
    "duration": 0,
    "start_time": "2023-03-10T20:26:24.631Z"
   },
   {
    "duration": 0,
    "start_time": "2023-03-10T20:26:24.633Z"
   },
   {
    "duration": 0,
    "start_time": "2023-03-10T20:26:24.634Z"
   },
   {
    "duration": 0,
    "start_time": "2023-03-10T20:26:24.636Z"
   },
   {
    "duration": 0,
    "start_time": "2023-03-10T20:26:24.638Z"
   },
   {
    "duration": 0,
    "start_time": "2023-03-10T20:26:24.640Z"
   },
   {
    "duration": 0,
    "start_time": "2023-03-10T20:26:24.663Z"
   },
   {
    "duration": 0,
    "start_time": "2023-03-10T20:26:24.665Z"
   },
   {
    "duration": 0,
    "start_time": "2023-03-10T20:26:24.667Z"
   },
   {
    "duration": 0,
    "start_time": "2023-03-10T20:26:24.668Z"
   },
   {
    "duration": 0,
    "start_time": "2023-03-10T20:26:24.669Z"
   },
   {
    "duration": 0,
    "start_time": "2023-03-10T20:26:24.671Z"
   },
   {
    "duration": 0,
    "start_time": "2023-03-10T20:26:24.672Z"
   },
   {
    "duration": 2405,
    "start_time": "2023-03-10T20:27:01.578Z"
   },
   {
    "duration": 510,
    "start_time": "2023-03-10T20:38:32.260Z"
   },
   {
    "duration": 5,
    "start_time": "2023-03-10T20:39:21.130Z"
   },
   {
    "duration": 1392,
    "start_time": "2023-03-10T20:39:42.621Z"
   },
   {
    "duration": 17267,
    "start_time": "2023-03-10T20:39:44.019Z"
   },
   {
    "duration": 11502,
    "start_time": "2023-03-10T20:40:01.289Z"
   },
   {
    "duration": 102,
    "start_time": "2023-03-10T20:40:12.793Z"
   },
   {
    "duration": 998,
    "start_time": "2023-03-10T20:40:12.897Z"
   },
   {
    "duration": 1669,
    "start_time": "2023-03-10T20:40:13.898Z"
   },
   {
    "duration": 6726,
    "start_time": "2023-03-10T20:40:15.571Z"
   },
   {
    "duration": 6796,
    "start_time": "2023-03-10T20:40:22.300Z"
   },
   {
    "duration": 4682,
    "start_time": "2023-03-10T20:40:29.098Z"
   },
   {
    "duration": 1917,
    "start_time": "2023-03-10T20:40:33.784Z"
   },
   {
    "duration": 408,
    "start_time": "2023-03-10T20:40:35.704Z"
   },
   {
    "duration": 1092,
    "start_time": "2023-03-10T20:40:36.113Z"
   },
   {
    "duration": 2890,
    "start_time": "2023-03-10T20:40:37.207Z"
   },
   {
    "duration": 4708,
    "start_time": "2023-03-10T20:40:40.100Z"
   },
   {
    "duration": 3893,
    "start_time": "2023-03-10T20:40:44.810Z"
   },
   {
    "duration": 214,
    "start_time": "2023-03-10T20:40:48.768Z"
   },
   {
    "duration": 3384,
    "start_time": "2023-03-10T20:40:48.985Z"
   },
   {
    "duration": 561,
    "start_time": "2023-03-10T20:40:52.372Z"
   },
   {
    "duration": 58,
    "start_time": "2023-03-10T20:40:52.935Z"
   },
   {
    "duration": 4,
    "start_time": "2023-03-10T20:40:52.995Z"
   },
   {
    "duration": 2144,
    "start_time": "2023-03-10T20:40:53.001Z"
   },
   {
    "duration": 538,
    "start_time": "2023-03-10T20:40:55.148Z"
   },
   {
    "duration": 88,
    "start_time": "2023-03-10T20:40:55.688Z"
   },
   {
    "duration": 336,
    "start_time": "2023-03-10T20:40:55.778Z"
   },
   {
    "duration": 59,
    "start_time": "2023-03-10T20:40:56.116Z"
   },
   {
    "duration": 926,
    "start_time": "2023-03-10T20:40:56.177Z"
   },
   {
    "duration": 73,
    "start_time": "2023-03-10T20:40:57.105Z"
   },
   {
    "duration": 503,
    "start_time": "2023-03-10T20:40:57.185Z"
   },
   {
    "duration": 422,
    "start_time": "2023-03-10T20:40:57.690Z"
   },
   {
    "duration": 305,
    "start_time": "2023-03-10T20:40:58.114Z"
   },
   {
    "duration": 3947,
    "start_time": "2023-03-10T20:40:58.421Z"
   },
   {
    "duration": 1434,
    "start_time": "2023-03-10T20:41:02.370Z"
   },
   {
    "duration": 3448,
    "start_time": "2023-03-10T20:41:03.807Z"
   },
   {
    "duration": 12,
    "start_time": "2023-03-10T20:41:07.258Z"
   },
   {
    "duration": 21,
    "start_time": "2023-03-10T20:41:07.272Z"
   },
   {
    "duration": 1087,
    "start_time": "2023-03-10T20:41:07.296Z"
   },
   {
    "duration": 2012,
    "start_time": "2023-03-10T20:41:08.385Z"
   },
   {
    "duration": 1487,
    "start_time": "2023-03-10T20:41:10.399Z"
   },
   {
    "duration": 599,
    "start_time": "2023-03-10T20:41:11.888Z"
   },
   {
    "duration": 1717,
    "start_time": "2023-03-10T20:41:12.489Z"
   },
   {
    "duration": 5,
    "start_time": "2023-03-10T20:41:14.210Z"
   },
   {
    "duration": 11,
    "start_time": "2023-03-10T20:41:14.217Z"
   },
   {
    "duration": 647,
    "start_time": "2023-03-10T20:41:14.230Z"
   },
   {
    "duration": 1099,
    "start_time": "2023-03-10T20:41:14.879Z"
   },
   {
    "duration": 1405,
    "start_time": "2023-03-10T20:41:15.982Z"
   },
   {
    "duration": 1299,
    "start_time": "2023-03-10T20:41:20.101Z"
   },
   {
    "duration": 17802,
    "start_time": "2023-03-10T20:41:21.402Z"
   },
   {
    "duration": 11383,
    "start_time": "2023-03-10T20:41:39.206Z"
   },
   {
    "duration": 102,
    "start_time": "2023-03-10T20:41:50.591Z"
   },
   {
    "duration": 1002,
    "start_time": "2023-03-10T20:41:50.695Z"
   },
   {
    "duration": 1670,
    "start_time": "2023-03-10T20:41:51.700Z"
   },
   {
    "duration": 6691,
    "start_time": "2023-03-10T20:41:53.377Z"
   },
   {
    "duration": 6996,
    "start_time": "2023-03-10T20:42:00.072Z"
   },
   {
    "duration": 4906,
    "start_time": "2023-03-10T20:42:07.077Z"
   },
   {
    "duration": 1899,
    "start_time": "2023-03-10T20:42:11.986Z"
   },
   {
    "duration": 396,
    "start_time": "2023-03-10T20:42:13.888Z"
   },
   {
    "duration": 1219,
    "start_time": "2023-03-10T20:42:14.288Z"
   },
   {
    "duration": 2784,
    "start_time": "2023-03-10T20:42:15.510Z"
   },
   {
    "duration": 4851,
    "start_time": "2023-03-10T20:42:18.299Z"
   },
   {
    "duration": 4447,
    "start_time": "2023-03-10T20:42:23.152Z"
   },
   {
    "duration": 258,
    "start_time": "2023-03-10T20:42:27.601Z"
   },
   {
    "duration": 3702,
    "start_time": "2023-03-10T20:42:27.864Z"
   },
   {
    "duration": 367,
    "start_time": "2023-03-10T20:42:31.575Z"
   },
   {
    "duration": 61,
    "start_time": "2023-03-10T20:42:31.944Z"
   },
   {
    "duration": 4,
    "start_time": "2023-03-10T20:42:32.007Z"
   },
   {
    "duration": 1976,
    "start_time": "2023-03-10T20:42:32.013Z"
   },
   {
    "duration": 599,
    "start_time": "2023-03-10T20:42:33.991Z"
   },
   {
    "duration": 105,
    "start_time": "2023-03-10T20:42:34.592Z"
   },
   {
    "duration": 411,
    "start_time": "2023-03-10T20:42:34.699Z"
   },
   {
    "duration": 36,
    "start_time": "2023-03-10T20:42:35.164Z"
   },
   {
    "duration": 1102,
    "start_time": "2023-03-10T20:42:35.202Z"
   },
   {
    "duration": 15,
    "start_time": "2023-03-10T20:42:36.364Z"
   },
   {
    "duration": 602,
    "start_time": "2023-03-10T20:42:36.382Z"
   },
   {
    "duration": 408,
    "start_time": "2023-03-10T20:42:36.986Z"
   },
   {
    "duration": 0,
    "start_time": "2023-03-10T20:42:37.396Z"
   },
   {
    "duration": 0,
    "start_time": "2023-03-10T20:42:37.398Z"
   },
   {
    "duration": 0,
    "start_time": "2023-03-10T20:42:37.399Z"
   },
   {
    "duration": 0,
    "start_time": "2023-03-10T20:42:37.400Z"
   },
   {
    "duration": 0,
    "start_time": "2023-03-10T20:42:37.401Z"
   },
   {
    "duration": 0,
    "start_time": "2023-03-10T20:42:37.403Z"
   },
   {
    "duration": 0,
    "start_time": "2023-03-10T20:42:37.405Z"
   },
   {
    "duration": 0,
    "start_time": "2023-03-10T20:42:37.406Z"
   },
   {
    "duration": 0,
    "start_time": "2023-03-10T20:42:37.408Z"
   },
   {
    "duration": 0,
    "start_time": "2023-03-10T20:42:37.409Z"
   },
   {
    "duration": 0,
    "start_time": "2023-03-10T20:42:37.410Z"
   },
   {
    "duration": 0,
    "start_time": "2023-03-10T20:42:37.412Z"
   },
   {
    "duration": 0,
    "start_time": "2023-03-10T20:42:37.413Z"
   },
   {
    "duration": 0,
    "start_time": "2023-03-10T20:42:37.417Z"
   },
   {
    "duration": 0,
    "start_time": "2023-03-10T20:42:37.418Z"
   },
   {
    "duration": 0,
    "start_time": "2023-03-10T20:42:37.419Z"
   },
   {
    "duration": 0,
    "start_time": "2023-03-10T20:42:37.421Z"
   },
   {
    "duration": 105,
    "start_time": "2023-03-10T20:43:47.779Z"
   },
   {
    "duration": 1474,
    "start_time": "2023-03-10T20:44:05.386Z"
   },
   {
    "duration": 18027,
    "start_time": "2023-03-10T20:44:06.863Z"
   },
   {
    "duration": 12405,
    "start_time": "2023-03-10T20:44:24.894Z"
   },
   {
    "duration": 111,
    "start_time": "2023-03-10T20:44:37.302Z"
   },
   {
    "duration": 973,
    "start_time": "2023-03-10T20:44:37.416Z"
   },
   {
    "duration": 1785,
    "start_time": "2023-03-10T20:44:38.393Z"
   },
   {
    "duration": 7119,
    "start_time": "2023-03-10T20:44:40.184Z"
   },
   {
    "duration": 7776,
    "start_time": "2023-03-10T20:44:47.306Z"
   },
   {
    "duration": 5493,
    "start_time": "2023-03-10T20:44:55.089Z"
   },
   {
    "duration": 2018,
    "start_time": "2023-03-10T20:45:00.588Z"
   },
   {
    "duration": 504,
    "start_time": "2023-03-10T20:45:02.608Z"
   },
   {
    "duration": 1382,
    "start_time": "2023-03-10T20:45:03.115Z"
   },
   {
    "duration": 3075,
    "start_time": "2023-03-10T20:45:04.500Z"
   },
   {
    "duration": 5240,
    "start_time": "2023-03-10T20:45:07.577Z"
   },
   {
    "duration": 4390,
    "start_time": "2023-03-10T20:45:12.819Z"
   },
   {
    "duration": 234,
    "start_time": "2023-03-10T20:45:17.211Z"
   },
   {
    "duration": 3464,
    "start_time": "2023-03-10T20:45:17.448Z"
   },
   {
    "duration": 414,
    "start_time": "2023-03-10T20:45:20.915Z"
   },
   {
    "duration": 77,
    "start_time": "2023-03-10T20:45:21.332Z"
   },
   {
    "duration": 61,
    "start_time": "2023-03-10T20:45:21.411Z"
   },
   {
    "duration": 2094,
    "start_time": "2023-03-10T20:45:21.477Z"
   },
   {
    "duration": 700,
    "start_time": "2023-03-10T20:45:23.573Z"
   },
   {
    "duration": 90,
    "start_time": "2023-03-10T20:45:24.275Z"
   },
   {
    "duration": 430,
    "start_time": "2023-03-10T20:45:24.368Z"
   },
   {
    "duration": 91,
    "start_time": "2023-03-10T20:45:24.803Z"
   },
   {
    "duration": 1190,
    "start_time": "2023-03-10T20:45:24.896Z"
   },
   {
    "duration": 77,
    "start_time": "2023-03-10T20:45:26.089Z"
   },
   {
    "duration": 501,
    "start_time": "2023-03-10T20:45:26.172Z"
   },
   {
    "duration": 358,
    "start_time": "2023-03-10T20:45:26.677Z"
   },
   {
    "duration": 0,
    "start_time": "2023-03-10T20:45:27.038Z"
   },
   {
    "duration": 0,
    "start_time": "2023-03-10T20:45:27.040Z"
   },
   {
    "duration": 0,
    "start_time": "2023-03-10T20:45:27.042Z"
   },
   {
    "duration": 0,
    "start_time": "2023-03-10T20:45:27.044Z"
   },
   {
    "duration": 0,
    "start_time": "2023-03-10T20:45:27.045Z"
   },
   {
    "duration": 0,
    "start_time": "2023-03-10T20:45:27.047Z"
   },
   {
    "duration": 1,
    "start_time": "2023-03-10T20:45:27.048Z"
   },
   {
    "duration": 0,
    "start_time": "2023-03-10T20:45:27.050Z"
   },
   {
    "duration": 0,
    "start_time": "2023-03-10T20:45:27.051Z"
   },
   {
    "duration": 0,
    "start_time": "2023-03-10T20:45:27.053Z"
   },
   {
    "duration": 0,
    "start_time": "2023-03-10T20:45:27.055Z"
   },
   {
    "duration": 0,
    "start_time": "2023-03-10T20:45:27.057Z"
   },
   {
    "duration": 0,
    "start_time": "2023-03-10T20:45:27.059Z"
   },
   {
    "duration": 0,
    "start_time": "2023-03-10T20:45:27.060Z"
   },
   {
    "duration": 0,
    "start_time": "2023-03-10T20:45:27.061Z"
   },
   {
    "duration": 0,
    "start_time": "2023-03-10T20:45:27.063Z"
   },
   {
    "duration": 0,
    "start_time": "2023-03-10T20:45:27.064Z"
   },
   {
    "duration": 299,
    "start_time": "2023-03-10T20:45:31.306Z"
   },
   {
    "duration": 165,
    "start_time": "2023-03-10T20:45:41.104Z"
   },
   {
    "duration": 2779,
    "start_time": "2023-03-10T20:47:01.012Z"
   },
   {
    "duration": 1340,
    "start_time": "2023-03-10T20:47:18.652Z"
   },
   {
    "duration": 1247,
    "start_time": "2023-03-10T20:47:23.219Z"
   },
   {
    "duration": 880,
    "start_time": "2023-03-10T20:47:47.838Z"
   },
   {
    "duration": 1403,
    "start_time": "2023-03-10T20:48:09.000Z"
   },
   {
    "duration": 962,
    "start_time": "2023-03-10T20:48:14.146Z"
   },
   {
    "duration": 1333,
    "start_time": "2023-03-10T20:53:46.913Z"
   },
   {
    "duration": 18759,
    "start_time": "2023-03-10T20:53:48.248Z"
   },
   {
    "duration": 12498,
    "start_time": "2023-03-10T20:54:07.011Z"
   },
   {
    "duration": 94,
    "start_time": "2023-03-10T20:54:19.511Z"
   },
   {
    "duration": 897,
    "start_time": "2023-03-10T20:54:19.607Z"
   },
   {
    "duration": 1671,
    "start_time": "2023-03-10T20:54:20.506Z"
   },
   {
    "duration": 7294,
    "start_time": "2023-03-10T20:54:22.183Z"
   },
   {
    "duration": 7209,
    "start_time": "2023-03-10T20:54:29.478Z"
   },
   {
    "duration": 5504,
    "start_time": "2023-03-10T20:54:36.690Z"
   },
   {
    "duration": 1929,
    "start_time": "2023-03-10T20:54:42.201Z"
   },
   {
    "duration": 402,
    "start_time": "2023-03-10T20:54:44.164Z"
   },
   {
    "duration": 1322,
    "start_time": "2023-03-10T20:54:44.568Z"
   },
   {
    "duration": 2794,
    "start_time": "2023-03-10T20:54:45.892Z"
   },
   {
    "duration": 5592,
    "start_time": "2023-03-10T20:54:48.689Z"
   },
   {
    "duration": 4405,
    "start_time": "2023-03-10T20:54:54.283Z"
   },
   {
    "duration": 209,
    "start_time": "2023-03-10T20:54:58.691Z"
   },
   {
    "duration": 3874,
    "start_time": "2023-03-10T20:54:58.902Z"
   },
   {
    "duration": 370,
    "start_time": "2023-03-10T20:55:02.778Z"
   },
   {
    "duration": 56,
    "start_time": "2023-03-10T20:55:03.150Z"
   },
   {
    "duration": 3,
    "start_time": "2023-03-10T20:55:03.265Z"
   },
   {
    "duration": 1871,
    "start_time": "2023-03-10T20:55:03.271Z"
   },
   {
    "duration": 566,
    "start_time": "2023-03-10T20:55:05.144Z"
   },
   {
    "duration": 157,
    "start_time": "2023-03-10T20:55:05.712Z"
   },
   {
    "duration": 408,
    "start_time": "2023-03-10T20:55:05.872Z"
   },
   {
    "duration": 90,
    "start_time": "2023-03-10T20:55:06.283Z"
   },
   {
    "duration": 1102,
    "start_time": "2023-03-10T20:55:06.375Z"
   },
   {
    "duration": 15,
    "start_time": "2023-03-10T20:55:07.480Z"
   },
   {
    "duration": 564,
    "start_time": "2023-03-10T20:55:07.500Z"
   },
   {
    "duration": 3,
    "start_time": "2023-03-10T20:55:08.067Z"
   },
   {
    "duration": 8,
    "start_time": "2023-03-10T20:55:08.072Z"
   },
   {
    "duration": 3294,
    "start_time": "2023-03-10T20:55:08.082Z"
   },
   {
    "duration": 2,
    "start_time": "2023-03-10T20:55:11.378Z"
   },
   {
    "duration": 6,
    "start_time": "2023-03-10T20:55:11.383Z"
   },
   {
    "duration": 4257,
    "start_time": "2023-03-10T20:55:11.392Z"
   },
   {
    "duration": 0,
    "start_time": "2023-03-10T20:55:15.664Z"
   },
   {
    "duration": 0,
    "start_time": "2023-03-10T20:55:15.665Z"
   },
   {
    "duration": 0,
    "start_time": "2023-03-10T20:55:15.667Z"
   },
   {
    "duration": 0,
    "start_time": "2023-03-10T20:55:15.668Z"
   },
   {
    "duration": 0,
    "start_time": "2023-03-10T20:55:15.670Z"
   },
   {
    "duration": 0,
    "start_time": "2023-03-10T20:55:15.671Z"
   },
   {
    "duration": 0,
    "start_time": "2023-03-10T20:55:15.673Z"
   },
   {
    "duration": 0,
    "start_time": "2023-03-10T20:55:15.674Z"
   },
   {
    "duration": 0,
    "start_time": "2023-03-10T20:55:15.675Z"
   },
   {
    "duration": 0,
    "start_time": "2023-03-10T20:55:15.677Z"
   },
   {
    "duration": 0,
    "start_time": "2023-03-10T20:55:15.678Z"
   },
   {
    "duration": 0,
    "start_time": "2023-03-10T20:55:15.680Z"
   },
   {
    "duration": 0,
    "start_time": "2023-03-10T20:55:15.681Z"
   },
   {
    "duration": 0,
    "start_time": "2023-03-10T20:55:15.683Z"
   },
   {
    "duration": 1328,
    "start_time": "2023-03-10T20:56:13.721Z"
   },
   {
    "duration": 16546,
    "start_time": "2023-03-10T20:56:15.051Z"
   },
   {
    "duration": 11077,
    "start_time": "2023-03-10T20:56:31.599Z"
   },
   {
    "duration": 99,
    "start_time": "2023-03-10T20:56:42.679Z"
   },
   {
    "duration": 1006,
    "start_time": "2023-03-10T20:56:42.780Z"
   },
   {
    "duration": 1395,
    "start_time": "2023-03-10T20:56:43.788Z"
   },
   {
    "duration": 6678,
    "start_time": "2023-03-10T20:56:45.186Z"
   },
   {
    "duration": 6741,
    "start_time": "2023-03-10T20:56:51.867Z"
   },
   {
    "duration": 5273,
    "start_time": "2023-03-10T20:56:58.610Z"
   },
   {
    "duration": 2028,
    "start_time": "2023-03-10T20:57:03.885Z"
   },
   {
    "duration": 477,
    "start_time": "2023-03-10T20:57:05.916Z"
   },
   {
    "duration": 1387,
    "start_time": "2023-03-10T20:57:06.395Z"
   },
   {
    "duration": 3091,
    "start_time": "2023-03-10T20:57:07.784Z"
   },
   {
    "duration": 5453,
    "start_time": "2023-03-10T20:57:10.878Z"
   },
   {
    "duration": 4351,
    "start_time": "2023-03-10T20:57:16.334Z"
   },
   {
    "duration": 254,
    "start_time": "2023-03-10T20:57:20.687Z"
   },
   {
    "duration": 4037,
    "start_time": "2023-03-10T20:57:20.944Z"
   },
   {
    "duration": 517,
    "start_time": "2023-03-10T20:57:24.983Z"
   },
   {
    "duration": 80,
    "start_time": "2023-03-10T20:57:25.504Z"
   },
   {
    "duration": 4,
    "start_time": "2023-03-10T20:57:25.587Z"
   },
   {
    "duration": 1954,
    "start_time": "2023-03-10T20:57:25.593Z"
   },
   {
    "duration": 517,
    "start_time": "2023-03-10T20:57:27.565Z"
   },
   {
    "duration": 89,
    "start_time": "2023-03-10T20:57:28.084Z"
   },
   {
    "duration": 423,
    "start_time": "2023-03-10T20:57:28.175Z"
   },
   {
    "duration": 91,
    "start_time": "2023-03-10T20:57:28.601Z"
   },
   {
    "duration": 1078,
    "start_time": "2023-03-10T20:57:28.695Z"
   },
   {
    "duration": 12,
    "start_time": "2023-03-10T20:57:29.776Z"
   },
   {
    "duration": 576,
    "start_time": "2023-03-10T20:57:29.794Z"
   },
   {
    "duration": 3,
    "start_time": "2023-03-10T20:57:30.372Z"
   },
   {
    "duration": 88,
    "start_time": "2023-03-10T20:57:30.377Z"
   },
   {
    "duration": 3317,
    "start_time": "2023-03-10T20:57:30.467Z"
   },
   {
    "duration": 5,
    "start_time": "2023-03-10T20:57:33.786Z"
   },
   {
    "duration": 23,
    "start_time": "2023-03-10T20:57:33.794Z"
   },
   {
    "duration": 12373,
    "start_time": "2023-03-10T20:57:33.820Z"
   },
   {
    "duration": 72,
    "start_time": "2023-03-10T20:57:46.195Z"
   },
   {
    "duration": 8,
    "start_time": "2023-03-10T20:57:46.269Z"
   },
   {
    "duration": 7,
    "start_time": "2023-03-10T20:57:46.281Z"
   },
   {
    "duration": 34,
    "start_time": "2023-03-10T20:57:46.290Z"
   },
   {
    "duration": 40,
    "start_time": "2023-03-10T20:57:46.326Z"
   },
   {
    "duration": 9,
    "start_time": "2023-03-10T20:57:46.368Z"
   },
   {
    "duration": 8,
    "start_time": "2023-03-10T20:57:46.380Z"
   },
   {
    "duration": 5,
    "start_time": "2023-03-10T20:57:46.390Z"
   },
   {
    "duration": 7,
    "start_time": "2023-03-10T20:57:46.397Z"
   },
   {
    "duration": 6,
    "start_time": "2023-03-10T20:57:46.406Z"
   },
   {
    "duration": 8,
    "start_time": "2023-03-10T20:57:46.413Z"
   },
   {
    "duration": 7,
    "start_time": "2023-03-10T20:57:46.424Z"
   },
   {
    "duration": 7,
    "start_time": "2023-03-10T20:57:46.434Z"
   },
   {
    "duration": 21,
    "start_time": "2023-03-10T20:57:46.443Z"
   },
   {
    "duration": 22,
    "start_time": "2023-03-10T20:57:46.466Z"
   },
   {
    "duration": 1506,
    "start_time": "2023-03-10T20:59:37.049Z"
   },
   {
    "duration": 17244,
    "start_time": "2023-03-10T20:59:38.557Z"
   },
   {
    "duration": 11670,
    "start_time": "2023-03-10T20:59:55.803Z"
   },
   {
    "duration": 108,
    "start_time": "2023-03-10T21:00:07.476Z"
   },
   {
    "duration": 800,
    "start_time": "2023-03-10T21:00:07.590Z"
   },
   {
    "duration": 1597,
    "start_time": "2023-03-10T21:00:08.393Z"
   },
   {
    "duration": 6679,
    "start_time": "2023-03-10T21:00:09.992Z"
   },
   {
    "duration": 6835,
    "start_time": "2023-03-10T21:00:16.673Z"
   },
   {
    "duration": 5162,
    "start_time": "2023-03-10T21:00:23.510Z"
   },
   {
    "duration": 2104,
    "start_time": "2023-03-10T21:00:28.676Z"
   },
   {
    "duration": 583,
    "start_time": "2023-03-10T21:00:30.787Z"
   },
   {
    "duration": 1318,
    "start_time": "2023-03-10T21:00:31.372Z"
   },
   {
    "duration": 2977,
    "start_time": "2023-03-10T21:00:32.692Z"
   },
   {
    "duration": 5128,
    "start_time": "2023-03-10T21:00:35.671Z"
   },
   {
    "duration": 4590,
    "start_time": "2023-03-10T21:00:40.801Z"
   },
   {
    "duration": 264,
    "start_time": "2023-03-10T21:00:45.393Z"
   },
   {
    "duration": 3529,
    "start_time": "2023-03-10T21:00:45.667Z"
   },
   {
    "duration": 391,
    "start_time": "2023-03-10T21:00:49.198Z"
   },
   {
    "duration": 97,
    "start_time": "2023-03-10T21:00:49.591Z"
   },
   {
    "duration": 3,
    "start_time": "2023-03-10T21:00:49.690Z"
   },
   {
    "duration": 1745,
    "start_time": "2023-03-10T21:00:49.695Z"
   },
   {
    "duration": 429,
    "start_time": "2023-03-10T21:00:51.442Z"
   },
   {
    "duration": 28,
    "start_time": "2023-03-10T21:00:51.872Z"
   },
   {
    "duration": 391,
    "start_time": "2023-03-10T21:00:51.902Z"
   },
   {
    "duration": 98,
    "start_time": "2023-03-10T21:00:52.295Z"
   },
   {
    "duration": 1099,
    "start_time": "2023-03-10T21:00:52.396Z"
   },
   {
    "duration": 81,
    "start_time": "2023-03-10T21:00:53.497Z"
   },
   {
    "duration": 497,
    "start_time": "2023-03-10T21:00:53.585Z"
   },
   {
    "duration": 400,
    "start_time": "2023-03-10T21:00:54.084Z"
   },
   {
    "duration": 340,
    "start_time": "2023-03-10T21:00:54.486Z"
   },
   {
    "duration": 2810,
    "start_time": "2023-03-10T21:00:54.864Z"
   },
   {
    "duration": 1506,
    "start_time": "2023-03-10T21:00:57.676Z"
   },
   {
    "duration": 368,
    "start_time": "2023-03-10T21:00:59.184Z"
   },
   {
    "duration": 0,
    "start_time": "2023-03-10T21:00:59.554Z"
   },
   {
    "duration": 0,
    "start_time": "2023-03-10T21:00:59.555Z"
   },
   {
    "duration": 0,
    "start_time": "2023-03-10T21:00:59.557Z"
   },
   {
    "duration": 0,
    "start_time": "2023-03-10T21:00:59.558Z"
   },
   {
    "duration": 0,
    "start_time": "2023-03-10T21:00:59.560Z"
   },
   {
    "duration": 0,
    "start_time": "2023-03-10T21:00:59.561Z"
   },
   {
    "duration": 0,
    "start_time": "2023-03-10T21:00:59.566Z"
   },
   {
    "duration": 0,
    "start_time": "2023-03-10T21:00:59.568Z"
   },
   {
    "duration": 0,
    "start_time": "2023-03-10T21:00:59.569Z"
   },
   {
    "duration": 0,
    "start_time": "2023-03-10T21:00:59.570Z"
   },
   {
    "duration": 1,
    "start_time": "2023-03-10T21:00:59.571Z"
   },
   {
    "duration": 0,
    "start_time": "2023-03-10T21:00:59.573Z"
   },
   {
    "duration": 0,
    "start_time": "2023-03-10T21:00:59.578Z"
   },
   {
    "duration": 0,
    "start_time": "2023-03-10T21:00:59.579Z"
   },
   {
    "duration": 0,
    "start_time": "2023-03-10T21:00:59.580Z"
   },
   {
    "duration": 0,
    "start_time": "2023-03-10T21:00:59.589Z"
   },
   {
    "duration": 3253,
    "start_time": "2023-03-10T21:01:27.375Z"
   },
   {
    "duration": 5,
    "start_time": "2023-03-10T21:01:33.729Z"
   },
   {
    "duration": 8,
    "start_time": "2023-03-10T21:01:35.961Z"
   },
   {
    "duration": 886,
    "start_time": "2023-03-10T21:02:09.828Z"
   },
   {
    "duration": 214,
    "start_time": "2023-03-10T21:02:25.248Z"
   },
   {
    "duration": 2075,
    "start_time": "2023-03-10T21:02:36.699Z"
   },
   {
    "duration": 1795,
    "start_time": "2023-03-10T21:02:46.881Z"
   },
   {
    "duration": 858,
    "start_time": "2023-03-10T21:02:50.916Z"
   },
   {
    "duration": 1661,
    "start_time": "2023-03-10T21:05:58.807Z"
   },
   {
    "duration": 5,
    "start_time": "2023-03-10T21:06:01.930Z"
   },
   {
    "duration": 5,
    "start_time": "2023-03-10T21:06:03.245Z"
   },
   {
    "duration": 666,
    "start_time": "2023-03-10T21:06:53.938Z"
   },
   {
    "duration": 975,
    "start_time": "2023-03-10T21:08:09.927Z"
   },
   {
    "duration": 775,
    "start_time": "2023-03-10T21:08:12.940Z"
   },
   {
    "duration": 452,
    "start_time": "2023-03-10T21:08:14.348Z"
   },
   {
    "duration": 1539,
    "start_time": "2023-03-10T21:08:45.923Z"
   },
   {
    "duration": 7987,
    "start_time": "2023-03-10T21:09:01.393Z"
   },
   {
    "duration": 18,
    "start_time": "2023-03-10T21:09:09.382Z"
   },
   {
    "duration": 1622,
    "start_time": "2023-03-10T21:21:50.662Z"
   },
   {
    "duration": 534,
    "start_time": "2023-03-10T21:21:55.379Z"
   },
   {
    "duration": 1339,
    "start_time": "2023-03-10T21:22:29.114Z"
   },
   {
    "duration": 383,
    "start_time": "2023-03-10T21:22:32.127Z"
   },
   {
    "duration": 430,
    "start_time": "2023-03-10T21:22:33.985Z"
   },
   {
    "duration": 5429,
    "start_time": "2023-03-10T21:23:28.993Z"
   },
   {
    "duration": 11,
    "start_time": "2023-03-10T21:23:41.107Z"
   },
   {
    "duration": 1293,
    "start_time": "2023-03-10T21:25:38.623Z"
   },
   {
    "duration": 5283,
    "start_time": "2023-03-10T21:25:41.319Z"
   },
   {
    "duration": 9,
    "start_time": "2023-03-10T21:25:46.604Z"
   },
   {
    "duration": 1331,
    "start_time": "2023-03-10T21:40:45.254Z"
   },
   {
    "duration": 16798,
    "start_time": "2023-03-10T21:40:46.587Z"
   },
   {
    "duration": 11010,
    "start_time": "2023-03-10T21:41:03.387Z"
   },
   {
    "duration": 94,
    "start_time": "2023-03-10T21:41:14.399Z"
   },
   {
    "duration": 897,
    "start_time": "2023-03-10T21:41:14.495Z"
   },
   {
    "duration": 1671,
    "start_time": "2023-03-10T21:41:15.394Z"
   },
   {
    "duration": 6114,
    "start_time": "2023-03-10T21:41:17.073Z"
   },
   {
    "duration": 6403,
    "start_time": "2023-03-10T21:41:23.189Z"
   },
   {
    "duration": 4592,
    "start_time": "2023-03-10T21:41:29.594Z"
   },
   {
    "duration": 1909,
    "start_time": "2023-03-10T21:41:34.191Z"
   },
   {
    "duration": 485,
    "start_time": "2023-03-10T21:41:36.101Z"
   },
   {
    "duration": 1490,
    "start_time": "2023-03-10T21:41:36.588Z"
   },
   {
    "duration": 2412,
    "start_time": "2023-03-10T21:41:38.080Z"
   },
   {
    "duration": 4573,
    "start_time": "2023-03-10T21:41:40.495Z"
   },
   {
    "duration": 3704,
    "start_time": "2023-03-10T21:41:45.070Z"
   },
   {
    "duration": 183,
    "start_time": "2023-03-10T21:41:48.778Z"
   },
   {
    "duration": 3210,
    "start_time": "2023-03-10T21:41:48.964Z"
   },
   {
    "duration": 516,
    "start_time": "2023-03-10T21:41:52.179Z"
   },
   {
    "duration": 99,
    "start_time": "2023-03-10T21:41:52.697Z"
   },
   {
    "duration": 67,
    "start_time": "2023-03-10T21:41:52.798Z"
   },
   {
    "duration": 1812,
    "start_time": "2023-03-10T21:41:52.873Z"
   },
   {
    "duration": 516,
    "start_time": "2023-03-10T21:41:54.687Z"
   },
   {
    "duration": 79,
    "start_time": "2023-03-10T21:41:55.206Z"
   },
   {
    "duration": 321,
    "start_time": "2023-03-10T21:41:55.288Z"
   },
   {
    "duration": 77,
    "start_time": "2023-03-10T21:41:55.611Z"
   },
   {
    "duration": 1012,
    "start_time": "2023-03-10T21:41:55.690Z"
   },
   {
    "duration": 79,
    "start_time": "2023-03-10T21:41:56.704Z"
   },
   {
    "duration": 389,
    "start_time": "2023-03-10T21:41:56.793Z"
   },
   {
    "duration": 381,
    "start_time": "2023-03-10T21:41:57.184Z"
   },
   {
    "duration": 307,
    "start_time": "2023-03-10T21:41:57.566Z"
   },
   {
    "duration": 2794,
    "start_time": "2023-03-10T21:41:57.875Z"
   },
   {
    "duration": 1294,
    "start_time": "2023-03-10T21:42:00.677Z"
   },
   {
    "duration": 3125,
    "start_time": "2023-03-10T21:42:01.974Z"
   },
   {
    "duration": 6,
    "start_time": "2023-03-10T21:42:05.101Z"
   },
   {
    "duration": 58,
    "start_time": "2023-03-10T21:42:05.109Z"
   },
   {
    "duration": 1102,
    "start_time": "2023-03-10T21:42:05.169Z"
   },
   {
    "duration": 2309,
    "start_time": "2023-03-10T21:42:06.273Z"
   },
   {
    "duration": 819,
    "start_time": "2023-03-10T21:42:08.584Z"
   },
   {
    "duration": 593,
    "start_time": "2023-03-10T21:42:09.405Z"
   },
   {
    "duration": 1787,
    "start_time": "2023-03-10T21:42:10.000Z"
   },
   {
    "duration": 4,
    "start_time": "2023-03-10T21:42:11.788Z"
   },
   {
    "duration": 13,
    "start_time": "2023-03-10T21:42:11.793Z"
   },
   {
    "duration": 563,
    "start_time": "2023-03-10T21:42:11.808Z"
   },
   {
    "duration": 1360,
    "start_time": "2023-03-10T21:42:12.374Z"
   },
   {
    "duration": 677,
    "start_time": "2023-03-10T21:42:13.736Z"
   },
   {
    "duration": 552,
    "start_time": "2023-03-10T21:42:14.415Z"
   },
   {
    "duration": 2231,
    "start_time": "2023-03-10T21:42:14.969Z"
   },
   {
    "duration": 8489,
    "start_time": "2023-03-10T21:42:17.203Z"
   },
   {
    "duration": 9,
    "start_time": "2023-03-10T21:42:25.694Z"
   },
   {
    "duration": 1616,
    "start_time": "2023-03-11T19:50:00.489Z"
   },
   {
    "duration": 20539,
    "start_time": "2023-03-11T19:50:02.107Z"
   },
   {
    "duration": 10500,
    "start_time": "2023-03-11T19:50:22.648Z"
   },
   {
    "duration": 100,
    "start_time": "2023-03-11T19:50:33.150Z"
   },
   {
    "duration": 789,
    "start_time": "2023-03-11T19:50:33.252Z"
   },
   {
    "duration": 1306,
    "start_time": "2023-03-11T19:50:34.043Z"
   },
   {
    "duration": 6111,
    "start_time": "2023-03-11T19:50:35.351Z"
   },
   {
    "duration": 5886,
    "start_time": "2023-03-11T19:50:41.464Z"
   },
   {
    "duration": 4477,
    "start_time": "2023-03-11T19:50:47.352Z"
   },
   {
    "duration": 1532,
    "start_time": "2023-03-11T19:50:51.834Z"
   },
   {
    "duration": 479,
    "start_time": "2023-03-11T19:50:53.368Z"
   },
   {
    "duration": 1014,
    "start_time": "2023-03-11T19:50:53.849Z"
   },
   {
    "duration": 2388,
    "start_time": "2023-03-11T19:50:54.865Z"
   },
   {
    "duration": 6839,
    "start_time": "2023-03-11T19:50:57.255Z"
   },
   {
    "duration": 3948,
    "start_time": "2023-03-11T19:51:04.096Z"
   },
   {
    "duration": 229,
    "start_time": "2023-03-11T19:51:08.046Z"
   },
   {
    "duration": 4050,
    "start_time": "2023-03-11T19:51:08.277Z"
   },
   {
    "duration": 373,
    "start_time": "2023-03-11T19:51:12.333Z"
   },
   {
    "duration": 66,
    "start_time": "2023-03-11T19:51:12.708Z"
   },
   {
    "duration": 4,
    "start_time": "2023-03-11T19:51:12.776Z"
   },
   {
    "duration": 1598,
    "start_time": "2023-03-11T19:51:12.827Z"
   },
   {
    "duration": 438,
    "start_time": "2023-03-11T19:51:14.427Z"
   },
   {
    "duration": 74,
    "start_time": "2023-03-11T19:51:14.868Z"
   },
   {
    "duration": 301,
    "start_time": "2023-03-11T19:51:14.944Z"
   },
   {
    "duration": 84,
    "start_time": "2023-03-11T19:51:15.247Z"
   },
   {
    "duration": 894,
    "start_time": "2023-03-11T19:51:15.333Z"
   },
   {
    "duration": 16,
    "start_time": "2023-03-11T19:51:16.228Z"
   },
   {
    "duration": 424,
    "start_time": "2023-03-11T19:51:16.248Z"
   },
   {
    "duration": 322,
    "start_time": "2023-03-11T19:51:16.674Z"
   },
   {
    "duration": 250,
    "start_time": "2023-03-11T19:51:17.024Z"
   },
   {
    "duration": 2565,
    "start_time": "2023-03-11T19:51:17.276Z"
   },
   {
    "duration": 1304,
    "start_time": "2023-03-11T19:51:19.843Z"
   },
   {
    "duration": 3100,
    "start_time": "2023-03-11T19:51:21.149Z"
   },
   {
    "duration": 5,
    "start_time": "2023-03-11T19:51:24.251Z"
   },
   {
    "duration": 9,
    "start_time": "2023-03-11T19:51:24.258Z"
   },
   {
    "duration": 873,
    "start_time": "2023-03-11T19:51:24.269Z"
   },
   {
    "duration": 2101,
    "start_time": "2023-03-11T19:51:25.147Z"
   },
   {
    "duration": 834,
    "start_time": "2023-03-11T19:51:27.250Z"
   },
   {
    "duration": 573,
    "start_time": "2023-03-11T19:51:28.086Z"
   },
   {
    "duration": 1479,
    "start_time": "2023-03-11T19:51:28.660Z"
   },
   {
    "duration": 3,
    "start_time": "2023-03-11T19:51:30.141Z"
   },
   {
    "duration": 22,
    "start_time": "2023-03-11T19:51:30.146Z"
   },
   {
    "duration": 516,
    "start_time": "2023-03-11T19:51:30.171Z"
   },
   {
    "duration": 1269,
    "start_time": "2023-03-11T19:51:30.689Z"
   },
   {
    "duration": 470,
    "start_time": "2023-03-11T19:51:31.960Z"
   },
   {
    "duration": 337,
    "start_time": "2023-03-11T19:51:32.434Z"
   },
   {
    "duration": 1973,
    "start_time": "2023-03-11T19:51:32.773Z"
   },
   {
    "duration": 8304,
    "start_time": "2023-03-11T19:51:34.748Z"
   },
   {
    "duration": 88,
    "start_time": "2023-03-11T19:51:43.054Z"
   },
   {
    "duration": 1347,
    "start_time": "2023-03-12T18:38:17.633Z"
   },
   {
    "duration": 15918,
    "start_time": "2023-03-12T18:38:18.982Z"
   },
   {
    "duration": 9066,
    "start_time": "2023-03-12T18:38:34.902Z"
   },
   {
    "duration": 108,
    "start_time": "2023-03-12T18:38:43.970Z"
   },
   {
    "duration": 668,
    "start_time": "2023-03-12T18:38:44.080Z"
   },
   {
    "duration": 1404,
    "start_time": "2023-03-12T18:38:44.749Z"
   },
   {
    "duration": 5633,
    "start_time": "2023-03-12T18:38:46.155Z"
   },
   {
    "duration": 5611,
    "start_time": "2023-03-12T18:38:51.834Z"
   },
   {
    "duration": 4700,
    "start_time": "2023-03-12T18:38:57.447Z"
   },
   {
    "duration": 1702,
    "start_time": "2023-03-12T18:39:02.153Z"
   },
   {
    "duration": 411,
    "start_time": "2023-03-12T18:39:03.858Z"
   },
   {
    "duration": 1305,
    "start_time": "2023-03-12T18:39:04.271Z"
   },
   {
    "duration": 2267,
    "start_time": "2023-03-12T18:39:05.578Z"
   },
   {
    "duration": 5798,
    "start_time": "2023-03-12T18:39:07.847Z"
   },
   {
    "duration": 2993,
    "start_time": "2023-03-12T18:39:13.650Z"
   },
   {
    "duration": 172,
    "start_time": "2023-03-12T18:39:16.645Z"
   },
   {
    "duration": 2342,
    "start_time": "2023-03-12T18:39:16.819Z"
   },
   {
    "duration": 340,
    "start_time": "2023-03-12T18:39:19.163Z"
   },
   {
    "duration": 48,
    "start_time": "2023-03-12T18:39:19.504Z"
   },
   {
    "duration": 3,
    "start_time": "2023-03-12T18:39:19.554Z"
   },
   {
    "duration": 1184,
    "start_time": "2023-03-12T18:39:19.559Z"
   },
   {
    "duration": 399,
    "start_time": "2023-03-12T18:39:20.745Z"
   },
   {
    "duration": 19,
    "start_time": "2023-03-12T18:39:21.146Z"
   },
   {
    "duration": 223,
    "start_time": "2023-03-12T18:39:21.234Z"
   },
   {
    "duration": 81,
    "start_time": "2023-03-12T18:39:21.458Z"
   },
   {
    "duration": 921,
    "start_time": "2023-03-12T18:39:21.541Z"
   },
   {
    "duration": 70,
    "start_time": "2023-03-12T18:39:22.465Z"
   },
   {
    "duration": 423,
    "start_time": "2023-03-12T18:39:22.539Z"
   },
   {
    "duration": 308,
    "start_time": "2023-03-12T18:39:22.964Z"
   },
   {
    "duration": 260,
    "start_time": "2023-03-12T18:39:23.274Z"
   },
   {
    "duration": 2806,
    "start_time": "2023-03-12T18:39:23.536Z"
   },
   {
    "duration": 1124,
    "start_time": "2023-03-12T18:39:26.343Z"
   },
   {
    "duration": 2692,
    "start_time": "2023-03-12T18:39:27.469Z"
   },
   {
    "duration": 3,
    "start_time": "2023-03-12T18:39:30.163Z"
   },
   {
    "duration": 16,
    "start_time": "2023-03-12T18:39:30.168Z"
   },
   {
    "duration": 949,
    "start_time": "2023-03-12T18:39:30.185Z"
   },
   {
    "duration": 1947,
    "start_time": "2023-03-12T18:39:31.136Z"
   },
   {
    "duration": 659,
    "start_time": "2023-03-12T18:39:33.084Z"
   },
   {
    "duration": 536,
    "start_time": "2023-03-12T18:39:33.746Z"
   },
   {
    "duration": 1449,
    "start_time": "2023-03-12T18:39:34.284Z"
   },
   {
    "duration": 7,
    "start_time": "2023-03-12T18:39:35.735Z"
   },
   {
    "duration": 24,
    "start_time": "2023-03-12T18:39:35.744Z"
   },
   {
    "duration": 665,
    "start_time": "2023-03-12T18:39:35.769Z"
   },
   {
    "duration": 1308,
    "start_time": "2023-03-12T18:39:36.436Z"
   },
   {
    "duration": 437,
    "start_time": "2023-03-12T18:39:37.745Z"
   },
   {
    "duration": 401,
    "start_time": "2023-03-12T18:39:38.183Z"
   },
   {
    "duration": 1378,
    "start_time": "2023-03-12T18:39:38.586Z"
   },
   {
    "duration": 7067,
    "start_time": "2023-03-12T18:39:39.966Z"
   },
   {
    "duration": 11,
    "start_time": "2023-03-12T18:39:47.035Z"
   },
   {
    "duration": 5328,
    "start_time": "2023-03-12T18:40:05.010Z"
   },
   {
    "duration": 11,
    "start_time": "2023-03-12T18:40:10.346Z"
   },
   {
    "duration": 4587,
    "start_time": "2023-03-12T18:40:23.249Z"
   },
   {
    "duration": 8,
    "start_time": "2023-03-12T18:40:27.838Z"
   },
   {
    "duration": 5,
    "start_time": "2023-03-12T18:41:47.270Z"
   },
   {
    "duration": 1340,
    "start_time": "2023-03-12T18:41:56.174Z"
   },
   {
    "duration": 813,
    "start_time": "2023-03-12T18:42:14.871Z"
   },
   {
    "duration": 1037,
    "start_time": "2023-03-12T18:43:30.616Z"
   },
   {
    "duration": 1039,
    "start_time": "2023-03-12T18:46:59.600Z"
   },
   {
    "duration": 578,
    "start_time": "2023-03-12T18:47:16.462Z"
   },
   {
    "duration": 718,
    "start_time": "2023-03-12T18:47:23.870Z"
   },
   {
    "duration": 645,
    "start_time": "2023-03-12T18:47:33.612Z"
   },
   {
    "duration": 729,
    "start_time": "2023-03-12T18:48:11.078Z"
   },
   {
    "duration": 658,
    "start_time": "2023-03-12T18:48:21.442Z"
   },
   {
    "duration": 699,
    "start_time": "2023-03-12T18:48:27.641Z"
   },
   {
    "duration": 534,
    "start_time": "2023-03-12T18:48:32.720Z"
   },
   {
    "duration": 1468,
    "start_time": "2023-03-12T18:50:05.414Z"
   },
   {
    "duration": 842,
    "start_time": "2023-03-12T18:50:10.470Z"
   },
   {
    "duration": 812,
    "start_time": "2023-03-12T18:50:14.384Z"
   },
   {
    "duration": 487,
    "start_time": "2023-03-12T18:51:50.108Z"
   },
   {
    "duration": 406,
    "start_time": "2023-03-12T18:52:17.927Z"
   },
   {
    "duration": 477,
    "start_time": "2023-03-12T18:52:27.391Z"
   },
   {
    "duration": 833,
    "start_time": "2023-03-12T18:57:49.942Z"
   },
   {
    "duration": 475,
    "start_time": "2023-03-12T18:57:55.728Z"
   },
   {
    "duration": 1162,
    "start_time": "2023-03-12T18:59:04.414Z"
   },
   {
    "duration": 14397,
    "start_time": "2023-03-12T18:59:05.578Z"
   },
   {
    "duration": 7574,
    "start_time": "2023-03-12T18:59:19.977Z"
   },
   {
    "duration": 91,
    "start_time": "2023-03-12T18:59:27.553Z"
   },
   {
    "duration": 690,
    "start_time": "2023-03-12T18:59:27.647Z"
   },
   {
    "duration": 1049,
    "start_time": "2023-03-12T18:59:28.339Z"
   },
   {
    "duration": 4471,
    "start_time": "2023-03-12T18:59:29.391Z"
   },
   {
    "duration": 4492,
    "start_time": "2023-03-12T18:59:33.864Z"
   },
   {
    "duration": 3595,
    "start_time": "2023-03-12T18:59:38.358Z"
   },
   {
    "duration": 1311,
    "start_time": "2023-03-12T18:59:41.955Z"
   },
   {
    "duration": 389,
    "start_time": "2023-03-12T18:59:43.267Z"
   },
   {
    "duration": 1013,
    "start_time": "2023-03-12T18:59:43.658Z"
   },
   {
    "duration": 2297,
    "start_time": "2023-03-12T18:59:44.672Z"
   },
   {
    "duration": 3403,
    "start_time": "2023-03-12T18:59:46.971Z"
   },
   {
    "duration": 2769,
    "start_time": "2023-03-12T18:59:50.376Z"
   },
   {
    "duration": 168,
    "start_time": "2023-03-12T18:59:53.147Z"
   },
   {
    "duration": 2437,
    "start_time": "2023-03-12T18:59:53.317Z"
   },
   {
    "duration": 302,
    "start_time": "2023-03-12T18:59:55.756Z"
   },
   {
    "duration": 83,
    "start_time": "2023-03-12T18:59:56.060Z"
   },
   {
    "duration": 2,
    "start_time": "2023-03-12T18:59:56.145Z"
   },
   {
    "duration": 1302,
    "start_time": "2023-03-12T18:59:56.149Z"
   },
   {
    "duration": 386,
    "start_time": "2023-03-12T18:59:57.453Z"
   },
   {
    "duration": 20,
    "start_time": "2023-03-12T18:59:57.840Z"
   },
   {
    "duration": 370,
    "start_time": "2023-03-12T18:59:57.863Z"
   },
   {
    "duration": 20,
    "start_time": "2023-03-12T18:59:58.235Z"
   },
   {
    "duration": 789,
    "start_time": "2023-03-12T18:59:58.257Z"
   },
   {
    "duration": 8,
    "start_time": "2023-03-12T18:59:59.047Z"
   },
   {
    "duration": 403,
    "start_time": "2023-03-12T18:59:59.058Z"
   },
   {
    "duration": 274,
    "start_time": "2023-03-12T18:59:59.463Z"
   },
   {
    "duration": 199,
    "start_time": "2023-03-12T18:59:59.739Z"
   },
   {
    "duration": 2198,
    "start_time": "2023-03-12T18:59:59.940Z"
   },
   {
    "duration": 938,
    "start_time": "2023-03-12T19:00:02.139Z"
   },
   {
    "duration": 3004,
    "start_time": "2023-03-12T19:00:03.134Z"
   },
   {
    "duration": 4,
    "start_time": "2023-03-12T19:00:06.140Z"
   },
   {
    "duration": 9,
    "start_time": "2023-03-12T19:00:06.145Z"
   },
   {
    "duration": 710,
    "start_time": "2023-03-12T19:00:06.155Z"
   },
   {
    "duration": 2205,
    "start_time": "2023-03-12T19:00:06.867Z"
   },
   {
    "duration": 562,
    "start_time": "2023-03-12T19:00:09.134Z"
   },
   {
    "duration": 457,
    "start_time": "2023-03-12T19:00:09.697Z"
   },
   {
    "duration": 1314,
    "start_time": "2023-03-12T19:00:10.156Z"
   },
   {
    "duration": 3,
    "start_time": "2023-03-12T19:00:11.471Z"
   },
   {
    "duration": 6,
    "start_time": "2023-03-12T19:00:11.476Z"
   },
   {
    "duration": 468,
    "start_time": "2023-03-12T19:00:11.483Z"
   },
   {
    "duration": 1220,
    "start_time": "2023-03-12T19:00:11.953Z"
   },
   {
    "duration": 393,
    "start_time": "2023-03-12T19:00:13.177Z"
   },
   {
    "duration": 403,
    "start_time": "2023-03-12T19:00:13.572Z"
   },
   {
    "duration": 1202,
    "start_time": "2023-03-12T19:00:13.977Z"
   },
   {
    "duration": 6656,
    "start_time": "2023-03-12T19:00:15.181Z"
   },
   {
    "duration": 9,
    "start_time": "2023-03-12T19:00:21.838Z"
   },
   {
    "duration": 591,
    "start_time": "2023-03-12T19:00:21.848Z"
   },
   {
    "duration": 376,
    "start_time": "2023-03-12T19:00:22.440Z"
   },
   {
    "duration": 514,
    "start_time": "2023-03-12T19:00:22.818Z"
   },
   {
    "duration": 478,
    "start_time": "2023-03-12T19:06:26.688Z"
   },
   {
    "duration": 346,
    "start_time": "2023-03-12T19:06:33.991Z"
   }
  ],
  "colab": {
   "name": "PySparkSprint.ipynb",
   "provenance": []
  },
  "kernelspec": {
   "display_name": "Python 3 (ipykernel)",
   "language": "python",
   "name": "python3"
  },
  "language_info": {
   "codemirror_mode": {
    "name": "ipython",
    "version": 3
   },
   "file_extension": ".py",
   "mimetype": "text/x-python",
   "name": "python",
   "nbconvert_exporter": "python",
   "pygments_lexer": "ipython3",
   "version": "3.9.5"
  },
  "toc": {
   "base_numbering": 1,
   "nav_menu": {},
   "number_sections": true,
   "sideBar": true,
   "skip_h1_title": true,
   "title_cell": "Содержание",
   "title_sidebar": "Contents",
   "toc_cell": true,
   "toc_position": {
    "height": "calc(100% - 180px)",
    "left": "10px",
    "top": "150px",
    "width": "342.246px"
   },
   "toc_section_display": true,
   "toc_window_display": true
  }
 },
 "nbformat": 4,
 "nbformat_minor": 5
}
