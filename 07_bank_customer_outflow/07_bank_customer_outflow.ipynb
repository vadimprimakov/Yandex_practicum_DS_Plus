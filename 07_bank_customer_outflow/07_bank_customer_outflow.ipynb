{
 "cells": [
  {
   "cell_type": "markdown",
   "metadata": {
    "toc": true
   },
   "source": [
    "<h1>Содержание<span class=\"tocSkip\"></span></h1>\n",
    "<div class=\"toc\"><ul class=\"toc-item\"><li><span><a href=\"#Подготовка-данных\" data-toc-modified-id=\"Подготовка-данных-1\"><span class=\"toc-item-num\">1&nbsp;&nbsp;</span>Подготовка данных</a></span><ul class=\"toc-item\"><li><span><a href=\"#Изучение-данных\" data-toc-modified-id=\"Изучение-данных-1.1\"><span class=\"toc-item-num\">1.1&nbsp;&nbsp;</span>Изучение данных</a></span></li><li><span><a href=\"#Предобработка-данных\" data-toc-modified-id=\"Предобработка-данных-1.2\"><span class=\"toc-item-num\">1.2&nbsp;&nbsp;</span>Предобработка данных</a></span></li><li><span><a href=\"#Формирование-выборок\" data-toc-modified-id=\"Формирование-выборок-1.3\"><span class=\"toc-item-num\">1.3&nbsp;&nbsp;</span>Формирование выборок</a></span></li><li><span><a href=\"#Масштабирование-признаков\" data-toc-modified-id=\"Масштабирование-признаков-1.4\"><span class=\"toc-item-num\">1.4&nbsp;&nbsp;</span>Масштабирование признаков</a></span></li></ul></li><li><span><a href=\"#Исследование-задачи\" data-toc-modified-id=\"Исследование-задачи-2\"><span class=\"toc-item-num\">2&nbsp;&nbsp;</span>Исследование задачи</a></span><ul class=\"toc-item\"><li><span><a href=\"#Точность-моделей\" data-toc-modified-id=\"Точность-моделей-2.1\"><span class=\"toc-item-num\">2.1&nbsp;&nbsp;</span>Точность моделей</a></span></li><li><span><a href=\"#Проверка-баланса-классов-выборки\" data-toc-modified-id=\"Проверка-баланса-классов-выборки-2.2\"><span class=\"toc-item-num\">2.2&nbsp;&nbsp;</span>Проверка баланса классов выборки</a></span></li><li><span><a href=\"#Изучение-модели-без-учета-дисбаланса\" data-toc-modified-id=\"Изучение-модели-без-учета-дисбаланса-2.3\"><span class=\"toc-item-num\">2.3&nbsp;&nbsp;</span>Изучение модели без учета дисбаланса</a></span><ul class=\"toc-item\"><li><span><a href=\"#Проверка-Decision-Tree\" data-toc-modified-id=\"Проверка-Decision-Tree-2.3.1\"><span class=\"toc-item-num\">2.3.1&nbsp;&nbsp;</span>Проверка Decision Tree</a></span></li><li><span><a href=\"#Проверка-Random-Forest\" data-toc-modified-id=\"Проверка-Random-Forest-2.3.2\"><span class=\"toc-item-num\">2.3.2&nbsp;&nbsp;</span>Проверка Random Forest</a></span></li><li><span><a href=\"#Проверка-Logistic-Regression\" data-toc-modified-id=\"Проверка-Logistic-Regression-2.3.3\"><span class=\"toc-item-num\">2.3.3&nbsp;&nbsp;</span>Проверка Logistic Regression</a></span></li></ul></li></ul></li><li><span><a href=\"#Борьба-с-дисбалансом\" data-toc-modified-id=\"Борьба-с-дисбалансом-3\"><span class=\"toc-item-num\">3&nbsp;&nbsp;</span>Борьба с дисбалансом</a></span><ul class=\"toc-item\"><li><span><a href=\"#Балансировка-классов\" data-toc-modified-id=\"Балансировка-классов-3.1\"><span class=\"toc-item-num\">3.1&nbsp;&nbsp;</span>Балансировка классов</a></span><ul class=\"toc-item\"><li><span><a href=\"#Проверка-Decision-Tree\" data-toc-modified-id=\"Проверка-Decision-Tree-3.1.1\"><span class=\"toc-item-num\">3.1.1&nbsp;&nbsp;</span>Проверка Decision Tree</a></span></li><li><span><a href=\"#Проверка-Random-Forest\" data-toc-modified-id=\"Проверка-Random-Forest-3.1.2\"><span class=\"toc-item-num\">3.1.2&nbsp;&nbsp;</span>Проверка Random Forest</a></span></li><li><span><a href=\"#Проверка-Logistic-Regression\" data-toc-modified-id=\"Проверка-Logistic-Regression-3.1.3\"><span class=\"toc-item-num\">3.1.3&nbsp;&nbsp;</span>Проверка Logistic Regression</a></span></li></ul></li><li><span><a href=\"#Upsampling\" data-toc-modified-id=\"Upsampling-3.2\"><span class=\"toc-item-num\">3.2&nbsp;&nbsp;</span>Upsampling</a></span><ul class=\"toc-item\"><li><span><a href=\"#Проверка-Decision-Tree\" data-toc-modified-id=\"Проверка-Decision-Tree-3.2.1\"><span class=\"toc-item-num\">3.2.1&nbsp;&nbsp;</span>Проверка Decision Tree</a></span></li><li><span><a href=\"#Проверка-Random-Forest\" data-toc-modified-id=\"Проверка-Random-Forest-3.2.2\"><span class=\"toc-item-num\">3.2.2&nbsp;&nbsp;</span>Проверка Random Forest</a></span></li><li><span><a href=\"#Проверка-Logistic-Regression\" data-toc-modified-id=\"Проверка-Logistic-Regression-3.2.3\"><span class=\"toc-item-num\">3.2.3&nbsp;&nbsp;</span>Проверка Logistic Regression</a></span></li></ul></li><li><span><a href=\"#Downsampling\" data-toc-modified-id=\"Downsampling-3.3\"><span class=\"toc-item-num\">3.3&nbsp;&nbsp;</span>Downsampling</a></span><ul class=\"toc-item\"><li><span><a href=\"#Проверка-Decision-Tree\" data-toc-modified-id=\"Проверка-Decision-Tree-3.3.1\"><span class=\"toc-item-num\">3.3.1&nbsp;&nbsp;</span>Проверка Decision Tree</a></span></li><li><span><a href=\"#Проверка-Random-Forest\" data-toc-modified-id=\"Проверка-Random-Forest-3.3.2\"><span class=\"toc-item-num\">3.3.2&nbsp;&nbsp;</span>Проверка Random Forest</a></span></li><li><span><a href=\"#Проверка-Logistic-Regression\" data-toc-modified-id=\"Проверка-Logistic-Regression-3.3.3\"><span class=\"toc-item-num\">3.3.3&nbsp;&nbsp;</span>Проверка Logistic Regression</a></span></li></ul></li></ul></li><li><span><a href=\"#Тестирование-модели\" data-toc-modified-id=\"Тестирование-модели-4\"><span class=\"toc-item-num\">4&nbsp;&nbsp;</span>Тестирование модели</a></span></li><li><span><a href=\"#Чек-лист-готовности-проекта\" data-toc-modified-id=\"Чек-лист-готовности-проекта-5\"><span class=\"toc-item-num\">5&nbsp;&nbsp;</span>Чек-лист готовности проекта</a></span></li><li><span><a href=\"#Финальные-комментарии-ревьюера\" data-toc-modified-id=\"Финальные-комментарии-ревьюера-6\"><span class=\"toc-item-num\">6&nbsp;&nbsp;</span>Финальные комментарии ревьюера</a></span></li></ul></div>"
   ]
  },
  {
   "cell_type": "markdown",
   "metadata": {},
   "source": [
    "# Отток клиентов"
   ]
  },
  {
   "cell_type": "markdown",
   "metadata": {},
   "source": [
    "Из «Бета-Банка» стали уходить клиенты. Каждый месяц. Немного, но заметно. Банковские маркетологи посчитали: сохранять текущих клиентов дешевле, чем привлекать новых.\n",
    "\n",
    "Нужно спрогнозировать, уйдёт клиент из банка в ближайшее время или нет. Вам предоставлены исторические данные о поведении клиентов и расторжении договоров с банком. \n",
    "\n",
    "Постройте модель с предельно большим значением *F1*-меры. Чтобы сдать проект успешно, нужно довести метрику до 0.59. Проверьте *F1*-меру на тестовой выборке самостоятельно.\n",
    "\n",
    "Дополнительно измеряйте *AUC-ROC*, сравнивайте её значение с *F1*-мерой.\n",
    "\n",
    "Источник данных: [https://www.kaggle.com/barelydedicated/bank-customer-churn-modeling](https://www.kaggle.com/barelydedicated/bank-customer-churn-modeling)\n",
    "\n",
    "**Признаки**\n",
    "- RowNumber — индекс строки в данных\n",
    "- CustomerId — уникальный идентификатор клиента\n",
    "- Surname — фамилия\n",
    "- CreditScore — кредитный рейтинг\n",
    "- Geography — страна проживания\n",
    "- Gender — пол\n",
    "- Age — возраст\n",
    "- Tenure — сколько лет человек является клиентом банка\n",
    "- Balance — баланс на счёте\n",
    "- NumOfProducts — количество продуктов банка, используемых клиентом\n",
    "- HasCrCard — наличие кредитной карты\n",
    "- IsActiveMember — активность клиента\n",
    "- EstimatedSalary — предполагаемая зарплата\n",
    "\n",
    "**Целевой признак**\n",
    "- Exited — факт ухода клиента"
   ]
  },
  {
   "cell_type": "markdown",
   "metadata": {},
   "source": [
    "## Подготовка данных"
   ]
  },
  {
   "cell_type": "markdown",
   "metadata": {},
   "source": [
    "### Изучение данных"
   ]
  },
  {
   "cell_type": "code",
   "execution_count": 1,
   "metadata": {},
   "outputs": [],
   "source": [
    "#блок загрузки библиотек\n",
    "import pandas as pd\n",
    "import numpy as np\n",
    "import matplotlib.pyplot as plt\n",
    "pd.options.display.float_format = '{:.2f}'.format\n",
    "pd.options.mode.chained_assignment = None\n",
    "from sklearn.model_selection import train_test_split\n",
    "from sklearn.preprocessing import StandardScaler\n",
    "from sklearn.tree import DecisionTreeClassifier\n",
    "from sklearn.ensemble import RandomForestClassifier\n",
    "from sklearn.linear_model import LogisticRegression\n",
    "from sklearn.metrics import accuracy_score\n",
    "from sklearn.metrics import confusion_matrix\n",
    "from sklearn.metrics import recall_score\n",
    "from sklearn.metrics import precision_score\n",
    "from sklearn.metrics import f1_score\n",
    "from sklearn.metrics import roc_auc_score\n",
    "from sklearn.metrics import roc_curve\n",
    "from sklearn.utils import shuffle\n",
    "from sklearn.dummy import DummyClassifier  "
   ]
  },
  {
   "cell_type": "code",
   "execution_count": 2,
   "metadata": {
    "scrolled": true
   },
   "outputs": [
    {
     "data": {
      "text/html": [
       "<div>\n",
       "<style scoped>\n",
       "    .dataframe tbody tr th:only-of-type {\n",
       "        vertical-align: middle;\n",
       "    }\n",
       "\n",
       "    .dataframe tbody tr th {\n",
       "        vertical-align: top;\n",
       "    }\n",
       "\n",
       "    .dataframe thead th {\n",
       "        text-align: right;\n",
       "    }\n",
       "</style>\n",
       "<table border=\"1\" class=\"dataframe\">\n",
       "  <thead>\n",
       "    <tr style=\"text-align: right;\">\n",
       "      <th></th>\n",
       "      <th>RowNumber</th>\n",
       "      <th>CustomerId</th>\n",
       "      <th>Surname</th>\n",
       "      <th>CreditScore</th>\n",
       "      <th>Geography</th>\n",
       "      <th>Gender</th>\n",
       "      <th>Age</th>\n",
       "      <th>Tenure</th>\n",
       "      <th>Balance</th>\n",
       "      <th>NumOfProducts</th>\n",
       "      <th>HasCrCard</th>\n",
       "      <th>IsActiveMember</th>\n",
       "      <th>EstimatedSalary</th>\n",
       "      <th>Exited</th>\n",
       "    </tr>\n",
       "  </thead>\n",
       "  <tbody>\n",
       "    <tr>\n",
       "      <th>0</th>\n",
       "      <td>1</td>\n",
       "      <td>15634602</td>\n",
       "      <td>Hargrave</td>\n",
       "      <td>619</td>\n",
       "      <td>France</td>\n",
       "      <td>Female</td>\n",
       "      <td>42</td>\n",
       "      <td>2.00</td>\n",
       "      <td>0.00</td>\n",
       "      <td>1</td>\n",
       "      <td>1</td>\n",
       "      <td>1</td>\n",
       "      <td>101348.88</td>\n",
       "      <td>1</td>\n",
       "    </tr>\n",
       "    <tr>\n",
       "      <th>1</th>\n",
       "      <td>2</td>\n",
       "      <td>15647311</td>\n",
       "      <td>Hill</td>\n",
       "      <td>608</td>\n",
       "      <td>Spain</td>\n",
       "      <td>Female</td>\n",
       "      <td>41</td>\n",
       "      <td>1.00</td>\n",
       "      <td>83807.86</td>\n",
       "      <td>1</td>\n",
       "      <td>0</td>\n",
       "      <td>1</td>\n",
       "      <td>112542.58</td>\n",
       "      <td>0</td>\n",
       "    </tr>\n",
       "    <tr>\n",
       "      <th>2</th>\n",
       "      <td>3</td>\n",
       "      <td>15619304</td>\n",
       "      <td>Onio</td>\n",
       "      <td>502</td>\n",
       "      <td>France</td>\n",
       "      <td>Female</td>\n",
       "      <td>42</td>\n",
       "      <td>8.00</td>\n",
       "      <td>159660.80</td>\n",
       "      <td>3</td>\n",
       "      <td>1</td>\n",
       "      <td>0</td>\n",
       "      <td>113931.57</td>\n",
       "      <td>1</td>\n",
       "    </tr>\n",
       "    <tr>\n",
       "      <th>3</th>\n",
       "      <td>4</td>\n",
       "      <td>15701354</td>\n",
       "      <td>Boni</td>\n",
       "      <td>699</td>\n",
       "      <td>France</td>\n",
       "      <td>Female</td>\n",
       "      <td>39</td>\n",
       "      <td>1.00</td>\n",
       "      <td>0.00</td>\n",
       "      <td>2</td>\n",
       "      <td>0</td>\n",
       "      <td>0</td>\n",
       "      <td>93826.63</td>\n",
       "      <td>0</td>\n",
       "    </tr>\n",
       "    <tr>\n",
       "      <th>4</th>\n",
       "      <td>5</td>\n",
       "      <td>15737888</td>\n",
       "      <td>Mitchell</td>\n",
       "      <td>850</td>\n",
       "      <td>Spain</td>\n",
       "      <td>Female</td>\n",
       "      <td>43</td>\n",
       "      <td>2.00</td>\n",
       "      <td>125510.82</td>\n",
       "      <td>1</td>\n",
       "      <td>1</td>\n",
       "      <td>1</td>\n",
       "      <td>79084.10</td>\n",
       "      <td>0</td>\n",
       "    </tr>\n",
       "  </tbody>\n",
       "</table>\n",
       "</div>"
      ],
      "text/plain": [
       "   RowNumber  CustomerId   Surname  CreditScore Geography  Gender  Age  \\\n",
       "0          1    15634602  Hargrave          619    France  Female   42   \n",
       "1          2    15647311      Hill          608     Spain  Female   41   \n",
       "2          3    15619304      Onio          502    France  Female   42   \n",
       "3          4    15701354      Boni          699    France  Female   39   \n",
       "4          5    15737888  Mitchell          850     Spain  Female   43   \n",
       "\n",
       "   Tenure   Balance  NumOfProducts  HasCrCard  IsActiveMember  \\\n",
       "0    2.00      0.00              1          1               1   \n",
       "1    1.00  83807.86              1          0               1   \n",
       "2    8.00 159660.80              3          1               0   \n",
       "3    1.00      0.00              2          0               0   \n",
       "4    2.00 125510.82              1          1               1   \n",
       "\n",
       "   EstimatedSalary  Exited  \n",
       "0        101348.88       1  \n",
       "1        112542.58       0  \n",
       "2        113931.57       1  \n",
       "3         93826.63       0  \n",
       "4         79084.10       0  "
      ]
     },
     "metadata": {},
     "output_type": "display_data"
    }
   ],
   "source": [
    "# код загрузки датасета\n",
    "\n",
    "try:\n",
    "    data = pd.read_csv('/datasets/Churn.csv')\n",
    "except:\n",
    "    data = pd.read_csv('/Users/vadimprimakov/Documents/Yandex_practicum/CSV/07_Churn.csv')\n",
    "    \n",
    "display(data.head()) "
   ]
  },
  {
   "cell_type": "markdown",
   "metadata": {},
   "source": [
    "Целевой признак - Exited — факт ухода клиента является категориальным, значит перед нами задача классификации."
   ]
  },
  {
   "cell_type": "code",
   "execution_count": 3,
   "metadata": {
    "scrolled": true
   },
   "outputs": [
    {
     "data": {
      "text/plain": [
       "(10000, 14)"
      ]
     },
     "execution_count": 3,
     "metadata": {},
     "output_type": "execute_result"
    }
   ],
   "source": [
    "data.shape "
   ]
  },
  {
   "cell_type": "code",
   "execution_count": 4,
   "metadata": {
    "scrolled": false
   },
   "outputs": [
    {
     "name": "stdout",
     "output_type": "stream",
     "text": [
      "<class 'pandas.core.frame.DataFrame'>\n",
      "RangeIndex: 10000 entries, 0 to 9999\n",
      "Data columns (total 14 columns):\n",
      " #   Column           Non-Null Count  Dtype  \n",
      "---  ------           --------------  -----  \n",
      " 0   RowNumber        10000 non-null  int64  \n",
      " 1   CustomerId       10000 non-null  int64  \n",
      " 2   Surname          10000 non-null  object \n",
      " 3   CreditScore      10000 non-null  int64  \n",
      " 4   Geography        10000 non-null  object \n",
      " 5   Gender           10000 non-null  object \n",
      " 6   Age              10000 non-null  int64  \n",
      " 7   Tenure           9091 non-null   float64\n",
      " 8   Balance          10000 non-null  float64\n",
      " 9   NumOfProducts    10000 non-null  int64  \n",
      " 10  HasCrCard        10000 non-null  int64  \n",
      " 11  IsActiveMember   10000 non-null  int64  \n",
      " 12  EstimatedSalary  10000 non-null  float64\n",
      " 13  Exited           10000 non-null  int64  \n",
      "dtypes: float64(3), int64(8), object(3)\n",
      "memory usage: 1.1+ MB\n"
     ]
    }
   ],
   "source": [
    "data.info()"
   ]
  },
  {
   "cell_type": "code",
   "execution_count": 5,
   "metadata": {
    "scrolled": false
   },
   "outputs": [
    {
     "data": {
      "text/html": [
       "<div>\n",
       "<style scoped>\n",
       "    .dataframe tbody tr th:only-of-type {\n",
       "        vertical-align: middle;\n",
       "    }\n",
       "\n",
       "    .dataframe tbody tr th {\n",
       "        vertical-align: top;\n",
       "    }\n",
       "\n",
       "    .dataframe thead th {\n",
       "        text-align: right;\n",
       "    }\n",
       "</style>\n",
       "<table border=\"1\" class=\"dataframe\">\n",
       "  <thead>\n",
       "    <tr style=\"text-align: right;\">\n",
       "      <th></th>\n",
       "      <th>RowNumber</th>\n",
       "      <th>CustomerId</th>\n",
       "      <th>CreditScore</th>\n",
       "      <th>Age</th>\n",
       "      <th>Tenure</th>\n",
       "      <th>Balance</th>\n",
       "      <th>NumOfProducts</th>\n",
       "      <th>HasCrCard</th>\n",
       "      <th>IsActiveMember</th>\n",
       "      <th>EstimatedSalary</th>\n",
       "      <th>Exited</th>\n",
       "    </tr>\n",
       "  </thead>\n",
       "  <tbody>\n",
       "    <tr>\n",
       "      <th>count</th>\n",
       "      <td>10000.00</td>\n",
       "      <td>10000.00</td>\n",
       "      <td>10000.00</td>\n",
       "      <td>10000.00</td>\n",
       "      <td>9091.00</td>\n",
       "      <td>10000.00</td>\n",
       "      <td>10000.00</td>\n",
       "      <td>10000.00</td>\n",
       "      <td>10000.00</td>\n",
       "      <td>10000.00</td>\n",
       "      <td>10000.00</td>\n",
       "    </tr>\n",
       "    <tr>\n",
       "      <th>mean</th>\n",
       "      <td>5000.50</td>\n",
       "      <td>15690940.57</td>\n",
       "      <td>650.53</td>\n",
       "      <td>38.92</td>\n",
       "      <td>5.00</td>\n",
       "      <td>76485.89</td>\n",
       "      <td>1.53</td>\n",
       "      <td>0.71</td>\n",
       "      <td>0.52</td>\n",
       "      <td>100090.24</td>\n",
       "      <td>0.20</td>\n",
       "    </tr>\n",
       "    <tr>\n",
       "      <th>std</th>\n",
       "      <td>2886.90</td>\n",
       "      <td>71936.19</td>\n",
       "      <td>96.65</td>\n",
       "      <td>10.49</td>\n",
       "      <td>2.89</td>\n",
       "      <td>62397.41</td>\n",
       "      <td>0.58</td>\n",
       "      <td>0.46</td>\n",
       "      <td>0.50</td>\n",
       "      <td>57510.49</td>\n",
       "      <td>0.40</td>\n",
       "    </tr>\n",
       "    <tr>\n",
       "      <th>min</th>\n",
       "      <td>1.00</td>\n",
       "      <td>15565701.00</td>\n",
       "      <td>350.00</td>\n",
       "      <td>18.00</td>\n",
       "      <td>0.00</td>\n",
       "      <td>0.00</td>\n",
       "      <td>1.00</td>\n",
       "      <td>0.00</td>\n",
       "      <td>0.00</td>\n",
       "      <td>11.58</td>\n",
       "      <td>0.00</td>\n",
       "    </tr>\n",
       "    <tr>\n",
       "      <th>25%</th>\n",
       "      <td>2500.75</td>\n",
       "      <td>15628528.25</td>\n",
       "      <td>584.00</td>\n",
       "      <td>32.00</td>\n",
       "      <td>2.00</td>\n",
       "      <td>0.00</td>\n",
       "      <td>1.00</td>\n",
       "      <td>0.00</td>\n",
       "      <td>0.00</td>\n",
       "      <td>51002.11</td>\n",
       "      <td>0.00</td>\n",
       "    </tr>\n",
       "    <tr>\n",
       "      <th>50%</th>\n",
       "      <td>5000.50</td>\n",
       "      <td>15690738.00</td>\n",
       "      <td>652.00</td>\n",
       "      <td>37.00</td>\n",
       "      <td>5.00</td>\n",
       "      <td>97198.54</td>\n",
       "      <td>1.00</td>\n",
       "      <td>1.00</td>\n",
       "      <td>1.00</td>\n",
       "      <td>100193.91</td>\n",
       "      <td>0.00</td>\n",
       "    </tr>\n",
       "    <tr>\n",
       "      <th>75%</th>\n",
       "      <td>7500.25</td>\n",
       "      <td>15753233.75</td>\n",
       "      <td>718.00</td>\n",
       "      <td>44.00</td>\n",
       "      <td>7.00</td>\n",
       "      <td>127644.24</td>\n",
       "      <td>2.00</td>\n",
       "      <td>1.00</td>\n",
       "      <td>1.00</td>\n",
       "      <td>149388.25</td>\n",
       "      <td>0.00</td>\n",
       "    </tr>\n",
       "    <tr>\n",
       "      <th>max</th>\n",
       "      <td>10000.00</td>\n",
       "      <td>15815690.00</td>\n",
       "      <td>850.00</td>\n",
       "      <td>92.00</td>\n",
       "      <td>10.00</td>\n",
       "      <td>250898.09</td>\n",
       "      <td>4.00</td>\n",
       "      <td>1.00</td>\n",
       "      <td>1.00</td>\n",
       "      <td>199992.48</td>\n",
       "      <td>1.00</td>\n",
       "    </tr>\n",
       "  </tbody>\n",
       "</table>\n",
       "</div>"
      ],
      "text/plain": [
       "       RowNumber  CustomerId  CreditScore      Age  Tenure   Balance  \\\n",
       "count   10000.00    10000.00     10000.00 10000.00 9091.00  10000.00   \n",
       "mean     5000.50 15690940.57       650.53    38.92    5.00  76485.89   \n",
       "std      2886.90    71936.19        96.65    10.49    2.89  62397.41   \n",
       "min         1.00 15565701.00       350.00    18.00    0.00      0.00   \n",
       "25%      2500.75 15628528.25       584.00    32.00    2.00      0.00   \n",
       "50%      5000.50 15690738.00       652.00    37.00    5.00  97198.54   \n",
       "75%      7500.25 15753233.75       718.00    44.00    7.00 127644.24   \n",
       "max     10000.00 15815690.00       850.00    92.00   10.00 250898.09   \n",
       "\n",
       "       NumOfProducts  HasCrCard  IsActiveMember  EstimatedSalary   Exited  \n",
       "count       10000.00   10000.00        10000.00         10000.00 10000.00  \n",
       "mean            1.53       0.71            0.52        100090.24     0.20  \n",
       "std             0.58       0.46            0.50         57510.49     0.40  \n",
       "min             1.00       0.00            0.00            11.58     0.00  \n",
       "25%             1.00       0.00            0.00         51002.11     0.00  \n",
       "50%             1.00       1.00            1.00        100193.91     0.00  \n",
       "75%             2.00       1.00            1.00        149388.25     0.00  \n",
       "max             4.00       1.00            1.00        199992.48     1.00  "
      ]
     },
     "metadata": {},
     "output_type": "display_data"
    }
   ],
   "source": [
    "display(data.describe())"
   ]
  },
  {
   "cell_type": "markdown",
   "metadata": {},
   "source": [
    "Признак Tenure — сколько лет человек является клиентом банка, имеет пустые значения, скорее всего перед нами новые клиенты, отметим их условным обозначением \"0\"."
   ]
  },
  {
   "cell_type": "code",
   "execution_count": 7,
   "metadata": {
    "scrolled": true
   },
   "outputs": [],
   "source": [
    "data['Tenure'] = data['Tenure'].fillna(0)"
   ]
  },
  {
   "cell_type": "code",
   "execution_count": 8,
   "metadata": {
    "scrolled": true
   },
   "outputs": [
    {
     "data": {
      "text/plain": [
       "array(['France', 'Spain', 'Germany'], dtype=object)"
      ]
     },
     "execution_count": 8,
     "metadata": {},
     "output_type": "execute_result"
    }
   ],
   "source": [
    "data['Geography'].unique()"
   ]
  },
  {
   "cell_type": "markdown",
   "metadata": {},
   "source": [
    "Признак Geography — страна проживания содержит 3 уникальных значения 'France', 'Spain', 'Germany' — требуется прямое кодирование / one-hot encoding. Данный вид предобработки также потребуется для признака Gender — пол, чтобы превратить его в количественный."
   ]
  },
  {
   "cell_type": "markdown",
   "metadata": {},
   "source": [
    "Признак RowNumber — Индекс строки - не несет ценности для обучения модели, поэтому столбец можно удалить. <br />\n",
    "Признак CustomerId — Идентификатор клиента - после проверки наличия дубликатов, при их отсутствии — стоблец также можно удалить. <br />\n",
    "Признак Surname — Фамилия - является описательной для пользователей, но не несет ценности для качества будущей модели — столбец можно удалить."
   ]
  },
  {
   "cell_type": "code",
   "execution_count": 9,
   "metadata": {
    "scrolled": true
   },
   "outputs": [
    {
     "data": {
      "text/plain": [
       "0"
      ]
     },
     "execution_count": 9,
     "metadata": {},
     "output_type": "execute_result"
    }
   ],
   "source": [
    "data.duplicated().sum()"
   ]
  },
  {
   "cell_type": "code",
   "execution_count": 10,
   "metadata": {
    "scrolled": false
   },
   "outputs": [
    {
     "data": {
      "text/plain": [
       "10000"
      ]
     },
     "execution_count": 10,
     "metadata": {},
     "output_type": "execute_result"
    }
   ],
   "source": [
    "data['CustomerId'].value_counts().sum()"
   ]
  },
  {
   "cell_type": "markdown",
   "metadata": {},
   "source": [
    "Дубликатов не обнаружено. Можно приступать к преобработке датафрейма и преобразованию техникой OHE."
   ]
  },
  {
   "cell_type": "markdown",
   "metadata": {},
   "source": [
    "### Предобработка данных"
   ]
  },
  {
   "cell_type": "code",
   "execution_count": 11,
   "metadata": {
    "scrolled": false
   },
   "outputs": [
    {
     "data": {
      "text/html": [
       "<div>\n",
       "<style scoped>\n",
       "    .dataframe tbody tr th:only-of-type {\n",
       "        vertical-align: middle;\n",
       "    }\n",
       "\n",
       "    .dataframe tbody tr th {\n",
       "        vertical-align: top;\n",
       "    }\n",
       "\n",
       "    .dataframe thead th {\n",
       "        text-align: right;\n",
       "    }\n",
       "</style>\n",
       "<table border=\"1\" class=\"dataframe\">\n",
       "  <thead>\n",
       "    <tr style=\"text-align: right;\">\n",
       "      <th></th>\n",
       "      <th>CreditScore</th>\n",
       "      <th>Geography</th>\n",
       "      <th>Gender</th>\n",
       "      <th>Age</th>\n",
       "      <th>Tenure</th>\n",
       "      <th>Balance</th>\n",
       "      <th>NumOfProducts</th>\n",
       "      <th>HasCrCard</th>\n",
       "      <th>IsActiveMember</th>\n",
       "      <th>EstimatedSalary</th>\n",
       "      <th>Exited</th>\n",
       "    </tr>\n",
       "  </thead>\n",
       "  <tbody>\n",
       "    <tr>\n",
       "      <th>0</th>\n",
       "      <td>619</td>\n",
       "      <td>France</td>\n",
       "      <td>Female</td>\n",
       "      <td>42</td>\n",
       "      <td>2.00</td>\n",
       "      <td>0.00</td>\n",
       "      <td>1</td>\n",
       "      <td>1</td>\n",
       "      <td>1</td>\n",
       "      <td>101348.88</td>\n",
       "      <td>1</td>\n",
       "    </tr>\n",
       "    <tr>\n",
       "      <th>1</th>\n",
       "      <td>608</td>\n",
       "      <td>Spain</td>\n",
       "      <td>Female</td>\n",
       "      <td>41</td>\n",
       "      <td>1.00</td>\n",
       "      <td>83807.86</td>\n",
       "      <td>1</td>\n",
       "      <td>0</td>\n",
       "      <td>1</td>\n",
       "      <td>112542.58</td>\n",
       "      <td>0</td>\n",
       "    </tr>\n",
       "    <tr>\n",
       "      <th>2</th>\n",
       "      <td>502</td>\n",
       "      <td>France</td>\n",
       "      <td>Female</td>\n",
       "      <td>42</td>\n",
       "      <td>8.00</td>\n",
       "      <td>159660.80</td>\n",
       "      <td>3</td>\n",
       "      <td>1</td>\n",
       "      <td>0</td>\n",
       "      <td>113931.57</td>\n",
       "      <td>1</td>\n",
       "    </tr>\n",
       "    <tr>\n",
       "      <th>3</th>\n",
       "      <td>699</td>\n",
       "      <td>France</td>\n",
       "      <td>Female</td>\n",
       "      <td>39</td>\n",
       "      <td>1.00</td>\n",
       "      <td>0.00</td>\n",
       "      <td>2</td>\n",
       "      <td>0</td>\n",
       "      <td>0</td>\n",
       "      <td>93826.63</td>\n",
       "      <td>0</td>\n",
       "    </tr>\n",
       "    <tr>\n",
       "      <th>4</th>\n",
       "      <td>850</td>\n",
       "      <td>Spain</td>\n",
       "      <td>Female</td>\n",
       "      <td>43</td>\n",
       "      <td>2.00</td>\n",
       "      <td>125510.82</td>\n",
       "      <td>1</td>\n",
       "      <td>1</td>\n",
       "      <td>1</td>\n",
       "      <td>79084.10</td>\n",
       "      <td>0</td>\n",
       "    </tr>\n",
       "  </tbody>\n",
       "</table>\n",
       "</div>"
      ],
      "text/plain": [
       "   CreditScore Geography  Gender  Age  Tenure   Balance  NumOfProducts  \\\n",
       "0          619    France  Female   42    2.00      0.00              1   \n",
       "1          608     Spain  Female   41    1.00  83807.86              1   \n",
       "2          502    France  Female   42    8.00 159660.80              3   \n",
       "3          699    France  Female   39    1.00      0.00              2   \n",
       "4          850     Spain  Female   43    2.00 125510.82              1   \n",
       "\n",
       "   HasCrCard  IsActiveMember  EstimatedSalary  Exited  \n",
       "0          1               1        101348.88       1  \n",
       "1          0               1        112542.58       0  \n",
       "2          1               0        113931.57       1  \n",
       "3          0               0         93826.63       0  \n",
       "4          1               1         79084.10       0  "
      ]
     },
     "execution_count": 11,
     "metadata": {},
     "output_type": "execute_result"
    }
   ],
   "source": [
    "columns_to_drop = ['RowNumber','CustomerId', 'Surname']\n",
    "data = data.drop(columns_to_drop, axis=1)\n",
    "data.head()"
   ]
  },
  {
   "cell_type": "code",
   "execution_count": 12,
   "metadata": {
    "scrolled": true
   },
   "outputs": [
    {
     "data": {
      "text/plain": [
       "(10000, 11)"
      ]
     },
     "execution_count": 12,
     "metadata": {},
     "output_type": "execute_result"
    }
   ],
   "source": [
    "data.shape"
   ]
  },
  {
   "cell_type": "markdown",
   "metadata": {},
   "source": [
    "Техника OHE позволит нам в дальнейшем использовать модели: дерево решений, случайный лес и логистическую регрессию."
   ]
  },
  {
   "cell_type": "code",
   "execution_count": 13,
   "metadata": {
    "scrolled": true
   },
   "outputs": [
    {
     "data": {
      "text/html": [
       "<div>\n",
       "<style scoped>\n",
       "    .dataframe tbody tr th:only-of-type {\n",
       "        vertical-align: middle;\n",
       "    }\n",
       "\n",
       "    .dataframe tbody tr th {\n",
       "        vertical-align: top;\n",
       "    }\n",
       "\n",
       "    .dataframe thead th {\n",
       "        text-align: right;\n",
       "    }\n",
       "</style>\n",
       "<table border=\"1\" class=\"dataframe\">\n",
       "  <thead>\n",
       "    <tr style=\"text-align: right;\">\n",
       "      <th></th>\n",
       "      <th>CreditScore</th>\n",
       "      <th>Age</th>\n",
       "      <th>Tenure</th>\n",
       "      <th>Balance</th>\n",
       "      <th>NumOfProducts</th>\n",
       "      <th>HasCrCard</th>\n",
       "      <th>IsActiveMember</th>\n",
       "      <th>EstimatedSalary</th>\n",
       "      <th>Exited</th>\n",
       "      <th>Geography_Germany</th>\n",
       "      <th>Geography_Spain</th>\n",
       "      <th>Gender_Male</th>\n",
       "    </tr>\n",
       "  </thead>\n",
       "  <tbody>\n",
       "    <tr>\n",
       "      <th>0</th>\n",
       "      <td>619</td>\n",
       "      <td>42</td>\n",
       "      <td>2.00</td>\n",
       "      <td>0.00</td>\n",
       "      <td>1</td>\n",
       "      <td>1</td>\n",
       "      <td>1</td>\n",
       "      <td>101348.88</td>\n",
       "      <td>1</td>\n",
       "      <td>0</td>\n",
       "      <td>0</td>\n",
       "      <td>0</td>\n",
       "    </tr>\n",
       "    <tr>\n",
       "      <th>1</th>\n",
       "      <td>608</td>\n",
       "      <td>41</td>\n",
       "      <td>1.00</td>\n",
       "      <td>83807.86</td>\n",
       "      <td>1</td>\n",
       "      <td>0</td>\n",
       "      <td>1</td>\n",
       "      <td>112542.58</td>\n",
       "      <td>0</td>\n",
       "      <td>0</td>\n",
       "      <td>1</td>\n",
       "      <td>0</td>\n",
       "    </tr>\n",
       "    <tr>\n",
       "      <th>2</th>\n",
       "      <td>502</td>\n",
       "      <td>42</td>\n",
       "      <td>8.00</td>\n",
       "      <td>159660.80</td>\n",
       "      <td>3</td>\n",
       "      <td>1</td>\n",
       "      <td>0</td>\n",
       "      <td>113931.57</td>\n",
       "      <td>1</td>\n",
       "      <td>0</td>\n",
       "      <td>0</td>\n",
       "      <td>0</td>\n",
       "    </tr>\n",
       "    <tr>\n",
       "      <th>3</th>\n",
       "      <td>699</td>\n",
       "      <td>39</td>\n",
       "      <td>1.00</td>\n",
       "      <td>0.00</td>\n",
       "      <td>2</td>\n",
       "      <td>0</td>\n",
       "      <td>0</td>\n",
       "      <td>93826.63</td>\n",
       "      <td>0</td>\n",
       "      <td>0</td>\n",
       "      <td>0</td>\n",
       "      <td>0</td>\n",
       "    </tr>\n",
       "    <tr>\n",
       "      <th>4</th>\n",
       "      <td>850</td>\n",
       "      <td>43</td>\n",
       "      <td>2.00</td>\n",
       "      <td>125510.82</td>\n",
       "      <td>1</td>\n",
       "      <td>1</td>\n",
       "      <td>1</td>\n",
       "      <td>79084.10</td>\n",
       "      <td>0</td>\n",
       "      <td>0</td>\n",
       "      <td>1</td>\n",
       "      <td>0</td>\n",
       "    </tr>\n",
       "  </tbody>\n",
       "</table>\n",
       "</div>"
      ],
      "text/plain": [
       "   CreditScore  Age  Tenure   Balance  NumOfProducts  HasCrCard  \\\n",
       "0          619   42    2.00      0.00              1          1   \n",
       "1          608   41    1.00  83807.86              1          0   \n",
       "2          502   42    8.00 159660.80              3          1   \n",
       "3          699   39    1.00      0.00              2          0   \n",
       "4          850   43    2.00 125510.82              1          1   \n",
       "\n",
       "   IsActiveMember  EstimatedSalary  Exited  Geography_Germany  \\\n",
       "0               1        101348.88       1                  0   \n",
       "1               1        112542.58       0                  0   \n",
       "2               0        113931.57       1                  0   \n",
       "3               0         93826.63       0                  0   \n",
       "4               1         79084.10       0                  0   \n",
       "\n",
       "   Geography_Spain  Gender_Male  \n",
       "0                0            0  \n",
       "1                1            0  \n",
       "2                0            0  \n",
       "3                0            0  \n",
       "4                1            0  "
      ]
     },
     "execution_count": 13,
     "metadata": {},
     "output_type": "execute_result"
    }
   ],
   "source": [
    "data_ohe = pd.get_dummies(data, drop_first=True)\n",
    "data_ohe.head()"
   ]
  },
  {
   "cell_type": "code",
   "execution_count": 14,
   "metadata": {
    "scrolled": false
   },
   "outputs": [
    {
     "data": {
      "text/plain": [
       "(10000, 12)"
      ]
     },
     "execution_count": 14,
     "metadata": {},
     "output_type": "execute_result"
    }
   ],
   "source": [
    "data_ohe.shape"
   ]
  },
  {
   "cell_type": "markdown",
   "metadata": {},
   "source": [
    "В итоге датафрейм теперь содержит 12 столбцов.\n",
    "Столбец Geography содержал 3 класса, Gender 2 класса — но в результате мы получили только 2 разделенных столбца Geography и 1 Gender, что позволит избежать дамми-ловушки."
   ]
  },
  {
   "cell_type": "markdown",
   "metadata": {},
   "source": [
    "### Формирование выборок"
   ]
  },
  {
   "cell_type": "markdown",
   "metadata": {},
   "source": [
    "Данные разобьем на три части: обучающую, валидационную и тестовую. Исходные данные разбиваем в соотношении 3:1:1"
   ]
  },
  {
   "cell_type": "code",
   "execution_count": 15,
   "metadata": {
    "scrolled": false
   },
   "outputs": [],
   "source": [
    "features = data_ohe.drop('Exited', axis=1)\n",
    "target = data_ohe['Exited']"
   ]
  },
  {
   "cell_type": "markdown",
   "metadata": {},
   "source": [
    "Разделение выборки произведем в 2 этапа:<br />\n",
    "1. Выделим обучающую 60%\n",
    "2. Разделим оставшиеся 40% на 2 равные части (валидационная и тестовая)"
   ]
  },
  {
   "cell_type": "code",
   "execution_count": 16,
   "metadata": {
    "scrolled": false
   },
   "outputs": [],
   "source": [
    "features_train, features_test, target_train, target_test = train_test_split(features, \n",
    "                                                                            target, \n",
    "                                                                            test_size=0.4, \n",
    "                                                                            random_state=12345,\n",
    "                                                                            stratify=target)                          "
   ]
  },
  {
   "cell_type": "markdown",
   "metadata": {},
   "source": [
    "**Размер обучающей выборки**"
   ]
  },
  {
   "cell_type": "code",
   "execution_count": 17,
   "metadata": {
    "scrolled": true
   },
   "outputs": [
    {
     "name": "stdout",
     "output_type": "stream",
     "text": [
      "(6000, 11)\n",
      "(6000,)\n"
     ]
    }
   ],
   "source": [
    "print(features_train.shape)\n",
    "print(target_train.shape)"
   ]
  },
  {
   "cell_type": "code",
   "execution_count": 18,
   "metadata": {
    "scrolled": false
   },
   "outputs": [],
   "source": [
    "features_valid, features_test, target_valid, target_test = train_test_split(features_test,\n",
    "                                                                            target_test,\n",
    "                                                                            test_size=0.5,\n",
    "                                                                            random_state=12345, \n",
    "                                                                            stratify=target_test)"
   ]
  },
  {
   "cell_type": "markdown",
   "metadata": {},
   "source": [
    "**Размеры валидационной и тестовой выборок**"
   ]
  },
  {
   "cell_type": "code",
   "execution_count": 19,
   "metadata": {
    "scrolled": true
   },
   "outputs": [
    {
     "name": "stdout",
     "output_type": "stream",
     "text": [
      "(2000, 11) (2000,) (2000, 11) (2000,)\n"
     ]
    }
   ],
   "source": [
    "print(features_valid.shape, target_valid.shape, features_test.shape, target_test.shape)"
   ]
  },
  {
   "cell_type": "markdown",
   "metadata": {},
   "source": [
    "### Масштабирование признаков"
   ]
  },
  {
   "cell_type": "markdown",
   "metadata": {},
   "source": [
    "Зафиксируем количественные признаки"
   ]
  },
  {
   "cell_type": "code",
   "execution_count": 20,
   "metadata": {
    "scrolled": true
   },
   "outputs": [],
   "source": [
    "numeric = ['CreditScore', 'Age', 'Tenure', 'Balance', 'NumOfProducts', 'EstimatedSalary']"
   ]
  },
  {
   "cell_type": "markdown",
   "metadata": {},
   "source": [
    "Создадим объект структуры и настроим его на обучающих данных"
   ]
  },
  {
   "cell_type": "code",
   "execution_count": 21,
   "metadata": {
    "scrolled": true
   },
   "outputs": [
    {
     "data": {
      "text/html": [
       "<style>#sk-container-id-1 {color: black;background-color: white;}#sk-container-id-1 pre{padding: 0;}#sk-container-id-1 div.sk-toggleable {background-color: white;}#sk-container-id-1 label.sk-toggleable__label {cursor: pointer;display: block;width: 100%;margin-bottom: 0;padding: 0.3em;box-sizing: border-box;text-align: center;}#sk-container-id-1 label.sk-toggleable__label-arrow:before {content: \"▸\";float: left;margin-right: 0.25em;color: #696969;}#sk-container-id-1 label.sk-toggleable__label-arrow:hover:before {color: black;}#sk-container-id-1 div.sk-estimator:hover label.sk-toggleable__label-arrow:before {color: black;}#sk-container-id-1 div.sk-toggleable__content {max-height: 0;max-width: 0;overflow: hidden;text-align: left;background-color: #f0f8ff;}#sk-container-id-1 div.sk-toggleable__content pre {margin: 0.2em;color: black;border-radius: 0.25em;background-color: #f0f8ff;}#sk-container-id-1 input.sk-toggleable__control:checked~div.sk-toggleable__content {max-height: 200px;max-width: 100%;overflow: auto;}#sk-container-id-1 input.sk-toggleable__control:checked~label.sk-toggleable__label-arrow:before {content: \"▾\";}#sk-container-id-1 div.sk-estimator input.sk-toggleable__control:checked~label.sk-toggleable__label {background-color: #d4ebff;}#sk-container-id-1 div.sk-label input.sk-toggleable__control:checked~label.sk-toggleable__label {background-color: #d4ebff;}#sk-container-id-1 input.sk-hidden--visually {border: 0;clip: rect(1px 1px 1px 1px);clip: rect(1px, 1px, 1px, 1px);height: 1px;margin: -1px;overflow: hidden;padding: 0;position: absolute;width: 1px;}#sk-container-id-1 div.sk-estimator {font-family: monospace;background-color: #f0f8ff;border: 1px dotted black;border-radius: 0.25em;box-sizing: border-box;margin-bottom: 0.5em;}#sk-container-id-1 div.sk-estimator:hover {background-color: #d4ebff;}#sk-container-id-1 div.sk-parallel-item::after {content: \"\";width: 100%;border-bottom: 1px solid gray;flex-grow: 1;}#sk-container-id-1 div.sk-label:hover label.sk-toggleable__label {background-color: #d4ebff;}#sk-container-id-1 div.sk-serial::before {content: \"\";position: absolute;border-left: 1px solid gray;box-sizing: border-box;top: 0;bottom: 0;left: 50%;z-index: 0;}#sk-container-id-1 div.sk-serial {display: flex;flex-direction: column;align-items: center;background-color: white;padding-right: 0.2em;padding-left: 0.2em;position: relative;}#sk-container-id-1 div.sk-item {position: relative;z-index: 1;}#sk-container-id-1 div.sk-parallel {display: flex;align-items: stretch;justify-content: center;background-color: white;position: relative;}#sk-container-id-1 div.sk-item::before, #sk-container-id-1 div.sk-parallel-item::before {content: \"\";position: absolute;border-left: 1px solid gray;box-sizing: border-box;top: 0;bottom: 0;left: 50%;z-index: -1;}#sk-container-id-1 div.sk-parallel-item {display: flex;flex-direction: column;z-index: 1;position: relative;background-color: white;}#sk-container-id-1 div.sk-parallel-item:first-child::after {align-self: flex-end;width: 50%;}#sk-container-id-1 div.sk-parallel-item:last-child::after {align-self: flex-start;width: 50%;}#sk-container-id-1 div.sk-parallel-item:only-child::after {width: 0;}#sk-container-id-1 div.sk-dashed-wrapped {border: 1px dashed gray;margin: 0 0.4em 0.5em 0.4em;box-sizing: border-box;padding-bottom: 0.4em;background-color: white;}#sk-container-id-1 div.sk-label label {font-family: monospace;font-weight: bold;display: inline-block;line-height: 1.2em;}#sk-container-id-1 div.sk-label-container {text-align: center;}#sk-container-id-1 div.sk-container {/* jupyter's `normalize.less` sets `[hidden] { display: none; }` but bootstrap.min.css set `[hidden] { display: none !important; }` so we also need the `!important` here to be able to override the default hidden behavior on the sphinx rendered scikit-learn.org. See: https://github.com/scikit-learn/scikit-learn/issues/21755 */display: inline-block !important;position: relative;}#sk-container-id-1 div.sk-text-repr-fallback {display: none;}</style><div id=\"sk-container-id-1\" class=\"sk-top-container\"><div class=\"sk-text-repr-fallback\"><pre>StandardScaler()</pre><b>In a Jupyter environment, please rerun this cell to show the HTML representation or trust the notebook. <br />On GitHub, the HTML representation is unable to render, please try loading this page with nbviewer.org.</b></div><div class=\"sk-container\" hidden><div class=\"sk-item\"><div class=\"sk-estimator sk-toggleable\"><input class=\"sk-toggleable__control sk-hidden--visually\" id=\"sk-estimator-id-1\" type=\"checkbox\" checked><label for=\"sk-estimator-id-1\" class=\"sk-toggleable__label sk-toggleable__label-arrow\">StandardScaler</label><div class=\"sk-toggleable__content\"><pre>StandardScaler()</pre></div></div></div></div></div>"
      ],
      "text/plain": [
       "StandardScaler()"
      ]
     },
     "execution_count": 21,
     "metadata": {},
     "output_type": "execute_result"
    }
   ],
   "source": [
    "scaler = StandardScaler()\n",
    "scaler.fit(features_train[numeric])"
   ]
  },
  {
   "cell_type": "markdown",
   "metadata": {},
   "source": [
    "Масштабирование количественных признаков обучающей выборки "
   ]
  },
  {
   "cell_type": "code",
   "execution_count": 22,
   "metadata": {
    "scrolled": true
   },
   "outputs": [
    {
     "data": {
      "text/html": [
       "<div>\n",
       "<style scoped>\n",
       "    .dataframe tbody tr th:only-of-type {\n",
       "        vertical-align: middle;\n",
       "    }\n",
       "\n",
       "    .dataframe tbody tr th {\n",
       "        vertical-align: top;\n",
       "    }\n",
       "\n",
       "    .dataframe thead th {\n",
       "        text-align: right;\n",
       "    }\n",
       "</style>\n",
       "<table border=\"1\" class=\"dataframe\">\n",
       "  <thead>\n",
       "    <tr style=\"text-align: right;\">\n",
       "      <th></th>\n",
       "      <th>CreditScore</th>\n",
       "      <th>Age</th>\n",
       "      <th>Tenure</th>\n",
       "      <th>Balance</th>\n",
       "      <th>NumOfProducts</th>\n",
       "      <th>HasCrCard</th>\n",
       "      <th>IsActiveMember</th>\n",
       "      <th>EstimatedSalary</th>\n",
       "      <th>Geography_Germany</th>\n",
       "      <th>Geography_Spain</th>\n",
       "      <th>Gender_Male</th>\n",
       "    </tr>\n",
       "  </thead>\n",
       "  <tbody>\n",
       "    <tr>\n",
       "      <th>2837</th>\n",
       "      <td>-1.04</td>\n",
       "      <td>0.95</td>\n",
       "      <td>0.47</td>\n",
       "      <td>0.77</td>\n",
       "      <td>-0.91</td>\n",
       "      <td>0</td>\n",
       "      <td>1</td>\n",
       "      <td>-0.12</td>\n",
       "      <td>1</td>\n",
       "      <td>0</td>\n",
       "      <td>0</td>\n",
       "    </tr>\n",
       "    <tr>\n",
       "      <th>9925</th>\n",
       "      <td>0.45</td>\n",
       "      <td>-0.10</td>\n",
       "      <td>-1.46</td>\n",
       "      <td>1.91</td>\n",
       "      <td>-0.91</td>\n",
       "      <td>1</td>\n",
       "      <td>1</td>\n",
       "      <td>-0.26</td>\n",
       "      <td>0</td>\n",
       "      <td>0</td>\n",
       "      <td>0</td>\n",
       "    </tr>\n",
       "    <tr>\n",
       "      <th>8746</th>\n",
       "      <td>0.10</td>\n",
       "      <td>-0.48</td>\n",
       "      <td>1.11</td>\n",
       "      <td>0.48</td>\n",
       "      <td>0.82</td>\n",
       "      <td>0</td>\n",
       "      <td>1</td>\n",
       "      <td>1.42</td>\n",
       "      <td>0</td>\n",
       "      <td>0</td>\n",
       "      <td>1</td>\n",
       "    </tr>\n",
       "    <tr>\n",
       "      <th>660</th>\n",
       "      <td>-0.18</td>\n",
       "      <td>0.19</td>\n",
       "      <td>-1.46</td>\n",
       "      <td>0.09</td>\n",
       "      <td>-0.91</td>\n",
       "      <td>1</td>\n",
       "      <td>1</td>\n",
       "      <td>-1.16</td>\n",
       "      <td>1</td>\n",
       "      <td>0</td>\n",
       "      <td>0</td>\n",
       "    </tr>\n",
       "    <tr>\n",
       "      <th>3610</th>\n",
       "      <td>-0.72</td>\n",
       "      <td>1.62</td>\n",
       "      <td>-1.14</td>\n",
       "      <td>0.88</td>\n",
       "      <td>-0.91</td>\n",
       "      <td>1</td>\n",
       "      <td>0</td>\n",
       "      <td>0.11</td>\n",
       "      <td>0</td>\n",
       "      <td>0</td>\n",
       "      <td>0</td>\n",
       "    </tr>\n",
       "  </tbody>\n",
       "</table>\n",
       "</div>"
      ],
      "text/plain": [
       "      CreditScore   Age  Tenure  Balance  NumOfProducts  HasCrCard  \\\n",
       "2837        -1.04  0.95    0.47     0.77          -0.91          0   \n",
       "9925         0.45 -0.10   -1.46     1.91          -0.91          1   \n",
       "8746         0.10 -0.48    1.11     0.48           0.82          0   \n",
       "660         -0.18  0.19   -1.46     0.09          -0.91          1   \n",
       "3610        -0.72  1.62   -1.14     0.88          -0.91          1   \n",
       "\n",
       "      IsActiveMember  EstimatedSalary  Geography_Germany  Geography_Spain  \\\n",
       "2837               1            -0.12                  1                0   \n",
       "9925               1            -0.26                  0                0   \n",
       "8746               1             1.42                  0                0   \n",
       "660                1            -1.16                  1                0   \n",
       "3610               0             0.11                  0                0   \n",
       "\n",
       "      Gender_Male  \n",
       "2837            0  \n",
       "9925            0  \n",
       "8746            1  \n",
       "660             0  \n",
       "3610            0  "
      ]
     },
     "execution_count": 22,
     "metadata": {},
     "output_type": "execute_result"
    }
   ],
   "source": [
    "features_train[numeric] = scaler.transform(features_train[numeric])\n",
    "features_train.head()"
   ]
  },
  {
   "cell_type": "markdown",
   "metadata": {},
   "source": [
    "Масштабирование количественных признаков валидационной выборки "
   ]
  },
  {
   "cell_type": "code",
   "execution_count": 23,
   "metadata": {
    "scrolled": true
   },
   "outputs": [
    {
     "data": {
      "text/html": [
       "<div>\n",
       "<style scoped>\n",
       "    .dataframe tbody tr th:only-of-type {\n",
       "        vertical-align: middle;\n",
       "    }\n",
       "\n",
       "    .dataframe tbody tr th {\n",
       "        vertical-align: top;\n",
       "    }\n",
       "\n",
       "    .dataframe thead th {\n",
       "        text-align: right;\n",
       "    }\n",
       "</style>\n",
       "<table border=\"1\" class=\"dataframe\">\n",
       "  <thead>\n",
       "    <tr style=\"text-align: right;\">\n",
       "      <th></th>\n",
       "      <th>CreditScore</th>\n",
       "      <th>Age</th>\n",
       "      <th>Tenure</th>\n",
       "      <th>Balance</th>\n",
       "      <th>NumOfProducts</th>\n",
       "      <th>HasCrCard</th>\n",
       "      <th>IsActiveMember</th>\n",
       "      <th>EstimatedSalary</th>\n",
       "      <th>Geography_Germany</th>\n",
       "      <th>Geography_Spain</th>\n",
       "      <th>Gender_Male</th>\n",
       "    </tr>\n",
       "  </thead>\n",
       "  <tbody>\n",
       "    <tr>\n",
       "      <th>6612</th>\n",
       "      <td>-1.52</td>\n",
       "      <td>2.38</td>\n",
       "      <td>-0.50</td>\n",
       "      <td>1.01</td>\n",
       "      <td>-0.91</td>\n",
       "      <td>0</td>\n",
       "      <td>1</td>\n",
       "      <td>0.01</td>\n",
       "      <td>0</td>\n",
       "      <td>0</td>\n",
       "      <td>0</td>\n",
       "    </tr>\n",
       "    <tr>\n",
       "      <th>519</th>\n",
       "      <td>0.59</td>\n",
       "      <td>1.81</td>\n",
       "      <td>0.47</td>\n",
       "      <td>0.21</td>\n",
       "      <td>-0.91</td>\n",
       "      <td>0</td>\n",
       "      <td>1</td>\n",
       "      <td>0.45</td>\n",
       "      <td>0</td>\n",
       "      <td>0</td>\n",
       "      <td>1</td>\n",
       "    </tr>\n",
       "    <tr>\n",
       "      <th>1609</th>\n",
       "      <td>-0.32</td>\n",
       "      <td>-0.38</td>\n",
       "      <td>1.11</td>\n",
       "      <td>0.89</td>\n",
       "      <td>-0.91</td>\n",
       "      <td>1</td>\n",
       "      <td>0</td>\n",
       "      <td>-0.60</td>\n",
       "      <td>0</td>\n",
       "      <td>0</td>\n",
       "      <td>0</td>\n",
       "    </tr>\n",
       "    <tr>\n",
       "      <th>3475</th>\n",
       "      <td>1.23</td>\n",
       "      <td>-0.76</td>\n",
       "      <td>-0.18</td>\n",
       "      <td>-0.24</td>\n",
       "      <td>0.82</td>\n",
       "      <td>1</td>\n",
       "      <td>1</td>\n",
       "      <td>-1.62</td>\n",
       "      <td>0</td>\n",
       "      <td>0</td>\n",
       "      <td>1</td>\n",
       "    </tr>\n",
       "    <tr>\n",
       "      <th>2707</th>\n",
       "      <td>-0.13</td>\n",
       "      <td>-0.10</td>\n",
       "      <td>-0.50</td>\n",
       "      <td>0.45</td>\n",
       "      <td>-0.91</td>\n",
       "      <td>0</td>\n",
       "      <td>0</td>\n",
       "      <td>0.34</td>\n",
       "      <td>0</td>\n",
       "      <td>0</td>\n",
       "      <td>0</td>\n",
       "    </tr>\n",
       "  </tbody>\n",
       "</table>\n",
       "</div>"
      ],
      "text/plain": [
       "      CreditScore   Age  Tenure  Balance  NumOfProducts  HasCrCard  \\\n",
       "6612        -1.52  2.38   -0.50     1.01          -0.91          0   \n",
       "519          0.59  1.81    0.47     0.21          -0.91          0   \n",
       "1609        -0.32 -0.38    1.11     0.89          -0.91          1   \n",
       "3475         1.23 -0.76   -0.18    -0.24           0.82          1   \n",
       "2707        -0.13 -0.10   -0.50     0.45          -0.91          0   \n",
       "\n",
       "      IsActiveMember  EstimatedSalary  Geography_Germany  Geography_Spain  \\\n",
       "6612               1             0.01                  0                0   \n",
       "519                1             0.45                  0                0   \n",
       "1609               0            -0.60                  0                0   \n",
       "3475               1            -1.62                  0                0   \n",
       "2707               0             0.34                  0                0   \n",
       "\n",
       "      Gender_Male  \n",
       "6612            0  \n",
       "519             1  \n",
       "1609            0  \n",
       "3475            1  \n",
       "2707            0  "
      ]
     },
     "execution_count": 23,
     "metadata": {},
     "output_type": "execute_result"
    }
   ],
   "source": [
    "features_valid[numeric] = scaler.transform(features_valid[numeric])\n",
    "features_valid.head()"
   ]
  },
  {
   "cell_type": "markdown",
   "metadata": {},
   "source": [
    "Масштабирование количественных признаков тестовой выборки "
   ]
  },
  {
   "cell_type": "code",
   "execution_count": 24,
   "metadata": {
    "scrolled": false
   },
   "outputs": [
    {
     "data": {
      "text/html": [
       "<div>\n",
       "<style scoped>\n",
       "    .dataframe tbody tr th:only-of-type {\n",
       "        vertical-align: middle;\n",
       "    }\n",
       "\n",
       "    .dataframe tbody tr th {\n",
       "        vertical-align: top;\n",
       "    }\n",
       "\n",
       "    .dataframe thead th {\n",
       "        text-align: right;\n",
       "    }\n",
       "</style>\n",
       "<table border=\"1\" class=\"dataframe\">\n",
       "  <thead>\n",
       "    <tr style=\"text-align: right;\">\n",
       "      <th></th>\n",
       "      <th>CreditScore</th>\n",
       "      <th>Age</th>\n",
       "      <th>Tenure</th>\n",
       "      <th>Balance</th>\n",
       "      <th>NumOfProducts</th>\n",
       "      <th>HasCrCard</th>\n",
       "      <th>IsActiveMember</th>\n",
       "      <th>EstimatedSalary</th>\n",
       "      <th>Geography_Germany</th>\n",
       "      <th>Geography_Spain</th>\n",
       "      <th>Gender_Male</th>\n",
       "    </tr>\n",
       "  </thead>\n",
       "  <tbody>\n",
       "    <tr>\n",
       "      <th>657</th>\n",
       "      <td>-0.50</td>\n",
       "      <td>1.43</td>\n",
       "      <td>-1.14</td>\n",
       "      <td>0.87</td>\n",
       "      <td>0.82</td>\n",
       "      <td>1</td>\n",
       "      <td>1</td>\n",
       "      <td>1.73</td>\n",
       "      <td>1</td>\n",
       "      <td>0</td>\n",
       "      <td>0</td>\n",
       "    </tr>\n",
       "    <tr>\n",
       "      <th>2083</th>\n",
       "      <td>-1.20</td>\n",
       "      <td>-1.43</td>\n",
       "      <td>-1.14</td>\n",
       "      <td>-1.22</td>\n",
       "      <td>-0.91</td>\n",
       "      <td>1</td>\n",
       "      <td>1</td>\n",
       "      <td>1.20</td>\n",
       "      <td>0</td>\n",
       "      <td>0</td>\n",
       "      <td>1</td>\n",
       "    </tr>\n",
       "    <tr>\n",
       "      <th>3234</th>\n",
       "      <td>-1.27</td>\n",
       "      <td>0.76</td>\n",
       "      <td>-1.14</td>\n",
       "      <td>-1.22</td>\n",
       "      <td>-0.91</td>\n",
       "      <td>1</td>\n",
       "      <td>0</td>\n",
       "      <td>-1.37</td>\n",
       "      <td>0</td>\n",
       "      <td>0</td>\n",
       "      <td>1</td>\n",
       "    </tr>\n",
       "    <tr>\n",
       "      <th>1551</th>\n",
       "      <td>0.83</td>\n",
       "      <td>1.24</td>\n",
       "      <td>0.79</td>\n",
       "      <td>-1.22</td>\n",
       "      <td>0.82</td>\n",
       "      <td>0</td>\n",
       "      <td>1</td>\n",
       "      <td>0.38</td>\n",
       "      <td>0</td>\n",
       "      <td>1</td>\n",
       "      <td>0</td>\n",
       "    </tr>\n",
       "    <tr>\n",
       "      <th>2344</th>\n",
       "      <td>0.66</td>\n",
       "      <td>0.95</td>\n",
       "      <td>-0.18</td>\n",
       "      <td>0.27</td>\n",
       "      <td>-0.91</td>\n",
       "      <td>1</td>\n",
       "      <td>0</td>\n",
       "      <td>-1.61</td>\n",
       "      <td>1</td>\n",
       "      <td>0</td>\n",
       "      <td>0</td>\n",
       "    </tr>\n",
       "  </tbody>\n",
       "</table>\n",
       "</div>"
      ],
      "text/plain": [
       "      CreditScore   Age  Tenure  Balance  NumOfProducts  HasCrCard  \\\n",
       "657         -0.50  1.43   -1.14     0.87           0.82          1   \n",
       "2083        -1.20 -1.43   -1.14    -1.22          -0.91          1   \n",
       "3234        -1.27  0.76   -1.14    -1.22          -0.91          1   \n",
       "1551         0.83  1.24    0.79    -1.22           0.82          0   \n",
       "2344         0.66  0.95   -0.18     0.27          -0.91          1   \n",
       "\n",
       "      IsActiveMember  EstimatedSalary  Geography_Germany  Geography_Spain  \\\n",
       "657                1             1.73                  1                0   \n",
       "2083               1             1.20                  0                0   \n",
       "3234               0            -1.37                  0                0   \n",
       "1551               1             0.38                  0                1   \n",
       "2344               0            -1.61                  1                0   \n",
       "\n",
       "      Gender_Male  \n",
       "657             0  \n",
       "2083            1  \n",
       "3234            1  \n",
       "1551            0  \n",
       "2344            0  "
      ]
     },
     "execution_count": 24,
     "metadata": {},
     "output_type": "execute_result"
    }
   ],
   "source": [
    "features_test[numeric] = scaler.transform(features_test[numeric])\n",
    "features_test.head()"
   ]
  },
  {
   "cell_type": "markdown",
   "metadata": {},
   "source": [
    "Масштаб признаков у всех трех выборок теперь одинаковый, можно переходить к исследованию задачи. "
   ]
  },
  {
   "cell_type": "markdown",
   "metadata": {},
   "source": [
    "## Исследование задачи"
   ]
  },
  {
   "cell_type": "markdown",
   "metadata": {},
   "source": [
    "Для исследовательского обучения используем три модели:\n",
    "- Дерево решений\n",
    "- Случайный лес\n",
    "- Логистическая регрессия"
   ]
  },
  {
   "cell_type": "markdown",
   "metadata": {},
   "source": [
    "### Точность моделей"
   ]
  },
  {
   "cell_type": "code",
   "execution_count": 25,
   "metadata": {},
   "outputs": [],
   "source": [
    "def models_accuracy(features_train, target_train, features_valid, target_valid):\n",
    "    model_dtc = DecisionTreeClassifier(random_state=12345).fit(features_train, target_train)\n",
    "    predictions_valid_dtc = model_dtc.predict(features_valid)\n",
    "    dtc_score = accuracy_score(target_valid, predictions_valid_dtc)\n",
    "    \n",
    "    model_rfc = RandomForestClassifier(random_state=12345, n_estimators = 100).fit(features_train, target_train)\n",
    "    predictions_valid_rfc = model_rfc.predict(features_valid)\n",
    "    rfc_score = accuracy_score(target_valid, predictions_valid_rfc)\n",
    "    \n",
    "    model_lr = LogisticRegression(random_state=12345, solver = 'liblinear').fit(features_train, target_train)\n",
    "    predictions_valid_lr = model_lr.predict(features_valid)\n",
    "    lr_score = accuracy_score(target_valid, predictions_valid_lr)\n",
    "    \n",
    "    print('Показатель accuracy Дерево решений:','{:.4f}'.format(dtc_score))\n",
    "    print('Показатель accuracy Случайный лес:','{:.4f}'.format(rfc_score))\n",
    "    print('Показатель accuracy Логистическая регрессия:','{:.4f}'.format(lr_score))"
   ]
  },
  {
   "cell_type": "code",
   "execution_count": 26,
   "metadata": {
    "scrolled": true
   },
   "outputs": [
    {
     "name": "stdout",
     "output_type": "stream",
     "text": [
      "Показатель accuracy Дерево решений: 0.7900\n",
      "Показатель accuracy Случайный лес: 0.8685\n",
      "Показатель accuracy Логистическая регрессия: 0.8110\n"
     ]
    }
   ],
   "source": [
    "models_accuracy(features_train, target_train, features_valid, target_valid)"
   ]
  },
  {
   "cell_type": "markdown",
   "metadata": {},
   "source": [
    "Точность лучшей модели равна 0.8685, данный показатель у модели Random Forest."
   ]
  },
  {
   "cell_type": "markdown",
   "metadata": {},
   "source": [
    "Создадим константную модель: любому объекту она прогнозирует класс «0». Сравним качество предсказаний с константной моделью."
   ]
  },
  {
   "cell_type": "code",
   "execution_count": 27,
   "metadata": {
    "scrolled": false
   },
   "outputs": [
    {
     "name": "stdout",
     "output_type": "stream",
     "text": [
      "Показатель accuracy Константной модели: 0.7960\n"
     ]
    }
   ],
   "source": [
    "target_predict_constant = pd.Series([0]*len(target_valid))\n",
    "accuracy_score_constant = accuracy_score(target_valid, target_predict_constant)\n",
    "print('Показатель accuracy Константной модели:','{:.4f}'.format(accuracy_score_constant))"
   ]
  },
  {
   "cell_type": "markdown",
   "metadata": {},
   "source": [
    "Точность константной модели: 0.796. Данная модель обогнала дерево решений, и не так сильно уступает случайному лесу и логистической регрессии. Обучение моделей с существующим дисбалансом классов ожидаемо приведет к плохим результатам, однако все же проверим данное утверждение."
   ]
  },
  {
   "cell_type": "markdown",
   "metadata": {},
   "source": [
    "### Проверка баланса классов выборки"
   ]
  },
  {
   "cell_type": "markdown",
   "metadata": {},
   "source": [
    "Проверим, как часто в целевом признаке обучающей и валидационной выборки встречается класс «1» или «0»."
   ]
  },
  {
   "cell_type": "code",
   "execution_count": 28,
   "metadata": {},
   "outputs": [
    {
     "data": {
      "text/plain": [
       "0   0.80\n",
       "1   0.20\n",
       "Name: Exited, dtype: float64"
      ]
     },
     "execution_count": 28,
     "metadata": {},
     "output_type": "execute_result"
    }
   ],
   "source": [
    "target_train.value_counts(normalize = True)"
   ]
  },
  {
   "cell_type": "code",
   "execution_count": 29,
   "metadata": {
    "scrolled": false
   },
   "outputs": [
    {
     "data": {
      "image/png": "[encoded data removed]",
      "text/plain": [
       "<Figure size 640x480 with 1 Axes>"
      ]
     },
     "metadata": {},
     "output_type": "display_data"
    }
   ],
   "source": [
    "target_train.value_counts(normalize = True).plot(kind='bar') \n",
    "plt.title(\"Баланс классов целевого признака обучающей выборки\")\n",
    "plt.ylabel(\"Относительная частота\")\n",
    "plt.xlabel(\"Факт ухода клиента\")\n",
    "plt.show()"
   ]
  },
  {
   "cell_type": "code",
   "execution_count": 30,
   "metadata": {
    "scrolled": false
   },
   "outputs": [
    {
     "data": {
      "text/plain": [
       "0   0.80\n",
       "1   0.20\n",
       "Name: Exited, dtype: float64"
      ]
     },
     "execution_count": 30,
     "metadata": {},
     "output_type": "execute_result"
    }
   ],
   "source": [
    "target_valid.value_counts(normalize = True)"
   ]
  },
  {
   "cell_type": "code",
   "execution_count": 31,
   "metadata": {
    "scrolled": false
   },
   "outputs": [
    {
     "data": {
      "image/png": "[encoded data removed]",
      "text/plain": [
       "<Figure size 640x480 with 1 Axes>"
      ]
     },
     "metadata": {},
     "output_type": "display_data"
    }
   ],
   "source": [
    "target_valid.value_counts(normalize = True).plot(kind='bar') \n",
    "plt.title(\"Баланс классов целевого признака валидационной выборки\")\n",
    "plt.ylabel(\"Относительная частота\")\n",
    "plt.xlabel(\"Факт ухода клиента\")\n",
    "plt.show()"
   ]
  },
  {
   "cell_type": "markdown",
   "metadata": {},
   "source": [
    "В исходных данных наблюдается сильный дисбаланс классов, что плохо сказывается на обучении модели.<br />\n",
    "Проведем исследование моделей с дисбалансом классов. Чтобы разобраться подбробнее ознакомся с матрицой ошибок для каждой модели."
   ]
  },
  {
   "cell_type": "code",
   "execution_count": 32,
   "metadata": {
    "scrolled": true
   },
   "outputs": [
    {
     "data": {
      "text/plain": [
       "array([[1366,  226],\n",
       "       [ 194,  214]])"
      ]
     },
     "execution_count": 32,
     "metadata": {},
     "output_type": "execute_result"
    }
   ],
   "source": [
    "model_dtc = DecisionTreeClassifier(random_state=12345).fit(features_train, target_train)\n",
    "predictions_valid_dtc = model_dtc.predict(features_valid)\n",
    "probabilities_valid_dtc = model_dtc.predict_proba(features_valid)\n",
    "probabilities_one_valid_dtc = probabilities_valid_dtc[:, 1]\n",
    "confusion_matrix(target_valid, predictions_valid_dtc)"
   ]
  },
  {
   "cell_type": "markdown",
   "metadata": {},
   "source": [
    "Дерево решений склонно выдавать отрицательные предсказания, однако она часто видит положительные ответы, там, где их нет."
   ]
  },
  {
   "cell_type": "code",
   "execution_count": 33,
   "metadata": {
    "scrolled": true
   },
   "outputs": [],
   "source": [
    "def get_metrics(target_valid, prediction, probabilities_one_valid):\n",
    "    print(\"Полнота\" ,'{:.4f}'.format(recall_score(target_valid, prediction)))\n",
    "    print(\"Точность\",'{:.4f}'.format(precision_score(target_valid, prediction)))\n",
    "    print(\"F1-мера\",'{:.4f}'.format(f1_score(target_valid, prediction)))\n",
    "    print(\"AUC-ROC\",'{:.4f}'.format(roc_auc_score(target_valid, probabilities_one_valid)))"
   ]
  },
  {
   "cell_type": "code",
   "execution_count": 34,
   "metadata": {
    "scrolled": true
   },
   "outputs": [
    {
     "name": "stdout",
     "output_type": "stream",
     "text": [
      "Полнота 0.5245\n",
      "Точность 0.4864\n",
      "F1-мера 0.5047\n",
      "AUC-ROC 0.6913\n"
     ]
    }
   ],
   "source": [
    "get_metrics(target_valid, predictions_valid_dtc, probabilities_one_valid_dtc)\n"
   ]
  },
  {
   "cell_type": "markdown",
   "metadata": {},
   "source": [
    "Полнота и точность почти равны, оттого и среднее гармоническое для дерева решений 0.5."
   ]
  },
  {
   "cell_type": "code",
   "execution_count": 35,
   "metadata": {
    "scrolled": false
   },
   "outputs": [
    {
     "data": {
      "text/plain": [
       "array([[1531,   61],\n",
       "       [ 202,  206]])"
      ]
     },
     "execution_count": 35,
     "metadata": {},
     "output_type": "execute_result"
    }
   ],
   "source": [
    "model_rfc = RandomForestClassifier(random_state=12345, n_estimators = 100).fit(features_train, target_train)\n",
    "predictions_valid_rfc = model_rfc.predict(features_valid)\n",
    "probabilities_valid_rfc = model_rfc.predict_proba(features_valid)\n",
    "probabilities_one_valid_rfc = probabilities_valid_rfc[:, 1]\n",
    "confusion_matrix(target_valid, predictions_valid_rfc)"
   ]
  },
  {
   "cell_type": "code",
   "execution_count": 36,
   "metadata": {
    "scrolled": false
   },
   "outputs": [
    {
     "name": "stdout",
     "output_type": "stream",
     "text": [
      "Полнота 0.5049\n",
      "Точность 0.7715\n",
      "F1-мера 0.6104\n",
      "AUC-ROC 0.8666\n"
     ]
    }
   ],
   "source": [
    "get_metrics(target_valid, predictions_valid_rfc, probabilities_one_valid_rfc)\n"
   ]
  },
  {
   "cell_type": "markdown",
   "metadata": {},
   "source": [
    "Случайный лес также склонен выдавать пессимистичные предсказания, в отличии от дерева решений эта модель часто видит отрицательные ответы, там, где их нет. F-мера выше, так как точность выше."
   ]
  },
  {
   "cell_type": "code",
   "execution_count": 37,
   "metadata": {
    "scrolled": false
   },
   "outputs": [
    {
     "data": {
      "text/plain": [
       "array([[1538,   54],\n",
       "       [ 324,   84]])"
      ]
     },
     "execution_count": 37,
     "metadata": {},
     "output_type": "execute_result"
    }
   ],
   "source": [
    "model_lr = LogisticRegression(random_state=12345, solver = 'liblinear').fit(features_train, target_train)\n",
    "predictions_valid_lr = model_lr.predict(features_valid)\n",
    "probabilities_valid_lr = model_lr.predict_proba(features_valid)\n",
    "probabilities_one_valid_lr = probabilities_valid_lr[:, 1]\n",
    "confusion_matrix(target_valid, predictions_valid_lr)"
   ]
  },
  {
   "cell_type": "code",
   "execution_count": 38,
   "metadata": {
    "scrolled": true
   },
   "outputs": [
    {
     "name": "stdout",
     "output_type": "stream",
     "text": [
      "Полнота 0.2059\n",
      "Точность 0.6087\n",
      "F1-мера 0.3077\n",
      "AUC-ROC 0.7876\n"
     ]
    }
   ],
   "source": [
    "get_metrics(target_valid, predictions_valid_lr, probabilities_one_valid_lr)\n"
   ]
  },
  {
   "cell_type": "markdown",
   "metadata": {},
   "source": [
    "Логистическая регрессия также следует дисбалансу и предсказывает отрицательные прогнозы, к тому же чаще видит отрицательные ответы, там, где их нет. Доля положительных ответов среди всех ответов составляет 1/5, F1-мера также низкая."
   ]
  },
  {
   "cell_type": "markdown",
   "metadata": {},
   "source": [
    "### Изучение модели без учета дисбаланса"
   ]
  },
  {
   "cell_type": "markdown",
   "metadata": {},
   "source": [
    "#### Проверка Decision Tree"
   ]
  },
  {
   "cell_type": "code",
   "execution_count": 39,
   "metadata": {
    "scrolled": true
   },
   "outputs": [
    {
     "name": "stdout",
     "output_type": "stream",
     "text": [
      "Max depth: 2 F1-score: 0.5203 AUC-ROC: 0.7540\n",
      "Max depth: 3 F1-score: 0.5376 AUC-ROC: 0.8033\n",
      "Max depth: 4 F1-score: 0.5206 AUC-ROC: 0.8199\n",
      "Max depth: 5 F1-score: 0.5455 AUC-ROC: 0.8498\n",
      "Max depth: 6 F1-score: 0.5745 AUC-ROC: 0.8363\n",
      "Max depth: 7 F1-score: 0.5925 AUC-ROC: 0.8247\n",
      "Max depth: 8 F1-score: 0.5671 AUC-ROC: 0.8207\n",
      "Max depth: 9 F1-score: 0.5588 AUC-ROC: 0.7965\n",
      "Max depth: 10 F1-score: 0.5455 AUC-ROC: 0.7683\n",
      "Max depth: 11 F1-score: 0.5404 AUC-ROC: 0.7628\n",
      "Max depth: 12 F1-score: 0.5315 AUC-ROC: 0.7370\n",
      "Max depth: 13 F1-score: 0.5327 AUC-ROC: 0.7137\n",
      "Max depth: 14 F1-score: 0.5111 AUC-ROC: 0.7080\n",
      "Max depth: 15 F1-score: 0.5175 AUC-ROC: 0.6890\n",
      "Max depth: 16 F1-score: 0.5239 AUC-ROC: 0.6950\n",
      "Max depth: 17 F1-score: 0.5109 AUC-ROC: 0.6910\n",
      "Max depth: 18 F1-score: 0.5158 AUC-ROC: 0.6980\n",
      "Max depth: 19 F1-score: 0.5149 AUC-ROC: 0.6988\n",
      "Max depth: 20 F1-score: 0.5141 AUC-ROC: 0.6990\n",
      "Max depth: 21 F1-score: 0.5018 AUC-ROC: 0.6899\n",
      "Max depth: 22 F1-score: 0.5047 AUC-ROC: 0.6913\n",
      "Max depth: 23 F1-score: 0.5047 AUC-ROC: 0.6913\n",
      "Max depth: 24 F1-score: 0.5047 AUC-ROC: 0.6913\n",
      "Max depth: 25 F1-score: 0.5047 AUC-ROC: 0.6913\n",
      "Max depth: 26 F1-score: 0.5047 AUC-ROC: 0.6913\n",
      "Max depth: 27 F1-score: 0.5047 AUC-ROC: 0.6913\n",
      "Max depth: 28 F1-score: 0.5047 AUC-ROC: 0.6913\n",
      "Max depth: 29 F1-score: 0.5047 AUC-ROC: 0.6913\n",
      "Лучшая F-мера 0.5924855491329479 cо значением глубины = 7 cо значением AUC-ROC = 0.8247056360232534\n",
      "CPU times: user 1.24 s, sys: 30.5 ms, total: 1.27 s\n",
      "Wall time: 1.83 s\n"
     ]
    }
   ],
   "source": [
    "%%time\n",
    "\n",
    "best_model_dtc = None\n",
    "best_depth_dtc = 0\n",
    "best_result_dtc = 0\n",
    "best_auc_roc = 0\n",
    "\n",
    "for depth in range(2, 30):\n",
    "    model_dtc = DecisionTreeClassifier(random_state=12345, max_depth=depth).fit(features_train, target_train)\n",
    "    predictions_valid_dtc = model_dtc.predict(features_valid)\n",
    "    result = f1_score(target_valid, predictions_valid_dtc)\n",
    "    probabilities_valid_dtc = model_dtc.predict_proba(features_valid)\n",
    "    probabilities_one_valid_dtc = probabilities_valid_dtc[:, 1]\n",
    "    auc_roc = roc_auc_score(target_valid, probabilities_one_valid_dtc)\n",
    "    print('Max depth:', depth,'F1-score:','{:.4f}'.format(result), \n",
    "          'AUC-ROC:','{:.4f}'.format(auc_roc))\n",
    "    \n",
    "    if best_result_dtc < result:\n",
    "        best_result_dtc = result\n",
    "        best_depth_dtc = depth\n",
    "        best_model_dtc = model_dtc\n",
    "        best_auc_roc = auc_roc\n",
    "\n",
    "print(\"Лучшая F-мера\", best_result_dtc, 'cо значением глубины =', best_depth_dtc, 'cо значением AUC-ROC =', best_auc_roc)"
   ]
  },
  {
   "cell_type": "markdown",
   "metadata": {},
   "source": [
    "После обучения модели Дерево решений на несбалансированных данных, лучший показатель F1-меры - 0,5925 достигается при максимальной глубине - 7, AUC-ROC 0.8247. Wall-time - 840 ms."
   ]
  },
  {
   "cell_type": "markdown",
   "metadata": {},
   "source": [
    "#### Проверка Random Forest"
   ]
  },
  {
   "cell_type": "code",
   "execution_count": 40,
   "metadata": {
    "scrolled": true
   },
   "outputs": [
    {
     "name": "stdout",
     "output_type": "stream",
     "text": [
      "Max depth: 10 F1-score: 0.6000 AUC-ROC: 0.8597\n",
      "Max depth: 11 F1-score: 0.5907 AUC-ROC: 0.8556\n",
      "Max depth: 12 F1-score: 0.5929 AUC-ROC: 0.8475\n",
      "Max depth: 13 F1-score: 0.5968 AUC-ROC: 0.8491\n",
      "Max depth: 14 F1-score: 0.5869 AUC-ROC: 0.8344\n",
      "Max depth: 15 F1-score: 0.5900 AUC-ROC: 0.8427\n",
      "Max depth: 16 F1-score: 0.6076 AUC-ROC: 0.8350\n",
      "Max depth: 17 F1-score: 0.5784 AUC-ROC: 0.8350\n",
      "Max depth: 18 F1-score: 0.6035 AUC-ROC: 0.8333\n",
      "Max depth: 19 F1-score: 0.5837 AUC-ROC: 0.8332\n",
      "Max depth: 10 F1-score: 0.6103 AUC-ROC: 0.8689\n",
      "Max depth: 11 F1-score: 0.6012 AUC-ROC: 0.8597\n",
      "Max depth: 12 F1-score: 0.5881 AUC-ROC: 0.8606\n",
      "Max depth: 13 F1-score: 0.6100 AUC-ROC: 0.8595\n",
      "Max depth: 14 F1-score: 0.5837 AUC-ROC: 0.8430\n",
      "Max depth: 15 F1-score: 0.5842 AUC-ROC: 0.8563\n",
      "Max depth: 16 F1-score: 0.6058 AUC-ROC: 0.8447\n",
      "Max depth: 17 F1-score: 0.5960 AUC-ROC: 0.8493\n",
      "Max depth: 18 F1-score: 0.6229 AUC-ROC: 0.8465\n",
      "Max depth: 19 F1-score: 0.5980 AUC-ROC: 0.8435\n",
      "Max depth: 10 F1-score: 0.6024 AUC-ROC: 0.8680\n",
      "Max depth: 11 F1-score: 0.6030 AUC-ROC: 0.8614\n",
      "Max depth: 12 F1-score: 0.5847 AUC-ROC: 0.8645\n",
      "Max depth: 13 F1-score: 0.6047 AUC-ROC: 0.8560\n",
      "Max depth: 14 F1-score: 0.5950 AUC-ROC: 0.8503\n",
      "Max depth: 15 F1-score: 0.5816 AUC-ROC: 0.8533\n",
      "Max depth: 16 F1-score: 0.6179 AUC-ROC: 0.8476\n",
      "Max depth: 17 F1-score: 0.5982 AUC-ROC: 0.8506\n",
      "Max depth: 18 F1-score: 0.6122 AUC-ROC: 0.8499\n",
      "Max depth: 19 F1-score: 0.5985 AUC-ROC: 0.8504\n",
      "Max depth: 10 F1-score: 0.5948 AUC-ROC: 0.8688\n",
      "Max depth: 11 F1-score: 0.5946 AUC-ROC: 0.8644\n",
      "Max depth: 12 F1-score: 0.5749 AUC-ROC: 0.8666\n",
      "Max depth: 13 F1-score: 0.5926 AUC-ROC: 0.8590\n",
      "Max depth: 14 F1-score: 0.6248 AUC-ROC: 0.8564\n",
      "Max depth: 15 F1-score: 0.6042 AUC-ROC: 0.8526\n",
      "Max depth: 16 F1-score: 0.5955 AUC-ROC: 0.8508\n",
      "Max depth: 17 F1-score: 0.6015 AUC-ROC: 0.8547\n",
      "Max depth: 18 F1-score: 0.6087 AUC-ROC: 0.8535\n",
      "Max depth: 19 F1-score: 0.6006 AUC-ROC: 0.8536\n",
      "Max depth: 10 F1-score: 0.5911 AUC-ROC: 0.8696\n",
      "Max depth: 11 F1-score: 0.6051 AUC-ROC: 0.8642\n",
      "Max depth: 12 F1-score: 0.5843 AUC-ROC: 0.8686\n",
      "Max depth: 13 F1-score: 0.5896 AUC-ROC: 0.8572\n",
      "Max depth: 14 F1-score: 0.6174 AUC-ROC: 0.8568\n",
      "Max depth: 15 F1-score: 0.5964 AUC-ROC: 0.8560\n",
      "Max depth: 16 F1-score: 0.5939 AUC-ROC: 0.8517\n",
      "Max depth: 17 F1-score: 0.6158 AUC-ROC: 0.8533\n",
      "Max depth: 18 F1-score: 0.6181 AUC-ROC: 0.8548\n",
      "Max depth: 19 F1-score: 0.6027 AUC-ROC: 0.8526\n",
      "Max depth: 10 F1-score: 0.5938 AUC-ROC: 0.8701\n",
      "Max depth: 11 F1-score: 0.5985 AUC-ROC: 0.8662\n",
      "Max depth: 12 F1-score: 0.5906 AUC-ROC: 0.8676\n",
      "Max depth: 13 F1-score: 0.5886 AUC-ROC: 0.8596\n",
      "Max depth: 14 F1-score: 0.6179 AUC-ROC: 0.8593\n",
      "Max depth: 15 F1-score: 0.5905 AUC-ROC: 0.8576\n",
      "Max depth: 16 F1-score: 0.5994 AUC-ROC: 0.8544\n",
      "Max depth: 17 F1-score: 0.6100 AUC-ROC: 0.8579\n",
      "Max depth: 18 F1-score: 0.6038 AUC-ROC: 0.8567\n",
      "Max depth: 19 F1-score: 0.6086 AUC-ROC: 0.8547\n",
      "Max depth: 10 F1-score: 0.5982 AUC-ROC: 0.8711\n",
      "Max depth: 11 F1-score: 0.6003 AUC-ROC: 0.8669\n",
      "Max depth: 12 F1-score: 0.5897 AUC-ROC: 0.8674\n",
      "Max depth: 13 F1-score: 0.5907 AUC-ROC: 0.8583\n",
      "Max depth: 14 F1-score: 0.6142 AUC-ROC: 0.8621\n",
      "Max depth: 15 F1-score: 0.5964 AUC-ROC: 0.8568\n",
      "Max depth: 16 F1-score: 0.6006 AUC-ROC: 0.8555\n",
      "Max depth: 17 F1-score: 0.6118 AUC-ROC: 0.8598\n",
      "Max depth: 18 F1-score: 0.6118 AUC-ROC: 0.8584\n",
      "Max depth: 19 F1-score: 0.6096 AUC-ROC: 0.8564\n",
      "Max depth: 10 F1-score: 0.5948 AUC-ROC: 0.8711\n",
      "Max depth: 11 F1-score: 0.5936 AUC-ROC: 0.8669\n",
      "Max depth: 12 F1-score: 0.5936 AUC-ROC: 0.8682\n",
      "Max depth: 13 F1-score: 0.5964 AUC-ROC: 0.8589\n",
      "Max depth: 14 F1-score: 0.6051 AUC-ROC: 0.8633\n",
      "Max depth: 15 F1-score: 0.5991 AUC-ROC: 0.8576\n",
      "Max depth: 16 F1-score: 0.6000 AUC-ROC: 0.8563\n",
      "Max depth: 17 F1-score: 0.6129 AUC-ROC: 0.8605\n",
      "Max depth: 18 F1-score: 0.6079 AUC-ROC: 0.8587\n",
      "Max depth: 19 F1-score: 0.6200 AUC-ROC: 0.8563\n",
      "Max depth: 10 F1-score: 0.5886 AUC-ROC: 0.8721\n",
      "Max depth: 11 F1-score: 0.5936 AUC-ROC: 0.8669\n",
      "Max depth: 12 F1-score: 0.5884 AUC-ROC: 0.8684\n",
      "Max depth: 13 F1-score: 0.5970 AUC-ROC: 0.8614\n",
      "Max depth: 14 F1-score: 0.6030 AUC-ROC: 0.8644\n",
      "Max depth: 15 F1-score: 0.5979 AUC-ROC: 0.8597\n",
      "Max depth: 16 F1-score: 0.5979 AUC-ROC: 0.8549\n",
      "Max depth: 17 F1-score: 0.6006 AUC-ROC: 0.8610\n",
      "Max depth: 18 F1-score: 0.6086 AUC-ROC: 0.8613\n",
      "Max depth: 19 F1-score: 0.6090 AUC-ROC: 0.8582\n",
      "Max depth: 10 F1-score: 0.5908 AUC-ROC: 0.8726\n",
      "Max depth: 11 F1-score: 0.5991 AUC-ROC: 0.8669\n",
      "Max depth: 12 F1-score: 0.5915 AUC-ROC: 0.8692\n",
      "Max depth: 13 F1-score: 0.5879 AUC-ROC: 0.8633\n",
      "Max depth: 14 F1-score: 0.5982 AUC-ROC: 0.8658\n",
      "Max depth: 15 F1-score: 0.6078 AUC-ROC: 0.8603\n",
      "Max depth: 16 F1-score: 0.5967 AUC-ROC: 0.8558\n",
      "Max depth: 17 F1-score: 0.6077 AUC-ROC: 0.8603\n",
      "Max depth: 18 F1-score: 0.6115 AUC-ROC: 0.8638\n",
      "Max depth: 19 F1-score: 0.6036 AUC-ROC: 0.8586\n",
      "Max depth: 10 F1-score: 0.5828 AUC-ROC: 0.8725\n",
      "Max depth: 11 F1-score: 0.5997 AUC-ROC: 0.8675\n",
      "Max depth: 12 F1-score: 0.5902 AUC-ROC: 0.8692\n",
      "Max depth: 13 F1-score: 0.5930 AUC-ROC: 0.8653\n",
      "Max depth: 14 F1-score: 0.5982 AUC-ROC: 0.8649\n",
      "Max depth: 15 F1-score: 0.5994 AUC-ROC: 0.8597\n",
      "Max depth: 16 F1-score: 0.5946 AUC-ROC: 0.8561\n",
      "Max depth: 17 F1-score: 0.6065 AUC-ROC: 0.8612\n",
      "Max depth: 18 F1-score: 0.6065 AUC-ROC: 0.8645\n",
      "Max depth: 19 F1-score: 0.6033 AUC-ROC: 0.8590\n",
      "Max depth: 10 F1-score: 0.5877 AUC-ROC: 0.8727\n",
      "Max depth: 11 F1-score: 0.5967 AUC-ROC: 0.8678\n",
      "Max depth: 12 F1-score: 0.5881 AUC-ROC: 0.8698\n",
      "Max depth: 13 F1-score: 0.5952 AUC-ROC: 0.8679\n",
      "Max depth: 14 F1-score: 0.5979 AUC-ROC: 0.8651\n",
      "Max depth: 15 F1-score: 0.6045 AUC-ROC: 0.8612\n",
      "Max depth: 16 F1-score: 0.6003 AUC-ROC: 0.8585\n",
      "Max depth: 17 F1-score: 0.6044 AUC-ROC: 0.8610\n",
      "Max depth: 18 F1-score: 0.6083 AUC-ROC: 0.8648\n",
      "Max depth: 19 F1-score: 0.6083 AUC-ROC: 0.8596\n",
      "Max depth: 10 F1-score: 0.5881 AUC-ROC: 0.8730\n",
      "Max depth: 11 F1-score: 0.6009 AUC-ROC: 0.8682\n",
      "Max depth: 12 F1-score: 0.5877 AUC-ROC: 0.8713\n",
      "Max depth: 13 F1-score: 0.6030 AUC-ROC: 0.8672\n",
      "Max depth: 14 F1-score: 0.5946 AUC-ROC: 0.8656\n",
      "Max depth: 15 F1-score: 0.5921 AUC-ROC: 0.8615\n",
      "Max depth: 16 F1-score: 0.6000 AUC-ROC: 0.8603\n",
      "Max depth: 17 F1-score: 0.6060 AUC-ROC: 0.8609\n",
      "Max depth: 18 F1-score: 0.6060 AUC-ROC: 0.8649\n",
      "Max depth: 19 F1-score: 0.6042 AUC-ROC: 0.8601\n",
      "Max depth: 10 F1-score: 0.5908 AUC-ROC: 0.8731\n",
      "Max depth: 11 F1-score: 0.5970 AUC-ROC: 0.8693\n",
      "Max depth: 12 F1-score: 0.5920 AUC-ROC: 0.8705\n",
      "Max depth: 13 F1-score: 0.6105 AUC-ROC: 0.8664\n",
      "Max depth: 14 F1-score: 0.6036 AUC-ROC: 0.8663\n",
      "Max depth: 15 F1-score: 0.5909 AUC-ROC: 0.8621\n",
      "Max depth: 16 F1-score: 0.5948 AUC-ROC: 0.8609\n",
      "Max depth: 17 F1-score: 0.6133 AUC-ROC: 0.8616\n",
      "Max depth: 18 F1-score: 0.6106 AUC-ROC: 0.8650\n",
      "Max depth: 19 F1-score: 0.6021 AUC-ROC: 0.8612\n",
      "Max depth: 10 F1-score: 0.5899 AUC-ROC: 0.8727\n",
      "Max depth: 11 F1-score: 0.5957 AUC-ROC: 0.8697\n",
      "Max depth: 12 F1-score: 0.5886 AUC-ROC: 0.8707\n",
      "Max depth: 13 F1-score: 0.6051 AUC-ROC: 0.8667\n",
      "Max depth: 14 F1-score: 0.6069 AUC-ROC: 0.8669\n",
      "Max depth: 15 F1-score: 0.5870 AUC-ROC: 0.8619\n",
      "Max depth: 16 F1-score: 0.5957 AUC-ROC: 0.8607\n",
      "Max depth: 17 F1-score: 0.6024 AUC-ROC: 0.8619\n",
      "Max depth: 18 F1-score: 0.6090 AUC-ROC: 0.8658\n",
      "Max depth: 19 F1-score: 0.6080 AUC-ROC: 0.8613\n",
      "Max depth: 10 F1-score: 0.5873 AUC-ROC: 0.8723\n",
      "Max depth: 11 F1-score: 0.5988 AUC-ROC: 0.8695\n",
      "Max depth: 12 F1-score: 0.5929 AUC-ROC: 0.8702\n",
      "Max depth: 13 F1-score: 0.6021 AUC-ROC: 0.8660\n",
      "Max depth: 14 F1-score: 0.6045 AUC-ROC: 0.8679\n",
      "Max depth: 15 F1-score: 0.5870 AUC-ROC: 0.8624\n",
      "Max depth: 16 F1-score: 0.6012 AUC-ROC: 0.8614\n",
      "Max depth: 17 F1-score: 0.6030 AUC-ROC: 0.8624\n",
      "Max depth: 18 F1-score: 0.6104 AUC-ROC: 0.8657\n",
      "Max depth: 19 F1-score: 0.6074 AUC-ROC: 0.8611\n",
      "Max depth: 10 F1-score: 0.5877 AUC-ROC: 0.8723\n",
      "Max depth: 11 F1-score: 0.5988 AUC-ROC: 0.8697\n",
      "Max depth: 12 F1-score: 0.5864 AUC-ROC: 0.8706\n",
      "Max depth: 13 F1-score: 0.6009 AUC-ROC: 0.8663\n",
      "Max depth: 14 F1-score: 0.6021 AUC-ROC: 0.8672\n",
      "Max depth: 15 F1-score: 0.5900 AUC-ROC: 0.8632\n",
      "Max depth: 16 F1-score: 0.5964 AUC-ROC: 0.8614\n",
      "Max depth: 17 F1-score: 0.6021 AUC-ROC: 0.8628\n",
      "Max depth: 18 F1-score: 0.6133 AUC-ROC: 0.8657\n",
      "Max depth: 19 F1-score: 0.6057 AUC-ROC: 0.8615\n",
      "Max depth: 10 F1-score: 0.5811 AUC-ROC: 0.8725\n",
      "Max depth: 11 F1-score: 0.5988 AUC-ROC: 0.8706\n",
      "Max depth: 12 F1-score: 0.5864 AUC-ROC: 0.8706\n",
      "Max depth: 13 F1-score: 0.6094 AUC-ROC: 0.8664\n",
      "Max depth: 14 F1-score: 0.5979 AUC-ROC: 0.8670\n",
      "Max depth: 15 F1-score: 0.5927 AUC-ROC: 0.8638\n",
      "Max depth: 16 F1-score: 0.6069 AUC-ROC: 0.8620\n",
      "Max depth: 17 F1-score: 0.6147 AUC-ROC: 0.8630\n",
      "Max depth: 18 F1-score: 0.6142 AUC-ROC: 0.8656\n",
      "Max depth: 19 F1-score: 0.6051 AUC-ROC: 0.8618\n",
      "Max depth: 10 F1-score: 0.5899 AUC-ROC: 0.8727\n",
      "Max depth: 11 F1-score: 0.5985 AUC-ROC: 0.8702\n",
      "Max depth: 12 F1-score: 0.5886 AUC-ROC: 0.8706\n",
      "Max depth: 13 F1-score: 0.6105 AUC-ROC: 0.8664\n",
      "Max depth: 14 F1-score: 0.5927 AUC-ROC: 0.8670\n",
      "Max depth: 15 F1-score: 0.5921 AUC-ROC: 0.8642\n",
      "Max depth: 16 F1-score: 0.6087 AUC-ROC: 0.8615\n",
      "Max depth: 17 F1-score: 0.6077 AUC-ROC: 0.8629\n",
      "Max depth: 18 F1-score: 0.6122 AUC-ROC: 0.8659\n",
      "Max depth: 19 F1-score: 0.6060 AUC-ROC: 0.8612\n",
      "Max depth: 10 F1-score: 0.5851 AUC-ROC: 0.8731\n",
      "Max depth: 11 F1-score: 0.5982 AUC-ROC: 0.8705\n",
      "Max depth: 12 F1-score: 0.5868 AUC-ROC: 0.8705\n",
      "Max depth: 13 F1-score: 0.6039 AUC-ROC: 0.8658\n",
      "Max depth: 14 F1-score: 0.5918 AUC-ROC: 0.8667\n",
      "Max depth: 15 F1-score: 0.5879 AUC-ROC: 0.8650\n",
      "Max depth: 16 F1-score: 0.6045 AUC-ROC: 0.8617\n",
      "Max depth: 17 F1-score: 0.6053 AUC-ROC: 0.8645\n",
      "Max depth: 18 F1-score: 0.6083 AUC-ROC: 0.8656\n",
      "Max depth: 19 F1-score: 0.6042 AUC-ROC: 0.8618\n",
      "Max depth: 10 F1-score: 0.5842 AUC-ROC: 0.8738\n",
      "Max depth: 11 F1-score: 0.5973 AUC-ROC: 0.8712\n",
      "Max depth: 12 F1-score: 0.5886 AUC-ROC: 0.8707\n",
      "Max depth: 13 F1-score: 0.6051 AUC-ROC: 0.8661\n",
      "Max depth: 14 F1-score: 0.5961 AUC-ROC: 0.8668\n",
      "Max depth: 15 F1-score: 0.5921 AUC-ROC: 0.8647\n",
      "Max depth: 16 F1-score: 0.6036 AUC-ROC: 0.8616\n",
      "Max depth: 17 F1-score: 0.5982 AUC-ROC: 0.8645\n",
      "Max depth: 18 F1-score: 0.6124 AUC-ROC: 0.8663\n",
      "Max depth: 19 F1-score: 0.6062 AUC-ROC: 0.8617\n",
      "Max depth: 10 F1-score: 0.5802 AUC-ROC: 0.8737\n",
      "Max depth: 11 F1-score: 0.6030 AUC-ROC: 0.8709\n",
      "Max depth: 12 F1-score: 0.5920 AUC-ROC: 0.8706\n",
      "Max depth: 13 F1-score: 0.6082 AUC-ROC: 0.8662\n",
      "Max depth: 14 F1-score: 0.5927 AUC-ROC: 0.8666\n",
      "Max depth: 15 F1-score: 0.5870 AUC-ROC: 0.8646\n",
      "Max depth: 16 F1-score: 0.5976 AUC-ROC: 0.8617\n",
      "Max depth: 17 F1-score: 0.6095 AUC-ROC: 0.8636\n",
      "Max depth: 18 F1-score: 0.6154 AUC-ROC: 0.8654\n",
      "Max depth: 19 F1-score: 0.6095 AUC-ROC: 0.8626\n",
      "Max depth: 10 F1-score: 0.5815 AUC-ROC: 0.8738\n",
      "Max depth: 11 F1-score: 0.6082 AUC-ROC: 0.8708\n",
      "Max depth: 12 F1-score: 0.5911 AUC-ROC: 0.8707\n",
      "Max depth: 13 F1-score: 0.6112 AUC-ROC: 0.8662\n",
      "Max depth: 14 F1-score: 0.5979 AUC-ROC: 0.8663\n",
      "Max depth: 15 F1-score: 0.5925 AUC-ROC: 0.8650\n",
      "Max depth: 16 F1-score: 0.6039 AUC-ROC: 0.8633\n",
      "Max depth: 17 F1-score: 0.6033 AUC-ROC: 0.8645\n",
      "Max depth: 18 F1-score: 0.6113 AUC-ROC: 0.8661\n",
      "Max depth: 19 F1-score: 0.6122 AUC-ROC: 0.8621\n",
      "Лучшая F-мера 0.6248175182481751 при глубине = 14,  количестве деревьев = 25 и AUC-ROC = 0.8564090366045917\n",
      "CPU times: user 2min 35s, sys: 3.44 s, total: 2min 39s\n",
      "Wall time: 3min 12s\n"
     ]
    }
   ],
   "source": [
    "%%time\n",
    "\n",
    "best_model_rfc = None\n",
    "best_depth_rfc = 0\n",
    "best_est = 0\n",
    "best_result_rfc = 0\n",
    "best_auc_roc = 0\n",
    "\n",
    "\n",
    "for estimator in range(10, 121, 5):\n",
    "    for depth in range(10, 20):\n",
    "        model_rfc =  RandomForestClassifier(random_state=12345, n_estimators=estimator, max_depth=depth).fit(features_train, target_train)\n",
    "        predictions_valid_rfc = model_rfc.predict(features_valid)\n",
    "        result = f1_score(target_valid, predictions_valid_rfc)\n",
    "        probabilities_valid_rfc = model_rfc.predict_proba(features_valid)\n",
    "        probabilities_one_valid_rfc = probabilities_valid_rfc[:, 1]\n",
    "        auc_roc = roc_auc_score(target_valid, probabilities_one_valid_rfc)\n",
    "        print('Max depth:', depth,'F1-score:','{:.4f}'.format(result), \n",
    "          'AUC-ROC:','{:.4f}'.format(auc_roc))\n",
    "    \n",
    "        if best_result_rfc < result:\n",
    "            best_result_rfc = result\n",
    "            best_depth_rfc = depth\n",
    "            best_est = estimator\n",
    "            best_model_rfc = model_rfc\n",
    "            best_auc_roc = auc_roc\n",
    "\n",
    "print(\"Лучшая F-мера\", best_result_rfc, 'при глубине = {0},  количестве деревьев = {1} и AUC-ROC = {2}'.format(best_depth_rfc, best_est, best_auc_roc))"
   ]
  },
  {
   "cell_type": "markdown",
   "metadata": {},
   "source": [
    "После обучения модели Случайный лес на несбалансированных данных, лучший показатель F1-меры - 0,6248 достигается при количестве деревьев - 25 и максимальной глубине - 14, AUC-ROC 0.8564. Wall-time - 1m 42s."
   ]
  },
  {
   "cell_type": "markdown",
   "metadata": {},
   "source": [
    "#### Проверка Logistic Regression"
   ]
  },
  {
   "cell_type": "code",
   "execution_count": 41,
   "metadata": {
    "scrolled": true
   },
   "outputs": [
    {
     "name": "stdout",
     "output_type": "stream",
     "text": [
      "F1-score: 0.3077 AUC-ROC: 0.7876\n",
      "CPU times: user 31 ms, sys: 6.32 ms, total: 37.3 ms\n",
      "Wall time: 75.8 ms\n"
     ]
    }
   ],
   "source": [
    "%%time\n",
    "\n",
    "model_lr = LogisticRegression(random_state=12345, solver='liblinear').fit(features_train, target_train)\n",
    "predictions_valid_lr = model_lr.predict(features_valid)\n",
    "probabilities_valid_lr = model_lr.predict_proba(features_valid)\n",
    "probabilities_one_valid_lr = probabilities_valid_lr[:, 1]\n",
    "\n",
    "print('F1-score:','{:.4f}'.format(f1_score(target_valid, predictions_valid_lr)),\n",
    "     'AUC-ROC:','{:.4f}'.format(roc_auc_score(target_valid, probabilities_one_valid_lr)))"
   ]
  },
  {
   "cell_type": "markdown",
   "metadata": {},
   "source": [
    "После обучения модели Логистическая регрессия на несбалансированных данных показатель F1-меры составил 0,3077, <br /> AUC-ROC - 0.7876, Wall Time - 19.7 ms. \n",
    "Получим дополнительные метрики для лучшей модели."
   ]
  },
  {
   "cell_type": "code",
   "execution_count": 42,
   "metadata": {
    "scrolled": true
   },
   "outputs": [
    {
     "name": "stdout",
     "output_type": "stream",
     "text": [
      "Полнота 0.5245\n",
      "Точность 0.7726\n",
      "F1-мера 0.6248\n",
      "AUC-ROC 0.8564\n"
     ]
    }
   ],
   "source": [
    "model_rfc_best = RandomForestClassifier(random_state=12345, n_estimators=25, max_depth=14).fit(features_train, target_train)\n",
    "predictions_valid_rfc_best = model_rfc_best.predict(features_valid)\n",
    "probabilities_valid_rfc_best = model_rfc_best.predict_proba(features_valid)\n",
    "probabilities_one_valid_rfc_best = probabilities_valid_rfc_best[:, 1]\n",
    "get_metrics(target_valid, predictions_valid_rfc_best, probabilities_one_valid_rfc_best)"
   ]
  },
  {
   "cell_type": "markdown",
   "metadata": {},
   "source": [
    "**Выводы по результатам исследования**\n",
    "\n",
    "Точность константной модели сравнима с результатами у дерева решений, и не так сильно уступает случайному лесу и логистической регрессии. В данных присутствует сильный дисбаланс, обучив на таких модели: лучшее значение F-меры 0.6248 у модели Случайный лес при глубине = 14 и количестве деревьев = 25, при этом точность - 0.77, а полнота - 0.52. Для улучшения качества предсказаний, рекомендуется сделать классы равнозначными, сбалансировав их."
   ]
  },
  {
   "cell_type": "markdown",
   "metadata": {},
   "source": [
    "## Борьба с дисбалансом"
   ]
  },
  {
   "cell_type": "markdown",
   "metadata": {},
   "source": [
    "### Балансировка классов"
   ]
  },
  {
   "cell_type": "markdown",
   "metadata": {},
   "source": [
    "Придадим объектам редкого класса 1 больший вес используя гиперпараметр class_weight='balanced'"
   ]
  },
  {
   "cell_type": "markdown",
   "metadata": {},
   "source": [
    "#### Проверка Decision Tree"
   ]
  },
  {
   "cell_type": "code",
   "execution_count": 43,
   "metadata": {
    "scrolled": true
   },
   "outputs": [
    {
     "name": "stdout",
     "output_type": "stream",
     "text": [
      "Max depth: 2 F1-score: 0.4980 AUC-ROC: 0.7476\n",
      "Max depth: 3 F1-score: 0.5207 AUC-ROC: 0.7887\n",
      "Max depth: 4 F1-score: 0.5609 AUC-ROC: 0.8220\n",
      "Max depth: 5 F1-score: 0.5546 AUC-ROC: 0.8414\n",
      "Max depth: 6 F1-score: 0.5759 AUC-ROC: 0.8234\n",
      "Max depth: 7 F1-score: 0.5750 AUC-ROC: 0.8206\n",
      "Max depth: 8 F1-score: 0.5494 AUC-ROC: 0.8027\n",
      "Max depth: 9 F1-score: 0.5416 AUC-ROC: 0.7809\n",
      "Max depth: 10 F1-score: 0.5253 AUC-ROC: 0.7634\n",
      "Max depth: 11 F1-score: 0.5207 AUC-ROC: 0.7390\n",
      "Max depth: 12 F1-score: 0.5216 AUC-ROC: 0.7355\n",
      "Max depth: 13 F1-score: 0.5221 AUC-ROC: 0.7197\n",
      "Max depth: 14 F1-score: 0.5122 AUC-ROC: 0.7049\n",
      "Max depth: 15 F1-score: 0.5144 AUC-ROC: 0.7028\n",
      "Max depth: 16 F1-score: 0.5064 AUC-ROC: 0.7014\n",
      "Max depth: 17 F1-score: 0.4982 AUC-ROC: 0.6904\n",
      "Max depth: 18 F1-score: 0.5053 AUC-ROC: 0.6953\n",
      "Max depth: 19 F1-score: 0.4988 AUC-ROC: 0.6893\n",
      "Max depth: 20 F1-score: 0.5107 AUC-ROC: 0.6967\n",
      "Max depth: 21 F1-score: 0.5085 AUC-ROC: 0.6943\n",
      "Max depth: 22 F1-score: 0.5072 AUC-ROC: 0.6924\n",
      "Max depth: 23 F1-score: 0.5054 AUC-ROC: 0.6922\n",
      "Max depth: 24 F1-score: 0.5066 AUC-ROC: 0.6924\n",
      "Max depth: 25 F1-score: 0.5146 AUC-ROC: 0.6964\n",
      "Max depth: 26 F1-score: 0.5177 AUC-ROC: 0.6981\n",
      "Max depth: 27 F1-score: 0.5116 AUC-ROC: 0.6938\n",
      "Max depth: 28 F1-score: 0.5097 AUC-ROC: 0.6927\n",
      "Max depth: 29 F1-score: 0.5097 AUC-ROC: 0.6927\n",
      "Лучшая F-мера 0.575925925925926 cо значением глубины = 6 cо значением AUC-ROC = 0.8234124051630702\n",
      "CPU times: user 1.09 s, sys: 16.3 ms, total: 1.11 s\n",
      "Wall time: 1.15 s\n"
     ]
    }
   ],
   "source": [
    "%%time\n",
    "\n",
    "best_model_dtc_balanced = None\n",
    "best_depth_dtc_balanced = 0\n",
    "best_result_dtc_balanced = 0\n",
    "best_auc_roc_dtc_balanced = 0\n",
    "\n",
    "for depth in range(2, 30):\n",
    "    model_dtc_balanced = DecisionTreeClassifier(random_state=12345, max_depth=depth, class_weight='balanced').fit(features_train, target_train)\n",
    "    predictions_valid_dtc_balanced = model_dtc_balanced.predict(features_valid)\n",
    "    result = f1_score(target_valid, predictions_valid_dtc_balanced)\n",
    "    probabilities_valid_dtc_balanced = model_dtc_balanced.predict_proba(features_valid)\n",
    "    probabilities_one_valid_dtc_balanced = probabilities_valid_dtc_balanced[:, 1]\n",
    "    auc_roc = roc_auc_score(target_valid, probabilities_one_valid_dtc_balanced)\n",
    "    print('Max depth:', depth,'F1-score:','{:.4f}'.format(result),\n",
    "          'AUC-ROC:','{:.4f}'.format(auc_roc))\n",
    "    \n",
    "    if best_result_dtc_balanced < result:\n",
    "        best_result_dtc_balanced = result\n",
    "        best_depth_dtc_balanced = depth\n",
    "        best_model_dtc_balanced = model_dtc_balanced\n",
    "        best_auc_roc_dtc_balanced = auc_roc\n",
    "\n",
    "print(\"Лучшая F-мера\", best_result_dtc_balanced, 'cо значением глубины =', best_depth_dtc_balanced, 'cо значением AUC-ROC =', best_auc_roc_dtc_balanced)"
   ]
  },
  {
   "cell_type": "markdown",
   "metadata": {},
   "source": [
    "Лучшая F-мера 0.5759 cо значением глубины = 6 и AUC-ROC = 0.8234, стала меньше, чем до использования гиперпараметра."
   ]
  },
  {
   "cell_type": "markdown",
   "metadata": {},
   "source": [
    "#### Проверка Random Forest"
   ]
  },
  {
   "cell_type": "code",
   "execution_count": 44,
   "metadata": {
    "scrolled": true
   },
   "outputs": [
    {
     "name": "stdout",
     "output_type": "stream",
     "text": [
      "Max depth: 10 F1-score: 0.6235 AUC-ROC: 0.8606\n",
      "Max depth: 11 F1-score: 0.6154 AUC-ROC: 0.8477\n",
      "Max depth: 12 F1-score: 0.6168 AUC-ROC: 0.8488\n",
      "Max depth: 13 F1-score: 0.5824 AUC-ROC: 0.8264\n",
      "Max depth: 14 F1-score: 0.5905 AUC-ROC: 0.8375\n",
      "Max depth: 15 F1-score: 0.6234 AUC-ROC: 0.8436\n",
      "Max depth: 16 F1-score: 0.5751 AUC-ROC: 0.8412\n",
      "Max depth: 17 F1-score: 0.5761 AUC-ROC: 0.8293\n",
      "Max depth: 18 F1-score: 0.5675 AUC-ROC: 0.8350\n",
      "Max depth: 19 F1-score: 0.5415 AUC-ROC: 0.8277\n",
      "Max depth: 10 F1-score: 0.6270 AUC-ROC: 0.8600\n",
      "Max depth: 11 F1-score: 0.6177 AUC-ROC: 0.8531\n",
      "Max depth: 12 F1-score: 0.6279 AUC-ROC: 0.8524\n",
      "Max depth: 13 F1-score: 0.5879 AUC-ROC: 0.8419\n",
      "Max depth: 14 F1-score: 0.5967 AUC-ROC: 0.8449\n",
      "Max depth: 15 F1-score: 0.6014 AUC-ROC: 0.8570\n",
      "Max depth: 16 F1-score: 0.6039 AUC-ROC: 0.8464\n",
      "Max depth: 17 F1-score: 0.5980 AUC-ROC: 0.8439\n",
      "Max depth: 18 F1-score: 0.5896 AUC-ROC: 0.8459\n",
      "Max depth: 19 F1-score: 0.5900 AUC-ROC: 0.8427\n",
      "Max depth: 10 F1-score: 0.6249 AUC-ROC: 0.8637\n",
      "Max depth: 11 F1-score: 0.6258 AUC-ROC: 0.8558\n",
      "Max depth: 12 F1-score: 0.6187 AUC-ROC: 0.8555\n",
      "Max depth: 13 F1-score: 0.5986 AUC-ROC: 0.8466\n",
      "Max depth: 14 F1-score: 0.5830 AUC-ROC: 0.8483\n",
      "Max depth: 15 F1-score: 0.5835 AUC-ROC: 0.8560\n",
      "Max depth: 16 F1-score: 0.5925 AUC-ROC: 0.8518\n",
      "Max depth: 17 F1-score: 0.5824 AUC-ROC: 0.8480\n",
      "Max depth: 18 F1-score: 0.5797 AUC-ROC: 0.8512\n",
      "Max depth: 19 F1-score: 0.5657 AUC-ROC: 0.8448\n",
      "Max depth: 10 F1-score: 0.6218 AUC-ROC: 0.8654\n",
      "Max depth: 11 F1-score: 0.6276 AUC-ROC: 0.8581\n",
      "Max depth: 12 F1-score: 0.6296 AUC-ROC: 0.8571\n",
      "Max depth: 13 F1-score: 0.6072 AUC-ROC: 0.8468\n",
      "Max depth: 14 F1-score: 0.5847 AUC-ROC: 0.8509\n",
      "Max depth: 15 F1-score: 0.5842 AUC-ROC: 0.8563\n",
      "Max depth: 16 F1-score: 0.6061 AUC-ROC: 0.8554\n",
      "Max depth: 17 F1-score: 0.5930 AUC-ROC: 0.8500\n",
      "Max depth: 18 F1-score: 0.5837 AUC-ROC: 0.8511\n",
      "Max depth: 19 F1-score: 0.5701 AUC-ROC: 0.8483\n",
      "Max depth: 10 F1-score: 0.6208 AUC-ROC: 0.8654\n",
      "Max depth: 11 F1-score: 0.6181 AUC-ROC: 0.8606\n",
      "Max depth: 12 F1-score: 0.6262 AUC-ROC: 0.8577\n",
      "Max depth: 13 F1-score: 0.6133 AUC-ROC: 0.8508\n",
      "Max depth: 14 F1-score: 0.5901 AUC-ROC: 0.8535\n",
      "Max depth: 15 F1-score: 0.5731 AUC-ROC: 0.8562\n",
      "Max depth: 16 F1-score: 0.5988 AUC-ROC: 0.8545\n",
      "Max depth: 17 F1-score: 0.5903 AUC-ROC: 0.8504\n",
      "Max depth: 18 F1-score: 0.5770 AUC-ROC: 0.8517\n",
      "Max depth: 19 F1-score: 0.5666 AUC-ROC: 0.8497\n",
      "Max depth: 10 F1-score: 0.6320 AUC-ROC: 0.8662\n",
      "Max depth: 11 F1-score: 0.6309 AUC-ROC: 0.8607\n",
      "Max depth: 12 F1-score: 0.6190 AUC-ROC: 0.8601\n",
      "Max depth: 13 F1-score: 0.6126 AUC-ROC: 0.8562\n",
      "Max depth: 14 F1-score: 0.5876 AUC-ROC: 0.8549\n",
      "Max depth: 15 F1-score: 0.5789 AUC-ROC: 0.8574\n",
      "Max depth: 16 F1-score: 0.6017 AUC-ROC: 0.8573\n",
      "Max depth: 17 F1-score: 0.5938 AUC-ROC: 0.8550\n",
      "Max depth: 18 F1-score: 0.5902 AUC-ROC: 0.8544\n",
      "Max depth: 19 F1-score: 0.5770 AUC-ROC: 0.8532\n",
      "Max depth: 10 F1-score: 0.6330 AUC-ROC: 0.8680\n",
      "Max depth: 11 F1-score: 0.6286 AUC-ROC: 0.8617\n",
      "Max depth: 12 F1-score: 0.6148 AUC-ROC: 0.8621\n",
      "Max depth: 13 F1-score: 0.6124 AUC-ROC: 0.8567\n",
      "Max depth: 14 F1-score: 0.5957 AUC-ROC: 0.8574\n",
      "Max depth: 15 F1-score: 0.5806 AUC-ROC: 0.8585\n",
      "Max depth: 16 F1-score: 0.5891 AUC-ROC: 0.8576\n",
      "Max depth: 17 F1-score: 0.5820 AUC-ROC: 0.8563\n",
      "Max depth: 18 F1-score: 0.5714 AUC-ROC: 0.8564\n",
      "Max depth: 19 F1-score: 0.5736 AUC-ROC: 0.8553\n",
      "Max depth: 10 F1-score: 0.6354 AUC-ROC: 0.8680\n",
      "Max depth: 11 F1-score: 0.6271 AUC-ROC: 0.8616\n",
      "Max depth: 12 F1-score: 0.6243 AUC-ROC: 0.8634\n",
      "Max depth: 13 F1-score: 0.6154 AUC-ROC: 0.8570\n",
      "Max depth: 14 F1-score: 0.5974 AUC-ROC: 0.8584\n",
      "Max depth: 15 F1-score: 0.5906 AUC-ROC: 0.8598\n",
      "Max depth: 16 F1-score: 0.5971 AUC-ROC: 0.8580\n",
      "Max depth: 17 F1-score: 0.5870 AUC-ROC: 0.8569\n",
      "Max depth: 18 F1-score: 0.5872 AUC-ROC: 0.8600\n",
      "Max depth: 19 F1-score: 0.5865 AUC-ROC: 0.8579\n",
      "Max depth: 10 F1-score: 0.6295 AUC-ROC: 0.8686\n",
      "Max depth: 11 F1-score: 0.6280 AUC-ROC: 0.8631\n",
      "Max depth: 12 F1-score: 0.6217 AUC-ROC: 0.8649\n",
      "Max depth: 13 F1-score: 0.6116 AUC-ROC: 0.8594\n",
      "Max depth: 14 F1-score: 0.5989 AUC-ROC: 0.8578\n",
      "Max depth: 15 F1-score: 0.5769 AUC-ROC: 0.8604\n",
      "Max depth: 16 F1-score: 0.5953 AUC-ROC: 0.8574\n",
      "Max depth: 17 F1-score: 0.5882 AUC-ROC: 0.8570\n",
      "Max depth: 18 F1-score: 0.5710 AUC-ROC: 0.8607\n",
      "Max depth: 19 F1-score: 0.5723 AUC-ROC: 0.8559\n",
      "Max depth: 10 F1-score: 0.6337 AUC-ROC: 0.8681\n",
      "Max depth: 11 F1-score: 0.6338 AUC-ROC: 0.8637\n",
      "Max depth: 12 F1-score: 0.6306 AUC-ROC: 0.8643\n",
      "Max depth: 13 F1-score: 0.6139 AUC-ROC: 0.8608\n",
      "Max depth: 14 F1-score: 0.5960 AUC-ROC: 0.8578\n",
      "Max depth: 15 F1-score: 0.5826 AUC-ROC: 0.8610\n",
      "Max depth: 16 F1-score: 0.5894 AUC-ROC: 0.8576\n",
      "Max depth: 17 F1-score: 0.5936 AUC-ROC: 0.8574\n",
      "Max depth: 18 F1-score: 0.5693 AUC-ROC: 0.8606\n",
      "Max depth: 19 F1-score: 0.5697 AUC-ROC: 0.8589\n",
      "Max depth: 10 F1-score: 0.6360 AUC-ROC: 0.8682\n",
      "Max depth: 11 F1-score: 0.6271 AUC-ROC: 0.8636\n",
      "Max depth: 12 F1-score: 0.6291 AUC-ROC: 0.8650\n",
      "Max depth: 13 F1-score: 0.6260 AUC-ROC: 0.8618\n",
      "Max depth: 14 F1-score: 0.5937 AUC-ROC: 0.8602\n",
      "Max depth: 15 F1-score: 0.5810 AUC-ROC: 0.8601\n",
      "Max depth: 16 F1-score: 0.5844 AUC-ROC: 0.8579\n",
      "Max depth: 17 F1-score: 0.5879 AUC-ROC: 0.8582\n",
      "Max depth: 18 F1-score: 0.5800 AUC-ROC: 0.8626\n",
      "Max depth: 19 F1-score: 0.5745 AUC-ROC: 0.8607\n",
      "Max depth: 10 F1-score: 0.6311 AUC-ROC: 0.8683\n",
      "Max depth: 11 F1-score: 0.6348 AUC-ROC: 0.8654\n",
      "Max depth: 12 F1-score: 0.6268 AUC-ROC: 0.8642\n",
      "Max depth: 13 F1-score: 0.6326 AUC-ROC: 0.8634\n",
      "Max depth: 14 F1-score: 0.5909 AUC-ROC: 0.8596\n",
      "Max depth: 15 F1-score: 0.5781 AUC-ROC: 0.8620\n",
      "Max depth: 16 F1-score: 0.5849 AUC-ROC: 0.8576\n",
      "Max depth: 17 F1-score: 0.5941 AUC-ROC: 0.8587\n",
      "Max depth: 18 F1-score: 0.5753 AUC-ROC: 0.8615\n",
      "Max depth: 19 F1-score: 0.5779 AUC-ROC: 0.8612\n",
      "Max depth: 10 F1-score: 0.6361 AUC-ROC: 0.8687\n",
      "Max depth: 11 F1-score: 0.6313 AUC-ROC: 0.8660\n",
      "Max depth: 12 F1-score: 0.6232 AUC-ROC: 0.8653\n",
      "Max depth: 13 F1-score: 0.6253 AUC-ROC: 0.8639\n",
      "Max depth: 14 F1-score: 0.5926 AUC-ROC: 0.8607\n",
      "Max depth: 15 F1-score: 0.5839 AUC-ROC: 0.8617\n",
      "Max depth: 16 F1-score: 0.5929 AUC-ROC: 0.8592\n",
      "Max depth: 17 F1-score: 0.5854 AUC-ROC: 0.8594\n",
      "Max depth: 18 F1-score: 0.5732 AUC-ROC: 0.8620\n",
      "Max depth: 19 F1-score: 0.5714 AUC-ROC: 0.8620\n",
      "Max depth: 10 F1-score: 0.6350 AUC-ROC: 0.8696\n",
      "Max depth: 11 F1-score: 0.6314 AUC-ROC: 0.8662\n",
      "Max depth: 12 F1-score: 0.6294 AUC-ROC: 0.8658\n",
      "Max depth: 13 F1-score: 0.6243 AUC-ROC: 0.8641\n",
      "Max depth: 14 F1-score: 0.6006 AUC-ROC: 0.8609\n",
      "Max depth: 15 F1-score: 0.5877 AUC-ROC: 0.8610\n",
      "Max depth: 16 F1-score: 0.5962 AUC-ROC: 0.8609\n",
      "Max depth: 17 F1-score: 0.5905 AUC-ROC: 0.8599\n",
      "Max depth: 18 F1-score: 0.5809 AUC-ROC: 0.8628\n",
      "Max depth: 19 F1-score: 0.5865 AUC-ROC: 0.8630\n",
      "Max depth: 10 F1-score: 0.6360 AUC-ROC: 0.8695\n",
      "Max depth: 11 F1-score: 0.6341 AUC-ROC: 0.8664\n",
      "Max depth: 12 F1-score: 0.6295 AUC-ROC: 0.8666\n",
      "Max depth: 13 F1-score: 0.6188 AUC-ROC: 0.8643\n",
      "Max depth: 14 F1-score: 0.5954 AUC-ROC: 0.8618\n",
      "Max depth: 15 F1-score: 0.5915 AUC-ROC: 0.8607\n",
      "Max depth: 16 F1-score: 0.5935 AUC-ROC: 0.8607\n",
      "Max depth: 17 F1-score: 0.5985 AUC-ROC: 0.8593\n",
      "Max depth: 18 F1-score: 0.5801 AUC-ROC: 0.8616\n",
      "Max depth: 19 F1-score: 0.5792 AUC-ROC: 0.8628\n",
      "Max depth: 10 F1-score: 0.6416 AUC-ROC: 0.8704\n",
      "Max depth: 11 F1-score: 0.6324 AUC-ROC: 0.8664\n",
      "Max depth: 12 F1-score: 0.6304 AUC-ROC: 0.8671\n",
      "Max depth: 13 F1-score: 0.6262 AUC-ROC: 0.8645\n",
      "Max depth: 14 F1-score: 0.5986 AUC-ROC: 0.8616\n",
      "Max depth: 15 F1-score: 0.5906 AUC-ROC: 0.8608\n",
      "Max depth: 16 F1-score: 0.5959 AUC-ROC: 0.8607\n",
      "Max depth: 17 F1-score: 0.5976 AUC-ROC: 0.8606\n",
      "Max depth: 18 F1-score: 0.5835 AUC-ROC: 0.8612\n",
      "Max depth: 19 F1-score: 0.5779 AUC-ROC: 0.8631\n",
      "Max depth: 10 F1-score: 0.6386 AUC-ROC: 0.8700\n",
      "Max depth: 11 F1-score: 0.6299 AUC-ROC: 0.8656\n",
      "Max depth: 12 F1-score: 0.6214 AUC-ROC: 0.8667\n",
      "Max depth: 13 F1-score: 0.6177 AUC-ROC: 0.8651\n",
      "Max depth: 14 F1-score: 0.5960 AUC-ROC: 0.8613\n",
      "Max depth: 15 F1-score: 0.5918 AUC-ROC: 0.8618\n",
      "Max depth: 16 F1-score: 0.5964 AUC-ROC: 0.8609\n",
      "Max depth: 17 F1-score: 0.5968 AUC-ROC: 0.8608\n",
      "Max depth: 18 F1-score: 0.5843 AUC-ROC: 0.8617\n",
      "Max depth: 19 F1-score: 0.5779 AUC-ROC: 0.8634\n",
      "Max depth: 10 F1-score: 0.6370 AUC-ROC: 0.8707\n",
      "Max depth: 11 F1-score: 0.6366 AUC-ROC: 0.8656\n",
      "Max depth: 12 F1-score: 0.6240 AUC-ROC: 0.8672\n",
      "Max depth: 13 F1-score: 0.6143 AUC-ROC: 0.8663\n",
      "Max depth: 14 F1-score: 0.5983 AUC-ROC: 0.8622\n",
      "Max depth: 15 F1-score: 0.5898 AUC-ROC: 0.8623\n",
      "Max depth: 16 F1-score: 0.5968 AUC-ROC: 0.8617\n",
      "Max depth: 17 F1-score: 0.5917 AUC-ROC: 0.8613\n",
      "Max depth: 18 F1-score: 0.5805 AUC-ROC: 0.8619\n",
      "Max depth: 19 F1-score: 0.5758 AUC-ROC: 0.8631\n",
      "Max depth: 10 F1-score: 0.6354 AUC-ROC: 0.8712\n",
      "Max depth: 11 F1-score: 0.6333 AUC-ROC: 0.8662\n",
      "Max depth: 12 F1-score: 0.6232 AUC-ROC: 0.8673\n",
      "Max depth: 13 F1-score: 0.6177 AUC-ROC: 0.8670\n",
      "Max depth: 14 F1-score: 0.6003 AUC-ROC: 0.8629\n",
      "Max depth: 15 F1-score: 0.5848 AUC-ROC: 0.8624\n",
      "Max depth: 16 F1-score: 0.5964 AUC-ROC: 0.8611\n",
      "Max depth: 17 F1-score: 0.5952 AUC-ROC: 0.8621\n",
      "Max depth: 18 F1-score: 0.5840 AUC-ROC: 0.8624\n",
      "Max depth: 19 F1-score: 0.5727 AUC-ROC: 0.8642\n",
      "Max depth: 10 F1-score: 0.6346 AUC-ROC: 0.8706\n",
      "Max depth: 11 F1-score: 0.6375 AUC-ROC: 0.8663\n",
      "Max depth: 12 F1-score: 0.6286 AUC-ROC: 0.8675\n",
      "Max depth: 13 F1-score: 0.6250 AUC-ROC: 0.8669\n",
      "Max depth: 14 F1-score: 0.5971 AUC-ROC: 0.8630\n",
      "Max depth: 15 F1-score: 0.5918 AUC-ROC: 0.8619\n",
      "Max depth: 16 F1-score: 0.5908 AUC-ROC: 0.8614\n",
      "Max depth: 17 F1-score: 0.5935 AUC-ROC: 0.8625\n",
      "Max depth: 18 F1-score: 0.5861 AUC-ROC: 0.8630\n",
      "Max depth: 19 F1-score: 0.5779 AUC-ROC: 0.8636\n",
      "Max depth: 10 F1-score: 0.6355 AUC-ROC: 0.8703\n",
      "Max depth: 11 F1-score: 0.6433 AUC-ROC: 0.8667\n",
      "Max depth: 12 F1-score: 0.6309 AUC-ROC: 0.8677\n",
      "Max depth: 13 F1-score: 0.6207 AUC-ROC: 0.8669\n",
      "Max depth: 14 F1-score: 0.5931 AUC-ROC: 0.8627\n",
      "Max depth: 15 F1-score: 0.5918 AUC-ROC: 0.8627\n",
      "Max depth: 16 F1-score: 0.5884 AUC-ROC: 0.8611\n",
      "Max depth: 17 F1-score: 0.5976 AUC-ROC: 0.8629\n",
      "Max depth: 18 F1-score: 0.5848 AUC-ROC: 0.8627\n",
      "Max depth: 19 F1-score: 0.5732 AUC-ROC: 0.8639\n",
      "Max depth: 10 F1-score: 0.6370 AUC-ROC: 0.8703\n",
      "Max depth: 11 F1-score: 0.6358 AUC-ROC: 0.8674\n",
      "Max depth: 12 F1-score: 0.6292 AUC-ROC: 0.8680\n",
      "Max depth: 13 F1-score: 0.6215 AUC-ROC: 0.8665\n",
      "Max depth: 14 F1-score: 0.5971 AUC-ROC: 0.8633\n",
      "Max depth: 15 F1-score: 0.5869 AUC-ROC: 0.8626\n",
      "Max depth: 16 F1-score: 0.5875 AUC-ROC: 0.8609\n",
      "Max depth: 17 F1-score: 0.5905 AUC-ROC: 0.8625\n",
      "Max depth: 18 F1-score: 0.5840 AUC-ROC: 0.8623\n",
      "Max depth: 19 F1-score: 0.5766 AUC-ROC: 0.8642\n",
      "Max depth: 10 F1-score: 0.6345 AUC-ROC: 0.8708\n",
      "Max depth: 11 F1-score: 0.6392 AUC-ROC: 0.8685\n",
      "Max depth: 12 F1-score: 0.6275 AUC-ROC: 0.8682\n",
      "Max depth: 13 F1-score: 0.6207 AUC-ROC: 0.8673\n",
      "Max depth: 14 F1-score: 0.5971 AUC-ROC: 0.8642\n",
      "Max depth: 15 F1-score: 0.5877 AUC-ROC: 0.8628\n",
      "Max depth: 16 F1-score: 0.5905 AUC-ROC: 0.8609\n",
      "Max depth: 17 F1-score: 0.5982 AUC-ROC: 0.8626\n",
      "Max depth: 18 F1-score: 0.5792 AUC-ROC: 0.8628\n",
      "Max depth: 19 F1-score: 0.5740 AUC-ROC: 0.8645\n",
      "Лучшая F-мера 0.6433041301627034 при глубине = 11,  количестве деревьев = 110 и AUC-ROC = 0.866666358754557\n",
      "CPU times: user 2min 16s, sys: 2.51 s, total: 2min 19s\n",
      "Wall time: 2min 23s\n"
     ]
    }
   ],
   "source": [
    "%%time\n",
    "\n",
    "best_model_rfc_balanced = None\n",
    "best_depth_rfc_balanced = 0\n",
    "best_est_balanced = 0\n",
    "best_result_rfc_balanced = 0\n",
    "best_auc_roc_rfc_balanced = 0\n",
    "\n",
    "\n",
    "for estimator in range(10, 121, 5):\n",
    "    for depth in range(10, 20):\n",
    "        model_rfc_balanced =  RandomForestClassifier(random_state=12345, n_estimators=estimator, max_depth=depth, class_weight='balanced').fit(features_train, target_train)\n",
    "        predictions_valid_rfc_balanced = model_rfc_balanced.predict(features_valid)\n",
    "        result = f1_score(target_valid, predictions_valid_rfc_balanced)\n",
    "        probabilities_valid_rfc_balanced = model_rfc_balanced.predict_proba(features_valid)\n",
    "        probabilities_one_valid_rfc_balanced = probabilities_valid_rfc_balanced[:, 1]\n",
    "        auc_roc = roc_auc_score(target_valid, probabilities_one_valid_rfc_balanced)\n",
    "        print('Max depth:', depth,'F1-score:','{:.4f}'.format(result), \n",
    "          'AUC-ROC:','{:.4f}'.format(auc_roc))\n",
    "    \n",
    "        if best_result_rfc_balanced < result:\n",
    "            best_result_rfc_balanced = result\n",
    "            best_depth_rfc_balanced = depth\n",
    "            best_est_balanced = estimator\n",
    "            best_model_rfc_balanced = model_rfc_balanced\n",
    "            best_auc_roc_rfc_balanced = auc_roc\n",
    "\n",
    "print(\"Лучшая F-мера\", best_result_rfc_balanced, 'при глубине = {0},  количестве деревьев = {1} и AUC-ROC = {2}'.format(best_depth_rfc_balanced, best_est_balanced, best_auc_roc_rfc_balanced))"
   ]
  },
  {
   "cell_type": "markdown",
   "metadata": {},
   "source": [
    "Лучшая F-мера 0.6376 cо значением глубины = 10 и количестве деревьев - 55, AUC-ROC 0.8683, стала больше, чем до использования гиперпараметра."
   ]
  },
  {
   "cell_type": "markdown",
   "metadata": {},
   "source": [
    "#### Проверка Logistic Regression"
   ]
  },
  {
   "cell_type": "code",
   "execution_count": 45,
   "metadata": {
    "scrolled": false
   },
   "outputs": [
    {
     "name": "stdout",
     "output_type": "stream",
     "text": [
      "F1-score: 0.5303 AUC-ROC: 0.7938\n",
      "CPU times: user 38.5 ms, sys: 5.41 ms, total: 44 ms\n",
      "Wall time: 53.3 ms\n"
     ]
    }
   ],
   "source": [
    "%%time\n",
    "\n",
    "model_lr_balanced = LogisticRegression(random_state=12345, solver='liblinear', class_weight='balanced').fit(features_train, target_train)\n",
    "predictions_valid_lr_balanced = model_lr_balanced.predict(features_valid)\n",
    "probabilities_valid_lr_balanced = model_lr_balanced.predict_proba(features_valid)\n",
    "probabilities_one_valid_lr_balanced = probabilities_valid_lr_balanced[:, 1]\n",
    "\n",
    "print('F1-score:','{:.4f}'.format(f1_score(target_valid, predictions_valid_lr_balanced)),\n",
    "     'AUC-ROC:','{:.4f}'.format(roc_auc_score(target_valid, probabilities_one_valid_lr_balanced)))"
   ]
  },
  {
   "cell_type": "markdown",
   "metadata": {},
   "source": [
    "Значение F-меры 0.5303 c AUC-ROC = 0.7938 стала значительно больше, чем до использования гиперпараметра."
   ]
  },
  {
   "cell_type": "markdown",
   "metadata": {},
   "source": [
    "### Upsampling"
   ]
  },
  {
   "cell_type": "markdown",
   "metadata": {},
   "source": [
    "Увеличим объекты редкого класса и заново переобучим модели."
   ]
  },
  {
   "cell_type": "code",
   "execution_count": 46,
   "metadata": {
    "scrolled": false
   },
   "outputs": [
    {
     "name": "stdout",
     "output_type": "stream",
     "text": [
      "1    4888\n",
      "0    4778\n",
      "Name: Exited, dtype: int64\n"
     ]
    }
   ],
   "source": [
    "def upsample(features, target, repeat):\n",
    "    features_zeros = features[target == 0]\n",
    "    features_ones = features[target == 1]\n",
    "    target_zeros = target[target == 0]\n",
    "    target_ones = target[target == 1]\n",
    "\n",
    "    features_upsampled = pd.concat([features_zeros] + [features_ones] * repeat)\n",
    "    target_upsampled = pd.concat([target_zeros] + [target_ones] * repeat)\n",
    "    \n",
    "    features_upsampled, target_upsampled = shuffle(\n",
    "        features_upsampled, target_upsampled, random_state=12345)\n",
    "    \n",
    "    return features_upsampled, target_upsampled\n",
    "\n",
    "features_upsampled, target_upsampled = upsample(features_train, target_train, 4)\n",
    "\n",
    "print(target_upsampled.value_counts())"
   ]
  },
  {
   "cell_type": "markdown",
   "metadata": {},
   "source": [
    "#### Проверка Decision Tree"
   ]
  },
  {
   "cell_type": "code",
   "execution_count": 47,
   "metadata": {
    "scrolled": true
   },
   "outputs": [
    {
     "name": "stdout",
     "output_type": "stream",
     "text": [
      "Max depth: 2 F1-score: 0.4980 AUC-ROC: 0.7476\n",
      "Max depth: 3 F1-score: 0.4980 AUC-ROC: 0.7887\n",
      "Max depth: 4 F1-score: 0.5609 AUC-ROC: 0.8220\n",
      "Max depth: 5 F1-score: 0.5546 AUC-ROC: 0.8414\n",
      "Max depth: 6 F1-score: 0.5759 AUC-ROC: 0.8234\n",
      "Max depth: 7 F1-score: 0.5750 AUC-ROC: 0.8206\n",
      "Max depth: 8 F1-score: 0.5492 AUC-ROC: 0.8023\n",
      "Max depth: 9 F1-score: 0.5409 AUC-ROC: 0.7826\n",
      "Max depth: 10 F1-score: 0.5317 AUC-ROC: 0.7675\n",
      "Max depth: 11 F1-score: 0.5284 AUC-ROC: 0.7449\n",
      "Max depth: 12 F1-score: 0.5230 AUC-ROC: 0.7355\n",
      "Max depth: 13 F1-score: 0.5263 AUC-ROC: 0.7216\n",
      "Max depth: 14 F1-score: 0.5213 AUC-ROC: 0.7114\n",
      "Max depth: 15 F1-score: 0.5116 AUC-ROC: 0.6997\n",
      "Max depth: 16 F1-score: 0.5029 AUC-ROC: 0.6978\n",
      "Max depth: 17 F1-score: 0.5153 AUC-ROC: 0.7020\n",
      "Max depth: 18 F1-score: 0.5101 AUC-ROC: 0.6981\n",
      "Max depth: 19 F1-score: 0.4988 AUC-ROC: 0.6906\n",
      "Max depth: 20 F1-score: 0.5200 AUC-ROC: 0.7021\n",
      "Max depth: 21 F1-score: 0.4988 AUC-ROC: 0.6878\n",
      "Max depth: 22 F1-score: 0.5194 AUC-ROC: 0.6999\n",
      "Max depth: 23 F1-score: 0.5235 AUC-ROC: 0.7037\n",
      "Max depth: 24 F1-score: 0.5104 AUC-ROC: 0.6940\n",
      "Max depth: 25 F1-score: 0.5123 AUC-ROC: 0.6946\n",
      "Max depth: 26 F1-score: 0.5222 AUC-ROC: 0.7000\n",
      "Max depth: 27 F1-score: 0.5101 AUC-ROC: 0.6910\n",
      "Max depth: 28 F1-score: 0.5111 AUC-ROC: 0.6927\n",
      "Max depth: 29 F1-score: 0.5111 AUC-ROC: 0.6927\n",
      "Лучшая F-мера 0.575925925925926 cо значением глубины = 6 cо значением AUC-ROC = 0.8234278007685487\n",
      "CPU times: user 1.21 s, sys: 16.7 ms, total: 1.23 s\n",
      "Wall time: 1.28 s\n"
     ]
    }
   ],
   "source": [
    "%%time\n",
    "\n",
    "best_model_dtc_upsamp = None\n",
    "best_depth_dtc_upsamp = 0\n",
    "best_result_dtc_upsamp = 0\n",
    "best_auc_roc_dtc_upsamp = 0\n",
    "\n",
    "for depth in range(2, 30):\n",
    "    model_dtc_upsamp = DecisionTreeClassifier(random_state=12345, max_depth=depth).fit(features_upsampled, target_upsampled)\n",
    "    predictions_valid_dtc_upsamp = model_dtc_upsamp.predict(features_valid)\n",
    "    result = f1_score(target_valid, predictions_valid_dtc_upsamp)\n",
    "    probabilities_valid_dtc_upsamp = model_dtc_upsamp.predict_proba(features_valid)\n",
    "    probabilities_one_valid_dtc_upsamp = probabilities_valid_dtc_upsamp[:, 1]\n",
    "    auc_roc = roc_auc_score(target_valid, probabilities_one_valid_dtc_upsamp)\n",
    "    print('Max depth:', depth,'F1-score:','{:.4f}'.format(result),\n",
    "          'AUC-ROC:','{:.4f}'.format(auc_roc))\n",
    "    \n",
    "    if best_result_dtc_upsamp < result:\n",
    "        best_result_dtc_upsamp = result\n",
    "        best_depth_dtc_upsamp = depth\n",
    "        best_model_dtc_upsamp = model_dtc_upsamp\n",
    "        best_auc_roc_dtc_upsamp = auc_roc\n",
    "\n",
    "print(\"Лучшая F-мера\", best_result_dtc_upsamp, 'cо значением глубины =', best_depth_dtc_upsamp, 'cо значением AUC-ROC =', best_auc_roc_dtc_upsamp)"
   ]
  },
  {
   "cell_type": "markdown",
   "metadata": {},
   "source": [
    "Лучшая F-мера 0.5759 cо значением глубины = 6 и AUC-ROC=0.8234, повторила результат сбалансированной выборки, показав результат хуже, чем до использования гиперпараметра."
   ]
  },
  {
   "cell_type": "markdown",
   "metadata": {},
   "source": [
    "#### Проверка Random Forest"
   ]
  },
  {
   "cell_type": "code",
   "execution_count": 48,
   "metadata": {
    "scrolled": true
   },
   "outputs": [
    {
     "name": "stdout",
     "output_type": "stream",
     "text": [
      "Max depth: 10 F1-score: 0.6226 AUC-ROC: 0.8641\n",
      "Max depth: 11 F1-score: 0.6281 AUC-ROC: 0.8608\n",
      "Max depth: 12 F1-score: 0.5993 AUC-ROC: 0.8499\n",
      "Max depth: 13 F1-score: 0.6201 AUC-ROC: 0.8538\n",
      "Max depth: 14 F1-score: 0.6150 AUC-ROC: 0.8498\n",
      "Max depth: 15 F1-score: 0.5990 AUC-ROC: 0.8423\n",
      "Max depth: 16 F1-score: 0.6130 AUC-ROC: 0.8340\n",
      "Max depth: 17 F1-score: 0.5935 AUC-ROC: 0.8424\n",
      "Max depth: 18 F1-score: 0.6029 AUC-ROC: 0.8257\n",
      "Max depth: 19 F1-score: 0.6170 AUC-ROC: 0.8475\n",
      "Max depth: 10 F1-score: 0.6253 AUC-ROC: 0.8646\n",
      "Max depth: 11 F1-score: 0.6217 AUC-ROC: 0.8653\n",
      "Max depth: 12 F1-score: 0.6112 AUC-ROC: 0.8559\n",
      "Max depth: 13 F1-score: 0.6174 AUC-ROC: 0.8579\n",
      "Max depth: 14 F1-score: 0.6193 AUC-ROC: 0.8528\n",
      "Max depth: 15 F1-score: 0.6134 AUC-ROC: 0.8523\n",
      "Max depth: 16 F1-score: 0.6040 AUC-ROC: 0.8415\n",
      "Max depth: 17 F1-score: 0.6158 AUC-ROC: 0.8480\n",
      "Max depth: 18 F1-score: 0.6018 AUC-ROC: 0.8337\n",
      "Max depth: 19 F1-score: 0.6158 AUC-ROC: 0.8530\n",
      "Max depth: 10 F1-score: 0.6222 AUC-ROC: 0.8626\n",
      "Max depth: 11 F1-score: 0.6263 AUC-ROC: 0.8674\n",
      "Max depth: 12 F1-score: 0.6181 AUC-ROC: 0.8595\n",
      "Max depth: 13 F1-score: 0.6169 AUC-ROC: 0.8603\n",
      "Max depth: 14 F1-score: 0.6211 AUC-ROC: 0.8574\n",
      "Max depth: 15 F1-score: 0.6130 AUC-ROC: 0.8601\n",
      "Max depth: 16 F1-score: 0.6071 AUC-ROC: 0.8473\n",
      "Max depth: 17 F1-score: 0.6016 AUC-ROC: 0.8509\n",
      "Max depth: 18 F1-score: 0.6194 AUC-ROC: 0.8418\n",
      "Max depth: 19 F1-score: 0.6148 AUC-ROC: 0.8578\n",
      "Max depth: 10 F1-score: 0.6231 AUC-ROC: 0.8628\n",
      "Max depth: 11 F1-score: 0.6227 AUC-ROC: 0.8675\n",
      "Max depth: 12 F1-score: 0.6157 AUC-ROC: 0.8609\n",
      "Max depth: 13 F1-score: 0.6163 AUC-ROC: 0.8614\n",
      "Max depth: 14 F1-score: 0.6238 AUC-ROC: 0.8578\n",
      "Max depth: 15 F1-score: 0.6111 AUC-ROC: 0.8605\n",
      "Max depth: 16 F1-score: 0.6086 AUC-ROC: 0.8507\n",
      "Max depth: 17 F1-score: 0.6124 AUC-ROC: 0.8534\n",
      "Max depth: 18 F1-score: 0.6100 AUC-ROC: 0.8504\n",
      "Max depth: 19 F1-score: 0.6065 AUC-ROC: 0.8618\n",
      "Max depth: 10 F1-score: 0.6272 AUC-ROC: 0.8649\n",
      "Max depth: 11 F1-score: 0.6356 AUC-ROC: 0.8689\n",
      "Max depth: 12 F1-score: 0.6188 AUC-ROC: 0.8645\n",
      "Max depth: 13 F1-score: 0.6226 AUC-ROC: 0.8640\n",
      "Max depth: 14 F1-score: 0.6295 AUC-ROC: 0.8621\n",
      "Max depth: 15 F1-score: 0.6164 AUC-ROC: 0.8620\n",
      "Max depth: 16 F1-score: 0.6201 AUC-ROC: 0.8535\n",
      "Max depth: 17 F1-score: 0.6097 AUC-ROC: 0.8545\n",
      "Max depth: 18 F1-score: 0.6142 AUC-ROC: 0.8547\n",
      "Max depth: 19 F1-score: 0.6119 AUC-ROC: 0.8644\n",
      "Max depth: 10 F1-score: 0.6291 AUC-ROC: 0.8646\n",
      "Max depth: 11 F1-score: 0.6423 AUC-ROC: 0.8707\n",
      "Max depth: 12 F1-score: 0.6197 AUC-ROC: 0.8652\n",
      "Max depth: 13 F1-score: 0.6361 AUC-ROC: 0.8641\n",
      "Max depth: 14 F1-score: 0.6338 AUC-ROC: 0.8623\n",
      "Max depth: 15 F1-score: 0.6289 AUC-ROC: 0.8625\n",
      "Max depth: 16 F1-score: 0.6289 AUC-ROC: 0.8536\n",
      "Max depth: 17 F1-score: 0.6134 AUC-ROC: 0.8542\n",
      "Max depth: 18 F1-score: 0.6219 AUC-ROC: 0.8569\n",
      "Max depth: 19 F1-score: 0.6184 AUC-ROC: 0.8655\n",
      "Max depth: 10 F1-score: 0.6264 AUC-ROC: 0.8640\n",
      "Max depth: 11 F1-score: 0.6446 AUC-ROC: 0.8717\n",
      "Max depth: 12 F1-score: 0.6257 AUC-ROC: 0.8645\n",
      "Max depth: 13 F1-score: 0.6346 AUC-ROC: 0.8653\n",
      "Max depth: 14 F1-score: 0.6241 AUC-ROC: 0.8615\n",
      "Max depth: 15 F1-score: 0.6136 AUC-ROC: 0.8631\n",
      "Max depth: 16 F1-score: 0.6343 AUC-ROC: 0.8559\n",
      "Max depth: 17 F1-score: 0.6152 AUC-ROC: 0.8545\n",
      "Max depth: 18 F1-score: 0.6204 AUC-ROC: 0.8572\n",
      "Max depth: 19 F1-score: 0.6295 AUC-ROC: 0.8672\n",
      "Max depth: 10 F1-score: 0.6256 AUC-ROC: 0.8648\n",
      "Max depth: 11 F1-score: 0.6425 AUC-ROC: 0.8719\n",
      "Max depth: 12 F1-score: 0.6265 AUC-ROC: 0.8643\n",
      "Max depth: 13 F1-score: 0.6283 AUC-ROC: 0.8658\n",
      "Max depth: 14 F1-score: 0.6195 AUC-ROC: 0.8622\n",
      "Max depth: 15 F1-score: 0.6210 AUC-ROC: 0.8627\n",
      "Max depth: 16 F1-score: 0.6298 AUC-ROC: 0.8570\n",
      "Max depth: 17 F1-score: 0.6152 AUC-ROC: 0.8549\n",
      "Max depth: 18 F1-score: 0.6172 AUC-ROC: 0.8579\n",
      "Max depth: 19 F1-score: 0.6247 AUC-ROC: 0.8672\n",
      "Max depth: 10 F1-score: 0.6395 AUC-ROC: 0.8668\n",
      "Max depth: 11 F1-score: 0.6416 AUC-ROC: 0.8718\n",
      "Max depth: 12 F1-score: 0.6259 AUC-ROC: 0.8646\n",
      "Max depth: 13 F1-score: 0.6289 AUC-ROC: 0.8654\n",
      "Max depth: 14 F1-score: 0.6256 AUC-ROC: 0.8638\n",
      "Max depth: 15 F1-score: 0.6189 AUC-ROC: 0.8628\n",
      "Max depth: 16 F1-score: 0.6205 AUC-ROC: 0.8567\n",
      "Max depth: 17 F1-score: 0.6160 AUC-ROC: 0.8546\n",
      "Max depth: 18 F1-score: 0.6164 AUC-ROC: 0.8595\n",
      "Max depth: 19 F1-score: 0.6270 AUC-ROC: 0.8670\n",
      "Max depth: 10 F1-score: 0.6319 AUC-ROC: 0.8668\n",
      "Max depth: 11 F1-score: 0.6454 AUC-ROC: 0.8713\n",
      "Max depth: 12 F1-score: 0.6241 AUC-ROC: 0.8644\n",
      "Max depth: 13 F1-score: 0.6214 AUC-ROC: 0.8647\n",
      "Max depth: 14 F1-score: 0.6218 AUC-ROC: 0.8640\n",
      "Max depth: 15 F1-score: 0.6237 AUC-ROC: 0.8623\n",
      "Max depth: 16 F1-score: 0.6189 AUC-ROC: 0.8583\n",
      "Max depth: 17 F1-score: 0.6146 AUC-ROC: 0.8567\n",
      "Max depth: 18 F1-score: 0.6226 AUC-ROC: 0.8603\n",
      "Max depth: 19 F1-score: 0.6257 AUC-ROC: 0.8672\n",
      "Max depth: 10 F1-score: 0.6343 AUC-ROC: 0.8672\n",
      "Max depth: 11 F1-score: 0.6483 AUC-ROC: 0.8709\n",
      "Max depth: 12 F1-score: 0.6249 AUC-ROC: 0.8636\n",
      "Max depth: 13 F1-score: 0.6295 AUC-ROC: 0.8642\n",
      "Max depth: 14 F1-score: 0.6272 AUC-ROC: 0.8633\n",
      "Max depth: 15 F1-score: 0.6269 AUC-ROC: 0.8615\n",
      "Max depth: 16 F1-score: 0.6195 AUC-ROC: 0.8591\n",
      "Max depth: 17 F1-score: 0.6081 AUC-ROC: 0.8579\n",
      "Max depth: 18 F1-score: 0.6172 AUC-ROC: 0.8591\n",
      "Max depth: 19 F1-score: 0.6286 AUC-ROC: 0.8677\n",
      "Max depth: 10 F1-score: 0.6340 AUC-ROC: 0.8682\n",
      "Max depth: 11 F1-score: 0.6460 AUC-ROC: 0.8711\n",
      "Max depth: 12 F1-score: 0.6217 AUC-ROC: 0.8634\n",
      "Max depth: 13 F1-score: 0.6334 AUC-ROC: 0.8647\n",
      "Max depth: 14 F1-score: 0.6264 AUC-ROC: 0.8636\n",
      "Max depth: 15 F1-score: 0.6195 AUC-ROC: 0.8621\n",
      "Max depth: 16 F1-score: 0.6138 AUC-ROC: 0.8585\n",
      "Max depth: 17 F1-score: 0.6086 AUC-ROC: 0.8574\n",
      "Max depth: 18 F1-score: 0.6260 AUC-ROC: 0.8584\n",
      "Max depth: 19 F1-score: 0.6219 AUC-ROC: 0.8667\n",
      "Max depth: 10 F1-score: 0.6356 AUC-ROC: 0.8693\n",
      "Max depth: 11 F1-score: 0.6438 AUC-ROC: 0.8700\n",
      "Max depth: 12 F1-score: 0.6210 AUC-ROC: 0.8639\n",
      "Max depth: 13 F1-score: 0.6282 AUC-ROC: 0.8647\n",
      "Max depth: 14 F1-score: 0.6188 AUC-ROC: 0.8642\n",
      "Max depth: 15 F1-score: 0.6164 AUC-ROC: 0.8630\n",
      "Max depth: 16 F1-score: 0.6195 AUC-ROC: 0.8603\n",
      "Max depth: 17 F1-score: 0.6200 AUC-ROC: 0.8574\n",
      "Max depth: 18 F1-score: 0.6152 AUC-ROC: 0.8587\n",
      "Max depth: 19 F1-score: 0.6240 AUC-ROC: 0.8658\n",
      "Max depth: 10 F1-score: 0.6393 AUC-ROC: 0.8691\n",
      "Max depth: 11 F1-score: 0.6419 AUC-ROC: 0.8700\n",
      "Max depth: 12 F1-score: 0.6217 AUC-ROC: 0.8637\n",
      "Max depth: 13 F1-score: 0.6245 AUC-ROC: 0.8646\n",
      "Max depth: 14 F1-score: 0.6180 AUC-ROC: 0.8643\n",
      "Max depth: 15 F1-score: 0.6173 AUC-ROC: 0.8636\n",
      "Max depth: 16 F1-score: 0.6154 AUC-ROC: 0.8610\n",
      "Max depth: 17 F1-score: 0.6174 AUC-ROC: 0.8578\n",
      "Max depth: 18 F1-score: 0.6206 AUC-ROC: 0.8597\n",
      "Max depth: 19 F1-score: 0.6227 AUC-ROC: 0.8664\n",
      "Max depth: 10 F1-score: 0.6315 AUC-ROC: 0.8696\n",
      "Max depth: 11 F1-score: 0.6397 AUC-ROC: 0.8702\n",
      "Max depth: 12 F1-score: 0.6210 AUC-ROC: 0.8641\n",
      "Max depth: 13 F1-score: 0.6285 AUC-ROC: 0.8649\n",
      "Max depth: 14 F1-score: 0.6180 AUC-ROC: 0.8643\n",
      "Max depth: 15 F1-score: 0.6140 AUC-ROC: 0.8641\n",
      "Max depth: 16 F1-score: 0.6178 AUC-ROC: 0.8620\n",
      "Max depth: 17 F1-score: 0.6128 AUC-ROC: 0.8575\n",
      "Max depth: 18 F1-score: 0.6275 AUC-ROC: 0.8599\n",
      "Max depth: 19 F1-score: 0.6178 AUC-ROC: 0.8671\n",
      "Max depth: 10 F1-score: 0.6366 AUC-ROC: 0.8693\n",
      "Max depth: 11 F1-score: 0.6421 AUC-ROC: 0.8709\n",
      "Max depth: 12 F1-score: 0.6234 AUC-ROC: 0.8643\n",
      "Max depth: 13 F1-score: 0.6284 AUC-ROC: 0.8657\n",
      "Max depth: 14 F1-score: 0.6137 AUC-ROC: 0.8645\n",
      "Max depth: 15 F1-score: 0.6187 AUC-ROC: 0.8651\n",
      "Max depth: 16 F1-score: 0.6189 AUC-ROC: 0.8629\n",
      "Max depth: 17 F1-score: 0.6190 AUC-ROC: 0.8578\n",
      "Max depth: 18 F1-score: 0.6319 AUC-ROC: 0.8598\n",
      "Max depth: 19 F1-score: 0.6199 AUC-ROC: 0.8677\n",
      "Max depth: 10 F1-score: 0.6373 AUC-ROC: 0.8699\n",
      "Max depth: 11 F1-score: 0.6367 AUC-ROC: 0.8708\n",
      "Max depth: 12 F1-score: 0.6234 AUC-ROC: 0.8646\n",
      "Max depth: 13 F1-score: 0.6291 AUC-ROC: 0.8653\n",
      "Max depth: 14 F1-score: 0.6175 AUC-ROC: 0.8652\n",
      "Max depth: 15 F1-score: 0.6154 AUC-ROC: 0.8652\n",
      "Max depth: 16 F1-score: 0.6223 AUC-ROC: 0.8629\n",
      "Max depth: 17 F1-score: 0.6212 AUC-ROC: 0.8581\n",
      "Max depth: 18 F1-score: 0.6248 AUC-ROC: 0.8598\n",
      "Max depth: 19 F1-score: 0.6230 AUC-ROC: 0.8674\n",
      "Max depth: 10 F1-score: 0.6432 AUC-ROC: 0.8700\n",
      "Max depth: 11 F1-score: 0.6428 AUC-ROC: 0.8712\n",
      "Max depth: 12 F1-score: 0.6243 AUC-ROC: 0.8647\n",
      "Max depth: 13 F1-score: 0.6299 AUC-ROC: 0.8649\n",
      "Max depth: 14 F1-score: 0.6169 AUC-ROC: 0.8646\n",
      "Max depth: 15 F1-score: 0.6206 AUC-ROC: 0.8653\n",
      "Max depth: 16 F1-score: 0.6248 AUC-ROC: 0.8633\n",
      "Max depth: 17 F1-score: 0.6196 AUC-ROC: 0.8586\n",
      "Max depth: 18 F1-score: 0.6232 AUC-ROC: 0.8598\n",
      "Max depth: 19 F1-score: 0.6270 AUC-ROC: 0.8670\n",
      "Max depth: 10 F1-score: 0.6330 AUC-ROC: 0.8695\n",
      "Max depth: 11 F1-score: 0.6435 AUC-ROC: 0.8713\n",
      "Max depth: 12 F1-score: 0.6212 AUC-ROC: 0.8654\n",
      "Max depth: 13 F1-score: 0.6284 AUC-ROC: 0.8657\n",
      "Max depth: 14 F1-score: 0.6209 AUC-ROC: 0.8646\n",
      "Max depth: 15 F1-score: 0.6164 AUC-ROC: 0.8659\n",
      "Max depth: 16 F1-score: 0.6229 AUC-ROC: 0.8637\n",
      "Max depth: 17 F1-score: 0.6152 AUC-ROC: 0.8594\n",
      "Max depth: 18 F1-score: 0.6258 AUC-ROC: 0.8587\n",
      "Max depth: 19 F1-score: 0.6205 AUC-ROC: 0.8670\n",
      "Max depth: 10 F1-score: 0.6316 AUC-ROC: 0.8696\n",
      "Max depth: 11 F1-score: 0.6443 AUC-ROC: 0.8712\n",
      "Max depth: 12 F1-score: 0.6226 AUC-ROC: 0.8658\n",
      "Max depth: 13 F1-score: 0.6276 AUC-ROC: 0.8658\n",
      "Max depth: 14 F1-score: 0.6203 AUC-ROC: 0.8643\n",
      "Max depth: 15 F1-score: 0.6179 AUC-ROC: 0.8655\n",
      "Max depth: 16 F1-score: 0.6245 AUC-ROC: 0.8634\n",
      "Max depth: 17 F1-score: 0.6118 AUC-ROC: 0.8592\n",
      "Max depth: 18 F1-score: 0.6180 AUC-ROC: 0.8591\n",
      "Max depth: 19 F1-score: 0.6243 AUC-ROC: 0.8674\n",
      "Max depth: 10 F1-score: 0.6331 AUC-ROC: 0.8691\n",
      "Max depth: 11 F1-score: 0.6443 AUC-ROC: 0.8706\n",
      "Max depth: 12 F1-score: 0.6212 AUC-ROC: 0.8660\n",
      "Max depth: 13 F1-score: 0.6268 AUC-ROC: 0.8656\n",
      "Max depth: 14 F1-score: 0.6219 AUC-ROC: 0.8643\n",
      "Max depth: 15 F1-score: 0.6237 AUC-ROC: 0.8656\n",
      "Max depth: 16 F1-score: 0.6247 AUC-ROC: 0.8638\n",
      "Max depth: 17 F1-score: 0.6196 AUC-ROC: 0.8589\n",
      "Max depth: 18 F1-score: 0.6255 AUC-ROC: 0.8589\n",
      "Max depth: 19 F1-score: 0.6260 AUC-ROC: 0.8669\n",
      "Max depth: 10 F1-score: 0.6331 AUC-ROC: 0.8690\n",
      "Max depth: 11 F1-score: 0.6429 AUC-ROC: 0.8712\n",
      "Max depth: 12 F1-score: 0.6234 AUC-ROC: 0.8656\n",
      "Max depth: 13 F1-score: 0.6290 AUC-ROC: 0.8653\n",
      "Max depth: 14 F1-score: 0.6177 AUC-ROC: 0.8643\n",
      "Max depth: 15 F1-score: 0.6288 AUC-ROC: 0.8659\n",
      "Max depth: 16 F1-score: 0.6227 AUC-ROC: 0.8641\n",
      "Max depth: 17 F1-score: 0.6208 AUC-ROC: 0.8592\n",
      "Max depth: 18 F1-score: 0.6204 AUC-ROC: 0.8593\n",
      "Max depth: 19 F1-score: 0.6306 AUC-ROC: 0.8675\n",
      "Max depth: 10 F1-score: 0.6301 AUC-ROC: 0.8688\n",
      "Max depth: 11 F1-score: 0.6452 AUC-ROC: 0.8711\n",
      "Max depth: 12 F1-score: 0.6235 AUC-ROC: 0.8656\n",
      "Max depth: 13 F1-score: 0.6259 AUC-ROC: 0.8655\n",
      "Max depth: 14 F1-score: 0.6202 AUC-ROC: 0.8644\n",
      "Max depth: 15 F1-score: 0.6281 AUC-ROC: 0.8661\n",
      "Max depth: 16 F1-score: 0.6205 AUC-ROC: 0.8647\n",
      "Max depth: 17 F1-score: 0.6232 AUC-ROC: 0.8599\n",
      "Max depth: 18 F1-score: 0.6170 AUC-ROC: 0.8599\n",
      "Max depth: 19 F1-score: 0.6233 AUC-ROC: 0.8675\n",
      "Лучшая F-мера 0.6483390607101948 при глубине = 11,  количестве деревьев = 60 и AUC-ROC = 0.8708708986107006\n",
      "CPU times: user 3min 5s, sys: 3.66 s, total: 3min 8s\n",
      "Wall time: 3min 20s\n"
     ]
    }
   ],
   "source": [
    "%%time\n",
    "\n",
    "best_model_rfc_upsamp = None\n",
    "best_depth_rfc_upsamp = 0\n",
    "best_est_upsamp = 0\n",
    "best_result_rfc_upsamp = 0\n",
    "best_auc_roc_rfc_upsamp = 0\n",
    "\n",
    "\n",
    "for estimator in range(10, 121, 5):\n",
    "    for depth in range(10, 20):\n",
    "        model_rfc_upsamp =  RandomForestClassifier(random_state=12345, n_estimators=estimator, max_depth=depth).fit(features_upsampled, target_upsampled)\n",
    "        predictions_valid_rfc_upsamp = model_rfc_upsamp.predict(features_valid)\n",
    "        result = f1_score(target_valid, predictions_valid_rfc_upsamp)\n",
    "        probabilities_valid_rfc_upsamp = model_rfc_upsamp.predict_proba(features_valid)\n",
    "        probabilities_one_valid_rfc_upsamp = probabilities_valid_rfc_upsamp[:, 1]\n",
    "        auc_roc = roc_auc_score(target_valid, probabilities_one_valid_rfc_upsamp)\n",
    "        print('Max depth:', depth,'F1-score:','{:.4f}'.format(result), \n",
    "          'AUC-ROC:','{:.4f}'.format(auc_roc))\n",
    "    \n",
    "        if best_result_rfc_upsamp < result:\n",
    "            best_result_rfc_upsamp = result\n",
    "            best_depth_rfc_upsamp = depth\n",
    "            best_est_upsamp = estimator\n",
    "            best_model_rfc_upsamp = model_rfc_upsamp\n",
    "            best_auc_roc_rfc_upsamp = auc_roc\n",
    "\n",
    "print(\"Лучшая F-мера\", best_result_rfc_upsamp, 'при глубине = {0},  количестве деревьев = {1} и AUC-ROC = {2}'.format(best_depth_rfc_upsamp, best_est_upsamp, best_auc_roc_rfc_upsamp))"
   ]
  },
  {
   "cell_type": "markdown",
   "metadata": {},
   "source": [
    "Лучшая F-мера 0.6483 cо значением глубины = 11, количестве деревьев - 60 и AUC-ROC 0.8709, стала больше на сотые доли, в сравнении с использованием гиперпараметра 'balanced'."
   ]
  },
  {
   "cell_type": "markdown",
   "metadata": {},
   "source": [
    "#### Проверка Logistic Regression"
   ]
  },
  {
   "cell_type": "code",
   "execution_count": 49,
   "metadata": {
    "scrolled": false
   },
   "outputs": [
    {
     "name": "stdout",
     "output_type": "stream",
     "text": [
      "F1-score: 0.5247 AUC-ROC: 0.7938\n",
      "CPU times: user 52 ms, sys: 6.78 ms, total: 58.8 ms\n",
      "Wall time: 67.3 ms\n"
     ]
    }
   ],
   "source": [
    "%%time\n",
    "\n",
    "model_lr_upsamp = LogisticRegression(random_state=12345, solver='liblinear').fit(features_upsampled, target_upsampled)\n",
    "predictions_valid_lr_upsamp = model_lr_upsamp.predict(features_valid)\n",
    "probabilities_valid_lr_upsamp = model_lr_upsamp.predict_proba(features_valid)\n",
    "probabilities_one_valid_lr_upsamp = probabilities_valid_lr_upsamp[:, 1]\n",
    "\n",
    "print('F1-score:','{:.4f}'.format(f1_score(target_valid, predictions_valid_lr_upsamp)),\n",
    "     'AUC-ROC:','{:.4f}'.format(roc_auc_score(target_valid, probabilities_one_valid_lr_upsamp)))"
   ]
  },
  {
   "cell_type": "markdown",
   "metadata": {},
   "source": [
    "Значение F-меры 0.5247 и AUC-ROC незначительно уменьшилась после увеличения выборки."
   ]
  },
  {
   "cell_type": "markdown",
   "metadata": {},
   "source": [
    "### Downsampling"
   ]
  },
  {
   "cell_type": "markdown",
   "metadata": {},
   "source": [
    "Уменьшим объекты частого класса и заново переобучим модели."
   ]
  },
  {
   "cell_type": "code",
   "execution_count": 50,
   "metadata": {
    "scrolled": true
   },
   "outputs": [
    {
     "name": "stdout",
     "output_type": "stream",
     "text": [
      "1    1222\n",
      "0    1194\n",
      "Name: Exited, dtype: int64\n"
     ]
    }
   ],
   "source": [
    "def downsample(features, target, fraction):\n",
    "    features_zeros = features[target == 0]\n",
    "    features_ones = features[target == 1]\n",
    "    target_zeros = target[target == 0]\n",
    "    target_ones = target[target == 1]\n",
    "\n",
    "    features_downsampled = pd.concat(\n",
    "        [features_zeros.sample(frac=fraction, random_state=12345)] + [features_ones])\n",
    "    target_downsampled = pd.concat(\n",
    "        [target_zeros.sample(frac=fraction, random_state=12345)] + [target_ones])\n",
    "    \n",
    "    features_downsampled, target_downsampled = shuffle(\n",
    "        features_downsampled, target_downsampled, random_state=12345)\n",
    "    \n",
    "    return features_downsampled, target_downsampled\n",
    "\n",
    "features_downsampled, target_downsampled = downsample(features_train, target_train, 0.25)\n",
    "\n",
    "print(target_downsampled.value_counts())"
   ]
  },
  {
   "cell_type": "markdown",
   "metadata": {},
   "source": [
    "Лучшая F-мера 0.5759 cо значением глубины = 6, повторила результат сбалансированной и увеличенной выборки, показав результат хуже, чем до использования гиперпараметра и изменения размеров выборки."
   ]
  },
  {
   "cell_type": "markdown",
   "metadata": {},
   "source": [
    "#### Проверка Decision Tree"
   ]
  },
  {
   "cell_type": "code",
   "execution_count": 51,
   "metadata": {
    "scrolled": true
   },
   "outputs": [
    {
     "name": "stdout",
     "output_type": "stream",
     "text": [
      "Max depth: 2 F1-score: 0.4980 AUC-ROC: 0.7476\n",
      "Max depth: 3 F1-score: 0.4980 AUC-ROC: 0.7887\n",
      "Max depth: 4 F1-score: 0.5609 AUC-ROC: 0.8212\n",
      "Max depth: 5 F1-score: 0.5532 AUC-ROC: 0.8416\n",
      "Max depth: 6 F1-score: 0.5939 AUC-ROC: 0.8472\n",
      "Max depth: 7 F1-score: 0.5841 AUC-ROC: 0.8379\n",
      "Max depth: 8 F1-score: 0.5714 AUC-ROC: 0.8208\n",
      "Max depth: 9 F1-score: 0.5681 AUC-ROC: 0.8029\n",
      "Max depth: 10 F1-score: 0.5530 AUC-ROC: 0.7857\n",
      "Max depth: 11 F1-score: 0.5467 AUC-ROC: 0.7766\n",
      "Max depth: 12 F1-score: 0.5307 AUC-ROC: 0.7583\n",
      "Max depth: 13 F1-score: 0.5367 AUC-ROC: 0.7556\n",
      "Max depth: 14 F1-score: 0.5216 AUC-ROC: 0.7390\n",
      "Max depth: 15 F1-score: 0.5249 AUC-ROC: 0.7360\n",
      "Max depth: 16 F1-score: 0.5083 AUC-ROC: 0.7243\n",
      "Max depth: 17 F1-score: 0.5062 AUC-ROC: 0.7185\n",
      "Max depth: 18 F1-score: 0.5079 AUC-ROC: 0.7203\n",
      "Max depth: 19 F1-score: 0.5038 AUC-ROC: 0.7145\n",
      "Max depth: 20 F1-score: 0.5017 AUC-ROC: 0.7144\n",
      "Max depth: 21 F1-score: 0.5017 AUC-ROC: 0.7144\n",
      "Max depth: 22 F1-score: 0.5017 AUC-ROC: 0.7144\n",
      "Max depth: 23 F1-score: 0.5017 AUC-ROC: 0.7144\n",
      "Max depth: 24 F1-score: 0.5017 AUC-ROC: 0.7144\n",
      "Max depth: 25 F1-score: 0.5017 AUC-ROC: 0.7144\n",
      "Max depth: 26 F1-score: 0.5017 AUC-ROC: 0.7144\n",
      "Max depth: 27 F1-score: 0.5017 AUC-ROC: 0.7144\n",
      "Max depth: 28 F1-score: 0.5017 AUC-ROC: 0.7144\n",
      "Max depth: 29 F1-score: 0.5017 AUC-ROC: 0.7144\n",
      "Лучшая F-мера 0.5939278937381405 cо значением глубины = 6 cо значением AUC-ROC = 0.8472324859592077\n",
      "CPU times: user 544 ms, sys: 7.69 ms, total: 552 ms\n",
      "Wall time: 722 ms\n"
     ]
    }
   ],
   "source": [
    "%%time\n",
    "\n",
    "best_model_dtc_downsamp = None\n",
    "best_depth_dtc_downsamp = 0\n",
    "best_result_dtc_downsamp = 0\n",
    "best_auc_roc_dtc_downsamp = 0\n",
    "\n",
    "for depth in range(2, 30):\n",
    "    model_dtc_downsamp = DecisionTreeClassifier(random_state=12345, max_depth=depth).fit(features_downsampled, target_downsampled)\n",
    "    predictions_valid_dtc_downsamp = model_dtc_downsamp.predict(features_valid)\n",
    "    result = f1_score(target_valid, predictions_valid_dtc_downsamp)\n",
    "    probabilities_valid_dtc_downsamp = model_dtc_downsamp.predict_proba(features_valid)\n",
    "    probabilities_one_valid_dtc_downsamp = probabilities_valid_dtc_downsamp[:, 1]\n",
    "    auc_roc = roc_auc_score(target_valid, probabilities_one_valid_dtc_downsamp)\n",
    "    print('Max depth:', depth,'F1-score:','{:.4f}'.format(result),\n",
    "          'AUC-ROC:','{:.4f}'.format(auc_roc))\n",
    "    \n",
    "    if best_result_dtc_downsamp < result:\n",
    "        best_result_dtc_downsamp = result\n",
    "        best_depth_dtc_downsamp = depth\n",
    "        best_model_dtc_downsamp = model_dtc_downsamp\n",
    "        best_auc_roc_dtc_downsamp = auc_roc\n",
    "\n",
    "print(\"Лучшая F-мера\", best_result_dtc_downsamp, 'cо значением глубины =', best_depth_dtc_downsamp, 'cо значением AUC-ROC =', best_auc_roc_dtc_downsamp)"
   ]
  },
  {
   "cell_type": "markdown",
   "metadata": {},
   "source": [
    "Лучшая F-мера 0.5939 cо значением глубины = 6 и AUC-ROC=0.8472, выросла относительно резульатов полученных до использования гиперпараметра и увеличения выборки."
   ]
  },
  {
   "cell_type": "markdown",
   "metadata": {},
   "source": [
    "#### Проверка Random Forest"
   ]
  },
  {
   "cell_type": "code",
   "execution_count": 52,
   "metadata": {
    "scrolled": true
   },
   "outputs": [
    {
     "name": "stdout",
     "output_type": "stream",
     "text": [
      "Max depth: 10 F1-score: 0.5805 AUC-ROC: 0.8456\n",
      "Max depth: 11 F1-score: 0.5733 AUC-ROC: 0.8320\n",
      "Max depth: 12 F1-score: 0.5913 AUC-ROC: 0.8435\n",
      "Max depth: 13 F1-score: 0.5693 AUC-ROC: 0.8332\n",
      "Max depth: 14 F1-score: 0.5856 AUC-ROC: 0.8380\n",
      "Max depth: 15 F1-score: 0.5782 AUC-ROC: 0.8325\n",
      "Max depth: 16 F1-score: 0.5932 AUC-ROC: 0.8445\n",
      "Max depth: 17 F1-score: 0.5865 AUC-ROC: 0.8392\n",
      "Max depth: 18 F1-score: 0.5863 AUC-ROC: 0.8329\n",
      "Max depth: 19 F1-score: 0.5874 AUC-ROC: 0.8350\n",
      "Max depth: 10 F1-score: 0.5976 AUC-ROC: 0.8559\n",
      "Max depth: 11 F1-score: 0.5816 AUC-ROC: 0.8453\n",
      "Max depth: 12 F1-score: 0.5965 AUC-ROC: 0.8516\n",
      "Max depth: 13 F1-score: 0.5809 AUC-ROC: 0.8445\n",
      "Max depth: 14 F1-score: 0.5864 AUC-ROC: 0.8445\n",
      "Max depth: 15 F1-score: 0.5796 AUC-ROC: 0.8422\n",
      "Max depth: 16 F1-score: 0.5846 AUC-ROC: 0.8473\n",
      "Max depth: 17 F1-score: 0.5833 AUC-ROC: 0.8475\n",
      "Max depth: 18 F1-score: 0.5691 AUC-ROC: 0.8427\n",
      "Max depth: 19 F1-score: 0.5772 AUC-ROC: 0.8401\n",
      "Max depth: 10 F1-score: 0.5898 AUC-ROC: 0.8599\n",
      "Max depth: 11 F1-score: 0.5895 AUC-ROC: 0.8507\n",
      "Max depth: 12 F1-score: 0.6024 AUC-ROC: 0.8551\n",
      "Max depth: 13 F1-score: 0.5833 AUC-ROC: 0.8495\n",
      "Max depth: 14 F1-score: 0.5871 AUC-ROC: 0.8471\n",
      "Max depth: 15 F1-score: 0.5905 AUC-ROC: 0.8481\n",
      "Max depth: 16 F1-score: 0.5939 AUC-ROC: 0.8532\n",
      "Max depth: 17 F1-score: 0.5822 AUC-ROC: 0.8505\n",
      "Max depth: 18 F1-score: 0.5846 AUC-ROC: 0.8483\n",
      "Max depth: 19 F1-score: 0.5931 AUC-ROC: 0.8478\n",
      "Max depth: 10 F1-score: 0.6025 AUC-ROC: 0.8625\n",
      "Max depth: 11 F1-score: 0.5972 AUC-ROC: 0.8535\n",
      "Max depth: 12 F1-score: 0.6006 AUC-ROC: 0.8606\n",
      "Max depth: 13 F1-score: 0.5845 AUC-ROC: 0.8522\n",
      "Max depth: 14 F1-score: 0.5942 AUC-ROC: 0.8506\n",
      "Max depth: 15 F1-score: 0.5922 AUC-ROC: 0.8476\n",
      "Max depth: 16 F1-score: 0.5925 AUC-ROC: 0.8565\n",
      "Max depth: 17 F1-score: 0.5849 AUC-ROC: 0.8545\n",
      "Max depth: 18 F1-score: 0.5892 AUC-ROC: 0.8509\n",
      "Max depth: 19 F1-score: 0.5949 AUC-ROC: 0.8513\n",
      "Max depth: 10 F1-score: 0.6061 AUC-ROC: 0.8646\n",
      "Max depth: 11 F1-score: 0.6030 AUC-ROC: 0.8580\n",
      "Max depth: 12 F1-score: 0.6093 AUC-ROC: 0.8600\n",
      "Max depth: 13 F1-score: 0.5979 AUC-ROC: 0.8547\n",
      "Max depth: 14 F1-score: 0.6034 AUC-ROC: 0.8539\n",
      "Max depth: 15 F1-score: 0.6000 AUC-ROC: 0.8535\n",
      "Max depth: 16 F1-score: 0.5916 AUC-ROC: 0.8594\n",
      "Max depth: 17 F1-score: 0.5920 AUC-ROC: 0.8560\n",
      "Max depth: 18 F1-score: 0.5830 AUC-ROC: 0.8530\n",
      "Max depth: 19 F1-score: 0.5994 AUC-ROC: 0.8550\n",
      "Max depth: 10 F1-score: 0.6101 AUC-ROC: 0.8648\n",
      "Max depth: 11 F1-score: 0.5989 AUC-ROC: 0.8583\n",
      "Max depth: 12 F1-score: 0.6070 AUC-ROC: 0.8635\n",
      "Max depth: 13 F1-score: 0.5931 AUC-ROC: 0.8566\n",
      "Max depth: 14 F1-score: 0.5985 AUC-ROC: 0.8550\n",
      "Max depth: 15 F1-score: 0.5932 AUC-ROC: 0.8547\n",
      "Max depth: 16 F1-score: 0.5958 AUC-ROC: 0.8595\n",
      "Max depth: 17 F1-score: 0.5836 AUC-ROC: 0.8546\n",
      "Max depth: 18 F1-score: 0.5819 AUC-ROC: 0.8546\n",
      "Max depth: 19 F1-score: 0.5909 AUC-ROC: 0.8572\n",
      "Max depth: 10 F1-score: 0.6176 AUC-ROC: 0.8657\n",
      "Max depth: 11 F1-score: 0.5955 AUC-ROC: 0.8608\n",
      "Max depth: 12 F1-score: 0.6030 AUC-ROC: 0.8633\n",
      "Max depth: 13 F1-score: 0.5951 AUC-ROC: 0.8571\n",
      "Max depth: 14 F1-score: 0.5991 AUC-ROC: 0.8560\n",
      "Max depth: 15 F1-score: 0.5993 AUC-ROC: 0.8557\n",
      "Max depth: 16 F1-score: 0.5998 AUC-ROC: 0.8604\n",
      "Max depth: 17 F1-score: 0.5956 AUC-ROC: 0.8559\n",
      "Max depth: 18 F1-score: 0.5851 AUC-ROC: 0.8542\n",
      "Max depth: 19 F1-score: 0.5977 AUC-ROC: 0.8562\n",
      "Max depth: 10 F1-score: 0.6172 AUC-ROC: 0.8665\n",
      "Max depth: 11 F1-score: 0.6021 AUC-ROC: 0.8621\n",
      "Max depth: 12 F1-score: 0.6102 AUC-ROC: 0.8639\n",
      "Max depth: 13 F1-score: 0.5998 AUC-ROC: 0.8579\n",
      "Max depth: 14 F1-score: 0.6045 AUC-ROC: 0.8574\n",
      "Max depth: 15 F1-score: 0.6004 AUC-ROC: 0.8583\n",
      "Max depth: 16 F1-score: 0.6002 AUC-ROC: 0.8616\n",
      "Max depth: 17 F1-score: 0.5940 AUC-ROC: 0.8571\n",
      "Max depth: 18 F1-score: 0.5829 AUC-ROC: 0.8558\n",
      "Max depth: 19 F1-score: 0.5951 AUC-ROC: 0.8559\n",
      "Max depth: 10 F1-score: 0.6113 AUC-ROC: 0.8667\n",
      "Max depth: 11 F1-score: 0.6053 AUC-ROC: 0.8613\n",
      "Max depth: 12 F1-score: 0.6093 AUC-ROC: 0.8639\n",
      "Max depth: 13 F1-score: 0.5989 AUC-ROC: 0.8578\n",
      "Max depth: 14 F1-score: 0.6034 AUC-ROC: 0.8575\n",
      "Max depth: 15 F1-score: 0.6017 AUC-ROC: 0.8580\n",
      "Max depth: 16 F1-score: 0.6065 AUC-ROC: 0.8616\n",
      "Max depth: 17 F1-score: 0.5918 AUC-ROC: 0.8563\n",
      "Max depth: 18 F1-score: 0.5909 AUC-ROC: 0.8559\n",
      "Max depth: 19 F1-score: 0.5973 AUC-ROC: 0.8557\n",
      "Max depth: 10 F1-score: 0.6158 AUC-ROC: 0.8666\n",
      "Max depth: 11 F1-score: 0.6076 AUC-ROC: 0.8612\n",
      "Max depth: 12 F1-score: 0.6017 AUC-ROC: 0.8637\n",
      "Max depth: 13 F1-score: 0.5981 AUC-ROC: 0.8591\n",
      "Max depth: 14 F1-score: 0.6015 AUC-ROC: 0.8582\n",
      "Max depth: 15 F1-score: 0.5962 AUC-ROC: 0.8581\n",
      "Max depth: 16 F1-score: 0.6026 AUC-ROC: 0.8613\n",
      "Max depth: 17 F1-score: 0.5895 AUC-ROC: 0.8565\n",
      "Max depth: 18 F1-score: 0.5929 AUC-ROC: 0.8563\n",
      "Max depth: 19 F1-score: 0.5913 AUC-ROC: 0.8576\n",
      "Max depth: 10 F1-score: 0.6194 AUC-ROC: 0.8672\n",
      "Max depth: 11 F1-score: 0.6111 AUC-ROC: 0.8611\n",
      "Max depth: 12 F1-score: 0.6113 AUC-ROC: 0.8641\n",
      "Max depth: 13 F1-score: 0.5968 AUC-ROC: 0.8601\n",
      "Max depth: 14 F1-score: 0.6043 AUC-ROC: 0.8587\n",
      "Max depth: 15 F1-score: 0.6019 AUC-ROC: 0.8587\n",
      "Max depth: 16 F1-score: 0.5947 AUC-ROC: 0.8606\n",
      "Max depth: 17 F1-score: 0.5934 AUC-ROC: 0.8567\n",
      "Max depth: 18 F1-score: 0.5962 AUC-ROC: 0.8561\n",
      "Max depth: 19 F1-score: 0.5880 AUC-ROC: 0.8578\n",
      "Max depth: 10 F1-score: 0.6195 AUC-ROC: 0.8674\n",
      "Max depth: 11 F1-score: 0.6146 AUC-ROC: 0.8620\n",
      "Max depth: 12 F1-score: 0.6073 AUC-ROC: 0.8647\n",
      "Max depth: 13 F1-score: 0.5985 AUC-ROC: 0.8609\n",
      "Max depth: 14 F1-score: 0.6032 AUC-ROC: 0.8597\n",
      "Max depth: 15 F1-score: 0.6004 AUC-ROC: 0.8596\n",
      "Max depth: 16 F1-score: 0.5963 AUC-ROC: 0.8606\n",
      "Max depth: 17 F1-score: 0.5923 AUC-ROC: 0.8580\n",
      "Max depth: 18 F1-score: 0.5953 AUC-ROC: 0.8572\n",
      "Max depth: 19 F1-score: 0.5880 AUC-ROC: 0.8580\n",
      "Max depth: 10 F1-score: 0.6160 AUC-ROC: 0.8671\n",
      "Max depth: 11 F1-score: 0.6113 AUC-ROC: 0.8626\n",
      "Max depth: 12 F1-score: 0.6113 AUC-ROC: 0.8646\n",
      "Max depth: 13 F1-score: 0.6004 AUC-ROC: 0.8617\n",
      "Max depth: 14 F1-score: 0.6024 AUC-ROC: 0.8603\n",
      "Max depth: 15 F1-score: 0.6047 AUC-ROC: 0.8590\n",
      "Max depth: 16 F1-score: 0.6036 AUC-ROC: 0.8604\n",
      "Max depth: 17 F1-score: 0.5985 AUC-ROC: 0.8576\n",
      "Max depth: 18 F1-score: 0.5998 AUC-ROC: 0.8574\n",
      "Max depth: 19 F1-score: 0.5916 AUC-ROC: 0.8577\n",
      "Max depth: 10 F1-score: 0.6167 AUC-ROC: 0.8669\n",
      "Max depth: 11 F1-score: 0.6074 AUC-ROC: 0.8618\n",
      "Max depth: 12 F1-score: 0.6160 AUC-ROC: 0.8651\n",
      "Max depth: 13 F1-score: 0.6024 AUC-ROC: 0.8625\n",
      "Max depth: 14 F1-score: 0.6064 AUC-ROC: 0.8600\n",
      "Max depth: 15 F1-score: 0.6011 AUC-ROC: 0.8597\n",
      "Max depth: 16 F1-score: 0.6032 AUC-ROC: 0.8605\n",
      "Max depth: 17 F1-score: 0.5925 AUC-ROC: 0.8576\n",
      "Max depth: 18 F1-score: 0.5965 AUC-ROC: 0.8573\n",
      "Max depth: 19 F1-score: 0.5974 AUC-ROC: 0.8574\n",
      "Max depth: 10 F1-score: 0.6113 AUC-ROC: 0.8661\n",
      "Max depth: 11 F1-score: 0.6127 AUC-ROC: 0.8631\n",
      "Max depth: 12 F1-score: 0.6142 AUC-ROC: 0.8662\n",
      "Max depth: 13 F1-score: 0.6080 AUC-ROC: 0.8636\n",
      "Max depth: 14 F1-score: 0.6068 AUC-ROC: 0.8607\n",
      "Max depth: 15 F1-score: 0.6085 AUC-ROC: 0.8606\n",
      "Max depth: 16 F1-score: 0.6051 AUC-ROC: 0.8627\n",
      "Max depth: 17 F1-score: 0.6015 AUC-ROC: 0.8589\n",
      "Max depth: 18 F1-score: 0.6038 AUC-ROC: 0.8584\n",
      "Max depth: 19 F1-score: 0.5927 AUC-ROC: 0.8585\n",
      "Max depth: 10 F1-score: 0.6123 AUC-ROC: 0.8668\n",
      "Max depth: 11 F1-score: 0.6142 AUC-ROC: 0.8633\n",
      "Max depth: 12 F1-score: 0.6132 AUC-ROC: 0.8662\n",
      "Max depth: 13 F1-score: 0.6037 AUC-ROC: 0.8629\n",
      "Max depth: 14 F1-score: 0.6072 AUC-ROC: 0.8609\n",
      "Max depth: 15 F1-score: 0.6015 AUC-ROC: 0.8601\n",
      "Max depth: 16 F1-score: 0.6060 AUC-ROC: 0.8628\n",
      "Max depth: 17 F1-score: 0.5976 AUC-ROC: 0.8593\n",
      "Max depth: 18 F1-score: 0.6087 AUC-ROC: 0.8589\n",
      "Max depth: 19 F1-score: 0.5970 AUC-ROC: 0.8586\n",
      "Max depth: 10 F1-score: 0.6100 AUC-ROC: 0.8662\n",
      "Max depth: 11 F1-score: 0.6108 AUC-ROC: 0.8626\n",
      "Max depth: 12 F1-score: 0.6155 AUC-ROC: 0.8664\n",
      "Max depth: 13 F1-score: 0.6069 AUC-ROC: 0.8625\n",
      "Max depth: 14 F1-score: 0.6019 AUC-ROC: 0.8612\n",
      "Max depth: 15 F1-score: 0.5996 AUC-ROC: 0.8596\n",
      "Max depth: 16 F1-score: 0.6070 AUC-ROC: 0.8625\n",
      "Max depth: 17 F1-score: 0.5948 AUC-ROC: 0.8589\n",
      "Max depth: 18 F1-score: 0.6049 AUC-ROC: 0.8583\n",
      "Max depth: 19 F1-score: 0.5915 AUC-ROC: 0.8584\n",
      "Max depth: 10 F1-score: 0.6112 AUC-ROC: 0.8665\n",
      "Max depth: 11 F1-score: 0.6136 AUC-ROC: 0.8633\n",
      "Max depth: 12 F1-score: 0.6223 AUC-ROC: 0.8667\n",
      "Max depth: 13 F1-score: 0.6048 AUC-ROC: 0.8628\n",
      "Max depth: 14 F1-score: 0.6049 AUC-ROC: 0.8616\n",
      "Max depth: 15 F1-score: 0.6025 AUC-ROC: 0.8602\n",
      "Max depth: 16 F1-score: 0.6094 AUC-ROC: 0.8622\n",
      "Max depth: 17 F1-score: 0.5935 AUC-ROC: 0.8596\n",
      "Max depth: 18 F1-score: 0.5976 AUC-ROC: 0.8593\n",
      "Max depth: 19 F1-score: 0.5948 AUC-ROC: 0.8588\n",
      "Max depth: 10 F1-score: 0.6049 AUC-ROC: 0.8663\n",
      "Max depth: 11 F1-score: 0.6078 AUC-ROC: 0.8628\n",
      "Max depth: 12 F1-score: 0.6171 AUC-ROC: 0.8665\n",
      "Max depth: 13 F1-score: 0.6043 AUC-ROC: 0.8634\n",
      "Max depth: 14 F1-score: 0.6013 AUC-ROC: 0.8620\n",
      "Max depth: 15 F1-score: 0.6036 AUC-ROC: 0.8604\n",
      "Max depth: 16 F1-score: 0.6083 AUC-ROC: 0.8631\n",
      "Max depth: 17 F1-score: 0.5940 AUC-ROC: 0.8603\n",
      "Max depth: 18 F1-score: 0.6000 AUC-ROC: 0.8604\n",
      "Max depth: 19 F1-score: 0.5940 AUC-ROC: 0.8596\n",
      "Max depth: 10 F1-score: 0.6065 AUC-ROC: 0.8661\n",
      "Max depth: 11 F1-score: 0.6078 AUC-ROC: 0.8630\n",
      "Max depth: 12 F1-score: 0.6149 AUC-ROC: 0.8670\n",
      "Max depth: 13 F1-score: 0.5994 AUC-ROC: 0.8630\n",
      "Max depth: 14 F1-score: 0.6075 AUC-ROC: 0.8625\n",
      "Max depth: 15 F1-score: 0.6032 AUC-ROC: 0.8601\n",
      "Max depth: 16 F1-score: 0.6066 AUC-ROC: 0.8628\n",
      "Max depth: 17 F1-score: 0.5991 AUC-ROC: 0.8605\n",
      "Max depth: 18 F1-score: 0.5985 AUC-ROC: 0.8604\n",
      "Max depth: 19 F1-score: 0.5961 AUC-ROC: 0.8598\n",
      "Max depth: 10 F1-score: 0.6065 AUC-ROC: 0.8660\n",
      "Max depth: 11 F1-score: 0.6103 AUC-ROC: 0.8626\n",
      "Max depth: 12 F1-score: 0.6163 AUC-ROC: 0.8675\n",
      "Max depth: 13 F1-score: 0.6009 AUC-ROC: 0.8632\n",
      "Max depth: 14 F1-score: 0.6064 AUC-ROC: 0.8626\n",
      "Max depth: 15 F1-score: 0.6061 AUC-ROC: 0.8610\n",
      "Max depth: 16 F1-score: 0.6083 AUC-ROC: 0.8627\n",
      "Max depth: 17 F1-score: 0.6026 AUC-ROC: 0.8605\n",
      "Max depth: 18 F1-score: 0.5976 AUC-ROC: 0.8603\n",
      "Max depth: 19 F1-score: 0.5947 AUC-ROC: 0.8600\n",
      "Max depth: 10 F1-score: 0.6101 AUC-ROC: 0.8660\n",
      "Max depth: 11 F1-score: 0.6108 AUC-ROC: 0.8631\n",
      "Max depth: 12 F1-score: 0.6168 AUC-ROC: 0.8674\n",
      "Max depth: 13 F1-score: 0.5976 AUC-ROC: 0.8632\n",
      "Max depth: 14 F1-score: 0.6068 AUC-ROC: 0.8626\n",
      "Max depth: 15 F1-score: 0.6078 AUC-ROC: 0.8610\n",
      "Max depth: 16 F1-score: 0.6049 AUC-ROC: 0.8629\n",
      "Max depth: 17 F1-score: 0.6022 AUC-ROC: 0.8604\n",
      "Max depth: 18 F1-score: 0.5989 AUC-ROC: 0.8604\n",
      "Max depth: 19 F1-score: 0.5938 AUC-ROC: 0.8600\n",
      "Max depth: 10 F1-score: 0.6088 AUC-ROC: 0.8660\n",
      "Max depth: 11 F1-score: 0.6091 AUC-ROC: 0.8634\n",
      "Max depth: 12 F1-score: 0.6161 AUC-ROC: 0.8674\n",
      "Max depth: 13 F1-score: 0.6067 AUC-ROC: 0.8630\n",
      "Max depth: 14 F1-score: 0.6083 AUC-ROC: 0.8628\n",
      "Max depth: 15 F1-score: 0.6066 AUC-ROC: 0.8608\n",
      "Max depth: 16 F1-score: 0.6041 AUC-ROC: 0.8627\n",
      "Max depth: 17 F1-score: 0.6079 AUC-ROC: 0.8608\n",
      "Max depth: 18 F1-score: 0.6032 AUC-ROC: 0.8612\n",
      "Max depth: 19 F1-score: 0.5961 AUC-ROC: 0.8605\n",
      "Лучшая F-мера 0.6222645099904851 при глубине = 12,  количестве деревьев = 95 и AUC-ROC = 0.8667310202975663\n",
      "CPU times: user 1min 15s, sys: 1.15 s, total: 1min 16s\n",
      "Wall time: 1min 17s\n"
     ]
    }
   ],
   "source": [
    "%%time\n",
    "\n",
    "best_model_rfc_downsamp = None\n",
    "best_depth_rfc_downsamp = 0\n",
    "best_est_downsamp = 0\n",
    "best_result_rfc_downsamp = 0\n",
    "best_auc_roc_rfc_downsamp = 0\n",
    "\n",
    "\n",
    "for estimator in range(10, 121, 5):\n",
    "    for depth in range(10, 20):\n",
    "        model_rfc_downsamp =  RandomForestClassifier(random_state=12345, n_estimators=estimator, max_depth=depth).fit(features_downsampled, target_downsampled)\n",
    "        predictions_valid_rfc_downsamp = model_rfc_downsamp.predict(features_valid)\n",
    "        result = f1_score(target_valid, predictions_valid_rfc_downsamp)\n",
    "        probabilities_valid_rfc_downsamp = model_rfc_downsamp.predict_proba(features_valid)\n",
    "        probabilities_one_valid_rfc_downsamp = probabilities_valid_rfc_downsamp[:, 1]\n",
    "        auc_roc = roc_auc_score(target_valid, probabilities_one_valid_rfc_downsamp)\n",
    "        print('Max depth:', depth,'F1-score:','{:.4f}'.format(result), \n",
    "          'AUC-ROC:','{:.4f}'.format(auc_roc))\n",
    "    \n",
    "        if best_result_rfc_downsamp < result:\n",
    "            best_result_rfc_downsamp = result\n",
    "            best_depth_rfc_downsamp = depth\n",
    "            best_est_downsamp = estimator\n",
    "            best_model_rfc_downsamp = model_rfc_downsamp\n",
    "            best_auc_roc_rfc_downsamp = auc_roc\n",
    "            \n",
    "\n",
    "print(\"Лучшая F-мера\", best_result_rfc_downsamp, 'при глубине = {0},  количестве деревьев = {1} и AUC-ROC = {2}'.format(best_depth_rfc_downsamp, best_est_downsamp, best_auc_roc_rfc_downsamp))"
   ]
  },
  {
   "cell_type": "markdown",
   "metadata": {},
   "source": [
    "Лучшая F-мера 0.6222 cо значением глубины = 12 и количестве деревьев - 95 и AUC-ROC 0.8667, стала хуже, в сравнении с показателями после увеличения."
   ]
  },
  {
   "cell_type": "markdown",
   "metadata": {},
   "source": [
    "#### Проверка Logistic Regression"
   ]
  },
  {
   "cell_type": "code",
   "execution_count": 53,
   "metadata": {
    "scrolled": false
   },
   "outputs": [
    {
     "name": "stdout",
     "output_type": "stream",
     "text": [
      "F1-score: 0.5250 AUC-ROC: 0.7927\n",
      "CPU times: user 30.8 ms, sys: 4.38 ms, total: 35.2 ms\n",
      "Wall time: 43 ms\n"
     ]
    }
   ],
   "source": [
    "%%time\n",
    "\n",
    "model_lr_downsamp = LogisticRegression(random_state=12345, solver='liblinear').fit(features_downsampled, target_downsampled)\n",
    "predictions_valid_lr_downsamp = model_lr_downsamp.predict(features_valid)\n",
    "probabilities_valid_lr_downsamp = model_lr_downsamp.predict_proba(features_valid)\n",
    "probabilities_one_valid_lr_downsamp = probabilities_valid_lr_downsamp[:, 1]\n",
    "\n",
    "print('F1-score:','{:.4f}'.format(f1_score(target_valid, predictions_valid_lr_downsamp)),\n",
    "     'AUC-ROC:','{:.4f}'.format(roc_auc_score(target_valid, probabilities_one_valid_lr_downsamp)))"
   ]
  },
  {
   "cell_type": "markdown",
   "metadata": {},
   "source": [
    "Значение F-меры 0.5250 и AUC-ROC 0.7927 незначительно увеличилась после уменьшения выборки в сравнении с показателями после увеличения."
   ]
  },
  {
   "cell_type": "markdown",
   "metadata": {},
   "source": [
    "**Итоговые результаты после балансировки**\n",
    "\n",
    "**Гиперпараметр 'balanced'**<br />\n",
    "Decision Tree Classifier Лучшая F-мера 0.5759 cо значением глубины = 6, AUC-ROC = 0.8234 <br />\n",
    "Random Forest Лучшая F-мера 0.6376 при глубине = 10 и количестве деревьев = 55, AUC-ROC = 0.8683<br />\n",
    "Logistic Regression F1 0.5303, AUC-ROC = 0.7938<br />\n",
    "\n",
    "**Upsampling**<br />\n",
    "Decision Tree Classifier Лучшая F-мера 0.5759 cо значением глубины = 6, AUC-ROC = 0.8234<br />\n",
    "Random Forest Classifier Лучшая F-мера **0.6483** при глубине = **11** и количестве деревьев = **60**, AUC-ROC = **0.8709**<br />\n",
    "Logistic Regression F1 0.5247, AUC-ROC = 0.7983<br />\n",
    "\n",
    "**Downsampling**<br />\n",
    "Decision Tree Classifier Лучшая F-мера 0.5939 cо значением глубины = 6, AUC-ROC = 0.8472<br />\n",
    "Random Forest Classifier Лучшая F-мера 0.6222 при глубине = 12 и количестве деревьев = 95, AUC-ROC = 0.8667<br />\n",
    "Logistic Regression F1 0.5250, AUC-ROC = 0.7927"
   ]
  },
  {
   "cell_type": "markdown",
   "metadata": {},
   "source": [
    "Выведем кривую ошибок и найдем площадь под этой кривой для лучшей модели."
   ]
  },
  {
   "cell_type": "code",
   "execution_count": 54,
   "metadata": {
    "scrolled": true
   },
   "outputs": [
    {
     "name": "stdout",
     "output_type": "stream",
     "text": [
      "AUC-ROC RandomForestClassifier 0.8709\n"
     ]
    },
    {
     "data": {
      "image/png": "[encoded data removed]",
      "text/plain": [
       "<Figure size 700x400 with 1 Axes>"
      ]
     },
     "metadata": {},
     "output_type": "display_data"
    }
   ],
   "source": [
    "plt.figure(figsize=[7,4])\n",
    "\n",
    "plt.plot([0, 1], [0, 1], linestyle='--', label='RandomModel')\n",
    "\n",
    "\n",
    "model_rfс_upsample =  RandomForestClassifier(random_state=12345, n_estimators=60, \n",
    "                                                   max_depth = 11)\n",
    "model_rfс_upsample.fit(features_upsampled, target_upsampled)\n",
    "predictions_valid_rfc_upsamp = model_rfс_upsample.predict(features_valid)\n",
    "probabilities_valid = model_rfс_upsample.predict_proba(features_valid)\n",
    "probabilities_one_valid = probabilities_valid[:, 1]\n",
    "fpr, tpr, thresholds = roc_curve(target_valid, probabilities_one_valid)\n",
    "auc_roc = roc_auc_score(target_valid, probabilities_one_valid)\n",
    "\n",
    "print('AUC-ROC RandomForestClassifier','{:.4f}'.format(auc_roc))\n",
    "plt.plot(fpr, tpr, label='RandomForestClassifier')\n",
    "\n",
    "plt.xlim([0,1])\n",
    "plt.ylim([0,1])\n",
    "\n",
    "plt.xlabel(\"False Positive Rate\")\n",
    "plt.ylabel(\"True Positive Rate\")\n",
    "\n",
    "plt.legend(loc='lower right', fontsize='x-large')\n",
    "\n",
    "plt.title(\"ROC-кривая\")\n",
    "plt.show()"
   ]
  },
  {
   "cell_type": "markdown",
   "metadata": {},
   "source": [
    "Метрика AUC-ROC лучше чем у случайной модели, но и не идеальная AUC-ROC=1. Вероятность того, что случайно выбранный positive объект будет иметь более высокую вероятность быть positive, чем случайно выбранный negative объект составляет ~ 87,09%."
   ]
  },
  {
   "cell_type": "markdown",
   "metadata": {},
   "source": [
    "Проведем проверку на адекватность, сравним показатели константной модели с лучшей."
   ]
  },
  {
   "cell_type": "code",
   "execution_count": 55,
   "metadata": {
    "scrolled": true
   },
   "outputs": [
    {
     "name": "stdout",
     "output_type": "stream",
     "text": [
      "Показатель accuracy константной модели: 0.7960\n",
      "Показатель accuracy финальной модели: 0.8465\n",
      "AUC-ROC константой модели: 0.5000\n",
      "AUC-ROC финальной модели: 0.8709\n"
     ]
    }
   ],
   "source": [
    "print('Показатель accuracy константной модели:','{:.4f}'.format(accuracy_score(target_valid, target_predict_constant)))\n",
    "print('Показатель accuracy финальной модели:', '{:.4f}'.format(accuracy_score(target_valid, predictions_valid_rfc_upsamp)))\n",
    "\n",
    "print('AUC-ROC константой модели:','{:.4f}'.format(roc_auc_score(target_valid, target_predict_constant)))\n",
    "print('AUC-ROC финальной модели:','{:.4f}'.format(roc_auc_score(target_valid, probabilities_one_valid)))"
   ]
  },
  {
   "cell_type": "markdown",
   "metadata": {},
   "source": [
    "Финальная модель показывает результаты лучше, чем константная модель — модель можно считать адекватной."
   ]
  },
  {
   "cell_type": "markdown",
   "metadata": {},
   "source": [
    "## Тестирование модели"
   ]
  },
  {
   "cell_type": "markdown",
   "metadata": {},
   "source": [
    "Модель случайного леса на увеличенной выборке показала лучшее значение F-меры. Поэтому проводить тестировать будем на этой модели. Объединим валидационную выборку с обучающей выборкой, применив к ней выбранный метод борьбы с дисбалансом - upsampling. Так мы получим большее количество данных. Используем лучшую модель с гиперпараметрами, которые были подобраны в предыдущем пункте."
   ]
  },
  {
   "cell_type": "code",
   "execution_count": 56,
   "metadata": {},
   "outputs": [],
   "source": [
    "features_full_train = pd.concat([features_train, features_valid])\n",
    "target_full_train = pd.concat([target_train, target_valid])"
   ]
  },
  {
   "cell_type": "code",
   "execution_count": 57,
   "metadata": {},
   "outputs": [],
   "source": [
    "features_upsampled, target_upsampled = upsample(features_full_train, target_full_train, 4)"
   ]
  },
  {
   "cell_type": "code",
   "execution_count": 58,
   "metadata": {},
   "outputs": [
    {
     "name": "stdout",
     "output_type": "stream",
     "text": [
      "Точность лучшей модели на тестовой выборке: 0.8250\n",
      "F1-мера лучшей модели на тестовой выборке 0.6023\n"
     ]
    }
   ],
   "source": [
    "model_rfс_upsample =  RandomForestClassifier(random_state=12345, n_estimators=60, max_depth = 11).fit(features_upsampled, target_upsampled)\n",
    "predictions_test_rfc = model_rfс_upsample.predict(features_test)\n",
    "probabilities_valid_rfc_upsample_test = model_rfс_upsample.predict_proba(features_test)\n",
    "probabilities_one_valid_rfc_upsample_test = probabilities_valid_rfc_upsample_test[:, 1]\n",
    "print('Точность лучшей модели на тестовой выборке:','{:.4f}'.format(accuracy_score(predictions_test_rfc, target_test)))\n",
    "print(\"F1-мера лучшей модели на тестовой выборке\",'{:.4f}'.format(f1_score(target_test, predictions_test_rfc)))"
   ]
  },
  {
   "cell_type": "code",
   "execution_count": 59,
   "metadata": {
    "scrolled": true
   },
   "outputs": [
    {
     "name": "stdout",
     "output_type": "stream",
     "text": [
      "Полнота 0.6511\n",
      "Точность 0.5603\n",
      "F1-мера 0.6023\n",
      "AUC-ROC 0.8564\n"
     ]
    }
   ],
   "source": [
    "get_metrics(target_test, predictions_test_rfc, probabilities_one_valid_rfc_upsample_test)\n"
   ]
  },
  {
   "cell_type": "markdown",
   "metadata": {},
   "source": [
    "Проведем проверку на адекватность в сравнении с простейшей моделью, которая всегда предсказывает наиболее часто встречающийся класс"
   ]
  },
  {
   "cell_type": "code",
   "execution_count": 60,
   "metadata": {},
   "outputs": [
    {
     "name": "stdout",
     "output_type": "stream",
     "text": [
      "Точность простейшей модели: 0.7960\n"
     ]
    }
   ],
   "source": [
    "model_dc = DummyClassifier(strategy='most_frequent', random_state=12345)\n",
    "model_dc.fit(features_train, target_train)\n",
    "result_dc = model_dc.score(features_valid, target_valid)\n",
    "print('Точность простейшей модели:','{:.4f}'.format(result_dc))"
   ]
  },
  {
   "cell_type": "markdown",
   "metadata": {},
   "source": [
    "Простейшая модель ошибается в чуть более чем в 20% случаев, выбранная в чуть менее 17%.\n",
    "Выбранная модель лучше, чем простейшая модель. Проверка на адекватность пройдена."
   ]
  },
  {
   "cell_type": "markdown",
   "metadata": {},
   "source": [
    "\n",
    "**Выводы по результатам проекта**\n",
    "\n",
    "После изучения полученных данных было проведена предобработка, заменил на '0' пустые значения признака Tenure.Признаки RowNumber, CustomerId, Surname исключены, так как не влияют на ход решения задачи. Методом прямого кодирования преобразован весь датафрейм, что позволит избежать дамми-ловушки.\n",
    "\n",
    "Данные были разбиты на три части: обучающую, валидационную и тестовую. Исходные данные разбиваем в соотношении 3:1:1. Произведено масштабирование количественных признаков. Был замечен дисбаланс классов в целевом признаке, модели были изучены с/без учета данного факта, при этом использовались такие метрики как, accuracy, recall, precision, F-1 score, AUC-ROC. Для борьбы с дисбалансом использованы такие методы как: балансировка, увеличение выборки и уменьшение выборки. \n",
    "\n",
    "Обучение моделей происходило с помощью модулей: Решающее дерево, Случайный лес, Логистическая регрессия, так как целевой признак - Exited — факт ухода клиента является категориальным, значит перед была задача классификации. Лучший результат после увеличения выборки показала модель Random Forest Classifier при глубине = **11** и количестве деревьев = **60**.\n",
    "\n",
    "Обученная модель случайного леса образованная путем повторения несколько раз положительных объектов целевого признака - факт ухода клиента, получила самую высокую оценку F1 = **0.6483** и прошла проверку на адекватность, подтвержденная ее значением AUC-ROC = **0.8709**. Это лучше, чем случайная модель предсказывания (AUC-ROC = 0.5). На тестовой выборке, которую была объединена с валидационной для увеличения количестваданных показала значение F1-меры - **0.6023**, что соответствует критерию заказчика. Модель характеризуется высоким показателем точности = **0.8465**, поэтому она с высокой вероятностью предсказывает уход клиента из банка."
   ]
  },
  {
   "cell_type": "markdown",
   "metadata": {},
   "source": [
    "## Чек-лист готовности проекта"
   ]
  },
  {
   "cell_type": "markdown",
   "metadata": {},
   "source": [
    "Поставьте 'x' в выполненных пунктах. Далее нажмите Shift+Enter."
   ]
  },
  {
   "cell_type": "markdown",
   "metadata": {},
   "source": [
    "- [x]  Jupyter Notebook открыт\n",
    "- [x]  Весь код выполняется без ошибок\n",
    "- [x]  Ячейки с кодом расположены в порядке исполнения\n",
    "- [x]  Выполнен шаг 1: данные подготовлены\n",
    "- [x]  Выполнен шаг 2: задача исследована\n",
    "    - [x]  Исследован баланс классов\n",
    "    - [x]  Изучены модели без учёта дисбаланса\n",
    "    - [x]  Написаны выводы по результатам исследования\n",
    "- [x]  Выполнен шаг 3: учтён дисбаланс\n",
    "    - [x]  Применено несколько способов борьбы с дисбалансом\n",
    "    - [x]  Написаны выводы по результатам исследования\n",
    "- [x]  Выполнен шаг 4: проведено тестирование\n",
    "- [x]  Удалось достичь *F1*-меры не менее 0.59\n",
    "- [x]  Исследована метрика *AUC-ROC*"
   ]
  },
  {
   "cell_type": "code",
   "execution_count": null,
   "metadata": {},
   "outputs": [],
   "source": []
  }
 ],
 "metadata": {
  "ExecuteTimeLog": [
   {
    "duration": 1398,
    "start_time": "2022-11-11T17:03:09.286Z"
   },
   {
    "duration": 167,
    "start_time": "2022-11-11T17:03:10.686Z"
   },
   {
    "duration": 52,
    "start_time": "2022-11-11T17:03:20.699Z"
   },
   {
    "duration": 5,
    "start_time": "2022-11-11T17:07:21.586Z"
   },
   {
    "duration": 12,
    "start_time": "2022-11-11T17:07:31.942Z"
   },
   {
    "duration": 4,
    "start_time": "2022-11-11T17:12:44.536Z"
   },
   {
    "duration": 12,
    "start_time": "2022-11-11T17:12:58.635Z"
   },
   {
    "duration": 6,
    "start_time": "2022-11-11T17:13:49.174Z"
   },
   {
    "duration": 10,
    "start_time": "2022-11-11T17:30:35.420Z"
   },
   {
    "duration": 5,
    "start_time": "2022-11-11T17:31:03.400Z"
   },
   {
    "duration": 12,
    "start_time": "2022-11-11T17:38:51.245Z"
   },
   {
    "duration": 4,
    "start_time": "2022-11-11T17:39:25.745Z"
   },
   {
    "duration": 9,
    "start_time": "2022-11-11T17:41:15.674Z"
   },
   {
    "duration": 17,
    "start_time": "2022-11-11T17:41:57.309Z"
   },
   {
    "duration": 4,
    "start_time": "2022-11-11T17:42:13.935Z"
   },
   {
    "duration": 22,
    "start_time": "2022-11-11T17:43:13.637Z"
   },
   {
    "duration": 15,
    "start_time": "2022-11-11T17:43:28.302Z"
   },
   {
    "duration": 4,
    "start_time": "2022-11-11T17:48:16.131Z"
   },
   {
    "duration": 68,
    "start_time": "2022-11-11T17:53:57.848Z"
   },
   {
    "duration": 84,
    "start_time": "2022-11-11T17:54:21.032Z"
   },
   {
    "duration": 70,
    "start_time": "2022-11-11T17:54:35.577Z"
   },
   {
    "duration": 70,
    "start_time": "2022-11-11T17:54:50.740Z"
   },
   {
    "duration": 7,
    "start_time": "2022-11-11T17:55:01.676Z"
   },
   {
    "duration": 8,
    "start_time": "2022-11-11T17:55:44.167Z"
   },
   {
    "duration": 7,
    "start_time": "2022-11-11T17:56:59.137Z"
   },
   {
    "duration": 4,
    "start_time": "2022-11-11T17:58:06.697Z"
   },
   {
    "duration": 8,
    "start_time": "2022-11-11T18:00:53.003Z"
   },
   {
    "duration": 6,
    "start_time": "2022-11-11T18:01:15.137Z"
   },
   {
    "duration": 3,
    "start_time": "2022-11-11T18:01:15.801Z"
   },
   {
    "duration": 3,
    "start_time": "2022-11-11T18:03:03.280Z"
   },
   {
    "duration": 8,
    "start_time": "2022-11-11T18:04:57.881Z"
   },
   {
    "duration": 19,
    "start_time": "2022-11-11T18:06:03.333Z"
   },
   {
    "duration": 20,
    "start_time": "2022-11-11T18:06:42.945Z"
   },
   {
    "duration": 19,
    "start_time": "2022-11-11T18:06:48.194Z"
   },
   {
    "duration": 23,
    "start_time": "2022-11-11T18:10:34.943Z"
   },
   {
    "duration": 15,
    "start_time": "2022-11-11T18:12:13.613Z"
   },
   {
    "duration": 16,
    "start_time": "2022-11-11T18:12:46.833Z"
   },
   {
    "duration": 1298,
    "start_time": "2022-11-11T18:15:13.119Z"
   },
   {
    "duration": 46,
    "start_time": "2022-11-11T18:15:14.419Z"
   },
   {
    "duration": 3,
    "start_time": "2022-11-11T18:15:14.467Z"
   },
   {
    "duration": 14,
    "start_time": "2022-11-11T18:15:14.472Z"
   },
   {
    "duration": 3,
    "start_time": "2022-11-11T18:15:14.487Z"
   },
   {
    "duration": 12,
    "start_time": "2022-11-11T18:15:14.491Z"
   },
   {
    "duration": 15,
    "start_time": "2022-11-11T18:15:14.504Z"
   },
   {
    "duration": 4,
    "start_time": "2022-11-11T18:15:14.521Z"
   },
   {
    "duration": 26,
    "start_time": "2022-11-11T18:15:14.526Z"
   },
   {
    "duration": 4,
    "start_time": "2022-11-11T18:15:14.555Z"
   },
   {
    "duration": 20,
    "start_time": "2022-11-11T18:15:14.561Z"
   },
   {
    "duration": 3,
    "start_time": "2022-11-11T18:15:14.583Z"
   },
   {
    "duration": 6,
    "start_time": "2022-11-11T18:15:14.588Z"
   },
   {
    "duration": 10,
    "start_time": "2022-11-11T18:15:14.596Z"
   },
   {
    "duration": 3,
    "start_time": "2022-11-11T18:15:14.608Z"
   },
   {
    "duration": 39,
    "start_time": "2022-11-11T18:15:14.613Z"
   },
   {
    "duration": 8,
    "start_time": "2022-11-11T18:15:14.654Z"
   },
   {
    "duration": 5,
    "start_time": "2022-11-11T18:15:14.663Z"
   },
   {
    "duration": 9,
    "start_time": "2022-11-11T18:15:14.669Z"
   },
   {
    "duration": 20,
    "start_time": "2022-11-11T18:15:14.679Z"
   },
   {
    "duration": 14,
    "start_time": "2022-11-11T18:15:14.700Z"
   },
   {
    "duration": 38,
    "start_time": "2022-11-11T18:15:14.715Z"
   },
   {
    "duration": 46,
    "start_time": "2022-11-11T19:31:56.624Z"
   },
   {
    "duration": 1529,
    "start_time": "2022-11-11T19:34:37.803Z"
   },
   {
    "duration": 85,
    "start_time": "2022-11-11T19:34:39.333Z"
   },
   {
    "duration": 4,
    "start_time": "2022-11-11T19:34:39.419Z"
   },
   {
    "duration": 24,
    "start_time": "2022-11-11T19:34:39.425Z"
   },
   {
    "duration": 28,
    "start_time": "2022-11-11T19:34:39.452Z"
   },
   {
    "duration": 27,
    "start_time": "2022-11-11T19:34:39.482Z"
   },
   {
    "duration": 32,
    "start_time": "2022-11-11T19:34:39.511Z"
   },
   {
    "duration": 22,
    "start_time": "2022-11-11T19:34:39.545Z"
   },
   {
    "duration": 28,
    "start_time": "2022-11-11T19:34:39.569Z"
   },
   {
    "duration": 8,
    "start_time": "2022-11-11T19:34:39.600Z"
   },
   {
    "duration": 27,
    "start_time": "2022-11-11T19:34:39.610Z"
   },
   {
    "duration": 7,
    "start_time": "2022-11-11T19:34:39.639Z"
   },
   {
    "duration": 16,
    "start_time": "2022-11-11T19:34:39.647Z"
   },
   {
    "duration": 21,
    "start_time": "2022-11-11T19:34:39.665Z"
   },
   {
    "duration": 3,
    "start_time": "2022-11-11T19:34:39.688Z"
   },
   {
    "duration": 19,
    "start_time": "2022-11-11T19:34:39.693Z"
   },
   {
    "duration": 35,
    "start_time": "2022-11-11T19:34:39.714Z"
   },
   {
    "duration": 14,
    "start_time": "2022-11-11T19:34:39.750Z"
   },
   {
    "duration": 17,
    "start_time": "2022-11-11T19:34:39.766Z"
   },
   {
    "duration": 28,
    "start_time": "2022-11-11T19:34:39.784Z"
   },
   {
    "duration": 35,
    "start_time": "2022-11-11T19:34:39.813Z"
   },
   {
    "duration": 24,
    "start_time": "2022-11-11T19:34:39.851Z"
   },
   {
    "duration": 15,
    "start_time": "2022-11-11T19:34:49.194Z"
   },
   {
    "duration": 16,
    "start_time": "2022-11-11T19:34:55.320Z"
   },
   {
    "duration": 12,
    "start_time": "2022-11-11T19:34:57.774Z"
   },
   {
    "duration": 18,
    "start_time": "2022-11-11T19:35:02.142Z"
   },
   {
    "duration": 1356,
    "start_time": "2022-11-11T19:35:16.216Z"
   },
   {
    "duration": 48,
    "start_time": "2022-11-11T19:35:17.574Z"
   },
   {
    "duration": 4,
    "start_time": "2022-11-11T19:35:17.624Z"
   },
   {
    "duration": 17,
    "start_time": "2022-11-11T19:35:17.631Z"
   },
   {
    "duration": 4,
    "start_time": "2022-11-11T19:35:17.649Z"
   },
   {
    "duration": 7,
    "start_time": "2022-11-11T19:35:17.655Z"
   },
   {
    "duration": 24,
    "start_time": "2022-11-11T19:35:17.664Z"
   },
   {
    "duration": 6,
    "start_time": "2022-11-11T19:35:17.690Z"
   },
   {
    "duration": 33,
    "start_time": "2022-11-11T19:35:17.697Z"
   },
   {
    "duration": 4,
    "start_time": "2022-11-11T19:35:17.733Z"
   },
   {
    "duration": 19,
    "start_time": "2022-11-11T19:35:17.739Z"
   },
   {
    "duration": 4,
    "start_time": "2022-11-11T19:35:17.760Z"
   },
   {
    "duration": 7,
    "start_time": "2022-11-11T19:35:17.766Z"
   },
   {
    "duration": 11,
    "start_time": "2022-11-11T19:35:17.774Z"
   },
   {
    "duration": 3,
    "start_time": "2022-11-11T19:35:17.787Z"
   },
   {
    "duration": 9,
    "start_time": "2022-11-11T19:35:17.822Z"
   },
   {
    "duration": 5,
    "start_time": "2022-11-11T19:35:17.833Z"
   },
   {
    "duration": 5,
    "start_time": "2022-11-11T19:35:17.839Z"
   },
   {
    "duration": 23,
    "start_time": "2022-11-11T19:35:17.846Z"
   },
   {
    "duration": 28,
    "start_time": "2022-11-11T19:35:17.871Z"
   },
   {
    "duration": 31,
    "start_time": "2022-11-11T19:35:17.901Z"
   },
   {
    "duration": 16,
    "start_time": "2022-11-11T19:35:17.933Z"
   },
   {
    "duration": 15,
    "start_time": "2022-11-11T19:35:31.259Z"
   },
   {
    "duration": 18,
    "start_time": "2022-11-11T19:35:45.624Z"
   },
   {
    "duration": 19,
    "start_time": "2022-11-11T19:35:51.911Z"
   },
   {
    "duration": 1317,
    "start_time": "2022-11-11T19:38:42.025Z"
   },
   {
    "duration": 47,
    "start_time": "2022-11-11T19:38:43.344Z"
   },
   {
    "duration": 5,
    "start_time": "2022-11-11T19:38:43.392Z"
   },
   {
    "duration": 15,
    "start_time": "2022-11-11T19:38:43.399Z"
   },
   {
    "duration": 3,
    "start_time": "2022-11-11T19:38:43.416Z"
   },
   {
    "duration": 13,
    "start_time": "2022-11-11T19:38:43.422Z"
   },
   {
    "duration": 15,
    "start_time": "2022-11-11T19:38:43.436Z"
   },
   {
    "duration": 4,
    "start_time": "2022-11-11T19:38:43.453Z"
   },
   {
    "duration": 15,
    "start_time": "2022-11-11T19:38:43.459Z"
   },
   {
    "duration": 4,
    "start_time": "2022-11-11T19:38:43.476Z"
   },
   {
    "duration": 21,
    "start_time": "2022-11-11T19:38:43.482Z"
   },
   {
    "duration": 19,
    "start_time": "2022-11-11T19:38:43.505Z"
   },
   {
    "duration": 9,
    "start_time": "2022-11-11T19:38:43.525Z"
   },
   {
    "duration": 11,
    "start_time": "2022-11-11T19:38:43.535Z"
   },
   {
    "duration": 3,
    "start_time": "2022-11-11T19:38:43.548Z"
   },
   {
    "duration": 20,
    "start_time": "2022-11-11T19:38:43.553Z"
   },
   {
    "duration": 8,
    "start_time": "2022-11-11T19:38:43.575Z"
   },
   {
    "duration": 7,
    "start_time": "2022-11-11T19:38:43.585Z"
   },
   {
    "duration": 18,
    "start_time": "2022-11-11T19:38:43.594Z"
   },
   {
    "duration": 26,
    "start_time": "2022-11-11T19:38:43.613Z"
   },
   {
    "duration": 17,
    "start_time": "2022-11-11T19:38:43.641Z"
   },
   {
    "duration": 15,
    "start_time": "2022-11-11T19:38:43.660Z"
   },
   {
    "duration": 19,
    "start_time": "2022-11-11T19:38:50.509Z"
   },
   {
    "duration": 13,
    "start_time": "2022-11-11T19:38:54.508Z"
   },
   {
    "duration": 20,
    "start_time": "2022-11-11T19:39:01.084Z"
   },
   {
    "duration": 1531,
    "start_time": "2022-11-11T19:40:16.039Z"
   },
   {
    "duration": 47,
    "start_time": "2022-11-11T19:40:17.572Z"
   },
   {
    "duration": 4,
    "start_time": "2022-11-11T19:40:17.621Z"
   },
   {
    "duration": 20,
    "start_time": "2022-11-11T19:40:17.627Z"
   },
   {
    "duration": 4,
    "start_time": "2022-11-11T19:40:17.648Z"
   },
   {
    "duration": 8,
    "start_time": "2022-11-11T19:40:17.653Z"
   },
   {
    "duration": 15,
    "start_time": "2022-11-11T19:40:17.663Z"
   },
   {
    "duration": 6,
    "start_time": "2022-11-11T19:40:17.679Z"
   },
   {
    "duration": 36,
    "start_time": "2022-11-11T19:40:17.686Z"
   },
   {
    "duration": 4,
    "start_time": "2022-11-11T19:40:17.724Z"
   },
   {
    "duration": 21,
    "start_time": "2022-11-11T19:40:17.730Z"
   },
   {
    "duration": 4,
    "start_time": "2022-11-11T19:40:17.752Z"
   },
   {
    "duration": 8,
    "start_time": "2022-11-11T19:40:17.757Z"
   },
   {
    "duration": 8,
    "start_time": "2022-11-11T19:40:17.766Z"
   },
   {
    "duration": 3,
    "start_time": "2022-11-11T19:40:17.776Z"
   },
   {
    "duration": 12,
    "start_time": "2022-11-11T19:40:17.781Z"
   },
   {
    "duration": 31,
    "start_time": "2022-11-11T19:40:17.795Z"
   },
   {
    "duration": 5,
    "start_time": "2022-11-11T19:40:17.828Z"
   },
   {
    "duration": 11,
    "start_time": "2022-11-11T19:40:17.835Z"
   },
   {
    "duration": 21,
    "start_time": "2022-11-11T19:40:17.848Z"
   },
   {
    "duration": 18,
    "start_time": "2022-11-11T19:40:17.871Z"
   },
   {
    "duration": 47,
    "start_time": "2022-11-11T19:40:17.891Z"
   },
   {
    "duration": 1381,
    "start_time": "2022-11-11T19:40:34.571Z"
   },
   {
    "duration": 47,
    "start_time": "2022-11-11T19:40:35.954Z"
   },
   {
    "duration": 4,
    "start_time": "2022-11-11T19:40:36.003Z"
   },
   {
    "duration": 16,
    "start_time": "2022-11-11T19:40:36.008Z"
   },
   {
    "duration": 3,
    "start_time": "2022-11-11T19:40:36.026Z"
   },
   {
    "duration": 7,
    "start_time": "2022-11-11T19:40:36.031Z"
   },
   {
    "duration": 15,
    "start_time": "2022-11-11T19:40:36.040Z"
   },
   {
    "duration": 4,
    "start_time": "2022-11-11T19:40:36.057Z"
   },
   {
    "duration": 11,
    "start_time": "2022-11-11T19:40:36.063Z"
   },
   {
    "duration": 7,
    "start_time": "2022-11-11T19:40:36.076Z"
   },
   {
    "duration": 45,
    "start_time": "2022-11-11T19:40:36.084Z"
   },
   {
    "duration": 4,
    "start_time": "2022-11-11T19:40:36.131Z"
   },
   {
    "duration": 10,
    "start_time": "2022-11-11T19:40:36.137Z"
   },
   {
    "duration": 10,
    "start_time": "2022-11-11T19:40:36.148Z"
   },
   {
    "duration": 3,
    "start_time": "2022-11-11T19:40:36.160Z"
   },
   {
    "duration": 8,
    "start_time": "2022-11-11T19:40:36.165Z"
   },
   {
    "duration": 4,
    "start_time": "2022-11-11T19:40:36.174Z"
   },
   {
    "duration": 6,
    "start_time": "2022-11-11T19:40:36.180Z"
   },
   {
    "duration": 45,
    "start_time": "2022-11-11T19:40:36.187Z"
   },
   {
    "duration": 21,
    "start_time": "2022-11-11T19:40:36.233Z"
   },
   {
    "duration": 18,
    "start_time": "2022-11-11T19:40:36.256Z"
   },
   {
    "duration": 19,
    "start_time": "2022-11-11T19:40:36.276Z"
   },
   {
    "duration": 5,
    "start_time": "2022-11-11T20:02:39.467Z"
   },
   {
    "duration": 4,
    "start_time": "2022-11-11T20:02:47.064Z"
   },
   {
    "duration": 135,
    "start_time": "2022-11-11T20:04:07.159Z"
   },
   {
    "duration": 72,
    "start_time": "2022-11-11T20:05:01.121Z"
   },
   {
    "duration": 69,
    "start_time": "2022-11-11T20:05:23.166Z"
   },
   {
    "duration": 73,
    "start_time": "2022-11-11T20:05:30.551Z"
   },
   {
    "duration": 72,
    "start_time": "2022-11-11T20:05:47.067Z"
   },
   {
    "duration": 5,
    "start_time": "2022-11-11T20:06:22.137Z"
   },
   {
    "duration": 72,
    "start_time": "2022-11-11T20:06:39.216Z"
   },
   {
    "duration": 71,
    "start_time": "2022-11-11T20:07:16.571Z"
   },
   {
    "duration": 4,
    "start_time": "2022-11-11T20:08:36.390Z"
   },
   {
    "duration": 762,
    "start_time": "2022-11-11T20:08:40.661Z"
   },
   {
    "duration": 5,
    "start_time": "2022-11-11T20:09:35.124Z"
   },
   {
    "duration": 767,
    "start_time": "2022-11-11T20:09:37.156Z"
   },
   {
    "duration": 5,
    "start_time": "2022-11-11T20:12:56.749Z"
   },
   {
    "duration": 43,
    "start_time": "2022-11-11T20:12:57.747Z"
   },
   {
    "duration": 5,
    "start_time": "2022-11-11T20:13:19.075Z"
   },
   {
    "duration": 795,
    "start_time": "2022-11-11T20:13:19.741Z"
   },
   {
    "duration": 5,
    "start_time": "2022-11-11T20:14:42.767Z"
   },
   {
    "duration": 851,
    "start_time": "2022-11-11T20:14:43.672Z"
   },
   {
    "duration": 5,
    "start_time": "2022-11-11T20:14:52.237Z"
   },
   {
    "duration": 730,
    "start_time": "2022-11-11T20:14:52.905Z"
   },
   {
    "duration": 4,
    "start_time": "2022-11-11T20:15:31.468Z"
   },
   {
    "duration": 745,
    "start_time": "2022-11-11T20:15:32.078Z"
   },
   {
    "duration": 5,
    "start_time": "2022-11-11T20:16:16.159Z"
   },
   {
    "duration": 733,
    "start_time": "2022-11-11T20:16:16.700Z"
   },
   {
    "duration": 7,
    "start_time": "2022-11-11T20:17:02.460Z"
   },
   {
    "duration": 7,
    "start_time": "2022-11-11T20:17:28.045Z"
   },
   {
    "duration": 15,
    "start_time": "2022-11-11T20:28:32.948Z"
   },
   {
    "duration": 4,
    "start_time": "2022-11-11T20:28:33.940Z"
   },
   {
    "duration": 5,
    "start_time": "2022-11-11T20:28:59.260Z"
   },
   {
    "duration": 7,
    "start_time": "2022-11-11T20:29:00.730Z"
   },
   {
    "duration": 4,
    "start_time": "2022-11-11T20:29:02.909Z"
   },
   {
    "duration": 8,
    "start_time": "2022-11-11T20:29:07.263Z"
   },
   {
    "duration": 3,
    "start_time": "2022-11-11T20:29:08.463Z"
   },
   {
    "duration": 3,
    "start_time": "2022-11-11T20:29:13.257Z"
   },
   {
    "duration": 8,
    "start_time": "2022-11-11T20:29:14.373Z"
   },
   {
    "duration": 20,
    "start_time": "2022-11-11T20:29:17.551Z"
   },
   {
    "duration": 15,
    "start_time": "2022-11-11T20:29:18.698Z"
   },
   {
    "duration": 16,
    "start_time": "2022-11-11T20:29:20.669Z"
   },
   {
    "duration": 6,
    "start_time": "2022-11-11T20:31:21.809Z"
   },
   {
    "duration": 6,
    "start_time": "2022-11-11T20:31:22.595Z"
   },
   {
    "duration": 27,
    "start_time": "2022-11-11T20:37:21.200Z"
   },
   {
    "duration": 5,
    "start_time": "2022-11-11T20:37:46.941Z"
   },
   {
    "duration": 6,
    "start_time": "2022-11-11T20:38:07.729Z"
   },
   {
    "duration": 7,
    "start_time": "2022-11-11T20:38:33.928Z"
   },
   {
    "duration": 6,
    "start_time": "2022-11-11T20:40:20.090Z"
   },
   {
    "duration": 36,
    "start_time": "2022-11-11T20:49:10.472Z"
   },
   {
    "duration": 3,
    "start_time": "2022-11-11T20:52:47.569Z"
   },
   {
    "duration": 10,
    "start_time": "2022-11-11T20:53:16.197Z"
   },
   {
    "duration": 70,
    "start_time": "2022-11-11T20:54:14.095Z"
   },
   {
    "duration": 4,
    "start_time": "2022-11-11T20:54:35.610Z"
   },
   {
    "duration": 3,
    "start_time": "2022-11-11T20:54:42.081Z"
   },
   {
    "duration": 9,
    "start_time": "2022-11-11T20:54:42.746Z"
   },
   {
    "duration": 3,
    "start_time": "2022-11-11T20:55:12.925Z"
   },
   {
    "duration": 9,
    "start_time": "2022-11-11T20:55:13.921Z"
   },
   {
    "duration": 3,
    "start_time": "2022-11-11T20:55:19.698Z"
   },
   {
    "duration": 703,
    "start_time": "2022-11-11T20:59:49.279Z"
   },
   {
    "duration": 10,
    "start_time": "2022-11-11T21:00:24.616Z"
   },
   {
    "duration": 22,
    "start_time": "2022-11-11T21:10:32.359Z"
   },
   {
    "duration": 64,
    "start_time": "2022-11-11T21:10:40.964Z"
   },
   {
    "duration": 13,
    "start_time": "2022-11-11T21:10:58.589Z"
   },
   {
    "duration": 11,
    "start_time": "2022-11-11T21:11:05.168Z"
   },
   {
    "duration": 125,
    "start_time": "2022-11-11T21:20:51.845Z"
   },
   {
    "duration": 71,
    "start_time": "2022-11-11T21:22:36.229Z"
   },
   {
    "duration": 117,
    "start_time": "2022-11-11T21:22:41.952Z"
   },
   {
    "duration": 72,
    "start_time": "2022-11-11T21:23:16.891Z"
   },
   {
    "duration": 10,
    "start_time": "2022-11-11T21:23:45.262Z"
   },
   {
    "duration": 191,
    "start_time": "2022-11-11T21:23:55.080Z"
   },
   {
    "duration": 148,
    "start_time": "2022-11-11T21:24:44.243Z"
   },
   {
    "duration": 122,
    "start_time": "2022-11-11T21:25:03.782Z"
   },
   {
    "duration": 123,
    "start_time": "2022-11-11T21:26:04.353Z"
   },
   {
    "duration": 132,
    "start_time": "2022-11-11T21:26:34.895Z"
   },
   {
    "duration": 127,
    "start_time": "2022-11-11T21:27:23.438Z"
   },
   {
    "duration": 10,
    "start_time": "2022-11-11T21:28:39.135Z"
   },
   {
    "duration": 6,
    "start_time": "2022-11-11T21:28:49.889Z"
   },
   {
    "duration": 6,
    "start_time": "2022-11-11T21:28:50.845Z"
   },
   {
    "duration": 77,
    "start_time": "2022-11-11T21:28:52.002Z"
   },
   {
    "duration": 130,
    "start_time": "2022-11-11T21:28:59.775Z"
   },
   {
    "duration": 128,
    "start_time": "2022-11-11T21:29:41.938Z"
   },
   {
    "duration": 144,
    "start_time": "2022-11-11T21:29:59.851Z"
   },
   {
    "duration": 12,
    "start_time": "2022-11-11T21:33:35.785Z"
   },
   {
    "duration": 5,
    "start_time": "2022-11-11T21:34:05.626Z"
   },
   {
    "duration": 5,
    "start_time": "2022-11-11T21:34:52.878Z"
   },
   {
    "duration": 785,
    "start_time": "2022-11-11T21:34:53.937Z"
   },
   {
    "duration": 6,
    "start_time": "2022-11-11T21:36:01.462Z"
   },
   {
    "duration": 90,
    "start_time": "2022-11-11T21:53:51.111Z"
   },
   {
    "duration": 95,
    "start_time": "2022-11-11T21:54:47.500Z"
   },
   {
    "duration": 870,
    "start_time": "2022-11-11T21:55:03.658Z"
   },
   {
    "duration": 786,
    "start_time": "2022-11-11T21:55:31.100Z"
   },
   {
    "duration": 751,
    "start_time": "2022-11-11T21:56:10.387Z"
   },
   {
    "duration": 745,
    "start_time": "2022-11-11T21:56:25.763Z"
   },
   {
    "duration": 742,
    "start_time": "2022-11-11T21:56:54.584Z"
   },
   {
    "duration": 748,
    "start_time": "2022-11-11T21:57:55.502Z"
   },
   {
    "duration": 739,
    "start_time": "2022-11-11T22:06:05.675Z"
   },
   {
    "duration": 50990,
    "start_time": "2022-11-11T22:10:25.135Z"
   },
   {
    "duration": 41,
    "start_time": "2022-11-11T22:15:23.150Z"
   },
   {
    "duration": 22,
    "start_time": "2022-11-11T22:16:11.417Z"
   },
   {
    "duration": 50360,
    "start_time": "2022-11-11T22:25:55.413Z"
   },
   {
    "duration": 160,
    "start_time": "2022-11-11T22:33:49.763Z"
   },
   {
    "duration": 162,
    "start_time": "2022-11-11T22:34:44.263Z"
   },
   {
    "duration": 192,
    "start_time": "2022-11-11T22:36:00.954Z"
   },
   {
    "duration": 780,
    "start_time": "2022-11-11T23:08:02.277Z"
   },
   {
    "duration": 771,
    "start_time": "2022-11-11T23:09:33.502Z"
   },
   {
    "duration": 751,
    "start_time": "2022-11-11T23:09:57.818Z"
   },
   {
    "duration": 760,
    "start_time": "2022-11-11T23:10:23.335Z"
   },
   {
    "duration": 49950,
    "start_time": "2022-11-11T23:13:15.823Z"
   },
   {
    "duration": 21,
    "start_time": "2022-11-11T23:16:24.642Z"
   },
   {
    "duration": 18,
    "start_time": "2022-11-11T23:22:21.214Z"
   },
   {
    "duration": 4,
    "start_time": "2022-11-11T23:22:54.565Z"
   },
   {
    "duration": 12,
    "start_time": "2022-11-11T23:22:58.502Z"
   },
   {
    "duration": 982,
    "start_time": "2022-11-11T23:24:46.548Z"
   },
   {
    "duration": 798,
    "start_time": "2022-11-11T23:25:29.175Z"
   },
   {
    "duration": 933,
    "start_time": "2022-11-11T23:26:08.472Z"
   },
   {
    "duration": 893,
    "start_time": "2022-11-11T23:26:51.367Z"
   },
   {
    "duration": 49818,
    "start_time": "2022-11-11T23:27:52.104Z"
   },
   {
    "duration": 747,
    "start_time": "2022-11-11T23:31:16.529Z"
   },
   {
    "duration": 750,
    "start_time": "2022-11-11T23:34:30.445Z"
   },
   {
    "duration": 49894,
    "start_time": "2022-11-11T23:36:54.891Z"
   },
   {
    "duration": 739,
    "start_time": "2022-11-11T23:41:13.035Z"
   },
   {
    "duration": 50530,
    "start_time": "2022-11-11T23:41:38.360Z"
   },
   {
    "duration": 32,
    "start_time": "2022-11-11T23:42:28.892Z"
   },
   {
    "duration": 880,
    "start_time": "2022-11-11T23:44:56.964Z"
   },
   {
    "duration": 50077,
    "start_time": "2022-11-11T23:46:55.757Z"
   },
   {
    "duration": 67245,
    "start_time": "2022-11-11T23:48:22.818Z"
   },
   {
    "duration": 26,
    "start_time": "2022-11-11T23:52:33.092Z"
   },
   {
    "duration": 17,
    "start_time": "2022-11-11T23:56:56.618Z"
   },
   {
    "duration": 19,
    "start_time": "2022-11-11T23:57:18.396Z"
   },
   {
    "duration": 12,
    "start_time": "2022-11-11T23:57:32.160Z"
   },
   {
    "duration": 902,
    "start_time": "2022-11-11T23:59:34.824Z"
   },
   {
    "duration": 69697,
    "start_time": "2022-11-12T00:02:48.135Z"
   },
   {
    "duration": 84,
    "start_time": "2022-11-12T00:04:12.337Z"
   },
   {
    "duration": 23,
    "start_time": "2022-11-12T00:04:53.318Z"
   },
   {
    "duration": 385,
    "start_time": "2022-11-12T00:05:57.445Z"
   },
   {
    "duration": 14,
    "start_time": "2022-11-12T00:08:04.744Z"
   },
   {
    "duration": 29866,
    "start_time": "2022-11-12T00:09:09.032Z"
   },
   {
    "duration": 644,
    "start_time": "2022-11-12T00:25:20.097Z"
   },
   {
    "duration": 700,
    "start_time": "2022-11-12T00:26:31.741Z"
   },
   {
    "duration": 122,
    "start_time": "2022-11-12T00:32:19.552Z"
   },
   {
    "duration": 598,
    "start_time": "2022-11-12T00:32:30.669Z"
   },
   {
    "duration": 622,
    "start_time": "2022-11-12T00:33:15.513Z"
   },
   {
    "duration": 485,
    "start_time": "2022-11-12T00:33:22.528Z"
   },
   {
    "duration": 621,
    "start_time": "2022-11-12T00:34:01.719Z"
   },
   {
    "duration": 607,
    "start_time": "2022-11-12T00:34:08.724Z"
   },
   {
    "duration": 640,
    "start_time": "2022-11-12T00:34:17.997Z"
   },
   {
    "duration": 316,
    "start_time": "2022-11-12T00:34:36.827Z"
   },
   {
    "duration": 602,
    "start_time": "2022-11-12T00:35:06.431Z"
   },
   {
    "duration": 302,
    "start_time": "2022-11-12T00:35:14.730Z"
   },
   {
    "duration": 1333,
    "start_time": "2022-11-12T00:40:51.100Z"
   },
   {
    "duration": 48,
    "start_time": "2022-11-12T00:40:52.435Z"
   },
   {
    "duration": 4,
    "start_time": "2022-11-12T00:40:52.484Z"
   },
   {
    "duration": 13,
    "start_time": "2022-11-12T00:40:52.490Z"
   },
   {
    "duration": 3,
    "start_time": "2022-11-12T00:40:52.505Z"
   },
   {
    "duration": 14,
    "start_time": "2022-11-12T00:40:52.509Z"
   },
   {
    "duration": 11,
    "start_time": "2022-11-12T00:40:52.524Z"
   },
   {
    "duration": 12,
    "start_time": "2022-11-12T00:40:52.536Z"
   },
   {
    "duration": 16,
    "start_time": "2022-11-12T00:40:52.550Z"
   },
   {
    "duration": 8,
    "start_time": "2022-11-12T00:40:52.568Z"
   },
   {
    "duration": 19,
    "start_time": "2022-11-12T00:40:52.578Z"
   },
   {
    "duration": 3,
    "start_time": "2022-11-12T00:40:52.599Z"
   },
   {
    "duration": 5,
    "start_time": "2022-11-12T00:40:52.622Z"
   },
   {
    "duration": 8,
    "start_time": "2022-11-12T00:40:52.629Z"
   },
   {
    "duration": 3,
    "start_time": "2022-11-12T00:40:52.639Z"
   },
   {
    "duration": 9,
    "start_time": "2022-11-12T00:40:52.644Z"
   },
   {
    "duration": 4,
    "start_time": "2022-11-12T00:40:52.655Z"
   },
   {
    "duration": 4,
    "start_time": "2022-11-12T00:40:52.661Z"
   },
   {
    "duration": 12,
    "start_time": "2022-11-12T00:40:52.667Z"
   },
   {
    "duration": 47,
    "start_time": "2022-11-12T00:40:52.680Z"
   },
   {
    "duration": 14,
    "start_time": "2022-11-12T00:40:52.728Z"
   },
   {
    "duration": 14,
    "start_time": "2022-11-12T00:40:52.744Z"
   },
   {
    "duration": 5,
    "start_time": "2022-11-12T00:40:52.760Z"
   },
   {
    "duration": 689,
    "start_time": "2022-11-12T00:40:52.766Z"
   },
   {
    "duration": 72,
    "start_time": "2022-11-12T00:40:53.456Z"
   },
   {
    "duration": 98,
    "start_time": "2022-11-12T00:40:53.529Z"
   },
   {
    "duration": 138,
    "start_time": "2022-11-12T00:40:53.628Z"
   },
   {
    "duration": 6,
    "start_time": "2022-11-12T00:40:53.771Z"
   },
   {
    "duration": 135,
    "start_time": "2022-11-12T00:40:53.779Z"
   },
   {
    "duration": 34,
    "start_time": "2022-11-12T00:40:53.922Z"
   },
   {
    "duration": 5,
    "start_time": "2022-11-12T00:40:53.958Z"
   },
   {
    "duration": 14,
    "start_time": "2022-11-12T00:40:53.964Z"
   },
   {
    "duration": 667,
    "start_time": "2022-11-12T00:40:53.979Z"
   },
   {
    "duration": 10,
    "start_time": "2022-11-12T00:40:54.647Z"
   },
   {
    "duration": 66,
    "start_time": "2022-11-12T00:40:54.658Z"
   },
   {
    "duration": 101,
    "start_time": "2022-11-12T00:40:54.725Z"
   },
   {
    "duration": 744,
    "start_time": "2022-11-12T00:40:54.828Z"
   },
   {
    "duration": 49681,
    "start_time": "2022-11-12T00:40:55.574Z"
   },
   {
    "duration": 19,
    "start_time": "2022-11-12T00:41:45.256Z"
   },
   {
    "duration": 315,
    "start_time": "2022-11-12T00:41:45.277Z"
   },
   {
    "duration": 785,
    "start_time": "2022-11-12T00:41:45.594Z"
   },
   {
    "duration": 50189,
    "start_time": "2022-11-12T00:41:46.380Z"
   },
   {
    "duration": 56,
    "start_time": "2022-11-12T00:42:36.571Z"
   },
   {
    "duration": 101,
    "start_time": "2022-11-12T00:42:36.628Z"
   },
   {
    "duration": 900,
    "start_time": "2022-11-12T00:42:36.731Z"
   },
   {
    "duration": 68262,
    "start_time": "2022-11-12T00:42:37.633Z"
   },
   {
    "duration": 37,
    "start_time": "2022-11-12T00:43:45.896Z"
   },
   {
    "duration": 189,
    "start_time": "2022-11-12T00:43:45.934Z"
   },
   {
    "duration": 399,
    "start_time": "2022-11-12T00:43:46.124Z"
   },
   {
    "duration": 28111,
    "start_time": "2022-11-12T00:43:46.525Z"
   },
   {
    "duration": 84,
    "start_time": "2022-11-12T00:44:14.638Z"
   },
   {
    "duration": 646,
    "start_time": "2022-11-12T00:44:14.724Z"
   },
   {
    "duration": 10,
    "start_time": "2022-11-12T00:47:28.255Z"
   },
   {
    "duration": 515,
    "start_time": "2022-11-12T00:50:51.781Z"
   },
   {
    "duration": 9,
    "start_time": "2022-11-12T00:52:24.814Z"
   },
   {
    "duration": 15,
    "start_time": "2022-11-12T00:53:29.920Z"
   },
   {
    "duration": 9,
    "start_time": "2022-11-12T00:53:39.634Z"
   },
   {
    "duration": 10,
    "start_time": "2022-11-12T00:54:01.443Z"
   },
   {
    "duration": 10,
    "start_time": "2022-11-12T00:55:21.399Z"
   },
   {
    "duration": 8,
    "start_time": "2022-11-12T00:55:58.801Z"
   },
   {
    "duration": 9,
    "start_time": "2022-11-12T00:56:38.208Z"
   },
   {
    "duration": 9,
    "start_time": "2022-11-12T00:56:53.993Z"
   },
   {
    "duration": 76,
    "start_time": "2022-11-12T01:03:53.610Z"
   },
   {
    "duration": 77,
    "start_time": "2022-11-12T01:04:09.140Z"
   },
   {
    "duration": 346,
    "start_time": "2022-11-12T01:04:25.389Z"
   },
   {
    "duration": 74,
    "start_time": "2022-11-12T01:04:35.184Z"
   },
   {
    "duration": 73,
    "start_time": "2022-11-12T01:04:42.861Z"
   },
   {
    "duration": 340,
    "start_time": "2022-11-12T01:04:49.071Z"
   },
   {
    "duration": 8,
    "start_time": "2022-11-12T01:05:05.640Z"
   },
   {
    "duration": 4,
    "start_time": "2022-11-12T01:05:18.909Z"
   },
   {
    "duration": 10,
    "start_time": "2022-11-12T01:06:18.477Z"
   },
   {
    "duration": 5,
    "start_time": "2022-11-12T01:06:35.734Z"
   },
   {
    "duration": 6,
    "start_time": "2022-11-12T01:06:39.351Z"
   },
   {
    "duration": 10,
    "start_time": "2022-11-12T01:20:09.778Z"
   },
   {
    "duration": 340,
    "start_time": "2022-11-12T01:20:13.500Z"
   },
   {
    "duration": 3,
    "start_time": "2022-11-12T01:20:14.545Z"
   },
   {
    "duration": 340,
    "start_time": "2022-11-12T01:20:32.314Z"
   },
   {
    "duration": 3,
    "start_time": "2022-11-12T01:20:32.961Z"
   },
   {
    "duration": 371,
    "start_time": "2022-11-12T01:21:05.122Z"
   },
   {
    "duration": 3,
    "start_time": "2022-11-12T01:21:05.964Z"
   },
   {
    "duration": 3,
    "start_time": "2022-11-12T01:21:09.921Z"
   },
   {
    "duration": 340,
    "start_time": "2022-11-12T01:22:27.555Z"
   },
   {
    "duration": 76,
    "start_time": "2022-11-12T01:23:15.759Z"
   },
   {
    "duration": 357,
    "start_time": "2022-11-12T01:23:24.499Z"
   },
   {
    "duration": 340,
    "start_time": "2022-11-12T01:24:15.102Z"
   },
   {
    "duration": 338,
    "start_time": "2022-11-12T01:24:27.212Z"
   },
   {
    "duration": 361,
    "start_time": "2022-11-12T01:25:29.049Z"
   },
   {
    "duration": 330,
    "start_time": "2022-11-12T01:25:36.656Z"
   },
   {
    "duration": 329,
    "start_time": "2022-11-12T01:25:43.271Z"
   },
   {
    "duration": 1556,
    "start_time": "2022-11-12T01:26:55.423Z"
   },
   {
    "duration": 1481,
    "start_time": "2022-11-12T01:27:12.996Z"
   },
   {
    "duration": 1542,
    "start_time": "2022-11-12T01:27:23.680Z"
   },
   {
    "duration": 24407,
    "start_time": "2022-11-12T01:30:28.460Z"
   },
   {
    "duration": 54663,
    "start_time": "2022-11-12T01:31:07.353Z"
   },
   {
    "duration": 79647,
    "start_time": "2022-11-12T01:32:55.692Z"
   },
   {
    "duration": 80596,
    "start_time": "2022-11-12T01:35:04.423Z"
   },
   {
    "duration": 114048,
    "start_time": "2022-11-12T01:37:31.170Z"
   },
   {
    "duration": 46155,
    "start_time": "2022-11-12T01:40:18.389Z"
   },
   {
    "duration": 1993,
    "start_time": "2022-11-12T01:41:52.320Z"
   },
   {
    "duration": 2256,
    "start_time": "2022-11-12T01:43:23.757Z"
   },
   {
    "duration": 2247,
    "start_time": "2022-11-12T01:43:41.980Z"
   },
   {
    "duration": 10,
    "start_time": "2022-11-12T01:43:53.785Z"
   },
   {
    "duration": 9,
    "start_time": "2022-11-12T01:46:38.058Z"
   },
   {
    "duration": 1242,
    "start_time": "2022-11-12T01:47:16.673Z"
   },
   {
    "duration": 45,
    "start_time": "2022-11-12T01:47:17.917Z"
   },
   {
    "duration": 4,
    "start_time": "2022-11-12T01:47:17.963Z"
   },
   {
    "duration": 15,
    "start_time": "2022-11-12T01:47:17.969Z"
   },
   {
    "duration": 3,
    "start_time": "2022-11-12T01:47:17.985Z"
   },
   {
    "duration": 8,
    "start_time": "2022-11-12T01:47:17.990Z"
   },
   {
    "duration": 13,
    "start_time": "2022-11-12T01:47:18.000Z"
   },
   {
    "duration": 6,
    "start_time": "2022-11-12T01:47:18.021Z"
   },
   {
    "duration": 16,
    "start_time": "2022-11-12T01:47:18.028Z"
   },
   {
    "duration": 4,
    "start_time": "2022-11-12T01:47:18.047Z"
   },
   {
    "duration": 16,
    "start_time": "2022-11-12T01:47:18.053Z"
   },
   {
    "duration": 4,
    "start_time": "2022-11-12T01:47:18.070Z"
   },
   {
    "duration": 7,
    "start_time": "2022-11-12T01:47:18.076Z"
   },
   {
    "duration": 40,
    "start_time": "2022-11-12T01:47:18.085Z"
   },
   {
    "duration": 4,
    "start_time": "2022-11-12T01:47:18.126Z"
   },
   {
    "duration": 8,
    "start_time": "2022-11-12T01:47:18.131Z"
   },
   {
    "duration": 3,
    "start_time": "2022-11-12T01:47:18.141Z"
   },
   {
    "duration": 3,
    "start_time": "2022-11-12T01:47:18.146Z"
   },
   {
    "duration": 15,
    "start_time": "2022-11-12T01:47:18.150Z"
   },
   {
    "duration": 20,
    "start_time": "2022-11-12T01:47:18.167Z"
   },
   {
    "duration": 47,
    "start_time": "2022-11-12T01:47:18.189Z"
   },
   {
    "duration": 14,
    "start_time": "2022-11-12T01:47:18.237Z"
   },
   {
    "duration": 4,
    "start_time": "2022-11-12T01:47:18.253Z"
   },
   {
    "duration": 691,
    "start_time": "2022-11-12T01:47:18.259Z"
   },
   {
    "duration": 75,
    "start_time": "2022-11-12T01:47:18.952Z"
   },
   {
    "duration": 106,
    "start_time": "2022-11-12T01:47:19.028Z"
   },
   {
    "duration": 129,
    "start_time": "2022-11-12T01:47:19.136Z"
   },
   {
    "duration": 5,
    "start_time": "2022-11-12T01:47:19.269Z"
   },
   {
    "duration": 128,
    "start_time": "2022-11-12T01:47:19.276Z"
   },
   {
    "duration": 41,
    "start_time": "2022-11-12T01:47:19.405Z"
   },
   {
    "duration": 3,
    "start_time": "2022-11-12T01:47:19.448Z"
   },
   {
    "duration": 13,
    "start_time": "2022-11-12T01:47:19.453Z"
   },
   {
    "duration": 656,
    "start_time": "2022-11-12T01:47:19.467Z"
   },
   {
    "duration": 9,
    "start_time": "2022-11-12T01:47:20.124Z"
   },
   {
    "duration": 41,
    "start_time": "2022-11-12T01:47:20.134Z"
   },
   {
    "duration": 110,
    "start_time": "2022-11-12T01:47:20.223Z"
   },
   {
    "duration": 726,
    "start_time": "2022-11-12T01:47:20.335Z"
   },
   {
    "duration": 78968,
    "start_time": "2022-11-12T01:47:21.062Z"
   },
   {
    "duration": 91,
    "start_time": "2022-11-12T01:48:40.032Z"
   },
   {
    "duration": 251,
    "start_time": "2022-11-12T01:48:40.125Z"
   },
   {
    "duration": 748,
    "start_time": "2022-11-12T01:48:40.378Z"
   },
   {
    "duration": 79764,
    "start_time": "2022-11-12T01:48:41.127Z"
   },
   {
    "duration": 129,
    "start_time": "2022-11-12T01:50:00.893Z"
   },
   {
    "duration": 101,
    "start_time": "2022-11-12T01:50:01.024Z"
   },
   {
    "duration": 973,
    "start_time": "2022-11-12T01:50:01.127Z"
   },
   {
    "duration": 111052,
    "start_time": "2022-11-12T01:50:02.101Z"
   },
   {
    "duration": 70,
    "start_time": "2022-11-12T01:51:53.154Z"
   },
   {
    "duration": 97,
    "start_time": "2022-11-12T01:51:53.226Z"
   },
   {
    "duration": 414,
    "start_time": "2022-11-12T01:51:53.324Z"
   },
   {
    "duration": 44057,
    "start_time": "2022-11-12T01:51:53.740Z"
   },
   {
    "duration": 26,
    "start_time": "2022-11-12T01:52:37.799Z"
   },
   {
    "duration": 2352,
    "start_time": "2022-11-12T01:52:37.826Z"
   },
   {
    "duration": 10,
    "start_time": "2022-11-12T01:52:40.179Z"
   },
   {
    "duration": 2024,
    "start_time": "2022-11-12T01:52:40.190Z"
   },
   {
    "duration": 9,
    "start_time": "2022-11-12T01:52:42.216Z"
   },
   {
    "duration": 11,
    "start_time": "2022-11-12T01:54:12.753Z"
   },
   {
    "duration": 2221,
    "start_time": "2022-11-12T01:59:43.781Z"
   },
   {
    "duration": 2239,
    "start_time": "2022-11-12T02:00:54.997Z"
   },
   {
    "duration": 1956,
    "start_time": "2022-11-12T02:04:35.774Z"
   },
   {
    "duration": 5,
    "start_time": "2022-11-12T02:04:40.850Z"
   },
   {
    "duration": 1458,
    "start_time": "2022-11-12T05:56:37.938Z"
   },
   {
    "duration": 188,
    "start_time": "2022-11-12T05:56:39.398Z"
   },
   {
    "duration": 4,
    "start_time": "2022-11-12T05:56:39.587Z"
   },
   {
    "duration": 14,
    "start_time": "2022-11-12T05:56:39.594Z"
   },
   {
    "duration": 3,
    "start_time": "2022-11-12T05:56:39.609Z"
   },
   {
    "duration": 7,
    "start_time": "2022-11-12T05:56:39.613Z"
   },
   {
    "duration": 11,
    "start_time": "2022-11-12T05:56:39.621Z"
   },
   {
    "duration": 4,
    "start_time": "2022-11-12T05:56:39.633Z"
   },
   {
    "duration": 12,
    "start_time": "2022-11-12T05:56:39.638Z"
   },
   {
    "duration": 4,
    "start_time": "2022-11-12T05:56:39.652Z"
   },
   {
    "duration": 16,
    "start_time": "2022-11-12T05:56:39.657Z"
   },
   {
    "duration": 4,
    "start_time": "2022-11-12T05:56:39.674Z"
   },
   {
    "duration": 7,
    "start_time": "2022-11-12T05:56:39.679Z"
   },
   {
    "duration": 10,
    "start_time": "2022-11-12T05:56:39.687Z"
   },
   {
    "duration": 3,
    "start_time": "2022-11-12T05:56:39.698Z"
   },
   {
    "duration": 6,
    "start_time": "2022-11-12T05:56:39.730Z"
   },
   {
    "duration": 4,
    "start_time": "2022-11-12T05:56:39.738Z"
   },
   {
    "duration": 13,
    "start_time": "2022-11-12T05:56:39.743Z"
   },
   {
    "duration": 11,
    "start_time": "2022-11-12T05:56:39.758Z"
   },
   {
    "duration": 25,
    "start_time": "2022-11-12T05:56:39.770Z"
   },
   {
    "duration": 34,
    "start_time": "2022-11-12T05:56:39.797Z"
   },
   {
    "duration": 13,
    "start_time": "2022-11-12T05:56:39.833Z"
   },
   {
    "duration": 4,
    "start_time": "2022-11-12T05:56:39.848Z"
   },
   {
    "duration": 781,
    "start_time": "2022-11-12T05:56:39.853Z"
   },
   {
    "duration": 95,
    "start_time": "2022-11-12T05:56:40.636Z"
   },
   {
    "duration": 13,
    "start_time": "2022-11-12T05:56:40.733Z"
   },
   {
    "duration": 150,
    "start_time": "2022-11-12T05:56:40.748Z"
   },
   {
    "duration": 5,
    "start_time": "2022-11-12T05:56:40.902Z"
   },
   {
    "duration": 124,
    "start_time": "2022-11-12T05:56:40.908Z"
   },
   {
    "duration": 34,
    "start_time": "2022-11-12T05:56:41.035Z"
   },
   {
    "duration": 3,
    "start_time": "2022-11-12T05:56:41.070Z"
   },
   {
    "duration": 11,
    "start_time": "2022-11-12T05:56:41.075Z"
   },
   {
    "duration": 654,
    "start_time": "2022-11-12T05:56:41.087Z"
   },
   {
    "duration": 9,
    "start_time": "2022-11-12T05:56:41.743Z"
   },
   {
    "duration": 79,
    "start_time": "2022-11-12T05:56:41.754Z"
   },
   {
    "duration": 98,
    "start_time": "2022-11-12T05:56:41.835Z"
   },
   {
    "duration": 760,
    "start_time": "2022-11-12T05:56:41.935Z"
   },
   {
    "duration": 88324,
    "start_time": "2022-11-12T05:56:42.697Z"
   },
   {
    "duration": 29,
    "start_time": "2022-11-12T05:58:11.023Z"
   },
   {
    "duration": 365,
    "start_time": "2022-11-12T05:58:11.053Z"
   },
   {
    "duration": 894,
    "start_time": "2022-11-12T05:58:11.420Z"
   },
   {
    "duration": 84049,
    "start_time": "2022-11-12T05:58:12.316Z"
   },
   {
    "duration": 80,
    "start_time": "2022-11-12T05:59:36.367Z"
   },
   {
    "duration": 18,
    "start_time": "2022-11-12T05:59:36.529Z"
   },
   {
    "duration": 1018,
    "start_time": "2022-11-12T05:59:36.550Z"
   },
   {
    "duration": 121210,
    "start_time": "2022-11-12T05:59:37.569Z"
   },
   {
    "duration": 151,
    "start_time": "2022-11-12T06:01:38.780Z"
   },
   {
    "duration": 16,
    "start_time": "2022-11-12T06:01:38.934Z"
   },
   {
    "duration": 461,
    "start_time": "2022-11-12T06:01:38.952Z"
   },
   {
    "duration": 46766,
    "start_time": "2022-11-12T06:01:39.414Z"
   },
   {
    "duration": 61,
    "start_time": "2022-11-12T06:02:26.181Z"
   },
   {
    "duration": 2639,
    "start_time": "2022-11-12T06:02:26.329Z"
   },
   {
    "duration": 14,
    "start_time": "2022-11-12T06:02:28.970Z"
   },
   {
    "duration": 2286,
    "start_time": "2022-11-12T06:02:28.986Z"
   },
   {
    "duration": 9,
    "start_time": "2022-11-12T06:02:31.275Z"
   },
   {
    "duration": 136,
    "start_time": "2022-11-12T06:19:13.006Z"
   },
   {
    "duration": 46,
    "start_time": "2022-11-12T10:40:41.562Z"
   },
   {
    "duration": 1498,
    "start_time": "2022-11-12T10:40:51.871Z"
   },
   {
    "duration": 165,
    "start_time": "2022-11-12T10:40:55.046Z"
   },
   {
    "duration": 5,
    "start_time": "2022-11-12T10:40:57.018Z"
   },
   {
    "duration": 15,
    "start_time": "2022-11-12T10:41:01.379Z"
   },
   {
    "duration": 36,
    "start_time": "2022-11-12T10:41:43.782Z"
   },
   {
    "duration": 4,
    "start_time": "2022-11-12T10:43:40.853Z"
   },
   {
    "duration": 6,
    "start_time": "2022-11-12T10:45:28.872Z"
   },
   {
    "duration": 12,
    "start_time": "2022-11-12T10:45:31.302Z"
   },
   {
    "duration": 6,
    "start_time": "2022-11-12T10:45:31.972Z"
   },
   {
    "duration": 18,
    "start_time": "2022-11-12T10:45:33.767Z"
   },
   {
    "duration": 4,
    "start_time": "2022-11-12T10:45:34.833Z"
   },
   {
    "duration": 16,
    "start_time": "2022-11-12T10:45:35.870Z"
   },
   {
    "duration": 4,
    "start_time": "2022-11-12T10:45:36.444Z"
   },
   {
    "duration": 5,
    "start_time": "2022-11-12T10:45:38.894Z"
   },
   {
    "duration": 8,
    "start_time": "2022-11-12T10:45:39.927Z"
   },
   {
    "duration": 3,
    "start_time": "2022-11-12T10:45:40.916Z"
   },
   {
    "duration": 6,
    "start_time": "2022-11-12T10:45:41.382Z"
   },
   {
    "duration": 3,
    "start_time": "2022-11-12T10:45:42.501Z"
   },
   {
    "duration": 3,
    "start_time": "2022-11-12T10:45:44.631Z"
   },
   {
    "duration": 8,
    "start_time": "2022-11-12T10:45:45.570Z"
   },
   {
    "duration": 18,
    "start_time": "2022-11-12T10:45:46.496Z"
   },
   {
    "duration": 18,
    "start_time": "2022-11-12T10:45:47.664Z"
   },
   {
    "duration": 17,
    "start_time": "2022-11-12T10:45:49.123Z"
   },
   {
    "duration": 4,
    "start_time": "2022-11-12T10:45:59.218Z"
   },
   {
    "duration": 750,
    "start_time": "2022-11-12T10:46:00.300Z"
   },
   {
    "duration": 6,
    "start_time": "2022-11-12T10:46:32.220Z"
   },
   {
    "duration": 7,
    "start_time": "2022-11-12T10:46:40.724Z"
   },
   {
    "duration": 128,
    "start_time": "2022-11-12T10:46:43.093Z"
   },
   {
    "duration": 7,
    "start_time": "2022-11-12T10:46:43.995Z"
   },
   {
    "duration": 122,
    "start_time": "2022-11-12T10:46:46.085Z"
   },
   {
    "duration": 33,
    "start_time": "2022-11-12T10:46:59.845Z"
   },
   {
    "duration": 4,
    "start_time": "2022-11-12T10:47:02.469Z"
   },
   {
    "duration": 4,
    "start_time": "2022-11-12T10:51:19.081Z"
   },
   {
    "duration": 78,
    "start_time": "2022-11-12T10:51:23.836Z"
   },
   {
    "duration": 37,
    "start_time": "2022-11-12T10:52:22.670Z"
   },
   {
    "duration": 4,
    "start_time": "2022-11-12T10:52:27.545Z"
   },
   {
    "duration": 10,
    "start_time": "2022-11-12T10:52:30.663Z"
   },
   {
    "duration": 3,
    "start_time": "2022-11-12T10:53:07.126Z"
   },
   {
    "duration": 10,
    "start_time": "2022-11-12T10:53:08.344Z"
   },
   {
    "duration": 9,
    "start_time": "2022-11-12T10:55:05.182Z"
   },
   {
    "duration": 43,
    "start_time": "2022-11-12T10:55:37.870Z"
   },
   {
    "duration": 4,
    "start_time": "2022-11-12T10:55:39.359Z"
   },
   {
    "duration": 11,
    "start_time": "2022-11-12T10:55:40.731Z"
   },
   {
    "duration": 9,
    "start_time": "2022-11-12T10:59:30.249Z"
   },
   {
    "duration": 10,
    "start_time": "2022-11-12T10:59:42.590Z"
   },
   {
    "duration": 16,
    "start_time": "2022-11-12T11:00:04.637Z"
   },
   {
    "duration": 2203,
    "start_time": "2022-11-12T11:00:20.410Z"
   },
   {
    "duration": 11,
    "start_time": "2022-11-12T11:00:22.616Z"
   },
   {
    "duration": 39,
    "start_time": "2022-11-12T11:01:46.485Z"
   },
   {
    "duration": 4,
    "start_time": "2022-11-12T11:01:50.322Z"
   },
   {
    "duration": 12,
    "start_time": "2022-11-12T11:02:22.069Z"
   },
   {
    "duration": 751,
    "start_time": "2022-11-12T11:06:08.776Z"
   },
   {
    "duration": 8,
    "start_time": "2022-11-12T11:06:14.420Z"
   },
   {
    "duration": 11,
    "start_time": "2022-11-12T11:06:31.769Z"
   },
   {
    "duration": 729,
    "start_time": "2022-11-12T11:06:47.357Z"
   },
   {
    "duration": 11,
    "start_time": "2022-11-12T11:06:48.461Z"
   },
   {
    "duration": 9,
    "start_time": "2022-11-12T11:07:21.374Z"
   },
   {
    "duration": 126,
    "start_time": "2022-11-12T11:07:25.522Z"
   },
   {
    "duration": 10,
    "start_time": "2022-11-12T11:07:26.884Z"
   },
   {
    "duration": 10,
    "start_time": "2022-11-12T11:07:49.727Z"
   },
   {
    "duration": 10,
    "start_time": "2022-11-12T11:07:56.968Z"
   },
   {
    "duration": 892,
    "start_time": "2022-11-12T11:11:38.467Z"
   },
   {
    "duration": 893,
    "start_time": "2022-11-12T11:14:21.732Z"
   },
   {
    "duration": 37,
    "start_time": "2022-11-12T11:14:41.167Z"
   },
   {
    "duration": 4,
    "start_time": "2022-11-12T11:14:43.834Z"
   },
   {
    "duration": 4,
    "start_time": "2022-11-12T11:14:49.476Z"
   },
   {
    "duration": 10,
    "start_time": "2022-11-12T11:14:53.947Z"
   },
   {
    "duration": 698,
    "start_time": "2022-11-12T11:15:23.447Z"
   },
   {
    "duration": 9,
    "start_time": "2022-11-12T11:15:25.561Z"
   },
   {
    "duration": 25,
    "start_time": "2022-11-12T11:15:36.666Z"
   },
   {
    "duration": 9,
    "start_time": "2022-11-12T11:15:37.829Z"
   },
   {
    "duration": 856,
    "start_time": "2022-11-12T11:16:00.181Z"
   },
   {
    "duration": 100970,
    "start_time": "2022-11-12T11:19:02.374Z"
   },
   {
    "duration": 104508,
    "start_time": "2022-11-12T11:20:53.191Z"
   },
   {
    "duration": 26,
    "start_time": "2022-11-12T11:24:17.822Z"
   },
   {
    "duration": 194,
    "start_time": "2022-11-12T11:29:49.371Z"
   },
   {
    "duration": 881,
    "start_time": "2022-11-12T11:31:58.792Z"
   },
   {
    "duration": 863,
    "start_time": "2022-11-12T11:34:15.236Z"
   },
   {
    "duration": 985,
    "start_time": "2022-11-12T11:35:00.770Z"
   },
   {
    "duration": 836,
    "start_time": "2022-11-12T11:35:55.952Z"
   },
   {
    "duration": 32,
    "start_time": "2022-11-12T11:38:12.825Z"
   },
   {
    "duration": 839,
    "start_time": "2022-11-12T11:38:33.698Z"
   },
   {
    "duration": 853,
    "start_time": "2022-11-12T11:39:24.163Z"
   },
   {
    "duration": 846,
    "start_time": "2022-11-12T11:41:06.806Z"
   },
   {
    "duration": 102959,
    "start_time": "2022-11-12T11:43:47.560Z"
   },
   {
    "duration": 111,
    "start_time": "2022-11-12T11:46:11.434Z"
   },
   {
    "duration": 28,
    "start_time": "2022-11-12T11:49:30.351Z"
   },
   {
    "duration": 827,
    "start_time": "2022-11-12T11:50:15.056Z"
   },
   {
    "duration": 92898,
    "start_time": "2022-11-12T11:54:12.568Z"
   },
   {
    "duration": 106575,
    "start_time": "2022-11-12T11:56:13.906Z"
   },
   {
    "duration": 46,
    "start_time": "2022-11-12T11:59:29.801Z"
   },
   {
    "duration": 27,
    "start_time": "2022-11-12T11:59:42.645Z"
   },
   {
    "duration": 1002,
    "start_time": "2022-11-12T12:03:22.458Z"
   },
   {
    "duration": 146314,
    "start_time": "2022-11-12T12:08:32.326Z"
   },
   {
    "duration": 87,
    "start_time": "2022-11-12T12:12:47.262Z"
   },
   {
    "duration": 83,
    "start_time": "2022-11-12T12:13:11.265Z"
   },
   {
    "duration": 61,
    "start_time": "2022-11-12T12:14:55.565Z"
   },
   {
    "duration": 13,
    "start_time": "2022-11-12T12:15:05.329Z"
   },
   {
    "duration": 467,
    "start_time": "2022-11-12T12:15:10.793Z"
   },
   {
    "duration": 64404,
    "start_time": "2022-11-12T12:18:29.873Z"
   },
   {
    "duration": 21,
    "start_time": "2022-11-12T12:20:28.864Z"
   },
   {
    "duration": 648,
    "start_time": "2022-11-12T12:26:56.534Z"
   },
   {
    "duration": 677,
    "start_time": "2022-11-12T12:28:20.195Z"
   },
   {
    "duration": 13,
    "start_time": "2022-11-12T12:28:30.425Z"
   },
   {
    "duration": 708,
    "start_time": "2022-11-12T12:28:54.047Z"
   },
   {
    "duration": 10,
    "start_time": "2022-11-12T12:29:01.277Z"
   },
   {
    "duration": 710,
    "start_time": "2022-11-12T12:29:28.243Z"
   },
   {
    "duration": 655,
    "start_time": "2022-11-12T12:29:36.973Z"
   },
   {
    "duration": 647,
    "start_time": "2022-11-12T12:29:46.307Z"
   },
   {
    "duration": 717,
    "start_time": "2022-11-12T12:30:00.674Z"
   },
   {
    "duration": 515,
    "start_time": "2022-11-12T12:34:22.040Z"
   },
   {
    "duration": 11,
    "start_time": "2022-11-12T12:34:40.444Z"
   },
   {
    "duration": 5,
    "start_time": "2022-11-12T12:38:31.152Z"
   },
   {
    "duration": 10,
    "start_time": "2022-11-12T12:39:05.198Z"
   },
   {
    "duration": 634,
    "start_time": "2022-11-12T12:39:17.522Z"
   },
   {
    "duration": 11,
    "start_time": "2022-11-12T12:39:29.098Z"
   },
   {
    "duration": 1362,
    "start_time": "2022-11-12T13:04:43.607Z"
   },
   {
    "duration": 50,
    "start_time": "2022-11-12T13:04:44.970Z"
   },
   {
    "duration": 3,
    "start_time": "2022-11-12T13:04:45.022Z"
   },
   {
    "duration": 18,
    "start_time": "2022-11-12T13:04:45.027Z"
   },
   {
    "duration": 33,
    "start_time": "2022-11-12T13:04:45.047Z"
   },
   {
    "duration": 3,
    "start_time": "2022-11-12T13:04:45.081Z"
   },
   {
    "duration": 23,
    "start_time": "2022-11-12T13:04:45.085Z"
   },
   {
    "duration": 21,
    "start_time": "2022-11-12T13:04:45.110Z"
   },
   {
    "duration": 5,
    "start_time": "2022-11-12T13:04:45.133Z"
   },
   {
    "duration": 16,
    "start_time": "2022-11-12T13:04:45.141Z"
   },
   {
    "duration": 7,
    "start_time": "2022-11-12T13:04:45.158Z"
   },
   {
    "duration": 22,
    "start_time": "2022-11-12T13:04:45.166Z"
   },
   {
    "duration": 4,
    "start_time": "2022-11-12T13:04:45.189Z"
   },
   {
    "duration": 9,
    "start_time": "2022-11-12T13:04:45.194Z"
   },
   {
    "duration": 10,
    "start_time": "2022-11-12T13:04:45.205Z"
   },
   {
    "duration": 7,
    "start_time": "2022-11-12T13:04:45.216Z"
   },
   {
    "duration": 28,
    "start_time": "2022-11-12T13:04:45.224Z"
   },
   {
    "duration": 9,
    "start_time": "2022-11-12T13:04:45.254Z"
   },
   {
    "duration": 7,
    "start_time": "2022-11-12T13:04:45.265Z"
   },
   {
    "duration": 16,
    "start_time": "2022-11-12T13:04:45.273Z"
   },
   {
    "duration": 20,
    "start_time": "2022-11-12T13:04:45.291Z"
   },
   {
    "duration": 14,
    "start_time": "2022-11-12T13:04:45.313Z"
   },
   {
    "duration": 30,
    "start_time": "2022-11-12T13:04:45.329Z"
   },
   {
    "duration": 5,
    "start_time": "2022-11-12T13:04:45.361Z"
   },
   {
    "duration": 780,
    "start_time": "2022-11-12T13:04:45.367Z"
   },
   {
    "duration": 101,
    "start_time": "2022-11-12T13:04:46.149Z"
   },
   {
    "duration": 6,
    "start_time": "2022-11-12T13:04:46.252Z"
   },
   {
    "duration": 144,
    "start_time": "2022-11-12T13:04:46.262Z"
   },
   {
    "duration": 6,
    "start_time": "2022-11-12T13:04:46.408Z"
   },
   {
    "duration": 138,
    "start_time": "2022-11-12T13:04:46.416Z"
   },
   {
    "duration": 37,
    "start_time": "2022-11-12T13:04:46.556Z"
   },
   {
    "duration": 3,
    "start_time": "2022-11-12T13:04:46.595Z"
   },
   {
    "duration": 14,
    "start_time": "2022-11-12T13:04:46.600Z"
   },
   {
    "duration": 787,
    "start_time": "2022-11-12T13:04:46.616Z"
   },
   {
    "duration": 11,
    "start_time": "2022-11-12T13:04:47.404Z"
   },
   {
    "duration": 40,
    "start_time": "2022-11-12T13:04:47.417Z"
   },
   {
    "duration": 101,
    "start_time": "2022-11-12T13:04:47.546Z"
   },
   {
    "duration": 851,
    "start_time": "2022-11-12T13:04:47.649Z"
   },
   {
    "duration": 102974,
    "start_time": "2022-11-12T13:04:48.502Z"
   },
   {
    "duration": 71,
    "start_time": "2022-11-12T13:06:31.478Z"
   },
   {
    "duration": 295,
    "start_time": "2022-11-12T13:06:31.551Z"
   },
   {
    "duration": 878,
    "start_time": "2022-11-12T13:06:31.847Z"
   },
   {
    "duration": 103434,
    "start_time": "2022-11-12T13:06:32.727Z"
   },
   {
    "duration": 85,
    "start_time": "2022-11-12T13:08:16.163Z"
   },
   {
    "duration": 106,
    "start_time": "2022-11-12T13:08:16.249Z"
   },
   {
    "duration": 1058,
    "start_time": "2022-11-12T13:08:16.357Z"
   },
   {
    "duration": 138918,
    "start_time": "2022-11-12T13:08:17.417Z"
   },
   {
    "duration": 109,
    "start_time": "2022-11-12T13:10:36.337Z"
   },
   {
    "duration": 103,
    "start_time": "2022-11-12T13:10:36.449Z"
   },
   {
    "duration": 493,
    "start_time": "2022-11-12T13:10:36.554Z"
   },
   {
    "duration": 58669,
    "start_time": "2022-11-12T13:10:37.049Z"
   },
   {
    "duration": 35,
    "start_time": "2022-11-12T13:11:35.720Z"
   },
   {
    "duration": 741,
    "start_time": "2022-11-12T13:11:35.850Z"
   },
   {
    "duration": 10,
    "start_time": "2022-11-12T13:11:36.592Z"
   },
   {
    "duration": 5,
    "start_time": "2022-11-12T13:11:36.604Z"
   },
   {
    "duration": 10,
    "start_time": "2022-11-12T13:11:36.611Z"
   },
   {
    "duration": 655,
    "start_time": "2022-11-12T13:11:36.622Z"
   },
   {
    "duration": 10,
    "start_time": "2022-11-12T13:11:37.279Z"
   },
   {
    "duration": 4,
    "start_time": "2022-11-12T13:11:37.291Z"
   },
   {
    "duration": 1607,
    "start_time": "2022-11-13T05:41:40.659Z"
   },
   {
    "duration": 184,
    "start_time": "2022-11-13T05:41:42.269Z"
   },
   {
    "duration": 4,
    "start_time": "2022-11-13T05:41:42.454Z"
   },
   {
    "duration": 33,
    "start_time": "2022-11-13T05:41:42.460Z"
   },
   {
    "duration": 38,
    "start_time": "2022-11-13T05:41:42.494Z"
   },
   {
    "duration": 3,
    "start_time": "2022-11-13T05:41:42.534Z"
   },
   {
    "duration": 10,
    "start_time": "2022-11-13T05:41:42.539Z"
   },
   {
    "duration": 14,
    "start_time": "2022-11-13T05:41:42.550Z"
   },
   {
    "duration": 6,
    "start_time": "2022-11-13T05:41:42.565Z"
   },
   {
    "duration": 13,
    "start_time": "2022-11-13T05:41:42.574Z"
   },
   {
    "duration": 8,
    "start_time": "2022-11-13T05:41:42.589Z"
   },
   {
    "duration": 18,
    "start_time": "2022-11-13T05:41:42.620Z"
   },
   {
    "duration": 3,
    "start_time": "2022-11-13T05:41:42.640Z"
   },
   {
    "duration": 10,
    "start_time": "2022-11-13T05:41:42.645Z"
   },
   {
    "duration": 10,
    "start_time": "2022-11-13T05:41:42.656Z"
   },
   {
    "duration": 4,
    "start_time": "2022-11-13T05:41:42.667Z"
   },
   {
    "duration": 14,
    "start_time": "2022-11-13T05:41:42.672Z"
   },
   {
    "duration": 19,
    "start_time": "2022-11-13T05:41:42.687Z"
   },
   {
    "duration": 11,
    "start_time": "2022-11-13T05:41:42.708Z"
   },
   {
    "duration": 7,
    "start_time": "2022-11-13T05:41:42.721Z"
   },
   {
    "duration": 17,
    "start_time": "2022-11-13T05:41:42.730Z"
   },
   {
    "duration": 15,
    "start_time": "2022-11-13T05:41:42.749Z"
   },
   {
    "duration": 15,
    "start_time": "2022-11-13T05:41:42.765Z"
   },
   {
    "duration": 10,
    "start_time": "2022-11-13T05:41:42.782Z"
   },
   {
    "duration": 734,
    "start_time": "2022-11-13T05:41:42.819Z"
   },
   {
    "duration": 66,
    "start_time": "2022-11-13T05:41:43.555Z"
   },
   {
    "duration": 105,
    "start_time": "2022-11-13T05:41:43.622Z"
   },
   {
    "duration": 138,
    "start_time": "2022-11-13T05:41:43.730Z"
   },
   {
    "duration": 6,
    "start_time": "2022-11-13T05:41:43.869Z"
   },
   {
    "duration": 136,
    "start_time": "2022-11-13T05:41:43.876Z"
   },
   {
    "duration": 40,
    "start_time": "2022-11-13T05:41:44.014Z"
   },
   {
    "duration": 3,
    "start_time": "2022-11-13T05:41:44.056Z"
   },
   {
    "duration": 15,
    "start_time": "2022-11-13T05:41:44.061Z"
   },
   {
    "duration": 763,
    "start_time": "2022-11-13T05:41:44.078Z"
   },
   {
    "duration": 11,
    "start_time": "2022-11-13T05:41:44.843Z"
   },
   {
    "duration": 68,
    "start_time": "2022-11-13T05:41:44.856Z"
   },
   {
    "duration": 106,
    "start_time": "2022-11-13T05:41:44.926Z"
   },
   {
    "duration": 893,
    "start_time": "2022-11-13T05:41:45.034Z"
   },
   {
    "duration": 106587,
    "start_time": "2022-11-13T05:41:45.929Z"
   },
   {
    "duration": 26,
    "start_time": "2022-11-13T05:43:32.518Z"
   },
   {
    "duration": 286,
    "start_time": "2022-11-13T05:43:32.620Z"
   },
   {
    "duration": 866,
    "start_time": "2022-11-13T05:43:32.908Z"
   },
   {
    "duration": 105301,
    "start_time": "2022-11-13T05:43:33.776Z"
   },
   {
    "duration": 47,
    "start_time": "2022-11-13T05:45:19.079Z"
   },
   {
    "duration": 97,
    "start_time": "2022-11-13T05:45:19.128Z"
   },
   {
    "duration": 1104,
    "start_time": "2022-11-13T05:45:19.227Z"
   },
   {
    "duration": 142603,
    "start_time": "2022-11-13T05:45:20.333Z"
   },
   {
    "duration": 85,
    "start_time": "2022-11-13T05:47:42.938Z"
   },
   {
    "duration": 103,
    "start_time": "2022-11-13T05:47:43.025Z"
   },
   {
    "duration": 493,
    "start_time": "2022-11-13T05:47:43.130Z"
   },
   {
    "duration": 61161,
    "start_time": "2022-11-13T05:47:43.624Z"
   },
   {
    "duration": 40,
    "start_time": "2022-11-13T05:48:44.791Z"
   },
   {
    "duration": 751,
    "start_time": "2022-11-13T05:48:44.920Z"
   },
   {
    "duration": 10,
    "start_time": "2022-11-13T05:48:45.673Z"
   },
   {
    "duration": 8,
    "start_time": "2022-11-13T05:48:45.684Z"
   },
   {
    "duration": 26,
    "start_time": "2022-11-13T05:48:45.693Z"
   },
   {
    "duration": 671,
    "start_time": "2022-11-13T05:48:45.721Z"
   },
   {
    "duration": 13,
    "start_time": "2022-11-13T05:48:46.394Z"
   },
   {
    "duration": 6,
    "start_time": "2022-11-13T05:48:46.420Z"
   },
   {
    "duration": 122,
    "start_time": "2022-11-17T09:32:25.613Z"
   },
   {
    "duration": 1553,
    "start_time": "2022-11-17T09:32:39.157Z"
   },
   {
    "duration": 88,
    "start_time": "2022-11-17T09:32:40.712Z"
   },
   {
    "duration": 5,
    "start_time": "2022-11-17T09:32:40.802Z"
   },
   {
    "duration": 18,
    "start_time": "2022-11-17T09:32:40.809Z"
   },
   {
    "duration": 37,
    "start_time": "2022-11-17T09:32:40.829Z"
   },
   {
    "duration": 4,
    "start_time": "2022-11-17T09:32:40.878Z"
   },
   {
    "duration": 8,
    "start_time": "2022-11-17T09:32:40.883Z"
   },
   {
    "duration": 17,
    "start_time": "2022-11-17T09:32:40.893Z"
   },
   {
    "duration": 7,
    "start_time": "2022-11-17T09:32:40.911Z"
   },
   {
    "duration": 21,
    "start_time": "2022-11-17T09:32:40.920Z"
   },
   {
    "duration": 22,
    "start_time": "2022-11-17T09:32:40.942Z"
   },
   {
    "duration": 48,
    "start_time": "2022-11-17T09:32:40.965Z"
   },
   {
    "duration": 19,
    "start_time": "2022-11-17T09:32:41.015Z"
   },
   {
    "duration": 14,
    "start_time": "2022-11-17T09:32:41.036Z"
   },
   {
    "duration": 21,
    "start_time": "2022-11-17T09:32:41.052Z"
   },
   {
    "duration": 9,
    "start_time": "2022-11-17T09:32:41.075Z"
   },
   {
    "duration": 19,
    "start_time": "2022-11-17T09:32:41.086Z"
   },
   {
    "duration": 28,
    "start_time": "2022-11-17T09:32:41.107Z"
   },
   {
    "duration": 13,
    "start_time": "2022-11-17T09:32:41.136Z"
   },
   {
    "duration": 22,
    "start_time": "2022-11-17T09:32:41.150Z"
   },
   {
    "duration": 50,
    "start_time": "2022-11-17T09:32:41.173Z"
   },
   {
    "duration": 15,
    "start_time": "2022-11-17T09:32:41.225Z"
   },
   {
    "duration": 15,
    "start_time": "2022-11-17T09:32:41.241Z"
   },
   {
    "duration": 5,
    "start_time": "2022-11-17T09:32:41.257Z"
   },
   {
    "duration": 718,
    "start_time": "2022-11-17T09:32:41.263Z"
   },
   {
    "duration": 95,
    "start_time": "2022-11-17T09:32:41.983Z"
   },
   {
    "duration": 102,
    "start_time": "2022-11-17T09:32:42.083Z"
   },
   {
    "duration": 148,
    "start_time": "2022-11-17T09:32:42.188Z"
   },
   {
    "duration": 6,
    "start_time": "2022-11-17T09:32:42.338Z"
   },
   {
    "duration": 128,
    "start_time": "2022-11-17T09:32:42.345Z"
   },
   {
    "duration": 35,
    "start_time": "2022-11-17T09:32:42.477Z"
   },
   {
    "duration": 3,
    "start_time": "2022-11-17T09:32:42.514Z"
   },
   {
    "duration": 14,
    "start_time": "2022-11-17T09:32:42.519Z"
   },
   {
    "duration": 745,
    "start_time": "2022-11-17T09:32:42.535Z"
   },
   {
    "duration": 11,
    "start_time": "2022-11-17T09:32:43.282Z"
   },
   {
    "duration": 92,
    "start_time": "2022-11-17T09:32:43.295Z"
   },
   {
    "duration": 100,
    "start_time": "2022-11-17T09:32:43.479Z"
   },
   {
    "duration": 944,
    "start_time": "2022-11-17T09:32:43.580Z"
   },
   {
    "duration": 103985,
    "start_time": "2022-11-17T09:32:44.525Z"
   },
   {
    "duration": 68,
    "start_time": "2022-11-17T09:34:28.512Z"
   },
   {
    "duration": 277,
    "start_time": "2022-11-17T09:34:28.582Z"
   },
   {
    "duration": 811,
    "start_time": "2022-11-17T09:34:28.860Z"
   },
   {
    "duration": 106158,
    "start_time": "2022-11-17T09:34:29.673Z"
   },
   {
    "duration": 149,
    "start_time": "2022-11-17T09:36:15.833Z"
   },
   {
    "duration": 14,
    "start_time": "2022-11-17T09:36:15.984Z"
   },
   {
    "duration": 1111,
    "start_time": "2022-11-17T09:36:16.000Z"
   },
   {
    "duration": 140412,
    "start_time": "2022-11-17T09:36:17.113Z"
   },
   {
    "duration": 60,
    "start_time": "2022-11-17T09:38:37.527Z"
   },
   {
    "duration": 101,
    "start_time": "2022-11-17T09:38:37.588Z"
   },
   {
    "duration": 533,
    "start_time": "2022-11-17T09:38:37.691Z"
   },
   {
    "duration": 59340,
    "start_time": "2022-11-17T09:38:38.225Z"
   },
   {
    "duration": 116,
    "start_time": "2022-11-17T09:39:37.567Z"
   },
   {
    "duration": 775,
    "start_time": "2022-11-17T09:39:37.685Z"
   },
   {
    "duration": 19,
    "start_time": "2022-11-17T09:39:38.461Z"
   },
   {
    "duration": 18,
    "start_time": "2022-11-17T09:39:38.482Z"
   },
   {
    "duration": 17,
    "start_time": "2022-11-17T09:39:38.501Z"
   },
   {
    "duration": 679,
    "start_time": "2022-11-17T09:39:38.519Z"
   },
   {
    "duration": 10,
    "start_time": "2022-11-17T09:39:39.200Z"
   },
   {
    "duration": 13,
    "start_time": "2022-11-17T09:39:39.212Z"
   }
  ],
  "kernelspec": {
   "display_name": "Python 3",
   "language": "python",
   "name": "python3"
  },
  "language_info": {
   "codemirror_mode": {
    "name": "ipython",
    "version": 3
   },
   "file_extension": ".py",
   "mimetype": "text/x-python",
   "name": "python",
   "nbconvert_exporter": "python",
   "pygments_lexer": "ipython3",
   "version": "3.9.1"
  },
  "toc": {
   "base_numbering": 1,
   "nav_menu": {},
   "number_sections": true,
   "sideBar": true,
   "skip_h1_title": true,
   "title_cell": "Содержание",
   "title_sidebar": "Contents",
   "toc_cell": true,
   "toc_position": {
    "height": "calc(100% - 180px)",
    "left": "10px",
    "top": "150px",
    "width": "293.188px"
   },
   "toc_section_display": true,
   "toc_window_display": true
  },
  "vscode": {
   "interpreter": {
    "hash": "aee8b7b246df8f9039afb4144a1f6fd8d2ca17a180786b69acc140d282b71a49"
   }
  }
 },
 "nbformat": 4,
 "nbformat_minor": 2
}
